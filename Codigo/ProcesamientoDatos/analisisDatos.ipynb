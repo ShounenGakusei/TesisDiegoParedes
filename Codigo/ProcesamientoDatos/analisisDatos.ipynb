{
 "cells": [
  {
   "cell_type": "code",
   "execution_count": 1,
   "id": "54a30443",
   "metadata": {},
   "outputs": [],
   "source": [
    "#Leer imagenes satelitales (.nc)\n",
    "from netCDF4 import Dataset, num2date\n",
    "\n",
    "#Graficos y visualizaciones\n",
    "import cartopy.crs as ccrs\n",
    "import cartopy.feature as cf\n",
    "import matplotlib.pyplot as plt\n",
    "\n",
    "#Liberias estandar\n",
    "import pandas as pd\n",
    "import re\n",
    "import numpy as np\n",
    "import time\n",
    "import os"
   ]
  },
  {
   "cell_type": "code",
   "execution_count": 2,
   "id": "c592d703",
   "metadata": {},
   "outputs": [],
   "source": [
    "\"\"\"\n",
    "DEFINIMOS EL PATH DEL PROYECTO \n",
    "\"\"\"\n",
    "path_base = 'C:/Users/Shounen/Desktop/Ciclo XI/Tesis 2/GPUTesis'"
   ]
  },
  {
   "cell_type": "code",
   "execution_count": 3,
   "id": "aa9f4f72",
   "metadata": {},
   "outputs": [
    {
     "data": {
      "text/plain": [
       "'\\nMetodos para realizar las estadisticas de los datos de precipitacion\\n'"
      ]
     },
     "execution_count": 3,
     "metadata": {},
     "output_type": "execute_result"
    }
   ],
   "source": [
    "\"\"\"\n",
    "Metodos para realizar las estadisticas de los datos de precipitacion\n",
    "\"\"\""
   ]
  },
  {
   "cell_type": "code",
   "execution_count": 4,
   "id": "3e087c3e",
   "metadata": {},
   "outputs": [],
   "source": [
    "#Convierte una fecha de formato year-month-day-hour en un numero\n",
    "def fechaInt(fechaStr):\n",
    "    x = fechaStr.split('-')\n",
    "    year = x[0][2:]\n",
    "    return (int(year)*1000000) + (int(x[1])*10000)  + (int(x[2])*100) + int(x[3])"
   ]
  },
  {
   "cell_type": "code",
   "execution_count": 5,
   "id": "5717f958",
   "metadata": {},
   "outputs": [],
   "source": [
    "#Realiza un grafico de dispersion (Tipo = 1) o boxplit (Tipo = 2)\n",
    "def Grafico(df,filename,tipo):    \n",
    "    x = df.index\n",
    "    y = df['dato']   \n",
    "    \n",
    "    if tipo==1:\n",
    "        plt.clf()\n",
    "        plt.scatter(x=x,y=y, alpha=0.1)\n",
    "    if tipo==2:\n",
    "        plt.clf()\n",
    "        plt.boxplot(x=y)\n",
    "        \n",
    "    plt.xlabel(\"Indices\")\n",
    "    plt.ylabel(\"Precipitacion (mm/h)\")\n",
    "    plt.title(f\"{filename.split('/')[-1][:-4]}\")\n",
    "    plt.axhline(y=y.quantile(0.99), color='r', linestyle='-')\n",
    "    \n",
    "    plt.savefig(filename)\n",
    "    plt.clf()\n",
    "    #plt.show()\n",
    "\n",
    "    return True"
   ]
  },
  {
   "cell_type": "code",
   "execution_count": 6,
   "id": "c9737acc",
   "metadata": {},
   "outputs": [],
   "source": [
    "#Elimina los vamos no alfanumericos de un string \n",
    "def quitaNoAlfaNum(texto):\n",
    "    import re\n",
    "    texto = texto.replace(' ',\"\")\n",
    "    return re.compile(r'\\W+', re.UNICODE).split(texto)"
   ]
  },
  {
   "cell_type": "code",
   "execution_count": 7,
   "id": "ebf2ea41",
   "metadata": {},
   "outputs": [],
   "source": [
    "#Por cada estacion se hallara:\n",
    "#- Cantidad de datos,- Promedio,- Varianza,- Valor min ,- Valor max\n",
    "#- Fecha minima,- Fecha Maxima,- Cantidad de datos atipicos (Mayores a 99%)\n",
    "#- Cantidad de NA,- Cantidad de ceros\n",
    "\n",
    "#Graficos\n",
    "#- Boxplot,- Dispersion\n",
    "def resumenStats(path_base,estacionesF,datosF,year,grafico=0):\n",
    "    stations = pd.read_csv(estacionesF)\n",
    "    datos = pd.read_csv(datosF,encoding='latin-1')    \n",
    "    #Creamos la carpeta plots para los graficos\n",
    "    try:\n",
    "        path = os.path.join(f'{path_base}', 'Reportes')\n",
    "        os.mkdir(path)        \n",
    "    except FileExistsError:\n",
    "        pass\n",
    "    \n",
    "    start_time = time.time() \n",
    "    resultado = []\n",
    "    \n",
    "    #Auxiliares    \n",
    "    total = len(stations.index)\n",
    "    completados = 1 \n",
    "    \n",
    "    #Por cada estacion se realizara lso graficos\n",
    "    for i in stations.index:    \n",
    "        station = stations['ESTACION'][i]\n",
    "        code = stations['CODE'][i]\n",
    "        LON = stations['LON'][i]\n",
    "        LAT = stations['LAT'][i]\n",
    "        ALT = stations['ALT'][i]\n",
    "        \n",
    "        \n",
    "\n",
    "\n",
    "        tempDato = datos.loc[datos['NOMBRE']==station]    \n",
    "        cantNA = tempDato.loc[tempDato['PRECIPITACION'].isna()].count()[0]\n",
    "\n",
    "        #Eliminamos todos los NA antes de realizar las estadisticas        \n",
    "        tempDato = tempDato.dropna(axis='index',subset=['PRECIPITACION'])   \n",
    "        \n",
    "        #Eliminamos los valores valores mayor a 1k o menor a 1k\n",
    "        tempDato = tempDato[tempDato['PRECIPITACION']<=100]\n",
    "        tempDato = tempDato[tempDato['PRECIPITACION']>=0]\n",
    "\n",
    "\n",
    "        stats = tempDato['PRECIPITACION'].describe()\n",
    "        stats = stats.to_dict()    \n",
    "        fmin = tempDato['FECHA'].min()\n",
    "        fmax = tempDato['FECHA'].max()    \n",
    "        stats['FechaMax'] = fmax\n",
    "        stats['count'] = int(stats['count'])\n",
    "        stats['FechaMin'] = fmin    \n",
    "        stats['Nombre'] = station\n",
    "        stats['Codigo'] = code\n",
    "        stats['ceros'] = tempDato.loc[tempDato['PRECIPITACION']==0].count()[0]\n",
    "        stats['NA'] = cantNA\n",
    "\n",
    "\n",
    "        stats['75mayor'] = tempDato.loc[tempDato['PRECIPITACION']>stats['75%']].count()[0]\n",
    "        stats['90mayor'] = tempDato.loc[tempDato['PRECIPITACION']>tempDato['PRECIPITACION'].quantile(0.90)].count()[0]\n",
    "        stats['90%'] =  tempDato['PRECIPITACION'].quantile(0.90)\n",
    "        stats['99mayor'] = tempDato.loc[tempDato['PRECIPITACION']>tempDato['PRECIPITACION'].quantile(0.99)].count()[0]\n",
    "        stats['99%'] =  tempDato['PRECIPITACION'].quantile(0.99)\n",
    "        stats['LON'] = LON\n",
    "        stats['LAT'] = LAT\n",
    "        stats['ALT'] = ALT\n",
    "        resultado.append(stats)\n",
    "        \n",
    "        if grafico:\n",
    "            Grafico(tempDato,f'{path_plot}/{code}_scatter.png',1)   \n",
    "            Grafico(tempDato,f'{path_plot}/{code}_box.png',2)   \n",
    "        \n",
    "        completados = completados +1\n",
    "        if not completados % 50:\n",
    "            progreso = completados/total*100\n",
    "            f = '{0:.3g}'.format(progreso)\n",
    "            print(f\"Procesando - {f}%\")\n",
    "            \n",
    "\n",
    "    print(\"Time taken: %.2fs\" % (time.time() - start_time)) \n",
    "    \n",
    "    #Borramos las estaciones que no tengan datos\n",
    "    df = pd.DataFrame(resultado)\n",
    "    df = df[df['count']!=0]\n",
    "\n",
    "    #Guardamso las estadisticas\n",
    "    df = df.astype({\"count\":int})\n",
    "    df.to_csv(f'{path_base}/Archivos/Reportes/analisis_{year}.csv',index=False)\n",
    "\n",
    "    return resultado\n"
   ]
  },
  {
   "cell_type": "code",
   "execution_count": 8,
   "id": "18918dce",
   "metadata": {},
   "outputs": [],
   "source": [
    "listaFases = [\n",
    "    'ND',    'C0000001',    'M0000001',    'M0000001, M0110302' ,    'M0110302',\n",
    "    'D0210301',    'D0210302',    'D0210303',    'D0210304',    'D0220301',\n",
    "    'D0230301',    'D0230302',    'D0230303',    'D0230304',    'C0000002',\n",
    "    'DIM00001',    'M0000002'\n",
    "]\n",
    "dfFases = pd.DataFrame({'FLAG' : listaFases})\n",
    "dfFases = dfFases.reset_index().set_index('FLAG')"
   ]
  },
  {
   "cell_type": "code",
   "execution_count": 20,
   "id": "25b032d8",
   "metadata": {},
   "outputs": [
    {
     "data": {
      "text/plain": [
       "'\\nRealizamos las metricas por estacionara cada archivo (año)\\n'"
      ]
     },
     "execution_count": 20,
     "metadata": {},
     "output_type": "execute_result"
    }
   ],
   "source": [
    "\"\"\"\n",
    "Realizamos las metricas por estacionara cada archivo (año)\n",
    "\"\"\""
   ]
  },
  {
   "cell_type": "code",
   "execution_count": 15,
   "id": "19a35690",
   "metadata": {},
   "outputs": [],
   "source": [
    "Festaciones = f'{path_base}/Archivos/Inicial/estaciones.csv'\n",
    "Fdatos2021 = f'{path_base}/Archivos/Inicial/REPORTE_SGD_2021.csv'\n",
    "Fdatos2020 = f'{path_base}/Archivos/Inicial/REPORTE_SGD_2020.csv'\n",
    "\n",
    "#Eliminan malos en Etapa 1\n",
    "eliminarFG = [0,2,3,4]"
   ]
  },
  {
   "cell_type": "code",
   "execution_count": 44,
   "id": "21edcdd4",
   "metadata": {},
   "outputs": [
    {
     "data": {
      "text/html": [
       "<div>\n",
       "<style scoped>\n",
       "    .dataframe tbody tr th:only-of-type {\n",
       "        vertical-align: middle;\n",
       "    }\n",
       "\n",
       "    .dataframe tbody tr th {\n",
       "        vertical-align: top;\n",
       "    }\n",
       "\n",
       "    .dataframe thead th {\n",
       "        text-align: right;\n",
       "    }\n",
       "</style>\n",
       "<table border=\"1\" class=\"dataframe\">\n",
       "  <thead>\n",
       "    <tr style=\"text-align: right;\">\n",
       "      <th></th>\n",
       "      <th>FLAG</th>\n",
       "      <th>Cantidad</th>\n",
       "      <th>Fase</th>\n",
       "    </tr>\n",
       "  </thead>\n",
       "  <tbody>\n",
       "    <tr>\n",
       "      <th>0</th>\n",
       "      <td>C0000001</td>\n",
       "      <td>1139616</td>\n",
       "      <td>1</td>\n",
       "    </tr>\n",
       "    <tr>\n",
       "      <th>2</th>\n",
       "      <td>D0220301</td>\n",
       "      <td>10402</td>\n",
       "      <td>9</td>\n",
       "    </tr>\n",
       "    <tr>\n",
       "      <th>3</th>\n",
       "      <td>D0230301</td>\n",
       "      <td>8883</td>\n",
       "      <td>10</td>\n",
       "    </tr>\n",
       "    <tr>\n",
       "      <th>4</th>\n",
       "      <td>D0230303</td>\n",
       "      <td>14632</td>\n",
       "      <td>12</td>\n",
       "    </tr>\n",
       "    <tr>\n",
       "      <th>1</th>\n",
       "      <td>C0000002</td>\n",
       "      <td>4588</td>\n",
       "      <td>14</td>\n",
       "    </tr>\n",
       "    <tr>\n",
       "      <th>5</th>\n",
       "      <td>DIM00001</td>\n",
       "      <td>2</td>\n",
       "      <td>15</td>\n",
       "    </tr>\n",
       "    <tr>\n",
       "      <th>8</th>\n",
       "      <td>M0000002</td>\n",
       "      <td>133</td>\n",
       "      <td>16</td>\n",
       "    </tr>\n",
       "  </tbody>\n",
       "</table>\n",
       "</div>"
      ],
      "text/plain": [
       "       FLAG  Cantidad  Fase\n",
       "0  C0000001   1139616     1\n",
       "2  D0220301     10402     9\n",
       "3  D0230301      8883    10\n",
       "4  D0230303     14632    12\n",
       "1  C0000002      4588    14\n",
       "5  DIM00001         2    15\n",
       "8  M0000002       133    16"
      ]
     },
     "execution_count": 44,
     "metadata": {},
     "output_type": "execute_result"
    }
   ],
   "source": [
    "#Revisamos la cantidad de datos por flag\n",
    "#Año 2020\n",
    "dfFlags20 = pd.read_csv(Fdatos2020,encoding='latin-1')\n",
    "flagsDF20 = dfFlags20.groupby(['FLAG'], dropna = False).size().reset_index(name='Cantidad')\n",
    "flagsDF20['Fase'] = flagsDF20['FLAG'].map(dfFases['index'])\n",
    "flagsDF20 = flagsDF20.sort_values(by=['Fase'])\n",
    "\n",
    "#Quitamos los flag 'M...' y 'ND'\n",
    "noND20 = flagsDF20[~flagsDF20['Fase'].isin(eliminarFG)]\n",
    "noND20\n"
   ]
  },
  {
   "cell_type": "code",
   "execution_count": 45,
   "id": "12883419",
   "metadata": {},
   "outputs": [
    {
     "data": {
      "text/html": [
       "<div>\n",
       "<style scoped>\n",
       "    .dataframe tbody tr th:only-of-type {\n",
       "        vertical-align: middle;\n",
       "    }\n",
       "\n",
       "    .dataframe tbody tr th {\n",
       "        vertical-align: top;\n",
       "    }\n",
       "\n",
       "    .dataframe thead th {\n",
       "        text-align: right;\n",
       "    }\n",
       "</style>\n",
       "<table border=\"1\" class=\"dataframe\">\n",
       "  <thead>\n",
       "    <tr style=\"text-align: right;\">\n",
       "      <th></th>\n",
       "      <th>FLAG</th>\n",
       "      <th>Cantidad</th>\n",
       "      <th>Fase</th>\n",
       "    </tr>\n",
       "  </thead>\n",
       "  <tbody>\n",
       "    <tr>\n",
       "      <th>0</th>\n",
       "      <td>C0000001</td>\n",
       "      <td>1738257</td>\n",
       "      <td>1</td>\n",
       "    </tr>\n",
       "    <tr>\n",
       "      <th>2</th>\n",
       "      <td>D0220301</td>\n",
       "      <td>14342</td>\n",
       "      <td>9</td>\n",
       "    </tr>\n",
       "    <tr>\n",
       "      <th>3</th>\n",
       "      <td>D0230301</td>\n",
       "      <td>12557</td>\n",
       "      <td>10</td>\n",
       "    </tr>\n",
       "    <tr>\n",
       "      <th>4</th>\n",
       "      <td>D0230303</td>\n",
       "      <td>11194</td>\n",
       "      <td>12</td>\n",
       "    </tr>\n",
       "    <tr>\n",
       "      <th>1</th>\n",
       "      <td>C0000002</td>\n",
       "      <td>53776</td>\n",
       "      <td>14</td>\n",
       "    </tr>\n",
       "    <tr>\n",
       "      <th>7</th>\n",
       "      <td>M0000002</td>\n",
       "      <td>8414</td>\n",
       "      <td>16</td>\n",
       "    </tr>\n",
       "  </tbody>\n",
       "</table>\n",
       "</div>"
      ],
      "text/plain": [
       "       FLAG  Cantidad  Fase\n",
       "0  C0000001   1738257     1\n",
       "2  D0220301     14342     9\n",
       "3  D0230301     12557    10\n",
       "4  D0230303     11194    12\n",
       "1  C0000002     53776    14\n",
       "7  M0000002      8414    16"
      ]
     },
     "execution_count": 45,
     "metadata": {},
     "output_type": "execute_result"
    }
   ],
   "source": [
    "#Revisamos la cantidad de datos por flag\n",
    "#Año 2021\n",
    "valores2021 = 'C:/Users/Shounen/Desktop/Ciclo XI/Tesis 2/SENAMHI/Datasets/REPORTE_SGD_2021.csv'\n",
    "dfFlags21 = pd.read_csv(Fdatos2021,encoding='latin-1')\n",
    "flagsDF21 = dfFlags21.groupby(['FLAG'], dropna = False).size().reset_index(name='Cantidad')\n",
    "flagsDF21['Fase'] = flagsDF21['FLAG'].map(dfFases['index'])\n",
    "flagsDF21 = flagsDF21.sort_values(by=['Fase'])\n",
    "\n",
    "#Quitamos los flag 'M...' y 'ND'\n",
    "noND21 = flagsDF21[~flagsDF21['Fase'].isin(eliminarFG)]\n",
    "noND21"
   ]
  },
  {
   "cell_type": "code",
   "execution_count": 50,
   "id": "fa4414a6",
   "metadata": {},
   "outputs": [
    {
     "data": {
      "image/png": "[encoded data removed]",
      "text/plain": [
       "<Figure size 432x288 with 1 Axes>"
      ]
     },
     "metadata": {
      "needs_background": "light"
     },
     "output_type": "display_data"
    }
   ],
   "source": [
    "#Graficamos los FLAGS\n",
    "ejeX = dfFases[~dfFases['index'].isin(eliminarFG)]\n",
    "\n",
    "ejeY = ejeX.merge(noND20, on='FLAG', how='left')\n",
    "ejeY = ejeY.merge(noND21, on='FLAG',suffixes=('_20', '_21'))\n",
    "\n",
    "\n",
    "fig, ax = plt.subplots()\n",
    "\n",
    "ax.plot(ejeY['FLAG'], ejeY['Cantidad_20']/1000, color = 'tab:purple', label=\"2020\")\n",
    "ax.plot(ejeY['FLAG'], ejeY['Cantidad_21']/1000, color = 'tab:green', label=\"2021\")\n",
    "plt.legend(loc=\"upper center\")\n",
    "plt.show()"
   ]
  },
  {
   "cell_type": "code",
   "execution_count": 51,
   "id": "0d9a3b33",
   "metadata": {},
   "outputs": [
    {
     "data": {
      "image/png": "[encoded data removed]",
      "text/plain": [
       "<Figure size 432x288 with 1 Axes>"
      ]
     },
     "metadata": {
      "needs_background": "light"
     },
     "output_type": "display_data"
    }
   ],
   "source": [
    "#Graficamos sin C000001\n",
    "fig, ax = plt.subplots()\n",
    "\n",
    "ejeY_noC1 = ejeY.drop(index=ejeY.index[0], axis=0)\n",
    "\n",
    "ax.plot(ejeY_noC1['FLAG'], ejeY_noC1['Cantidad_20'], color = 'tab:purple', label=\"2020\")\n",
    "ax.plot(ejeY_noC1['FLAG'], ejeY_noC1['Cantidad_21'], color = 'tab:green', label=\"2021\")\n",
    "plt.legend(loc=\"upper center\")\n",
    "plt.show()"
   ]
  },
  {
   "cell_type": "code",
   "execution_count": 87,
   "id": "9ac7b1b3",
   "metadata": {},
   "outputs": [
    {
     "data": {
      "text/plain": [
       "<AxesSubplot:>"
      ]
     },
     "execution_count": 87,
     "metadata": {},
     "output_type": "execute_result"
    },
    {
     "data": {
      "image/png": "[encoded data removed]",
      "text/plain": [
       "<Figure size 432x288 with 1 Axes>"
      ]
     },
     "metadata": {
      "needs_background": "light"
     },
     "output_type": "display_data"
    }
   ],
   "source": [
    "JoinDF = {}\n",
    "#JoinDF['DUDOSO-T1'] = [ejeY[ejeY['FLAG'].str.startswith('D')].loc[:,['Cantidad_20','Cantidad_21']].sum().sum()]\n",
    "#JoinDF['CONFORME-T2'] = [ejeY[ejeY['FLAG']=='C0000002'].loc[:,['Cantidad_20','Cantidad_21']].sum().sum()]\n",
    "JoinDF['DUDOSO-T2'] = [ejeY[ejeY['FLAG'].str.startswith('M')].loc[:,['Cantidad_20','Cantidad_21']].sum().sum()]\n",
    "#JoinDF['CONFORME-T1'] = [ejeY[ejeY['FLAG']=='C0000001'].loc[:,['Cantidad_20','Cantidad_21']].sum().sum()]\n",
    "JoinDF = pd.DataFrame(JoinDF)\n",
    "JoinDF.plot.bar()"
   ]
  },
  {
   "cell_type": "code",
   "execution_count": 90,
   "id": "1004e3cc",
   "metadata": {},
   "outputs": [
    {
     "data": {
      "text/html": [
       "<div>\n",
       "<style scoped>\n",
       "    .dataframe tbody tr th:only-of-type {\n",
       "        vertical-align: middle;\n",
       "    }\n",
       "\n",
       "    .dataframe tbody tr th {\n",
       "        vertical-align: top;\n",
       "    }\n",
       "\n",
       "    .dataframe thead th {\n",
       "        text-align: right;\n",
       "    }\n",
       "</style>\n",
       "<table border=\"1\" class=\"dataframe\">\n",
       "  <thead>\n",
       "    <tr style=\"text-align: right;\">\n",
       "      <th></th>\n",
       "      <th>FLAG</th>\n",
       "      <th>index</th>\n",
       "      <th>Cantidad_20</th>\n",
       "      <th>Fase_20</th>\n",
       "      <th>Cantidad_21</th>\n",
       "      <th>Fase_21</th>\n",
       "    </tr>\n",
       "  </thead>\n",
       "  <tbody>\n",
       "    <tr>\n",
       "      <th>5</th>\n",
       "      <td>M0000002</td>\n",
       "      <td>16</td>\n",
       "      <td>133.0</td>\n",
       "      <td>16.0</td>\n",
       "      <td>8414</td>\n",
       "      <td>16</td>\n",
       "    </tr>\n",
       "  </tbody>\n",
       "</table>\n",
       "</div>"
      ],
      "text/plain": [
       "       FLAG  index  Cantidad_20  Fase_20  Cantidad_21  Fase_21\n",
       "5  M0000002     16        133.0     16.0         8414       16"
      ]
     },
     "execution_count": 90,
     "metadata": {},
     "output_type": "execute_result"
    }
   ],
   "source": [
    "ejeY[ejeY['FLAG'].str.startswith('M')]"
   ]
  },
  {
   "cell_type": "code",
   "execution_count": 22,
   "id": "e9e73193",
   "metadata": {},
   "outputs": [
    {
     "name": "stdout",
     "output_type": "stream",
     "text": [
      "Procesando - 15.5%\n",
      "Procesando - 31%\n",
      "Procesando - 46.4%\n",
      "Procesando - 61.9%\n",
      "Procesando - 77.4%\n",
      "Procesando - 92.9%\n",
      "Time taken: 32.89s\n"
     ]
    }
   ],
   "source": [
    "#Realizaremos un resumen de los datos año 2021\n",
    "#Grafico 0 = NO GRAFICO\n",
    "#Grafico 1 = dispersion\n",
    "#Grafico 2 = boxPLot\n",
    "grafico = 0\n",
    "\n",
    "resultados = resumenStats(path_base,Festaciones,Fdatos2021,'2021',grafico)"
   ]
  },
  {
   "cell_type": "code",
   "execution_count": 23,
   "id": "d00c783c",
   "metadata": {},
   "outputs": [
    {
     "name": "stdout",
     "output_type": "stream",
     "text": [
      "Procesando - 15.5%\n",
      "Procesando - 31%\n",
      "Procesando - 46.4%\n",
      "Procesando - 61.9%\n",
      "Procesando - 77.4%\n",
      "Procesando - 92.9%\n",
      "Time taken: 22.36s\n"
     ]
    }
   ],
   "source": [
    "#Realizaremos un resumen de los datos año 2020\n",
    "#Grafico 0 = NO GRAFICO\n",
    "#Grafico 1 = dispersion\n",
    "#Grafico 2 = boxPLot\n",
    "grafico = 0\n",
    "\n",
    "resultados = resumenStats(path_base,Festaciones,Fdatos2020,'2020',grafico)"
   ]
  },
  {
   "cell_type": "code",
   "execution_count": null,
   "id": "47d2e1fd",
   "metadata": {},
   "outputs": [],
   "source": [
    "\"\"\"\n",
    "Se va escoger una muestra de estaciones\n",
    "usando el archivo de analisis 2021\n",
    "\"\"\""
   ]
  },
  {
   "cell_type": "code",
   "execution_count": 21,
   "id": "ac86f2cb",
   "metadata": {},
   "outputs": [],
   "source": [
    "Fanalisis20 = f'{path_base}/Archivos/Reportes/analisis_2020.csv'\n",
    "Fanalisis21 = f'{path_base}/Archivos/Reportes/analisis_2021.csv'"
   ]
  },
  {
   "cell_type": "code",
   "execution_count": 14,
   "id": "2074f6ef",
   "metadata": {},
   "outputs": [
    {
     "ename": "NameError",
     "evalue": "name 'Fanalisis21' is not defined",
     "output_type": "error",
     "traceback": [
      "\u001b[1;31m---------------------------------------------------------------------------\u001b[0m",
      "\u001b[1;31mNameError\u001b[0m                                 Traceback (most recent call last)",
      "Input \u001b[1;32mIn [14]\u001b[0m, in \u001b[0;36m<cell line: 1>\u001b[1;34m()\u001b[0m\n\u001b[1;32m----> 1\u001b[0m dfEstaciones21 \u001b[38;5;241m=\u001b[39m pd\u001b[38;5;241m.\u001b[39mread_csv(\u001b[43mFanalisis21\u001b[49m)\n\u001b[0;32m      2\u001b[0m dfEstaciones21 \u001b[38;5;241m=\u001b[39m dfEstaciones21\u001b[38;5;241m.\u001b[39msort_values(by\u001b[38;5;241m=\u001b[39m[\u001b[38;5;124m'\u001b[39m\u001b[38;5;124mmean\u001b[39m\u001b[38;5;124m'\u001b[39m,\u001b[38;5;124m'\u001b[39m\u001b[38;5;124mstd\u001b[39m\u001b[38;5;124m'\u001b[39m], ascending\u001b[38;5;241m=\u001b[39m\u001b[38;5;28;01mFalse\u001b[39;00m)\n",
      "\u001b[1;31mNameError\u001b[0m: name 'Fanalisis21' is not defined"
     ]
    }
   ],
   "source": [
    "dfEstaciones21 = pd.read_csv(Fanalisis21)\n",
    "dfEstaciones21 = dfEstaciones21.sort_values(by=['mean','std'], ascending=False)\n",
    "df20Estaciones21 = dfEstaciones21.head(20)\n",
    "df20Estaciones21.to_csv(f'{path_base}/Archivos/Reportes/20Estaciones.csv')\n",
    "df20Estaciones21.head(2)"
   ]
  },
  {
   "cell_type": "code",
   "execution_count": 59,
   "id": "e37376f1",
   "metadata": {},
   "outputs": [
    {
     "data": {
      "text/html": [
       "<div>\n",
       "<style scoped>\n",
       "    .dataframe tbody tr th:only-of-type {\n",
       "        vertical-align: middle;\n",
       "    }\n",
       "\n",
       "    .dataframe tbody tr th {\n",
       "        vertical-align: top;\n",
       "    }\n",
       "\n",
       "    .dataframe thead th {\n",
       "        text-align: right;\n",
       "    }\n",
       "</style>\n",
       "<table border=\"1\" class=\"dataframe\">\n",
       "  <thead>\n",
       "    <tr style=\"text-align: right;\">\n",
       "      <th></th>\n",
       "      <th>Unnamed: 0</th>\n",
       "      <th>nombre</th>\n",
       "      <th>codigo</th>\n",
       "      <th>XO</th>\n",
       "      <th>XA</th>\n",
       "      <th>longitud</th>\n",
       "      <th>latitud</th>\n",
       "      <th>altura</th>\n",
       "      <th>dato</th>\n",
       "      <th>90%</th>\n",
       "      <th>99%</th>\n",
       "      <th>75%</th>\n",
       "      <th>fecha</th>\n",
       "      <th>flag</th>\n",
       "    </tr>\n",
       "  </thead>\n",
       "  <tbody>\n",
       "    <tr>\n",
       "      <th>1101796</th>\n",
       "      <td>1101796</td>\n",
       "      <td>CAPACHIQUE</td>\n",
       "      <td>472EB1D2</td>\n",
       "      <td>291</td>\n",
       "      <td>513</td>\n",
       "      <td>-78.31184</td>\n",
       "      <td>-7.85642</td>\n",
       "      <td>2904.0</td>\n",
       "      <td>0.0</td>\n",
       "      <td>0.0</td>\n",
       "      <td>0.6</td>\n",
       "      <td>0.0</td>\n",
       "      <td>2021-12-01-01</td>\n",
       "      <td>C0000002</td>\n",
       "    </tr>\n",
       "    <tr>\n",
       "      <th>1101797</th>\n",
       "      <td>1101797</td>\n",
       "      <td>CAPACHIQUE</td>\n",
       "      <td>472EB1D2</td>\n",
       "      <td>291</td>\n",
       "      <td>513</td>\n",
       "      <td>-78.31184</td>\n",
       "      <td>-7.85642</td>\n",
       "      <td>2904.0</td>\n",
       "      <td>0.0</td>\n",
       "      <td>0.0</td>\n",
       "      <td>0.6</td>\n",
       "      <td>0.0</td>\n",
       "      <td>2021-12-01-02</td>\n",
       "      <td>C0000002</td>\n",
       "    </tr>\n",
       "  </tbody>\n",
       "</table>\n",
       "</div>"
      ],
      "text/plain": [
       "         Unnamed: 0      nombre    codigo   XO   XA  longitud  latitud  \\\n",
       "1101796     1101796  CAPACHIQUE  472EB1D2  291  513 -78.31184 -7.85642   \n",
       "1101797     1101797  CAPACHIQUE  472EB1D2  291  513 -78.31184 -7.85642   \n",
       "\n",
       "         altura  dato  90%  99%  75%          fecha      flag  \n",
       "1101796  2904.0   0.0  0.0  0.6  0.0  2021-12-01-01  C0000002  \n",
       "1101797  2904.0   0.0  0.0  0.6  0.0  2021-12-01-02  C0000002  "
      ]
     },
     "execution_count": 59,
     "metadata": {},
     "output_type": "execute_result"
    }
   ],
   "source": [
    "df_ds_1 = pd.read_csv(f'{path_base}/Archivos/Dataset/datasetMuestra.csv')\n",
    "df_ds_1 = df_ds_1[df_ds_1['flag'].isin(['C0000002'])]\n",
    "\n",
    "df_ds_2 = pd.read_csv(f'{path_base}/Archivos/Dataset/CLASE_TrainDS.csv')\n",
    "df_ds_2 = df_ds_2[df_ds_2['flag'].isin(['C0000002','M0000002'])]\n",
    "\n",
    "df_ds_1.head(2)"
   ]
  },
  {
   "cell_type": "code",
   "execution_count": 60,
   "id": "b31780cf",
   "metadata": {},
   "outputs": [
    {
     "data": {
      "text/plain": [
       "<AxesSubplot:>"
      ]
     },
     "execution_count": 60,
     "metadata": {},
     "output_type": "execute_result"
    },
    {
     "data": {
      "image/png": "[encoded data removed]",
      "text/plain": [
       "<Figure size 432x288 with 1 Axes>"
      ]
     },
     "metadata": {
      "needs_background": "light"
     },
     "output_type": "display_data"
    }
   ],
   "source": [
    "df_ds_1[df_ds_1['dato']!=0]['dato'].hist()"
   ]
  },
  {
   "cell_type": "code",
   "execution_count": null,
   "id": "2b8d2aef",
   "metadata": {},
   "outputs": [],
   "source": []
  },
  {
   "cell_type": "code",
   "execution_count": 55,
   "id": "aa55813f",
   "metadata": {},
   "outputs": [],
   "source": [
    "\n",
    "st = df_ds_1['codigo'].unique()"
   ]
  },
  {
   "cell_type": "code",
   "execution_count": 56,
   "id": "20c4749a",
   "metadata": {},
   "outputs": [],
   "source": [
    "dfSt = pd.DataFrame({'codigo':st})"
   ]
  },
  {
   "cell_type": "code",
   "execution_count": 57,
   "id": "e70be65c",
   "metadata": {},
   "outputs": [
    {
     "data": {
      "text/plain": [
       "187"
      ]
     },
     "execution_count": 57,
     "metadata": {},
     "output_type": "execute_result"
    }
   ],
   "source": [
    "len(dfSt)"
   ]
  },
  {
   "cell_type": "code",
   "execution_count": 58,
   "id": "55bfc61e",
   "metadata": {},
   "outputs": [
    {
     "data": {
      "image/png": "[encoded data removed]",
      "text/plain": [
       "<Figure size 432x288 with 1 Axes>"
      ]
     },
     "metadata": {
      "needs_background": "light"
     },
     "output_type": "display_data"
    }
   ],
   "source": [
    "#Leemos un dato de imagen satelital para obtener las coordenadas\n",
    "imagenTest = 'F:/GOES/C08/2021/01/G16_C08_Cyl_20210101-0020.nc'\n",
    "ds = Dataset(imagenTest)\n",
    "field = ds.variables['CMI'][:].data.astype(np.float32)/100.0\n",
    "\n",
    "# obtiene las coordenadas de los pixeles\n",
    "lons = ds.variables['longitude'][:].data\n",
    "lats = ds.variables['latitude'][:].data\n",
    "lons, lats = np.meshgrid(lons, lats)\n",
    "\n",
    "\n",
    "#Graficomos\n",
    "ax = plt.axes(projection=ccrs.PlateCarree())\n",
    "plt.title(f'DS_1 - Peru ({len(dfSt)} estaciones)')\n",
    "ax.set_extent([lons.min(), lons.max(), lats.min(),lats.max()], ccrs.PlateCarree())\n",
    "\n",
    "dfEstaciones = pd.read_csv(Festaciones)\n",
    "\n",
    "for x in dfSt.index:\n",
    "    st = dfEstaciones[dfEstaciones['CODE'] == f'X{dfSt[\"codigo\"][x]}']    \n",
    "    if not st.empty: \n",
    "        #print(st)\n",
    "        x = st['LON']#.iloc[0]\n",
    "        y = st['LAT']#.iloc[0]\n",
    "        plt.plot(x, y,  1, marker='o', color='red',alpha=0.45)    \n",
    "    \n",
    "ax.coastlines(resolution='110m')\n",
    "plt.savefig(f'{path_base}/Archivos/Reportes/MAPA_DS_01.png')\n",
    "plt.show()"
   ]
  },
  {
   "cell_type": "code",
   "execution_count": null,
   "id": "375c404c",
   "metadata": {},
   "outputs": [],
   "source": []
  }
 ],
 "metadata": {
  "kernelspec": {
   "display_name": "Python 3 (ipykernel)",
   "language": "python",
   "name": "python3"
  },
  "language_info": {
   "codemirror_mode": {
    "name": "ipython",
    "version": 3
   },
   "file_extension": ".py",
   "mimetype": "text/x-python",
   "name": "python",
   "nbconvert_exporter": "python",
   "pygments_lexer": "ipython3",
   "version": "3.9.11"
  }
 },
 "nbformat": 4,
 "nbformat_minor": 5
}
