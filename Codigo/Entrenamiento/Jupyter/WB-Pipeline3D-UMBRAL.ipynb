{
 "cells": [
  {
   "cell_type": "code",
   "execution_count": 1,
   "id": "4390427c",
   "metadata": {},
   "outputs": [],
   "source": [
    "#!pip uninstall visualkeras"
   ]
  },
  {
   "cell_type": "code",
   "execution_count": 2,
   "id": "0a785bae",
   "metadata": {},
   "outputs": [],
   "source": [
    "#!pip install scikit-learn"
   ]
  },
  {
   "cell_type": "code",
   "execution_count": 3,
   "id": "f61bb80e",
   "metadata": {},
   "outputs": [],
   "source": [
    "#!pip install tensorflow-gpu"
   ]
  },
  {
   "cell_type": "code",
   "execution_count": 4,
   "id": "10d75a45",
   "metadata": {},
   "outputs": [],
   "source": [
    "#!pip install pandas"
   ]
  },
  {
   "cell_type": "code",
   "execution_count": 5,
   "id": "16753280",
   "metadata": {},
   "outputs": [],
   "source": [
    "#!pip install wandb"
   ]
  },
  {
   "cell_type": "code",
   "execution_count": 6,
   "id": "14b53b24",
   "metadata": {},
   "outputs": [],
   "source": [
    "#!pip install numpy"
   ]
  },
  {
   "cell_type": "code",
   "execution_count": 7,
   "id": "4fa034e9",
   "metadata": {},
   "outputs": [],
   "source": [
    "#!pip install openpyxl"
   ]
  },
  {
   "cell_type": "code",
   "execution_count": 8,
   "id": "443f8291",
   "metadata": {},
   "outputs": [],
   "source": [
    "#Manejo de Datos\n",
    "import numpy as np\n",
    "import pandas as pd\n",
    "import matplotlib.pyplot as plt\n",
    "\n",
    "\n",
    "#Machine learning\n",
    "import tensorflow as tf\n",
    "from tensorflow import keras\n",
    "from tensorflow.keras import datasets, layers, models\n",
    "from tensorflow.keras.callbacks import Callback\n",
    "\n",
    "from sklearn.model_selection import train_test_split\n",
    "from sklearn.utils import shuffle\n",
    "\n",
    "#Librerias estandar (Extras)\n",
    "import re\n",
    "import os\n",
    "import time\n",
    "import random\n",
    "from datetime import datetime"
   ]
  },
  {
   "cell_type": "code",
   "execution_count": 9,
   "id": "ca3336ee",
   "metadata": {},
   "outputs": [],
   "source": [
    "\"\"\"\n",
    "DIRECTORIOS DEL PROYECTO\n",
    "\"\"\"\n",
    "path_base = 'C:/Users/Shounen/Desktop/Ciclo XI/Tesis 2/GPUTesis'   # Directorio del proyecto\n",
    "path_imagenes = 'F:/GOES/'                                         # Directorio de las imagenes procesadas\n",
    "listDataset = [f'{path_base}/Archivos/Dataset/datasetMuestra.csv']          # Directorio(s) de los datos de precipitacion"
   ]
  },
  {
   "cell_type": "code",
   "execution_count": 10,
   "id": "d868194e",
   "metadata": {},
   "outputs": [
    {
     "name": "stdout",
     "output_type": "stream",
     "text": [
      "Python 3.9.11\n",
      "2.8.0\n",
      "Num GPUs Available:  1\n"
     ]
    }
   ],
   "source": [
    "!python --version\n",
    "print(tf. __version__)\n",
    "print(\"Num GPUs Available: \", len(tf.config.list_physical_devices('GPU')))\n",
    "\n",
    "#Limitamos el GPU, en caso se necesite\n",
    "gpus = tf.config.list_physical_devices('GPU')\n",
    "tf.config.experimental.set_virtual_device_configuration(gpus[0],\n",
    "                                                        [tf.config.experimental.VirtualDeviceConfiguration(memory_limit=4096)])"
   ]
  },
  {
   "cell_type": "code",
   "execution_count": 11,
   "id": "4728b8d6",
   "metadata": {},
   "outputs": [],
   "source": [
    "#conda list cudnn"
   ]
  },
  {
   "cell_type": "code",
   "execution_count": 12,
   "id": "eabc4c9b",
   "metadata": {},
   "outputs": [],
   "source": [
    "#conda list cudatoolkit"
   ]
  },
  {
   "cell_type": "code",
   "execution_count": 13,
   "id": "cc2ddc8c",
   "metadata": {},
   "outputs": [
    {
     "data": {
      "text/plain": [
       "'\\nMetodos para realizar el entrenamient - evaluacion del modelo\\n'"
      ]
     },
     "execution_count": 13,
     "metadata": {},
     "output_type": "execute_result"
    }
   ],
   "source": [
    "\"\"\"\n",
    "Metodos para realizar el entrenamient - evaluacion del modelo\n",
    "\"\"\""
   ]
  },
  {
   "cell_type": "code",
   "execution_count": 14,
   "id": "830b35d0",
   "metadata": {},
   "outputs": [],
   "source": [
    "\n",
    "#Lee el archivo \"filename\" de datos de precipitacion y\n",
    "#regresa un df que facilite la lectura del dataset para el entrenmaiento\n",
    "def obtenerDatos(filename):\n",
    "    start_time = time.time()\n",
    "    pdata = pd.read_csv(filename)\n",
    "    \n",
    "    # Quitamos los valores NA\n",
    "    pdata = pdata[pdata['dato'].notna()]\n",
    "\n",
    "    # Definimos un solo tipo (str) pora asi poder convertirlo a tensor\n",
    "    pdata = pdata.astype({\"dato\": str, \"XO\": str, \"XA\": str, \"fecha\": str})\n",
    "\n",
    "    #Definimos la nueva columna para guardar el XO, XA y fecha\n",
    "    pdata['imagen'] = pdata.apply(obtenerDir, axis=1)\n",
    "\n",
    "    # Seleccionamos solo las columnas necesarias :\n",
    "    # precipitacion, Estacion (Longitud), Estacion (Latitud), Fecha (año-mes-dia-hora)\n",
    "    #pdataX = pdata.loc[:, ['dato','umbral','altura', 'imagen', 'fecha']]\n",
    "    pdata = pdata.astype({\"dato\": str, \"umbral\": str, \"altura\": str, \"imagen\": str, \"fecha\": str})\n",
    "\n",
    "    # Barajeamos los datos\n",
    "    pdata = shuffle(pdata)\n",
    "\n",
    "    print(f'{len(pdata)} datos leidos')\n",
    "    print(\"Tiempo tomado en leer datos: %.2fs\" % (time.time() - start_time))\n",
    "    return pdata"
   ]
  },
  {
   "cell_type": "code",
   "execution_count": 15,
   "id": "f6bfeeb8",
   "metadata": {},
   "outputs": [],
   "source": [
    "\n",
    "# Devuelve una lista con lo indices que no se encontraron lso archivos y el producto\n",
    "# Servira para ver si se teinen todas los frames de la fecha\n",
    "def comprobarFrames(dfOrignial, path_base, products, times, delete=1):\n",
    "    \n",
    "    #dfOrignial = obtenerDatos(datafile)\n",
    "    \n",
    "    \n",
    "    start_time = time.time()\n",
    "    \n",
    "    dfTotal = pd.unique(dfOrignial['fecha'])\n",
    "    no_fecha = []\n",
    "    for fecha in dfTotal:\n",
    "        year, month, day, hour = fecha.split('-')\n",
    "        existe = True\n",
    "        for p in products:\n",
    "            for t in range(len(times)):             \n",
    "                filename = f'{path_base}PNG/{fecha}/{fecha}_{t}.png'\n",
    "                try:                    \n",
    "                    file_size = os.path.getsize(filename)\n",
    "                    existe = file_size > 4100000\n",
    "                except: \n",
    "                    existe = False\n",
    "                    break\n",
    "                \n",
    "            if not existe:\n",
    "                break\n",
    "        if not existe:\n",
    "            no_fecha.append(fecha)\n",
    "            \n",
    "\n",
    "    if delete:\n",
    "        antes = len(dfOrignial)\n",
    "        df2 = dfOrignial[~dfOrignial['fecha'].isin(no_fecha)]\n",
    "        despues = len(df2)\n",
    "        print(f'{antes - despues}/{antes} datos eliminados: No se encontraron los archivos de imagenes satelitales')\n",
    "    else:\n",
    "        df2 = dfOrignial\n",
    "\n",
    "    print(\"Tiempo tomado en verificar datos: %.2fs\" % (time.time() - start_time))\n",
    "    return df2, no_fecha"
   ]
  },
  {
   "cell_type": "code",
   "execution_count": 16,
   "id": "aeb4b95c",
   "metadata": {},
   "outputs": [],
   "source": [
    "#Del dataset guardamos los datos mas importantes en una columna para facilitar su lectura\n",
    "def obtenerDir(row):\n",
    "    fecha = row['fecha']\n",
    "\n",
    "    year, month, day, hour = fecha.split('-')\n",
    "    # filename = f'{path_base}comprimido/{year}_{month}_{day}/{hour}/'\n",
    "    return f\"{row['XO']}--{row['XA']}--{fecha}\""
   ]
  },
  {
   "cell_type": "code",
   "execution_count": 17,
   "id": "6b17ad44",
   "metadata": {},
   "outputs": [],
   "source": [
    "def limpiarDatos(listNames, path_imagenes, products, times ,ceros = 0.0 ,delete=1):\n",
    "    df = []\n",
    "    start_time = time.time()\n",
    "    print(f'Se leera los archivos de datasets...')\n",
    "    for name in listNames:\n",
    "        try:\n",
    "            df.append(pd.read_csv(name))   \n",
    "        except:\n",
    "            print(f'No se pudo leer el archivo {name} de dataset')\n",
    "            return -1\n",
    "        \n",
    "    if len(df)>2:\n",
    "        dsCompleto =  pd.concat(df, ignore_index=True) \n",
    "    else:\n",
    "        dsCompleto =  df[0]\n",
    "        \n",
    "    print(\"Tiempo tomado: %.2fs\" % (time.time() - start_time))\n",
    "    print(f'+Cantidad de datos leidos {len(dsCompleto)}')\n",
    "    \n",
    "    # Quitamos los NA valores\n",
    "    print(f'\\nSe elimnara los valores nulos y dudosos')\n",
    "    dsCompleto.dropna(subset=['dato'], axis='index', inplace=True)    \n",
    "    dsCompleto = dsCompleto[dsCompleto['flag']!='ND']\n",
    "    dsCompleto = dsCompleto[dsCompleto['flag'].isin(['C0000001','C0000002'])]\n",
    "    print(\"Tiempo tomado: %.2fs\" % (time.time() - start_time))\n",
    "    print(f'+Cantidad de datos luego de elimnar nulos {len(dsCompleto)}')\n",
    "              \n",
    "    \n",
    "    # Buscamos imagenes satelitales para lso archivos\n",
    "    print(f'\\nSe buscara las imagenes satelitales para los datos...')\n",
    "    dfImagenes, no_fecha = comprobarFrames(dsCompleto, path_imagenes, products, times, delete)    \n",
    "    print(\"Tiempo tomado: %.2fs\" % (time.time() - start_time))\n",
    "       \n",
    "        \n",
    "        \n",
    "    #Limitamos la cantidad de ceros\n",
    "    if ceros:\n",
    "        print(f'\\nSe limitara el numero de ceros al {ceros*100:.2f} porciento...')\n",
    "        dsNoNulo = dfImagenes[dfImagenes['dato']!=0]\n",
    "        dsNulo = dfImagenes[dfImagenes['dato']==0]\n",
    "        dsNulo = dsNulo.sample(n=int(ceros*len(dsNoNulo)))        \n",
    "        dfImagenes = pd.concat([dsNoNulo,dsNulo], ignore_index=True) \n",
    "        print(f'+Cantidad de datos luego de limtar ceros {len(dfImagenes)}')\n",
    "    \n",
    "    #Agregamos lso datos de las estaciones al dataset\n",
    "    print(f'\\nSe agregara los datos de las estaciones(cordenadas, umbral)...')\n",
    "    dfImagenes['imagen'] = dfImagenes.apply(obtenerDir, axis=1)        \n",
    "    print(f'-------> CANTIDAD FINAL DE DATOS :  {len(dfImagenes)} <--------------')  \n",
    "    print(\"Tiempo total: %.2fs\" % (time.time() - start_time))\n",
    "    return shuffle(dfImagenes), no_fecha"
   ]
  },
  {
   "cell_type": "code",
   "execution_count": 18,
   "id": "1715a3d6",
   "metadata": {},
   "outputs": [],
   "source": [
    "def crearModelo2D(p,run):    \n",
    "    print(f\"Creadno modelo con input ({p['margen'][run]},{p['margen'][run]},{p['canales'][run]})) tipo ({p['outputs']})\")\n",
    "    # Imagen\n",
    "    input_1 = tf.keras.layers.Input(shape=(p['margen'][run],p['margen'][run],p['canales'][run]))\n",
    "    \n",
    "    # Convulutional layers\n",
    "    rescaling = tf.keras.layers.Rescaling(1./65536)(input_1)\n",
    "    conv2d_1 = tf.keras.layers.Conv2D(128, kernel_size=3,activation=tf.keras.activations.relu)(rescaling)\n",
    "    mxPool_1 = tf.keras.layers.MaxPooling2D()(conv2d_1)\n",
    "    dropout_1  = tf.keras.layers.Dropout(0.2)(mxPool_1)\n",
    "    \n",
    "    conv2d_2 = tf.keras.layers.Conv2D(64, kernel_size=3,activation=tf.keras.activations.relu)(dropout_1)\n",
    "    mxPool_2 = tf.keras.layers.MaxPooling2D()(conv2d_2)\n",
    "    dropout_2  = tf.keras.layers.Dropout(0.1)(mxPool_2)\n",
    "    \n",
    "    conv2d_3 = tf.keras.layers.Conv2D(32, kernel_size=3,activation=tf.keras.activations.relu)(dropout_1)\n",
    "    mxPool_3 = tf.keras.layers.MaxPooling2D()(conv2d_3)\n",
    "    dropout_3  = tf.keras.layers.Dropout(0.2)(mxPool_3)\n",
    "    \n",
    "    conv2d_4 = tf.keras.layers.Conv2D(64, kernel_size=3,activation=tf.keras.activations.relu)(dropout_3)\n",
    "    mxPool_4 = tf.keras.layers.MaxPooling2D()(conv2d_4)\n",
    "    dropout_4  = tf.keras.layers.Dropout(0.2)(mxPool_4)\n",
    "    \n",
    "    conv2d_5 = tf.keras.layers.Conv2D(32, kernel_size=3,activation=tf.keras.activations.relu)(dropout_4)\n",
    "    \n",
    "    \n",
    "    # Flatten layer :\n",
    "    flatten = tf.keras.layers.Flatten()(conv2d_5)\n",
    "    \n",
    "    final = flatten\n",
    "    listConcat = [flatten]\n",
    "    listInputs = [input_1]\n",
    "    \n",
    "    if len(p['inputs'])>1:\n",
    "        #Agregamos los otros atrbutos        \n",
    "        for attr in p['inputs'][1:]:\n",
    "            # The other input\n",
    "            input_x = tf.keras.layers.Input(shape=(1,))\n",
    "            listConcat.append(input_x)\n",
    "            listInputs.append(input_x)\n",
    "\n",
    "            \n",
    "        # Concatenate\n",
    "        final = tf.keras.layers.Concatenate()(listConcat)\n",
    "        \n",
    "    dense_1 = tf.keras.layers.Dense(units=32, activation=tf.keras.activations.relu)(final)\n",
    "    dense_2 = tf.keras.layers.Dense(units=16, activation=tf.keras.activations.relu)(dense_1)\n",
    "    dense_3 = tf.keras.layers.Dense(units=32, activation=tf.keras.activations.relu)(dense_2)\n",
    "    \n",
    "        \n",
    "    # output\n",
    "    if p['outputs'] == 'dato':\n",
    "        output = tf.keras.layers.Dense(units=1)(dense_3)\n",
    "        dimOutput = 1\n",
    "    elif p['outputs'] == 'umbral':\n",
    "        output = tf.keras.layers.Dense(units=1, activation=tf.keras.activations.sigmoid)(dense_3)\n",
    "        dimOutput = 2\n",
    "    else:\n",
    "        print(f\"No se pudo crear el modelo outputs no esta bien definido {p['outputs']}\")\n",
    "        return -1      \n",
    "    \n",
    "\n",
    "    full_model = tf.keras.Model(inputs=listInputs, outputs=[output])\n",
    "    \n",
    "    print('DONE')\n",
    "    \n",
    "    #print(full_model.summary())\n",
    "    return full_model"
   ]
  },
  {
   "cell_type": "code",
   "execution_count": 19,
   "id": "afbb71c9",
   "metadata": {},
   "outputs": [],
   "source": [
    "def crearModelo3D(p,run):    \n",
    "    print(f\"Creando modelo con input ({p['tiempos'][run]},{p['margen'][run]},{p['margen'][run]},{p['canales'][run]})) y ({p['outputs']})...\")\n",
    "    # Imagen\n",
    "    input_1 = tf.keras.layers.Input(shape=(p['tiempos'][run],p['margen'][run],p['margen'][run],p['canales'][run]))\n",
    "    \n",
    "    # first conv layer :\n",
    "    conv3d_1 = tf.keras.layers.Conv3D(64, kernel_size=3,activation=tf.keras.activations.relu)(input_1)\n",
    "\n",
    "    # Second conv layer :\n",
    "    conv3d_2 = tf.keras.layers.Conv3D(32, kernel_size=3,activation=tf.keras.activations.relu)(conv3d_1)\n",
    "    \n",
    "    # Flatten layer :\n",
    "    flatten = tf.keras.layers.Flatten()(conv3d_2)\n",
    "    \n",
    "    final = flatten\n",
    "    listConcat = [flatten]\n",
    "    listInputs = [input_1]\n",
    "    \n",
    "    if len(p['inputs'])>1:\n",
    "        #Agregamos los otros atrbutos        \n",
    "        for attr in p['inputs'][1:]:\n",
    "            # The other input            \n",
    "            input_x = tf.keras.layers.Input(shape=(1,))\n",
    "            listConcat.append(input_x)\n",
    "            listInputs.append(input_x)\n",
    "            \n",
    "        # Concatenate\n",
    "        final = tf.keras.layers.Concatenate()(listConcat)\n",
    "        \n",
    "        \n",
    "    # output\n",
    "    if p['outputs'] == 'dato':\n",
    "        output = tf.keras.layers.Dense(units=1, activation=tf.keras.activations.softmax)(final)\n",
    "        dimOutput = 1\n",
    "    elif p['outputs'] == 'umbral':\n",
    "        output = tf.keras.layers.Dense(units=2, activation=tf.keras.activations.sigmoid)(final)\n",
    "        dimOutput = 2\n",
    "    else:\n",
    "        print(f\"No se pudo crear el modelo outputs no esta bien definido {p['outputs']}\")\n",
    "        return -1          \n",
    "\n",
    "    full_model = tf.keras.Model(inputs=listInputs, outputs=[output])\n",
    "    \n",
    "    \n",
    "    print('DONE')\n",
    "    #print(full_model.summary())\n",
    "    return full_model"
   ]
  },
  {
   "cell_type": "code",
   "execution_count": 20,
   "id": "afaa1223",
   "metadata": {},
   "outputs": [],
   "source": [
    "def crearModelo(params,run):     \n",
    "    if params['tiempos'][run] == 1:\n",
    "        #Se crea un modelo conv2D\n",
    "        return crearModelo2D(params,run)         \n",
    "    else:\n",
    "        #Se crea un modelo conv3D\n",
    "        #return crearModelo2D(params,run)       \n",
    "        return crearModelo2D(params,run)       "
   ]
  },
  {
   "cell_type": "code",
   "execution_count": 21,
   "id": "209c22c3",
   "metadata": {},
   "outputs": [],
   "source": [
    "#Transformamos un filename tensor en una imagen\n",
    "def read_png_file(item, value, p,run, path_base, products, times):\n",
    "    # imagenData[0] = XO     # imagenData[1] = XA     # imagenData[2] = Fecha\n",
    "    imagenData = tf.strings.split(item['imagen'], sep='--')\n",
    "    size = int(p['margen'][run] / 2)\n",
    "\n",
    "    timeJoin = []\n",
    "    for j in range(p['tiempos'][run]-1,-1,-1):\n",
    "        filename = path_base + 'PNG/' + imagenData[2] + '/' + imagenData[2] + '_' + str(j) + '.png'\n",
    "        \n",
    "        image_string = tf.io.read_file(filename)\n",
    "\n",
    "        img_decoded = tf.io.decode_png(image_string, dtype=tf.uint16, channels=3)\n",
    "        \n",
    "        \n",
    "                \n",
    "        timeJoin.insert(0,img_decoded[int(imagenData[1]) - size:int(imagenData[1]) + size,\n",
    "                                      int(imagenData[0]) - size:int(imagenData[0]) + size,\n",
    "                                      0:p['canales'][run]])\n",
    " \n",
    "        \n",
    "    if p['tiempos'][run]==1:\n",
    "        imagenData = tf.reshape(timeJoin[0],(p['margen'][run],p['margen'][run],p['canales'][run]))\n",
    "    else:\n",
    "        #img = tf.stack(timeJoin, axis=0)\n",
    "        img = tf.reduce_mean( timeJoin , axis=0 )\n",
    "        imagenData = tf.reshape(img,(p['margen'][run],p['margen'][run],p['canales'][run]))\n",
    "        \n",
    "    \n",
    "    \n",
    "    if len(p['inputs']) == 1:\n",
    "        return imagenData, int(value)\n",
    "    \n",
    "    item['imagen'] = imagenData\n",
    "    itemL = []\n",
    "    for inpL in p['inputs']:\n",
    "        itemL.append(item[inpL])\n",
    "    \n",
    "    return tuple(itemL), int(value)"
   ]
  },
  {
   "cell_type": "code",
   "execution_count": 22,
   "id": "db155bb9",
   "metadata": {},
   "outputs": [],
   "source": [
    "def getMetrics(modelType, lr, paciencia):\n",
    "    \n",
    "    if modelType == 'umbral':    \n",
    "        optimizer = keras.optimizers.Adam(learning_rate=lr) \n",
    "        loss_fn=keras.losses.BinaryCrossentropy()       \n",
    "        train_acc_metric = keras.metrics.BinaryCrossentropy()\n",
    "        val_acc_metric = keras.metrics.BinaryCrossentropy()\n",
    "        early_stopping = tf.keras.callbacks.EarlyStopping(monitor=\"val_acc\", patience=paciencia, mode=\"max\")  \n",
    " \n",
    "        \n",
    "        metrics = ['acc', tf.keras.metrics.TruePositives(),\n",
    "                         tf.keras.metrics.TrueNegatives(),\n",
    "                         tf.keras.metrics.FalsePositives(),\n",
    "                         tf.keras.metrics.FalseNegatives()]\n",
    "        \n",
    "\n",
    "    elif modelType == 'dato':\n",
    "        optimizer = keras.optimizers.Adam(learning_rate=lr)\n",
    "        loss_fn=keras.losses.MeanSquaredError()\n",
    "        train_acc_metric = keras.metrics.MeanSquaredError()\n",
    "        val_acc_metric = keras.metrics.MeanSquaredError()\n",
    "        early_stopping = tf.keras.callbacks.EarlyStopping(monitor=\"val_mse\", patience=paciencia, mode=\"max\")                                            \n",
    "        metrics = ['mse']\n",
    "        \n",
    "        \n",
    "    else:\n",
    "        print('No se pudo crear las metricas')\n",
    "        return -1    \n",
    "         \n",
    "        \n",
    "    logs = Callback()\n",
    "    callbacks = [early_stopping, logs]                     \n",
    "        \n",
    "    metrics = {'optimizer': optimizer, 'loss_fn':loss_fn,'train_acc_metric': train_acc_metric,\n",
    "               'val_acc_metric': val_acc_metric, 'metrics': metrics,'callbacks': callbacks}\n",
    "    \n",
    "    return metrics\n",
    "        "
   ]
  },
  {
   "cell_type": "code",
   "execution_count": 23,
   "id": "4ea4508f",
   "metadata": {},
   "outputs": [],
   "source": [
    "def splitDataset(p, run, dataset, path_imagenes, products, times,val_split= 0.2):\n",
    "    #Dataset de etnrenamiento\n",
    "    if p['dataset']:\n",
    "        train, test = train_test_split(dataset.sample(frac=p['dataset']), test_size=val_split, shuffle=True)\n",
    "    else:\n",
    "        train, test = train_test_split(dataset, test_size=val_split, shuffle=True)\n",
    "    print(f'Tamaño del dataset: Train {len(train)}  - Val {len(test)}')\n",
    "    \n",
    "    inputsList = {}\n",
    "    for inp in p['inputs']:\n",
    "        inputsList[inp] = train[inp].tolist()\n",
    "        \n",
    "       \n",
    "        \n",
    "    train_dataset = tf.data.Dataset.from_tensor_slices(((inputsList),train[p['outputs']].tolist()))           \n",
    "    val_dataset = tf.data.Dataset.from_tensor_slices(((inputsList),train[p['outputs']].tolist()))     \n",
    "    \n",
    "    train_dataset = train_dataset.map(lambda x ,y : read_png_file(x,y,p,run,path_imagenes,products,times))\n",
    "    val_dataset = val_dataset.map(lambda x ,y : read_png_file(x,y,p,run,path_imagenes,products,times))\n",
    "    \n",
    "    train_dataset = train_dataset.batch(p['batch'])#.cache().prefetch(tf.data.AUTOTUNE)\n",
    "    val_dataset = val_dataset.batch(p['batch'])#.prefetch(tf.data.AUTOTUNE)  \n",
    "    \n",
    "    return train_dataset, val_dataset"
   ]
  },
  {
   "cell_type": "code",
   "execution_count": 24,
   "id": "86a7caac",
   "metadata": {},
   "outputs": [],
   "source": [
    "def trainModel(params,dataset,path_imagenes, path_base ,products, times, graficos=0,val_split=0.2,):\n",
    "        \n",
    "    config = dict(learning_rate=params['lr'], epochs = params['epocas'],\n",
    "                     batch_size =params['batch'],architecture=\"CNN\",)\n",
    "    resultados = [] \n",
    "    for run in range(params['runs']):       \n",
    "        print('--------------------------------------------------')\n",
    "        print(f'Inicio de la prueba N°: {run+1}/{params[\"runs\"]}') \n",
    "        \n",
    "        #Metricas y parametros de entrenaiento\n",
    "        metricas = getMetrics(params['outputs'], params['lr'], params['paciencia'])         \n",
    "\n",
    "        #Modelo \n",
    "        model = crearModelo(params,run)        \n",
    "        model.compile(optimizer=metricas['optimizer'],loss=metricas['loss_fn'],metrics=metricas['metrics'],)\n",
    "    \n",
    "        #Dataset        \n",
    "        train_dataset, val_dataset = splitDataset(params,run, dataset, path_imagenes, products, times, val_split)\n",
    "                \n",
    "        \n",
    "               \n",
    "        #print(f'- Cantidad de dataset {len(train_dataset) * params[\"batch\"]}')\n",
    "        print(f'- Batch size:  {params[\"batch\"]}')\n",
    "    \n",
    "        \n",
    "        idModel = datetime.today().strftime(\"%Y%m%d_%H%M%S\")\n",
    "        checkpoint_path = f'{path_base}/Archivos/Modelos/Model_{idModel}.hdf5' \n",
    "\n",
    "        # Create a callback that saves the model's weights\n",
    "        cp_callback = tf.keras.callbacks.ModelCheckpoint(filepath=checkpoint_path,\n",
    "                                                         save_weights_only=True,\n",
    "                                                         verbose=1)\n",
    "\n",
    "        if graficos:\n",
    "            metricas['callbacks'].append(cp_callback)\n",
    "            wandb.init(project=f'TesisDiegoV2({params[\"outputs\"]}-{len(params[\"inputs\"])})',\n",
    "                       config=config,\n",
    "                       name= f'Ex-{params[\"dataset\"]}_({params[\"canales\"][run]}-{params[\"tiempos\"][run]}-{params[\"margen\"][run]})_{idModel}')             \n",
    "            metricas['callbacks'].append(WandbCallback(save_weights_only=True))\n",
    "        \n",
    "        \n",
    "        #Entrenamos\n",
    "        history = model.fit(train_dataset,batch_size=params['batch'],                            \n",
    "                            epochs=params['epocas'],callbacks=metricas['callbacks'],\n",
    "                            validation_data=val_dataset,\n",
    "                            validation_batch_size=params['batch'],verbose=1)\n",
    "          \n",
    "        resultados.append(history.history)\n",
    "        \n",
    "        if graficos:\n",
    "            stats =  getModelStats(idModel,params,run,len(train_dataset),len(val_dataset))        \n",
    "            fout = f'{path_base}/Archivos/Modelos/prueba{run}-{params[\"outputs\"]}_{idModel}.xlsx'\n",
    "            with pd.ExcelWriter(fout, mode='w') as writer:        \n",
    "                pd.DataFrame(stats, index= [0]).to_excel(writer,startrow=0, sheet_name='Estadisticas')     \n",
    "                pd.DataFrame(history.history).to_excel(writer,startrow=5, sheet_name='Estadisticas')\n",
    "                        \n",
    "            wandb.finish()\n",
    "   \n",
    "    return resultados"
   ]
  },
  {
   "cell_type": "code",
   "execution_count": 25,
   "id": "12ab1f80",
   "metadata": {},
   "outputs": [],
   "source": [
    "def getModelStats(idModel,params,run,trainLen,valLen):\n",
    "    cpParams = {}\n",
    "    cpParams['ModelID'] = idModel\n",
    "    cpParams['canales'] = params['canales'][run]\n",
    "    cpParams['tiempos'] = params['tiempos'][run]\n",
    "    cpParams['margen'] = params['margen'][run]\n",
    "    cpParams['inputs'] = str(params['inputs'])\n",
    "    cpParams['outputs'] = params['outputs']\n",
    "    cpParams['epocas'] = params['epocas']\n",
    "    cpParams['batch'] = params['batch']\n",
    "    cpParams['lr'] = params['lr']\n",
    "    cpParams['TrainLen'] = trainLen\n",
    "    cpParams['ValLen'] = valLen    \n",
    "    return cpParams    "
   ]
  },
  {
   "cell_type": "code",
   "execution_count": 26,
   "id": "7eac6684",
   "metadata": {},
   "outputs": [
    {
     "data": {
      "text/plain": [
       "'\\nVariables generales\\n'"
      ]
     },
     "execution_count": 26,
     "metadata": {},
     "output_type": "execute_result"
    }
   ],
   "source": [
    "\"\"\"\n",
    "Variables generales\n",
    "\"\"\""
   ]
  },
  {
   "cell_type": "code",
   "execution_count": 27,
   "id": "4f05b6c3",
   "metadata": {},
   "outputs": [],
   "source": [
    "#Variables generales\n",
    "products = ['C07','C08','C13']\n",
    "times  = ['10','20','30','40','50','00']\n",
    "porcentajeCeros = 0.10"
   ]
  },
  {
   "cell_type": "code",
   "execution_count": 28,
   "id": "7a8e08a7",
   "metadata": {},
   "outputs": [
    {
     "data": {
      "text/plain": [
       "'\\nLeemos el dataset completo\\n'"
      ]
     },
     "execution_count": 28,
     "metadata": {},
     "output_type": "execute_result"
    }
   ],
   "source": [
    "\"\"\"\n",
    "Leemos el dataset completo\n",
    "\"\"\""
   ]
  },
  {
   "cell_type": "code",
   "execution_count": 29,
   "id": "2b09fe24",
   "metadata": {},
   "outputs": [
    {
     "name": "stdout",
     "output_type": "stream",
     "text": [
      "Se leera los archivos de datasets...\n",
      "Tiempo tomado: 2.33s\n",
      "+Cantidad de datos leidos 2491134\n",
      "\n",
      "Se elimnara los valores nulos y dudosos\n",
      "Tiempo tomado: 2.75s\n",
      "+Cantidad de datos luego de elimnar nulos 2429896\n",
      "\n",
      "Se buscara las imagenes satelitales para los datos...\n",
      "418254/2429896 datos eliminados: No se encontraron los archivos de imagenes satelitales\n",
      "Tiempo tomado en verificar datos: 5.06s\n",
      "Tiempo tomado: 7.82s\n",
      "\n",
      "Se limitara el numero de ceros al 10.00 porciento...\n",
      "+Cantidad de datos luego de limtar ceros 78915\n",
      "\n",
      "Se agregara los datos de las estaciones(cordenadas, umbral)...\n",
      "-------> CANTIDAD FINAL DE DATOS :  78915 <--------------\n",
      "Tiempo total: 8.91s\n",
      "CPU times: total: 9.02 s\n",
      "Wall time: 8.99 s\n"
     ]
    },
    {
     "data": {
      "text/html": [
       "<div>\n",
       "<style scoped>\n",
       "    .dataframe tbody tr th:only-of-type {\n",
       "        vertical-align: middle;\n",
       "    }\n",
       "\n",
       "    .dataframe tbody tr th {\n",
       "        vertical-align: top;\n",
       "    }\n",
       "\n",
       "    .dataframe thead th {\n",
       "        text-align: right;\n",
       "    }\n",
       "</style>\n",
       "<table border=\"1\" class=\"dataframe\">\n",
       "  <thead>\n",
       "    <tr style=\"text-align: right;\">\n",
       "      <th></th>\n",
       "      <th>Unnamed: 0</th>\n",
       "      <th>nombre</th>\n",
       "      <th>codigo</th>\n",
       "      <th>XO</th>\n",
       "      <th>XA</th>\n",
       "      <th>longitud</th>\n",
       "      <th>latitud</th>\n",
       "      <th>altura</th>\n",
       "      <th>dato</th>\n",
       "      <th>90%</th>\n",
       "      <th>99%</th>\n",
       "      <th>75%</th>\n",
       "      <th>fecha</th>\n",
       "      <th>flag</th>\n",
       "      <th>imagen</th>\n",
       "      <th>umbral</th>\n",
       "    </tr>\n",
       "  </thead>\n",
       "  <tbody>\n",
       "    <tr>\n",
       "      <th>20096</th>\n",
       "      <td>2409204</td>\n",
       "      <td>CHALACO</td>\n",
       "      <td>472FB328</td>\n",
       "      <td>206</td>\n",
       "      <td>356</td>\n",
       "      <td>-79.83</td>\n",
       "      <td>-5.03389</td>\n",
       "      <td>1791.0</td>\n",
       "      <td>0.3</td>\n",
       "      <td>0.1</td>\n",
       "      <td>2.8</td>\n",
       "      <td>0.0</td>\n",
       "      <td>2021-12-31-17</td>\n",
       "      <td>C0000001</td>\n",
       "      <td>206--356--2021-12-31-17</td>\n",
       "      <td>0</td>\n",
       "    </tr>\n",
       "    <tr>\n",
       "      <th>20061</th>\n",
       "      <td>2409169</td>\n",
       "      <td>CHALACO</td>\n",
       "      <td>472FB328</td>\n",
       "      <td>206</td>\n",
       "      <td>356</td>\n",
       "      <td>-79.83</td>\n",
       "      <td>-5.03389</td>\n",
       "      <td>1791.0</td>\n",
       "      <td>0.1</td>\n",
       "      <td>0.1</td>\n",
       "      <td>2.8</td>\n",
       "      <td>0.0</td>\n",
       "      <td>2021-12-23-04</td>\n",
       "      <td>C0000001</td>\n",
       "      <td>206--356--2021-12-23-04</td>\n",
       "      <td>0</td>\n",
       "    </tr>\n",
       "  </tbody>\n",
       "</table>\n",
       "</div>"
      ],
      "text/plain": [
       "       Unnamed: 0   nombre    codigo   XO   XA  longitud  latitud  altura  \\\n",
       "20096     2409204  CHALACO  472FB328  206  356    -79.83 -5.03389  1791.0   \n",
       "20061     2409169  CHALACO  472FB328  206  356    -79.83 -5.03389  1791.0   \n",
       "\n",
       "       dato  90%  99%  75%          fecha      flag                   imagen  \\\n",
       "20096   0.3  0.1  2.8  0.0  2021-12-31-17  C0000001  206--356--2021-12-31-17   \n",
       "20061   0.1  0.1  2.8  0.0  2021-12-23-04  C0000001  206--356--2021-12-23-04   \n",
       "\n",
       "       umbral  \n",
       "20096       0  \n",
       "20061       0  "
      ]
     },
     "execution_count": 29,
     "metadata": {},
     "output_type": "execute_result"
    }
   ],
   "source": [
    "%%time\n",
    "#Vamos a unir los dos datasets y limpiarlos\n",
    "dsCompleto, no_fecha = limpiarDatos(listDataset, path_imagenes, products, times ,porcentajeCeros,1)\n",
    "\n",
    "#Agregamos el umbral al dataset\n",
    "dsCompleto = dsCompleto[dsCompleto['99%']!=0]\n",
    "dsCompleto['umbral'] = (dsCompleto['dato']>=dsCompleto['99%']).astype(int)\n",
    "dsCompleto.head(2)"
   ]
  },
  {
   "cell_type": "code",
   "execution_count": 30,
   "id": "b9ce9bf5",
   "metadata": {},
   "outputs": [
    {
     "name": "stderr",
     "output_type": "stream",
     "text": [
      "\u001b[34m\u001b[1mwandb\u001b[0m: Currently logged in as: \u001b[33mtesis2\u001b[0m (use `wandb login --relogin` to force relogin)\n"
     ]
    },
    {
     "data": {
      "text/plain": [
       "True"
      ]
     },
     "execution_count": 30,
     "metadata": {},
     "output_type": "execute_result"
    }
   ],
   "source": [
    "import wandb\n",
    "from wandb.keras import WandbCallback\n",
    "wandb.login()\n"
   ]
  },
  {
   "cell_type": "code",
   "execution_count": 31,
   "id": "04effa47",
   "metadata": {},
   "outputs": [
    {
     "data": {
      "text/plain": [
       "'\\nAnalizamos el dataset\\n'"
      ]
     },
     "execution_count": 31,
     "metadata": {},
     "output_type": "execute_result"
    }
   ],
   "source": [
    "\"\"\"\n",
    "Analizamos el dataset\n",
    "\"\"\""
   ]
  },
  {
   "cell_type": "code",
   "execution_count": 32,
   "id": "ecedcdc0",
   "metadata": {},
   "outputs": [
    {
     "data": {
      "text/plain": [
       "\"\\n#Limitamos el dataset\\ndataset = dsCompleto#[0:1000]\\n\\n#Equilibramos el dataset con ceros y no ceros\\nds0 = dataset[dataset['dato']==0]\\nds_ =  dataset[(dataset['dato']>0) & (dataset['dato'] < 1)]\\nds1 =  dataset[dataset['dato']>1]\\n\""
      ]
     },
     "execution_count": 32,
     "metadata": {},
     "output_type": "execute_result"
    }
   ],
   "source": [
    "\"\"\"\n",
    "#Limitamos el dataset\n",
    "dataset = dsCompleto#[0:1000]\n",
    "\n",
    "#Equilibramos el dataset con ceros y no ceros\n",
    "ds0 = dataset[dataset['dato']==0]\n",
    "ds_ =  dataset[(dataset['dato']>0) & (dataset['dato'] < 1)]\n",
    "ds1 =  dataset[dataset['dato']>1]\n",
    "\"\"\""
   ]
  },
  {
   "cell_type": "code",
   "execution_count": 33,
   "id": "91d57682",
   "metadata": {},
   "outputs": [],
   "source": [
    "#Limitamos el dataset\n",
    "dataset = dsCompleto#[0:1000]\n",
    "\n",
    "#Equilibramos el dataset con ceros y no ceros\n",
    "ds1 = dataset[dataset['umbral']==1]\n",
    "ds0 = dataset[dataset['umbral']!=1]\n"
   ]
  },
  {
   "cell_type": "code",
   "execution_count": 34,
   "id": "d88b028c",
   "metadata": {},
   "outputs": [
    {
     "data": {
      "text/plain": [
       "20370"
      ]
     },
     "execution_count": 34,
     "metadata": {},
     "output_type": "execute_result"
    }
   ],
   "source": [
    "_dataset = pd.concat([ds1,ds0.sample(n=int(len(ds1)))], ignore_index=True) \n",
    "len(_dataset)"
   ]
  },
  {
   "cell_type": "code",
   "execution_count": 38,
   "id": "5048b5b2",
   "metadata": {},
   "outputs": [
    {
     "data": {
      "text/plain": [
       "<AxesSubplot:>"
      ]
     },
     "execution_count": 38,
     "metadata": {},
     "output_type": "execute_result"
    },
    {
     "data": {
      "image/png": "[encoded data removed]",
      "text/plain": [
       "<Figure size 432x288 with 1 Axes>"
      ]
     },
     "metadata": {
      "needs_background": "light"
     },
     "output_type": "display_data"
    }
   ],
   "source": [
    "_dataset['umbral'].hist()"
   ]
  },
  {
   "cell_type": "code",
   "execution_count": 35,
   "id": "6934d5d1",
   "metadata": {},
   "outputs": [
    {
     "name": "stdout",
     "output_type": "stream",
     "text": [
      "  DATOS MENORES A  10  \n"
     ]
    },
    {
     "data": {
      "text/plain": [
       "<AxesSubplot:>"
      ]
     },
     "execution_count": 35,
     "metadata": {},
     "output_type": "execute_result"
    },
    {
     "data": {
      "image/png": "[encoded data removed]",
      "text/plain": [
       "<Figure size 432x288 with 1 Axes>"
      ]
     },
     "metadata": {
      "needs_background": "light"
     },
     "output_type": "display_data"
    }
   ],
   "source": [
    "print('  DATOS MENORES A  10  ')\n",
    "_dataset[_dataset['dato']<10]['dato'].hist()"
   ]
  },
  {
   "cell_type": "code",
   "execution_count": 36,
   "id": "5b5630f5",
   "metadata": {},
   "outputs": [
    {
     "name": "stdout",
     "output_type": "stream",
     "text": [
      "  DATOS MAYORES A  10  \n"
     ]
    },
    {
     "data": {
      "text/plain": [
       "<AxesSubplot:>"
      ]
     },
     "execution_count": 36,
     "metadata": {},
     "output_type": "execute_result"
    },
    {
     "data": {
      "image/png": "[encoded data removed]",
      "text/plain": [
       "<Figure size 432x288 with 1 Axes>"
      ]
     },
     "metadata": {
      "needs_background": "light"
     },
     "output_type": "display_data"
    }
   ],
   "source": [
    "print('  DATOS MAYORES A  10  ')\n",
    "_dataset[_dataset['dato']>10]['dato'].hist()"
   ]
  },
  {
   "cell_type": "code",
   "execution_count": 37,
   "id": "6407db60",
   "metadata": {},
   "outputs": [
    {
     "name": "stdout",
     "output_type": "stream",
     "text": [
      "           ESTADISCIAS\n",
      "\n",
      "Flags:      ['C0000002' 'C0000001']\n",
      "Estaciones: 170\n",
      "Totales:    20370\n",
      "Atipicos:   8148\n",
      "Ceros:      1112\n",
      "Maximo:     66.9\n",
      "Media:      2.144489445262641\n",
      "STD:        4.104809186606982\n"
     ]
    }
   ],
   "source": [
    "print('           ESTADISCIAS\\n')\n",
    "\n",
    "print(f'Flags:      {_dataset[\"flag\"].unique()}')\n",
    "print(f'Estaciones: {len(_dataset[\"codigo\"].unique())}')\n",
    "print(f'Totales:    {_dataset[\"dato\"].count()}')\n",
    "print(f'Atipicos:   {_dataset[_dataset[\"umbral\"]==1][\"dato\"].count()}')\n",
    "print(f'Ceros:      {_dataset[_dataset[\"dato\"]==0][\"dato\"].count()}')\n",
    "print(f'Maximo:     {_dataset[\"dato\"].max()}')\n",
    "print(f'Media:      {_dataset[\"dato\"].mean()}')\n",
    "print(f'STD:        {_dataset[\"dato\"].std()}')"
   ]
  },
  {
   "cell_type": "code",
   "execution_count": null,
   "id": "2abe0013",
   "metadata": {},
   "outputs": [],
   "source": []
  },
  {
   "cell_type": "code",
   "execution_count": null,
   "id": "3860eaa7",
   "metadata": {},
   "outputs": [],
   "source": []
  },
  {
   "cell_type": "code",
   "execution_count": 38,
   "id": "f89085a4",
   "metadata": {},
   "outputs": [],
   "source": [
    "\"\"\"\n",
    "# Definimos las varibles para las iteraciones\n",
    "Los parametros que van a cambiar son:\n",
    "- Canales (products)\n",
    "- Tiempos (Min de las imagenes)\n",
    "- margen\n",
    "\"\"\"\n",
    "params = {'inputs'   : ['imagen','99%'],\n",
    "          'outputs'  : 'umbral',  #umbral o dato\n",
    "          'lr'       : 0.001,\n",
    "          'batch'    : 32,        \n",
    "          'dataset'  : 1,\n",
    "          'epocas'   : 10,          \n",
    "          'paciencia': 4,\n",
    "          'canales'  : [3,3,3,3,3,3],\n",
    "          'tiempos'  : [2,6,2,6,2,6],\n",
    "          'margen'   : [50,50,110,110,70,70],\n",
    "          'runs'     : 6\n",
    "         }"
   ]
  },
  {
   "cell_type": "code",
   "execution_count": 39,
   "id": "9e061cd5",
   "metadata": {},
   "outputs": [
    {
     "name": "stdout",
     "output_type": "stream",
     "text": [
      "--------------------------------------------------\n",
      "Inicio de la prueba N°: 1/6\n",
      "Creadno modelo con input (50,50,3)) tipo (umbral)\n",
      "DONE\n",
      "Tamaño del dataset: Train 16296  - Val 4074\n",
      "- Batch size:  32\n"
     ]
    },
    {
     "data": {
      "text/html": [
       "wandb version 0.12.14 is available!  To upgrade, please run:\n",
       " $ pip install wandb --upgrade"
      ],
      "text/plain": [
       "<IPython.core.display.HTML object>"
      ]
     },
     "metadata": {},
     "output_type": "display_data"
    },
    {
     "data": {
      "text/html": [
       "Tracking run with wandb version 0.12.11"
      ],
      "text/plain": [
       "<IPython.core.display.HTML object>"
      ]
     },
     "metadata": {},
     "output_type": "display_data"
    },
    {
     "data": {
      "text/html": [
       "Run data is saved locally in <code>C:\\Users\\Shounen\\Desktop\\Ciclo XI\\Tesis 2\\GPUTesis\\Codigo\\Entrenamiento\\Jupyter\\wandb\\run-20220415_222318-3ap0liym</code>"
      ],
      "text/plain": [
       "<IPython.core.display.HTML object>"
      ]
     },
     "metadata": {},
     "output_type": "display_data"
    },
    {
     "data": {
      "text/html": [
       "Syncing run <strong><a href=\"https://wandb.ai/tesis2/TesisDiegoV2%28umbral-2%29/runs/3ap0liym\" target=\"_blank\">Ex-1_(3-2-50)_20220415_222318</a></strong> to <a href=\"https://wandb.ai/tesis2/TesisDiegoV2%28umbral-2%29\" target=\"_blank\">Weights & Biases</a> (<a href=\"https://wandb.me/run\" target=\"_blank\">docs</a>)<br/>"
      ],
      "text/plain": [
       "<IPython.core.display.HTML object>"
      ]
     },
     "metadata": {},
     "output_type": "display_data"
    },
    {
     "name": "stdout",
     "output_type": "stream",
     "text": [
      "Epoch 1/10\n",
      "510/510 [==============================] - ETA: 0s - loss: 0.6433 - acc: 0.6522 - true_positives: 1658.0000 - true_negatives: 8971.0000 - false_positives: 807.0000 - false_negatives: 4860.0000\n",
      "Epoch 1: saving model to C:/Users/Shounen/Desktop/Ciclo XI/Tesis 2/GPUTesis/Archivos/Modelos\\Model_20220415_222318.hdf5\n",
      "510/510 [==============================] - 404s 776ms/step - loss: 0.6433 - acc: 0.6522 - true_positives: 1658.0000 - true_negatives: 8971.0000 - false_positives: 807.0000 - false_negatives: 4860.0000 - val_loss: 0.6350 - val_acc: 0.6588 - val_true_positives: 1493.0000 - val_true_negatives: 9243.0000 - val_false_positives: 535.0000 - val_false_negatives: 5025.0000 - _timestamp: 1650079811.0000 - _runtime: 412.0000\n",
      "Epoch 2/10\n",
      "509/510 [============================>.] - ETA: 0s - loss: 0.6321 - acc: 0.6602 - true_positives: 1769.0000 - true_negatives: 8984.0000 - false_positives: 789.0000 - false_negatives: 4746.0000\n",
      "Epoch 2: saving model to C:/Users/Shounen/Desktop/Ciclo XI/Tesis 2/GPUTesis/Archivos/Modelos\\Model_20220415_222318.hdf5\n",
      "510/510 [==============================] - 396s 777ms/step - loss: 0.6321 - acc: 0.6602 - true_positives: 1769.0000 - true_negatives: 8989.0000 - false_positives: 789.0000 - false_negatives: 4749.0000 - val_loss: 0.6313 - val_acc: 0.6605 - val_true_positives: 1438.0000 - val_true_negatives: 9325.0000 - val_false_positives: 453.0000 - val_false_negatives: 5080.0000 - _timestamp: 1650080207.0000 - _runtime: 808.0000\n",
      "Epoch 3/10\n",
      "509/510 [============================>.] - ETA: 0s - loss: 0.6296 - acc: 0.6600 - true_positives: 1642.0000 - true_negatives: 9108.0000 - false_positives: 665.0000 - false_negatives: 4873.0000\n",
      "Epoch 3: saving model to C:/Users/Shounen/Desktop/Ciclo XI/Tesis 2/GPUTesis/Archivos/Modelos\\Model_20220415_222318.hdf5\n",
      "510/510 [==============================] - 392s 769ms/step - loss: 0.6297 - acc: 0.6600 - true_positives: 1642.0000 - true_negatives: 9113.0000 - false_positives: 665.0000 - false_negatives: 4876.0000 - val_loss: 0.6301 - val_acc: 0.6598 - val_true_positives: 1413.0000 - val_true_negatives: 9339.0000 - val_false_positives: 439.0000 - val_false_negatives: 5105.0000 - _timestamp: 1650080599.0000 - _runtime: 1200.0000\n",
      "Epoch 4/10\n",
      "510/510 [==============================] - ETA: 0s - loss: 0.6283 - acc: 0.6597 - true_positives: 1577.0000 - true_negatives: 9173.0000 - false_positives: 605.0000 - false_negatives: 4941.0000\n",
      "Epoch 4: saving model to C:/Users/Shounen/Desktop/Ciclo XI/Tesis 2/GPUTesis/Archivos/Modelos\\Model_20220415_222318.hdf5\n",
      "510/510 [==============================] - 533s 1s/step - loss: 0.6283 - acc: 0.6597 - true_positives: 1577.0000 - true_negatives: 9173.0000 - false_positives: 605.0000 - false_negatives: 4941.0000 - val_loss: 0.6295 - val_acc: 0.6597 - val_true_positives: 1328.0000 - val_true_negatives: 9423.0000 - val_false_positives: 355.0000 - val_false_negatives: 5190.0000 - _timestamp: 1650081132.0000 - _runtime: 1733.0000\n",
      "Epoch 5/10\n",
      "509/510 [============================>.] - ETA: 0s - loss: 0.6276 - acc: 0.6608 - true_positives: 1567.0000 - true_negatives: 9196.0000 - false_positives: 577.0000 - false_negatives: 4948.0000\n",
      "Epoch 5: saving model to C:/Users/Shounen/Desktop/Ciclo XI/Tesis 2/GPUTesis/Archivos/Modelos\\Model_20220415_222318.hdf5\n",
      "510/510 [==============================] - 393s 772ms/step - loss: 0.6277 - acc: 0.6608 - true_positives: 1567.0000 - true_negatives: 9201.0000 - false_positives: 577.0000 - false_negatives: 4951.0000 - val_loss: 0.6293 - val_acc: 0.6597 - val_true_positives: 1328.0000 - val_true_negatives: 9423.0000 - val_false_positives: 355.0000 - val_false_negatives: 5190.0000 - _timestamp: 1650081525.0000 - _runtime: 2126.0000\n",
      "Epoch 6/10\n",
      "509/510 [============================>.] - ETA: 0s - loss: 0.6270 - acc: 0.6600 - true_positives: 1560.0000 - true_negatives: 9190.0000 - false_positives: 583.0000 - false_negatives: 4955.0000\n",
      "Epoch 6: saving model to C:/Users/Shounen/Desktop/Ciclo XI/Tesis 2/GPUTesis/Archivos/Modelos\\Model_20220415_222318.hdf5\n",
      "510/510 [==============================] - 396s 778ms/step - loss: 0.6271 - acc: 0.6600 - true_positives: 1560.0000 - true_negatives: 9195.0000 - false_positives: 583.0000 - false_negatives: 4958.0000 - val_loss: 0.6287 - val_acc: 0.6597 - val_true_positives: 1328.0000 - val_true_negatives: 9423.0000 - val_false_positives: 355.0000 - val_false_negatives: 5190.0000 - _timestamp: 1650081922.0000 - _runtime: 2523.0000\n",
      "\n"
     ]
    },
    {
     "data": {
      "text/html": [
       "Waiting for W&B process to finish... <strong style=\"color:green\">(success).</strong>"
      ],
      "text/plain": [
       "<IPython.core.display.HTML object>"
      ]
     },
     "metadata": {},
     "output_type": "display_data"
    },
    {
     "data": {
      "application/vnd.jupyter.widget-view+json": {
       "model_id": "",
       "version_major": 2,
       "version_minor": 0
      },
      "text/plain": [
       "VBox(children=(Label(value='0.357 MB of 0.357 MB uploaded (0.000 MB deduped)\\r'), FloatProgress(value=1.0, max…"
      ]
     },
     "metadata": {},
     "output_type": "display_data"
    },
    {
     "data": {
      "text/html": [
       "<style>\n",
       "    table.wandb td:nth-child(1) { padding: 0 10px; text-align: right }\n",
       "    .wandb-row { display: flex; flex-direction: row; flex-wrap: wrap; width: 100% }\n",
       "    .wandb-col { display: flex; flex-direction: column; flex-basis: 100%; flex: 1; padding: 10px; }\n",
       "    </style>\n",
       "<div class=\"wandb-row\"><div class=\"wandb-col\"><h3>Run history:</h3><br/><table class=\"wandb\"><tr><td>acc</td><td>▁▇▇▇█▇</td></tr><tr><td>epoch</td><td>▁▂▄▅▇█</td></tr><tr><td>false_negatives</td><td>▅▁▅▇██</td></tr><tr><td>false_positives</td><td>█▇▄▂▁▁</td></tr><tr><td>loss</td><td>█▃▂▂▁▁</td></tr><tr><td>true_negatives</td><td>▁▂▅▇██</td></tr><tr><td>true_positives</td><td>▄█▄▂▁▁</td></tr><tr><td>val_acc</td><td>▁█▅▅▅▅</td></tr><tr><td>val_false_negatives</td><td>▁▃▄███</td></tr><tr><td>val_false_positives</td><td>█▅▄▁▁▁</td></tr><tr><td>val_loss</td><td>█▄▃▂▂▁</td></tr><tr><td>val_true_negatives</td><td>▁▄▅███</td></tr><tr><td>val_true_positives</td><td>█▆▅▁▁▁</td></tr></table><br/></div><div class=\"wandb-col\"><h3>Run summary:</h3><br/><table class=\"wandb\"><tr><td>acc</td><td>0.65998</td></tr><tr><td>best_epoch</td><td>5</td></tr><tr><td>best_val_loss</td><td>0.62872</td></tr><tr><td>epoch</td><td>5</td></tr><tr><td>false_negatives</td><td>4958.0</td></tr><tr><td>false_positives</td><td>583.0</td></tr><tr><td>loss</td><td>0.62708</td></tr><tr><td>true_negatives</td><td>9195.0</td></tr><tr><td>true_positives</td><td>1560.0</td></tr><tr><td>val_acc</td><td>0.65973</td></tr><tr><td>val_false_negatives</td><td>5190.0</td></tr><tr><td>val_false_positives</td><td>355.0</td></tr><tr><td>val_loss</td><td>0.62872</td></tr><tr><td>val_true_negatives</td><td>9423.0</td></tr><tr><td>val_true_positives</td><td>1328.0</td></tr></table><br/></div></div>"
      ],
      "text/plain": [
       "<IPython.core.display.HTML object>"
      ]
     },
     "metadata": {},
     "output_type": "display_data"
    },
    {
     "data": {
      "text/html": [
       "Synced <strong style=\"color:#cdcd00\">Ex-1_(3-2-50)_20220415_222318</strong>: <a href=\"https://wandb.ai/tesis2/TesisDiegoV2%28umbral-2%29/runs/3ap0liym\" target=\"_blank\">https://wandb.ai/tesis2/TesisDiegoV2%28umbral-2%29/runs/3ap0liym</a><br/>Synced 6 W&B file(s), 1 media file(s), 0 artifact file(s) and 1 other file(s)"
      ],
      "text/plain": [
       "<IPython.core.display.HTML object>"
      ]
     },
     "metadata": {},
     "output_type": "display_data"
    },
    {
     "data": {
      "text/html": [
       "Find logs at: <code>.\\wandb\\run-20220415_222318-3ap0liym\\logs</code>"
      ],
      "text/plain": [
       "<IPython.core.display.HTML object>"
      ]
     },
     "metadata": {},
     "output_type": "display_data"
    },
    {
     "name": "stdout",
     "output_type": "stream",
     "text": [
      "--------------------------------------------------\n",
      "Inicio de la prueba N°: 2/6\n",
      "Creadno modelo con input (50,50,3)) tipo (umbral)\n",
      "DONE\n",
      "Tamaño del dataset: Train 16296  - Val 4074\n",
      "- Batch size:  32\n"
     ]
    },
    {
     "data": {
      "text/html": [
       "wandb version 0.12.14 is available!  To upgrade, please run:\n",
       " $ pip install wandb --upgrade"
      ],
      "text/plain": [
       "<IPython.core.display.HTML object>"
      ]
     },
     "metadata": {},
     "output_type": "display_data"
    },
    {
     "data": {
      "text/html": [
       "Tracking run with wandb version 0.12.11"
      ],
      "text/plain": [
       "<IPython.core.display.HTML object>"
      ]
     },
     "metadata": {},
     "output_type": "display_data"
    },
    {
     "data": {
      "text/html": [
       "Run data is saved locally in <code>C:\\Users\\Shounen\\Desktop\\Ciclo XI\\Tesis 2\\GPUTesis\\Codigo\\Entrenamiento\\Jupyter\\wandb\\run-20220415_230529-oue2f14q</code>"
      ],
      "text/plain": [
       "<IPython.core.display.HTML object>"
      ]
     },
     "metadata": {},
     "output_type": "display_data"
    },
    {
     "data": {
      "text/html": [
       "Syncing run <strong><a href=\"https://wandb.ai/tesis2/TesisDiegoV2%28umbral-2%29/runs/oue2f14q\" target=\"_blank\">Ex-1_(3-6-50)_20220415_230529</a></strong> to <a href=\"https://wandb.ai/tesis2/TesisDiegoV2%28umbral-2%29\" target=\"_blank\">Weights & Biases</a> (<a href=\"https://wandb.me/run\" target=\"_blank\">docs</a>)<br/>"
      ],
      "text/plain": [
       "<IPython.core.display.HTML object>"
      ]
     },
     "metadata": {},
     "output_type": "display_data"
    },
    {
     "name": "stdout",
     "output_type": "stream",
     "text": [
      "Epoch 1/10\n",
      "510/510 [==============================] - ETA: 0s - loss: 0.6416 - acc: 0.6519 - true_positives_1: 1582.0000 - true_negatives_1: 9041.0000 - false_positives_1: 748.0000 - false_negatives_1: 4925.0000\n",
      "Epoch 1: saving model to C:/Users/Shounen/Desktop/Ciclo XI/Tesis 2/GPUTesis/Archivos/Modelos\\Model_20220415_230529.hdf5\n",
      "510/510 [==============================] - 1605s 3s/step - loss: 0.6416 - acc: 0.6519 - true_positives_1: 1582.0000 - true_negatives_1: 9041.0000 - false_positives_1: 748.0000 - false_negatives_1: 4925.0000 - val_loss: 0.6335 - val_acc: 0.6627 - val_true_positives_1: 1430.0000 - val_true_negatives_1: 9370.0000 - val_false_positives_1: 419.0000 - val_false_negatives_1: 5077.0000 - _timestamp: 1650083545.0000 - _runtime: 1616.0000\n",
      "Epoch 2/10\n",
      "510/510 [==============================] - ETA: 0s - loss: 0.6286 - acc: 0.6653 - true_positives_1: 1747.0000 - true_negatives_1: 9095.0000 - false_positives_1: 694.0000 - false_negatives_1: 4760.0000\n",
      "Epoch 2: saving model to C:/Users/Shounen/Desktop/Ciclo XI/Tesis 2/GPUTesis/Archivos/Modelos\\Model_20220415_230529.hdf5\n",
      "510/510 [==============================] - 1423s 3s/step - loss: 0.6286 - acc: 0.6653 - true_positives_1: 1747.0000 - true_negatives_1: 9095.0000 - false_positives_1: 694.0000 - false_negatives_1: 4760.0000 - val_loss: 0.6300 - val_acc: 0.6622 - val_true_positives_1: 1351.0000 - val_true_negatives_1: 9440.0000 - val_false_positives_1: 349.0000 - val_false_negatives_1: 5156.0000 - _timestamp: 1650084968.0000 - _runtime: 3039.0000\n",
      "Epoch 3/10\n",
      "509/510 [============================>.] - ETA: 1s - loss: 0.6273 - acc: 0.6647 - true_positives_1: 1706.0000 - true_negatives_1: 9120.0000 - false_positives_1: 663.0000 - false_negatives_1: 4799.0000\n",
      "Epoch 3: saving model to C:/Users/Shounen/Desktop/Ciclo XI/Tesis 2/GPUTesis/Archivos/Modelos\\Model_20220415_230529.hdf5\n",
      "510/510 [==============================] - 1449s 3s/step - loss: 0.6272 - acc: 0.6647 - true_positives_1: 1706.0000 - true_negatives_1: 9126.0000 - false_positives_1: 663.0000 - false_negatives_1: 4801.0000 - val_loss: 0.6287 - val_acc: 0.6622 - val_true_positives_1: 1351.0000 - val_true_negatives_1: 9440.0000 - val_false_positives_1: 349.0000 - val_false_negatives_1: 5156.0000 - _timestamp: 1650086418.0000 - _runtime: 4489.0000\n",
      "Epoch 4/10\n",
      "509/510 [============================>.] - ETA: 1s - loss: 0.6266 - acc: 0.6648 - true_positives_1: 1714.0000 - true_negatives_1: 9114.0000 - false_positives_1: 669.0000 - false_negatives_1: 4791.0000\n",
      "Epoch 4: saving model to C:/Users/Shounen/Desktop/Ciclo XI/Tesis 2/GPUTesis/Archivos/Modelos\\Model_20220415_230529.hdf5\n",
      "510/510 [==============================] - 1620s 3s/step - loss: 0.6266 - acc: 0.6648 - true_positives_1: 1714.0000 - true_negatives_1: 9120.0000 - false_positives_1: 669.0000 - false_negatives_1: 4793.0000 - val_loss: 0.6279 - val_acc: 0.6622 - val_true_positives_1: 1351.0000 - val_true_negatives_1: 9440.0000 - val_false_positives_1: 349.0000 - val_false_negatives_1: 5156.0000 - _timestamp: 1650088037.0000 - _runtime: 6108.0000\n",
      "Epoch 5/10\n",
      "510/510 [==============================] - ETA: 0s - loss: 0.6260 - acc: 0.6649 - true_positives_1: 1703.0000 - true_negatives_1: 9133.0000 - false_positives_1: 656.0000 - false_negatives_1: 4804.0000\n",
      "Epoch 5: saving model to C:/Users/Shounen/Desktop/Ciclo XI/Tesis 2/GPUTesis/Archivos/Modelos\\Model_20220415_230529.hdf5\n",
      "510/510 [==============================] - 1324s 3s/step - loss: 0.6260 - acc: 0.6649 - true_positives_1: 1703.0000 - true_negatives_1: 9133.0000 - false_positives_1: 656.0000 - false_negatives_1: 4804.0000 - val_loss: 0.6276 - val_acc: 0.6622 - val_true_positives_1: 1351.0000 - val_true_negatives_1: 9440.0000 - val_false_positives_1: 349.0000 - val_false_negatives_1: 5156.0000 - _timestamp: 1650089362.0000 - _runtime: 7433.0000\n",
      "\n"
     ]
    },
    {
     "data": {
      "text/html": [
       "Waiting for W&B process to finish... <strong style=\"color:green\">(success).</strong>"
      ],
      "text/plain": [
       "<IPython.core.display.HTML object>"
      ]
     },
     "metadata": {},
     "output_type": "display_data"
    },
    {
     "data": {
      "application/vnd.jupyter.widget-view+json": {
       "model_id": "",
       "version_major": 2,
       "version_minor": 0
      },
      "text/plain": [
       "VBox(children=(Label(value='0.357 MB of 0.357 MB uploaded (0.000 MB deduped)\\r'), FloatProgress(value=1.0, max…"
      ]
     },
     "metadata": {},
     "output_type": "display_data"
    },
    {
     "data": {
      "text/html": [
       "<style>\n",
       "    table.wandb td:nth-child(1) { padding: 0 10px; text-align: right }\n",
       "    .wandb-row { display: flex; flex-direction: row; flex-wrap: wrap; width: 100% }\n",
       "    .wandb-col { display: flex; flex-direction: column; flex-basis: 100%; flex: 1; padding: 10px; }\n",
       "    </style>\n",
       "<div class=\"wandb-row\"><div class=\"wandb-col\"><h3>Run history:</h3><br/><table class=\"wandb\"><tr><td>acc</td><td>▁████</td></tr><tr><td>epoch</td><td>▁▃▅▆█</td></tr><tr><td>false_negatives_1</td><td>█▁▃▂▃</td></tr><tr><td>false_positives_1</td><td>█▄▂▂▁</td></tr><tr><td>loss</td><td>█▂▂▁▁</td></tr><tr><td>true_negatives_1</td><td>▁▅▇▇█</td></tr><tr><td>true_positives_1</td><td>▁█▆▇▆</td></tr><tr><td>val_acc</td><td>█▁▁▁▁</td></tr><tr><td>val_false_negatives_1</td><td>▁████</td></tr><tr><td>val_false_positives_1</td><td>█▁▁▁▁</td></tr><tr><td>val_loss</td><td>█▄▂▁▁</td></tr><tr><td>val_true_negatives_1</td><td>▁████</td></tr><tr><td>val_true_positives_1</td><td>█▁▁▁▁</td></tr></table><br/></div><div class=\"wandb-col\"><h3>Run summary:</h3><br/><table class=\"wandb\"><tr><td>acc</td><td>0.66495</td></tr><tr><td>best_epoch</td><td>4</td></tr><tr><td>best_val_loss</td><td>0.6276</td></tr><tr><td>epoch</td><td>4</td></tr><tr><td>false_negatives_1</td><td>4804.0</td></tr><tr><td>false_positives_1</td><td>656.0</td></tr><tr><td>loss</td><td>0.62598</td></tr><tr><td>true_negatives_1</td><td>9133.0</td></tr><tr><td>true_positives_1</td><td>1703.0</td></tr><tr><td>val_acc</td><td>0.66219</td></tr><tr><td>val_false_negatives_1</td><td>5156.0</td></tr><tr><td>val_false_positives_1</td><td>349.0</td></tr><tr><td>val_loss</td><td>0.6276</td></tr><tr><td>val_true_negatives_1</td><td>9440.0</td></tr><tr><td>val_true_positives_1</td><td>1351.0</td></tr></table><br/></div></div>"
      ],
      "text/plain": [
       "<IPython.core.display.HTML object>"
      ]
     },
     "metadata": {},
     "output_type": "display_data"
    },
    {
     "data": {
      "text/html": [
       "Synced <strong style=\"color:#cdcd00\">Ex-1_(3-6-50)_20220415_230529</strong>: <a href=\"https://wandb.ai/tesis2/TesisDiegoV2%28umbral-2%29/runs/oue2f14q\" target=\"_blank\">https://wandb.ai/tesis2/TesisDiegoV2%28umbral-2%29/runs/oue2f14q</a><br/>Synced 6 W&B file(s), 1 media file(s), 0 artifact file(s) and 1 other file(s)"
      ],
      "text/plain": [
       "<IPython.core.display.HTML object>"
      ]
     },
     "metadata": {},
     "output_type": "display_data"
    },
    {
     "data": {
      "text/html": [
       "Find logs at: <code>.\\wandb\\run-20220415_230529-oue2f14q\\logs</code>"
      ],
      "text/plain": [
       "<IPython.core.display.HTML object>"
      ]
     },
     "metadata": {},
     "output_type": "display_data"
    },
    {
     "name": "stdout",
     "output_type": "stream",
     "text": [
      "--------------------------------------------------\n",
      "Inicio de la prueba N°: 3/6\n",
      "Creadno modelo con input (110,110,3)) tipo (umbral)\n",
      "DONE\n",
      "Tamaño del dataset: Train 16296  - Val 4074\n",
      "- Batch size:  32\n"
     ]
    },
    {
     "data": {
      "text/html": [
       "wandb version 0.12.14 is available!  To upgrade, please run:\n",
       " $ pip install wandb --upgrade"
      ],
      "text/plain": [
       "<IPython.core.display.HTML object>"
      ]
     },
     "metadata": {},
     "output_type": "display_data"
    },
    {
     "data": {
      "text/html": [
       "Tracking run with wandb version 0.12.11"
      ],
      "text/plain": [
       "<IPython.core.display.HTML object>"
      ]
     },
     "metadata": {},
     "output_type": "display_data"
    },
    {
     "data": {
      "text/html": [
       "Run data is saved locally in <code>C:\\Users\\Shounen\\Desktop\\Ciclo XI\\Tesis 2\\GPUTesis\\Codigo\\Entrenamiento\\Jupyter\\wandb\\run-20220416_010935-2vqf94nb</code>"
      ],
      "text/plain": [
       "<IPython.core.display.HTML object>"
      ]
     },
     "metadata": {},
     "output_type": "display_data"
    },
    {
     "data": {
      "text/html": [
       "Syncing run <strong><a href=\"https://wandb.ai/tesis2/TesisDiegoV2%28umbral-2%29/runs/2vqf94nb\" target=\"_blank\">Ex-1_(3-2-110)_20220416_010935</a></strong> to <a href=\"https://wandb.ai/tesis2/TesisDiegoV2%28umbral-2%29\" target=\"_blank\">Weights & Biases</a> (<a href=\"https://wandb.me/run\" target=\"_blank\">docs</a>)<br/>"
      ],
      "text/plain": [
       "<IPython.core.display.HTML object>"
      ]
     },
     "metadata": {},
     "output_type": "display_data"
    },
    {
     "name": "stdout",
     "output_type": "stream",
     "text": [
      "Epoch 1/10\n",
      "510/510 [==============================] - ETA: 0s - loss: 0.6481 - acc: 0.6429 - true_positives_2: 1402.0000 - true_negatives_2: 9074.0000 - false_positives_2: 690.0000 - false_negatives_2: 5130.0000\n",
      "Epoch 1: saving model to C:/Users/Shounen/Desktop/Ciclo XI/Tesis 2/GPUTesis/Archivos/Modelos\\Model_20220416_010935.hdf5\n",
      "510/510 [==============================] - 378s 739ms/step - loss: 0.6481 - acc: 0.6429 - true_positives_2: 1402.0000 - true_negatives_2: 9074.0000 - false_positives_2: 690.0000 - false_negatives_2: 5130.0000 - val_loss: 0.6328 - val_acc: 0.6617 - val_true_positives_2: 1993.0000 - val_true_negatives_2: 8790.0000 - val_false_positives_2: 974.0000 - val_false_negatives_2: 4539.0000 - _timestamp: 1650089770.0000 - _runtime: 395.0000\n",
      "Epoch 2/10\n",
      "509/510 [============================>.] - ETA: 0s - loss: 0.6301 - acc: 0.6625 - true_positives_2: 1924.0000 - true_negatives_2: 8867.0000 - false_positives_2: 895.0000 - false_negatives_2: 4602.0000\n",
      "Epoch 2: saving model to C:/Users/Shounen/Desktop/Ciclo XI/Tesis 2/GPUTesis/Archivos/Modelos\\Model_20220416_010935.hdf5\n",
      "510/510 [==============================] - 375s 735ms/step - loss: 0.6302 - acc: 0.6623 - true_positives_2: 1924.0000 - true_negatives_2: 8869.0000 - false_positives_2: 895.0000 - false_negatives_2: 4608.0000 - val_loss: 0.6307 - val_acc: 0.6617 - val_true_positives_2: 1993.0000 - val_true_negatives_2: 8790.0000 - val_false_positives_2: 974.0000 - val_false_negatives_2: 4539.0000 - _timestamp: 1650090144.0000 - _runtime: 769.0000\n",
      "Epoch 3/10\n",
      "509/510 [============================>.] - ETA: 0s - loss: 0.6276 - acc: 0.6638 - true_positives_2: 1838.0000 - true_negatives_2: 8974.0000 - false_positives_2: 788.0000 - false_negatives_2: 4688.0000\n",
      "Epoch 3: saving model to C:/Users/Shounen/Desktop/Ciclo XI/Tesis 2/GPUTesis/Archivos/Modelos\\Model_20220416_010935.hdf5\n",
      "510/510 [==============================] - 374s 733ms/step - loss: 0.6277 - acc: 0.6636 - true_positives_2: 1838.0000 - true_negatives_2: 8976.0000 - false_positives_2: 788.0000 - false_negatives_2: 4694.0000 - val_loss: 0.6308 - val_acc: 0.6653 - val_true_positives_2: 1929.0000 - val_true_negatives_2: 8913.0000 - val_false_positives_2: 851.0000 - val_false_negatives_2: 4603.0000 - _timestamp: 1650090518.0000 - _runtime: 1143.0000\n",
      "Epoch 4/10\n",
      "509/510 [============================>.] - ETA: 0s - loss: 0.6265 - acc: 0.6623 - true_positives_2: 1767.0000 - true_negatives_2: 9021.0000 - false_positives_2: 741.0000 - false_negatives_2: 4759.0000\n",
      "Epoch 4: saving model to C:/Users/Shounen/Desktop/Ciclo XI/Tesis 2/GPUTesis/Archivos/Modelos\\Model_20220416_010935.hdf5\n",
      "510/510 [==============================] - 509s 999ms/step - loss: 0.6266 - acc: 0.6621 - true_positives_2: 1767.0000 - true_negatives_2: 9023.0000 - false_positives_2: 741.0000 - false_negatives_2: 4765.0000 - val_loss: 0.6304 - val_acc: 0.6657 - val_true_positives_2: 1909.0000 - val_true_negatives_2: 8939.0000 - val_false_positives_2: 825.0000 - val_false_negatives_2: 4623.0000 - _timestamp: 1650091028.0000 - _runtime: 1653.0000\n",
      "Epoch 5/10\n",
      "509/510 [============================>.] - ETA: 0s - loss: 0.6260 - acc: 0.6628 - true_positives_2: 1727.0000 - true_negatives_2: 9069.0000 - false_positives_2: 693.0000 - false_negatives_2: 4799.0000\n",
      "Epoch 5: saving model to C:/Users/Shounen/Desktop/Ciclo XI/Tesis 2/GPUTesis/Archivos/Modelos\\Model_20220416_010935.hdf5\n",
      "510/510 [==============================] - 374s 734ms/step - loss: 0.6261 - acc: 0.6626 - true_positives_2: 1727.0000 - true_negatives_2: 9071.0000 - false_positives_2: 693.0000 - false_negatives_2: 4805.0000 - val_loss: 0.6298 - val_acc: 0.6657 - val_true_positives_2: 1909.0000 - val_true_negatives_2: 8939.0000 - val_false_positives_2: 825.0000 - val_false_negatives_2: 4623.0000 - _timestamp: 1650091402.0000 - _runtime: 2027.0000\n",
      "Epoch 6/10\n",
      "509/510 [============================>.] - ETA: 0s - loss: 0.6256 - acc: 0.6630 - true_positives_2: 1690.0000 - true_negatives_2: 9109.0000 - false_positives_2: 653.0000 - false_negatives_2: 4836.0000\n",
      "Epoch 6: saving model to C:/Users/Shounen/Desktop/Ciclo XI/Tesis 2/GPUTesis/Archivos/Modelos\\Model_20220416_010935.hdf5\n",
      "510/510 [==============================] - 521s 1s/step - loss: 0.6257 - acc: 0.6628 - true_positives_2: 1690.0000 - true_negatives_2: 9111.0000 - false_positives_2: 653.0000 - false_negatives_2: 4842.0000 - val_loss: 0.6295 - val_acc: 0.6657 - val_true_positives_2: 1909.0000 - val_true_negatives_2: 8939.0000 - val_false_positives_2: 825.0000 - val_false_negatives_2: 4623.0000 - _timestamp: 1650091923.0000 - _runtime: 2548.0000\n",
      "Epoch 7/10\n",
      "509/510 [============================>.] - ETA: 0s - loss: 0.6253 - acc: 0.6634 - true_positives_2: 1680.0000 - true_negatives_2: 9126.0000 - false_positives_2: 636.0000 - false_negatives_2: 4846.0000\n",
      "Epoch 7: saving model to C:/Users/Shounen/Desktop/Ciclo XI/Tesis 2/GPUTesis/Archivos/Modelos\\Model_20220416_010935.hdf5\n",
      "510/510 [==============================] - 502s 986ms/step - loss: 0.6254 - acc: 0.6632 - true_positives_2: 1680.0000 - true_negatives_2: 9128.0000 - false_positives_2: 636.0000 - false_negatives_2: 4852.0000 - val_loss: 0.6313 - val_acc: 0.6657 - val_true_positives_2: 1909.0000 - val_true_negatives_2: 8939.0000 - val_false_positives_2: 825.0000 - val_false_negatives_2: 4623.0000 - _timestamp: 1650092426.0000 - _runtime: 3051.0000\n",
      "Epoch 8/10\n",
      "509/510 [============================>.] - ETA: 0s - loss: 0.6250 - acc: 0.6634 - true_positives_2: 1670.0000 - true_negatives_2: 9135.0000 - false_positives_2: 627.0000 - false_negatives_2: 4856.0000\n",
      "Epoch 8: saving model to C:/Users/Shounen/Desktop/Ciclo XI/Tesis 2/GPUTesis/Archivos/Modelos\\Model_20220416_010935.hdf5\n",
      "510/510 [==============================] - 373s 731ms/step - loss: 0.6251 - acc: 0.6632 - true_positives_2: 1670.0000 - true_negatives_2: 9137.0000 - false_positives_2: 627.0000 - false_negatives_2: 4862.0000 - val_loss: 0.6291 - val_acc: 0.6653 - val_true_positives_2: 1929.0000 - val_true_negatives_2: 8913.0000 - val_false_positives_2: 851.0000 - val_false_negatives_2: 4603.0000 - _timestamp: 1650092799.0000 - _runtime: 3424.0000\n",
      "\n"
     ]
    },
    {
     "data": {
      "text/html": [
       "Waiting for W&B process to finish... <strong style=\"color:green\">(success).</strong>"
      ],
      "text/plain": [
       "<IPython.core.display.HTML object>"
      ]
     },
     "metadata": {},
     "output_type": "display_data"
    },
    {
     "data": {
      "application/vnd.jupyter.widget-view+json": {
       "model_id": "",
       "version_major": 2,
       "version_minor": 0
      },
      "text/plain": [
       "VBox(children=(Label(value='0.732 MB of 0.732 MB uploaded (0.000 MB deduped)\\r'), FloatProgress(value=1.0, max…"
      ]
     },
     "metadata": {},
     "output_type": "display_data"
    },
    {
     "data": {
      "text/html": [
       "<style>\n",
       "    table.wandb td:nth-child(1) { padding: 0 10px; text-align: right }\n",
       "    .wandb-row { display: flex; flex-direction: row; flex-wrap: wrap; width: 100% }\n",
       "    .wandb-col { display: flex; flex-direction: column; flex-basis: 100%; flex: 1; padding: 10px; }\n",
       "    </style>\n",
       "<div class=\"wandb-row\"><div class=\"wandb-col\"><h3>Run history:</h3><br/><table class=\"wandb\"><tr><td>acc</td><td>▁███████</td></tr><tr><td>epoch</td><td>▁▂▃▄▅▆▇█</td></tr><tr><td>false_negatives_2</td><td>█▁▂▃▄▄▄▄</td></tr><tr><td>false_positives_2</td><td>▃█▅▄▃▂▁▁</td></tr><tr><td>loss</td><td>█▃▂▁▁▁▁▁</td></tr><tr><td>true_negatives_2</td><td>▆▁▄▅▆▇██</td></tr><tr><td>true_positives_2</td><td>▁█▇▆▅▅▅▅</td></tr><tr><td>val_acc</td><td>▁▁▇████▇</td></tr><tr><td>val_false_negatives_2</td><td>▁▁▆████▆</td></tr><tr><td>val_false_positives_2</td><td>██▂▁▁▁▁▂</td></tr><tr><td>val_loss</td><td>█▄▄▄▂▂▅▁</td></tr><tr><td>val_true_negatives_2</td><td>▁▁▇████▇</td></tr><tr><td>val_true_positives_2</td><td>██▃▁▁▁▁▃</td></tr></table><br/></div><div class=\"wandb-col\"><h3>Run summary:</h3><br/><table class=\"wandb\"><tr><td>acc</td><td>0.66317</td></tr><tr><td>best_epoch</td><td>7</td></tr><tr><td>best_val_loss</td><td>0.62911</td></tr><tr><td>epoch</td><td>7</td></tr><tr><td>false_negatives_2</td><td>4862.0</td></tr><tr><td>false_positives_2</td><td>627.0</td></tr><tr><td>loss</td><td>0.62509</td></tr><tr><td>true_negatives_2</td><td>9137.0</td></tr><tr><td>true_positives_2</td><td>1670.0</td></tr><tr><td>val_acc</td><td>0.66532</td></tr><tr><td>val_false_negatives_2</td><td>4603.0</td></tr><tr><td>val_false_positives_2</td><td>851.0</td></tr><tr><td>val_loss</td><td>0.62911</td></tr><tr><td>val_true_negatives_2</td><td>8913.0</td></tr><tr><td>val_true_positives_2</td><td>1929.0</td></tr></table><br/></div></div>"
      ],
      "text/plain": [
       "<IPython.core.display.HTML object>"
      ]
     },
     "metadata": {},
     "output_type": "display_data"
    },
    {
     "data": {
      "text/html": [
       "Synced <strong style=\"color:#cdcd00\">Ex-1_(3-2-110)_20220416_010935</strong>: <a href=\"https://wandb.ai/tesis2/TesisDiegoV2%28umbral-2%29/runs/2vqf94nb\" target=\"_blank\">https://wandb.ai/tesis2/TesisDiegoV2%28umbral-2%29/runs/2vqf94nb</a><br/>Synced 6 W&B file(s), 1 media file(s), 0 artifact file(s) and 1 other file(s)"
      ],
      "text/plain": [
       "<IPython.core.display.HTML object>"
      ]
     },
     "metadata": {},
     "output_type": "display_data"
    },
    {
     "data": {
      "text/html": [
       "Find logs at: <code>.\\wandb\\run-20220416_010935-2vqf94nb\\logs</code>"
      ],
      "text/plain": [
       "<IPython.core.display.HTML object>"
      ]
     },
     "metadata": {},
     "output_type": "display_data"
    },
    {
     "name": "stdout",
     "output_type": "stream",
     "text": [
      "--------------------------------------------------\n",
      "Inicio de la prueba N°: 4/6\n",
      "Creadno modelo con input (110,110,3)) tipo (umbral)\n",
      "DONE\n",
      "Tamaño del dataset: Train 16296  - Val 4074\n",
      "- Batch size:  32\n"
     ]
    },
    {
     "data": {
      "text/html": [
       "wandb version 0.12.14 is available!  To upgrade, please run:\n",
       " $ pip install wandb --upgrade"
      ],
      "text/plain": [
       "<IPython.core.display.HTML object>"
      ]
     },
     "metadata": {},
     "output_type": "display_data"
    },
    {
     "data": {
      "text/html": [
       "Tracking run with wandb version 0.12.11"
      ],
      "text/plain": [
       "<IPython.core.display.HTML object>"
      ]
     },
     "metadata": {},
     "output_type": "display_data"
    },
    {
     "data": {
      "text/html": [
       "Run data is saved locally in <code>C:\\Users\\Shounen\\Desktop\\Ciclo XI\\Tesis 2\\GPUTesis\\Codigo\\Entrenamiento\\Jupyter\\wandb\\run-20220416_102702-28r9lc7a</code>"
      ],
      "text/plain": [
       "<IPython.core.display.HTML object>"
      ]
     },
     "metadata": {},
     "output_type": "display_data"
    },
    {
     "data": {
      "text/html": [
       "Syncing run <strong><a href=\"https://wandb.ai/tesis2/TesisDiegoV2%28umbral-2%29/runs/28r9lc7a\" target=\"_blank\">Ex-1_(3-6-110)_20220416_102702</a></strong> to <a href=\"https://wandb.ai/tesis2/TesisDiegoV2%28umbral-2%29\" target=\"_blank\">Weights & Biases</a> (<a href=\"https://wandb.me/run\" target=\"_blank\">docs</a>)<br/>"
      ],
      "text/plain": [
       "<IPython.core.display.HTML object>"
      ]
     },
     "metadata": {},
     "output_type": "display_data"
    },
    {
     "name": "stdout",
     "output_type": "stream",
     "text": [
      "Epoch 1/10\n",
      "510/510 [==============================] - ETA: 0s - loss: 0.6471 - acc: 0.6431 - true_positives_3: 1340.0000 - true_negatives_3: 9140.0000 - false_positives_3: 661.0000 - false_negatives_3: 5155.0000\n",
      "Epoch 1: saving model to C:/Users/Shounen/Desktop/Ciclo XI/Tesis 2/GPUTesis/Archivos/Modelos\\Model_20220416_102702.hdf5\n",
      "510/510 [==============================] - 1143s 2s/step - loss: 0.6471 - acc: 0.6431 - true_positives_3: 1340.0000 - true_negatives_3: 9140.0000 - false_positives_3: 661.0000 - false_negatives_3: 5155.0000 - val_loss: 0.6303 - val_acc: 0.6577 - val_true_positives_3: 1992.0000 - val_true_negatives_3: 8726.0000 - val_false_positives_3: 1075.0000 - val_false_negatives_3: 4503.0000 - _timestamp: 1650123982.0000 - _runtime: 1160.0000\n",
      "Epoch 2/10\n",
      "510/510 [==============================] - ETA: 0s - loss: 0.6302 - acc: 0.6620 - true_positives_3: 1858.0000 - true_negatives_3: 8930.0000 - false_positives_3: 871.0000 - false_negatives_3: 4637.0000\n",
      "Epoch 2: saving model to C:/Users/Shounen/Desktop/Ciclo XI/Tesis 2/GPUTesis/Archivos/Modelos\\Model_20220416_102702.hdf5\n",
      "510/510 [==============================] - 1142s 2s/step - loss: 0.6302 - acc: 0.6620 - true_positives_3: 1858.0000 - true_negatives_3: 8930.0000 - false_positives_3: 871.0000 - false_negatives_3: 4637.0000 - val_loss: 0.6264 - val_acc: 0.6643 - val_true_positives_3: 1870.0000 - val_true_negatives_3: 8956.0000 - val_false_positives_3: 845.0000 - val_false_negatives_3: 4625.0000 - _timestamp: 1650125124.0000 - _runtime: 2302.0000\n",
      "Epoch 3/10\n",
      "510/510 [==============================] - ETA: 0s - loss: 0.6279 - acc: 0.6624 - true_positives_3: 1755.0000 - true_negatives_3: 9039.0000 - false_positives_3: 762.0000 - false_negatives_3: 4740.0000\n",
      "Epoch 3: saving model to C:/Users/Shounen/Desktop/Ciclo XI/Tesis 2/GPUTesis/Archivos/Modelos\\Model_20220416_102702.hdf5\n",
      "510/510 [==============================] - 1600s 3s/step - loss: 0.6279 - acc: 0.6624 - true_positives_3: 1755.0000 - true_negatives_3: 9039.0000 - false_positives_3: 762.0000 - false_negatives_3: 4740.0000 - val_loss: 0.6252 - val_acc: 0.6645 - val_true_positives_3: 1799.0000 - val_true_negatives_3: 9029.0000 - val_false_positives_3: 772.0000 - val_false_negatives_3: 4696.0000 - _timestamp: 1650126724.0000 - _runtime: 3902.0000\n",
      "Epoch 4/10\n",
      "510/510 [==============================] - ETA: 0s - loss: 0.6268 - acc: 0.6624 - true_positives_3: 1733.0000 - true_negatives_3: 9062.0000 - false_positives_3: 739.0000 - false_negatives_3: 4762.0000\n",
      "Epoch 4: saving model to C:/Users/Shounen/Desktop/Ciclo XI/Tesis 2/GPUTesis/Archivos/Modelos\\Model_20220416_102702.hdf5\n",
      "510/510 [==============================] - 1320s 3s/step - loss: 0.6268 - acc: 0.6624 - true_positives_3: 1733.0000 - true_negatives_3: 9062.0000 - false_positives_3: 739.0000 - false_negatives_3: 4762.0000 - val_loss: 0.6246 - val_acc: 0.6645 - val_true_positives_3: 1799.0000 - val_true_negatives_3: 9029.0000 - val_false_positives_3: 772.0000 - val_false_negatives_3: 4696.0000 - _timestamp: 1650128044.0000 - _runtime: 5222.0000\n",
      "Epoch 5/10\n",
      "510/510 [==============================] - ETA: 0s - loss: 0.6262 - acc: 0.6629 - true_positives_3: 1716.0000 - true_negatives_3: 9086.0000 - false_positives_3: 715.0000 - false_negatives_3: 4779.0000\n",
      "Epoch 5: saving model to C:/Users/Shounen/Desktop/Ciclo XI/Tesis 2/GPUTesis/Archivos/Modelos\\Model_20220416_102702.hdf5\n",
      "510/510 [==============================] - 1471s 3s/step - loss: 0.6262 - acc: 0.6629 - true_positives_3: 1716.0000 - true_negatives_3: 9086.0000 - false_positives_3: 715.0000 - false_negatives_3: 4779.0000 - val_loss: 0.6242 - val_acc: 0.6645 - val_true_positives_3: 1799.0000 - val_true_negatives_3: 9029.0000 - val_false_positives_3: 772.0000 - val_false_negatives_3: 4696.0000 - _timestamp: 1650129516.0000 - _runtime: 6694.0000\n",
      "Epoch 6/10\n",
      "509/510 [============================>.] - ETA: 1s - loss: 0.6258 - acc: 0.6637 - true_positives_3: 1722.0000 - true_negatives_3: 9089.0000 - false_positives_3: 707.0000 - false_negatives_3: 4770.0000\n",
      "Epoch 6: saving model to C:/Users/Shounen/Desktop/Ciclo XI/Tesis 2/GPUTesis/Archivos/Modelos\\Model_20220416_102702.hdf5\n",
      "510/510 [==============================] - 1522s 3s/step - loss: 0.6258 - acc: 0.6638 - true_positives_3: 1723.0000 - true_negatives_3: 9094.0000 - false_positives_3: 707.0000 - false_negatives_3: 4772.0000 - val_loss: 0.6239 - val_acc: 0.6645 - val_true_positives_3: 1799.0000 - val_true_negatives_3: 9029.0000 - val_false_positives_3: 772.0000 - val_false_negatives_3: 4696.0000 - _timestamp: 1650131038.0000 - _runtime: 8216.0000\n",
      "Epoch 7/10\n",
      "509/510 [============================>.] - ETA: 1s - loss: 0.6255 - acc: 0.6632 - true_positives_3: 1692.0000 - true_negatives_3: 9110.0000 - false_positives_3: 686.0000 - false_negatives_3: 4800.0000\n",
      "Epoch 7: saving model to C:/Users/Shounen/Desktop/Ciclo XI/Tesis 2/GPUTesis/Archivos/Modelos\\Model_20220416_102702.hdf5\n",
      "510/510 [==============================] - 1481s 3s/step - loss: 0.6255 - acc: 0.6632 - true_positives_3: 1692.0000 - true_negatives_3: 9115.0000 - false_positives_3: 686.0000 - false_negatives_3: 4803.0000 - val_loss: 0.6238 - val_acc: 0.6645 - val_true_positives_3: 1799.0000 - val_true_negatives_3: 9029.0000 - val_false_positives_3: 772.0000 - val_false_negatives_3: 4696.0000 - _timestamp: 1650132519.0000 - _runtime: 9697.0000\n",
      "\n"
     ]
    },
    {
     "data": {
      "text/html": [
       "Waiting for W&B process to finish... <strong style=\"color:green\">(success).</strong>"
      ],
      "text/plain": [
       "<IPython.core.display.HTML object>"
      ]
     },
     "metadata": {},
     "output_type": "display_data"
    },
    {
     "data": {
      "application/vnd.jupyter.widget-view+json": {
       "model_id": "",
       "version_major": 2,
       "version_minor": 0
      },
      "text/plain": [
       "VBox(children=(Label(value='0.733 MB of 0.733 MB uploaded (0.000 MB deduped)\\r'), FloatProgress(value=1.0, max…"
      ]
     },
     "metadata": {},
     "output_type": "display_data"
    },
    {
     "data": {
      "text/html": [
       "<style>\n",
       "    table.wandb td:nth-child(1) { padding: 0 10px; text-align: right }\n",
       "    .wandb-row { display: flex; flex-direction: row; flex-wrap: wrap; width: 100% }\n",
       "    .wandb-col { display: flex; flex-direction: column; flex-basis: 100%; flex: 1; padding: 10px; }\n",
       "    </style>\n",
       "<div class=\"wandb-row\"><div class=\"wandb-col\"><h3>Run history:</h3><br/><table class=\"wandb\"><tr><td>acc</td><td>▁▇█████</td></tr><tr><td>epoch</td><td>▁▂▃▅▆▇█</td></tr><tr><td>false_negatives_3</td><td>█▁▂▃▃▃▃</td></tr><tr><td>false_positives_3</td><td>▁█▄▄▃▃▂</td></tr><tr><td>loss</td><td>█▃▂▁▁▁▁</td></tr><tr><td>true_negatives_3</td><td>█▁▅▅▆▆▇</td></tr><tr><td>true_positives_3</td><td>▁█▇▆▆▆▆</td></tr><tr><td>val_acc</td><td>▁██████</td></tr><tr><td>val_false_negatives_3</td><td>▁▅█████</td></tr><tr><td>val_false_positives_3</td><td>█▃▁▁▁▁▁</td></tr><tr><td>val_loss</td><td>█▄▂▂▁▁▁</td></tr><tr><td>val_true_negatives_3</td><td>▁▆█████</td></tr><tr><td>val_true_positives_3</td><td>█▄▁▁▁▁▁</td></tr></table><br/></div><div class=\"wandb-col\"><h3>Run summary:</h3><br/><table class=\"wandb\"><tr><td>acc</td><td>0.66317</td></tr><tr><td>best_epoch</td><td>6</td></tr><tr><td>best_val_loss</td><td>0.62383</td></tr><tr><td>epoch</td><td>6</td></tr><tr><td>false_negatives_3</td><td>4803.0</td></tr><tr><td>false_positives_3</td><td>686.0</td></tr><tr><td>loss</td><td>0.62555</td></tr><tr><td>true_negatives_3</td><td>9115.0</td></tr><tr><td>true_positives_3</td><td>1692.0</td></tr><tr><td>val_acc</td><td>0.66446</td></tr><tr><td>val_false_negatives_3</td><td>4696.0</td></tr><tr><td>val_false_positives_3</td><td>772.0</td></tr><tr><td>val_loss</td><td>0.62383</td></tr><tr><td>val_true_negatives_3</td><td>9029.0</td></tr><tr><td>val_true_positives_3</td><td>1799.0</td></tr></table><br/></div></div>"
      ],
      "text/plain": [
       "<IPython.core.display.HTML object>"
      ]
     },
     "metadata": {},
     "output_type": "display_data"
    },
    {
     "data": {
      "text/html": [
       "Synced <strong style=\"color:#cdcd00\">Ex-1_(3-6-110)_20220416_102702</strong>: <a href=\"https://wandb.ai/tesis2/TesisDiegoV2%28umbral-2%29/runs/28r9lc7a\" target=\"_blank\">https://wandb.ai/tesis2/TesisDiegoV2%28umbral-2%29/runs/28r9lc7a</a><br/>Synced 6 W&B file(s), 1 media file(s), 0 artifact file(s) and 1 other file(s)"
      ],
      "text/plain": [
       "<IPython.core.display.HTML object>"
      ]
     },
     "metadata": {},
     "output_type": "display_data"
    },
    {
     "data": {
      "text/html": [
       "Find logs at: <code>.\\wandb\\run-20220416_102702-28r9lc7a\\logs</code>"
      ],
      "text/plain": [
       "<IPython.core.display.HTML object>"
      ]
     },
     "metadata": {},
     "output_type": "display_data"
    },
    {
     "name": "stdout",
     "output_type": "stream",
     "text": [
      "--------------------------------------------------\n",
      "Inicio de la prueba N°: 5/6\n",
      "Creadno modelo con input (70,70,3)) tipo (umbral)\n",
      "DONE\n",
      "Tamaño del dataset: Train 16296  - Val 4074\n",
      "- Batch size:  32\n"
     ]
    },
    {
     "data": {
      "text/html": [
       "wandb version 0.12.14 is available!  To upgrade, please run:\n",
       " $ pip install wandb --upgrade"
      ],
      "text/plain": [
       "<IPython.core.display.HTML object>"
      ]
     },
     "metadata": {},
     "output_type": "display_data"
    },
    {
     "data": {
      "text/html": [
       "Tracking run with wandb version 0.12.11"
      ],
      "text/plain": [
       "<IPython.core.display.HTML object>"
      ]
     },
     "metadata": {},
     "output_type": "display_data"
    },
    {
     "data": {
      "text/html": [
       "Run data is saved locally in <code>C:\\Users\\Shounen\\Desktop\\Ciclo XI\\Tesis 2\\GPUTesis\\Codigo\\Entrenamiento\\Jupyter\\wandb\\run-20220416_130846-3bnqv77u</code>"
      ],
      "text/plain": [
       "<IPython.core.display.HTML object>"
      ]
     },
     "metadata": {},
     "output_type": "display_data"
    },
    {
     "data": {
      "text/html": [
       "Syncing run <strong><a href=\"https://wandb.ai/tesis2/TesisDiegoV2%28umbral-2%29/runs/3bnqv77u\" target=\"_blank\">Ex-1_(3-2-70)_20220416_130846</a></strong> to <a href=\"https://wandb.ai/tesis2/TesisDiegoV2%28umbral-2%29\" target=\"_blank\">Weights & Biases</a> (<a href=\"https://wandb.me/run\" target=\"_blank\">docs</a>)<br/>"
      ],
      "text/plain": [
       "<IPython.core.display.HTML object>"
      ]
     },
     "metadata": {},
     "output_type": "display_data"
    },
    {
     "name": "stdout",
     "output_type": "stream",
     "text": [
      "Epoch 1/10\n",
      "510/510 [==============================] - ETA: 0s - loss: 0.6447 - acc: 0.6427 - true_positives_4: 1559.0000 - true_negatives_4: 8915.0000 - false_positives_4: 862.0000 - false_negatives_4: 4960.0000\n",
      "Epoch 1: saving model to C:/Users/Shounen/Desktop/Ciclo XI/Tesis 2/GPUTesis/Archivos/Modelos\\Model_20220416_130846.hdf5\n",
      "510/510 [==============================] - 699s 1s/step - loss: 0.6447 - acc: 0.6427 - true_positives_4: 1559.0000 - true_negatives_4: 8915.0000 - false_positives_4: 862.0000 - false_negatives_4: 4960.0000 - val_loss: 0.6293 - val_acc: 0.6637 - val_true_positives_4: 1892.0000 - val_true_negatives_4: 8924.0000 - val_false_positives_4: 853.0000 - val_false_negatives_4: 4627.0000 - _timestamp: 1650133240.0000 - _runtime: 714.0000\n",
      "Epoch 2/10\n",
      "509/510 [============================>.] - ETA: 0s - loss: 0.6294 - acc: 0.6625 - true_positives_4: 1840.0000 - true_negatives_4: 8951.0000 - false_positives_4: 821.0000 - false_negatives_4: 4676.0000\n",
      "Epoch 2: saving model to C:/Users/Shounen/Desktop/Ciclo XI/Tesis 2/GPUTesis/Archivos/Modelos\\Model_20220416_130846.hdf5\n",
      "510/510 [==============================] - 570s 1s/step - loss: 0.6294 - acc: 0.6626 - true_positives_4: 1841.0000 - true_negatives_4: 8956.0000 - false_positives_4: 821.0000 - false_negatives_4: 4678.0000 - val_loss: 0.6263 - val_acc: 0.6639 - val_true_positives_4: 1792.0000 - val_true_negatives_4: 9027.0000 - val_false_positives_4: 750.0000 - val_false_negatives_4: 4727.0000 - _timestamp: 1650133810.0000 - _runtime: 1284.0000\n",
      "Epoch 3/10\n",
      "509/510 [============================>.] - ETA: 0s - loss: 0.6272 - acc: 0.6632 - true_positives_4: 1729.0000 - true_negatives_4: 9074.0000 - false_positives_4: 698.0000 - false_negatives_4: 4787.0000\n",
      "Epoch 3: saving model to C:/Users/Shounen/Desktop/Ciclo XI/Tesis 2/GPUTesis/Archivos/Modelos\\Model_20220416_130846.hdf5\n",
      "510/510 [==============================] - 516s 1s/step - loss: 0.6272 - acc: 0.6633 - true_positives_4: 1730.0000 - true_negatives_4: 9079.0000 - false_positives_4: 698.0000 - false_negatives_4: 4789.0000 - val_loss: 0.6255 - val_acc: 0.6639 - val_true_positives_4: 1792.0000 - val_true_negatives_4: 9027.0000 - val_false_positives_4: 750.0000 - val_false_negatives_4: 4727.0000 - _timestamp: 1650134326.0000 - _runtime: 1800.0000\n",
      "Epoch 4/10\n",
      "509/510 [============================>.] - ETA: 0s - loss: 0.6261 - acc: 0.6626 - true_positives_4: 1676.0000 - true_negatives_4: 9116.0000 - false_positives_4: 656.0000 - false_negatives_4: 4840.0000\n",
      "Epoch 4: saving model to C:/Users/Shounen/Desktop/Ciclo XI/Tesis 2/GPUTesis/Archivos/Modelos\\Model_20220416_130846.hdf5\n",
      "510/510 [==============================] - 574s 1s/step - loss: 0.6261 - acc: 0.6626 - true_positives_4: 1677.0000 - true_negatives_4: 9121.0000 - false_positives_4: 656.0000 - false_negatives_4: 4842.0000 - val_loss: 0.6247 - val_acc: 0.6639 - val_true_positives_4: 1792.0000 - val_true_negatives_4: 9027.0000 - val_false_positives_4: 750.0000 - val_false_negatives_4: 4727.0000 - _timestamp: 1650134900.0000 - _runtime: 2374.0000\n",
      "Epoch 5/10\n",
      "509/510 [============================>.] - ETA: 0s - loss: 0.6256 - acc: 0.6627 - true_positives_4: 1720.0000 - true_negatives_4: 9074.0000 - false_positives_4: 698.0000 - false_negatives_4: 4796.0000\n",
      "Epoch 5: saving model to C:/Users/Shounen/Desktop/Ciclo XI/Tesis 2/GPUTesis/Archivos/Modelos\\Model_20220416_130846.hdf5\n",
      "510/510 [==============================] - 604s 1s/step - loss: 0.6256 - acc: 0.6627 - true_positives_4: 1721.0000 - true_negatives_4: 9079.0000 - false_positives_4: 698.0000 - false_negatives_4: 4798.0000 - val_loss: 0.6243 - val_acc: 0.6639 - val_true_positives_4: 1792.0000 - val_true_negatives_4: 9027.0000 - val_false_positives_4: 750.0000 - val_false_negatives_4: 4727.0000 - _timestamp: 1650135504.0000 - _runtime: 2978.0000\n",
      "Epoch 6/10\n",
      "510/510 [==============================] - ETA: 0s - loss: 0.6252 - acc: 0.6632 - true_positives_4: 1739.0000 - true_negatives_4: 9069.0000 - false_positives_4: 708.0000 - false_negatives_4: 4780.0000\n",
      "Epoch 6: saving model to C:/Users/Shounen/Desktop/Ciclo XI/Tesis 2/GPUTesis/Archivos/Modelos\\Model_20220416_130846.hdf5\n",
      "510/510 [==============================] - 497s 974ms/step - loss: 0.6252 - acc: 0.6632 - true_positives_4: 1739.0000 - true_negatives_4: 9069.0000 - false_positives_4: 708.0000 - false_negatives_4: 4780.0000 - val_loss: 0.6243 - val_acc: 0.6639 - val_true_positives_4: 1792.0000 - val_true_negatives_4: 9027.0000 - val_false_positives_4: 750.0000 - val_false_negatives_4: 4727.0000 - _timestamp: 1650136001.0000 - _runtime: 3475.0000\n",
      "\n"
     ]
    },
    {
     "data": {
      "text/html": [
       "Waiting for W&B process to finish... <strong style=\"color:green\">(success).</strong>"
      ],
      "text/plain": [
       "<IPython.core.display.HTML object>"
      ]
     },
     "metadata": {},
     "output_type": "display_data"
    },
    {
     "data": {
      "application/vnd.jupyter.widget-view+json": {
       "model_id": "",
       "version_major": 2,
       "version_minor": 0
      },
      "text/plain": [
       "VBox(children=(Label(value='0.439 MB of 0.439 MB uploaded (0.000 MB deduped)\\r'), FloatProgress(value=1.0, max…"
      ]
     },
     "metadata": {},
     "output_type": "display_data"
    },
    {
     "data": {
      "text/html": [
       "<style>\n",
       "    table.wandb td:nth-child(1) { padding: 0 10px; text-align: right }\n",
       "    .wandb-row { display: flex; flex-direction: row; flex-wrap: wrap; width: 100% }\n",
       "    .wandb-col { display: flex; flex-direction: column; flex-basis: 100%; flex: 1; padding: 10px; }\n",
       "    </style>\n",
       "<div class=\"wandb-row\"><div class=\"wandb-col\"><h3>Run history:</h3><br/><table class=\"wandb\"><tr><td>acc</td><td>▁█████</td></tr><tr><td>epoch</td><td>▁▂▄▅▇█</td></tr><tr><td>false_negatives_4</td><td>█▁▄▅▄▄</td></tr><tr><td>false_positives_4</td><td>█▇▂▁▂▃</td></tr><tr><td>loss</td><td>█▃▂▁▁▁</td></tr><tr><td>true_negatives_4</td><td>▁▂▇█▇▆</td></tr><tr><td>true_positives_4</td><td>▁█▅▄▅▅</td></tr><tr><td>val_acc</td><td>▁█████</td></tr><tr><td>val_false_negatives_4</td><td>▁█████</td></tr><tr><td>val_false_positives_4</td><td>█▁▁▁▁▁</td></tr><tr><td>val_loss</td><td>█▄▃▂▁▁</td></tr><tr><td>val_true_negatives_4</td><td>▁█████</td></tr><tr><td>val_true_positives_4</td><td>█▁▁▁▁▁</td></tr></table><br/></div><div class=\"wandb-col\"><h3>Run summary:</h3><br/><table class=\"wandb\"><tr><td>acc</td><td>0.66323</td></tr><tr><td>best_epoch</td><td>5</td></tr><tr><td>best_val_loss</td><td>0.62426</td></tr><tr><td>epoch</td><td>5</td></tr><tr><td>false_negatives_4</td><td>4780.0</td></tr><tr><td>false_positives_4</td><td>708.0</td></tr><tr><td>loss</td><td>0.62518</td></tr><tr><td>true_negatives_4</td><td>9069.0</td></tr><tr><td>true_positives_4</td><td>1739.0</td></tr><tr><td>val_acc</td><td>0.66391</td></tr><tr><td>val_false_negatives_4</td><td>4727.0</td></tr><tr><td>val_false_positives_4</td><td>750.0</td></tr><tr><td>val_loss</td><td>0.62426</td></tr><tr><td>val_true_negatives_4</td><td>9027.0</td></tr><tr><td>val_true_positives_4</td><td>1792.0</td></tr></table><br/></div></div>"
      ],
      "text/plain": [
       "<IPython.core.display.HTML object>"
      ]
     },
     "metadata": {},
     "output_type": "display_data"
    },
    {
     "data": {
      "text/html": [
       "Synced <strong style=\"color:#cdcd00\">Ex-1_(3-2-70)_20220416_130846</strong>: <a href=\"https://wandb.ai/tesis2/TesisDiegoV2%28umbral-2%29/runs/3bnqv77u\" target=\"_blank\">https://wandb.ai/tesis2/TesisDiegoV2%28umbral-2%29/runs/3bnqv77u</a><br/>Synced 6 W&B file(s), 1 media file(s), 0 artifact file(s) and 1 other file(s)"
      ],
      "text/plain": [
       "<IPython.core.display.HTML object>"
      ]
     },
     "metadata": {},
     "output_type": "display_data"
    },
    {
     "data": {
      "text/html": [
       "Find logs at: <code>.\\wandb\\run-20220416_130846-3bnqv77u\\logs</code>"
      ],
      "text/plain": [
       "<IPython.core.display.HTML object>"
      ]
     },
     "metadata": {},
     "output_type": "display_data"
    },
    {
     "name": "stdout",
     "output_type": "stream",
     "text": [
      "--------------------------------------------------\n",
      "Inicio de la prueba N°: 6/6\n",
      "Creadno modelo con input (70,70,3)) tipo (umbral)\n",
      "DONE\n",
      "Tamaño del dataset: Train 16296  - Val 4074\n",
      "- Batch size:  32\n"
     ]
    },
    {
     "data": {
      "text/html": [
       "wandb version 0.12.14 is available!  To upgrade, please run:\n",
       " $ pip install wandb --upgrade"
      ],
      "text/plain": [
       "<IPython.core.display.HTML object>"
      ]
     },
     "metadata": {},
     "output_type": "display_data"
    },
    {
     "data": {
      "text/html": [
       "Tracking run with wandb version 0.12.11"
      ],
      "text/plain": [
       "<IPython.core.display.HTML object>"
      ]
     },
     "metadata": {},
     "output_type": "display_data"
    },
    {
     "data": {
      "text/html": [
       "Run data is saved locally in <code>C:\\Users\\Shounen\\Desktop\\Ciclo XI\\Tesis 2\\GPUTesis\\Codigo\\Entrenamiento\\Jupyter\\wandb\\run-20220416_140654-3b68kfra</code>"
      ],
      "text/plain": [
       "<IPython.core.display.HTML object>"
      ]
     },
     "metadata": {},
     "output_type": "display_data"
    },
    {
     "data": {
      "text/html": [
       "Syncing run <strong><a href=\"https://wandb.ai/tesis2/TesisDiegoV2%28umbral-2%29/runs/3b68kfra\" target=\"_blank\">Ex-1_(3-6-70)_20220416_140654</a></strong> to <a href=\"https://wandb.ai/tesis2/TesisDiegoV2%28umbral-2%29\" target=\"_blank\">Weights & Biases</a> (<a href=\"https://wandb.me/run\" target=\"_blank\">docs</a>)<br/>"
      ],
      "text/plain": [
       "<IPython.core.display.HTML object>"
      ]
     },
     "metadata": {},
     "output_type": "display_data"
    },
    {
     "name": "stdout",
     "output_type": "stream",
     "text": [
      "Epoch 1/10\n",
      "510/510 [==============================] - ETA: 0s - loss: 0.6446 - acc: 0.6437 - true_positives_5: 1485.0000 - true_negatives_5: 9004.0000 - false_positives_5: 763.0000 - false_negatives_5: 5044.0000\n",
      "Epoch 1: saving model to C:/Users/Shounen/Desktop/Ciclo XI/Tesis 2/GPUTesis/Archivos/Modelos\\Model_20220416_140654.hdf5\n",
      "510/510 [==============================] - 1652s 3s/step - loss: 0.6446 - acc: 0.6437 - true_positives_5: 1485.0000 - true_negatives_5: 9004.0000 - false_positives_5: 763.0000 - false_negatives_5: 5044.0000 - val_loss: 0.6307 - val_acc: 0.6637 - val_true_positives_5: 1817.0000 - val_true_negatives_5: 8998.0000 - val_false_positives_5: 769.0000 - val_false_negatives_5: 4712.0000 - _timestamp: 1650137676.0000 - _runtime: 1662.0000\n",
      "Epoch 2/10\n",
      "509/510 [============================>.] - ETA: 1s - loss: 0.6295 - acc: 0.6613 - true_positives_5: 1784.0000 - true_negatives_5: 8987.0000 - false_positives_5: 775.0000 - false_negatives_5: 4742.0000\n",
      "Epoch 2: saving model to C:/Users/Shounen/Desktop/Ciclo XI/Tesis 2/GPUTesis/Archivos/Modelos\\Model_20220416_140654.hdf5\n",
      "510/510 [==============================] - 1621s 3s/step - loss: 0.6294 - acc: 0.6613 - true_positives_5: 1785.0000 - true_negatives_5: 8992.0000 - false_positives_5: 775.0000 - false_negatives_5: 4744.0000 - val_loss: 0.6280 - val_acc: 0.6619 - val_true_positives_5: 1458.0000 - val_true_negatives_5: 9328.0000 - val_false_positives_5: 439.0000 - val_false_negatives_5: 5071.0000 - _timestamp: 1650139297.0000 - _runtime: 3283.0000\n",
      "Epoch 3/10\n",
      "509/510 [============================>.] - ETA: 1s - loss: 0.6273 - acc: 0.6632 - true_positives_5: 1674.0000 - true_negatives_5: 9128.0000 - false_positives_5: 634.0000 - false_negatives_5: 4852.0000\n",
      "Epoch 3: saving model to C:/Users/Shounen/Desktop/Ciclo XI/Tesis 2/GPUTesis/Archivos/Modelos\\Model_20220416_140654.hdf5\n",
      "510/510 [==============================] - 1494s 3s/step - loss: 0.6272 - acc: 0.6632 - true_positives_5: 1675.0000 - true_negatives_5: 9133.0000 - false_positives_5: 634.0000 - false_negatives_5: 4854.0000 - val_loss: 0.6268 - val_acc: 0.6619 - val_true_positives_5: 1458.0000 - val_true_negatives_5: 9328.0000 - val_false_positives_5: 439.0000 - val_false_negatives_5: 5071.0000 - _timestamp: 1650140791.0000 - _runtime: 4777.0000\n",
      "Epoch 4/10\n",
      "510/510 [==============================] - ETA: 0s - loss: 0.6264 - acc: 0.6637 - true_positives_5: 1646.0000 - true_negatives_5: 9170.0000 - false_positives_5: 597.0000 - false_negatives_5: 4883.0000\n",
      "Epoch 4: saving model to C:/Users/Shounen/Desktop/Ciclo XI/Tesis 2/GPUTesis/Archivos/Modelos\\Model_20220416_140654.hdf5\n",
      "510/510 [==============================] - 1299s 3s/step - loss: 0.6264 - acc: 0.6637 - true_positives_5: 1646.0000 - true_negatives_5: 9170.0000 - false_positives_5: 597.0000 - false_negatives_5: 4883.0000 - val_loss: 0.6259 - val_acc: 0.6619 - val_true_positives_5: 1458.0000 - val_true_negatives_5: 9328.0000 - val_false_positives_5: 439.0000 - val_false_negatives_5: 5071.0000 - _timestamp: 1650142090.0000 - _runtime: 6076.0000\n",
      "Epoch 5/10\n",
      "510/510 [==============================] - ETA: 0s - loss: 0.6258 - acc: 0.6640 - true_positives_5: 1651.0000 - true_negatives_5: 9169.0000 - false_positives_5: 598.0000 - false_negatives_5: 4878.0000\n",
      "Epoch 5: saving model to C:/Users/Shounen/Desktop/Ciclo XI/Tesis 2/GPUTesis/Archivos/Modelos\\Model_20220416_140654.hdf5\n",
      "510/510 [==============================] - 1448s 3s/step - loss: 0.6258 - acc: 0.6640 - true_positives_5: 1651.0000 - true_negatives_5: 9169.0000 - false_positives_5: 598.0000 - false_negatives_5: 4878.0000 - val_loss: 0.6255 - val_acc: 0.6625 - val_true_positives_5: 1483.0000 - val_true_negatives_5: 9313.0000 - val_false_positives_5: 454.0000 - val_false_negatives_5: 5046.0000 - _timestamp: 1650143538.0000 - _runtime: 7524.0000\n",
      "\n"
     ]
    },
    {
     "data": {
      "text/html": [
       "Waiting for W&B process to finish... <strong style=\"color:green\">(success).</strong>"
      ],
      "text/plain": [
       "<IPython.core.display.HTML object>"
      ]
     },
     "metadata": {},
     "output_type": "display_data"
    },
    {
     "data": {
      "application/vnd.jupyter.widget-view+json": {
       "model_id": "",
       "version_major": 2,
       "version_minor": 0
      },
      "text/plain": [
       "VBox(children=(Label(value='0.440 MB of 0.440 MB uploaded (0.000 MB deduped)\\r'), FloatProgress(value=1.0, max…"
      ]
     },
     "metadata": {},
     "output_type": "display_data"
    },
    {
     "data": {
      "text/html": [
       "<style>\n",
       "    table.wandb td:nth-child(1) { padding: 0 10px; text-align: right }\n",
       "    .wandb-row { display: flex; flex-direction: row; flex-wrap: wrap; width: 100% }\n",
       "    .wandb-col { display: flex; flex-direction: column; flex-basis: 100%; flex: 1; padding: 10px; }\n",
       "    </style>\n",
       "<div class=\"wandb-row\"><div class=\"wandb-col\"><h3>Run history:</h3><br/><table class=\"wandb\"><tr><td>acc</td><td>▁▇███</td></tr><tr><td>epoch</td><td>▁▃▅▆█</td></tr><tr><td>false_negatives_5</td><td>█▁▄▄▄</td></tr><tr><td>false_positives_5</td><td>██▂▁▁</td></tr><tr><td>loss</td><td>█▂▂▁▁</td></tr><tr><td>true_negatives_5</td><td>▁▁▇██</td></tr><tr><td>true_positives_5</td><td>▁█▅▅▅</td></tr><tr><td>val_acc</td><td>█▁▁▁▃</td></tr><tr><td>val_false_negatives_5</td><td>▁████</td></tr><tr><td>val_false_positives_5</td><td>█▁▁▁▁</td></tr><tr><td>val_loss</td><td>█▄▃▂▁</td></tr><tr><td>val_true_negatives_5</td><td>▁████</td></tr><tr><td>val_true_positives_5</td><td>█▁▁▁▁</td></tr></table><br/></div><div class=\"wandb-col\"><h3>Run summary:</h3><br/><table class=\"wandb\"><tr><td>acc</td><td>0.66397</td></tr><tr><td>best_epoch</td><td>4</td></tr><tr><td>best_val_loss</td><td>0.62545</td></tr><tr><td>epoch</td><td>4</td></tr><tr><td>false_negatives_5</td><td>4878.0</td></tr><tr><td>false_positives_5</td><td>598.0</td></tr><tr><td>loss</td><td>0.62584</td></tr><tr><td>true_negatives_5</td><td>9169.0</td></tr><tr><td>true_positives_5</td><td>1651.0</td></tr><tr><td>val_acc</td><td>0.66249</td></tr><tr><td>val_false_negatives_5</td><td>5046.0</td></tr><tr><td>val_false_positives_5</td><td>454.0</td></tr><tr><td>val_loss</td><td>0.62545</td></tr><tr><td>val_true_negatives_5</td><td>9313.0</td></tr><tr><td>val_true_positives_5</td><td>1483.0</td></tr></table><br/></div></div>"
      ],
      "text/plain": [
       "<IPython.core.display.HTML object>"
      ]
     },
     "metadata": {},
     "output_type": "display_data"
    },
    {
     "data": {
      "text/html": [
       "Synced <strong style=\"color:#cdcd00\">Ex-1_(3-6-70)_20220416_140654</strong>: <a href=\"https://wandb.ai/tesis2/TesisDiegoV2%28umbral-2%29/runs/3b68kfra\" target=\"_blank\">https://wandb.ai/tesis2/TesisDiegoV2%28umbral-2%29/runs/3b68kfra</a><br/>Synced 6 W&B file(s), 1 media file(s), 0 artifact file(s) and 1 other file(s)"
      ],
      "text/plain": [
       "<IPython.core.display.HTML object>"
      ]
     },
     "metadata": {},
     "output_type": "display_data"
    },
    {
     "data": {
      "text/html": [
       "Find logs at: <code>.\\wandb\\run-20220416_140654-3b68kfra\\logs</code>"
      ],
      "text/plain": [
       "<IPython.core.display.HTML object>"
      ]
     },
     "metadata": {},
     "output_type": "display_data"
    },
    {
     "name": "stdout",
     "output_type": "stream",
     "text": [
      "CPU times: total: 3d 5h 50min 31s\n",
      "Wall time: 17h 49min 15s\n"
     ]
    }
   ],
   "source": [
    "%%time\n",
    "#Solo imagenes (dato)\n",
    "resultados = trainModel(params,_dataset,path_imagenes,path_base,products,times, graficos=1)"
   ]
  },
  {
   "cell_type": "code",
   "execution_count": 40,
   "id": "4a33fdc8",
   "metadata": {},
   "outputs": [],
   "source": [
    "\"\"\"\n",
    "# Definimos las varibles para las iteraciones\n",
    "Los parametros que van a cambiar son:\n",
    "- Canales (products)\n",
    "- Tiempos (Min de las imagenes)\n",
    "- margen\n",
    "\"\"\"\n",
    "params = {'inputs'   : ['imagen','99%'],\n",
    "          'outputs'  : 'umbral',  #umbral o dato\n",
    "          'lr'       : 0.001,\n",
    "          'batch'    : 32,        \n",
    "          'dataset'  : 1,\n",
    "          'epocas'   : 10,          \n",
    "          'paciencia': 4,\n",
    "          'canales'  : [3,3,3,3,3,3],\n",
    "          'tiempos'  : [1,4,1,4,1,4],\n",
    "          'margen'   : [50,50,110,110,70,70],\n",
    "          'runs'     : 6\n",
    "         }"
   ]
  },
  {
   "cell_type": "code",
   "execution_count": 41,
   "id": "0a1f9859",
   "metadata": {},
   "outputs": [
    {
     "name": "stdout",
     "output_type": "stream",
     "text": [
      "--------------------------------------------------\n",
      "Inicio de la prueba N°: 1/6\n",
      "Creadno modelo con input (50,50,3)) tipo (umbral)\n",
      "DONE\n",
      "Tamaño del dataset: Train 16296  - Val 4074\n",
      "- Batch size:  32\n"
     ]
    },
    {
     "data": {
      "text/html": [
       "wandb version 0.12.14 is available!  To upgrade, please run:\n",
       " $ pip install wandb --upgrade"
      ],
      "text/plain": [
       "<IPython.core.display.HTML object>"
      ]
     },
     "metadata": {},
     "output_type": "display_data"
    },
    {
     "data": {
      "text/html": [
       "Tracking run with wandb version 0.12.11"
      ],
      "text/plain": [
       "<IPython.core.display.HTML object>"
      ]
     },
     "metadata": {},
     "output_type": "display_data"
    },
    {
     "data": {
      "text/html": [
       "Run data is saved locally in <code>C:\\Users\\Shounen\\Desktop\\Ciclo XI\\Tesis 2\\GPUTesis\\Codigo\\Entrenamiento\\Jupyter\\wandb\\run-20220416_161233-32aye141</code>"
      ],
      "text/plain": [
       "<IPython.core.display.HTML object>"
      ]
     },
     "metadata": {},
     "output_type": "display_data"
    },
    {
     "data": {
      "text/html": [
       "Syncing run <strong><a href=\"https://wandb.ai/tesis2/TesisDiegoV2%28umbral-2%29/runs/32aye141\" target=\"_blank\">Ex-1_(3-1-50)_20220416_161233</a></strong> to <a href=\"https://wandb.ai/tesis2/TesisDiegoV2%28umbral-2%29\" target=\"_blank\">Weights & Biases</a> (<a href=\"https://wandb.me/run\" target=\"_blank\">docs</a>)<br/>"
      ],
      "text/plain": [
       "<IPython.core.display.HTML object>"
      ]
     },
     "metadata": {},
     "output_type": "display_data"
    },
    {
     "name": "stdout",
     "output_type": "stream",
     "text": [
      "Epoch 1/10\n",
      "509/510 [============================>.] - ETA: 0s - loss: 0.6481 - acc: 0.6372 - true_positives_6: 1405.0000 - true_negatives_6: 8974.0000 - false_positives_6: 808.0000 - false_negatives_6: 5101.0000\n",
      "Epoch 1: saving model to C:/Users/Shounen/Desktop/Ciclo XI/Tesis 2/GPUTesis/Archivos/Modelos\\Model_20220416_161233.hdf5\n",
      "510/510 [==============================] - 188s 367ms/step - loss: 0.6481 - acc: 0.6373 - true_positives_6: 1407.0000 - true_negatives_6: 8978.0000 - false_positives_6: 809.0000 - false_negatives_6: 5102.0000 - val_loss: 0.6345 - val_acc: 0.6589 - val_true_positives_6: 1987.0000 - val_true_negatives_6: 8750.0000 - val_false_positives_6: 1037.0000 - val_false_negatives_6: 4522.0000 - _timestamp: 1650143760.0000 - _runtime: 207.0000\n",
      "Epoch 2/10\n",
      "509/510 [============================>.] - ETA: 0s - loss: 0.6319 - acc: 0.6602 - true_positives_6: 1924.0000 - true_negatives_6: 8830.0000 - false_positives_6: 952.0000 - false_negatives_6: 4582.0000\n",
      "Epoch 2: saving model to C:/Users/Shounen/Desktop/Ciclo XI/Tesis 2/GPUTesis/Archivos/Modelos\\Model_20220416_161233.hdf5\n",
      "510/510 [==============================] - 186s 364ms/step - loss: 0.6319 - acc: 0.6603 - true_positives_6: 1926.0000 - true_negatives_6: 8834.0000 - false_positives_6: 953.0000 - false_negatives_6: 4583.0000 - val_loss: 0.6295 - val_acc: 0.6635 - val_true_positives_6: 1906.0000 - val_true_negatives_6: 8906.0000 - val_false_positives_6: 881.0000 - val_false_negatives_6: 4603.0000 - _timestamp: 1650143946.0000 - _runtime: 393.0000\n",
      "Epoch 3/10\n",
      "509/510 [============================>.] - ETA: 0s - loss: 0.6289 - acc: 0.6617 - true_positives_6: 1802.0000 - true_negatives_6: 8976.0000 - false_positives_6: 806.0000 - false_negatives_6: 4704.0000\n",
      "Epoch 3: saving model to C:/Users/Shounen/Desktop/Ciclo XI/Tesis 2/GPUTesis/Archivos/Modelos\\Model_20220416_161233.hdf5\n",
      "510/510 [==============================] - 185s 363ms/step - loss: 0.6289 - acc: 0.6618 - true_positives_6: 1804.0000 - true_negatives_6: 8980.0000 - false_positives_6: 807.0000 - false_negatives_6: 4705.0000 - val_loss: 0.6276 - val_acc: 0.6632 - val_true_positives_6: 1877.0000 - val_true_negatives_6: 8931.0000 - val_false_positives_6: 856.0000 - val_false_negatives_6: 4632.0000 - _timestamp: 1650144131.0000 - _runtime: 578.0000\n",
      "Epoch 4/10\n",
      "509/510 [============================>.] - ETA: 0s - loss: 0.6280 - acc: 0.6616 - true_positives_6: 1716.0000 - true_negatives_6: 9060.0000 - false_positives_6: 722.0000 - false_negatives_6: 4790.0000\n",
      "Epoch 4: saving model to C:/Users/Shounen/Desktop/Ciclo XI/Tesis 2/GPUTesis/Archivos/Modelos\\Model_20220416_161233.hdf5\n",
      "510/510 [==============================] - 223s 438ms/step - loss: 0.6280 - acc: 0.6616 - true_positives_6: 1718.0000 - true_negatives_6: 9064.0000 - false_positives_6: 723.0000 - false_negatives_6: 4791.0000 - val_loss: 0.6267 - val_acc: 0.6632 - val_true_positives_6: 1877.0000 - val_true_negatives_6: 8931.0000 - val_false_positives_6: 856.0000 - val_false_negatives_6: 4632.0000 - _timestamp: 1650144354.0000 - _runtime: 801.0000\n",
      "Epoch 5/10\n",
      "509/510 [============================>.] - ETA: 0s - loss: 0.6268 - acc: 0.6613 - true_positives_6: 1693.0000 - true_negatives_6: 9078.0000 - false_positives_6: 704.0000 - false_negatives_6: 4813.0000\n",
      "Epoch 5: saving model to C:/Users/Shounen/Desktop/Ciclo XI/Tesis 2/GPUTesis/Archivos/Modelos\\Model_20220416_161233.hdf5\n",
      "510/510 [==============================] - 273s 535ms/step - loss: 0.6268 - acc: 0.6613 - true_positives_6: 1695.0000 - true_negatives_6: 9082.0000 - false_positives_6: 705.0000 - false_negatives_6: 4814.0000 - val_loss: 0.6262 - val_acc: 0.6599 - val_true_positives_6: 1801.0000 - val_true_negatives_6: 8953.0000 - val_false_positives_6: 834.0000 - val_false_negatives_6: 4708.0000 - _timestamp: 1650144627.0000 - _runtime: 1074.0000\n",
      "Epoch 6/10\n",
      "509/510 [============================>.] - ETA: 0s - loss: 0.6263 - acc: 0.6609 - true_positives_6: 1671.0000 - true_negatives_6: 9093.0000 - false_positives_6: 689.0000 - false_negatives_6: 4835.0000\n",
      "Epoch 6: saving model to C:/Users/Shounen/Desktop/Ciclo XI/Tesis 2/GPUTesis/Archivos/Modelos\\Model_20220416_161233.hdf5\n",
      "510/510 [==============================] - 183s 359ms/step - loss: 0.6263 - acc: 0.6609 - true_positives_6: 1673.0000 - true_negatives_6: 9097.0000 - false_positives_6: 690.0000 - false_negatives_6: 4836.0000 - val_loss: 0.6257 - val_acc: 0.6632 - val_true_positives_6: 1877.0000 - val_true_negatives_6: 8931.0000 - val_false_positives_6: 856.0000 - val_false_negatives_6: 4632.0000 - _timestamp: 1650144810.0000 - _runtime: 1257.0000\n",
      "\n"
     ]
    },
    {
     "data": {
      "text/html": [
       "Waiting for W&B process to finish... <strong style=\"color:green\">(success).</strong>"
      ],
      "text/plain": [
       "<IPython.core.display.HTML object>"
      ]
     },
     "metadata": {},
     "output_type": "display_data"
    },
    {
     "data": {
      "application/vnd.jupyter.widget-view+json": {
       "model_id": "",
       "version_major": 2,
       "version_minor": 0
      },
      "text/plain": [
       "VBox(children=(Label(value='0.358 MB of 0.358 MB uploaded (0.000 MB deduped)\\r'), FloatProgress(value=1.0, max…"
      ]
     },
     "metadata": {},
     "output_type": "display_data"
    },
    {
     "data": {
      "text/html": [
       "<style>\n",
       "    table.wandb td:nth-child(1) { padding: 0 10px; text-align: right }\n",
       "    .wandb-row { display: flex; flex-direction: row; flex-wrap: wrap; width: 100% }\n",
       "    .wandb-col { display: flex; flex-direction: column; flex-basis: 100%; flex: 1; padding: 10px; }\n",
       "    </style>\n",
       "<div class=\"wandb-row\"><div class=\"wandb-col\"><h3>Run history:</h3><br/><table class=\"wandb\"><tr><td>acc</td><td>▁█████</td></tr><tr><td>epoch</td><td>▁▂▄▅▇█</td></tr><tr><td>false_negatives_6</td><td>█▁▃▄▄▄</td></tr><tr><td>false_positives_6</td><td>▄█▄▂▁▁</td></tr><tr><td>loss</td><td>█▃▂▂▁▁</td></tr><tr><td>true_negatives_6</td><td>▅▁▅▇██</td></tr><tr><td>true_positives_6</td><td>▁█▆▅▅▅</td></tr><tr><td>val_acc</td><td>▁███▃█</td></tr><tr><td>val_false_negatives_6</td><td>▁▄▅▅█▅</td></tr><tr><td>val_false_positives_6</td><td>█▃▂▂▁▂</td></tr><tr><td>val_loss</td><td>█▄▃▂▁▁</td></tr><tr><td>val_true_negatives_6</td><td>▁▆▇▇█▇</td></tr><tr><td>val_true_positives_6</td><td>█▅▄▄▁▄</td></tr></table><br/></div><div class=\"wandb-col\"><h3>Run summary:</h3><br/><table class=\"wandb\"><tr><td>acc</td><td>0.6609</td></tr><tr><td>best_epoch</td><td>5</td></tr><tr><td>best_val_loss</td><td>0.62574</td></tr><tr><td>epoch</td><td>5</td></tr><tr><td>false_negatives_6</td><td>4836.0</td></tr><tr><td>false_positives_6</td><td>690.0</td></tr><tr><td>loss</td><td>0.62628</td></tr><tr><td>true_negatives_6</td><td>9097.0</td></tr><tr><td>true_positives_6</td><td>1673.0</td></tr><tr><td>val_acc</td><td>0.66323</td></tr><tr><td>val_false_negatives_6</td><td>4632.0</td></tr><tr><td>val_false_positives_6</td><td>856.0</td></tr><tr><td>val_loss</td><td>0.62574</td></tr><tr><td>val_true_negatives_6</td><td>8931.0</td></tr><tr><td>val_true_positives_6</td><td>1877.0</td></tr></table><br/></div></div>"
      ],
      "text/plain": [
       "<IPython.core.display.HTML object>"
      ]
     },
     "metadata": {},
     "output_type": "display_data"
    },
    {
     "data": {
      "text/html": [
       "Synced <strong style=\"color:#cdcd00\">Ex-1_(3-1-50)_20220416_161233</strong>: <a href=\"https://wandb.ai/tesis2/TesisDiegoV2%28umbral-2%29/runs/32aye141\" target=\"_blank\">https://wandb.ai/tesis2/TesisDiegoV2%28umbral-2%29/runs/32aye141</a><br/>Synced 6 W&B file(s), 1 media file(s), 0 artifact file(s) and 1 other file(s)"
      ],
      "text/plain": [
       "<IPython.core.display.HTML object>"
      ]
     },
     "metadata": {},
     "output_type": "display_data"
    },
    {
     "data": {
      "text/html": [
       "Find logs at: <code>.\\wandb\\run-20220416_161233-32aye141\\logs</code>"
      ],
      "text/plain": [
       "<IPython.core.display.HTML object>"
      ]
     },
     "metadata": {},
     "output_type": "display_data"
    },
    {
     "name": "stdout",
     "output_type": "stream",
     "text": [
      "--------------------------------------------------\n",
      "Inicio de la prueba N°: 2/6\n",
      "Creadno modelo con input (50,50,3)) tipo (umbral)\n",
      "DONE\n",
      "Tamaño del dataset: Train 16296  - Val 4074\n",
      "- Batch size:  32\n"
     ]
    },
    {
     "data": {
      "text/html": [
       "wandb version 0.12.14 is available!  To upgrade, please run:\n",
       " $ pip install wandb --upgrade"
      ],
      "text/plain": [
       "<IPython.core.display.HTML object>"
      ]
     },
     "metadata": {},
     "output_type": "display_data"
    },
    {
     "data": {
      "text/html": [
       "Tracking run with wandb version 0.12.11"
      ],
      "text/plain": [
       "<IPython.core.display.HTML object>"
      ]
     },
     "metadata": {},
     "output_type": "display_data"
    },
    {
     "data": {
      "text/html": [
       "Run data is saved locally in <code>C:\\Users\\Shounen\\Desktop\\Ciclo XI\\Tesis 2\\GPUTesis\\Codigo\\Entrenamiento\\Jupyter\\wandb\\run-20220416_183242-230fl36c</code>"
      ],
      "text/plain": [
       "<IPython.core.display.HTML object>"
      ]
     },
     "metadata": {},
     "output_type": "display_data"
    },
    {
     "data": {
      "text/html": [
       "Syncing run <strong><a href=\"https://wandb.ai/tesis2/TesisDiegoV2%28umbral-2%29/runs/230fl36c\" target=\"_blank\">Ex-1_(3-4-50)_20220416_183242</a></strong> to <a href=\"https://wandb.ai/tesis2/TesisDiegoV2%28umbral-2%29\" target=\"_blank\">Weights & Biases</a> (<a href=\"https://wandb.me/run\" target=\"_blank\">docs</a>)<br/>"
      ],
      "text/plain": [
       "<IPython.core.display.HTML object>"
      ]
     },
     "metadata": {},
     "output_type": "display_data"
    },
    {
     "name": "stdout",
     "output_type": "stream",
     "text": [
      "Epoch 1/10\n",
      "510/510 [==============================] - ETA: 0s - loss: 0.6391 - acc: 0.6578 - true_positives_7: 1800.0000 - true_negatives_7: 8920.0000 - false_positives_7: 857.0000 - false_negatives_7: 4719.0000\n",
      "Epoch 1: saving model to C:/Users/Shounen/Desktop/Ciclo XI/Tesis 2/GPUTesis/Archivos/Modelos\\Model_20220416_183242.hdf5\n",
      "510/510 [==============================] - 914s 2s/step - loss: 0.6391 - acc: 0.6578 - true_positives_7: 1800.0000 - true_negatives_7: 8920.0000 - false_positives_7: 857.0000 - false_negatives_7: 4719.0000 - val_loss: 0.6291 - val_acc: 0.6637 - val_true_positives_7: 1829.0000 - val_true_negatives_7: 8986.0000 - val_false_positives_7: 791.0000 - val_false_negatives_7: 4690.0000 - _timestamp: 1650152894.0000 - _runtime: 932.0000\n",
      "Epoch 2/10\n",
      "509/510 [============================>.] - ETA: 0s - loss: 0.6293 - acc: 0.6627 - true_positives_7: 1737.0000 - true_negatives_7: 9057.0000 - false_positives_7: 715.0000 - false_negatives_7: 4779.0000\n",
      "Epoch 2: saving model to C:/Users/Shounen/Desktop/Ciclo XI/Tesis 2/GPUTesis/Archivos/Modelos\\Model_20220416_183242.hdf5\n",
      "510/510 [==============================] - 1040s 2s/step - loss: 0.6294 - acc: 0.6627 - true_positives_7: 1738.0000 - true_negatives_7: 9061.0000 - false_positives_7: 716.0000 - false_negatives_7: 4781.0000 - val_loss: 0.6264 - val_acc: 0.6609 - val_true_positives_7: 1543.0000 - val_true_negatives_7: 9227.0000 - val_false_positives_7: 550.0000 - val_false_negatives_7: 4976.0000 - _timestamp: 1650153933.0000 - _runtime: 1971.0000\n",
      "Epoch 3/10\n",
      "509/510 [============================>.] - ETA: 1s - loss: 0.6273 - acc: 0.6613 - true_positives_7: 1642.0000 - true_negatives_7: 9130.0000 - false_positives_7: 642.0000 - false_negatives_7: 4874.0000\n",
      "Epoch 3: saving model to C:/Users/Shounen/Desktop/Ciclo XI/Tesis 2/GPUTesis/Archivos/Modelos\\Model_20220416_183242.hdf5\n",
      "510/510 [==============================] - 1120s 2s/step - loss: 0.6273 - acc: 0.6613 - true_positives_7: 1643.0000 - true_negatives_7: 9134.0000 - false_positives_7: 643.0000 - false_negatives_7: 4876.0000 - val_loss: 0.6252 - val_acc: 0.6609 - val_true_positives_7: 1543.0000 - val_true_negatives_7: 9227.0000 - val_false_positives_7: 550.0000 - val_false_negatives_7: 4976.0000 - _timestamp: 1650155053.0000 - _runtime: 3091.0000\n",
      "Epoch 4/10\n",
      "510/510 [==============================] - ETA: 0s - loss: 0.6264 - acc: 0.6627 - true_positives_7: 1652.0000 - true_negatives_7: 9148.0000 - false_positives_7: 629.0000 - false_negatives_7: 4867.0000\n",
      "Epoch 4: saving model to C:/Users/Shounen/Desktop/Ciclo XI/Tesis 2/GPUTesis/Archivos/Modelos\\Model_20220416_183242.hdf5\n",
      "510/510 [==============================] - 1088s 2s/step - loss: 0.6264 - acc: 0.6627 - true_positives_7: 1652.0000 - true_negatives_7: 9148.0000 - false_positives_7: 629.0000 - false_negatives_7: 4867.0000 - val_loss: 0.6245 - val_acc: 0.6609 - val_true_positives_7: 1543.0000 - val_true_negatives_7: 9227.0000 - val_false_positives_7: 550.0000 - val_false_negatives_7: 4976.0000 - _timestamp: 1650156141.0000 - _runtime: 4179.0000\n",
      "Epoch 5/10\n",
      "510/510 [==============================] - ETA: 0s - loss: 0.6260 - acc: 0.6629 - true_positives_7: 1630.0000 - true_negatives_7: 9172.0000 - false_positives_7: 605.0000 - false_negatives_7: 4889.0000\n",
      "Epoch 5: saving model to C:/Users/Shounen/Desktop/Ciclo XI/Tesis 2/GPUTesis/Archivos/Modelos\\Model_20220416_183242.hdf5\n",
      "510/510 [==============================] - 989s 2s/step - loss: 0.6260 - acc: 0.6629 - true_positives_7: 1630.0000 - true_negatives_7: 9172.0000 - false_positives_7: 605.0000 - false_negatives_7: 4889.0000 - val_loss: 0.6241 - val_acc: 0.6609 - val_true_positives_7: 1543.0000 - val_true_negatives_7: 9227.0000 - val_false_positives_7: 550.0000 - val_false_negatives_7: 4976.0000 - _timestamp: 1650157130.0000 - _runtime: 5168.0000\n",
      "\n"
     ]
    },
    {
     "data": {
      "text/html": [
       "Waiting for W&B process to finish... <strong style=\"color:green\">(success).</strong>"
      ],
      "text/plain": [
       "<IPython.core.display.HTML object>"
      ]
     },
     "metadata": {},
     "output_type": "display_data"
    },
    {
     "data": {
      "application/vnd.jupyter.widget-view+json": {
       "model_id": "",
       "version_major": 2,
       "version_minor": 0
      },
      "text/plain": [
       "VBox(children=(Label(value='0.358 MB of 0.358 MB uploaded (0.000 MB deduped)\\r'), FloatProgress(value=1.0, max…"
      ]
     },
     "metadata": {},
     "output_type": "display_data"
    },
    {
     "data": {
      "text/html": [
       "<style>\n",
       "    table.wandb td:nth-child(1) { padding: 0 10px; text-align: right }\n",
       "    .wandb-row { display: flex; flex-direction: row; flex-wrap: wrap; width: 100% }\n",
       "    .wandb-col { display: flex; flex-direction: column; flex-basis: 100%; flex: 1; padding: 10px; }\n",
       "    </style>\n",
       "<div class=\"wandb-row\"><div class=\"wandb-col\"><h3>Run history:</h3><br/><table class=\"wandb\"><tr><td>acc</td><td>▁█▆██</td></tr><tr><td>epoch</td><td>▁▃▅▆█</td></tr><tr><td>false_negatives_7</td><td>▁▄▇▇█</td></tr><tr><td>false_positives_7</td><td>█▄▂▂▁</td></tr><tr><td>loss</td><td>█▃▂▁▁</td></tr><tr><td>true_negatives_7</td><td>▁▅▇▇█</td></tr><tr><td>true_positives_7</td><td>█▅▂▂▁</td></tr><tr><td>val_acc</td><td>█▁▁▁▁</td></tr><tr><td>val_false_negatives_7</td><td>▁████</td></tr><tr><td>val_false_positives_7</td><td>█▁▁▁▁</td></tr><tr><td>val_loss</td><td>█▄▃▁▁</td></tr><tr><td>val_true_negatives_7</td><td>▁████</td></tr><tr><td>val_true_positives_7</td><td>█▁▁▁▁</td></tr></table><br/></div><div class=\"wandb-col\"><h3>Run summary:</h3><br/><table class=\"wandb\"><tr><td>acc</td><td>0.66286</td></tr><tr><td>best_epoch</td><td>4</td></tr><tr><td>best_val_loss</td><td>0.6241</td></tr><tr><td>epoch</td><td>4</td></tr><tr><td>false_negatives_7</td><td>4889.0</td></tr><tr><td>false_positives_7</td><td>605.0</td></tr><tr><td>loss</td><td>0.62596</td></tr><tr><td>true_negatives_7</td><td>9172.0</td></tr><tr><td>true_positives_7</td><td>1630.0</td></tr><tr><td>val_acc</td><td>0.6609</td></tr><tr><td>val_false_negatives_7</td><td>4976.0</td></tr><tr><td>val_false_positives_7</td><td>550.0</td></tr><tr><td>val_loss</td><td>0.6241</td></tr><tr><td>val_true_negatives_7</td><td>9227.0</td></tr><tr><td>val_true_positives_7</td><td>1543.0</td></tr></table><br/></div></div>"
      ],
      "text/plain": [
       "<IPython.core.display.HTML object>"
      ]
     },
     "metadata": {},
     "output_type": "display_data"
    },
    {
     "data": {
      "text/html": [
       "Synced <strong style=\"color:#cdcd00\">Ex-1_(3-4-50)_20220416_183242</strong>: <a href=\"https://wandb.ai/tesis2/TesisDiegoV2%28umbral-2%29/runs/230fl36c\" target=\"_blank\">https://wandb.ai/tesis2/TesisDiegoV2%28umbral-2%29/runs/230fl36c</a><br/>Synced 6 W&B file(s), 1 media file(s), 0 artifact file(s) and 1 other file(s)"
      ],
      "text/plain": [
       "<IPython.core.display.HTML object>"
      ]
     },
     "metadata": {},
     "output_type": "display_data"
    },
    {
     "data": {
      "text/html": [
       "Find logs at: <code>.\\wandb\\run-20220416_183242-230fl36c\\logs</code>"
      ],
      "text/plain": [
       "<IPython.core.display.HTML object>"
      ]
     },
     "metadata": {},
     "output_type": "display_data"
    },
    {
     "name": "stdout",
     "output_type": "stream",
     "text": [
      "--------------------------------------------------\n",
      "Inicio de la prueba N°: 3/6\n",
      "Creadno modelo con input (110,110,3)) tipo (umbral)\n",
      "DONE\n",
      "Tamaño del dataset: Train 16296  - Val 4074\n",
      "- Batch size:  32\n"
     ]
    },
    {
     "data": {
      "text/html": [
       "wandb version 0.12.14 is available!  To upgrade, please run:\n",
       " $ pip install wandb --upgrade"
      ],
      "text/plain": [
       "<IPython.core.display.HTML object>"
      ]
     },
     "metadata": {},
     "output_type": "display_data"
    },
    {
     "data": {
      "text/html": [
       "Tracking run with wandb version 0.12.11"
      ],
      "text/plain": [
       "<IPython.core.display.HTML object>"
      ]
     },
     "metadata": {},
     "output_type": "display_data"
    },
    {
     "data": {
      "text/html": [
       "Run data is saved locally in <code>C:\\Users\\Shounen\\Desktop\\Ciclo XI\\Tesis 2\\GPUTesis\\Codigo\\Entrenamiento\\Jupyter\\wandb\\run-20220416_195900-sagox9y7</code>"
      ],
      "text/plain": [
       "<IPython.core.display.HTML object>"
      ]
     },
     "metadata": {},
     "output_type": "display_data"
    },
    {
     "data": {
      "text/html": [
       "Syncing run <strong><a href=\"https://wandb.ai/tesis2/TesisDiegoV2%28umbral-2%29/runs/sagox9y7\" target=\"_blank\">Ex-1_(3-1-110)_20220416_195900</a></strong> to <a href=\"https://wandb.ai/tesis2/TesisDiegoV2%28umbral-2%29\" target=\"_blank\">Weights & Biases</a> (<a href=\"https://wandb.me/run\" target=\"_blank\">docs</a>)<br/>"
      ],
      "text/plain": [
       "<IPython.core.display.HTML object>"
      ]
     },
     "metadata": {},
     "output_type": "display_data"
    },
    {
     "name": "stdout",
     "output_type": "stream",
     "text": [
      "Epoch 1/10\n",
      "509/510 [============================>.] - ETA: 0s - loss: 0.6495 - acc: 0.6374 - true_positives_8: 1302.0000 - true_negatives_8: 9080.0000 - false_positives_8: 637.0000 - false_negatives_8: 5269.0000\n",
      "Epoch 1: saving model to C:/Users/Shounen/Desktop/Ciclo XI/Tesis 2/GPUTesis/Archivos/Modelos\\Model_20220416_195900.hdf5\n",
      "510/510 [==============================] - 251s 490ms/step - loss: 0.6495 - acc: 0.6374 - true_positives_8: 1304.0000 - true_negatives_8: 9083.0000 - false_positives_8: 637.0000 - false_negatives_8: 5272.0000 - val_loss: 0.6373 - val_acc: 0.6367 - val_true_positives_8: 2634.0000 - val_true_negatives_8: 7742.0000 - val_false_positives_8: 1978.0000 - val_false_negatives_8: 3942.0000 - _timestamp: 1650157402.0000 - _runtime: 262.0000\n",
      "Epoch 2/10\n",
      "509/510 [============================>.] - ETA: 0s - loss: 0.6310 - acc: 0.6600 - true_positives_8: 1888.0000 - true_negatives_8: 8862.0000 - false_positives_8: 855.0000 - false_negatives_8: 4683.0000\n",
      "Epoch 2: saving model to C:/Users/Shounen/Desktop/Ciclo XI/Tesis 2/GPUTesis/Archivos/Modelos\\Model_20220416_195900.hdf5\n",
      "510/510 [==============================] - 247s 484ms/step - loss: 0.6310 - acc: 0.6600 - true_positives_8: 1890.0000 - true_negatives_8: 8865.0000 - false_positives_8: 855.0000 - false_negatives_8: 4686.0000 - val_loss: 0.6320 - val_acc: 0.6581 - val_true_positives_8: 1992.0000 - val_true_negatives_8: 8732.0000 - val_false_positives_8: 988.0000 - val_false_negatives_8: 4584.0000 - _timestamp: 1650157648.0000 - _runtime: 508.0000\n",
      "Epoch 3/10\n",
      "509/510 [============================>.] - ETA: 0s - loss: 0.6289 - acc: 0.6602 - true_positives_8: 1769.0000 - true_negatives_8: 8984.0000 - false_positives_8: 733.0000 - false_negatives_8: 4802.0000\n",
      "Epoch 3: saving model to C:/Users/Shounen/Desktop/Ciclo XI/Tesis 2/GPUTesis/Archivos/Modelos\\Model_20220416_195900.hdf5\n",
      "510/510 [==============================] - 245s 480ms/step - loss: 0.6289 - acc: 0.6601 - true_positives_8: 1770.0000 - true_negatives_8: 8987.0000 - false_positives_8: 733.0000 - false_negatives_8: 4806.0000 - val_loss: 0.6306 - val_acc: 0.6615 - val_true_positives_8: 1894.0000 - val_true_negatives_8: 8886.0000 - val_false_positives_8: 834.0000 - val_false_negatives_8: 4682.0000 - _timestamp: 1650157893.0000 - _runtime: 753.0000\n",
      "Epoch 4/10\n",
      "509/510 [============================>.] - ETA: 0s - loss: 0.6285 - acc: 0.6604 - true_positives_8: 1701.0000 - true_negatives_8: 9055.0000 - false_positives_8: 662.0000 - false_negatives_8: 4870.0000\n",
      "Epoch 4: saving model to C:/Users/Shounen/Desktop/Ciclo XI/Tesis 2/GPUTesis/Archivos/Modelos\\Model_20220416_195900.hdf5\n",
      "510/510 [==============================] - 244s 480ms/step - loss: 0.6285 - acc: 0.6603 - true_positives_8: 1702.0000 - true_negatives_8: 9058.0000 - false_positives_8: 662.0000 - false_negatives_8: 4874.0000 - val_loss: 0.6293 - val_acc: 0.6615 - val_true_positives_8: 1894.0000 - val_true_negatives_8: 8886.0000 - val_false_positives_8: 834.0000 - val_false_negatives_8: 4682.0000 - _timestamp: 1650158138.0000 - _runtime: 998.0000\n",
      "Epoch 5/10\n",
      "509/510 [============================>.] - ETA: 0s - loss: 0.6275 - acc: 0.6604 - true_positives_8: 1704.0000 - true_negatives_8: 9053.0000 - false_positives_8: 664.0000 - false_negatives_8: 4867.0000\n",
      "Epoch 5: saving model to C:/Users/Shounen/Desktop/Ciclo XI/Tesis 2/GPUTesis/Archivos/Modelos\\Model_20220416_195900.hdf5\n",
      "510/510 [==============================] - 247s 484ms/step - loss: 0.6275 - acc: 0.6603 - true_positives_8: 1705.0000 - true_negatives_8: 9056.0000 - false_positives_8: 664.0000 - false_negatives_8: 4871.0000 - val_loss: 0.6284 - val_acc: 0.6615 - val_true_positives_8: 1894.0000 - val_true_negatives_8: 8886.0000 - val_false_positives_8: 834.0000 - val_false_negatives_8: 4682.0000 - _timestamp: 1650158384.0000 - _runtime: 1244.0000\n",
      "Epoch 6/10\n",
      "509/510 [============================>.] - ETA: 0s - loss: 0.6270 - acc: 0.6602 - true_positives_8: 1705.0000 - true_negatives_8: 9049.0000 - false_positives_8: 668.0000 - false_negatives_8: 4866.0000\n",
      "Epoch 6: saving model to C:/Users/Shounen/Desktop/Ciclo XI/Tesis 2/GPUTesis/Archivos/Modelos\\Model_20220416_195900.hdf5\n",
      "510/510 [==============================] - 249s 488ms/step - loss: 0.6270 - acc: 0.6602 - true_positives_8: 1706.0000 - true_negatives_8: 9052.0000 - false_positives_8: 668.0000 - false_negatives_8: 4870.0000 - val_loss: 0.6275 - val_acc: 0.6615 - val_true_positives_8: 1894.0000 - val_true_negatives_8: 8886.0000 - val_false_positives_8: 834.0000 - val_false_negatives_8: 4682.0000 - _timestamp: 1650158633.0000 - _runtime: 1493.0000\n",
      "Epoch 7/10\n",
      "509/510 [============================>.] - ETA: 0s - loss: 0.6268 - acc: 0.6606 - true_positives_8: 1722.0000 - true_negatives_8: 9038.0000 - false_positives_8: 679.0000 - false_negatives_8: 4849.0000\n",
      "Epoch 7: saving model to C:/Users/Shounen/Desktop/Ciclo XI/Tesis 2/GPUTesis/Archivos/Modelos\\Model_20220416_195900.hdf5\n",
      "510/510 [==============================] - 245s 481ms/step - loss: 0.6269 - acc: 0.6605 - true_positives_8: 1723.0000 - true_negatives_8: 9041.0000 - false_positives_8: 679.0000 - false_negatives_8: 4853.0000 - val_loss: 0.6277 - val_acc: 0.6615 - val_true_positives_8: 1894.0000 - val_true_negatives_8: 8886.0000 - val_false_positives_8: 834.0000 - val_false_negatives_8: 4682.0000 - _timestamp: 1650158879.0000 - _runtime: 1739.0000\n",
      "\n"
     ]
    },
    {
     "data": {
      "text/html": [
       "Waiting for W&B process to finish... <strong style=\"color:green\">(success).</strong>"
      ],
      "text/plain": [
       "<IPython.core.display.HTML object>"
      ]
     },
     "metadata": {},
     "output_type": "display_data"
    },
    {
     "data": {
      "application/vnd.jupyter.widget-view+json": {
       "model_id": "",
       "version_major": 2,
       "version_minor": 0
      },
      "text/plain": [
       "VBox(children=(Label(value='0.733 MB of 0.733 MB uploaded (0.000 MB deduped)\\r'), FloatProgress(value=1.0, max…"
      ]
     },
     "metadata": {},
     "output_type": "display_data"
    },
    {
     "data": {
      "text/html": [
       "<style>\n",
       "    table.wandb td:nth-child(1) { padding: 0 10px; text-align: right }\n",
       "    .wandb-row { display: flex; flex-direction: row; flex-wrap: wrap; width: 100% }\n",
       "    .wandb-col { display: flex; flex-direction: column; flex-basis: 100%; flex: 1; padding: 10px; }\n",
       "    </style>\n",
       "<div class=\"wandb-row\"><div class=\"wandb-col\"><h3>Run history:</h3><br/><table class=\"wandb\"><tr><td>acc</td><td>▁██████</td></tr><tr><td>epoch</td><td>▁▂▃▅▆▇█</td></tr><tr><td>false_negatives_8</td><td>█▁▂▃▃▃▃</td></tr><tr><td>false_positives_8</td><td>▁█▄▂▂▂▂</td></tr><tr><td>loss</td><td>█▂▂▂▁▁▁</td></tr><tr><td>true_negatives_8</td><td>█▁▅▇▇▇▇</td></tr><tr><td>true_positives_8</td><td>▁█▇▆▆▆▆</td></tr><tr><td>val_acc</td><td>▁▇█████</td></tr><tr><td>val_false_negatives_8</td><td>▁▇█████</td></tr><tr><td>val_false_positives_8</td><td>█▂▁▁▁▁▁</td></tr><tr><td>val_loss</td><td>█▄▃▂▂▁▁</td></tr><tr><td>val_true_negatives_8</td><td>▁▇█████</td></tr><tr><td>val_true_positives_8</td><td>█▂▁▁▁▁▁</td></tr></table><br/></div><div class=\"wandb-col\"><h3>Run summary:</h3><br/><table class=\"wandb\"><tr><td>acc</td><td>0.66053</td></tr><tr><td>best_epoch</td><td>5</td></tr><tr><td>best_val_loss</td><td>0.62754</td></tr><tr><td>epoch</td><td>6</td></tr><tr><td>false_negatives_8</td><td>4853.0</td></tr><tr><td>false_positives_8</td><td>679.0</td></tr><tr><td>loss</td><td>0.62686</td></tr><tr><td>true_negatives_8</td><td>9041.0</td></tr><tr><td>true_positives_8</td><td>1723.0</td></tr><tr><td>val_acc</td><td>0.66151</td></tr><tr><td>val_false_negatives_8</td><td>4682.0</td></tr><tr><td>val_false_positives_8</td><td>834.0</td></tr><tr><td>val_loss</td><td>0.62775</td></tr><tr><td>val_true_negatives_8</td><td>8886.0</td></tr><tr><td>val_true_positives_8</td><td>1894.0</td></tr></table><br/></div></div>"
      ],
      "text/plain": [
       "<IPython.core.display.HTML object>"
      ]
     },
     "metadata": {},
     "output_type": "display_data"
    },
    {
     "data": {
      "text/html": [
       "Synced <strong style=\"color:#cdcd00\">Ex-1_(3-1-110)_20220416_195900</strong>: <a href=\"https://wandb.ai/tesis2/TesisDiegoV2%28umbral-2%29/runs/sagox9y7\" target=\"_blank\">https://wandb.ai/tesis2/TesisDiegoV2%28umbral-2%29/runs/sagox9y7</a><br/>Synced 6 W&B file(s), 1 media file(s), 0 artifact file(s) and 1 other file(s)"
      ],
      "text/plain": [
       "<IPython.core.display.HTML object>"
      ]
     },
     "metadata": {},
     "output_type": "display_data"
    },
    {
     "data": {
      "text/html": [
       "Find logs at: <code>.\\wandb\\run-20220416_195900-sagox9y7\\logs</code>"
      ],
      "text/plain": [
       "<IPython.core.display.HTML object>"
      ]
     },
     "metadata": {},
     "output_type": "display_data"
    },
    {
     "name": "stdout",
     "output_type": "stream",
     "text": [
      "--------------------------------------------------\n",
      "Inicio de la prueba N°: 4/6\n",
      "Creadno modelo con input (110,110,3)) tipo (umbral)\n",
      "DONE\n",
      "Tamaño del dataset: Train 16296  - Val 4074\n",
      "- Batch size:  32\n"
     ]
    },
    {
     "data": {
      "text/html": [
       "wandb version 0.12.14 is available!  To upgrade, please run:\n",
       " $ pip install wandb --upgrade"
      ],
      "text/plain": [
       "<IPython.core.display.HTML object>"
      ]
     },
     "metadata": {},
     "output_type": "display_data"
    },
    {
     "data": {
      "text/html": [
       "Tracking run with wandb version 0.12.11"
      ],
      "text/plain": [
       "<IPython.core.display.HTML object>"
      ]
     },
     "metadata": {},
     "output_type": "display_data"
    },
    {
     "data": {
      "text/html": [
       "Run data is saved locally in <code>C:\\Users\\Shounen\\Desktop\\Ciclo XI\\Tesis 2\\GPUTesis\\Codigo\\Entrenamiento\\Jupyter\\wandb\\run-20220416_202807-1rljchhg</code>"
      ],
      "text/plain": [
       "<IPython.core.display.HTML object>"
      ]
     },
     "metadata": {},
     "output_type": "display_data"
    },
    {
     "data": {
      "text/html": [
       "Syncing run <strong><a href=\"https://wandb.ai/tesis2/TesisDiegoV2%28umbral-2%29/runs/1rljchhg\" target=\"_blank\">Ex-1_(3-4-110)_20220416_202807</a></strong> to <a href=\"https://wandb.ai/tesis2/TesisDiegoV2%28umbral-2%29\" target=\"_blank\">Weights & Biases</a> (<a href=\"https://wandb.me/run\" target=\"_blank\">docs</a>)<br/>"
      ],
      "text/plain": [
       "<IPython.core.display.HTML object>"
      ]
     },
     "metadata": {},
     "output_type": "display_data"
    },
    {
     "name": "stdout",
     "output_type": "stream",
     "text": [
      "Epoch 1/10\n",
      "509/510 [============================>.] - ETA: 1s - loss: 0.6521 - acc: 0.6330 - true_positives_9: 1125.0000 - true_negatives_9: 9186.0000 - false_positives_9: 597.0000 - false_negatives_9: 5380.0000\n",
      "Epoch 1: saving model to C:/Users/Shounen/Desktop/Ciclo XI/Tesis 2/GPUTesis/Archivos/Modelos\\Model_20220416_202807.hdf5\n",
      "510/510 [==============================] - 1114s 2s/step - loss: 0.6522 - acc: 0.6330 - true_positives_9: 1127.0000 - true_negatives_9: 9188.0000 - false_positives_9: 598.0000 - false_negatives_9: 5383.0000 - val_loss: 0.6333 - val_acc: 0.6551 - val_true_positives_9: 2368.0000 - val_true_negatives_9: 8307.0000 - val_false_positives_9: 1479.0000 - val_false_negatives_9: 4142.0000 - _timestamp: 1650160011.0000 - _runtime: 1124.0000\n",
      "Epoch 2/10\n",
      "510/510 [==============================] - ETA: 0s - loss: 0.6311 - acc: 0.6603 - true_positives_9: 1978.0000 - true_negatives_9: 8783.0000 - false_positives_9: 1003.0000 - false_negatives_9: 4532.0000\n",
      "Epoch 2: saving model to C:/Users/Shounen/Desktop/Ciclo XI/Tesis 2/GPUTesis/Archivos/Modelos\\Model_20220416_202807.hdf5\n",
      "510/510 [==============================] - 1107s 2s/step - loss: 0.6311 - acc: 0.6603 - true_positives_9: 1978.0000 - true_negatives_9: 8783.0000 - false_positives_9: 1003.0000 - false_negatives_9: 4532.0000 - val_loss: 0.6274 - val_acc: 0.6642 - val_true_positives_9: 1887.0000 - val_true_negatives_9: 8937.0000 - val_false_positives_9: 849.0000 - val_false_negatives_9: 4623.0000 - _timestamp: 1650161119.0000 - _runtime: 2232.0000\n",
      "Epoch 3/10\n",
      "510/510 [==============================] - ETA: 0s - loss: 0.6277 - acc: 0.6638 - true_positives_9: 1792.0000 - true_negatives_9: 9025.0000 - false_positives_9: 761.0000 - false_negatives_9: 4718.0000\n",
      "Epoch 3: saving model to C:/Users/Shounen/Desktop/Ciclo XI/Tesis 2/GPUTesis/Archivos/Modelos\\Model_20220416_202807.hdf5\n",
      "510/510 [==============================] - 1168s 2s/step - loss: 0.6277 - acc: 0.6638 - true_positives_9: 1792.0000 - true_negatives_9: 9025.0000 - false_positives_9: 761.0000 - false_negatives_9: 4718.0000 - val_loss: 0.6254 - val_acc: 0.6616 - val_true_positives_9: 1793.0000 - val_true_negatives_9: 8989.0000 - val_false_positives_9: 797.0000 - val_false_negatives_9: 4717.0000 - _timestamp: 1650162286.0000 - _runtime: 3399.0000\n",
      "Epoch 4/10\n",
      "510/510 [==============================] - ETA: 0s - loss: 0.6262 - acc: 0.6638 - true_positives_9: 1724.0000 - true_negatives_9: 9093.0000 - false_positives_9: 693.0000 - false_negatives_9: 4786.0000\n",
      "Epoch 4: saving model to C:/Users/Shounen/Desktop/Ciclo XI/Tesis 2/GPUTesis/Archivos/Modelos\\Model_20220416_202807.hdf5\n",
      "510/510 [==============================] - 1101s 2s/step - loss: 0.6262 - acc: 0.6638 - true_positives_9: 1724.0000 - true_negatives_9: 9093.0000 - false_positives_9: 693.0000 - false_negatives_9: 4786.0000 - val_loss: 0.6239 - val_acc: 0.6616 - val_true_positives_9: 1793.0000 - val_true_negatives_9: 8989.0000 - val_false_positives_9: 797.0000 - val_false_negatives_9: 4717.0000 - _timestamp: 1650163388.0000 - _runtime: 4501.0000\n",
      "Epoch 5/10\n",
      "509/510 [============================>.] - ETA: 0s - loss: 0.6254 - acc: 0.6633 - true_positives_9: 1681.0000 - true_negatives_9: 9123.0000 - false_positives_9: 660.0000 - false_negatives_9: 4824.0000\n",
      "Epoch 5: saving model to C:/Users/Shounen/Desktop/Ciclo XI/Tesis 2/GPUTesis/Archivos/Modelos\\Model_20220416_202807.hdf5\n",
      "510/510 [==============================] - 1030s 2s/step - loss: 0.6254 - acc: 0.6632 - true_positives_9: 1682.0000 - true_negatives_9: 9126.0000 - false_positives_9: 660.0000 - false_negatives_9: 4828.0000 - val_loss: 0.6233 - val_acc: 0.6640 - val_true_positives_9: 1784.0000 - val_true_negatives_9: 9037.0000 - val_false_positives_9: 749.0000 - val_false_negatives_9: 4726.0000 - _timestamp: 1650164418.0000 - _runtime: 5531.0000\n",
      "Epoch 6/10\n",
      "509/510 [============================>.] - ETA: 0s - loss: 0.6249 - acc: 0.6629 - true_positives_9: 1650.0000 - true_negatives_9: 9148.0000 - false_positives_9: 635.0000 - false_negatives_9: 4855.0000\n",
      "Epoch 6: saving model to C:/Users/Shounen/Desktop/Ciclo XI/Tesis 2/GPUTesis/Archivos/Modelos\\Model_20220416_202807.hdf5\n",
      "510/510 [==============================] - 918s 2s/step - loss: 0.6249 - acc: 0.6629 - true_positives_9: 1651.0000 - true_negatives_9: 9151.0000 - false_positives_9: 635.0000 - false_negatives_9: 4859.0000 - val_loss: 0.6227 - val_acc: 0.6640 - val_true_positives_9: 1784.0000 - val_true_negatives_9: 9037.0000 - val_false_positives_9: 749.0000 - val_false_negatives_9: 4726.0000 - _timestamp: 1650165336.0000 - _runtime: 6449.0000\n",
      "\n"
     ]
    },
    {
     "data": {
      "text/html": [
       "Waiting for W&B process to finish... <strong style=\"color:green\">(success).</strong>"
      ],
      "text/plain": [
       "<IPython.core.display.HTML object>"
      ]
     },
     "metadata": {},
     "output_type": "display_data"
    },
    {
     "data": {
      "application/vnd.jupyter.widget-view+json": {
       "model_id": "",
       "version_major": 2,
       "version_minor": 0
      },
      "text/plain": [
       "VBox(children=(Label(value='0.733 MB of 0.733 MB uploaded (0.000 MB deduped)\\r'), FloatProgress(value=1.0, max…"
      ]
     },
     "metadata": {},
     "output_type": "display_data"
    },
    {
     "data": {
      "text/html": [
       "<style>\n",
       "    table.wandb td:nth-child(1) { padding: 0 10px; text-align: right }\n",
       "    .wandb-row { display: flex; flex-direction: row; flex-wrap: wrap; width: 100% }\n",
       "    .wandb-col { display: flex; flex-direction: column; flex-basis: 100%; flex: 1; padding: 10px; }\n",
       "    </style>\n",
       "<div class=\"wandb-row\"><div class=\"wandb-col\"><h3>Run history:</h3><br/><table class=\"wandb\"><tr><td>acc</td><td>▁▇████</td></tr><tr><td>epoch</td><td>▁▂▄▅▇█</td></tr><tr><td>false_negatives_9</td><td>█▁▃▃▃▄</td></tr><tr><td>false_positives_9</td><td>▁█▄▃▂▂</td></tr><tr><td>loss</td><td>█▃▂▁▁▁</td></tr><tr><td>true_negatives_9</td><td>█▁▅▆▇▇</td></tr><tr><td>true_positives_9</td><td>▁█▆▆▆▅</td></tr><tr><td>val_acc</td><td>▁█▆▆██</td></tr><tr><td>val_false_negatives_9</td><td>▁▇████</td></tr><tr><td>val_false_positives_9</td><td>█▂▁▁▁▁</td></tr><tr><td>val_loss</td><td>█▄▃▂▁▁</td></tr><tr><td>val_true_negatives_9</td><td>▁▇████</td></tr><tr><td>val_true_positives_9</td><td>█▂▁▁▁▁</td></tr></table><br/></div><div class=\"wandb-col\"><h3>Run summary:</h3><br/><table class=\"wandb\"><tr><td>acc</td><td>0.66286</td></tr><tr><td>best_epoch</td><td>5</td></tr><tr><td>best_val_loss</td><td>0.62275</td></tr><tr><td>epoch</td><td>5</td></tr><tr><td>false_negatives_9</td><td>4859.0</td></tr><tr><td>false_positives_9</td><td>635.0</td></tr><tr><td>loss</td><td>0.62493</td></tr><tr><td>true_negatives_9</td><td>9151.0</td></tr><tr><td>true_positives_9</td><td>1651.0</td></tr><tr><td>val_acc</td><td>0.66403</td></tr><tr><td>val_false_negatives_9</td><td>4726.0</td></tr><tr><td>val_false_positives_9</td><td>749.0</td></tr><tr><td>val_loss</td><td>0.62275</td></tr><tr><td>val_true_negatives_9</td><td>9037.0</td></tr><tr><td>val_true_positives_9</td><td>1784.0</td></tr></table><br/></div></div>"
      ],
      "text/plain": [
       "<IPython.core.display.HTML object>"
      ]
     },
     "metadata": {},
     "output_type": "display_data"
    },
    {
     "data": {
      "text/html": [
       "Synced <strong style=\"color:#cdcd00\">Ex-1_(3-4-110)_20220416_202807</strong>: <a href=\"https://wandb.ai/tesis2/TesisDiegoV2%28umbral-2%29/runs/1rljchhg\" target=\"_blank\">https://wandb.ai/tesis2/TesisDiegoV2%28umbral-2%29/runs/1rljchhg</a><br/>Synced 6 W&B file(s), 1 media file(s), 0 artifact file(s) and 1 other file(s)"
      ],
      "text/plain": [
       "<IPython.core.display.HTML object>"
      ]
     },
     "metadata": {},
     "output_type": "display_data"
    },
    {
     "data": {
      "text/html": [
       "Find logs at: <code>.\\wandb\\run-20220416_202807-1rljchhg\\logs</code>"
      ],
      "text/plain": [
       "<IPython.core.display.HTML object>"
      ]
     },
     "metadata": {},
     "output_type": "display_data"
    },
    {
     "name": "stdout",
     "output_type": "stream",
     "text": [
      "--------------------------------------------------\n",
      "Inicio de la prueba N°: 5/6\n",
      "Creadno modelo con input (70,70,3)) tipo (umbral)\n",
      "DONE\n",
      "Tamaño del dataset: Train 16296  - Val 4074\n",
      "- Batch size:  32\n"
     ]
    },
    {
     "data": {
      "text/html": [
       "wandb version 0.12.14 is available!  To upgrade, please run:\n",
       " $ pip install wandb --upgrade"
      ],
      "text/plain": [
       "<IPython.core.display.HTML object>"
      ]
     },
     "metadata": {},
     "output_type": "display_data"
    },
    {
     "data": {
      "text/html": [
       "Tracking run with wandb version 0.12.11"
      ],
      "text/plain": [
       "<IPython.core.display.HTML object>"
      ]
     },
     "metadata": {},
     "output_type": "display_data"
    },
    {
     "data": {
      "text/html": [
       "Run data is saved locally in <code>C:\\Users\\Shounen\\Desktop\\Ciclo XI\\Tesis 2\\GPUTesis\\Codigo\\Entrenamiento\\Jupyter\\wandb\\run-20220416_221550-2oanmti5</code>"
      ],
      "text/plain": [
       "<IPython.core.display.HTML object>"
      ]
     },
     "metadata": {},
     "output_type": "display_data"
    },
    {
     "data": {
      "text/html": [
       "Syncing run <strong><a href=\"https://wandb.ai/tesis2/TesisDiegoV2%28umbral-2%29/runs/2oanmti5\" target=\"_blank\">Ex-1_(3-1-70)_20220416_221550</a></strong> to <a href=\"https://wandb.ai/tesis2/TesisDiegoV2%28umbral-2%29\" target=\"_blank\">Weights & Biases</a> (<a href=\"https://wandb.me/run\" target=\"_blank\">docs</a>)<br/>"
      ],
      "text/plain": [
       "<IPython.core.display.HTML object>"
      ]
     },
     "metadata": {},
     "output_type": "display_data"
    },
    {
     "name": "stdout",
     "output_type": "stream",
     "text": [
      "Epoch 1/10\n",
      "509/510 [============================>.] - ETA: 0s - loss: 0.6424 - acc: 0.6480 - true_positives_10: 1649.0000 - true_negatives_10: 8905.0000 - false_positives_10: 834.0000 - false_negatives_10: 4900.0000\n",
      "Epoch 1: saving model to C:/Users/Shounen/Desktop/Ciclo XI/Tesis 2/GPUTesis/Archivos/Modelos\\Model_20220416_221550.hdf5\n",
      "510/510 [==============================] - 190s 369ms/step - loss: 0.6424 - acc: 0.6480 - true_positives_10: 1650.0000 - true_negatives_10: 8909.0000 - false_positives_10: 835.0000 - false_negatives_10: 4902.0000 - val_loss: 0.6331 - val_acc: 0.6603 - val_true_positives_10: 1538.0000 - val_true_negatives_10: 9222.0000 - val_false_positives_10: 522.0000 - val_false_negatives_10: 5014.0000 - _timestamp: 1650165557.0000 - _runtime: 207.0000\n",
      "Epoch 2/10\n",
      "509/510 [============================>.] - ETA: 0s - loss: 0.6288 - acc: 0.6635 - true_positives_10: 1928.0000 - true_negatives_10: 8879.0000 - false_positives_10: 860.0000 - false_negatives_10: 4621.0000\n",
      "Epoch 2: saving model to C:/Users/Shounen/Desktop/Ciclo XI/Tesis 2/GPUTesis/Archivos/Modelos\\Model_20220416_221550.hdf5\n",
      "510/510 [==============================] - 186s 364ms/step - loss: 0.6288 - acc: 0.6635 - true_positives_10: 1929.0000 - true_negatives_10: 8883.0000 - false_positives_10: 861.0000 - false_negatives_10: 4623.0000 - val_loss: 0.6264 - val_acc: 0.6647 - val_true_positives_10: 1827.0000 - val_true_negatives_10: 9005.0000 - val_false_positives_10: 739.0000 - val_false_negatives_10: 4725.0000 - _timestamp: 1650165743.0000 - _runtime: 393.0000\n",
      "Epoch 3/10\n",
      "509/510 [============================>.] - ETA: 0s - loss: 0.6266 - acc: 0.6640 - true_positives_10: 1802.0000 - true_negatives_10: 9013.0000 - false_positives_10: 726.0000 - false_negatives_10: 4747.0000\n",
      "Epoch 3: saving model to C:/Users/Shounen/Desktop/Ciclo XI/Tesis 2/GPUTesis/Archivos/Modelos\\Model_20220416_221550.hdf5\n",
      "510/510 [==============================] - 302s 592ms/step - loss: 0.6266 - acc: 0.6640 - true_positives_10: 1803.0000 - true_negatives_10: 9018.0000 - false_positives_10: 726.0000 - false_negatives_10: 4749.0000 - val_loss: 0.6253 - val_acc: 0.6603 - val_true_positives_10: 1538.0000 - val_true_negatives_10: 9222.0000 - val_false_positives_10: 522.0000 - val_false_negatives_10: 5014.0000 - _timestamp: 1650166045.0000 - _runtime: 695.0000\n",
      "Epoch 4/10\n",
      "509/510 [============================>.] - ETA: 0s - loss: 0.6254 - acc: 0.6629 - true_positives_10: 1702.0000 - true_negatives_10: 9096.0000 - false_positives_10: 643.0000 - false_negatives_10: 4847.0000\n",
      "Epoch 4: saving model to C:/Users/Shounen/Desktop/Ciclo XI/Tesis 2/GPUTesis/Archivos/Modelos\\Model_20220416_221550.hdf5\n",
      "510/510 [==============================] - 184s 360ms/step - loss: 0.6254 - acc: 0.6630 - true_positives_10: 1703.0000 - true_negatives_10: 9101.0000 - false_positives_10: 643.0000 - false_negatives_10: 4849.0000 - val_loss: 0.6255 - val_acc: 0.6603 - val_true_positives_10: 1538.0000 - val_true_negatives_10: 9222.0000 - val_false_positives_10: 522.0000 - val_false_negatives_10: 5014.0000 - _timestamp: 1650166228.0000 - _runtime: 878.0000\n",
      "Epoch 5/10\n",
      "509/510 [============================>.] - ETA: 0s - loss: 0.6247 - acc: 0.6631 - true_positives_10: 1691.0000 - true_negatives_10: 9110.0000 - false_positives_10: 629.0000 - false_negatives_10: 4858.0000\n",
      "Epoch 5: saving model to C:/Users/Shounen/Desktop/Ciclo XI/Tesis 2/GPUTesis/Archivos/Modelos\\Model_20220416_221550.hdf5\n",
      "510/510 [==============================] - 183s 359ms/step - loss: 0.6246 - acc: 0.6632 - true_positives_10: 1692.0000 - true_negatives_10: 9115.0000 - false_positives_10: 629.0000 - false_negatives_10: 4860.0000 - val_loss: 0.6254 - val_acc: 0.6603 - val_true_positives_10: 1538.0000 - val_true_negatives_10: 9222.0000 - val_false_positives_10: 522.0000 - val_false_negatives_10: 5014.0000 - _timestamp: 1650166412.0000 - _runtime: 1062.0000\n",
      "Epoch 6/10\n",
      "509/510 [============================>.] - ETA: 0s - loss: 0.6242 - acc: 0.6633 - true_positives_10: 1700.0000 - true_negatives_10: 9104.0000 - false_positives_10: 635.0000 - false_negatives_10: 4849.0000\n",
      "Epoch 6: saving model to C:/Users/Shounen/Desktop/Ciclo XI/Tesis 2/GPUTesis/Archivos/Modelos\\Model_20220416_221550.hdf5\n",
      "510/510 [==============================] - 184s 360ms/step - loss: 0.6242 - acc: 0.6634 - true_positives_10: 1701.0000 - true_negatives_10: 9109.0000 - false_positives_10: 635.0000 - false_negatives_10: 4851.0000 - val_loss: 0.6248 - val_acc: 0.6603 - val_true_positives_10: 1538.0000 - val_true_negatives_10: 9222.0000 - val_false_positives_10: 522.0000 - val_false_negatives_10: 5014.0000 - _timestamp: 1650166596.0000 - _runtime: 1246.0000\n",
      "\n"
     ]
    },
    {
     "data": {
      "text/html": [
       "Waiting for W&B process to finish... <strong style=\"color:green\">(success).</strong>"
      ],
      "text/plain": [
       "<IPython.core.display.HTML object>"
      ]
     },
     "metadata": {},
     "output_type": "display_data"
    },
    {
     "data": {
      "application/vnd.jupyter.widget-view+json": {
       "model_id": "",
       "version_major": 2,
       "version_minor": 0
      },
      "text/plain": [
       "VBox(children=(Label(value='0.440 MB of 0.440 MB uploaded (0.000 MB deduped)\\r'), FloatProgress(value=1.0, max…"
      ]
     },
     "metadata": {},
     "output_type": "display_data"
    },
    {
     "data": {
      "text/html": [
       "<style>\n",
       "    table.wandb td:nth-child(1) { padding: 0 10px; text-align: right }\n",
       "    .wandb-row { display: flex; flex-direction: row; flex-wrap: wrap; width: 100% }\n",
       "    .wandb-col { display: flex; flex-direction: column; flex-basis: 100%; flex: 1; padding: 10px; }\n",
       "    </style>\n",
       "<div class=\"wandb-row\"><div class=\"wandb-col\"><h3>Run history:</h3><br/><table class=\"wandb\"><tr><td>acc</td><td>▁█████</td></tr><tr><td>epoch</td><td>▁▂▄▅▇█</td></tr><tr><td>false_negatives_10</td><td>█▁▄▇▇▇</td></tr><tr><td>false_positives_10</td><td>▇█▄▁▁▁</td></tr><tr><td>loss</td><td>█▃▂▁▁▁</td></tr><tr><td>true_negatives_10</td><td>▂▁▅███</td></tr><tr><td>true_positives_10</td><td>▁█▅▂▂▂</td></tr><tr><td>val_acc</td><td>▁█▁▁▁▁</td></tr><tr><td>val_false_negatives_10</td><td>█▁████</td></tr><tr><td>val_false_positives_10</td><td>▁█▁▁▁▁</td></tr><tr><td>val_loss</td><td>█▂▁▂▁▁</td></tr><tr><td>val_true_negatives_10</td><td>█▁████</td></tr><tr><td>val_true_positives_10</td><td>▁█▁▁▁▁</td></tr></table><br/></div><div class=\"wandb-col\"><h3>Run summary:</h3><br/><table class=\"wandb\"><tr><td>acc</td><td>0.66335</td></tr><tr><td>best_epoch</td><td>5</td></tr><tr><td>best_val_loss</td><td>0.62482</td></tr><tr><td>epoch</td><td>5</td></tr><tr><td>false_negatives_10</td><td>4851.0</td></tr><tr><td>false_positives_10</td><td>635.0</td></tr><tr><td>loss</td><td>0.6242</td></tr><tr><td>true_negatives_10</td><td>9109.0</td></tr><tr><td>true_positives_10</td><td>1701.0</td></tr><tr><td>val_acc</td><td>0.66028</td></tr><tr><td>val_false_negatives_10</td><td>5014.0</td></tr><tr><td>val_false_positives_10</td><td>522.0</td></tr><tr><td>val_loss</td><td>0.62482</td></tr><tr><td>val_true_negatives_10</td><td>9222.0</td></tr><tr><td>val_true_positives_10</td><td>1538.0</td></tr></table><br/></div></div>"
      ],
      "text/plain": [
       "<IPython.core.display.HTML object>"
      ]
     },
     "metadata": {},
     "output_type": "display_data"
    },
    {
     "data": {
      "text/html": [
       "Synced <strong style=\"color:#cdcd00\">Ex-1_(3-1-70)_20220416_221550</strong>: <a href=\"https://wandb.ai/tesis2/TesisDiegoV2%28umbral-2%29/runs/2oanmti5\" target=\"_blank\">https://wandb.ai/tesis2/TesisDiegoV2%28umbral-2%29/runs/2oanmti5</a><br/>Synced 6 W&B file(s), 1 media file(s), 0 artifact file(s) and 1 other file(s)"
      ],
      "text/plain": [
       "<IPython.core.display.HTML object>"
      ]
     },
     "metadata": {},
     "output_type": "display_data"
    },
    {
     "data": {
      "text/html": [
       "Find logs at: <code>.\\wandb\\run-20220416_221550-2oanmti5\\logs</code>"
      ],
      "text/plain": [
       "<IPython.core.display.HTML object>"
      ]
     },
     "metadata": {},
     "output_type": "display_data"
    },
    {
     "name": "stdout",
     "output_type": "stream",
     "text": [
      "--------------------------------------------------\n",
      "Inicio de la prueba N°: 6/6\n",
      "Creadno modelo con input (70,70,3)) tipo (umbral)\n",
      "DONE\n",
      "Tamaño del dataset: Train 16296  - Val 4074\n",
      "- Batch size:  32\n"
     ]
    },
    {
     "data": {
      "text/html": [
       "wandb version 0.12.14 is available!  To upgrade, please run:\n",
       " $ pip install wandb --upgrade"
      ],
      "text/plain": [
       "<IPython.core.display.HTML object>"
      ]
     },
     "metadata": {},
     "output_type": "display_data"
    },
    {
     "data": {
      "text/html": [
       "Tracking run with wandb version 0.12.11"
      ],
      "text/plain": [
       "<IPython.core.display.HTML object>"
      ]
     },
     "metadata": {},
     "output_type": "display_data"
    },
    {
     "data": {
      "text/html": [
       "Run data is saved locally in <code>C:\\Users\\Shounen\\Desktop\\Ciclo XI\\Tesis 2\\GPUTesis\\Codigo\\Entrenamiento\\Jupyter\\wandb\\run-20220417_081105-3joh6guc</code>"
      ],
      "text/plain": [
       "<IPython.core.display.HTML object>"
      ]
     },
     "metadata": {},
     "output_type": "display_data"
    },
    {
     "data": {
      "text/html": [
       "Syncing run <strong><a href=\"https://wandb.ai/tesis2/TesisDiegoV2%28umbral-2%29/runs/3joh6guc\" target=\"_blank\">Ex-1_(3-4-70)_20220417_081105</a></strong> to <a href=\"https://wandb.ai/tesis2/TesisDiegoV2%28umbral-2%29\" target=\"_blank\">Weights & Biases</a> (<a href=\"https://wandb.me/run\" target=\"_blank\">docs</a>)<br/>"
      ],
      "text/plain": [
       "<IPython.core.display.HTML object>"
      ]
     },
     "metadata": {},
     "output_type": "display_data"
    },
    {
     "name": "stdout",
     "output_type": "stream",
     "text": [
      "Epoch 1/10\n",
      "509/510 [============================>.] - ETA: 0s - loss: 0.6525 - acc: 0.6343 - true_positives_11: 1045.0000 - true_negatives_11: 9287.0000 - false_positives_11: 499.0000 - false_negatives_11: 5457.0000\n",
      "Epoch 1: saving model to C:/Users/Shounen/Desktop/Ciclo XI/Tesis 2/GPUTesis/Archivos/Modelos\\Model_20220417_081105.hdf5\n",
      "510/510 [==============================] - 1056s 2s/step - loss: 0.6525 - acc: 0.6343 - true_positives_11: 1048.0000 - true_negatives_11: 9289.0000 - false_positives_11: 499.0000 - false_negatives_11: 5460.0000 - val_loss: 0.6358 - val_acc: 0.6460 - val_true_positives_11: 2558.0000 - val_true_negatives_11: 7969.0000 - val_false_positives_11: 1819.0000 - val_false_negatives_11: 3950.0000 - _timestamp: 1650202133.0000 - _runtime: 1068.0000\n",
      "Epoch 2/10\n",
      "509/510 [============================>.] - ETA: 0s - loss: 0.6336 - acc: 0.6586 - true_positives_11: 1921.0000 - true_negatives_11: 8807.0000 - false_positives_11: 979.0000 - false_negatives_11: 4581.0000\n",
      "Epoch 2: saving model to C:/Users/Shounen/Desktop/Ciclo XI/Tesis 2/GPUTesis/Archivos/Modelos\\Model_20220417_081105.hdf5\n",
      "510/510 [==============================] - 754s 1s/step - loss: 0.6337 - acc: 0.6586 - true_positives_11: 1923.0000 - true_negatives_11: 8809.0000 - false_positives_11: 979.0000 - false_negatives_11: 4585.0000 - val_loss: 0.6286 - val_acc: 0.6632 - val_true_positives_11: 1866.0000 - val_true_negatives_11: 8942.0000 - val_false_positives_11: 846.0000 - val_false_negatives_11: 4642.0000 - _timestamp: 1650202887.0000 - _runtime: 1822.0000\n",
      "Epoch 3/10\n",
      "509/510 [============================>.] - ETA: 1s - loss: 0.6296 - acc: 0.6600 - true_positives_11: 1773.0000 - true_negatives_11: 8977.0000 - false_positives_11: 809.0000 - false_negatives_11: 4729.0000\n",
      "Epoch 3: saving model to C:/Users/Shounen/Desktop/Ciclo XI/Tesis 2/GPUTesis/Archivos/Modelos\\Model_20220417_081105.hdf5\n",
      "510/510 [==============================] - 913s 2s/step - loss: 0.6297 - acc: 0.6599 - true_positives_11: 1775.0000 - true_negatives_11: 8979.0000 - false_positives_11: 809.0000 - false_negatives_11: 4733.0000 - val_loss: 0.6264 - val_acc: 0.6632 - val_true_positives_11: 1866.0000 - val_true_negatives_11: 8942.0000 - val_false_positives_11: 846.0000 - val_false_negatives_11: 4642.0000 - _timestamp: 1650203799.0000 - _runtime: 2734.0000\n",
      "Epoch 4/10\n",
      "509/510 [============================>.] - ETA: 1s - loss: 0.6275 - acc: 0.6614 - true_positives_11: 1702.0000 - true_negatives_11: 9071.0000 - false_positives_11: 715.0000 - false_negatives_11: 4800.0000\n",
      "Epoch 4: saving model to C:/Users/Shounen/Desktop/Ciclo XI/Tesis 2/GPUTesis/Archivos/Modelos\\Model_20220417_081105.hdf5\n",
      "510/510 [==============================] - 889s 2s/step - loss: 0.6275 - acc: 0.6613 - true_positives_11: 1704.0000 - true_negatives_11: 9073.0000 - false_positives_11: 715.0000 - false_negatives_11: 4804.0000 - val_loss: 0.6251 - val_acc: 0.6602 - val_true_positives_11: 1794.0000 - val_true_negatives_11: 8964.0000 - val_false_positives_11: 824.0000 - val_false_negatives_11: 4714.0000 - _timestamp: 1650204689.0000 - _runtime: 3624.0000\n",
      "Epoch 5/10\n",
      "509/510 [============================>.] - ETA: 0s - loss: 0.6265 - acc: 0.6605 - true_positives_11: 1613.0000 - true_negatives_11: 9146.0000 - false_positives_11: 640.0000 - false_negatives_11: 4889.0000\n",
      "Epoch 5: saving model to C:/Users/Shounen/Desktop/Ciclo XI/Tesis 2/GPUTesis/Archivos/Modelos\\Model_20220417_081105.hdf5\n",
      "510/510 [==============================] - 756s 1s/step - loss: 0.6265 - acc: 0.6605 - true_positives_11: 1615.0000 - true_negatives_11: 9148.0000 - false_positives_11: 640.0000 - false_negatives_11: 4893.0000 - val_loss: 0.6246 - val_acc: 0.6629 - val_true_positives_11: 1786.0000 - val_true_negatives_11: 9017.0000 - val_false_positives_11: 771.0000 - val_false_negatives_11: 4722.0000 - _timestamp: 1650205445.0000 - _runtime: 4380.0000\n",
      "Epoch 6/10\n",
      "509/510 [============================>.] - ETA: 0s - loss: 0.6260 - acc: 0.6609 - true_positives_11: 1568.0000 - true_negatives_11: 9196.0000 - false_positives_11: 590.0000 - false_negatives_11: 4934.0000\n",
      "Epoch 6: saving model to C:/Users/Shounen/Desktop/Ciclo XI/Tesis 2/GPUTesis/Archivos/Modelos\\Model_20220417_081105.hdf5\n",
      "510/510 [==============================] - 761s 1s/step - loss: 0.6260 - acc: 0.6608 - true_positives_11: 1570.0000 - true_negatives_11: 9198.0000 - false_positives_11: 590.0000 - false_negatives_11: 4938.0000 - val_loss: 0.6244 - val_acc: 0.6629 - val_true_positives_11: 1786.0000 - val_true_negatives_11: 9017.0000 - val_false_positives_11: 771.0000 - val_false_negatives_11: 4722.0000 - _timestamp: 1650206206.0000 - _runtime: 5141.0000\n",
      "\n"
     ]
    },
    {
     "data": {
      "text/html": [
       "Waiting for W&B process to finish... <strong style=\"color:green\">(success).</strong>"
      ],
      "text/plain": [
       "<IPython.core.display.HTML object>"
      ]
     },
     "metadata": {},
     "output_type": "display_data"
    },
    {
     "data": {
      "application/vnd.jupyter.widget-view+json": {
       "model_id": "",
       "version_major": 2,
       "version_minor": 0
      },
      "text/plain": [
       "VBox(children=(Label(value='0.440 MB of 0.440 MB uploaded (0.000 MB deduped)\\r'), FloatProgress(value=1.0, max…"
      ]
     },
     "metadata": {},
     "output_type": "display_data"
    },
    {
     "data": {
      "text/html": [
       "<style>\n",
       "    table.wandb td:nth-child(1) { padding: 0 10px; text-align: right }\n",
       "    .wandb-row { display: flex; flex-direction: row; flex-wrap: wrap; width: 100% }\n",
       "    .wandb-col { display: flex; flex-direction: column; flex-basis: 100%; flex: 1; padding: 10px; }\n",
       "    </style>\n",
       "<div class=\"wandb-row\"><div class=\"wandb-col\"><h3>Run history:</h3><br/><table class=\"wandb\"><tr><td>acc</td><td>▁▇████</td></tr><tr><td>epoch</td><td>▁▂▄▅▇█</td></tr><tr><td>false_negatives_11</td><td>█▁▂▃▃▄</td></tr><tr><td>false_positives_11</td><td>▁█▆▄▃▂</td></tr><tr><td>loss</td><td>█▃▂▁▁▁</td></tr><tr><td>true_negatives_11</td><td>█▁▃▅▆▇</td></tr><tr><td>true_positives_11</td><td>▁█▇▆▆▅</td></tr><tr><td>val_acc</td><td>▁██▇██</td></tr><tr><td>val_false_negatives_11</td><td>▁▇▇███</td></tr><tr><td>val_false_positives_11</td><td>█▂▂▁▁▁</td></tr><tr><td>val_loss</td><td>█▄▂▁▁▁</td></tr><tr><td>val_true_negatives_11</td><td>▁▇▇███</td></tr><tr><td>val_true_positives_11</td><td>█▂▂▁▁▁</td></tr></table><br/></div><div class=\"wandb-col\"><h3>Run summary:</h3><br/><table class=\"wandb\"><tr><td>acc</td><td>0.66078</td></tr><tr><td>best_epoch</td><td>5</td></tr><tr><td>best_val_loss</td><td>0.6244</td></tr><tr><td>epoch</td><td>5</td></tr><tr><td>false_negatives_11</td><td>4938.0</td></tr><tr><td>false_positives_11</td><td>590.0</td></tr><tr><td>loss</td><td>0.62604</td></tr><tr><td>true_negatives_11</td><td>9198.0</td></tr><tr><td>true_positives_11</td><td>1570.0</td></tr><tr><td>val_acc</td><td>0.66292</td></tr><tr><td>val_false_negatives_11</td><td>4722.0</td></tr><tr><td>val_false_positives_11</td><td>771.0</td></tr><tr><td>val_loss</td><td>0.6244</td></tr><tr><td>val_true_negatives_11</td><td>9017.0</td></tr><tr><td>val_true_positives_11</td><td>1786.0</td></tr></table><br/></div></div>"
      ],
      "text/plain": [
       "<IPython.core.display.HTML object>"
      ]
     },
     "metadata": {},
     "output_type": "display_data"
    },
    {
     "data": {
      "text/html": [
       "Synced <strong style=\"color:#cdcd00\">Ex-1_(3-4-70)_20220417_081105</strong>: <a href=\"https://wandb.ai/tesis2/TesisDiegoV2%28umbral-2%29/runs/3joh6guc\" target=\"_blank\">https://wandb.ai/tesis2/TesisDiegoV2%28umbral-2%29/runs/3joh6guc</a><br/>Synced 6 W&B file(s), 1 media file(s), 0 artifact file(s) and 1 other file(s)"
      ],
      "text/plain": [
       "<IPython.core.display.HTML object>"
      ]
     },
     "metadata": {},
     "output_type": "display_data"
    },
    {
     "data": {
      "text/html": [
       "Find logs at: <code>.\\wandb\\run-20220417_081105-3joh6guc\\logs</code>"
      ],
      "text/plain": [
       "<IPython.core.display.HTML object>"
      ]
     },
     "metadata": {},
     "output_type": "display_data"
    },
    {
     "name": "stdout",
     "output_type": "stream",
     "text": [
      "CPU times: total: 2d 7min 46s\n",
      "Wall time: 17h 24min 19s\n"
     ]
    }
   ],
   "source": [
    "%%time\n",
    "#Solo imagenes (dato)\n",
    "resultados = trainModel(params,_dataset,path_imagenes,path_base,products,times, graficos=1)"
   ]
  },
  {
   "cell_type": "code",
   "execution_count": 47,
   "id": "a7bdeb85",
   "metadata": {},
   "outputs": [],
   "source": [
    "\"\"\"\n",
    "# Definimos las varibles para las iteraciones\n",
    "Los parametros que van a cambiar son:\n",
    "- Canales (products)\n",
    "- Tiempos (Min de las imagenes)\n",
    "- margen\n",
    "\"\"\"\n",
    "params = {'inputs'   : ['imagen','99%'],\n",
    "          'outputs'  : 'umbral',  #umbral o dato\n",
    "          'lr'       : 0.001,\n",
    "          'batch'    : 32,        \n",
    "          'dataset'  : 1,\n",
    "          'epocas'   : 10,          \n",
    "          'paciencia': 4,\n",
    "          'canales'  : [3],\n",
    "          'tiempos'  : [6],\n",
    "          'margen'   : [40],\n",
    "          'runs'     : 1\n",
    "         }"
   ]
  },
  {
   "cell_type": "code",
   "execution_count": 48,
   "id": "eada9e3c",
   "metadata": {},
   "outputs": [
    {
     "name": "stdout",
     "output_type": "stream",
     "text": [
      "--------------------------------------------------\n",
      "Inicio de la prueba N°: 1/1\n",
      "Creadno modelo con input (40,40,3)) tipo (umbral)\n",
      "DONE\n",
      "Tamaño del dataset: Train 16296  - Val 4074\n",
      "- Batch size:  32\n"
     ]
    },
    {
     "data": {
      "text/html": [
       "wandb version 0.12.14 is available!  To upgrade, please run:\n",
       " $ pip install wandb --upgrade"
      ],
      "text/plain": [
       "<IPython.core.display.HTML object>"
      ]
     },
     "metadata": {},
     "output_type": "display_data"
    },
    {
     "data": {
      "text/html": [
       "Tracking run with wandb version 0.12.11"
      ],
      "text/plain": [
       "<IPython.core.display.HTML object>"
      ]
     },
     "metadata": {},
     "output_type": "display_data"
    },
    {
     "data": {
      "text/html": [
       "Run data is saved locally in <code>C:\\Users\\Shounen\\Desktop\\Ciclo XI\\Tesis 2\\GPUTesis\\Codigo\\Entrenamiento\\Jupyter\\wandb\\run-20220417_094602-17smf81x</code>"
      ],
      "text/plain": [
       "<IPython.core.display.HTML object>"
      ]
     },
     "metadata": {},
     "output_type": "display_data"
    },
    {
     "data": {
      "text/html": [
       "Syncing run <strong><a href=\"https://wandb.ai/tesis2/TesisDiegoV2%28umbral-2%29/runs/17smf81x\" target=\"_blank\">Ex-1_(3-6-40)_20220417_094602</a></strong> to <a href=\"https://wandb.ai/tesis2/TesisDiegoV2%28umbral-2%29\" target=\"_blank\">Weights & Biases</a> (<a href=\"https://wandb.me/run\" target=\"_blank\">docs</a>)<br/>"
      ],
      "text/plain": [
       "<IPython.core.display.HTML object>"
      ]
     },
     "metadata": {},
     "output_type": "display_data"
    },
    {
     "name": "stdout",
     "output_type": "stream",
     "text": [
      "Epoch 1/10\n",
      "510/510 [==============================] - ETA: 0s - loss: 0.6387 - acc: 0.6535 - true_positives_14: 1691.0000 - true_negatives_14: 8959.0000 - false_positives_14: 845.0000 - false_negatives_14: 4801.0000\n",
      "Epoch 1: saving model to C:/Users/Shounen/Desktop/Ciclo XI/Tesis 2/GPUTesis/Archivos/Modelos\\Model_20220417_094602.hdf5\n",
      "510/510 [==============================] - 1884s 4s/step - loss: 0.6387 - acc: 0.6535 - true_positives_14: 1691.0000 - true_negatives_14: 8959.0000 - false_positives_14: 845.0000 - false_negatives_14: 4801.0000 - val_loss: 0.6301 - val_acc: 0.6611 - val_true_positives_14: 1518.0000 - val_true_negatives_14: 9256.0000 - val_false_positives_14: 548.0000 - val_false_negatives_14: 4974.0000 - _timestamp: 1650208656.0000 - _runtime: 1894.0000\n",
      "Epoch 2/10\n",
      "509/510 [============================>.] - ETA: 1s - loss: 0.6297 - acc: 0.6613 - true_positives_14: 1647.0000 - true_negatives_14: 9124.0000 - false_positives_14: 676.0000 - false_negatives_14: 4841.0000\n",
      "Epoch 2: saving model to C:/Users/Shounen/Desktop/Ciclo XI/Tesis 2/GPUTesis/Archivos/Modelos\\Model_20220417_094602.hdf5\n",
      "510/510 [==============================] - 1208s 2s/step - loss: 0.6298 - acc: 0.6612 - true_positives_14: 1648.0000 - true_negatives_14: 9127.0000 - false_positives_14: 677.0000 - false_negatives_14: 4844.0000 - val_loss: 0.6269 - val_acc: 0.6630 - val_true_positives_14: 1468.0000 - val_true_negatives_14: 9337.0000 - val_false_positives_14: 467.0000 - val_false_negatives_14: 5024.0000 - _timestamp: 1650209864.0000 - _runtime: 3102.0000\n",
      "Epoch 3/10\n",
      "510/510 [==============================] - ETA: 0s - loss: 0.6276 - acc: 0.6617 - true_positives_14: 1564.0000 - true_negatives_14: 9219.0000 - false_positives_14: 585.0000 - false_negatives_14: 4928.0000\n",
      "Epoch 3: saving model to C:/Users/Shounen/Desktop/Ciclo XI/Tesis 2/GPUTesis/Archivos/Modelos\\Model_20220417_094602.hdf5\n",
      "510/510 [==============================] - 1467s 3s/step - loss: 0.6276 - acc: 0.6617 - true_positives_14: 1564.0000 - true_negatives_14: 9219.0000 - false_positives_14: 585.0000 - false_negatives_14: 4928.0000 - val_loss: 0.6258 - val_acc: 0.6626 - val_true_positives_14: 1444.0000 - val_true_negatives_14: 9354.0000 - val_false_positives_14: 450.0000 - val_false_negatives_14: 5048.0000 - _timestamp: 1650211331.0000 - _runtime: 4569.0000\n",
      "Epoch 4/10\n",
      "509/510 [============================>.] - ETA: 1s - loss: 0.6268 - acc: 0.6615 - true_positives_14: 1567.0000 - true_negatives_14: 9208.0000 - false_positives_14: 592.0000 - false_negatives_14: 4921.0000\n",
      "Epoch 4: saving model to C:/Users/Shounen/Desktop/Ciclo XI/Tesis 2/GPUTesis/Archivos/Modelos\\Model_20220417_094602.hdf5\n",
      "510/510 [==============================] - 1456s 3s/step - loss: 0.6269 - acc: 0.6615 - true_positives_14: 1568.0000 - true_negatives_14: 9211.0000 - false_positives_14: 593.0000 - false_negatives_14: 4924.0000 - val_loss: 0.6251 - val_acc: 0.6626 - val_true_positives_14: 1444.0000 - val_true_negatives_14: 9354.0000 - val_false_positives_14: 450.0000 - val_false_negatives_14: 5048.0000 - _timestamp: 1650212787.0000 - _runtime: 6025.0000\n",
      "Epoch 5/10\n",
      "510/510 [==============================] - ETA: 0s - loss: 0.6265 - acc: 0.6617 - true_positives_14: 1550.0000 - true_negatives_14: 9233.0000 - false_positives_14: 571.0000 - false_negatives_14: 4942.0000\n",
      "Epoch 5: saving model to C:/Users/Shounen/Desktop/Ciclo XI/Tesis 2/GPUTesis/Archivos/Modelos\\Model_20220417_094602.hdf5\n",
      "510/510 [==============================] - 1444s 3s/step - loss: 0.6265 - acc: 0.6617 - true_positives_14: 1550.0000 - true_negatives_14: 9233.0000 - false_positives_14: 571.0000 - false_negatives_14: 4942.0000 - val_loss: 0.6249 - val_acc: 0.6626 - val_true_positives_14: 1444.0000 - val_true_negatives_14: 9354.0000 - val_false_positives_14: 450.0000 - val_false_negatives_14: 5048.0000 - _timestamp: 1650214231.0000 - _runtime: 7469.0000\n",
      "Epoch 6/10\n",
      "510/510 [==============================] - ETA: 0s - loss: 0.6263 - acc: 0.6608 - true_positives_14: 1588.0000 - true_negatives_14: 9181.0000 - false_positives_14: 623.0000 - false_negatives_14: 4904.0000\n",
      "Epoch 6: saving model to C:/Users/Shounen/Desktop/Ciclo XI/Tesis 2/GPUTesis/Archivos/Modelos\\Model_20220417_094602.hdf5\n",
      "510/510 [==============================] - 1340s 3s/step - loss: 0.6263 - acc: 0.6608 - true_positives_14: 1588.0000 - true_negatives_14: 9181.0000 - false_positives_14: 623.0000 - false_negatives_14: 4904.0000 - val_loss: 0.6246 - val_acc: 0.6626 - val_true_positives_14: 1444.0000 - val_true_negatives_14: 9354.0000 - val_false_positives_14: 450.0000 - val_false_negatives_14: 5048.0000 - _timestamp: 1650215571.0000 - _runtime: 8809.0000\n",
      "\n"
     ]
    },
    {
     "data": {
      "text/html": [
       "Waiting for W&B process to finish... <strong style=\"color:green\">(success).</strong>"
      ],
      "text/plain": [
       "<IPython.core.display.HTML object>"
      ]
     },
     "metadata": {},
     "output_type": "display_data"
    },
    {
     "data": {
      "application/vnd.jupyter.widget-view+json": {
       "model_id": "",
       "version_major": 2,
       "version_minor": 0
      },
      "text/plain": [
       "VBox(children=(Label(value='0.346 MB of 0.346 MB uploaded (0.000 MB deduped)\\r'), FloatProgress(value=1.0, max…"
      ]
     },
     "metadata": {},
     "output_type": "display_data"
    },
    {
     "data": {
      "text/html": [
       "<style>\n",
       "    table.wandb td:nth-child(1) { padding: 0 10px; text-align: right }\n",
       "    .wandb-row { display: flex; flex-direction: row; flex-wrap: wrap; width: 100% }\n",
       "    .wandb-col { display: flex; flex-direction: column; flex-basis: 100%; flex: 1; padding: 10px; }\n",
       "    </style>\n",
       "<div class=\"wandb-row\"><div class=\"wandb-col\"><h3>Run history:</h3><br/><table class=\"wandb\"><tr><td>acc</td><td>▁████▇</td></tr><tr><td>epoch</td><td>▁▂▄▅▇█</td></tr><tr><td>false_negatives_14</td><td>▁▃▇▇█▆</td></tr><tr><td>false_positives_14</td><td>█▄▁▂▁▂</td></tr><tr><td>loss</td><td>█▃▂▁▁▁</td></tr><tr><td>true_negatives_14</td><td>▁▅█▇█▇</td></tr><tr><td>true_positives_14</td><td>█▆▂▂▁▃</td></tr><tr><td>val_acc</td><td>▁█▆▆▆▆</td></tr><tr><td>val_false_negatives_14</td><td>▁▆████</td></tr><tr><td>val_false_positives_14</td><td>█▂▁▁▁▁</td></tr><tr><td>val_loss</td><td>█▄▃▂▁▁</td></tr><tr><td>val_true_negatives_14</td><td>▁▇████</td></tr><tr><td>val_true_positives_14</td><td>█▃▁▁▁▁</td></tr></table><br/></div><div class=\"wandb-col\"><h3>Run summary:</h3><br/><table class=\"wandb\"><tr><td>acc</td><td>0.66084</td></tr><tr><td>best_epoch</td><td>5</td></tr><tr><td>best_val_loss</td><td>0.62457</td></tr><tr><td>epoch</td><td>5</td></tr><tr><td>false_negatives_14</td><td>4904.0</td></tr><tr><td>false_positives_14</td><td>623.0</td></tr><tr><td>loss</td><td>0.62628</td></tr><tr><td>true_negatives_14</td><td>9181.0</td></tr><tr><td>true_positives_14</td><td>1588.0</td></tr><tr><td>val_acc</td><td>0.66262</td></tr><tr><td>val_false_negatives_14</td><td>5048.0</td></tr><tr><td>val_false_positives_14</td><td>450.0</td></tr><tr><td>val_loss</td><td>0.62457</td></tr><tr><td>val_true_negatives_14</td><td>9354.0</td></tr><tr><td>val_true_positives_14</td><td>1444.0</td></tr></table><br/></div></div>"
      ],
      "text/plain": [
       "<IPython.core.display.HTML object>"
      ]
     },
     "metadata": {},
     "output_type": "display_data"
    },
    {
     "data": {
      "text/html": [
       "Synced <strong style=\"color:#cdcd00\">Ex-1_(3-6-40)_20220417_094602</strong>: <a href=\"https://wandb.ai/tesis2/TesisDiegoV2%28umbral-2%29/runs/17smf81x\" target=\"_blank\">https://wandb.ai/tesis2/TesisDiegoV2%28umbral-2%29/runs/17smf81x</a><br/>Synced 6 W&B file(s), 1 media file(s), 0 artifact file(s) and 1 other file(s)"
      ],
      "text/plain": [
       "<IPython.core.display.HTML object>"
      ]
     },
     "metadata": {},
     "output_type": "display_data"
    },
    {
     "data": {
      "text/html": [
       "Find logs at: <code>.\\wandb\\run-20220417_094602-17smf81x\\logs</code>"
      ],
      "text/plain": [
       "<IPython.core.display.HTML object>"
      ]
     },
     "metadata": {},
     "output_type": "display_data"
    },
    {
     "name": "stdout",
     "output_type": "stream",
     "text": [
      "CPU times: total: 19h 14min\n",
      "Wall time: 2h 26min 58s\n"
     ]
    }
   ],
   "source": [
    "%%time\n",
    "#Solo imagenes (dato)\n",
    "resultados = trainModel(params,_dataset,path_imagenes,path_base,products,times, graficos=1)"
   ]
  },
  {
   "cell_type": "code",
   "execution_count": null,
   "id": "635f0f49",
   "metadata": {},
   "outputs": [],
   "source": []
  }
 ],
 "metadata": {
  "kernelspec": {
   "display_name": "Python 3 (ipykernel)",
   "language": "python",
   "name": "python3"
  },
  "language_info": {
   "codemirror_mode": {
    "name": "ipython",
    "version": 3
   },
   "file_extension": ".py",
   "mimetype": "text/x-python",
   "name": "python",
   "nbconvert_exporter": "python",
   "pygments_lexer": "ipython3",
   "version": "3.9.11"
  }
 },
 "nbformat": 4,
 "nbformat_minor": 5
}
