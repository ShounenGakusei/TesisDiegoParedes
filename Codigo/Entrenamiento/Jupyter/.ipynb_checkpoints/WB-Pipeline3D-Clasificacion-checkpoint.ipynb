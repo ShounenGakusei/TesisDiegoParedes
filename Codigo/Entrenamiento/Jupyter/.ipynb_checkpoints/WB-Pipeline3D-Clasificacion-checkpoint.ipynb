{
 "cells": [
  {
   "cell_type": "code",
   "execution_count": 178,
   "id": "4390427c",
   "metadata": {},
   "outputs": [],
   "source": [
    "#!pip uninstall visualkeras"
   ]
  },
  {
   "cell_type": "code",
   "execution_count": 179,
   "id": "0a785bae",
   "metadata": {},
   "outputs": [],
   "source": [
    "#!pip install scikit-learn"
   ]
  },
  {
   "cell_type": "code",
   "execution_count": 180,
   "id": "f61bb80e",
   "metadata": {},
   "outputs": [],
   "source": [
    "#!pip install tensorflow-gpu"
   ]
  },
  {
   "cell_type": "code",
   "execution_count": 181,
   "id": "10d75a45",
   "metadata": {},
   "outputs": [],
   "source": [
    "#!pip install pandas"
   ]
  },
  {
   "cell_type": "code",
   "execution_count": 182,
   "id": "16753280",
   "metadata": {},
   "outputs": [],
   "source": [
    "#!pip install wandb"
   ]
  },
  {
   "cell_type": "code",
   "execution_count": 183,
   "id": "14b53b24",
   "metadata": {},
   "outputs": [],
   "source": [
    "#!pip install numpy"
   ]
  },
  {
   "cell_type": "code",
   "execution_count": 184,
   "id": "4fa034e9",
   "metadata": {},
   "outputs": [],
   "source": [
    "#!pip install openpyxl"
   ]
  },
  {
   "cell_type": "code",
   "execution_count": 185,
   "id": "443f8291",
   "metadata": {},
   "outputs": [],
   "source": [
    "#Manejo de Datos\n",
    "import numpy as np\n",
    "import pandas as pd\n",
    "import matplotlib.pyplot as plt\n",
    "from scipy.stats import boxcox\n",
    "\n",
    "\n",
    "#Machine learning\n",
    "import tensorflow as tf\n",
    "from tensorflow import keras\n",
    "from tensorflow.keras import datasets, layers, models\n",
    "from tensorflow.keras.callbacks import Callback\n",
    "\n",
    "from sklearn.model_selection import train_test_split\n",
    "from sklearn.utils import shuffle\n",
    "from sklearn.metrics import confusion_matrix\n",
    "\n",
    "#Librerias estandar (Extras)\n",
    "import re\n",
    "import os\n",
    "import time\n",
    "import random\n",
    "from datetime import datetime"
   ]
  },
  {
   "cell_type": "code",
   "execution_count": 186,
   "id": "ca3336ee",
   "metadata": {},
   "outputs": [],
   "source": [
    "\"\"\"\n",
    "DIRECTORIOS DEL PROYECTO\n",
    "\"\"\"\n",
    "path_base = 'C:/Users/Shounen/Desktop/Ciclo XI/Tesis 2/GPUTesis'   # Directorio del proyecto\n",
    "path_imagenes = 'F:/GOES/'      "
   ]
  },
  {
   "cell_type": "code",
   "execution_count": 187,
   "id": "d868194e",
   "metadata": {},
   "outputs": [
    {
     "name": "stdout",
     "output_type": "stream",
     "text": [
      "Python 3.9.11\n",
      "2.8.0\n",
      "Num GPUs Available:  1\n"
     ]
    }
   ],
   "source": [
    "!python --version\n",
    "print(tf. __version__)\n",
    "print(\"Num GPUs Available: \", len(tf.config.list_physical_devices('GPU')))\n",
    "\n",
    "#Limitamos el GPU, en caso se necesite\n",
    "gpus = tf.config.list_physical_devices('GPU')\n",
    "tf.config.experimental.set_virtual_device_configuration(gpus[0],\n",
    "                                                        [tf.config.experimental.VirtualDeviceConfiguration(memory_limit=4096)])"
   ]
  },
  {
   "cell_type": "code",
   "execution_count": 188,
   "id": "4728b8d6",
   "metadata": {},
   "outputs": [],
   "source": [
    "#conda list cudnn"
   ]
  },
  {
   "cell_type": "code",
   "execution_count": 189,
   "id": "eabc4c9b",
   "metadata": {},
   "outputs": [],
   "source": [
    "#conda list cudatoolkit"
   ]
  },
  {
   "cell_type": "code",
   "execution_count": 190,
   "id": "cc2ddc8c",
   "metadata": {},
   "outputs": [
    {
     "data": {
      "text/plain": [
       "'\\nMetodos para realizar el entrenamient - evaluacion del modelo\\n'"
      ]
     },
     "execution_count": 190,
     "metadata": {},
     "output_type": "execute_result"
    }
   ],
   "source": [
    "\"\"\"\n",
    "Metodos para realizar el entrenamient - evaluacion del modelo\n",
    "\"\"\""
   ]
  },
  {
   "cell_type": "code",
   "execution_count": 191,
   "id": "1715a3d6",
   "metadata": {},
   "outputs": [],
   "source": [
    "def crearModelo2D(p,run):    \n",
    "    # Imagen\n",
    "    input_1 = tf.keras.layers.Input(shape=(p['margen'][run],p['margen'][run],p['canales'][run]))\n",
    "    \n",
    "    # Convulutional layers\n",
    "    rescaling = tf.keras.layers.Rescaling(1./65536)(input_1)\n",
    "    conv2d_1 = tf.keras.layers.Conv2D(128, kernel_size=3,padding='same',activation=tf.keras.activations.relu)(rescaling)\n",
    "    mxPool_1 = tf.keras.layers.MaxPooling2D()(conv2d_1)\n",
    "    dropout_1  = tf.keras.layers.Dropout(0.2)(mxPool_1)\n",
    "    \n",
    "    conv2d_2 = tf.keras.layers.Conv2D(64, kernel_size=3,padding='same',activation=tf.keras.activations.relu)(dropout_1)\n",
    "    mxPool_2 = tf.keras.layers.MaxPooling2D()(conv2d_2)\n",
    "    dropout_2  = tf.keras.layers.Dropout(0.1)(mxPool_2)\n",
    "    \n",
    "    #conv2d_3 = tf.keras.layers.Conv2D(32, kernel_size=3,padding='same',activation=tf.keras.activations.relu)(dropout_1)\n",
    "    #mxPool_3 = tf.keras.layers.MaxPooling2D()(conv2d_3)\n",
    "    #dropout_3  = tf.keras.layers.Dropout(0.2)(mxPool_3)\n",
    "    \n",
    "    #conv2d_4 = tf.keras.layers.Conv2D(64, kernel_size=3,padding='same',activation=tf.keras.activations.relu)(dropout_3)\n",
    "    #mxPool_4 = tf.keras.layers.MaxPooling2D()(conv2d_4)\n",
    "    #dropout_4  = tf.keras.layers.Dropout(0.2)(mxPool_4)\n",
    "    \n",
    "    conv2d_5 = tf.keras.layers.Conv2D(32, kernel_size=3,padding='same',activation=tf.keras.activations.relu)(dropout_2)\n",
    "    \n",
    "    \n",
    "    # Flatten layer :\n",
    "    flatten = tf.keras.layers.Flatten()(conv2d_5)\n",
    "    \n",
    "    final = flatten\n",
    "    listConcat = [flatten]\n",
    "    listInputs = [input_1]\n",
    "    \n",
    "    if len(p['inputs'])>1:\n",
    "        #Agregamos los otros atrbutos        \n",
    "        for attr in p['inputs'][1:]:\n",
    "            # The other input\n",
    "            input_x = tf.keras.layers.Input(shape=(1,))\n",
    "            listConcat.append(input_x)\n",
    "            listInputs.append(input_x)\n",
    "\n",
    "            \n",
    "        # Concatenate\n",
    "        final = tf.keras.layers.Concatenate()(listConcat)\n",
    "        \n",
    "    dense_1 = tf.keras.layers.Dense(units=32, activation=tf.keras.activations.relu)(final)\n",
    "    #dense_2 = tf.keras.layers.Dense(units=16, activation=tf.keras.activations.relu)(dense_1)\n",
    "    dense_3 = tf.keras.layers.Dense(units=32, activation=tf.keras.activations.relu)(dense_1)\n",
    "    \n",
    "        \n",
    "    # output\n",
    "    if p['redTipo'] == 'regresion':\n",
    "        output = tf.keras.layers.Dense(units=1)(dense_3)\n",
    "        dimOutput = 1\n",
    "    elif p['redTipo'] == 'clasificacion':\n",
    "        output = tf.keras.layers.Dense(units=1,activation=tf.keras.activations.sigmoid)(dense_3)#units=1, activation=tf.keras.activations.relu)(dense_3)\n",
    "        dimOutput = 2\n",
    "    else:\n",
    "        print(f\"No se pudo crear el modelo outputs no esta bien definido {p['redTipo']}\")\n",
    "        return -1      \n",
    "    \n",
    "\n",
    "    full_model = tf.keras.Model(inputs=listInputs, outputs=[output])\n",
    "        \n",
    "    #print(full_model.summary())\n",
    "    return full_model"
   ]
  },
  {
   "cell_type": "code",
   "execution_count": 1,
   "id": "d45d724b",
   "metadata": {},
   "outputs": [],
   "source": [
    "def crearModelo3D(p,run):        \n",
    "    # Imagen\n",
    "    input_1 = tf.keras.layers.Input(shape=(p['tiempos'][run],p['margen'][run],p['margen'][run],p['canales'][run]))\n",
    "    \n",
    "    # Convulutional layers\n",
    "    rescaling = tf.keras.layers.Rescaling(1./65536)(input_1)\n",
    "    conv3d_1 = tf.keras.layers.Conv3D(128, kernel_size=3,padding='same',activation=tf.keras.activations.relu)(rescaling)\n",
    "    mxPool_1 = tf.keras.layers.MaxPooling3D()(conv3d_1)\n",
    "    dropout_1  = tf.keras.layers.Dropout(0.2)(mxPool_1)\n",
    "    \n",
    "    conv3d_2 = tf.keras.layers.Conv3D(64, kernel_size=3,padding='same',activation=tf.keras.activations.relu)(dropout_1)\n",
    "    mxPool_2 = tf.keras.layers.MaxPooling3D()(conv3d_2)\n",
    "    dropout_2  = tf.keras.layers.Dropout(0.1)(mxPool_2)\n",
    "    \n",
    "    #conv2d_3 = tf.keras.layers.Conv3D(32, kernel_size=3,padding='same',activation=tf.keras.activations.relu)(dropout_1)\n",
    "    #mxPool_3 = tf.keras.layers.MaxPooling3D()(conv2d_3)\n",
    "    #dropout_3  = tf.keras.layers.Dropout(0.2)(mxPool_3)\n",
    "    \n",
    "    #conv2d_4 = tf.keras.layers.Conv3D(64, kernel_size=3,padding='same',activation=tf.keras.activations.relu)(dropout_3)\n",
    "    #mxPool_4 = tf.keras.layers.MaxPooling3D()(conv2d_4)\n",
    "    #dropout_4  = tf.keras.layers.Dropout(0.2)(mxPool_4)\n",
    "    \n",
    "    conv3d_5 = tf.keras.layers.Conv3D(32, kernel_size=3,padding='same',activation=tf.keras.activations.relu)(dropout_2)\n",
    "    \n",
    "    \n",
    "    # Flatten layer :\n",
    "    flatten = tf.keras.layers.Flatten()(conv3d_5)\n",
    "    \n",
    "    final = flatten\n",
    "    listConcat = [flatten]\n",
    "    listInputs = [input_1]\n",
    "    \n",
    "    if len(p['inputs'])>1:\n",
    "        #Agregamos los otros atrbutos        \n",
    "        for attr in p['inputs'][1:]:\n",
    "            # The other input\n",
    "            input_x = tf.keras.layers.Input(shape=(1,))\n",
    "            listConcat.append(input_x)\n",
    "            listInputs.append(input_x)\n",
    "\n",
    "            \n",
    "        # Concatenate\n",
    "        final = tf.keras.layers.Concatenate()(listConcat)\n",
    "        \n",
    "    dense_1 = tf.keras.layers.Dense(units=32, activation=tf.keras.activations.relu)(final)\n",
    "    #dense_2 = tf.keras.layers.Dense(units=16, activation=tf.keras.activations.relu)(dense_1)\n",
    "    dense_3 = tf.keras.layers.Dense(units=32, activation=tf.keras.activations.relu)(dense_1)\n",
    "    \n",
    "        \n",
    "    # output\n",
    "    if p['redTipo'] == 'regresion':\n",
    "        output = tf.keras.layers.Dense(units=1)(dense_3)\n",
    "        dimOutput = 1\n",
    "    elif p['redTipo'] == 'clasificacion':\n",
    "        output = tf.keras.layers.Dense(units=1,activation=tf.keras.activations.sigmoid)(dense_3)#units=1, activation=tf.keras.activations.relu)(dense_3)\n",
    "        dimOutput = 2\n",
    "    else:\n",
    "        print(f\"No se pudo crear el modelo outputs no esta bien definido {p['redTipo']}\")\n",
    "        return -1      \n",
    "    \n",
    "\n",
    "    full_model = tf.keras.Model(inputs=listInputs, outputs=[output])\n",
    "        \n",
    "    #print(full_model.summary())\n",
    "    return full_model"
   ]
  },
  {
   "cell_type": "code",
   "execution_count": 223,
   "id": "db155bb9",
   "metadata": {},
   "outputs": [],
   "source": [
    "def getMetrics(modelType, lr, paciencia):\n",
    "    \n",
    "    if modelType == 'clasificacion':    \n",
    "        optimizer = keras.optimizers.Adam(learning_rate=lr) \n",
    "        \n",
    "        #BinaryCrossentropy() #CategoricalCrossentropy()      \n",
    "        loss_fn= keras.losses.BinaryCrossentropy()\n",
    "        train_acc_metric = keras.metrics.BinaryCrossentropy()\n",
    "        val_acc_metric = keras.metrics.BinaryCrossentropy()\n",
    "        if paciencia:\n",
    "            early_stopping = keras.callbacks.EarlyStopping(monitor=\"val_acc\", patience=paciencia, mode=\"max\")  \n",
    " \n",
    "        \n",
    "        metrics = ['acc', keras.metrics.TruePositives(),\n",
    "                         keras.metrics.TrueNegatives(),\n",
    "                         keras.metrics.FalsePositives(),\n",
    "                         keras.metrics.FalseNegatives()]\n",
    "        \n",
    "\n",
    "    elif modelType == 'regresion':\n",
    "        optimizer = keras.optimizers.Adam(learning_rate=lr)\n",
    "        loss_fn=keras.losses.MeanSquaredError()\n",
    "        train_acc_metric = keras.metrics.MeanSquaredError()\n",
    "        val_acc_metric = keras.metrics.MeanSquaredError()\n",
    "        if paciencia:\n",
    "            early_stopping = keras.callbacks.EarlyStopping(monitor=\"val_mse\", patience=paciencia, mode=\"max\")                                            \n",
    "        metrics = ['mse']\n",
    "        \n",
    "        \n",
    "    else:\n",
    "        print('No se pudo crear las metricas')\n",
    "        return -1    \n",
    "         \n",
    "        \n",
    "    logs = Callback()\n",
    "    callbacks = [logs]                     \n",
    "    if paciencia:\n",
    "        callbacks.append(early_stopping)\n",
    "        \n",
    "    metrics = {'optimizer': optimizer, 'loss_fn':loss_fn,'train_acc_metric': train_acc_metric,\n",
    "               'val_acc_metric': val_acc_metric, 'metrics': metrics,'callbacks': callbacks}\n",
    "    \n",
    "    return metrics\n",
    "        "
   ]
  },
  {
   "cell_type": "code",
   "execution_count": 3,
   "id": "afaa1223",
   "metadata": {},
   "outputs": [],
   "source": [
    "def crearModelo(params,run):\n",
    "    if params['meanMatrizImagen']:\n",
    "        modelo = crearModelo2D(params,run)\n",
    "    else:\n",
    "        modelo = crearModelo3D(params,run)\n",
    "\n",
    "    return modelo"
   ]
  },
  {
   "cell_type": "code",
   "execution_count": 2,
   "id": "209c22c3",
   "metadata": {},
   "outputs": [],
   "source": [
    "#Transformamos un filename tensor en una imagen\n",
    "def read_png_file(item, value, p,run, path_base, products, times):\n",
    "    # imagenData[0] = XO     # imagenData[1] = XA     # imagenData[2] = Fecha\n",
    "    imagenData = tf.strings.split(item['imagen'], sep='--')\n",
    "    size = int(p['margen'][run] / 2)\n",
    "\n",
    "    timeJoin = []\n",
    "    for j in range(p['tiempos'][run]-1,-1,-1):\n",
    "        filename = path_base + 'PNG/' + imagenData[2] + '/' + imagenData[2] + '_' + str(j) + '.png'\n",
    "        \n",
    "        image_string = tf.io.read_file(filename)\n",
    "\n",
    "        img_decoded = tf.io.decode_png(image_string, dtype=tf.uint16, channels=3)\n",
    "        \n",
    "        \n",
    "                \n",
    "        timeJoin.insert(0,img_decoded[int(imagenData[1]) - size:int(imagenData[1]) + size,\n",
    "                                      int(imagenData[0]) - size:int(imagenData[0]) + size,\n",
    "                                      0:p['canales'][run]])\n",
    " \n",
    "        \n",
    "    if p['tiempos'][run]==1:\n",
    "        imagenData = tf.reshape(timeJoin[0],(p['margen'][run],p['margen'][run],p['canales'][run]))\n",
    "    else:\n",
    "        if p['meanMatrizImagen']:        \n",
    "            img = tf.reduce_mean( timeJoin , axis=0 )\n",
    "            imagenData = tf.reshape(img,(p['margen'][run],p['margen'][run],p['canales'][run]))\n",
    "        else:\n",
    "            img = tf.stack(timeJoin, axis=0)\n",
    "            imagenData = tf.reshape(img,(p['tiempos'][run],p['margen'][run],p['margen'][run],p['canales'][run]))\n",
    "        \n",
    "    \n",
    "    \n",
    "    if len(p['inputs']) == 1:\n",
    "        return imagenData, int(value)\n",
    "    \n",
    "    item['imagen'] = imagenData\n",
    "    itemL = []\n",
    "    for inpL in p['inputs']:\n",
    "        itemL.append(item[inpL])\n",
    "    \n",
    "    return tuple(itemL), int(value)"
   ]
  },
  {
   "cell_type": "code",
   "execution_count": 195,
   "id": "4ea4508f",
   "metadata": {},
   "outputs": [],
   "source": [
    "def splitDataset(p, run, ds, path_imagenes, products, times,val_split= 0.2):\n",
    "    #Dataset de etnrenamiento\n",
    "    \"\"\"\n",
    "    # Si es de clasificacion, balanceamos los datos\n",
    "    if p['redTipo'] == 'clasificacion':\n",
    "        ds0 = ds[ds[p['outputs']]==0] \n",
    "        ds1 = ds[ds[p['outputs']]==1] \n",
    "        if len(ds0) > len(ds1):\n",
    "            dataset = pd.concat([ds0.sample(n=len(ds1)),ds1], ignore_index=True)\n",
    "        else:\n",
    "            dataset = pd.concat([ds0,ds1.sample(n=len(ds0))], ignore_index=True)\n",
    "    \n",
    "    # Si es de regresion, el balance debe hacerse afuera\n",
    "    else:    \n",
    "    \"\"\"\n",
    "    dataset  = ds        \n",
    "        \n",
    "    # Escojemos una fraccion del dataset si se ha indicado   \n",
    "    if p['dataset']:\n",
    "        train, test = train_test_split(dataset.sample(frac=p['dataset']), test_size=val_split, shuffle=True)\n",
    "    else:\n",
    "        train, test = train_test_split(dataset, test_size=val_split, shuffle=True)\n",
    "        \n",
    "        \n",
    "    print(f'Tamaño del dataset: Train {len(train)}  - Val {len(test)}')\n",
    "    \n",
    "    inputsList = {}\n",
    "    for inp in p['inputs']:\n",
    "        inputsList[inp] = train[inp].tolist()        \n",
    "       \n",
    "        \n",
    "    train_dataset = tf.data.Dataset.from_tensor_slices(((inputsList),train[p['outputs']].tolist()))           \n",
    "    val_dataset = tf.data.Dataset.from_tensor_slices(((inputsList),train[p['outputs']].tolist()))     \n",
    "    \n",
    "    train_dataset = train_dataset.map(lambda x ,y : read_png_file(x,y,p,run,path_imagenes,products,times))\n",
    "    val_dataset = val_dataset.map(lambda x ,y : read_png_file(x,y,p,run,path_imagenes,products,times))\n",
    "    \n",
    "    train_dataset = train_dataset.batch(p['batch'])#.cache().prefetch(tf.data.AUTOTUNE)\n",
    "    val_dataset = val_dataset.batch(p['batch'])#.prefetch(tf.data.AUTOTUNE)  \n",
    "    \n",
    "    return train_dataset, val_dataset"
   ]
  },
  {
   "cell_type": "code",
   "execution_count": 196,
   "id": "12ab1f80",
   "metadata": {},
   "outputs": [],
   "source": [
    "def getModelStats(idModel,params,run,datasetLen, dsName):\n",
    "    cpParams = {}\n",
    "    cpParams['ModelID'] = idModel\n",
    "    cpParams['canales'] = params['canales'][run]\n",
    "    cpParams['tiempos'] = params['tiempos'][run]\n",
    "    cpParams['margen'] = params['margen'][run]\n",
    "    cpParams['Modelo'] = params['redTipo']\n",
    "    cpParams['inputs'] = str(params['inputs'])\n",
    "    cpParams['outputs'] = params['outputs']\n",
    "    cpParams['epocas'] = params['epocas']\n",
    "    cpParams['batch'] = params['batch']\n",
    "    cpParams['lr'] = params['lr']\n",
    "    cpParams['dataset'] = datasetLen    \n",
    "    cpParams['dsName'] = dsName\n",
    "    cpParams['idPruebas'] = params['idPruebas']    \n",
    "    cpParams['lambda'] = params['lambda']\n",
    "    return cpParams    "
   ]
  },
  {
   "cell_type": "code",
   "execution_count": 197,
   "id": "403431c0",
   "metadata": {
    "scrolled": false
   },
   "outputs": [],
   "source": [
    "\"\"\"\n",
    "_dataset['clase']  =(_dataset['flag']=='C0000002').astype(int)\n",
    "_dataset[_dataset['flag']!='C0000002'].head(2)\n",
    "\n",
    "print(f'Clase 1:    {len(_dataset[_dataset[\"clase\"]==1])}')\n",
    "print(f'Clase 0:    {len(_dataset[_dataset[\"clase\"]==0])}')\n",
    "_dataset.groupby(['clase']).count()['dato'].plot.barh()\n",
    "\n",
    "print('DISTRIBUCION DE LOS DATOS CLASE 0')\n",
    "print(f'{_dataset[_dataset[\"clase\"]==0][\"dato\"].describe()}')\n",
    "_dataset[_dataset[\"clase\"]==0]['dato'].hist()\n",
    "\n",
    "print('DISTRIBUCION DE LOS DATOS CLASE 1')\n",
    "print(f'{_dataset[_dataset[\"clase\"]==1][\"dato\"].describe()}')\n",
    "_dataset[_dataset[\"clase\"]==1]['dato'].hist()\n",
    "\n",
    "print('           ESTADISCIAS\\n')\n",
    "\n",
    "print(f'Flags:      {_dataset[\"flag\"].unique()}')\n",
    "print(f'Estaciones: {len(_dataset[\"codigo\"].unique())}')\n",
    "print(f'Totales:    {_dataset[\"dato\"].count()}')\n",
    "print(f'Ceros:      {len(_dataset[_dataset[\"dato\"]==0])}')\n",
    "print(f'Clase 1:    {len(_dataset[_dataset[\"clase\"]==1])}')\n",
    "print(f'Clase 0:    {len(_dataset[_dataset[\"clase\"]==0])}')\n",
    "\"\"\"\n",
    "a=0"
   ]
  },
  {
   "cell_type": "code",
   "execution_count": 198,
   "id": "e5adbdbc",
   "metadata": {},
   "outputs": [],
   "source": [
    "def crearDir(path, newDir):\n",
    "    try:\n",
    "        pathT = os.path.join(path, newDir)\n",
    "        os.mkdir(pathT)\n",
    "        return pathT\n",
    "    except FileExistsError:\n",
    "        return pathT\n",
    "        pass\n",
    "    except:\n",
    "        print(f\"No se pudo crear el directorio: {newDir}\")\n",
    "        pritn(f'Path base: {path}')\n",
    "        pritn(f'Nuevo    : {newDir}')        \n",
    "        return None"
   ]
  },
  {
   "cell_type": "code",
   "execution_count": 200,
   "id": "8c195161",
   "metadata": {},
   "outputs": [],
   "source": [
    "def inicializarVariables(repDir, params,ds,graficos):\n",
    "    # Leemos dataset\n",
    "    try:\n",
    "        dataset = pd.read_csv(ds)        \n",
    "        dsName = ds.split('/')[-1][:-4]\n",
    "    except:\n",
    "        print(f'No se pudo leer el dataset {ds}')\n",
    "        return None\n",
    "    \n",
    "    statsDir = crearDir(repDir, dsName)\n",
    "    excelFile = f'{statsDir}/Stats_{params[\"redTipo\"]}_{params[\"outputs\"]}_{datetime.today().strftime(\"%Y%m\")}.xlsx'\n",
    "    \n",
    "    if graficos and not os.path.exists(excelFile):\n",
    "        writer = pd.ExcelWriter(excelFile, engine = 'xlsxwriter')\n",
    "        keys_values = params.items()\n",
    "        strParams = {str(key): str(value) for key, value in keys_values}\n",
    "        strParams['dsName'] = dsName\n",
    "        pd.DataFrame(strParams,index=[0]).to_excel(writer, sheet_name = 'Informacion')          \n",
    "        writer.save()\n",
    "        \n",
    "        \n",
    "    return statsDir, excelFile, dataset            "
   ]
  },
  {
   "cell_type": "code",
   "execution_count": 244,
   "id": "03005a29",
   "metadata": {},
   "outputs": [],
   "source": [
    "def getCM(logs):\n",
    "    lKeys = list(logs.keys())\n",
    "    \n",
    "    try:\n",
    "        TN = int(logs[[x for x in lKeys if 'val_true_negatives' in x][0]])\n",
    "        TP = int(logs[[x for x in lKeys if 'val_true_positives' in x][0]])\n",
    "        FN = int(logs[[x for x in lKeys if 'val_false_negatives' in x][0]])\n",
    "        FP = int(logs[[x for x in lKeys if 'val_false_positives' in x][0]])\n",
    "    except:\n",
    "        print(f'\\nNo se pudo leer keys para la matriz de confucion en logs : {lKeys}')\n",
    "        print(f'Se intento leer: val_true_negatives,val_true_positives, val_false_negatives y val_false_positives')\n",
    "    \n",
    "       \n",
    "    y_true =  [0]*TN + [1]*TP + [1]*FN + [0]*FP\n",
    "    _y_pred = [0]*TN + [1]*TP + [0]*FN + [1]*FP\n",
    "    \n",
    "    return TN, FP, FN, TP, np.array(y_true), np.array(_y_pred)"
   ]
  },
  {
   "cell_type": "code",
   "execution_count": 242,
   "id": "9d2f7c92",
   "metadata": {},
   "outputs": [],
   "source": [
    "class CustomCB(Callback):\n",
    "    \"\"\" Custom callback to compute metrics at the end of each training epoch\"\"\"\n",
    "    def __init__(self, val_ds=None):     \n",
    "        self.val_ds = val_ds  \n",
    "        self.history = {}\n",
    "   \n",
    "   \n",
    "    def on_epoch_end(self, epoch, logs={}):       \n",
    "        TN, FP, FN, TP, y_true, _y_pred = getCM(logs)\n",
    "        \n",
    "        self.history.setdefault('loss', []).append(logs['loss']) \n",
    "        self.history.setdefault('acc', []).append(logs['acc'])  \n",
    "        self.history.setdefault('val_loss', []).append(logs['val_loss']) \n",
    "        self.history.setdefault('val_acc', []).append(logs['val_acc']) \n",
    "        \n",
    "        \n",
    "        self.history.setdefault('val_TN', []).append(TN) \n",
    "        self.history.setdefault('val_FP', []).append(FP)\n",
    "        self.history.setdefault('val_FN', []).append(FN) \n",
    "        self.history.setdefault('val_TP', []).append(TP) \n",
    "        \n",
    "            \n",
    "\n",
    "        wandb.log({\"conf_mat\" : wandb.plot.confusion_matrix(probs=None,\n",
    "                                preds=_y_pred, y_true=y_true,\n",
    "                                class_names=[0,1]),\n",
    "                   \n",
    "                   'val_TN' :TN,'val_FN' :FN,'val_TP' :TP,'val_FP' :FP,\n",
    "                   'val_acc': logs['val_acc'],'loss' : logs['loss'],\n",
    "                   'val_loss': logs['val_loss'],'acc' : logs['acc']\n",
    "                  \n",
    "                  })\n"
   ]
  },
  {
   "cell_type": "code",
   "execution_count": 227,
   "id": "e1c5b546",
   "metadata": {},
   "outputs": [],
   "source": [
    "def crearCallbacks(statsDir,dsName, params,run, metricas, graficos):\n",
    "    CB = metricas['callbacks']\n",
    "    \n",
    "    idModel = datetime.today().strftime(\"%Y%m%d_%H%M%S\")\n",
    "    checkpoint_path = f'{statsDir}/Model_{params[\"redTipo\"]}_{params[\"outputs\"]}_{idModel}.hdf5' \n",
    "    cp_callback = tf.keras.callbacks.ModelCheckpoint(filepath=checkpoint_path,\n",
    "                                                     save_weights_only=True,\n",
    "                                                     verbose=1)\n",
    "    \n",
    "    # Iniciamos WANDB\n",
    "    if graficos:\n",
    "        config = dict(learning_rate=params['lr'], epochs = params['epocas'],\n",
    "                 batch_size =params['batch'],architecture=\"CNN\", \n",
    "                 num_classes = params['num_class'],)\n",
    "        \n",
    "        wandb.init(project=f'{params[\"Proyect\"]}-({params[\"redTipo\"]}-{params[\"outputs\"]}-{len(params[\"inputs\"])})',            \n",
    "                   config=config,\n",
    "                   name= f'Ex_{dsName}_({params[\"canales\"][run]}-{params[\"tiempos\"][run]}-{params[\"margen\"][run]})_{idModel}')   \n",
    "        \n",
    "        CB.append(cp_callback)   \n",
    "        \n",
    "        #CB.append(WandbCallback(save_weights_only=True))      \n",
    "\n",
    "                                           \n",
    "    return CB, idModel"
   ]
  },
  {
   "cell_type": "code",
   "execution_count": 251,
   "id": "86a7caac",
   "metadata": {},
   "outputs": [],
   "source": [
    "def trainModel(params,path_imagenes, path_base ,products, times):    \n",
    "        \n",
    "    graficos = params['record']\n",
    "    \n",
    "    ds_files = [f'{params[\"dsDir\"]}{e}' for e in os.listdir(params[\"dsDir\"])]\n",
    "    print(f'Cantidad de datasets : {len(ds_files)}')    \n",
    "    print(f'Datasets a usar : {params[\"maxDS\"]}')    \n",
    "        \n",
    "    \n",
    "    all_result = []      \n",
    "    \n",
    "    repDir = crearDir(f'{path_base}/Archivos/Modelos', params[\"redTipo\"])\n",
    "    repDir = crearDir(repDir, params[\"Proyect\"])\n",
    "    \n",
    "    print(f'DIRECTORIO BASE : {repDir}')\n",
    "    \n",
    "    # Una iteracion por cada dataset existente\n",
    "    ds_i = 0\n",
    "    for ds in ds_files[0:params['maxDS']]:  \n",
    "        ds_i += 1       \n",
    "        \n",
    "        # Crear carpeta para DS y archivo de stats y el ds\n",
    "        statsDir , statsFile , dataset = inicializarVariables(repDir, params,ds ,graficos)         \n",
    "            \n",
    "        resultados = []    \n",
    "        for run in range(params['runs']): \n",
    "            print('__________________________________________________')\n",
    "            print(f'DATASET : {ds_i}/{params['maxDS']}')            \n",
    "            print('__________________________________________________')\n",
    "            print(f'Inicio de la prueba N°: {(run+1)}/{params[\"runs\"]}') \n",
    "            print(f'Dataset: {ds.split(\".\")[0]}')\n",
    "            print(f'- Batch size:  {params[\"batch\"]}')\n",
    "            print('__________________________________________________')\n",
    "            \n",
    "           \n",
    "            # Modelo \n",
    "            model = crearModelo(params,run) \n",
    "            metricas = getMetrics(params['redTipo'], params['lr'], params['paciencia'])\n",
    "            model.compile(optimizer=metricas['optimizer'],loss=metricas['loss_fn'],metrics=metricas['metrics'],)\n",
    "            \n",
    "            # Dataset        \n",
    "            train_dataset, val_dataset = splitDataset(params,run, dataset, path_imagenes, products, times, params['val_split'])\n",
    "            \n",
    "            \n",
    "            # Creamos los callbacks\n",
    "            CB, idModel = crearCallbacks(statsDir,ds.split('/')[-1][:-4], params,run, metricas, graficos)           \n",
    "\n",
    "            if params['redTipo'] == 'clasificacion':\n",
    "                hist =  CustomCB(val_dataset)\n",
    "                CB.append(hist)\n",
    "            \n",
    "            #Entrenamos\n",
    "            history = model.fit(train_dataset,batch_size=params['batch'],                            \n",
    "                                epochs=params['epocas'],callbacks=CB,\n",
    "                                validation_data=val_dataset,\n",
    "                                validation_batch_size=params['batch'],\n",
    "                                verbose=1)\n",
    "\n",
    "\n",
    "            resultados.append(hist.history)\n",
    "            \n",
    "            \n",
    "            # Guardamos las estadisticas\n",
    "            if graficos:                \n",
    "                with pd.ExcelWriter(statsFile, mode=\"a\", engine=\"openpyxl\", if_sheet_exists='overlay') as writer:                    \n",
    "                    pd.DataFrame(hist.history).to_excel(writer,startrow=0,\n",
    "                                                           sheet_name=f'{run}-({params[\"canales\"][run]}-{params[\"tiempos\"][run]}-{params[\"margen\"][run]})-{idModel}')\n",
    "\n",
    "                wandb.finish()\n",
    "        \n",
    "        all_result.append(resultados)\n",
    "        \n",
    "    return all_result"
   ]
  },
  {
   "cell_type": "code",
   "execution_count": 252,
   "id": "b9ce9bf5",
   "metadata": {},
   "outputs": [
    {
     "data": {
      "text/plain": [
       "True"
      ]
     },
     "execution_count": 252,
     "metadata": {},
     "output_type": "execute_result"
    }
   ],
   "source": [
    "import wandb\n",
    "from wandb.keras import WandbCallback\n",
    "wandb.login()\n"
   ]
  },
  {
   "cell_type": "code",
   "execution_count": 253,
   "id": "f89085a4",
   "metadata": {},
   "outputs": [],
   "source": [
    "\"\"\"\n",
    "# Definimos las varibles para las iteraciones\n",
    "Los parametros que van a cambiar son:\n",
    "- Canales (products)\n",
    "- Tiempos (Min de las imagenes)\n",
    "- margen\n",
    "\"\"\"\n",
    "products = ['C07','C08','C13']\n",
    "times   = ['10','20','30','40','50','00']\n",
    "\n",
    "\n",
    "p_train = {\n",
    "            # Reportes\n",
    "          'Proyect' : 'TesisDiego', # TesisDiego\n",
    "          'record'   : True,  #Grabar los resultados (wandb y excels)\n",
    "    \n",
    "            # Datos del modelo\n",
    "          'inputs'   : ['imagen', 'dato'], #altura]\n",
    "          'meanMatrizImagen' : False, # True -> Usa una conv2d, caso contrario conv3d\n",
    "          'outputs'  : 'clase', \n",
    "          'num_class': 2,\n",
    "          'redTipo'  : 'clasificacion', # clasificacion / regresion\n",
    "        \n",
    "            # Variables del entrenamiento          \n",
    "          'lr'       : 0.001,\n",
    "          'batch'    : 32,        \n",
    "          'val_split': 0.2,\n",
    "          'epocas'   : 15,  \n",
    "          'paciencia': 7,  \n",
    "    \n",
    "           # Dataset\n",
    "          'dsDir'    : f'{path_base}/Archivos/Dataset/SplittedV2/',\n",
    "          'maxDS'    : -1, #-1 = Todos\n",
    "          'dataset'  : 1.0,     # 1 = 100% del ds se usará\n",
    "          'DataAug'  : False, # Data augmentation\n",
    "          \n",
    "          \n",
    "           # Hiper parametros \n",
    "          'canales'  : [3,2,3,2,3,2],\n",
    "          'tiempos'  : [4,4,3,3,4,4],\n",
    "          'margen'   : [30,30,30,40,40,40],\n",
    "          'runs'     : 6\n",
    "         }"
   ]
  },
  {
   "cell_type": "code",
   "execution_count": 254,
   "id": "ec38363e",
   "metadata": {},
   "outputs": [
    {
     "name": "stdout",
     "output_type": "stream",
     "text": [
      "Cantidad de datasets : 26\n",
      "2702\n"
     ]
    },
    {
     "data": {
      "text/html": [
       "<div>\n",
       "<style scoped>\n",
       "    .dataframe tbody tr th:only-of-type {\n",
       "        vertical-align: middle;\n",
       "    }\n",
       "\n",
       "    .dataframe tbody tr th {\n",
       "        vertical-align: top;\n",
       "    }\n",
       "\n",
       "    .dataframe thead th {\n",
       "        text-align: right;\n",
       "    }\n",
       "</style>\n",
       "<table border=\"1\" class=\"dataframe\">\n",
       "  <thead>\n",
       "    <tr style=\"text-align: right;\">\n",
       "      <th></th>\n",
       "      <th>Unnamed: 0</th>\n",
       "      <th>nombre</th>\n",
       "      <th>codigo</th>\n",
       "      <th>XO</th>\n",
       "      <th>XA</th>\n",
       "      <th>longitud</th>\n",
       "      <th>latitud</th>\n",
       "      <th>altura</th>\n",
       "      <th>dato</th>\n",
       "      <th>90%</th>\n",
       "      <th>99%</th>\n",
       "      <th>75%</th>\n",
       "      <th>fecha</th>\n",
       "      <th>flag</th>\n",
       "      <th>flagV2</th>\n",
       "      <th>imagen</th>\n",
       "      <th>clase</th>\n",
       "    </tr>\n",
       "  </thead>\n",
       "  <tbody>\n",
       "    <tr>\n",
       "      <th>0</th>\n",
       "      <td>0</td>\n",
       "      <td>GUZMANGO</td>\n",
       "      <td>472C81BC</td>\n",
       "      <td>258</td>\n",
       "      <td>486</td>\n",
       "      <td>-78.90330</td>\n",
       "      <td>-7.38133</td>\n",
       "      <td>2464.0</td>\n",
       "      <td>0.0</td>\n",
       "      <td>0.0</td>\n",
       "      <td>2.0</td>\n",
       "      <td>0.0</td>\n",
       "      <td>2021-12-04-15</td>\n",
       "      <td>C0000002</td>\n",
       "      <td>C01</td>\n",
       "      <td>258--486--2021-12-04-15</td>\n",
       "      <td>1</td>\n",
       "    </tr>\n",
       "    <tr>\n",
       "      <th>1</th>\n",
       "      <td>1</td>\n",
       "      <td>CASA GRANDE</td>\n",
       "      <td>472D30C8</td>\n",
       "      <td>242</td>\n",
       "      <td>507</td>\n",
       "      <td>-79.18869</td>\n",
       "      <td>-7.75031</td>\n",
       "      <td>145.0</td>\n",
       "      <td>0.0</td>\n",
       "      <td>0.0</td>\n",
       "      <td>0.0</td>\n",
       "      <td>0.0</td>\n",
       "      <td>2021-12-01-18</td>\n",
       "      <td>C0000002</td>\n",
       "      <td>C01</td>\n",
       "      <td>242--507--2021-12-01-18</td>\n",
       "      <td>1</td>\n",
       "    </tr>\n",
       "  </tbody>\n",
       "</table>\n",
       "</div>"
      ],
      "text/plain": [
       "   Unnamed: 0       nombre    codigo   XO   XA  longitud  latitud  altura  \\\n",
       "0           0     GUZMANGO  472C81BC  258  486 -78.90330 -7.38133  2464.0   \n",
       "1           1  CASA GRANDE  472D30C8  242  507 -79.18869 -7.75031   145.0   \n",
       "\n",
       "   dato  90%  99%  75%          fecha      flag flagV2  \\\n",
       "0   0.0  0.0  2.0  0.0  2021-12-04-15  C0000002    C01   \n",
       "1   0.0  0.0  0.0  0.0  2021-12-01-18  C0000002    C01   \n",
       "\n",
       "                    imagen  clase  \n",
       "0  258--486--2021-12-04-15      1  \n",
       "1  242--507--2021-12-01-18      1  "
      ]
     },
     "execution_count": 254,
     "metadata": {},
     "output_type": "execute_result"
    }
   ],
   "source": [
    "# Forma del DS\n",
    "ds_files = [f'{p_train[\"dsDir\"]}{e}' for e in os.listdir(p_train[\"dsDir\"])]\n",
    "print(f'Cantidad de datasets : {len(ds_files)}')  \n",
    "tempDF = pd.read_csv(ds_files[0])\n",
    "print(len(tempDF))\n",
    "tempDF.head(2)"
   ]
  },
  {
   "cell_type": "code",
   "execution_count": null,
   "id": "9e061cd5",
   "metadata": {},
   "outputs": [
    {
     "name": "stdout",
     "output_type": "stream",
     "text": [
      "Cantidad de datasets : 26\n",
      "Datasets a usar : -1\n",
      "DIRECTORIO BASE : C:/Users/Shounen/Desktop/Ciclo XI/Tesis 2/GPUTesis/Archivos/Modelos\\clasificacion\\TesisDiego\n",
      "--------------------------------------------------\n",
      "Inicio de la prueba N°: 1/6\n",
      "Dataset: C:/Users/Shounen/Desktop/Ciclo XI/Tesis 2/GPUTesis/Archivos/Dataset/SplittedV2/CLASE_TrainDS_0\n",
      "- Batch size:  32\n",
      "Creando modelo con input (30,30,3)) de tipo (clasificacion)\n",
      "Tamaño del dataset: Train 2161  - Val 541\n"
     ]
    },
    {
     "data": {
      "text/html": [
       "wandb version 0.12.15 is available!  To upgrade, please run:\n",
       " $ pip install wandb --upgrade"
      ],
      "text/plain": [
       "<IPython.core.display.HTML object>"
      ]
     },
     "metadata": {},
     "output_type": "display_data"
    },
    {
     "data": {
      "text/html": [
       "Tracking run with wandb version 0.12.11"
      ],
      "text/plain": [
       "<IPython.core.display.HTML object>"
      ]
     },
     "metadata": {},
     "output_type": "display_data"
    },
    {
     "data": {
      "text/html": [
       "Run data is saved locally in <code>C:\\Users\\Shounen\\Desktop\\Ciclo XI\\Tesis 2\\GPUTesis\\Codigo\\Entrenamiento\\Jupyter\\wandb\\run-20220424_190243-2xl8b26h</code>"
      ],
      "text/plain": [
       "<IPython.core.display.HTML object>"
      ]
     },
     "metadata": {},
     "output_type": "display_data"
    },
    {
     "data": {
      "text/html": [
       "Syncing run <strong><a href=\"https://wandb.ai/tesis2/TesisDiego-%28clasificacion-clase-2%29/runs/2xl8b26h\" target=\"_blank\">Ex_CLASE_TrainDS_0_(3-6-30)_20220424_190243</a></strong> to <a href=\"https://wandb.ai/tesis2/TesisDiego-%28clasificacion-clase-2%29\" target=\"_blank\">Weights & Biases</a> (<a href=\"https://wandb.me/run\" target=\"_blank\">docs</a>)<br/>"
      ],
      "text/plain": [
       "<IPython.core.display.HTML object>"
      ]
     },
     "metadata": {},
     "output_type": "display_data"
    },
    {
     "name": "stdout",
     "output_type": "stream",
     "text": [
      "Epoch 1/15\n",
      "68/68 [==============================] - ETA: 0s - loss: 0.6980 - acc: 0.5109 - true_positives_4: 760.0000 - true_negatives_4: 344.0000 - false_positives_4: 716.0000 - false_negatives_4: 341.0000\n",
      "Epoch 1: saving model to C:/Users/Shounen/Desktop/Ciclo XI/Tesis 2/GPUTesis/Archivos/Modelos\\clasificacion\\TesisDiego\\CLASE_TrainDS_0\\Model_clasificacion_clase_20220424_190243.hdf5\n",
      "68/68 [==============================] - 153s 2s/step - loss: 0.6980 - acc: 0.5109 - true_positives_4: 760.0000 - true_negatives_4: 344.0000 - false_positives_4: 716.0000 - false_negatives_4: 341.0000 - val_loss: 0.6860 - val_acc: 0.4905 - val_true_positives_4: 0.0000e+00 - val_true_negatives_4: 1060.0000 - val_false_positives_4: 0.0000e+00 - val_false_negatives_4: 1101.0000\n",
      "Epoch 2/15\n",
      "68/68 [==============================] - ETA: 0s - loss: 0.6820 - acc: 0.5373 - true_positives_4: 703.0000 - true_negatives_4: 458.0000 - false_positives_4: 602.0000 - false_negatives_4: 398.0000\n",
      "Epoch 2: saving model to C:/Users/Shounen/Desktop/Ciclo XI/Tesis 2/GPUTesis/Archivos/Modelos\\clasificacion\\TesisDiego\\CLASE_TrainDS_0\\Model_clasificacion_clase_20220424_190243.hdf5\n",
      "68/68 [==============================] - 153s 2s/step - loss: 0.6820 - acc: 0.5373 - true_positives_4: 703.0000 - true_negatives_4: 458.0000 - false_positives_4: 602.0000 - false_negatives_4: 398.0000 - val_loss: 0.6796 - val_acc: 0.4905 - val_true_positives_4: 0.0000e+00 - val_true_negatives_4: 1060.0000 - val_false_positives_4: 0.0000e+00 - val_false_negatives_4: 1101.0000\n",
      "Epoch 3/15\n",
      "68/68 [==============================] - ETA: 0s - loss: 0.6737 - acc: 0.5636 - true_positives_4: 840.0000 - true_negatives_4: 378.0000 - false_positives_4: 682.0000 - false_negatives_4: 261.0000\n",
      "Epoch 3: saving model to C:/Users/Shounen/Desktop/Ciclo XI/Tesis 2/GPUTesis/Archivos/Modelos\\clasificacion\\TesisDiego\\CLASE_TrainDS_0\\Model_clasificacion_clase_20220424_190243.hdf5\n",
      "68/68 [==============================] - 152s 2s/step - loss: 0.6737 - acc: 0.5636 - true_positives_4: 840.0000 - true_negatives_4: 378.0000 - false_positives_4: 682.0000 - false_negatives_4: 261.0000 - val_loss: 0.6698 - val_acc: 0.4905 - val_true_positives_4: 0.0000e+00 - val_true_negatives_4: 1060.0000 - val_false_positives_4: 0.0000e+00 - val_false_negatives_4: 1101.0000\n",
      "Epoch 4/15\n",
      "68/68 [==============================] - ETA: 0s - loss: 0.6641 - acc: 0.5997 - true_positives_4: 922.0000 - true_negatives_4: 374.0000 - false_positives_4: 686.0000 - false_negatives_4: 179.0000\n",
      "Epoch 4: saving model to C:/Users/Shounen/Desktop/Ciclo XI/Tesis 2/GPUTesis/Archivos/Modelos\\clasificacion\\TesisDiego\\CLASE_TrainDS_0\\Model_clasificacion_clase_20220424_190243.hdf5\n",
      "68/68 [==============================] - 152s 2s/step - loss: 0.6641 - acc: 0.5997 - true_positives_4: 922.0000 - true_negatives_4: 374.0000 - false_positives_4: 686.0000 - false_negatives_4: 179.0000 - val_loss: 0.6548 - val_acc: 0.6081 - val_true_positives_4: 1101.0000 - val_true_negatives_4: 213.0000 - val_false_positives_4: 847.0000 - val_false_negatives_4: 0.0000e+00\n",
      "Epoch 5/15\n",
      "68/68 [==============================] - ETA: 0s - loss: 0.6519 - acc: 0.5969 - true_positives_4: 866.0000 - true_negatives_4: 424.0000 - false_positives_4: 636.0000 - false_negatives_4: 235.0000\n",
      "Epoch 5: saving model to C:/Users/Shounen/Desktop/Ciclo XI/Tesis 2/GPUTesis/Archivos/Modelos\\clasificacion\\TesisDiego\\CLASE_TrainDS_0\\Model_clasificacion_clase_20220424_190243.hdf5\n",
      "68/68 [==============================] - 152s 2s/step - loss: 0.6519 - acc: 0.5969 - true_positives_4: 866.0000 - true_negatives_4: 424.0000 - false_positives_4: 636.0000 - false_negatives_4: 235.0000 - val_loss: 0.6501 - val_acc: 0.4905 - val_true_positives_4: 0.0000e+00 - val_true_negatives_4: 1060.0000 - val_false_positives_4: 0.0000e+00 - val_false_negatives_4: 1101.0000\n",
      "Epoch 6/15\n",
      "68/68 [==============================] - ETA: 0s - loss: 0.6398 - acc: 0.6377 - true_positives_4: 958.0000 - true_negatives_4: 420.0000 - false_positives_4: 640.0000 - false_negatives_4: 143.0000\n",
      "Epoch 6: saving model to C:/Users/Shounen/Desktop/Ciclo XI/Tesis 2/GPUTesis/Archivos/Modelos\\clasificacion\\TesisDiego\\CLASE_TrainDS_0\\Model_clasificacion_clase_20220424_190243.hdf5\n",
      "68/68 [==============================] - 152s 2s/step - loss: 0.6398 - acc: 0.6377 - true_positives_4: 958.0000 - true_negatives_4: 420.0000 - false_positives_4: 640.0000 - false_negatives_4: 143.0000 - val_loss: 0.6302 - val_acc: 0.6682 - val_true_positives_4: 1101.0000 - val_true_negatives_4: 343.0000 - val_false_positives_4: 717.0000 - val_false_negatives_4: 0.0000e+00\n",
      "Epoch 7/15\n",
      "68/68 [==============================] - ETA: 0s - loss: 0.6253 - acc: 0.6404 - true_positives_4: 931.0000 - true_negatives_4: 453.0000 - false_positives_4: 607.0000 - false_negatives_4: 170.0000\n",
      "Epoch 7: saving model to C:/Users/Shounen/Desktop/Ciclo XI/Tesis 2/GPUTesis/Archivos/Modelos\\clasificacion\\TesisDiego\\CLASE_TrainDS_0\\Model_clasificacion_clase_20220424_190243.hdf5\n",
      "68/68 [==============================] - 152s 2s/step - loss: 0.6253 - acc: 0.6404 - true_positives_4: 931.0000 - true_negatives_4: 453.0000 - false_positives_4: 607.0000 - false_negatives_4: 170.0000 - val_loss: 0.6131 - val_acc: 0.6603 - val_true_positives_4: 1101.0000 - val_true_negatives_4: 326.0000 - val_false_positives_4: 734.0000 - val_false_negatives_4: 0.0000e+00\n",
      "Epoch 8/15\n",
      "68/68 [==============================] - ETA: 0s - loss: 0.6099 - acc: 0.6789 - true_positives_4: 1045.0000 - true_negatives_4: 422.0000 - false_positives_4: 638.0000 - false_negatives_4: 56.0000\n",
      "Epoch 8: saving model to C:/Users/Shounen/Desktop/Ciclo XI/Tesis 2/GPUTesis/Archivos/Modelos\\clasificacion\\TesisDiego\\CLASE_TrainDS_0\\Model_clasificacion_clase_20220424_190243.hdf5\n",
      "68/68 [==============================] - 152s 2s/step - loss: 0.6099 - acc: 0.6789 - true_positives_4: 1045.0000 - true_negatives_4: 422.0000 - false_positives_4: 638.0000 - false_negatives_4: 56.0000 - val_loss: 0.5945 - val_acc: 0.6816 - val_true_positives_4: 1101.0000 - val_true_negatives_4: 372.0000 - val_false_positives_4: 688.0000 - val_false_negatives_4: 0.0000e+00\n",
      "Epoch 9/15\n",
      "68/68 [==============================] - ETA: 0s - loss: 0.5991 - acc: 0.6955 - true_positives_4: 969.0000 - true_negatives_4: 534.0000 - false_positives_4: 526.0000 - false_negatives_4: 132.0000\n",
      "Epoch 9: saving model to C:/Users/Shounen/Desktop/Ciclo XI/Tesis 2/GPUTesis/Archivos/Modelos\\clasificacion\\TesisDiego\\CLASE_TrainDS_0\\Model_clasificacion_clase_20220424_190243.hdf5\n",
      "68/68 [==============================] - 152s 2s/step - loss: 0.5991 - acc: 0.6955 - true_positives_4: 969.0000 - true_negatives_4: 534.0000 - false_positives_4: 526.0000 - false_negatives_4: 132.0000 - val_loss: 0.5829 - val_acc: 0.6761 - val_true_positives_4: 1101.0000 - val_true_negatives_4: 360.0000 - val_false_positives_4: 700.0000 - val_false_negatives_4: 0.0000e+00\n",
      "Epoch 10/15\n",
      "68/68 [==============================] - ETA: 0s - loss: 0.5794 - acc: 0.7270 - true_positives_4: 1087.0000 - true_negatives_4: 484.0000 - false_positives_4: 576.0000 - false_negatives_4: 14.0000\n",
      "Epoch 10: saving model to C:/Users/Shounen/Desktop/Ciclo XI/Tesis 2/GPUTesis/Archivos/Modelos\\clasificacion\\TesisDiego\\CLASE_TrainDS_0\\Model_clasificacion_clase_20220424_190243.hdf5\n",
      "68/68 [==============================] - 155s 2s/step - loss: 0.5794 - acc: 0.7270 - true_positives_4: 1087.0000 - true_negatives_4: 484.0000 - false_positives_4: 576.0000 - false_negatives_4: 14.0000 - val_loss: 0.5809 - val_acc: 0.7723 - val_true_positives_4: 805.0000 - val_true_negatives_4: 864.0000 - val_false_positives_4: 196.0000 - val_false_negatives_4: 296.0000\n",
      "Epoch 11/15\n",
      "68/68 [==============================] - ETA: 0s - loss: 0.5692 - acc: 0.7261 - true_positives_4: 1024.0000 - true_negatives_4: 545.0000 - false_positives_4: 515.0000 - false_negatives_4: 77.0000\n",
      "Epoch 11: saving model to C:/Users/Shounen/Desktop/Ciclo XI/Tesis 2/GPUTesis/Archivos/Modelos\\clasificacion\\TesisDiego\\CLASE_TrainDS_0\\Model_clasificacion_clase_20220424_190243.hdf5\n",
      "68/68 [==============================] - 158s 2s/step - loss: 0.5692 - acc: 0.7261 - true_positives_4: 1024.0000 - true_negatives_4: 545.0000 - false_positives_4: 515.0000 - false_negatives_4: 77.0000 - val_loss: 0.5514 - val_acc: 0.7770 - val_true_positives_4: 1101.0000 - val_true_negatives_4: 578.0000 - val_false_positives_4: 482.0000 - val_false_negatives_4: 0.0000e+00\n"
     ]
    },
    {
     "name": "stdout",
     "output_type": "stream",
     "text": [
      "Epoch 12/15\n",
      "68/68 [==============================] - ETA: 0s - loss: 0.5598 - acc: 0.7446 - true_positives_4: 1025.0000 - true_negatives_4: 584.0000 - false_positives_4: 476.0000 - false_negatives_4: 76.0000\n",
      "Epoch 12: saving model to C:/Users/Shounen/Desktop/Ciclo XI/Tesis 2/GPUTesis/Archivos/Modelos\\clasificacion\\TesisDiego\\CLASE_TrainDS_0\\Model_clasificacion_clase_20220424_190243.hdf5\n",
      "68/68 [==============================] - 176s 3s/step - loss: 0.5598 - acc: 0.7446 - true_positives_4: 1025.0000 - true_negatives_4: 584.0000 - false_positives_4: 476.0000 - false_negatives_4: 76.0000 - val_loss: 0.5397 - val_acc: 0.7756 - val_true_positives_4: 1101.0000 - val_true_negatives_4: 575.0000 - val_false_positives_4: 485.0000 - val_false_negatives_4: 0.0000e+00\n",
      "Epoch 13/15\n",
      "68/68 [==============================] - ETA: 0s - loss: 0.5430 - acc: 0.7547 - true_positives_4: 1060.0000 - true_negatives_4: 571.0000 - false_positives_4: 489.0000 - false_negatives_4: 41.0000\n",
      "Epoch 13: saving model to C:/Users/Shounen/Desktop/Ciclo XI/Tesis 2/GPUTesis/Archivos/Modelos\\clasificacion\\TesisDiego\\CLASE_TrainDS_0\\Model_clasificacion_clase_20220424_190243.hdf5\n",
      "68/68 [==============================] - 182s 3s/step - loss: 0.5430 - acc: 0.7547 - true_positives_4: 1060.0000 - true_negatives_4: 571.0000 - false_positives_4: 489.0000 - false_negatives_4: 41.0000 - val_loss: 0.5236 - val_acc: 0.7770 - val_true_positives_4: 1100.0000 - val_true_negatives_4: 579.0000 - val_false_positives_4: 481.0000 - val_false_negatives_4: 1.0000\n",
      "Epoch 14/15\n",
      "68/68 [==============================] - ETA: 0s - loss: 0.5273 - acc: 0.7612 - true_positives_4: 1048.0000 - true_negatives_4: 597.0000 - false_positives_4: 463.0000 - false_negatives_4: 53.0000\n",
      "Epoch 14: saving model to C:/Users/Shounen/Desktop/Ciclo XI/Tesis 2/GPUTesis/Archivos/Modelos\\clasificacion\\TesisDiego\\CLASE_TrainDS_0\\Model_clasificacion_clase_20220424_190243.hdf5\n",
      "68/68 [==============================] - 174s 3s/step - loss: 0.5273 - acc: 0.7612 - true_positives_4: 1048.0000 - true_negatives_4: 597.0000 - false_positives_4: 463.0000 - false_negatives_4: 53.0000 - val_loss: 0.5211 - val_acc: 0.7992 - val_true_positives_4: 1060.0000 - val_true_negatives_4: 667.0000 - val_false_positives_4: 393.0000 - val_false_negatives_4: 41.0000\n",
      "Epoch 15/15\n",
      "68/68 [==============================] - ETA: 0s - loss: 0.5190 - acc: 0.7631 - true_positives_4: 1027.0000 - true_negatives_4: 622.0000 - false_positives_4: 438.0000 - false_negatives_4: 74.0000\n",
      "Epoch 15: saving model to C:/Users/Shounen/Desktop/Ciclo XI/Tesis 2/GPUTesis/Archivos/Modelos\\clasificacion\\TesisDiego\\CLASE_TrainDS_0\\Model_clasificacion_clase_20220424_190243.hdf5\n",
      "68/68 [==============================] - 192s 3s/step - loss: 0.5190 - acc: 0.7631 - true_positives_4: 1027.0000 - true_negatives_4: 622.0000 - false_positives_4: 438.0000 - false_negatives_4: 74.0000 - val_loss: 0.4941 - val_acc: 0.7793 - val_true_positives_4: 1089.0000 - val_true_negatives_4: 595.0000 - val_false_positives_4: 465.0000 - val_false_negatives_4: 12.0000\n",
      "\n"
     ]
    },
    {
     "data": {
      "text/html": [
       "Waiting for W&B process to finish... <strong style=\"color:green\">(success).</strong>"
      ],
      "text/plain": [
       "<IPython.core.display.HTML object>"
      ]
     },
     "metadata": {},
     "output_type": "display_data"
    },
    {
     "data": {
      "application/vnd.jupyter.widget-view+json": {
       "model_id": "",
       "version_major": 2,
       "version_minor": 0
      },
      "text/plain": [
       "VBox(children=(Label(value='0.009 MB of 0.009 MB uploaded (0.000 MB deduped)\\r'), FloatProgress(value=0.986742…"
      ]
     },
     "metadata": {},
     "output_type": "display_data"
    },
    {
     "data": {
      "text/html": [
       "<style>\n",
       "    table.wandb td:nth-child(1) { padding: 0 10px; text-align: right }\n",
       "    .wandb-row { display: flex; flex-direction: row; flex-wrap: wrap; width: 100% }\n",
       "    .wandb-col { display: flex; flex-direction: column; flex-basis: 100%; flex: 1; padding: 10px; }\n",
       "    </style>\n",
       "<div class=\"wandb-row\"><div class=\"wandb-col\"><h3>Run history:</h3><br/><table class=\"wandb\"><tr><td>acc</td><td>▁▂▂▃▃▅▅▆▆▇▇▇███</td></tr><tr><td>loss</td><td>█▇▇▇▆▆▅▅▄▃▃▃▂▁▁</td></tr><tr><td>val_FN</td><td>███▁█▁▁▁▁▃▁▁▁▁▁</td></tr><tr><td>val_FP</td><td>▁▁▁█▁▇▇▇▇▃▅▅▅▄▅</td></tr><tr><td>val_TN</td><td>███▁█▂▂▂▂▆▄▄▄▅▄</td></tr><tr><td>val_TP</td><td>▁▁▁█▁████▆█████</td></tr><tr><td>val_acc</td><td>▁▁▁▄▁▅▅▅▅▇▇▇▇██</td></tr><tr><td>val_loss</td><td>██▇▇▇▆▅▅▄▄▃▃▂▂▁</td></tr></table><br/></div><div class=\"wandb-col\"><h3>Run summary:</h3><br/><table class=\"wandb\"><tr><td>acc</td><td>0.76307</td></tr><tr><td>loss</td><td>0.51902</td></tr><tr><td>val_FN</td><td>12</td></tr><tr><td>val_FP</td><td>465</td></tr><tr><td>val_TN</td><td>595</td></tr><tr><td>val_TP</td><td>1089</td></tr><tr><td>val_acc</td><td>0.77927</td></tr><tr><td>val_loss</td><td>0.49412</td></tr></table><br/></div></div>"
      ],
      "text/plain": [
       "<IPython.core.display.HTML object>"
      ]
     },
     "metadata": {},
     "output_type": "display_data"
    },
    {
     "data": {
      "text/html": [
       "Synced <strong style=\"color:#cdcd00\">Ex_CLASE_TrainDS_0_(3-6-30)_20220424_190243</strong>: <a href=\"https://wandb.ai/tesis2/TesisDiego-%28clasificacion-clase-2%29/runs/2xl8b26h\" target=\"_blank\">https://wandb.ai/tesis2/TesisDiego-%28clasificacion-clase-2%29/runs/2xl8b26h</a><br/>Synced 6 W&B file(s), 15 media file(s), 12 artifact file(s) and 0 other file(s)"
      ],
      "text/plain": [
       "<IPython.core.display.HTML object>"
      ]
     },
     "metadata": {},
     "output_type": "display_data"
    },
    {
     "data": {
      "text/html": [
       "Find logs at: <code>.\\wandb\\run-20220424_190243-2xl8b26h\\logs</code>"
      ],
      "text/plain": [
       "<IPython.core.display.HTML object>"
      ]
     },
     "metadata": {},
     "output_type": "display_data"
    },
    {
     "name": "stdout",
     "output_type": "stream",
     "text": [
      "--------------------------------------------------\n",
      "Inicio de la prueba N°: 2/6\n",
      "Dataset: C:/Users/Shounen/Desktop/Ciclo XI/Tesis 2/GPUTesis/Archivos/Dataset/SplittedV2/CLASE_TrainDS_0\n",
      "- Batch size:  32\n",
      "Creando modelo con input (30,30,2)) de tipo (clasificacion)\n",
      "Tamaño del dataset: Train 2161  - Val 541\n"
     ]
    },
    {
     "data": {
      "text/html": [
       "Tracking run with wandb version 0.12.11"
      ],
      "text/plain": [
       "<IPython.core.display.HTML object>"
      ]
     },
     "metadata": {},
     "output_type": "display_data"
    },
    {
     "data": {
      "text/html": [
       "Run data is saved locally in <code>C:\\Users\\Shounen\\Desktop\\Ciclo XI\\Tesis 2\\GPUTesis\\Codigo\\Entrenamiento\\Jupyter\\wandb\\run-20220424_194306-2ia796pl</code>"
      ],
      "text/plain": [
       "<IPython.core.display.HTML object>"
      ]
     },
     "metadata": {},
     "output_type": "display_data"
    },
    {
     "data": {
      "text/html": [
       "Syncing run <strong><a href=\"https://wandb.ai/tesis2/TesisDiego-%28clasificacion-clase-2%29/runs/2ia796pl\" target=\"_blank\">Ex_CLASE_TrainDS_0_(2-6-30)_20220424_194306</a></strong> to <a href=\"https://wandb.ai/tesis2/TesisDiego-%28clasificacion-clase-2%29\" target=\"_blank\">Weights & Biases</a> (<a href=\"https://wandb.me/run\" target=\"_blank\">docs</a>)<br/>"
      ],
      "text/plain": [
       "<IPython.core.display.HTML object>"
      ]
     },
     "metadata": {},
     "output_type": "display_data"
    },
    {
     "name": "stdout",
     "output_type": "stream",
     "text": [
      "Epoch 1/15\n",
      "68/68 [==============================] - ETA: 0s - loss: 0.6740 - acc: 0.5604 - true_positives_5: 746.0000 - true_negatives_5: 465.0000 - false_positives_5: 618.0000 - false_negatives_5: 332.0000\n",
      "Epoch 1: saving model to C:/Users/Shounen/Desktop/Ciclo XI/Tesis 2/GPUTesis/Archivos/Modelos\\clasificacion\\TesisDiego\\CLASE_TrainDS_0\\Model_clasificacion_clase_20220424_194306.hdf5\n",
      "68/68 [==============================] - 207s 3s/step - loss: 0.6740 - acc: 0.5604 - true_positives_5: 746.0000 - true_negatives_5: 465.0000 - false_positives_5: 618.0000 - false_negatives_5: 332.0000 - val_loss: 0.6623 - val_acc: 0.6488 - val_true_positives_5: 1078.0000 - val_true_negatives_5: 324.0000 - val_false_positives_5: 759.0000 - val_false_negatives_5: 0.0000e+00\n",
      "Epoch 2/15\n",
      "68/68 [==============================] - ETA: 0s - loss: 0.6520 - acc: 0.6233 - true_positives_5: 871.0000 - true_negatives_5: 476.0000 - false_positives_5: 607.0000 - false_negatives_5: 207.0000\n",
      "Epoch 2: saving model to C:/Users/Shounen/Desktop/Ciclo XI/Tesis 2/GPUTesis/Archivos/Modelos\\clasificacion\\TesisDiego\\CLASE_TrainDS_0\\Model_clasificacion_clase_20220424_194306.hdf5\n",
      "68/68 [==============================] - 199s 3s/step - loss: 0.6520 - acc: 0.6233 - true_positives_5: 871.0000 - true_negatives_5: 476.0000 - false_positives_5: 607.0000 - false_negatives_5: 207.0000 - val_loss: 0.6403 - val_acc: 0.7779 - val_true_positives_5: 1078.0000 - val_true_negatives_5: 603.0000 - val_false_positives_5: 480.0000 - val_false_negatives_5: 0.0000e+00\n",
      "Epoch 3/15\n",
      "68/68 [==============================] - ETA: 0s - loss: 0.6247 - acc: 0.6789 - true_positives_5: 892.0000 - true_negatives_5: 575.0000 - false_positives_5: 508.0000 - false_negatives_5: 186.0000\n",
      "Epoch 3: saving model to C:/Users/Shounen/Desktop/Ciclo XI/Tesis 2/GPUTesis/Archivos/Modelos\\clasificacion\\TesisDiego\\CLASE_TrainDS_0\\Model_clasificacion_clase_20220424_194306.hdf5\n",
      "68/68 [==============================] - 207s 3s/step - loss: 0.6247 - acc: 0.6789 - true_positives_5: 892.0000 - true_negatives_5: 575.0000 - false_positives_5: 508.0000 - false_negatives_5: 186.0000 - val_loss: 0.6056 - val_acc: 0.6636 - val_true_positives_5: 1078.0000 - val_true_negatives_5: 356.0000 - val_false_positives_5: 727.0000 - val_false_negatives_5: 0.0000e+00\n",
      "Epoch 4/15\n",
      "68/68 [==============================] - ETA: 0s - loss: 0.5976 - acc: 0.7112 - true_positives_5: 1019.0000 - true_negatives_5: 518.0000 - false_positives_5: 565.0000 - false_negatives_5: 59.0000\n",
      "Epoch 4: saving model to C:/Users/Shounen/Desktop/Ciclo XI/Tesis 2/GPUTesis/Archivos/Modelos\\clasificacion\\TesisDiego\\CLASE_TrainDS_0\\Model_clasificacion_clase_20220424_194306.hdf5\n",
      "68/68 [==============================] - 201s 3s/step - loss: 0.5976 - acc: 0.7112 - true_positives_5: 1019.0000 - true_negatives_5: 518.0000 - false_positives_5: 565.0000 - false_negatives_5: 59.0000 - val_loss: 0.5830 - val_acc: 0.7779 - val_true_positives_5: 1078.0000 - val_true_negatives_5: 603.0000 - val_false_positives_5: 480.0000 - val_false_negatives_5: 0.0000e+00\n",
      "Epoch 5/15\n",
      "68/68 [==============================] - ETA: 0s - loss: 0.5654 - acc: 0.7677 - true_positives_5: 1078.0000 - true_negatives_5: 581.0000 - false_positives_5: 502.0000 - false_negatives_5: 0.0000e+00\n",
      "Epoch 5: saving model to C:/Users/Shounen/Desktop/Ciclo XI/Tesis 2/GPUTesis/Archivos/Modelos\\clasificacion\\TesisDiego\\CLASE_TrainDS_0\\Model_clasificacion_clase_20220424_194306.hdf5\n",
      "68/68 [==============================] - 205s 3s/step - loss: 0.5654 - acc: 0.7677 - true_positives_5: 1078.0000 - true_negatives_5: 581.0000 - false_positives_5: 502.0000 - false_negatives_5: 0.0000e+00 - val_loss: 0.5457 - val_acc: 0.7779 - val_true_positives_5: 1078.0000 - val_true_negatives_5: 603.0000 - val_false_positives_5: 480.0000 - val_false_negatives_5: 0.0000e+00\n",
      "Epoch 6/15\n",
      "68/68 [==============================] - ETA: 0s - loss: 0.5357 - acc: 0.7760 - true_positives_5: 1078.0000 - true_negatives_5: 599.0000 - false_positives_5: 484.0000 - false_negatives_5: 0.0000e+00\n",
      "Epoch 6: saving model to C:/Users/Shounen/Desktop/Ciclo XI/Tesis 2/GPUTesis/Archivos/Modelos\\clasificacion\\TesisDiego\\CLASE_TrainDS_0\\Model_clasificacion_clase_20220424_194306.hdf5\n",
      "68/68 [==============================] - 205s 3s/step - loss: 0.5357 - acc: 0.7760 - true_positives_5: 1078.0000 - true_negatives_5: 599.0000 - false_positives_5: 484.0000 - false_negatives_5: 0.0000e+00 - val_loss: 0.5220 - val_acc: 0.7779 - val_true_positives_5: 1078.0000 - val_true_negatives_5: 603.0000 - val_false_positives_5: 480.0000 - val_false_negatives_5: 0.0000e+00\n",
      "Epoch 7/15\n",
      "68/68 [==============================] - ETA: 0s - loss: 0.5071 - acc: 0.7779 - true_positives_5: 1078.0000 - true_negatives_5: 603.0000 - false_positives_5: 480.0000 - false_negatives_5: 0.0000e+00\n",
      "Epoch 7: saving model to C:/Users/Shounen/Desktop/Ciclo XI/Tesis 2/GPUTesis/Archivos/Modelos\\clasificacion\\TesisDiego\\CLASE_TrainDS_0\\Model_clasificacion_clase_20220424_194306.hdf5\n",
      "68/68 [==============================] - 202s 3s/step - loss: 0.5071 - acc: 0.7779 - true_positives_5: 1078.0000 - true_negatives_5: 603.0000 - false_positives_5: 480.0000 - false_negatives_5: 0.0000e+00 - val_loss: 0.4912 - val_acc: 0.7779 - val_true_positives_5: 1078.0000 - val_true_negatives_5: 603.0000 - val_false_positives_5: 480.0000 - val_false_negatives_5: 0.0000e+00\n",
      "Epoch 8/15\n",
      "68/68 [==============================] - ETA: 0s - loss: 0.4857 - acc: 0.7779 - true_positives_5: 1078.0000 - true_negatives_5: 603.0000 - false_positives_5: 480.0000 - false_negatives_5: 0.0000e+00\n",
      "Epoch 8: saving model to C:/Users/Shounen/Desktop/Ciclo XI/Tesis 2/GPUTesis/Archivos/Modelos\\clasificacion\\TesisDiego\\CLASE_TrainDS_0\\Model_clasificacion_clase_20220424_194306.hdf5\n",
      "68/68 [==============================] - 205s 3s/step - loss: 0.4857 - acc: 0.7779 - true_positives_5: 1078.0000 - true_negatives_5: 603.0000 - false_positives_5: 480.0000 - false_negatives_5: 0.0000e+00 - val_loss: 0.4740 - val_acc: 0.7779 - val_true_positives_5: 1078.0000 - val_true_negatives_5: 603.0000 - val_false_positives_5: 480.0000 - val_false_negatives_5: 0.0000e+00\n",
      "Epoch 9/15\n",
      "68/68 [==============================] - ETA: 0s - loss: 0.4689 - acc: 0.7779 - true_positives_5: 1078.0000 - true_negatives_5: 603.0000 - false_positives_5: 480.0000 - false_negatives_5: 0.0000e+00\n",
      "Epoch 9: saving model to C:/Users/Shounen/Desktop/Ciclo XI/Tesis 2/GPUTesis/Archivos/Modelos\\clasificacion\\TesisDiego\\CLASE_TrainDS_0\\Model_clasificacion_clase_20220424_194306.hdf5\n",
      "68/68 [==============================] - 204s 3s/step - loss: 0.4689 - acc: 0.7779 - true_positives_5: 1078.0000 - true_negatives_5: 603.0000 - false_positives_5: 480.0000 - false_negatives_5: 0.0000e+00 - val_loss: 0.4595 - val_acc: 0.7779 - val_true_positives_5: 1078.0000 - val_true_negatives_5: 603.0000 - val_false_positives_5: 480.0000 - val_false_negatives_5: 0.0000e+00\n",
      "\n"
     ]
    },
    {
     "data": {
      "text/html": [
       "Waiting for W&B process to finish... <strong style=\"color:green\">(success).</strong>"
      ],
      "text/plain": [
       "<IPython.core.display.HTML object>"
      ]
     },
     "metadata": {},
     "output_type": "display_data"
    },
    {
     "data": {
      "application/vnd.jupyter.widget-view+json": {
       "model_id": "",
       "version_major": 2,
       "version_minor": 0
      },
      "text/plain": [
       "VBox(children=(Label(value='0.003 MB of 0.003 MB uploaded (0.000 MB deduped)\\r'), FloatProgress(value=0.964681…"
      ]
     },
     "metadata": {},
     "output_type": "display_data"
    },
    {
     "data": {
      "text/html": [
       "<style>\n",
       "    table.wandb td:nth-child(1) { padding: 0 10px; text-align: right }\n",
       "    .wandb-row { display: flex; flex-direction: row; flex-wrap: wrap; width: 100% }\n",
       "    .wandb-col { display: flex; flex-direction: column; flex-basis: 100%; flex: 1; padding: 10px; }\n",
       "    </style>\n",
       "<div class=\"wandb-row\"><div class=\"wandb-col\"><h3>Run history:</h3><br/><table class=\"wandb\"><tr><td>acc</td><td>▁▃▅▆█████</td></tr><tr><td>loss</td><td>█▇▆▅▄▃▂▂▁</td></tr><tr><td>val_FN</td><td>▁▁▁▁▁▁▁▁▁</td></tr><tr><td>val_FP</td><td>█▁▇▁▁▁▁▁▁</td></tr><tr><td>val_TN</td><td>▁█▂██████</td></tr><tr><td>val_TP</td><td>▁▁▁▁▁▁▁▁▁</td></tr><tr><td>val_acc</td><td>▁█▂██████</td></tr><tr><td>val_loss</td><td>█▇▆▅▄▃▂▂▁</td></tr></table><br/></div><div class=\"wandb-col\"><h3>Run summary:</h3><br/><table class=\"wandb\"><tr><td>acc</td><td>0.77788</td></tr><tr><td>loss</td><td>0.46893</td></tr><tr><td>val_FN</td><td>0</td></tr><tr><td>val_FP</td><td>480</td></tr><tr><td>val_TN</td><td>603</td></tr><tr><td>val_TP</td><td>1078</td></tr><tr><td>val_acc</td><td>0.77788</td></tr><tr><td>val_loss</td><td>0.45947</td></tr></table><br/></div></div>"
      ],
      "text/plain": [
       "<IPython.core.display.HTML object>"
      ]
     },
     "metadata": {},
     "output_type": "display_data"
    },
    {
     "data": {
      "text/html": [
       "Synced <strong style=\"color:#cdcd00\">Ex_CLASE_TrainDS_0_(2-6-30)_20220424_194306</strong>: <a href=\"https://wandb.ai/tesis2/TesisDiego-%28clasificacion-clase-2%29/runs/2ia796pl\" target=\"_blank\">https://wandb.ai/tesis2/TesisDiego-%28clasificacion-clase-2%29/runs/2ia796pl</a><br/>Synced 6 W&B file(s), 9 media file(s), 3 artifact file(s) and 0 other file(s)"
      ],
      "text/plain": [
       "<IPython.core.display.HTML object>"
      ]
     },
     "metadata": {},
     "output_type": "display_data"
    },
    {
     "data": {
      "text/html": [
       "Find logs at: <code>.\\wandb\\run-20220424_194306-2ia796pl\\logs</code>"
      ],
      "text/plain": [
       "<IPython.core.display.HTML object>"
      ]
     },
     "metadata": {},
     "output_type": "display_data"
    },
    {
     "name": "stdout",
     "output_type": "stream",
     "text": [
      "--------------------------------------------------\n",
      "Inicio de la prueba N°: 3/6\n",
      "Dataset: C:/Users/Shounen/Desktop/Ciclo XI/Tesis 2/GPUTesis/Archivos/Dataset/SplittedV2/CLASE_TrainDS_0\n",
      "- Batch size:  32\n",
      "Creando modelo con input (30,30,3)) de tipo (clasificacion)\n",
      "Tamaño del dataset: Train 2161  - Val 541\n"
     ]
    },
    {
     "data": {
      "text/html": [
       "wandb version 0.12.15 is available!  To upgrade, please run:\n",
       " $ pip install wandb --upgrade"
      ],
      "text/plain": [
       "<IPython.core.display.HTML object>"
      ]
     },
     "metadata": {},
     "output_type": "display_data"
    },
    {
     "data": {
      "text/html": [
       "Tracking run with wandb version 0.12.11"
      ],
      "text/plain": [
       "<IPython.core.display.HTML object>"
      ]
     },
     "metadata": {},
     "output_type": "display_data"
    },
    {
     "data": {
      "text/html": [
       "Run data is saved locally in <code>C:\\Users\\Shounen\\Desktop\\Ciclo XI\\Tesis 2\\GPUTesis\\Codigo\\Entrenamiento\\Jupyter\\wandb\\run-20220424_201359-69owk92x</code>"
      ],
      "text/plain": [
       "<IPython.core.display.HTML object>"
      ]
     },
     "metadata": {},
     "output_type": "display_data"
    },
    {
     "data": {
      "text/html": [
       "Syncing run <strong><a href=\"https://wandb.ai/tesis2/TesisDiego-%28clasificacion-clase-2%29/runs/69owk92x\" target=\"_blank\">Ex_CLASE_TrainDS_0_(3-1-30)_20220424_201359</a></strong> to <a href=\"https://wandb.ai/tesis2/TesisDiego-%28clasificacion-clase-2%29\" target=\"_blank\">Weights & Biases</a> (<a href=\"https://wandb.me/run\" target=\"_blank\">docs</a>)<br/>"
      ],
      "text/plain": [
       "<IPython.core.display.HTML object>"
      ]
     },
     "metadata": {},
     "output_type": "display_data"
    },
    {
     "name": "stdout",
     "output_type": "stream",
     "text": [
      "Epoch 1/15\n",
      "68/68 [==============================] - ETA: 0s - loss: 0.6893 - acc: 0.5220 - true_positives_6: 608.0000 - true_negatives_6: 520.0000 - false_positives_6: 578.0000 - false_negatives_6: 455.0000\n",
      "Epoch 1: saving model to C:/Users/Shounen/Desktop/Ciclo XI/Tesis 2/GPUTesis/Archivos/Modelos\\clasificacion\\TesisDiego\\CLASE_TrainDS_0\\Model_clasificacion_clase_20220424_201359.hdf5\n",
      "68/68 [==============================] - 37s 533ms/step - loss: 0.6893 - acc: 0.5220 - true_positives_6: 608.0000 - true_negatives_6: 520.0000 - false_positives_6: 578.0000 - false_negatives_6: 455.0000 - val_loss: 0.6781 - val_acc: 0.5377 - val_true_positives_6: 65.0000 - val_true_negatives_6: 1097.0000 - val_false_positives_6: 1.0000 - val_false_negatives_6: 998.0000\n",
      "Epoch 2/15\n",
      "68/68 [==============================] - ETA: 0s - loss: 0.6770 - acc: 0.5456 - true_positives_6: 517.0000 - true_negatives_6: 662.0000 - false_positives_6: 436.0000 - false_negatives_6: 546.0000\n",
      "Epoch 2: saving model to C:/Users/Shounen/Desktop/Ciclo XI/Tesis 2/GPUTesis/Archivos/Modelos\\clasificacion\\TesisDiego\\CLASE_TrainDS_0\\Model_clasificacion_clase_20220424_201359.hdf5\n",
      "68/68 [==============================] - 36s 524ms/step - loss: 0.6770 - acc: 0.5456 - true_positives_6: 517.0000 - true_negatives_6: 662.0000 - false_positives_6: 436.0000 - false_negatives_6: 546.0000 - val_loss: 0.6741 - val_acc: 0.5081 - val_true_positives_6: 0.0000e+00 - val_true_negatives_6: 1098.0000 - val_false_positives_6: 0.0000e+00 - val_false_negatives_6: 1063.0000\n",
      "Epoch 3/15\n",
      "68/68 [==============================] - ETA: 0s - loss: 0.6706 - acc: 0.5646 - true_positives_6: 581.0000 - true_negatives_6: 639.0000 - false_positives_6: 459.0000 - false_negatives_6: 482.0000\n",
      "Epoch 3: saving model to C:/Users/Shounen/Desktop/Ciclo XI/Tesis 2/GPUTesis/Archivos/Modelos\\clasificacion\\TesisDiego\\CLASE_TrainDS_0\\Model_clasificacion_clase_20220424_201359.hdf5\n",
      "68/68 [==============================] - 34s 509ms/step - loss: 0.6706 - acc: 0.5646 - true_positives_6: 581.0000 - true_negatives_6: 639.0000 - false_positives_6: 459.0000 - false_negatives_6: 482.0000 - val_loss: 0.6672 - val_acc: 0.5081 - val_true_positives_6: 0.0000e+00 - val_true_negatives_6: 1098.0000 - val_false_positives_6: 0.0000e+00 - val_false_negatives_6: 1063.0000\n",
      "Epoch 4/15\n",
      "68/68 [==============================] - ETA: 0s - loss: 0.6629 - acc: 0.5812 - true_positives_6: 783.0000 - true_negatives_6: 473.0000 - false_positives_6: 625.0000 - false_negatives_6: 280.0000\n",
      "Epoch 4: saving model to C:/Users/Shounen/Desktop/Ciclo XI/Tesis 2/GPUTesis/Archivos/Modelos\\clasificacion\\TesisDiego\\CLASE_TrainDS_0\\Model_clasificacion_clase_20220424_201359.hdf5\n",
      "68/68 [==============================] - 35s 511ms/step - loss: 0.6629 - acc: 0.5812 - true_positives_6: 783.0000 - true_negatives_6: 473.0000 - false_positives_6: 625.0000 - false_negatives_6: 280.0000 - val_loss: 0.6561 - val_acc: 0.5081 - val_true_positives_6: 0.0000e+00 - val_true_negatives_6: 1098.0000 - val_false_positives_6: 0.0000e+00 - val_false_negatives_6: 1063.0000\n",
      "Epoch 5/15\n",
      "68/68 [==============================] - ETA: 0s - loss: 0.6535 - acc: 0.6099 - true_positives_6: 842.0000 - true_negatives_6: 476.0000 - false_positives_6: 622.0000 - false_negatives_6: 221.0000\n",
      "Epoch 5: saving model to C:/Users/Shounen/Desktop/Ciclo XI/Tesis 2/GPUTesis/Archivos/Modelos\\clasificacion\\TesisDiego\\CLASE_TrainDS_0\\Model_clasificacion_clase_20220424_201359.hdf5\n",
      "68/68 [==============================] - 35s 510ms/step - loss: 0.6535 - acc: 0.6099 - true_positives_6: 842.0000 - true_negatives_6: 476.0000 - false_positives_6: 622.0000 - false_negatives_6: 221.0000 - val_loss: 0.6483 - val_acc: 0.5081 - val_true_positives_6: 0.0000e+00 - val_true_negatives_6: 1098.0000 - val_false_positives_6: 0.0000e+00 - val_false_negatives_6: 1063.0000\n",
      "Epoch 6/15\n",
      "68/68 [==============================] - ETA: 0s - loss: 0.6434 - acc: 0.5937 - true_positives_6: 706.0000 - true_negatives_6: 577.0000 - false_positives_6: 521.0000 - false_negatives_6: 357.0000\n",
      "Epoch 6: saving model to C:/Users/Shounen/Desktop/Ciclo XI/Tesis 2/GPUTesis/Archivos/Modelos\\clasificacion\\TesisDiego\\CLASE_TrainDS_0\\Model_clasificacion_clase_20220424_201359.hdf5\n",
      "68/68 [==============================] - 37s 546ms/step - loss: 0.6434 - acc: 0.5937 - true_positives_6: 706.0000 - true_negatives_6: 577.0000 - false_positives_6: 521.0000 - false_negatives_6: 357.0000 - val_loss: 0.6461 - val_acc: 0.5081 - val_true_positives_6: 0.0000e+00 - val_true_negatives_6: 1098.0000 - val_false_positives_6: 0.0000e+00 - val_false_negatives_6: 1063.0000\n",
      "Epoch 7/15\n",
      "68/68 [==============================] - ETA: 0s - loss: 0.6324 - acc: 0.6150 - true_positives_6: 766.0000 - true_negatives_6: 563.0000 - false_positives_6: 535.0000 - false_negatives_6: 297.0000\n",
      "Epoch 7: saving model to C:/Users/Shounen/Desktop/Ciclo XI/Tesis 2/GPUTesis/Archivos/Modelos\\clasificacion\\TesisDiego\\CLASE_TrainDS_0\\Model_clasificacion_clase_20220424_201359.hdf5\n",
      "68/68 [==============================] - 37s 537ms/step - loss: 0.6324 - acc: 0.6150 - true_positives_6: 766.0000 - true_negatives_6: 563.0000 - false_positives_6: 535.0000 - false_negatives_6: 297.0000 - val_loss: 0.6305 - val_acc: 0.5081 - val_true_positives_6: 0.0000e+00 - val_true_negatives_6: 1098.0000 - val_false_positives_6: 0.0000e+00 - val_false_negatives_6: 1063.0000\n",
      "Epoch 8/15\n",
      "68/68 [==============================] - ETA: 0s - loss: 0.6188 - acc: 0.6478 - true_positives_6: 836.0000 - true_negatives_6: 564.0000 - false_positives_6: 534.0000 - false_negatives_6: 227.0000\n",
      "Epoch 8: saving model to C:/Users/Shounen/Desktop/Ciclo XI/Tesis 2/GPUTesis/Archivos/Modelos\\clasificacion\\TesisDiego\\CLASE_TrainDS_0\\Model_clasificacion_clase_20220424_201359.hdf5\n",
      "68/68 [==============================] - 34s 504ms/step - loss: 0.6188 - acc: 0.6478 - true_positives_6: 836.0000 - true_negatives_6: 564.0000 - false_positives_6: 534.0000 - false_negatives_6: 227.0000 - val_loss: 0.6158 - val_acc: 0.5530 - val_true_positives_6: 110.0000 - val_true_negatives_6: 1085.0000 - val_false_positives_6: 13.0000 - val_false_negatives_6: 953.0000\n",
      "Epoch 9/15\n",
      "68/68 [==============================] - ETA: 0s - loss: 0.6057 - acc: 0.6696 - true_positives_6: 865.0000 - true_negatives_6: 582.0000 - false_positives_6: 516.0000 - false_negatives_6: 198.0000\n",
      "Epoch 9: saving model to C:/Users/Shounen/Desktop/Ciclo XI/Tesis 2/GPUTesis/Archivos/Modelos\\clasificacion\\TesisDiego\\CLASE_TrainDS_0\\Model_clasificacion_clase_20220424_201359.hdf5\n",
      "68/68 [==============================] - 35s 524ms/step - loss: 0.6057 - acc: 0.6696 - true_positives_6: 865.0000 - true_negatives_6: 582.0000 - false_positives_6: 516.0000 - false_negatives_6: 198.0000 - val_loss: 0.6031 - val_acc: 0.5558 - val_true_positives_6: 124.0000 - val_true_negatives_6: 1077.0000 - val_false_positives_6: 21.0000 - val_false_negatives_6: 939.0000\n",
      "Epoch 10/15\n",
      "68/68 [==============================] - ETA: 0s - loss: 0.5884 - acc: 0.7048 - true_positives_6: 944.0000 - true_negatives_6: 579.0000 - false_positives_6: 519.0000 - false_negatives_6: 119.0000\n",
      "Epoch 10: saving model to C:/Users/Shounen/Desktop/Ciclo XI/Tesis 2/GPUTesis/Archivos/Modelos\\clasificacion\\TesisDiego\\CLASE_TrainDS_0\\Model_clasificacion_clase_20220424_201359.hdf5\n",
      "68/68 [==============================] - 35s 524ms/step - loss: 0.5884 - acc: 0.7048 - true_positives_6: 944.0000 - true_negatives_6: 579.0000 - false_positives_6: 519.0000 - false_negatives_6: 119.0000 - val_loss: 0.5799 - val_acc: 0.7834 - val_true_positives_6: 985.0000 - val_true_negatives_6: 708.0000 - val_false_positives_6: 390.0000 - val_false_negatives_6: 78.0000\n",
      "Epoch 11/15\n",
      "67/68 [============================>.] - ETA: 0s - loss: 0.5666 - acc: 0.7299 - true_positives_6: 956.0000 - true_negatives_6: 609.0000 - false_positives_6: 485.0000 - false_negatives_6: 94.0000\n",
      "Epoch 11: saving model to C:/Users/Shounen/Desktop/Ciclo XI/Tesis 2/GPUTesis/Archivos/Modelos\\clasificacion\\TesisDiego\\CLASE_TrainDS_0\\Model_clasificacion_clase_20220424_201359.hdf5\n",
      "68/68 [==============================] - 36s 528ms/step - loss: 0.5681 - acc: 0.7261 - true_positives_6: 956.0000 - true_negatives_6: 613.0000 - false_positives_6: 485.0000 - false_negatives_6: 107.0000 - val_loss: 0.5861 - val_acc: 0.5081 - val_true_positives_6: 0.0000e+00 - val_true_negatives_6: 1098.0000 - val_false_positives_6: 0.0000e+00 - val_false_negatives_6: 1063.0000\n"
     ]
    },
    {
     "name": "stdout",
     "output_type": "stream",
     "text": [
      "Epoch 12/15\n",
      "68/68 [==============================] - ETA: 0s - loss: 0.5549 - acc: 0.7302 - true_positives_6: 972.0000 - true_negatives_6: 606.0000 - false_positives_6: 492.0000 - false_negatives_6: 91.0000\n",
      "Epoch 12: saving model to C:/Users/Shounen/Desktop/Ciclo XI/Tesis 2/GPUTesis/Archivos/Modelos\\clasificacion\\TesisDiego\\CLASE_TrainDS_0\\Model_clasificacion_clase_20220424_201359.hdf5\n",
      "68/68 [==============================] - 34s 502ms/step - loss: 0.5549 - acc: 0.7302 - true_positives_6: 972.0000 - true_negatives_6: 606.0000 - false_positives_6: 492.0000 - false_negatives_6: 91.0000 - val_loss: 0.5508 - val_acc: 0.7696 - val_true_positives_6: 844.0000 - val_true_negatives_6: 819.0000 - val_false_positives_6: 279.0000 - val_false_negatives_6: 219.0000\n",
      "Epoch 13/15\n",
      "68/68 [==============================] - ETA: 0s - loss: 0.5348 - acc: 0.7478 - true_positives_6: 960.0000 - true_negatives_6: 656.0000 - false_positives_6: 442.0000 - false_negatives_6: 103.0000\n",
      "Epoch 13: saving model to C:/Users/Shounen/Desktop/Ciclo XI/Tesis 2/GPUTesis/Archivos/Modelos\\clasificacion\\TesisDiego\\CLASE_TrainDS_0\\Model_clasificacion_clase_20220424_201359.hdf5\n",
      "68/68 [==============================] - 30s 449ms/step - loss: 0.5348 - acc: 0.7478 - true_positives_6: 960.0000 - true_negatives_6: 656.0000 - false_positives_6: 442.0000 - false_negatives_6: 103.0000 - val_loss: 0.5482 - val_acc: 0.6367 - val_true_positives_6: 355.0000 - val_true_negatives_6: 1021.0000 - val_false_positives_6: 77.0000 - val_false_negatives_6: 708.0000\n",
      "Epoch 14/15\n",
      "68/68 [==============================] - ETA: 0s - loss: 0.5204 - acc: 0.7598 - true_positives_6: 978.0000 - true_negatives_6: 664.0000 - false_positives_6: 434.0000 - false_negatives_6: 85.0000\n",
      "Epoch 14: saving model to C:/Users/Shounen/Desktop/Ciclo XI/Tesis 2/GPUTesis/Archivos/Modelos\\clasificacion\\TesisDiego\\CLASE_TrainDS_0\\Model_clasificacion_clase_20220424_201359.hdf5\n",
      "68/68 [==============================] - 33s 484ms/step - loss: 0.5204 - acc: 0.7598 - true_positives_6: 978.0000 - true_negatives_6: 664.0000 - false_positives_6: 434.0000 - false_negatives_6: 85.0000 - val_loss: 0.5329 - val_acc: 0.7020 - val_true_positives_6: 533.0000 - val_true_negatives_6: 984.0000 - val_false_positives_6: 114.0000 - val_false_negatives_6: 530.0000\n",
      "Epoch 15/15\n",
      "68/68 [==============================] - ETA: 0s - loss: 0.5068 - acc: 0.7571 - true_positives_6: 956.0000 - true_negatives_6: 680.0000 - false_positives_6: 418.0000 - false_negatives_6: 107.0000\n",
      "Epoch 15: saving model to C:/Users/Shounen/Desktop/Ciclo XI/Tesis 2/GPUTesis/Archivos/Modelos\\clasificacion\\TesisDiego\\CLASE_TrainDS_0\\Model_clasificacion_clase_20220424_201359.hdf5\n",
      "68/68 [==============================] - 32s 468ms/step - loss: 0.5068 - acc: 0.7571 - true_positives_6: 956.0000 - true_negatives_6: 680.0000 - false_positives_6: 418.0000 - false_negatives_6: 107.0000 - val_loss: 0.5273 - val_acc: 0.6798 - val_true_positives_6: 471.0000 - val_true_negatives_6: 998.0000 - val_false_positives_6: 100.0000 - val_false_negatives_6: 592.0000\n",
      "\n"
     ]
    },
    {
     "data": {
      "text/html": [
       "Waiting for W&B process to finish... <strong style=\"color:green\">(success).</strong>"
      ],
      "text/plain": [
       "<IPython.core.display.HTML object>"
      ]
     },
     "metadata": {},
     "output_type": "display_data"
    },
    {
     "data": {
      "application/vnd.jupyter.widget-view+json": {
       "model_id": "",
       "version_major": 2,
       "version_minor": 0
      },
      "text/plain": [
       "VBox(children=(Label(value='0.007 MB of 0.007 MB uploaded (0.000 MB deduped)\\r'), FloatProgress(value=1.0, max…"
      ]
     },
     "metadata": {},
     "output_type": "display_data"
    },
    {
     "data": {
      "text/html": [
       "<style>\n",
       "    table.wandb td:nth-child(1) { padding: 0 10px; text-align: right }\n",
       "    .wandb-row { display: flex; flex-direction: row; flex-wrap: wrap; width: 100% }\n",
       "    .wandb-col { display: flex; flex-direction: column; flex-basis: 100%; flex: 1; padding: 10px; }\n",
       "    </style>\n",
       "<div class=\"wandb-row\"><div class=\"wandb-col\"><h3>Run history:</h3><br/><table class=\"wandb\"><tr><td>acc</td><td>▁▂▂▃▄▃▄▅▅▆▇▇███</td></tr><tr><td>loss</td><td>██▇▇▇▆▆▅▅▄▃▃▂▂▁</td></tr><tr><td>val_FN</td><td>███████▇▇▁█▂▅▄▅</td></tr><tr><td>val_FP</td><td>▁▁▁▁▁▁▁▁▁█▁▆▂▃▃</td></tr><tr><td>val_TN</td><td>█████████▁█▃▇▆▆</td></tr><tr><td>val_TP</td><td>▁▁▁▁▁▁▁▂▂█▁▇▄▅▄</td></tr><tr><td>val_acc</td><td>▂▁▁▁▁▁▁▂▂█▁█▄▆▅</td></tr><tr><td>val_loss</td><td>██▇▇▇▇▆▅▅▃▄▂▂▁▁</td></tr></table><br/></div><div class=\"wandb-col\"><h3>Run summary:</h3><br/><table class=\"wandb\"><tr><td>acc</td><td>0.75706</td></tr><tr><td>loss</td><td>0.50676</td></tr><tr><td>val_FN</td><td>592</td></tr><tr><td>val_FP</td><td>100</td></tr><tr><td>val_TN</td><td>998</td></tr><tr><td>val_TP</td><td>471</td></tr><tr><td>val_acc</td><td>0.67978</td></tr><tr><td>val_loss</td><td>0.52726</td></tr></table><br/></div></div>"
      ],
      "text/plain": [
       "<IPython.core.display.HTML object>"
      ]
     },
     "metadata": {},
     "output_type": "display_data"
    },
    {
     "data": {
      "text/html": [
       "Synced <strong style=\"color:#cdcd00\">Ex_CLASE_TrainDS_0_(3-1-30)_20220424_201359</strong>: <a href=\"https://wandb.ai/tesis2/TesisDiego-%28clasificacion-clase-2%29/runs/69owk92x\" target=\"_blank\">https://wandb.ai/tesis2/TesisDiego-%28clasificacion-clase-2%29/runs/69owk92x</a><br/>Synced 6 W&B file(s), 15 media file(s), 9 artifact file(s) and 0 other file(s)"
      ],
      "text/plain": [
       "<IPython.core.display.HTML object>"
      ]
     },
     "metadata": {},
     "output_type": "display_data"
    },
    {
     "data": {
      "text/html": [
       "Find logs at: <code>.\\wandb\\run-20220424_201359-69owk92x\\logs</code>"
      ],
      "text/plain": [
       "<IPython.core.display.HTML object>"
      ]
     },
     "metadata": {},
     "output_type": "display_data"
    },
    {
     "name": "stdout",
     "output_type": "stream",
     "text": [
      "--------------------------------------------------\n",
      "Inicio de la prueba N°: 4/6\n",
      "Dataset: C:/Users/Shounen/Desktop/Ciclo XI/Tesis 2/GPUTesis/Archivos/Dataset/SplittedV2/CLASE_TrainDS_0\n",
      "- Batch size:  32\n",
      "Creando modelo con input (20,20,2)) de tipo (clasificacion)\n",
      "Tamaño del dataset: Train 2161  - Val 541\n"
     ]
    },
    {
     "data": {
      "text/html": [
       "wandb version 0.12.15 is available!  To upgrade, please run:\n",
       " $ pip install wandb --upgrade"
      ],
      "text/plain": [
       "<IPython.core.display.HTML object>"
      ]
     },
     "metadata": {},
     "output_type": "display_data"
    },
    {
     "data": {
      "text/html": [
       "Tracking run with wandb version 0.12.11"
      ],
      "text/plain": [
       "<IPython.core.display.HTML object>"
      ]
     },
     "metadata": {},
     "output_type": "display_data"
    },
    {
     "data": {
      "text/html": [
       "Run data is saved locally in <code>C:\\Users\\Shounen\\Desktop\\Ciclo XI\\Tesis 2\\GPUTesis\\Codigo\\Entrenamiento\\Jupyter\\wandb\\run-20220424_202257-2flmdqvk</code>"
      ],
      "text/plain": [
       "<IPython.core.display.HTML object>"
      ]
     },
     "metadata": {},
     "output_type": "display_data"
    },
    {
     "data": {
      "text/html": [
       "Syncing run <strong><a href=\"https://wandb.ai/tesis2/TesisDiego-%28clasificacion-clase-2%29/runs/2flmdqvk\" target=\"_blank\">Ex_CLASE_TrainDS_0_(2-1-20)_20220424_202257</a></strong> to <a href=\"https://wandb.ai/tesis2/TesisDiego-%28clasificacion-clase-2%29\" target=\"_blank\">Weights & Biases</a> (<a href=\"https://wandb.me/run\" target=\"_blank\">docs</a>)<br/>"
      ],
      "text/plain": [
       "<IPython.core.display.HTML object>"
      ]
     },
     "metadata": {},
     "output_type": "display_data"
    },
    {
     "name": "stdout",
     "output_type": "stream",
     "text": [
      "Epoch 1/15\n",
      "68/68 [==============================] - ETA: 0s - loss: 0.7083 - acc: 0.5197 - true_positives_7: 704.0000 - true_negatives_7: 419.0000 - false_positives_7: 667.0000 - false_negatives_7: 371.0000\n",
      "Epoch 1: saving model to C:/Users/Shounen/Desktop/Ciclo XI/Tesis 2/GPUTesis/Archivos/Modelos\\clasificacion\\TesisDiego\\CLASE_TrainDS_0\\Model_clasificacion_clase_20220424_202257.hdf5\n",
      "68/68 [==============================] - 33s 475ms/step - loss: 0.7083 - acc: 0.5197 - true_positives_7: 704.0000 - true_negatives_7: 419.0000 - false_positives_7: 667.0000 - false_negatives_7: 371.0000 - val_loss: 0.6811 - val_acc: 0.5368 - val_true_positives_7: 1075.0000 - val_true_negatives_7: 85.0000 - val_false_positives_7: 1001.0000 - val_false_negatives_7: 0.0000e+00\n",
      "Epoch 2/15\n",
      "68/68 [==============================] - ETA: 0s - loss: 0.6797 - acc: 0.5359 - true_positives_7: 682.0000 - true_negatives_7: 476.0000 - false_positives_7: 610.0000 - false_negatives_7: 393.0000\n",
      "Epoch 2: saving model to C:/Users/Shounen/Desktop/Ciclo XI/Tesis 2/GPUTesis/Archivos/Modelos\\clasificacion\\TesisDiego\\CLASE_TrainDS_0\\Model_clasificacion_clase_20220424_202257.hdf5\n",
      "68/68 [==============================] - 32s 468ms/step - loss: 0.6797 - acc: 0.5359 - true_positives_7: 682.0000 - true_negatives_7: 476.0000 - false_positives_7: 610.0000 - false_negatives_7: 393.0000 - val_loss: 0.6785 - val_acc: 0.5359 - val_true_positives_7: 1075.0000 - val_true_negatives_7: 83.0000 - val_false_positives_7: 1003.0000 - val_false_negatives_7: 0.0000e+00\n",
      "Epoch 3/15\n",
      "68/68 [==============================] - ETA: 0s - loss: 0.6781 - acc: 0.5382 - true_positives_7: 547.0000 - true_negatives_7: 616.0000 - false_positives_7: 470.0000 - false_negatives_7: 528.0000\n",
      "Epoch 3: saving model to C:/Users/Shounen/Desktop/Ciclo XI/Tesis 2/GPUTesis/Archivos/Modelos\\clasificacion\\TesisDiego\\CLASE_TrainDS_0\\Model_clasificacion_clase_20220424_202257.hdf5\n",
      "68/68 [==============================] - 34s 496ms/step - loss: 0.6781 - acc: 0.5382 - true_positives_7: 547.0000 - true_negatives_7: 616.0000 - false_positives_7: 470.0000 - false_negatives_7: 528.0000 - val_loss: 0.6752 - val_acc: 0.5396 - val_true_positives_7: 1075.0000 - val_true_negatives_7: 91.0000 - val_false_positives_7: 995.0000 - val_false_negatives_7: 0.0000e+00\n",
      "Epoch 4/15\n",
      "68/68 [==============================] - ETA: 0s - loss: 0.6719 - acc: 0.5909 - true_positives_7: 747.0000 - true_negatives_7: 530.0000 - false_positives_7: 556.0000 - false_negatives_7: 328.0000\n",
      "Epoch 4: saving model to C:/Users/Shounen/Desktop/Ciclo XI/Tesis 2/GPUTesis/Archivos/Modelos\\clasificacion\\TesisDiego\\CLASE_TrainDS_0\\Model_clasificacion_clase_20220424_202257.hdf5\n",
      "68/68 [==============================] - 33s 487ms/step - loss: 0.6719 - acc: 0.5909 - true_positives_7: 747.0000 - true_negatives_7: 530.0000 - false_positives_7: 556.0000 - false_negatives_7: 328.0000 - val_loss: 0.6692 - val_acc: 0.5511 - val_true_positives_7: 1075.0000 - val_true_negatives_7: 116.0000 - val_false_positives_7: 970.0000 - val_false_negatives_7: 0.0000e+00\n",
      "Epoch 5/15\n",
      "68/68 [==============================] - ETA: 0s - loss: 0.6603 - acc: 0.6062 - true_positives_7: 861.0000 - true_negatives_7: 449.0000 - false_positives_7: 637.0000 - false_negatives_7: 214.0000\n",
      "Epoch 5: saving model to C:/Users/Shounen/Desktop/Ciclo XI/Tesis 2/GPUTesis/Archivos/Modelos\\clasificacion\\TesisDiego\\CLASE_TrainDS_0\\Model_clasificacion_clase_20220424_202257.hdf5\n",
      "68/68 [==============================] - 33s 488ms/step - loss: 0.6603 - acc: 0.6062 - true_positives_7: 861.0000 - true_negatives_7: 449.0000 - false_positives_7: 637.0000 - false_negatives_7: 214.0000 - val_loss: 0.6525 - val_acc: 0.5798 - val_true_positives_7: 1075.0000 - val_true_negatives_7: 178.0000 - val_false_positives_7: 908.0000 - val_false_negatives_7: 0.0000e+00\n",
      "Epoch 6/15\n",
      "68/68 [==============================] - ETA: 0s - loss: 0.6455 - acc: 0.6317 - true_positives_7: 923.0000 - true_negatives_7: 442.0000 - false_positives_7: 644.0000 - false_negatives_7: 152.0000\n",
      "Epoch 6: saving model to C:/Users/Shounen/Desktop/Ciclo XI/Tesis 2/GPUTesis/Archivos/Modelos\\clasificacion\\TesisDiego\\CLASE_TrainDS_0\\Model_clasificacion_clase_20220424_202257.hdf5\n",
      "68/68 [==============================] - 34s 510ms/step - loss: 0.6455 - acc: 0.6317 - true_positives_7: 923.0000 - true_negatives_7: 442.0000 - false_positives_7: 644.0000 - false_negatives_7: 152.0000 - val_loss: 0.6390 - val_acc: 0.5914 - val_true_positives_7: 1075.0000 - val_true_negatives_7: 203.0000 - val_false_positives_7: 883.0000 - val_false_negatives_7: 0.0000e+00\n",
      "Epoch 7/15\n",
      "68/68 [==============================] - ETA: 0s - loss: 0.6307 - acc: 0.6483 - true_positives_7: 897.0000 - true_negatives_7: 504.0000 - false_positives_7: 582.0000 - false_negatives_7: 178.0000\n",
      "Epoch 7: saving model to C:/Users/Shounen/Desktop/Ciclo XI/Tesis 2/GPUTesis/Archivos/Modelos\\clasificacion\\TesisDiego\\CLASE_TrainDS_0\\Model_clasificacion_clase_20220424_202257.hdf5\n",
      "68/68 [==============================] - 34s 505ms/step - loss: 0.6307 - acc: 0.6483 - true_positives_7: 897.0000 - true_negatives_7: 504.0000 - false_positives_7: 582.0000 - false_negatives_7: 178.0000 - val_loss: 0.6234 - val_acc: 0.6043 - val_true_positives_7: 1075.0000 - val_true_negatives_7: 231.0000 - val_false_positives_7: 855.0000 - val_false_negatives_7: 0.0000e+00\n",
      "Epoch 8/15\n",
      "68/68 [==============================] - ETA: 0s - loss: 0.6143 - acc: 0.6839 - true_positives_7: 928.0000 - true_negatives_7: 550.0000 - false_positives_7: 536.0000 - false_negatives_7: 147.0000\n",
      "Epoch 8: saving model to C:/Users/Shounen/Desktop/Ciclo XI/Tesis 2/GPUTesis/Archivos/Modelos\\clasificacion\\TesisDiego\\CLASE_TrainDS_0\\Model_clasificacion_clase_20220424_202257.hdf5\n",
      "68/68 [==============================] - 35s 510ms/step - loss: 0.6143 - acc: 0.6839 - true_positives_7: 928.0000 - true_negatives_7: 550.0000 - false_positives_7: 536.0000 - false_negatives_7: 147.0000 - val_loss: 0.6053 - val_acc: 0.6502 - val_true_positives_7: 1075.0000 - val_true_negatives_7: 330.0000 - val_false_positives_7: 756.0000 - val_false_negatives_7: 0.0000e+00\n",
      "Epoch 9/15\n",
      "67/68 [============================>.] - ETA: 0s - loss: 0.5972 - acc: 0.6922 - true_positives_7: 923.0000 - true_negatives_7: 561.0000 - false_positives_7: 518.0000 - false_negatives_7: 142.0000\n",
      "Epoch 9: saving model to C:/Users/Shounen/Desktop/Ciclo XI/Tesis 2/GPUTesis/Archivos/Modelos\\clasificacion\\TesisDiego\\CLASE_TrainDS_0\\Model_clasificacion_clase_20220424_202257.hdf5\n",
      "68/68 [==============================] - 35s 515ms/step - loss: 0.5966 - acc: 0.6932 - true_positives_7: 933.0000 - true_negatives_7: 565.0000 - false_positives_7: 521.0000 - false_negatives_7: 142.0000 - val_loss: 0.5870 - val_acc: 0.6553 - val_true_positives_7: 1075.0000 - val_true_negatives_7: 341.0000 - val_false_positives_7: 745.0000 - val_false_negatives_7: 0.0000e+00\n",
      "Epoch 10/15\n",
      "68/68 [==============================] - ETA: 0s - loss: 0.5789 - acc: 0.7205 - true_positives_7: 960.0000 - true_negatives_7: 597.0000 - false_positives_7: 489.0000 - false_negatives_7: 115.0000\n",
      "Epoch 10: saving model to C:/Users/Shounen/Desktop/Ciclo XI/Tesis 2/GPUTesis/Archivos/Modelos\\clasificacion\\TesisDiego\\CLASE_TrainDS_0\\Model_clasificacion_clase_20220424_202257.hdf5\n",
      "68/68 [==============================] - 36s 527ms/step - loss: 0.5789 - acc: 0.7205 - true_positives_7: 960.0000 - true_negatives_7: 597.0000 - false_positives_7: 489.0000 - false_negatives_7: 115.0000 - val_loss: 0.5659 - val_acc: 0.6830 - val_true_positives_7: 1075.0000 - val_true_negatives_7: 401.0000 - val_false_positives_7: 685.0000 - val_false_negatives_7: 0.0000e+00\n",
      "Epoch 11/15\n",
      "68/68 [==============================] - ETA: 0s - loss: 0.5604 - acc: 0.7358 - true_positives_7: 980.0000 - true_negatives_7: 610.0000 - false_positives_7: 476.0000 - false_negatives_7: 95.0000\n",
      "Epoch 11: saving model to C:/Users/Shounen/Desktop/Ciclo XI/Tesis 2/GPUTesis/Archivos/Modelos\\clasificacion\\TesisDiego\\CLASE_TrainDS_0\\Model_clasificacion_clase_20220424_202257.hdf5\n",
      "68/68 [==============================] - 34s 504ms/step - loss: 0.5604 - acc: 0.7358 - true_positives_7: 980.0000 - true_negatives_7: 610.0000 - false_positives_7: 476.0000 - false_negatives_7: 95.0000 - val_loss: 0.5455 - val_acc: 0.7723 - val_true_positives_7: 1075.0000 - val_true_negatives_7: 594.0000 - val_false_positives_7: 492.0000 - val_false_negatives_7: 0.0000e+00\n"
     ]
    },
    {
     "name": "stdout",
     "output_type": "stream",
     "text": [
      "Epoch 12/15\n",
      "68/68 [==============================] - ETA: 0s - loss: 0.5394 - acc: 0.7617 - true_positives_7: 1031.0000 - true_negatives_7: 615.0000 - false_positives_7: 471.0000 - false_negatives_7: 44.0000\n",
      "Epoch 12: saving model to C:/Users/Shounen/Desktop/Ciclo XI/Tesis 2/GPUTesis/Archivos/Modelos\\clasificacion\\TesisDiego\\CLASE_TrainDS_0\\Model_clasificacion_clase_20220424_202257.hdf5\n",
      "68/68 [==============================] - 41s 600ms/step - loss: 0.5394 - acc: 0.7617 - true_positives_7: 1031.0000 - true_negatives_7: 615.0000 - false_positives_7: 471.0000 - false_negatives_7: 44.0000 - val_loss: 0.5292 - val_acc: 0.7723 - val_true_positives_7: 1075.0000 - val_true_negatives_7: 594.0000 - val_false_positives_7: 492.0000 - val_false_negatives_7: 0.0000e+00\n",
      "Epoch 13/15\n",
      "68/68 [==============================] - ETA: 0s - loss: 0.5214 - acc: 0.7709 - true_positives_7: 1051.0000 - true_negatives_7: 615.0000 - false_positives_7: 471.0000 - false_negatives_7: 24.0000\n",
      "Epoch 13: saving model to C:/Users/Shounen/Desktop/Ciclo XI/Tesis 2/GPUTesis/Archivos/Modelos\\clasificacion\\TesisDiego\\CLASE_TrainDS_0\\Model_clasificacion_clase_20220424_202257.hdf5\n",
      "68/68 [==============================] - 35s 515ms/step - loss: 0.5214 - acc: 0.7709 - true_positives_7: 1051.0000 - true_negatives_7: 615.0000 - false_positives_7: 471.0000 - false_negatives_7: 24.0000 - val_loss: 0.5119 - val_acc: 0.7723 - val_true_positives_7: 1075.0000 - val_true_negatives_7: 594.0000 - val_false_positives_7: 492.0000 - val_false_negatives_7: 0.0000e+00\n",
      "Epoch 14/15\n",
      "68/68 [==============================] - ETA: 0s - loss: 0.5045 - acc: 0.7709 - true_positives_7: 1054.0000 - true_negatives_7: 612.0000 - false_positives_7: 474.0000 - false_negatives_7: 21.0000\n",
      "Epoch 14: saving model to C:/Users/Shounen/Desktop/Ciclo XI/Tesis 2/GPUTesis/Archivos/Modelos\\clasificacion\\TesisDiego\\CLASE_TrainDS_0\\Model_clasificacion_clase_20220424_202257.hdf5\n",
      "68/68 [==============================] - 35s 511ms/step - loss: 0.5045 - acc: 0.7709 - true_positives_7: 1054.0000 - true_negatives_7: 612.0000 - false_positives_7: 474.0000 - false_negatives_7: 21.0000 - val_loss: 0.4970 - val_acc: 0.7723 - val_true_positives_7: 1075.0000 - val_true_negatives_7: 594.0000 - val_false_positives_7: 492.0000 - val_false_negatives_7: 0.0000e+00\n",
      "Epoch 15/15\n",
      "67/68 [============================>.] - ETA: 0s - loss: 0.4927 - acc: 0.7663 - true_positives_7: 1028.0000 - true_negatives_7: 615.0000 - false_positives_7: 464.0000 - false_negatives_7: 37.0000\n",
      "Epoch 15: saving model to C:/Users/Shounen/Desktop/Ciclo XI/Tesis 2/GPUTesis/Archivos/Modelos\\clasificacion\\TesisDiego\\CLASE_TrainDS_0\\Model_clasificacion_clase_20220424_202257.hdf5\n",
      "68/68 [==============================] - 35s 517ms/step - loss: 0.4917 - acc: 0.7672 - true_positives_7: 1038.0000 - true_negatives_7: 620.0000 - false_positives_7: 466.0000 - false_negatives_7: 37.0000 - val_loss: 0.4777 - val_acc: 0.7723 - val_true_positives_7: 1075.0000 - val_true_negatives_7: 594.0000 - val_false_positives_7: 492.0000 - val_false_negatives_7: 0.0000e+00\n",
      "\n"
     ]
    },
    {
     "data": {
      "text/html": [
       "Waiting for W&B process to finish... <strong style=\"color:green\">(success).</strong>"
      ],
      "text/plain": [
       "<IPython.core.display.HTML object>"
      ]
     },
     "metadata": {},
     "output_type": "display_data"
    },
    {
     "data": {
      "application/vnd.jupyter.widget-view+json": {
       "model_id": "",
       "version_major": 2,
       "version_minor": 0
      },
      "text/plain": [
       "VBox(children=(Label(value='0.008 MB of 0.008 MB uploaded (0.000 MB deduped)\\r'), FloatProgress(value=1.0, max…"
      ]
     },
     "metadata": {},
     "output_type": "display_data"
    },
    {
     "data": {
      "text/html": [
       "<style>\n",
       "    table.wandb td:nth-child(1) { padding: 0 10px; text-align: right }\n",
       "    .wandb-row { display: flex; flex-direction: row; flex-wrap: wrap; width: 100% }\n",
       "    .wandb-col { display: flex; flex-direction: column; flex-basis: 100%; flex: 1; padding: 10px; }\n",
       "    </style>\n",
       "<div class=\"wandb-row\"><div class=\"wandb-col\"><h3>Run history:</h3><br/><table class=\"wandb\"><tr><td>acc</td><td>▁▁▂▃▃▄▅▆▆▇▇████</td></tr><tr><td>loss</td><td>█▇▇▇▆▆▅▅▄▄▃▃▂▁▁</td></tr><tr><td>val_FN</td><td>▁▁▁▁▁▁▁▁▁▁▁▁▁▁▁</td></tr><tr><td>val_FP</td><td>████▇▆▆▅▄▄▁▁▁▁▁</td></tr><tr><td>val_TN</td><td>▁▁▁▁▂▃▃▄▅▅█████</td></tr><tr><td>val_TP</td><td>▁▁▁▁▁▁▁▁▁▁▁▁▁▁▁</td></tr><tr><td>val_acc</td><td>▁▁▁▁▂▃▃▄▅▅█████</td></tr><tr><td>val_loss</td><td>████▇▇▆▅▅▄▃▃▂▂▁</td></tr></table><br/></div><div class=\"wandb-col\"><h3>Run summary:</h3><br/><table class=\"wandb\"><tr><td>acc</td><td>0.76724</td></tr><tr><td>loss</td><td>0.49174</td></tr><tr><td>val_FN</td><td>0</td></tr><tr><td>val_FP</td><td>492</td></tr><tr><td>val_TN</td><td>594</td></tr><tr><td>val_TP</td><td>1075</td></tr><tr><td>val_acc</td><td>0.77233</td></tr><tr><td>val_loss</td><td>0.47767</td></tr></table><br/></div></div>"
      ],
      "text/plain": [
       "<IPython.core.display.HTML object>"
      ]
     },
     "metadata": {},
     "output_type": "display_data"
    },
    {
     "data": {
      "text/html": [
       "Synced <strong style=\"color:#cdcd00\">Ex_CLASE_TrainDS_0_(2-1-20)_20220424_202257</strong>: <a href=\"https://wandb.ai/tesis2/TesisDiego-%28clasificacion-clase-2%29/runs/2flmdqvk\" target=\"_blank\">https://wandb.ai/tesis2/TesisDiego-%28clasificacion-clase-2%29/runs/2flmdqvk</a><br/>Synced 6 W&B file(s), 15 media file(s), 11 artifact file(s) and 0 other file(s)"
      ],
      "text/plain": [
       "<IPython.core.display.HTML object>"
      ]
     },
     "metadata": {},
     "output_type": "display_data"
    },
    {
     "data": {
      "text/html": [
       "Find logs at: <code>.\\wandb\\run-20220424_202257-2flmdqvk\\logs</code>"
      ],
      "text/plain": [
       "<IPython.core.display.HTML object>"
      ]
     },
     "metadata": {},
     "output_type": "display_data"
    },
    {
     "name": "stdout",
     "output_type": "stream",
     "text": [
      "--------------------------------------------------\n",
      "Inicio de la prueba N°: 5/6\n",
      "Dataset: C:/Users/Shounen/Desktop/Ciclo XI/Tesis 2/GPUTesis/Archivos/Dataset/SplittedV2/CLASE_TrainDS_0\n",
      "- Batch size:  32\n",
      "Creando modelo con input (20,20,3)) de tipo (clasificacion)\n",
      "Tamaño del dataset: Train 2161  - Val 541\n"
     ]
    },
    {
     "data": {
      "text/html": [
       "wandb version 0.12.15 is available!  To upgrade, please run:\n",
       " $ pip install wandb --upgrade"
      ],
      "text/plain": [
       "<IPython.core.display.HTML object>"
      ]
     },
     "metadata": {},
     "output_type": "display_data"
    },
    {
     "data": {
      "text/html": [
       "Tracking run with wandb version 0.12.11"
      ],
      "text/plain": [
       "<IPython.core.display.HTML object>"
      ]
     },
     "metadata": {},
     "output_type": "display_data"
    },
    {
     "data": {
      "text/html": [
       "Run data is saved locally in <code>C:\\Users\\Shounen\\Desktop\\Ciclo XI\\Tesis 2\\GPUTesis\\Codigo\\Entrenamiento\\Jupyter\\wandb\\run-20220424_203151-27abb777</code>"
      ],
      "text/plain": [
       "<IPython.core.display.HTML object>"
      ]
     },
     "metadata": {},
     "output_type": "display_data"
    },
    {
     "data": {
      "text/html": [
       "Syncing run <strong><a href=\"https://wandb.ai/tesis2/TesisDiego-%28clasificacion-clase-2%29/runs/27abb777\" target=\"_blank\">Ex_CLASE_TrainDS_0_(3-6-20)_20220424_203151</a></strong> to <a href=\"https://wandb.ai/tesis2/TesisDiego-%28clasificacion-clase-2%29\" target=\"_blank\">Weights & Biases</a> (<a href=\"https://wandb.me/run\" target=\"_blank\">docs</a>)<br/>"
      ],
      "text/plain": [
       "<IPython.core.display.HTML object>"
      ]
     },
     "metadata": {},
     "output_type": "display_data"
    },
    {
     "name": "stdout",
     "output_type": "stream",
     "text": [
      "Epoch 1/15\n",
      "68/68 [==============================] - ETA: 0s - loss: 0.6701 - acc: 0.5821 - true_positives_8: 929.0000 - true_negatives_8: 329.0000 - false_positives_8: 745.0000 - false_negatives_8: 158.0000\n",
      "Epoch 1: saving model to C:/Users/Shounen/Desktop/Ciclo XI/Tesis 2/GPUTesis/Archivos/Modelos\\clasificacion\\TesisDiego\\CLASE_TrainDS_0\\Model_clasificacion_clase_20220424_203151.hdf5\n",
      "68/68 [==============================] - 206s 3s/step - loss: 0.6701 - acc: 0.5821 - true_positives_8: 929.0000 - true_negatives_8: 329.0000 - false_positives_8: 745.0000 - false_negatives_8: 158.0000 - val_loss: 0.6580 - val_acc: 0.4970 - val_true_positives_8: 0.0000e+00 - val_true_negatives_8: 1074.0000 - val_false_positives_8: 0.0000e+00 - val_false_negatives_8: 1087.0000\n",
      "Epoch 2/15\n",
      "68/68 [==============================] - ETA: 0s - loss: 0.6468 - acc: 0.6057 - true_positives_8: 832.0000 - true_negatives_8: 477.0000 - false_positives_8: 597.0000 - false_negatives_8: 255.0000\n",
      "Epoch 2: saving model to C:/Users/Shounen/Desktop/Ciclo XI/Tesis 2/GPUTesis/Archivos/Modelos\\clasificacion\\TesisDiego\\CLASE_TrainDS_0\\Model_clasificacion_clase_20220424_203151.hdf5\n",
      "68/68 [==============================] - 202s 3s/step - loss: 0.6468 - acc: 0.6057 - true_positives_8: 832.0000 - true_negatives_8: 477.0000 - false_positives_8: 597.0000 - false_negatives_8: 255.0000 - val_loss: 0.6297 - val_acc: 0.7746 - val_true_positives_8: 1087.0000 - val_true_negatives_8: 587.0000 - val_false_positives_8: 487.0000 - val_false_negatives_8: 0.0000e+00\n",
      "Epoch 3/15\n",
      "68/68 [==============================] - ETA: 0s - loss: 0.6191 - acc: 0.6691 - true_positives_8: 946.0000 - true_negatives_8: 500.0000 - false_positives_8: 574.0000 - false_negatives_8: 141.0000\n",
      "Epoch 3: saving model to C:/Users/Shounen/Desktop/Ciclo XI/Tesis 2/GPUTesis/Archivos/Modelos\\clasificacion\\TesisDiego\\CLASE_TrainDS_0\\Model_clasificacion_clase_20220424_203151.hdf5\n",
      "68/68 [==============================] - 207s 3s/step - loss: 0.6191 - acc: 0.6691 - true_positives_8: 946.0000 - true_negatives_8: 500.0000 - false_positives_8: 574.0000 - false_negatives_8: 141.0000 - val_loss: 0.6002 - val_acc: 0.7746 - val_true_positives_8: 1087.0000 - val_true_negatives_8: 587.0000 - val_false_positives_8: 487.0000 - val_false_negatives_8: 0.0000e+00\n",
      "Epoch 4/15\n",
      "68/68 [==============================] - ETA: 0s - loss: 0.5898 - acc: 0.7497 - true_positives_8: 1087.0000 - true_negatives_8: 533.0000 - false_positives_8: 541.0000 - false_negatives_8: 0.0000e+00\n",
      "Epoch 4: saving model to C:/Users/Shounen/Desktop/Ciclo XI/Tesis 2/GPUTesis/Archivos/Modelos\\clasificacion\\TesisDiego\\CLASE_TrainDS_0\\Model_clasificacion_clase_20220424_203151.hdf5\n",
      "68/68 [==============================] - 202s 3s/step - loss: 0.5898 - acc: 0.7497 - true_positives_8: 1087.0000 - true_negatives_8: 533.0000 - false_positives_8: 541.0000 - false_negatives_8: 0.0000e+00 - val_loss: 0.5701 - val_acc: 0.7746 - val_true_positives_8: 1087.0000 - val_true_negatives_8: 587.0000 - val_false_positives_8: 487.0000 - val_false_negatives_8: 0.0000e+00\n",
      "Epoch 5/15\n",
      "68/68 [==============================] - ETA: 0s - loss: 0.5586 - acc: 0.7640 - true_positives_8: 1087.0000 - true_negatives_8: 564.0000 - false_positives_8: 510.0000 - false_negatives_8: 0.0000e+00\n",
      "Epoch 5: saving model to C:/Users/Shounen/Desktop/Ciclo XI/Tesis 2/GPUTesis/Archivos/Modelos\\clasificacion\\TesisDiego\\CLASE_TrainDS_0\\Model_clasificacion_clase_20220424_203151.hdf5\n",
      "68/68 [==============================] - 209s 3s/step - loss: 0.5586 - acc: 0.7640 - true_positives_8: 1087.0000 - true_negatives_8: 564.0000 - false_positives_8: 510.0000 - false_negatives_8: 0.0000e+00 - val_loss: 0.5387 - val_acc: 0.7746 - val_true_positives_8: 1087.0000 - val_true_negatives_8: 587.0000 - val_false_positives_8: 487.0000 - val_false_negatives_8: 0.0000e+00\n",
      "Epoch 6/15\n",
      "68/68 [==============================] - ETA: 0s - loss: 0.5312 - acc: 0.7746 - true_positives_8: 1087.0000 - true_negatives_8: 587.0000 - false_positives_8: 487.0000 - false_negatives_8: 0.0000e+00\n",
      "Epoch 6: saving model to C:/Users/Shounen/Desktop/Ciclo XI/Tesis 2/GPUTesis/Archivos/Modelos\\clasificacion\\TesisDiego\\CLASE_TrainDS_0\\Model_clasificacion_clase_20220424_203151.hdf5\n",
      "68/68 [==============================] - 206s 3s/step - loss: 0.5312 - acc: 0.7746 - true_positives_8: 1087.0000 - true_negatives_8: 587.0000 - false_positives_8: 487.0000 - false_negatives_8: 0.0000e+00 - val_loss: 0.5140 - val_acc: 0.7746 - val_true_positives_8: 1087.0000 - val_true_negatives_8: 587.0000 - val_false_positives_8: 487.0000 - val_false_negatives_8: 0.0000e+00\n",
      "Epoch 7/15\n",
      "68/68 [==============================] - ETA: 0s - loss: 0.5073 - acc: 0.7746 - true_positives_8: 1087.0000 - true_negatives_8: 587.0000 - false_positives_8: 487.0000 - false_negatives_8: 0.0000e+00\n",
      "Epoch 7: saving model to C:/Users/Shounen/Desktop/Ciclo XI/Tesis 2/GPUTesis/Archivos/Modelos\\clasificacion\\TesisDiego\\CLASE_TrainDS_0\\Model_clasificacion_clase_20220424_203151.hdf5\n",
      "68/68 [==============================] - 202s 3s/step - loss: 0.5073 - acc: 0.7746 - true_positives_8: 1087.0000 - true_negatives_8: 587.0000 - false_positives_8: 487.0000 - false_negatives_8: 0.0000e+00 - val_loss: 0.4925 - val_acc: 0.7746 - val_true_positives_8: 1087.0000 - val_true_negatives_8: 587.0000 - val_false_positives_8: 487.0000 - val_false_negatives_8: 0.0000e+00\n",
      "Epoch 8/15\n",
      "68/68 [==============================] - ETA: 0s - loss: 0.4888 - acc: 0.7746 - true_positives_8: 1087.0000 - true_negatives_8: 587.0000 - false_positives_8: 487.0000 - false_negatives_8: 0.0000e+00\n",
      "Epoch 8: saving model to C:/Users/Shounen/Desktop/Ciclo XI/Tesis 2/GPUTesis/Archivos/Modelos\\clasificacion\\TesisDiego\\CLASE_TrainDS_0\\Model_clasificacion_clase_20220424_203151.hdf5\n",
      "68/68 [==============================] - 286s 4s/step - loss: 0.4888 - acc: 0.7746 - true_positives_8: 1087.0000 - true_negatives_8: 587.0000 - false_positives_8: 487.0000 - false_negatives_8: 0.0000e+00 - val_loss: 0.4772 - val_acc: 0.7746 - val_true_positives_8: 1087.0000 - val_true_negatives_8: 587.0000 - val_false_positives_8: 487.0000 - val_false_negatives_8: 0.0000e+00\n",
      "Epoch 9/15\n",
      "68/68 [==============================] - ETA: 0s - loss: 0.4780 - acc: 0.7746 - true_positives_8: 1087.0000 - true_negatives_8: 587.0000 - false_positives_8: 487.0000 - false_negatives_8: 0.0000e+00\n",
      "Epoch 9: saving model to C:/Users/Shounen/Desktop/Ciclo XI/Tesis 2/GPUTesis/Archivos/Modelos\\clasificacion\\TesisDiego\\CLASE_TrainDS_0\\Model_clasificacion_clase_20220424_203151.hdf5\n",
      "68/68 [==============================] - 292s 4s/step - loss: 0.4780 - acc: 0.7746 - true_positives_8: 1087.0000 - true_negatives_8: 587.0000 - false_positives_8: 487.0000 - false_negatives_8: 0.0000e+00 - val_loss: 0.4686 - val_acc: 0.7746 - val_true_positives_8: 1087.0000 - val_true_negatives_8: 587.0000 - val_false_positives_8: 487.0000 - val_false_negatives_8: 0.0000e+00\n",
      "\n"
     ]
    },
    {
     "data": {
      "text/html": [
       "Waiting for W&B process to finish... <strong style=\"color:green\">(success).</strong>"
      ],
      "text/plain": [
       "<IPython.core.display.HTML object>"
      ]
     },
     "metadata": {},
     "output_type": "display_data"
    },
    {
     "data": {
      "application/vnd.jupyter.widget-view+json": {
       "model_id": "",
       "version_major": 2,
       "version_minor": 0
      },
      "text/plain": [
       "VBox(children=(Label(value='0.003 MB of 0.003 MB uploaded (0.000 MB deduped)\\r'), FloatProgress(value=0.957736…"
      ]
     },
     "metadata": {},
     "output_type": "display_data"
    },
    {
     "data": {
      "text/html": [
       "<style>\n",
       "    table.wandb td:nth-child(1) { padding: 0 10px; text-align: right }\n",
       "    .wandb-row { display: flex; flex-direction: row; flex-wrap: wrap; width: 100% }\n",
       "    .wandb-col { display: flex; flex-direction: column; flex-basis: 100%; flex: 1; padding: 10px; }\n",
       "    </style>\n",
       "<div class=\"wandb-row\"><div class=\"wandb-col\"><h3>Run history:</h3><br/><table class=\"wandb\"><tr><td>acc</td><td>▁▂▄▇█████</td></tr><tr><td>loss</td><td>█▇▆▅▄▃▂▁▁</td></tr><tr><td>val_FN</td><td>█▁▁▁▁▁▁▁▁</td></tr><tr><td>val_FP</td><td>▁████████</td></tr><tr><td>val_TN</td><td>█▁▁▁▁▁▁▁▁</td></tr><tr><td>val_TP</td><td>▁████████</td></tr><tr><td>val_acc</td><td>▁████████</td></tr><tr><td>val_loss</td><td>█▇▆▅▄▃▂▁▁</td></tr></table><br/></div><div class=\"wandb-col\"><h3>Run summary:</h3><br/><table class=\"wandb\"><tr><td>acc</td><td>0.77464</td></tr><tr><td>loss</td><td>0.47804</td></tr><tr><td>val_FN</td><td>0</td></tr><tr><td>val_FP</td><td>487</td></tr><tr><td>val_TN</td><td>587</td></tr><tr><td>val_TP</td><td>1087</td></tr><tr><td>val_acc</td><td>0.77464</td></tr><tr><td>val_loss</td><td>0.46864</td></tr></table><br/></div></div>"
      ],
      "text/plain": [
       "<IPython.core.display.HTML object>"
      ]
     },
     "metadata": {},
     "output_type": "display_data"
    },
    {
     "data": {
      "text/html": [
       "Synced <strong style=\"color:#cdcd00\">Ex_CLASE_TrainDS_0_(3-6-20)_20220424_203151</strong>: <a href=\"https://wandb.ai/tesis2/TesisDiego-%28clasificacion-clase-2%29/runs/27abb777\" target=\"_blank\">https://wandb.ai/tesis2/TesisDiego-%28clasificacion-clase-2%29/runs/27abb777</a><br/>Synced 6 W&B file(s), 9 media file(s), 2 artifact file(s) and 0 other file(s)"
      ],
      "text/plain": [
       "<IPython.core.display.HTML object>"
      ]
     },
     "metadata": {},
     "output_type": "display_data"
    },
    {
     "data": {
      "text/html": [
       "Find logs at: <code>.\\wandb\\run-20220424_203151-27abb777\\logs</code>"
      ],
      "text/plain": [
       "<IPython.core.display.HTML object>"
      ]
     },
     "metadata": {},
     "output_type": "display_data"
    },
    {
     "name": "stdout",
     "output_type": "stream",
     "text": [
      "--------------------------------------------------\n",
      "Inicio de la prueba N°: 6/6\n",
      "Dataset: C:/Users/Shounen/Desktop/Ciclo XI/Tesis 2/GPUTesis/Archivos/Dataset/SplittedV2/CLASE_TrainDS_0\n",
      "- Batch size:  32\n",
      "Creando modelo con input (20,20,2)) de tipo (clasificacion)\n",
      "Tamaño del dataset: Train 2161  - Val 541\n"
     ]
    },
    {
     "data": {
      "text/html": [
       "wandb version 0.12.15 is available!  To upgrade, please run:\n",
       " $ pip install wandb --upgrade"
      ],
      "text/plain": [
       "<IPython.core.display.HTML object>"
      ]
     },
     "metadata": {},
     "output_type": "display_data"
    },
    {
     "data": {
      "text/html": [
       "Tracking run with wandb version 0.12.11"
      ],
      "text/plain": [
       "<IPython.core.display.HTML object>"
      ]
     },
     "metadata": {},
     "output_type": "display_data"
    },
    {
     "data": {
      "text/html": [
       "Run data is saved locally in <code>C:\\Users\\Shounen\\Desktop\\Ciclo XI\\Tesis 2\\GPUTesis\\Codigo\\Entrenamiento\\Jupyter\\wandb\\run-20220424_210542-347d3454</code>"
      ],
      "text/plain": [
       "<IPython.core.display.HTML object>"
      ]
     },
     "metadata": {},
     "output_type": "display_data"
    },
    {
     "data": {
      "text/html": [
       "Syncing run <strong><a href=\"https://wandb.ai/tesis2/TesisDiego-%28clasificacion-clase-2%29/runs/347d3454\" target=\"_blank\">Ex_CLASE_TrainDS_0_(2-6-20)_20220424_210542</a></strong> to <a href=\"https://wandb.ai/tesis2/TesisDiego-%28clasificacion-clase-2%29\" target=\"_blank\">Weights & Biases</a> (<a href=\"https://wandb.me/run\" target=\"_blank\">docs</a>)<br/>"
      ],
      "text/plain": [
       "<IPython.core.display.HTML object>"
      ]
     },
     "metadata": {},
     "output_type": "display_data"
    },
    {
     "name": "stdout",
     "output_type": "stream",
     "text": [
      "Epoch 1/15\n",
      "68/68 [==============================] - ETA: 0s - loss: 0.6771 - acc: 0.5646 - true_positives_9: 848.0000 - true_negatives_9: 372.0000 - false_positives_9: 700.0000 - false_negatives_9: 241.0000\n",
      "Epoch 1: saving model to C:/Users/Shounen/Desktop/Ciclo XI/Tesis 2/GPUTesis/Archivos/Modelos\\clasificacion\\TesisDiego\\CLASE_TrainDS_0\\Model_clasificacion_clase_20220424_210542.hdf5\n",
      "68/68 [==============================] - 241s 4s/step - loss: 0.6771 - acc: 0.5646 - true_positives_9: 848.0000 - true_negatives_9: 372.0000 - false_positives_9: 700.0000 - false_negatives_9: 241.0000 - val_loss: 0.6667 - val_acc: 0.5909 - val_true_positives_9: 1089.0000 - val_true_negatives_9: 188.0000 - val_false_positives_9: 884.0000 - val_false_negatives_9: 0.0000e+00\n",
      "Epoch 2/15\n",
      "68/68 [==============================] - ETA: 0s - loss: 0.6642 - acc: 0.5895 - true_positives_9: 820.0000 - true_negatives_9: 454.0000 - false_positives_9: 618.0000 - false_negatives_9: 269.0000\n",
      "Epoch 2: saving model to C:/Users/Shounen/Desktop/Ciclo XI/Tesis 2/GPUTesis/Archivos/Modelos\\clasificacion\\TesisDiego\\CLASE_TrainDS_0\\Model_clasificacion_clase_20220424_210542.hdf5\n",
      "68/68 [==============================] - 284s 4s/step - loss: 0.6642 - acc: 0.5895 - true_positives_9: 820.0000 - true_negatives_9: 454.0000 - false_positives_9: 618.0000 - false_negatives_9: 269.0000 - val_loss: 0.6554 - val_acc: 0.6576 - val_true_positives_9: 1089.0000 - val_true_negatives_9: 332.0000 - val_false_positives_9: 740.0000 - val_false_negatives_9: 0.0000e+00\n",
      "Epoch 3/15\n",
      "68/68 [==============================] - ETA: 0s - loss: 0.6539 - acc: 0.6150 - true_positives_9: 900.0000 - true_negatives_9: 429.0000 - false_positives_9: 643.0000 - false_negatives_9: 189.0000\n",
      "Epoch 3: saving model to C:/Users/Shounen/Desktop/Ciclo XI/Tesis 2/GPUTesis/Archivos/Modelos\\clasificacion\\TesisDiego\\CLASE_TrainDS_0\\Model_clasificacion_clase_20220424_210542.hdf5\n",
      "68/68 [==============================] - 200s 3s/step - loss: 0.6539 - acc: 0.6150 - true_positives_9: 900.0000 - true_negatives_9: 429.0000 - false_positives_9: 643.0000 - false_negatives_9: 189.0000 - val_loss: 0.6450 - val_acc: 0.7714 - val_true_positives_9: 1089.0000 - val_true_negatives_9: 578.0000 - val_false_positives_9: 494.0000 - val_false_negatives_9: 0.0000e+00\n",
      "Epoch 4/15\n",
      "68/68 [==============================] - ETA: 0s - loss: 0.6415 - acc: 0.6155 - true_positives_9: 819.0000 - true_negatives_9: 511.0000 - false_positives_9: 561.0000 - false_negatives_9: 270.0000\n",
      "Epoch 4: saving model to C:/Users/Shounen/Desktop/Ciclo XI/Tesis 2/GPUTesis/Archivos/Modelos\\clasificacion\\TesisDiego\\CLASE_TrainDS_0\\Model_clasificacion_clase_20220424_210542.hdf5\n",
      "68/68 [==============================] - 201s 3s/step - loss: 0.6415 - acc: 0.6155 - true_positives_9: 819.0000 - true_negatives_9: 511.0000 - false_positives_9: 561.0000 - false_negatives_9: 270.0000 - val_loss: 0.6296 - val_acc: 0.7709 - val_true_positives_9: 1089.0000 - val_true_negatives_9: 577.0000 - val_false_positives_9: 495.0000 - val_false_negatives_9: 0.0000e+00\n",
      "Epoch 5/15\n",
      "68/68 [==============================] - ETA: 0s - loss: 0.6280 - acc: 0.6441 - true_positives_9: 895.0000 - true_negatives_9: 497.0000 - false_positives_9: 575.0000 - false_negatives_9: 194.0000\n",
      "Epoch 5: saving model to C:/Users/Shounen/Desktop/Ciclo XI/Tesis 2/GPUTesis/Archivos/Modelos\\clasificacion\\TesisDiego\\CLASE_TrainDS_0\\Model_clasificacion_clase_20220424_210542.hdf5\n",
      "68/68 [==============================] - 203s 3s/step - loss: 0.6280 - acc: 0.6441 - true_positives_9: 895.0000 - true_negatives_9: 497.0000 - false_positives_9: 575.0000 - false_negatives_9: 194.0000 - val_loss: 0.6138 - val_acc: 0.7709 - val_true_positives_9: 1089.0000 - val_true_negatives_9: 577.0000 - val_false_positives_9: 495.0000 - val_false_negatives_9: 0.0000e+00\n",
      "Epoch 6/15\n",
      "68/68 [==============================] - ETA: 0s - loss: 0.6115 - acc: 0.6668 - true_positives_9: 916.0000 - true_negatives_9: 525.0000 - false_positives_9: 547.0000 - false_negatives_9: 173.0000\n",
      "Epoch 6: saving model to C:/Users/Shounen/Desktop/Ciclo XI/Tesis 2/GPUTesis/Archivos/Modelos\\clasificacion\\TesisDiego\\CLASE_TrainDS_0\\Model_clasificacion_clase_20220424_210542.hdf5\n",
      "68/68 [==============================] - 212s 3s/step - loss: 0.6115 - acc: 0.6668 - true_positives_9: 916.0000 - true_negatives_9: 525.0000 - false_positives_9: 547.0000 - false_negatives_9: 173.0000 - val_loss: 0.5993 - val_acc: 0.7709 - val_true_positives_9: 1089.0000 - val_true_negatives_9: 577.0000 - val_false_positives_9: 495.0000 - val_false_negatives_9: 0.0000e+00\n",
      "Epoch 7/15\n",
      "68/68 [==============================] - ETA: 0s - loss: 0.5976 - acc: 0.6779 - true_positives_9: 908.0000 - true_negatives_9: 557.0000 - false_positives_9: 515.0000 - false_negatives_9: 181.0000\n",
      "Epoch 7: saving model to C:/Users/Shounen/Desktop/Ciclo XI/Tesis 2/GPUTesis/Archivos/Modelos\\clasificacion\\TesisDiego\\CLASE_TrainDS_0\\Model_clasificacion_clase_20220424_210542.hdf5\n",
      "68/68 [==============================] - 216s 3s/step - loss: 0.5976 - acc: 0.6779 - true_positives_9: 908.0000 - true_negatives_9: 557.0000 - false_positives_9: 515.0000 - false_negatives_9: 181.0000 - val_loss: 0.5833 - val_acc: 0.7709 - val_true_positives_9: 1089.0000 - val_true_negatives_9: 577.0000 - val_false_positives_9: 495.0000 - val_false_negatives_9: 0.0000e+00\n",
      "Epoch 8/15\n",
      "68/68 [==============================] - ETA: 0s - loss: 0.5809 - acc: 0.7224 - true_positives_9: 1010.0000 - true_negatives_9: 551.0000 - false_positives_9: 521.0000 - false_negatives_9: 79.0000\n",
      "Epoch 8: saving model to C:/Users/Shounen/Desktop/Ciclo XI/Tesis 2/GPUTesis/Archivos/Modelos\\clasificacion\\TesisDiego\\CLASE_TrainDS_0\\Model_clasificacion_clase_20220424_210542.hdf5\n",
      "68/68 [==============================] - 210s 3s/step - loss: 0.5809 - acc: 0.7224 - true_positives_9: 1010.0000 - true_negatives_9: 551.0000 - false_positives_9: 521.0000 - false_negatives_9: 79.0000 - val_loss: 0.5684 - val_acc: 0.7709 - val_true_positives_9: 1089.0000 - val_true_negatives_9: 577.0000 - val_false_positives_9: 495.0000 - val_false_negatives_9: 0.0000e+00\n",
      "Epoch 9/15\n",
      "68/68 [==============================] - ETA: 0s - loss: 0.5658 - acc: 0.7339 - true_positives_9: 997.0000 - true_negatives_9: 589.0000 - false_positives_9: 483.0000 - false_negatives_9: 92.0000\n",
      "Epoch 9: saving model to C:/Users/Shounen/Desktop/Ciclo XI/Tesis 2/GPUTesis/Archivos/Modelos\\clasificacion\\TesisDiego\\CLASE_TrainDS_0\\Model_clasificacion_clase_20220424_210542.hdf5\n",
      "68/68 [==============================] - 205s 3s/step - loss: 0.5658 - acc: 0.7339 - true_positives_9: 997.0000 - true_negatives_9: 589.0000 - false_positives_9: 483.0000 - false_negatives_9: 92.0000 - val_loss: 0.5537 - val_acc: 0.7709 - val_true_positives_9: 1089.0000 - val_true_negatives_9: 577.0000 - val_false_positives_9: 495.0000 - val_false_negatives_9: 0.0000e+00\n",
      "Epoch 10/15\n",
      "68/68 [==============================] - ETA: 0s - loss: 0.5521 - acc: 0.7515 - true_positives_9: 1053.0000 - true_negatives_9: 571.0000 - false_positives_9: 501.0000 - false_negatives_9: 36.0000\n",
      "Epoch 10: saving model to C:/Users/Shounen/Desktop/Ciclo XI/Tesis 2/GPUTesis/Archivos/Modelos\\clasificacion\\TesisDiego\\CLASE_TrainDS_0\\Model_clasificacion_clase_20220424_210542.hdf5\n",
      "68/68 [==============================] - 210s 3s/step - loss: 0.5521 - acc: 0.7515 - true_positives_9: 1053.0000 - true_negatives_9: 571.0000 - false_positives_9: 501.0000 - false_negatives_9: 36.0000 - val_loss: 0.5365 - val_acc: 0.7709 - val_true_positives_9: 1089.0000 - val_true_negatives_9: 577.0000 - val_false_positives_9: 495.0000 - val_false_negatives_9: 0.0000e+00\n",
      "\n"
     ]
    },
    {
     "data": {
      "text/html": [
       "Waiting for W&B process to finish... <strong style=\"color:green\">(success).</strong>"
      ],
      "text/plain": [
       "<IPython.core.display.HTML object>"
      ]
     },
     "metadata": {},
     "output_type": "display_data"
    },
    {
     "data": {
      "application/vnd.jupyter.widget-view+json": {
       "model_id": "",
       "version_major": 2,
       "version_minor": 0
      },
      "text/plain": [
       "VBox(children=(Label(value='0.004 MB of 0.004 MB uploaded (0.000 MB deduped)\\r'), FloatProgress(value=0.970545…"
      ]
     },
     "metadata": {},
     "output_type": "display_data"
    },
    {
     "data": {
      "text/html": [
       "<style>\n",
       "    table.wandb td:nth-child(1) { padding: 0 10px; text-align: right }\n",
       "    .wandb-row { display: flex; flex-direction: row; flex-wrap: wrap; width: 100% }\n",
       "    .wandb-col { display: flex; flex-direction: column; flex-basis: 100%; flex: 1; padding: 10px; }\n",
       "    </style>\n",
       "<div class=\"wandb-row\"><div class=\"wandb-col\"><h3>Run history:</h3><br/><table class=\"wandb\"><tr><td>acc</td><td>▁▂▃▃▄▅▅▇▇█</td></tr><tr><td>loss</td><td>█▇▇▆▅▄▄▃▂▁</td></tr><tr><td>val_FN</td><td>▁▁▁▁▁▁▁▁▁▁</td></tr><tr><td>val_FP</td><td>█▅▁▁▁▁▁▁▁▁</td></tr><tr><td>val_TN</td><td>▁▄████████</td></tr><tr><td>val_TP</td><td>▁▁▁▁▁▁▁▁▁▁</td></tr><tr><td>val_acc</td><td>▁▄████████</td></tr><tr><td>val_loss</td><td>█▇▇▆▅▄▄▃▂▁</td></tr></table><br/></div><div class=\"wandb-col\"><h3>Run summary:</h3><br/><table class=\"wandb\"><tr><td>acc</td><td>0.7515</td></tr><tr><td>loss</td><td>0.55209</td></tr><tr><td>val_FN</td><td>0</td></tr><tr><td>val_FP</td><td>495</td></tr><tr><td>val_TN</td><td>577</td></tr><tr><td>val_TP</td><td>1089</td></tr><tr><td>val_acc</td><td>0.77094</td></tr><tr><td>val_loss</td><td>0.5365</td></tr></table><br/></div></div>"
      ],
      "text/plain": [
       "<IPython.core.display.HTML object>"
      ]
     },
     "metadata": {},
     "output_type": "display_data"
    },
    {
     "data": {
      "text/html": [
       "Synced <strong style=\"color:#cdcd00\">Ex_CLASE_TrainDS_0_(2-6-20)_20220424_210542</strong>: <a href=\"https://wandb.ai/tesis2/TesisDiego-%28clasificacion-clase-2%29/runs/347d3454\" target=\"_blank\">https://wandb.ai/tesis2/TesisDiego-%28clasificacion-clase-2%29/runs/347d3454</a><br/>Synced 6 W&B file(s), 10 media file(s), 4 artifact file(s) and 0 other file(s)"
      ],
      "text/plain": [
       "<IPython.core.display.HTML object>"
      ]
     },
     "metadata": {},
     "output_type": "display_data"
    },
    {
     "data": {
      "text/html": [
       "Find logs at: <code>.\\wandb\\run-20220424_210542-347d3454\\logs</code>"
      ],
      "text/plain": [
       "<IPython.core.display.HTML object>"
      ]
     },
     "metadata": {},
     "output_type": "display_data"
    },
    {
     "name": "stdout",
     "output_type": "stream",
     "text": [
      "--------------------------------------------------\n",
      "Inicio de la prueba N°: 1/6\n",
      "Dataset: C:/Users/Shounen/Desktop/Ciclo XI/Tesis 2/GPUTesis/Archivos/Dataset/SplittedV2/CLASE_TrainDS_1\n",
      "- Batch size:  32\n",
      "Creando modelo con input (30,30,3)) de tipo (clasificacion)\n",
      "Tamaño del dataset: Train 2161  - Val 541\n"
     ]
    },
    {
     "data": {
      "text/html": [
       "wandb version 0.12.15 is available!  To upgrade, please run:\n",
       " $ pip install wandb --upgrade"
      ],
      "text/plain": [
       "<IPython.core.display.HTML object>"
      ]
     },
     "metadata": {},
     "output_type": "display_data"
    },
    {
     "data": {
      "text/html": [
       "Tracking run with wandb version 0.12.11"
      ],
      "text/plain": [
       "<IPython.core.display.HTML object>"
      ]
     },
     "metadata": {},
     "output_type": "display_data"
    },
    {
     "data": {
      "text/html": [
       "Run data is saved locally in <code>C:\\Users\\Shounen\\Desktop\\Ciclo XI\\Tesis 2\\GPUTesis\\Codigo\\Entrenamiento\\Jupyter\\wandb\\run-20220424_214219-3k4m0vyw</code>"
      ],
      "text/plain": [
       "<IPython.core.display.HTML object>"
      ]
     },
     "metadata": {},
     "output_type": "display_data"
    },
    {
     "data": {
      "text/html": [
       "Syncing run <strong><a href=\"https://wandb.ai/tesis2/TesisDiego-%28clasificacion-clase-2%29/runs/3k4m0vyw\" target=\"_blank\">Ex_CLASE_TrainDS_1_(3-6-30)_20220424_214219</a></strong> to <a href=\"https://wandb.ai/tesis2/TesisDiego-%28clasificacion-clase-2%29\" target=\"_blank\">Weights & Biases</a> (<a href=\"https://wandb.me/run\" target=\"_blank\">docs</a>)<br/>"
      ],
      "text/plain": [
       "<IPython.core.display.HTML object>"
      ]
     },
     "metadata": {},
     "output_type": "display_data"
    },
    {
     "name": "stdout",
     "output_type": "stream",
     "text": [
      "Epoch 1/15\n",
      "68/68 [==============================] - ETA: 0s - loss: 0.6814 - acc: 0.5155 - true_positives_10: 804.0000 - true_negatives_10: 310.0000 - false_positives_10: 771.0000 - false_negatives_10: 276.0000\n",
      "Epoch 1: saving model to C:/Users/Shounen/Desktop/Ciclo XI/Tesis 2/GPUTesis/Archivos/Modelos\\clasificacion\\TesisDiego\\CLASE_TrainDS_1\\Model_clasificacion_clase_20220424_214219.hdf5\n",
      "68/68 [==============================] - 267s 4s/step - loss: 0.6814 - acc: 0.5155 - true_positives_10: 804.0000 - true_negatives_10: 310.0000 - false_positives_10: 771.0000 - false_negatives_10: 276.0000 - val_loss: 0.6759 - val_acc: 0.5433 - val_true_positives_10: 1051.0000 - val_true_negatives_10: 123.0000 - val_false_positives_10: 958.0000 - val_false_negatives_10: 29.0000\n",
      "Epoch 2/15\n",
      "68/68 [==============================] - ETA: 0s - loss: 0.6743 - acc: 0.5266 - true_positives_10: 803.0000 - true_negatives_10: 335.0000 - false_positives_10: 746.0000 - false_negatives_10: 277.0000\n",
      "Epoch 2: saving model to C:/Users/Shounen/Desktop/Ciclo XI/Tesis 2/GPUTesis/Archivos/Modelos\\clasificacion\\TesisDiego\\CLASE_TrainDS_1\\Model_clasificacion_clase_20220424_214219.hdf5\n",
      "68/68 [==============================] - 258s 4s/step - loss: 0.6743 - acc: 0.5266 - true_positives_10: 803.0000 - true_negatives_10: 335.0000 - false_positives_10: 746.0000 - false_negatives_10: 277.0000 - val_loss: 0.6709 - val_acc: 0.5363 - val_true_positives_10: 1019.0000 - val_true_negatives_10: 140.0000 - val_false_positives_10: 941.0000 - val_false_negatives_10: 61.0000\n",
      "Epoch 3/15\n",
      "68/68 [==============================] - ETA: 0s - loss: 0.6707 - acc: 0.5303 - true_positives_10: 989.0000 - true_negatives_10: 157.0000 - false_positives_10: 924.0000 - false_negatives_10: 91.0000\n",
      "Epoch 3: saving model to C:/Users/Shounen/Desktop/Ciclo XI/Tesis 2/GPUTesis/Archivos/Modelos\\clasificacion\\TesisDiego\\CLASE_TrainDS_1\\Model_clasificacion_clase_20220424_214219.hdf5\n",
      "68/68 [==============================] - 214s 3s/step - loss: 0.6707 - acc: 0.5303 - true_positives_10: 989.0000 - true_negatives_10: 157.0000 - false_positives_10: 924.0000 - false_negatives_10: 91.0000 - val_loss: 0.6678 - val_acc: 0.5363 - val_true_positives_10: 1017.0000 - val_true_negatives_10: 142.0000 - val_false_positives_10: 939.0000 - val_false_negatives_10: 63.0000\n",
      "Epoch 4/15\n",
      "68/68 [==============================] - ETA: 0s - loss: 0.6681 - acc: 0.5349 - true_positives_10: 1009.0000 - true_negatives_10: 147.0000 - false_positives_10: 934.0000 - false_negatives_10: 71.0000\n",
      "Epoch 4: saving model to C:/Users/Shounen/Desktop/Ciclo XI/Tesis 2/GPUTesis/Archivos/Modelos\\clasificacion\\TesisDiego\\CLASE_TrainDS_1\\Model_clasificacion_clase_20220424_214219.hdf5\n",
      "68/68 [==============================] - 208s 3s/step - loss: 0.6681 - acc: 0.5349 - true_positives_10: 1009.0000 - true_negatives_10: 147.0000 - false_positives_10: 934.0000 - false_negatives_10: 71.0000 - val_loss: 0.6657 - val_acc: 0.5391 - val_true_positives_10: 1039.0000 - val_true_negatives_10: 126.0000 - val_false_positives_10: 955.0000 - val_false_negatives_10: 41.0000\n",
      "Epoch 5/15\n",
      "68/68 [==============================] - ETA: 0s - loss: 0.6663 - acc: 0.5396 - true_positives_10: 1030.0000 - true_negatives_10: 136.0000 - false_positives_10: 945.0000 - false_negatives_10: 50.0000\n",
      "Epoch 5: saving model to C:/Users/Shounen/Desktop/Ciclo XI/Tesis 2/GPUTesis/Archivos/Modelos\\clasificacion\\TesisDiego\\CLASE_TrainDS_1\\Model_clasificacion_clase_20220424_214219.hdf5\n",
      "68/68 [==============================] - 180s 3s/step - loss: 0.6663 - acc: 0.5396 - true_positives_10: 1030.0000 - true_negatives_10: 136.0000 - false_positives_10: 945.0000 - false_negatives_10: 50.0000 - val_loss: 0.6643 - val_acc: 0.5437 - val_true_positives_10: 1053.0000 - val_true_negatives_10: 122.0000 - val_false_positives_10: 959.0000 - val_false_negatives_10: 27.0000\n",
      "Epoch 6/15\n",
      "68/68 [==============================] - ETA: 0s - loss: 0.6651 - acc: 0.5410 - true_positives_10: 1035.0000 - true_negatives_10: 134.0000 - false_positives_10: 947.0000 - false_negatives_10: 45.0000\n",
      "Epoch 6: saving model to C:/Users/Shounen/Desktop/Ciclo XI/Tesis 2/GPUTesis/Archivos/Modelos\\clasificacion\\TesisDiego\\CLASE_TrainDS_1\\Model_clasificacion_clase_20220424_214219.hdf5\n",
      "68/68 [==============================] - 152s 2s/step - loss: 0.6651 - acc: 0.5410 - true_positives_10: 1035.0000 - true_negatives_10: 134.0000 - false_positives_10: 947.0000 - false_negatives_10: 45.0000 - val_loss: 0.6631 - val_acc: 0.5437 - val_true_positives_10: 1054.0000 - val_true_negatives_10: 121.0000 - val_false_positives_10: 960.0000 - val_false_negatives_10: 26.0000\n",
      "Epoch 7/15\n",
      "68/68 [==============================] - ETA: 0s - loss: 0.6641 - acc: 0.5423 - true_positives_10: 1045.0000 - true_negatives_10: 127.0000 - false_positives_10: 954.0000 - false_negatives_10: 35.0000\n",
      "Epoch 7: saving model to C:/Users/Shounen/Desktop/Ciclo XI/Tesis 2/GPUTesis/Archivos/Modelos\\clasificacion\\TesisDiego\\CLASE_TrainDS_1\\Model_clasificacion_clase_20220424_214219.hdf5\n",
      "68/68 [==============================] - 152s 2s/step - loss: 0.6641 - acc: 0.5423 - true_positives_10: 1045.0000 - true_negatives_10: 127.0000 - false_positives_10: 954.0000 - false_negatives_10: 35.0000 - val_loss: 0.6623 - val_acc: 0.5437 - val_true_positives_10: 1054.0000 - val_true_negatives_10: 121.0000 - val_false_positives_10: 960.0000 - val_false_negatives_10: 26.0000\n",
      "Epoch 8/15\n",
      "68/68 [==============================] - ETA: 0s - loss: 0.6635 - acc: 0.5433 - true_positives_10: 1050.0000 - true_negatives_10: 124.0000 - false_positives_10: 957.0000 - false_negatives_10: 30.0000\n",
      "Epoch 8: saving model to C:/Users/Shounen/Desktop/Ciclo XI/Tesis 2/GPUTesis/Archivos/Modelos\\clasificacion\\TesisDiego\\CLASE_TrainDS_1\\Model_clasificacion_clase_20220424_214219.hdf5\n",
      "68/68 [==============================] - 153s 2s/step - loss: 0.6635 - acc: 0.5433 - true_positives_10: 1050.0000 - true_negatives_10: 124.0000 - false_positives_10: 957.0000 - false_negatives_10: 30.0000 - val_loss: 0.6616 - val_acc: 0.5460 - val_true_positives_10: 1062.0000 - val_true_negatives_10: 118.0000 - val_false_positives_10: 963.0000 - val_false_negatives_10: 18.0000\n",
      "Epoch 9/15\n",
      "68/68 [==============================] - ETA: 0s - loss: 0.6624 - acc: 0.5460 - true_positives_10: 1057.0000 - true_negatives_10: 123.0000 - false_positives_10: 958.0000 - false_negatives_10: 23.0000\n",
      "Epoch 9: saving model to C:/Users/Shounen/Desktop/Ciclo XI/Tesis 2/GPUTesis/Archivos/Modelos\\clasificacion\\TesisDiego\\CLASE_TrainDS_1\\Model_clasificacion_clase_20220424_214219.hdf5\n",
      "68/68 [==============================] - 152s 2s/step - loss: 0.6624 - acc: 0.5460 - true_positives_10: 1057.0000 - true_negatives_10: 123.0000 - false_positives_10: 958.0000 - false_negatives_10: 23.0000 - val_loss: 0.6608 - val_acc: 0.5479 - val_true_positives_10: 1067.0000 - val_true_negatives_10: 117.0000 - val_false_positives_10: 964.0000 - val_false_negatives_10: 13.0000\n",
      "Epoch 10/15\n",
      "68/68 [==============================] - ETA: 0s - loss: 0.6621 - acc: 0.5437 - true_positives_10: 1056.0000 - true_negatives_10: 119.0000 - false_positives_10: 962.0000 - false_negatives_10: 24.0000\n",
      "Epoch 10: saving model to C:/Users/Shounen/Desktop/Ciclo XI/Tesis 2/GPUTesis/Archivos/Modelos\\clasificacion\\TesisDiego\\CLASE_TrainDS_1\\Model_clasificacion_clase_20220424_214219.hdf5\n",
      "68/68 [==============================] - 152s 2s/step - loss: 0.6621 - acc: 0.5437 - true_positives_10: 1056.0000 - true_negatives_10: 119.0000 - false_positives_10: 962.0000 - false_negatives_10: 24.0000 - val_loss: 0.6603 - val_acc: 0.5516 - val_true_positives_10: 1080.0000 - val_true_negatives_10: 112.0000 - val_false_positives_10: 969.0000 - val_false_negatives_10: 0.0000e+00\n",
      "Epoch 11/15\n",
      "68/68 [==============================] - ETA: 0s - loss: 0.6608 - acc: 0.5460 - true_positives_10: 1064.0000 - true_negatives_10: 116.0000 - false_positives_10: 965.0000 - false_negatives_10: 16.0000\n",
      "Epoch 11: saving model to C:/Users/Shounen/Desktop/Ciclo XI/Tesis 2/GPUTesis/Archivos/Modelos\\clasificacion\\TesisDiego\\CLASE_TrainDS_1\\Model_clasificacion_clase_20220424_214219.hdf5\n",
      "68/68 [==============================] - 152s 2s/step - loss: 0.6608 - acc: 0.5460 - true_positives_10: 1064.0000 - true_negatives_10: 116.0000 - false_positives_10: 965.0000 - false_negatives_10: 16.0000 - val_loss: 0.6594 - val_acc: 0.5516 - val_true_positives_10: 1080.0000 - val_true_negatives_10: 112.0000 - val_false_positives_10: 969.0000 - val_false_negatives_10: 0.0000e+00\n"
     ]
    },
    {
     "name": "stdout",
     "output_type": "stream",
     "text": [
      "Epoch 12/15\n",
      "68/68 [==============================] - ETA: 0s - loss: 0.6604 - acc: 0.5493 - true_positives_10: 1070.0000 - true_negatives_10: 117.0000 - false_positives_10: 964.0000 - false_negatives_10: 10.0000\n",
      "Epoch 12: saving model to C:/Users/Shounen/Desktop/Ciclo XI/Tesis 2/GPUTesis/Archivos/Modelos\\clasificacion\\TesisDiego\\CLASE_TrainDS_1\\Model_clasificacion_clase_20220424_214219.hdf5\n",
      "68/68 [==============================] - 154s 2s/step - loss: 0.6604 - acc: 0.5493 - true_positives_10: 1070.0000 - true_negatives_10: 117.0000 - false_positives_10: 964.0000 - false_negatives_10: 10.0000 - val_loss: 0.6588 - val_acc: 0.5516 - val_true_positives_10: 1080.0000 - val_true_negatives_10: 112.0000 - val_false_positives_10: 969.0000 - val_false_negatives_10: 0.0000e+00\n",
      "Epoch 13/15\n",
      "68/68 [==============================] - ETA: 0s - loss: 0.6599 - acc: 0.5484 - true_positives_10: 1070.0000 - true_negatives_10: 115.0000 - false_positives_10: 966.0000 - false_negatives_10: 10.0000\n",
      "Epoch 13: saving model to C:/Users/Shounen/Desktop/Ciclo XI/Tesis 2/GPUTesis/Archivos/Modelos\\clasificacion\\TesisDiego\\CLASE_TrainDS_1\\Model_clasificacion_clase_20220424_214219.hdf5\n",
      "68/68 [==============================] - 151s 2s/step - loss: 0.6599 - acc: 0.5484 - true_positives_10: 1070.0000 - true_negatives_10: 115.0000 - false_positives_10: 966.0000 - false_negatives_10: 10.0000 - val_loss: 0.6582 - val_acc: 0.5516 - val_true_positives_10: 1080.0000 - val_true_negatives_10: 112.0000 - val_false_positives_10: 969.0000 - val_false_negatives_10: 0.0000e+00\n",
      "Epoch 14/15\n",
      "68/68 [==============================] - ETA: 0s - loss: 0.6595 - acc: 0.5484 - true_positives_10: 1070.0000 - true_negatives_10: 115.0000 - false_positives_10: 966.0000 - false_negatives_10: 10.0000\n",
      "Epoch 14: saving model to C:/Users/Shounen/Desktop/Ciclo XI/Tesis 2/GPUTesis/Archivos/Modelos\\clasificacion\\TesisDiego\\CLASE_TrainDS_1\\Model_clasificacion_clase_20220424_214219.hdf5\n",
      "68/68 [==============================] - 152s 2s/step - loss: 0.6595 - acc: 0.5484 - true_positives_10: 1070.0000 - true_negatives_10: 115.0000 - false_positives_10: 966.0000 - false_negatives_10: 10.0000 - val_loss: 0.6577 - val_acc: 0.5516 - val_true_positives_10: 1080.0000 - val_true_negatives_10: 112.0000 - val_false_positives_10: 969.0000 - val_false_negatives_10: 0.0000e+00\n",
      "Epoch 15/15\n",
      "68/68 [==============================] - ETA: 0s - loss: 0.6589 - acc: 0.5479 - true_positives_10: 1070.0000 - true_negatives_10: 114.0000 - false_positives_10: 967.0000 - false_negatives_10: 10.0000\n",
      "Epoch 15: saving model to C:/Users/Shounen/Desktop/Ciclo XI/Tesis 2/GPUTesis/Archivos/Modelos\\clasificacion\\TesisDiego\\CLASE_TrainDS_1\\Model_clasificacion_clase_20220424_214219.hdf5\n",
      "68/68 [==============================] - 152s 2s/step - loss: 0.6589 - acc: 0.5479 - true_positives_10: 1070.0000 - true_negatives_10: 114.0000 - false_positives_10: 967.0000 - false_negatives_10: 10.0000 - val_loss: 0.6573 - val_acc: 0.5516 - val_true_positives_10: 1080.0000 - val_true_negatives_10: 112.0000 - val_false_positives_10: 969.0000 - val_false_negatives_10: 0.0000e+00\n",
      "\n"
     ]
    },
    {
     "data": {
      "text/html": [
       "Waiting for W&B process to finish... <strong style=\"color:green\">(success).</strong>"
      ],
      "text/plain": [
       "<IPython.core.display.HTML object>"
      ]
     },
     "metadata": {},
     "output_type": "display_data"
    },
    {
     "data": {
      "application/vnd.jupyter.widget-view+json": {
       "model_id": "",
       "version_major": 2,
       "version_minor": 0
      },
      "text/plain": [
       "VBox(children=(Label(value='0.007 MB of 0.007 MB uploaded (0.000 MB deduped)\\r'), FloatProgress(value=1.0, max…"
      ]
     },
     "metadata": {},
     "output_type": "display_data"
    },
    {
     "data": {
      "text/html": [
       "<style>\n",
       "    table.wandb td:nth-child(1) { padding: 0 10px; text-align: right }\n",
       "    .wandb-row { display: flex; flex-direction: row; flex-wrap: wrap; width: 100% }\n",
       "    .wandb-col { display: flex; flex-direction: column; flex-basis: 100%; flex: 1; padding: 10px; }\n",
       "    </style>\n",
       "<div class=\"wandb-row\"><div class=\"wandb-col\"><h3>Run history:</h3><br/><table class=\"wandb\"><tr><td>acc</td><td>▁▃▄▅▆▆▇▇▇▇▇████</td></tr><tr><td>loss</td><td>█▆▅▄▃▃▃▂▂▂▂▁▁▁▁</td></tr><tr><td>val_FN</td><td>▄██▆▄▄▄▃▂▁▁▁▁▁▁</td></tr><tr><td>val_FP</td><td>▅▁▁▅▆▆▆▇▇██████</td></tr><tr><td>val_TN</td><td>▄██▄▃▃▃▂▂▁▁▁▁▁▁</td></tr><tr><td>val_TP</td><td>▅▁▁▃▅▅▅▆▇██████</td></tr><tr><td>val_acc</td><td>▄▁▁▂▄▄▄▅▆██████</td></tr><tr><td>val_loss</td><td>█▆▅▄▄▃▃▃▂▂▂▂▁▁▁</td></tr></table><br/></div><div class=\"wandb-col\"><h3>Run summary:</h3><br/><table class=\"wandb\"><tr><td>acc</td><td>0.54789</td></tr><tr><td>loss</td><td>0.65895</td></tr><tr><td>val_FN</td><td>0</td></tr><tr><td>val_FP</td><td>969</td></tr><tr><td>val_TN</td><td>112</td></tr><tr><td>val_TP</td><td>1080</td></tr><tr><td>val_acc</td><td>0.5516</td></tr><tr><td>val_loss</td><td>0.65731</td></tr></table><br/></div></div>"
      ],
      "text/plain": [
       "<IPython.core.display.HTML object>"
      ]
     },
     "metadata": {},
     "output_type": "display_data"
    },
    {
     "data": {
      "text/html": [
       "Synced <strong style=\"color:#cdcd00\">Ex_CLASE_TrainDS_1_(3-6-30)_20220424_214219</strong>: <a href=\"https://wandb.ai/tesis2/TesisDiego-%28clasificacion-clase-2%29/runs/3k4m0vyw\" target=\"_blank\">https://wandb.ai/tesis2/TesisDiego-%28clasificacion-clase-2%29/runs/3k4m0vyw</a><br/>Synced 6 W&B file(s), 15 media file(s), 9 artifact file(s) and 0 other file(s)"
      ],
      "text/plain": [
       "<IPython.core.display.HTML object>"
      ]
     },
     "metadata": {},
     "output_type": "display_data"
    },
    {
     "data": {
      "text/html": [
       "Find logs at: <code>.\\wandb\\run-20220424_214219-3k4m0vyw\\logs</code>"
      ],
      "text/plain": [
       "<IPython.core.display.HTML object>"
      ]
     },
     "metadata": {},
     "output_type": "display_data"
    },
    {
     "name": "stdout",
     "output_type": "stream",
     "text": [
      "--------------------------------------------------\n",
      "Inicio de la prueba N°: 2/6\n",
      "Dataset: C:/Users/Shounen/Desktop/Ciclo XI/Tesis 2/GPUTesis/Archivos/Dataset/SplittedV2/CLASE_TrainDS_1\n",
      "- Batch size:  32\n",
      "Creando modelo con input (30,30,2)) de tipo (clasificacion)\n",
      "Tamaño del dataset: Train 2161  - Val 541\n"
     ]
    },
    {
     "data": {
      "text/html": [
       "wandb version 0.12.15 is available!  To upgrade, please run:\n",
       " $ pip install wandb --upgrade"
      ],
      "text/plain": [
       "<IPython.core.display.HTML object>"
      ]
     },
     "metadata": {},
     "output_type": "display_data"
    },
    {
     "data": {
      "text/html": [
       "Tracking run with wandb version 0.12.11"
      ],
      "text/plain": [
       "<IPython.core.display.HTML object>"
      ]
     },
     "metadata": {},
     "output_type": "display_data"
    },
    {
     "data": {
      "text/html": [
       "Run data is saved locally in <code>C:\\Users\\Shounen\\Desktop\\Ciclo XI\\Tesis 2\\GPUTesis\\Codigo\\Entrenamiento\\Jupyter\\wandb\\run-20220424_222643-1z20pmyn</code>"
      ],
      "text/plain": [
       "<IPython.core.display.HTML object>"
      ]
     },
     "metadata": {},
     "output_type": "display_data"
    },
    {
     "data": {
      "text/html": [
       "Syncing run <strong><a href=\"https://wandb.ai/tesis2/TesisDiego-%28clasificacion-clase-2%29/runs/1z20pmyn\" target=\"_blank\">Ex_CLASE_TrainDS_1_(2-6-30)_20220424_222643</a></strong> to <a href=\"https://wandb.ai/tesis2/TesisDiego-%28clasificacion-clase-2%29\" target=\"_blank\">Weights & Biases</a> (<a href=\"https://wandb.me/run\" target=\"_blank\">docs</a>)<br/>"
      ],
      "text/plain": [
       "<IPython.core.display.HTML object>"
      ]
     },
     "metadata": {},
     "output_type": "display_data"
    },
    {
     "name": "stdout",
     "output_type": "stream",
     "text": [
      "Epoch 1/15\n",
      "68/68 [==============================] - ETA: 0s - loss: 0.6834 - acc: 0.5086 - true_positives_11: 667.0000 - true_negatives_11: 432.0000 - false_positives_11: 644.0000 - false_negatives_11: 418.0000\n",
      "Epoch 1: saving model to C:/Users/Shounen/Desktop/Ciclo XI/Tesis 2/GPUTesis/Archivos/Modelos\\clasificacion\\TesisDiego\\CLASE_TrainDS_1\\Model_clasificacion_clase_20220424_222643.hdf5\n",
      "68/68 [==============================] - 155s 2s/step - loss: 0.6834 - acc: 0.5086 - true_positives_11: 667.0000 - true_negatives_11: 432.0000 - false_positives_11: 644.0000 - false_negatives_11: 418.0000 - val_loss: 0.6792 - val_acc: 0.5322 - val_true_positives_11: 1017.0000 - val_true_negatives_11: 133.0000 - val_false_positives_11: 943.0000 - val_false_negatives_11: 68.0000\n",
      "Epoch 2/15\n",
      "68/68 [==============================] - ETA: 0s - loss: 0.6780 - acc: 0.5243 - true_positives_11: 988.0000 - true_negatives_11: 145.0000 - false_positives_11: 931.0000 - false_negatives_11: 97.0000\n",
      "Epoch 2: saving model to C:/Users/Shounen/Desktop/Ciclo XI/Tesis 2/GPUTesis/Archivos/Modelos\\clasificacion\\TesisDiego\\CLASE_TrainDS_1\\Model_clasificacion_clase_20220424_222643.hdf5\n",
      "68/68 [==============================] - 151s 2s/step - loss: 0.6780 - acc: 0.5243 - true_positives_11: 988.0000 - true_negatives_11: 145.0000 - false_positives_11: 931.0000 - false_negatives_11: 97.0000 - val_loss: 0.6756 - val_acc: 0.5104 - val_true_positives_11: 914.0000 - val_true_negatives_11: 189.0000 - val_false_positives_11: 887.0000 - val_false_negatives_11: 171.0000\n",
      "Epoch 3/15\n",
      "68/68 [==============================] - ETA: 0s - loss: 0.6745 - acc: 0.5261 - true_positives_11: 959.0000 - true_negatives_11: 178.0000 - false_positives_11: 898.0000 - false_negatives_11: 126.0000\n",
      "Epoch 3: saving model to C:/Users/Shounen/Desktop/Ciclo XI/Tesis 2/GPUTesis/Archivos/Modelos\\clasificacion\\TesisDiego\\CLASE_TrainDS_1\\Model_clasificacion_clase_20220424_222643.hdf5\n",
      "68/68 [==============================] - 152s 2s/step - loss: 0.6745 - acc: 0.5261 - true_positives_11: 959.0000 - true_negatives_11: 178.0000 - false_positives_11: 898.0000 - false_negatives_11: 126.0000 - val_loss: 0.6731 - val_acc: 0.5206 - val_true_positives_11: 947.0000 - val_true_negatives_11: 178.0000 - val_false_positives_11: 898.0000 - val_false_negatives_11: 138.0000\n",
      "Epoch 4/15\n",
      "68/68 [==============================] - ETA: 0s - loss: 0.6720 - acc: 0.5248 - true_positives_11: 993.0000 - true_negatives_11: 141.0000 - false_positives_11: 935.0000 - false_negatives_11: 92.0000\n",
      "Epoch 4: saving model to C:/Users/Shounen/Desktop/Ciclo XI/Tesis 2/GPUTesis/Archivos/Modelos\\clasificacion\\TesisDiego\\CLASE_TrainDS_1\\Model_clasificacion_clase_20220424_222643.hdf5\n",
      "68/68 [==============================] - 152s 2s/step - loss: 0.6720 - acc: 0.5248 - true_positives_11: 993.0000 - true_negatives_11: 141.0000 - false_positives_11: 935.0000 - false_negatives_11: 92.0000 - val_loss: 0.6706 - val_acc: 0.5215 - val_true_positives_11: 959.0000 - val_true_negatives_11: 168.0000 - val_false_positives_11: 908.0000 - val_false_negatives_11: 126.0000\n",
      "Epoch 5/15\n",
      "68/68 [==============================] - ETA: 0s - loss: 0.6693 - acc: 0.5317 - true_positives_11: 1018.0000 - true_negatives_11: 131.0000 - false_positives_11: 945.0000 - false_negatives_11: 67.0000\n",
      "Epoch 5: saving model to C:/Users/Shounen/Desktop/Ciclo XI/Tesis 2/GPUTesis/Archivos/Modelos\\clasificacion\\TesisDiego\\CLASE_TrainDS_1\\Model_clasificacion_clase_20220424_222643.hdf5\n",
      "68/68 [==============================] - 162s 2s/step - loss: 0.6693 - acc: 0.5317 - true_positives_11: 1018.0000 - true_negatives_11: 131.0000 - false_positives_11: 945.0000 - false_negatives_11: 67.0000 - val_loss: 0.6686 - val_acc: 0.5248 - val_true_positives_11: 977.0000 - val_true_negatives_11: 157.0000 - val_false_positives_11: 919.0000 - val_false_negatives_11: 108.0000\n",
      "Epoch 6/15\n",
      "68/68 [==============================] - ETA: 0s - loss: 0.6676 - acc: 0.5317 - true_positives_11: 1020.0000 - true_negatives_11: 129.0000 - false_positives_11: 947.0000 - false_negatives_11: 65.0000\n",
      "Epoch 6: saving model to C:/Users/Shounen/Desktop/Ciclo XI/Tesis 2/GPUTesis/Archivos/Modelos\\clasificacion\\TesisDiego\\CLASE_TrainDS_1\\Model_clasificacion_clase_20220424_222643.hdf5\n",
      "68/68 [==============================] - 152s 2s/step - loss: 0.6676 - acc: 0.5317 - true_positives_11: 1020.0000 - true_negatives_11: 129.0000 - false_positives_11: 947.0000 - false_negatives_11: 65.0000 - val_loss: 0.6675 - val_acc: 0.5271 - val_true_positives_11: 991.0000 - val_true_negatives_11: 148.0000 - val_false_positives_11: 928.0000 - val_false_negatives_11: 94.0000\n",
      "Epoch 7/15\n",
      "68/68 [==============================] - ETA: 0s - loss: 0.6664 - acc: 0.5340 - true_positives_11: 1023.0000 - true_negatives_11: 131.0000 - false_positives_11: 945.0000 - false_negatives_11: 62.0000\n",
      "Epoch 7: saving model to C:/Users/Shounen/Desktop/Ciclo XI/Tesis 2/GPUTesis/Archivos/Modelos\\clasificacion\\TesisDiego\\CLASE_TrainDS_1\\Model_clasificacion_clase_20220424_222643.hdf5\n",
      "68/68 [==============================] - 153s 2s/step - loss: 0.6664 - acc: 0.5340 - true_positives_11: 1023.0000 - true_negatives_11: 131.0000 - false_positives_11: 945.0000 - false_negatives_11: 62.0000 - val_loss: 0.6669 - val_acc: 0.5294 - val_true_positives_11: 998.0000 - val_true_negatives_11: 146.0000 - val_false_positives_11: 930.0000 - val_false_negatives_11: 87.0000\n",
      "Epoch 8/15\n",
      "68/68 [==============================] - ETA: 0s - loss: 0.6655 - acc: 0.5335 - true_positives_11: 1028.0000 - true_negatives_11: 125.0000 - false_positives_11: 951.0000 - false_negatives_11: 57.0000\n",
      "Epoch 8: saving model to C:/Users/Shounen/Desktop/Ciclo XI/Tesis 2/GPUTesis/Archivos/Modelos\\clasificacion\\TesisDiego\\CLASE_TrainDS_1\\Model_clasificacion_clase_20220424_222643.hdf5\n",
      "68/68 [==============================] - 153s 2s/step - loss: 0.6655 - acc: 0.5335 - true_positives_11: 1028.0000 - true_negatives_11: 125.0000 - false_positives_11: 951.0000 - false_negatives_11: 57.0000 - val_loss: 0.6653 - val_acc: 0.5308 - val_true_positives_11: 1011.0000 - val_true_negatives_11: 136.0000 - val_false_positives_11: 940.0000 - val_false_negatives_11: 74.0000\n",
      "\n"
     ]
    },
    {
     "data": {
      "text/html": [
       "Waiting for W&B process to finish... <strong style=\"color:green\">(success).</strong>"
      ],
      "text/plain": [
       "<IPython.core.display.HTML object>"
      ]
     },
     "metadata": {},
     "output_type": "display_data"
    },
    {
     "data": {
      "application/vnd.jupyter.widget-view+json": {
       "model_id": "",
       "version_major": 2,
       "version_minor": 0
      },
      "text/plain": [
       "VBox(children=(Label(value='0.006 MB of 0.006 MB uploaded (0.000 MB deduped)\\r'), FloatProgress(value=1.0, max…"
      ]
     },
     "metadata": {},
     "output_type": "display_data"
    },
    {
     "data": {
      "text/html": [
       "<style>\n",
       "    table.wandb td:nth-child(1) { padding: 0 10px; text-align: right }\n",
       "    .wandb-row { display: flex; flex-direction: row; flex-wrap: wrap; width: 100% }\n",
       "    .wandb-col { display: flex; flex-direction: column; flex-basis: 100%; flex: 1; padding: 10px; }\n",
       "    </style>\n",
       "<div class=\"wandb-row\"><div class=\"wandb-col\"><h3>Run history:</h3><br/><table class=\"wandb\"><tr><td>acc</td><td>▁▅▆▅▇▇██</td></tr><tr><td>loss</td><td>█▆▄▄▂▂▁▁</td></tr><tr><td>val_FN</td><td>▁█▆▅▄▃▂▁</td></tr><tr><td>val_FP</td><td>█▁▂▄▅▆▆█</td></tr><tr><td>val_TN</td><td>▁█▇▅▄▃▃▁</td></tr><tr><td>val_TP</td><td>█▁▃▄▅▆▇█</td></tr><tr><td>val_acc</td><td>█▁▄▅▆▆▇█</td></tr><tr><td>val_loss</td><td>█▆▅▄▃▂▂▁</td></tr></table><br/></div><div class=\"wandb-col\"><h3>Run summary:</h3><br/><table class=\"wandb\"><tr><td>acc</td><td>0.53355</td></tr><tr><td>loss</td><td>0.66551</td></tr><tr><td>val_FN</td><td>74</td></tr><tr><td>val_FP</td><td>940</td></tr><tr><td>val_TN</td><td>136</td></tr><tr><td>val_TP</td><td>1011</td></tr><tr><td>val_acc</td><td>0.53077</td></tr><tr><td>val_loss</td><td>0.66535</td></tr></table><br/></div></div>"
      ],
      "text/plain": [
       "<IPython.core.display.HTML object>"
      ]
     },
     "metadata": {},
     "output_type": "display_data"
    },
    {
     "data": {
      "text/html": [
       "Synced <strong style=\"color:#cdcd00\">Ex_CLASE_TrainDS_1_(2-6-30)_20220424_222643</strong>: <a href=\"https://wandb.ai/tesis2/TesisDiego-%28clasificacion-clase-2%29/runs/1z20pmyn\" target=\"_blank\">https://wandb.ai/tesis2/TesisDiego-%28clasificacion-clase-2%29/runs/1z20pmyn</a><br/>Synced 6 W&B file(s), 8 media file(s), 8 artifact file(s) and 0 other file(s)"
      ],
      "text/plain": [
       "<IPython.core.display.HTML object>"
      ]
     },
     "metadata": {},
     "output_type": "display_data"
    },
    {
     "data": {
      "text/html": [
       "Find logs at: <code>.\\wandb\\run-20220424_222643-1z20pmyn\\logs</code>"
      ],
      "text/plain": [
       "<IPython.core.display.HTML object>"
      ]
     },
     "metadata": {},
     "output_type": "display_data"
    },
    {
     "name": "stdout",
     "output_type": "stream",
     "text": [
      "--------------------------------------------------\n",
      "Inicio de la prueba N°: 3/6\n",
      "Dataset: C:/Users/Shounen/Desktop/Ciclo XI/Tesis 2/GPUTesis/Archivos/Dataset/SplittedV2/CLASE_TrainDS_1\n",
      "- Batch size:  32\n",
      "Creando modelo con input (30,30,3)) de tipo (clasificacion)\n",
      "Tamaño del dataset: Train 2161  - Val 541\n"
     ]
    },
    {
     "data": {
      "text/html": [
       "wandb version 0.12.15 is available!  To upgrade, please run:\n",
       " $ pip install wandb --upgrade"
      ],
      "text/plain": [
       "<IPython.core.display.HTML object>"
      ]
     },
     "metadata": {},
     "output_type": "display_data"
    },
    {
     "data": {
      "text/html": [
       "Tracking run with wandb version 0.12.11"
      ],
      "text/plain": [
       "<IPython.core.display.HTML object>"
      ]
     },
     "metadata": {},
     "output_type": "display_data"
    },
    {
     "data": {
      "text/html": [
       "Run data is saved locally in <code>C:\\Users\\Shounen\\Desktop\\Ciclo XI\\Tesis 2\\GPUTesis\\Codigo\\Entrenamiento\\Jupyter\\wandb\\run-20220424_224729-33lr5txv</code>"
      ],
      "text/plain": [
       "<IPython.core.display.HTML object>"
      ]
     },
     "metadata": {},
     "output_type": "display_data"
    },
    {
     "data": {
      "text/html": [
       "Syncing run <strong><a href=\"https://wandb.ai/tesis2/TesisDiego-%28clasificacion-clase-2%29/runs/33lr5txv\" target=\"_blank\">Ex_CLASE_TrainDS_1_(3-1-30)_20220424_224729</a></strong> to <a href=\"https://wandb.ai/tesis2/TesisDiego-%28clasificacion-clase-2%29\" target=\"_blank\">Weights & Biases</a> (<a href=\"https://wandb.me/run\" target=\"_blank\">docs</a>)<br/>"
      ],
      "text/plain": [
       "<IPython.core.display.HTML object>"
      ]
     },
     "metadata": {},
     "output_type": "display_data"
    },
    {
     "name": "stdout",
     "output_type": "stream",
     "text": [
      "Epoch 1/15\n",
      "68/68 [==============================] - ETA: 0s - loss: 0.6825 - acc: 0.4891 - true_positives_12: 463.0000 - true_negatives_12: 594.0000 - false_positives_12: 497.0000 - false_negatives_12: 607.0000\n",
      "Epoch 1: saving model to C:/Users/Shounen/Desktop/Ciclo XI/Tesis 2/GPUTesis/Archivos/Modelos\\clasificacion\\TesisDiego\\CLASE_TrainDS_1\\Model_clasificacion_clase_20220424_224729.hdf5\n",
      "68/68 [==============================] - 27s 389ms/step - loss: 0.6825 - acc: 0.4891 - true_positives_12: 463.0000 - true_negatives_12: 594.0000 - false_positives_12: 497.0000 - false_negatives_12: 607.0000 - val_loss: 0.6772 - val_acc: 0.5076 - val_true_positives_12: 908.0000 - val_true_negatives_12: 189.0000 - val_false_positives_12: 902.0000 - val_false_negatives_12: 162.0000\n",
      "Epoch 2/15\n",
      "68/68 [==============================] - ETA: 0s - loss: 0.6765 - acc: 0.5234 - true_positives_12: 660.0000 - true_negatives_12: 471.0000 - false_positives_12: 620.0000 - false_negatives_12: 410.0000\n",
      "Epoch 2: saving model to C:/Users/Shounen/Desktop/Ciclo XI/Tesis 2/GPUTesis/Archivos/Modelos\\clasificacion\\TesisDiego\\CLASE_TrainDS_1\\Model_clasificacion_clase_20220424_224729.hdf5\n",
      "68/68 [==============================] - 26s 377ms/step - loss: 0.6765 - acc: 0.5234 - true_positives_12: 660.0000 - true_negatives_12: 471.0000 - false_positives_12: 620.0000 - false_negatives_12: 410.0000 - val_loss: 0.6734 - val_acc: 0.5164 - val_true_positives_12: 942.0000 - val_true_negatives_12: 174.0000 - val_false_positives_12: 917.0000 - val_false_negatives_12: 128.0000\n",
      "Epoch 3/15\n",
      "68/68 [==============================] - ETA: 0s - loss: 0.6739 - acc: 0.5224 - true_positives_12: 688.0000 - true_negatives_12: 441.0000 - false_positives_12: 650.0000 - false_negatives_12: 382.0000\n",
      "Epoch 3: saving model to C:/Users/Shounen/Desktop/Ciclo XI/Tesis 2/GPUTesis/Archivos/Modelos\\clasificacion\\TesisDiego\\CLASE_TrainDS_1\\Model_clasificacion_clase_20220424_224729.hdf5\n",
      "68/68 [==============================] - 26s 382ms/step - loss: 0.6739 - acc: 0.5224 - true_positives_12: 688.0000 - true_negatives_12: 441.0000 - false_positives_12: 650.0000 - false_negatives_12: 382.0000 - val_loss: 0.6711 - val_acc: 0.5169 - val_true_positives_12: 941.0000 - val_true_negatives_12: 176.0000 - val_false_positives_12: 915.0000 - val_false_negatives_12: 129.0000\n",
      "Epoch 4/15\n",
      "68/68 [==============================] - ETA: 0s - loss: 0.6715 - acc: 0.5349 - true_positives_12: 812.0000 - true_negatives_12: 344.0000 - false_positives_12: 747.0000 - false_negatives_12: 258.0000\n",
      "Epoch 4: saving model to C:/Users/Shounen/Desktop/Ciclo XI/Tesis 2/GPUTesis/Archivos/Modelos\\clasificacion\\TesisDiego\\CLASE_TrainDS_1\\Model_clasificacion_clase_20220424_224729.hdf5\n",
      "68/68 [==============================] - 27s 395ms/step - loss: 0.6715 - acc: 0.5349 - true_positives_12: 812.0000 - true_negatives_12: 344.0000 - false_positives_12: 747.0000 - false_negatives_12: 258.0000 - val_loss: 0.6694 - val_acc: 0.5132 - val_true_positives_12: 927.0000 - val_true_negatives_12: 182.0000 - val_false_positives_12: 909.0000 - val_false_negatives_12: 143.0000\n",
      "Epoch 5/15\n",
      "68/68 [==============================] - ETA: 0s - loss: 0.6697 - acc: 0.5187 - true_positives_12: 882.0000 - true_negatives_12: 239.0000 - false_positives_12: 852.0000 - false_negatives_12: 188.0000\n",
      "Epoch 5: saving model to C:/Users/Shounen/Desktop/Ciclo XI/Tesis 2/GPUTesis/Archivos/Modelos\\clasificacion\\TesisDiego\\CLASE_TrainDS_1\\Model_clasificacion_clase_20220424_224729.hdf5\n",
      "68/68 [==============================] - 26s 381ms/step - loss: 0.6697 - acc: 0.5187 - true_positives_12: 882.0000 - true_negatives_12: 239.0000 - false_positives_12: 852.0000 - false_negatives_12: 188.0000 - val_loss: 0.6676 - val_acc: 0.5146 - val_true_positives_12: 931.0000 - val_true_negatives_12: 181.0000 - val_false_positives_12: 910.0000 - val_false_negatives_12: 139.0000\n",
      "Epoch 6/15\n",
      "68/68 [==============================] - ETA: 0s - loss: 0.6684 - acc: 0.5164 - true_positives_12: 888.0000 - true_negatives_12: 228.0000 - false_positives_12: 863.0000 - false_negatives_12: 182.0000\n",
      "Epoch 6: saving model to C:/Users/Shounen/Desktop/Ciclo XI/Tesis 2/GPUTesis/Archivos/Modelos\\clasificacion\\TesisDiego\\CLASE_TrainDS_1\\Model_clasificacion_clase_20220424_224729.hdf5\n",
      "68/68 [==============================] - 26s 386ms/step - loss: 0.6684 - acc: 0.5164 - true_positives_12: 888.0000 - true_negatives_12: 228.0000 - false_positives_12: 863.0000 - false_negatives_12: 182.0000 - val_loss: 0.6664 - val_acc: 0.5127 - val_true_positives_12: 924.0000 - val_true_negatives_12: 184.0000 - val_false_positives_12: 907.0000 - val_false_negatives_12: 146.0000\n",
      "Epoch 7/15\n",
      "68/68 [==============================] - ETA: 0s - loss: 0.6672 - acc: 0.5211 - true_positives_12: 879.0000 - true_negatives_12: 247.0000 - false_positives_12: 844.0000 - false_negatives_12: 191.0000\n",
      "Epoch 7: saving model to C:/Users/Shounen/Desktop/Ciclo XI/Tesis 2/GPUTesis/Archivos/Modelos\\clasificacion\\TesisDiego\\CLASE_TrainDS_1\\Model_clasificacion_clase_20220424_224729.hdf5\n",
      "68/68 [==============================] - 33s 483ms/step - loss: 0.6672 - acc: 0.5211 - true_positives_12: 879.0000 - true_negatives_12: 247.0000 - false_positives_12: 844.0000 - false_negatives_12: 191.0000 - val_loss: 0.6655 - val_acc: 0.5150 - val_true_positives_12: 934.0000 - val_true_negatives_12: 179.0000 - val_false_positives_12: 912.0000 - val_false_negatives_12: 136.0000\n",
      "Epoch 8/15\n",
      "68/68 [==============================] - ETA: 0s - loss: 0.6671 - acc: 0.5308 - true_positives_12: 866.0000 - true_negatives_12: 281.0000 - false_positives_12: 810.0000 - false_negatives_12: 204.0000\n",
      "Epoch 8: saving model to C:/Users/Shounen/Desktop/Ciclo XI/Tesis 2/GPUTesis/Archivos/Modelos\\clasificacion\\TesisDiego\\CLASE_TrainDS_1\\Model_clasificacion_clase_20220424_224729.hdf5\n",
      "68/68 [==============================] - 26s 383ms/step - loss: 0.6671 - acc: 0.5308 - true_positives_12: 866.0000 - true_negatives_12: 281.0000 - false_positives_12: 810.0000 - false_negatives_12: 204.0000 - val_loss: 0.6646 - val_acc: 0.5150 - val_true_positives_12: 936.0000 - val_true_negatives_12: 177.0000 - val_false_positives_12: 914.0000 - val_false_negatives_12: 134.0000\n",
      "Epoch 9/15\n",
      "68/68 [==============================] - ETA: 0s - loss: 0.6658 - acc: 0.5359 - true_positives_12: 885.0000 - true_negatives_12: 273.0000 - false_positives_12: 818.0000 - false_negatives_12: 185.0000\n",
      "Epoch 9: saving model to C:/Users/Shounen/Desktop/Ciclo XI/Tesis 2/GPUTesis/Archivos/Modelos\\clasificacion\\TesisDiego\\CLASE_TrainDS_1\\Model_clasificacion_clase_20220424_224729.hdf5\n",
      "68/68 [==============================] - 26s 386ms/step - loss: 0.6658 - acc: 0.5359 - true_positives_12: 885.0000 - true_negatives_12: 273.0000 - false_positives_12: 818.0000 - false_negatives_12: 185.0000 - val_loss: 0.6640 - val_acc: 0.5160 - val_true_positives_12: 934.0000 - val_true_negatives_12: 181.0000 - val_false_positives_12: 910.0000 - val_false_negatives_12: 136.0000\n",
      "Epoch 10/15\n",
      "68/68 [==============================] - ETA: 0s - loss: 0.6651 - acc: 0.5215 - true_positives_12: 899.0000 - true_negatives_12: 228.0000 - false_positives_12: 863.0000 - false_negatives_12: 171.0000\n",
      "Epoch 10: saving model to C:/Users/Shounen/Desktop/Ciclo XI/Tesis 2/GPUTesis/Archivos/Modelos\\clasificacion\\TesisDiego\\CLASE_TrainDS_1\\Model_clasificacion_clase_20220424_224729.hdf5\n",
      "68/68 [==============================] - 26s 390ms/step - loss: 0.6651 - acc: 0.5215 - true_positives_12: 899.0000 - true_negatives_12: 228.0000 - false_positives_12: 863.0000 - false_negatives_12: 171.0000 - val_loss: 0.6629 - val_acc: 0.5146 - val_true_positives_12: 932.0000 - val_true_negatives_12: 180.0000 - val_false_positives_12: 911.0000 - val_false_negatives_12: 138.0000\n",
      "\n"
     ]
    },
    {
     "data": {
      "text/html": [
       "Waiting for W&B process to finish... <strong style=\"color:green\">(success).</strong>"
      ],
      "text/plain": [
       "<IPython.core.display.HTML object>"
      ]
     },
     "metadata": {},
     "output_type": "display_data"
    },
    {
     "data": {
      "application/vnd.jupyter.widget-view+json": {
       "model_id": "",
       "version_major": 2,
       "version_minor": 0
      },
      "text/plain": [
       "VBox(children=(Label(value='0.007 MB of 0.007 MB uploaded (0.000 MB deduped)\\r'), FloatProgress(value=0.983720…"
      ]
     },
     "metadata": {},
     "output_type": "display_data"
    },
    {
     "data": {
      "text/html": [
       "<style>\n",
       "    table.wandb td:nth-child(1) { padding: 0 10px; text-align: right }\n",
       "    .wandb-row { display: flex; flex-direction: row; flex-wrap: wrap; width: 100% }\n",
       "    .wandb-col { display: flex; flex-direction: column; flex-basis: 100%; flex: 1; padding: 10px; }\n",
       "    </style>\n",
       "<div class=\"wandb-row\"><div class=\"wandb-col\"><h3>Run history:</h3><br/><table class=\"wandb\"><tr><td>acc</td><td>▁▆▆█▅▅▆▇█▆</td></tr><tr><td>loss</td><td>█▆▅▄▃▂▂▂▁▁</td></tr><tr><td>val_FN</td><td>█▁▁▄▃▅▃▂▃▃</td></tr><tr><td>val_FP</td><td>▁█▇▄▅▃▆▇▅▅</td></tr><tr><td>val_TN</td><td>█▁▂▅▄▆▃▂▄▄</td></tr><tr><td>val_TP</td><td>▁██▅▆▄▆▇▆▆</td></tr><tr><td>val_acc</td><td>▁██▅▆▅▇▇▇▆</td></tr><tr><td>val_loss</td><td>█▆▅▄▃▃▂▂▂▁</td></tr></table><br/></div><div class=\"wandb-col\"><h3>Run summary:</h3><br/><table class=\"wandb\"><tr><td>acc</td><td>0.52152</td></tr><tr><td>loss</td><td>0.66506</td></tr><tr><td>val_FN</td><td>138</td></tr><tr><td>val_FP</td><td>911</td></tr><tr><td>val_TN</td><td>180</td></tr><tr><td>val_TP</td><td>932</td></tr><tr><td>val_acc</td><td>0.51458</td></tr><tr><td>val_loss</td><td>0.66294</td></tr></table><br/></div></div>"
      ],
      "text/plain": [
       "<IPython.core.display.HTML object>"
      ]
     },
     "metadata": {},
     "output_type": "display_data"
    },
    {
     "data": {
      "text/html": [
       "Synced <strong style=\"color:#cdcd00\">Ex_CLASE_TrainDS_1_(3-1-30)_20220424_224729</strong>: <a href=\"https://wandb.ai/tesis2/TesisDiego-%28clasificacion-clase-2%29/runs/33lr5txv\" target=\"_blank\">https://wandb.ai/tesis2/TesisDiego-%28clasificacion-clase-2%29/runs/33lr5txv</a><br/>Synced 6 W&B file(s), 10 media file(s), 10 artifact file(s) and 0 other file(s)"
      ],
      "text/plain": [
       "<IPython.core.display.HTML object>"
      ]
     },
     "metadata": {},
     "output_type": "display_data"
    },
    {
     "data": {
      "text/html": [
       "Find logs at: <code>.\\wandb\\run-20220424_224729-33lr5txv\\logs</code>"
      ],
      "text/plain": [
       "<IPython.core.display.HTML object>"
      ]
     },
     "metadata": {},
     "output_type": "display_data"
    },
    {
     "name": "stdout",
     "output_type": "stream",
     "text": [
      "--------------------------------------------------\n",
      "Inicio de la prueba N°: 4/6\n",
      "Dataset: C:/Users/Shounen/Desktop/Ciclo XI/Tesis 2/GPUTesis/Archivos/Dataset/SplittedV2/CLASE_TrainDS_1\n",
      "- Batch size:  32\n",
      "Creando modelo con input (20,20,2)) de tipo (clasificacion)\n",
      "Tamaño del dataset: Train 2161  - Val 541\n"
     ]
    },
    {
     "data": {
      "text/html": [
       "wandb version 0.12.15 is available!  To upgrade, please run:\n",
       " $ pip install wandb --upgrade"
      ],
      "text/plain": [
       "<IPython.core.display.HTML object>"
      ]
     },
     "metadata": {},
     "output_type": "display_data"
    },
    {
     "data": {
      "text/html": [
       "Tracking run with wandb version 0.12.11"
      ],
      "text/plain": [
       "<IPython.core.display.HTML object>"
      ]
     },
     "metadata": {},
     "output_type": "display_data"
    },
    {
     "data": {
      "text/html": [
       "Run data is saved locally in <code>C:\\Users\\Shounen\\Desktop\\Ciclo XI\\Tesis 2\\GPUTesis\\Codigo\\Entrenamiento\\Jupyter\\wandb\\run-20220424_225214-1n1hbvud</code>"
      ],
      "text/plain": [
       "<IPython.core.display.HTML object>"
      ]
     },
     "metadata": {},
     "output_type": "display_data"
    },
    {
     "data": {
      "text/html": [
       "Syncing run <strong><a href=\"https://wandb.ai/tesis2/TesisDiego-%28clasificacion-clase-2%29/runs/1n1hbvud\" target=\"_blank\">Ex_CLASE_TrainDS_1_(2-1-20)_20220424_225214</a></strong> to <a href=\"https://wandb.ai/tesis2/TesisDiego-%28clasificacion-clase-2%29\" target=\"_blank\">Weights & Biases</a> (<a href=\"https://wandb.me/run\" target=\"_blank\">docs</a>)<br/>"
      ],
      "text/plain": [
       "<IPython.core.display.HTML object>"
      ]
     },
     "metadata": {},
     "output_type": "display_data"
    },
    {
     "name": "stdout",
     "output_type": "stream",
     "text": [
      "Epoch 1/15\n",
      "68/68 [==============================] - ETA: 0s - loss: 0.6822 - acc: 0.5234 - true_positives_13: 810.0000 - true_negatives_13: 321.0000 - false_positives_13: 758.0000 - false_negatives_13: 272.0000\n",
      "Epoch 1: saving model to C:/Users/Shounen/Desktop/Ciclo XI/Tesis 2/GPUTesis/Archivos/Modelos\\clasificacion\\TesisDiego\\CLASE_TrainDS_1\\Model_clasificacion_clase_20220424_225214.hdf5\n",
      "68/68 [==============================] - 27s 385ms/step - loss: 0.6822 - acc: 0.5234 - true_positives_13: 810.0000 - true_negatives_13: 321.0000 - false_positives_13: 758.0000 - false_negatives_13: 272.0000 - val_loss: 0.6762 - val_acc: 0.5507 - val_true_positives_13: 1077.0000 - val_true_negatives_13: 113.0000 - val_false_positives_13: 966.0000 - val_false_negatives_13: 5.0000\n",
      "Epoch 2/15\n",
      "68/68 [==============================] - ETA: 0s - loss: 0.6750 - acc: 0.5326 - true_positives_13: 940.0000 - true_negatives_13: 211.0000 - false_positives_13: 868.0000 - false_negatives_13: 142.0000\n",
      "Epoch 2: saving model to C:/Users/Shounen/Desktop/Ciclo XI/Tesis 2/GPUTesis/Archivos/Modelos\\clasificacion\\TesisDiego\\CLASE_TrainDS_1\\Model_clasificacion_clase_20220424_225214.hdf5\n",
      "68/68 [==============================] - 33s 486ms/step - loss: 0.6750 - acc: 0.5326 - true_positives_13: 940.0000 - true_negatives_13: 211.0000 - false_positives_13: 868.0000 - false_negatives_13: 142.0000 - val_loss: 0.6716 - val_acc: 0.5988 - val_true_positives_13: 707.0000 - val_true_negatives_13: 587.0000 - val_false_positives_13: 492.0000 - val_false_negatives_13: 375.0000\n",
      "Epoch 3/15\n",
      "68/68 [==============================] - ETA: 0s - loss: 0.6732 - acc: 0.5349 - true_positives_13: 708.0000 - true_negatives_13: 448.0000 - false_positives_13: 631.0000 - false_negatives_13: 374.0000\n",
      "Epoch 3: saving model to C:/Users/Shounen/Desktop/Ciclo XI/Tesis 2/GPUTesis/Archivos/Modelos\\clasificacion\\TesisDiego\\CLASE_TrainDS_1\\Model_clasificacion_clase_20220424_225214.hdf5\n",
      "68/68 [==============================] - 26s 380ms/step - loss: 0.6732 - acc: 0.5349 - true_positives_13: 708.0000 - true_negatives_13: 448.0000 - false_positives_13: 631.0000 - false_negatives_13: 374.0000 - val_loss: 0.6706 - val_acc: 0.5988 - val_true_positives_13: 707.0000 - val_true_negatives_13: 587.0000 - val_false_positives_13: 492.0000 - val_false_negatives_13: 375.0000\n",
      "Epoch 4/15\n",
      "67/68 [============================>.] - ETA: 0s - loss: 0.6710 - acc: 0.5317 - true_positives_13: 774.0000 - true_negatives_13: 366.0000 - false_positives_13: 703.0000 - false_negatives_13: 301.0000\n",
      "Epoch 4: saving model to C:/Users/Shounen/Desktop/Ciclo XI/Tesis 2/GPUTesis/Archivos/Modelos\\clasificacion\\TesisDiego\\CLASE_TrainDS_1\\Model_clasificacion_clase_20220424_225214.hdf5\n",
      "68/68 [==============================] - 26s 385ms/step - loss: 0.6712 - acc: 0.5308 - true_positives_13: 780.0000 - true_negatives_13: 367.0000 - false_positives_13: 712.0000 - false_negatives_13: 302.0000 - val_loss: 0.6676 - val_acc: 0.5178 - val_true_positives_13: 893.0000 - val_true_negatives_13: 226.0000 - val_false_positives_13: 853.0000 - val_false_negatives_13: 189.0000\n",
      "Epoch 5/15\n",
      "68/68 [==============================] - ETA: 0s - loss: 0.6689 - acc: 0.5192 - true_positives_13: 837.0000 - true_negatives_13: 285.0000 - false_positives_13: 794.0000 - false_negatives_13: 245.0000\n",
      "Epoch 5: saving model to C:/Users/Shounen/Desktop/Ciclo XI/Tesis 2/GPUTesis/Archivos/Modelos\\clasificacion\\TesisDiego\\CLASE_TrainDS_1\\Model_clasificacion_clase_20220424_225214.hdf5\n",
      "68/68 [==============================] - 26s 383ms/step - loss: 0.6689 - acc: 0.5192 - true_positives_13: 837.0000 - true_negatives_13: 285.0000 - false_positives_13: 794.0000 - false_negatives_13: 245.0000 - val_loss: 0.6666 - val_acc: 0.5220 - val_true_positives_13: 925.0000 - val_true_negatives_13: 203.0000 - val_false_positives_13: 876.0000 - val_false_negatives_13: 157.0000\n",
      "Epoch 6/15\n",
      "68/68 [==============================] - ETA: 0s - loss: 0.6675 - acc: 0.5197 - true_positives_13: 897.0000 - true_negatives_13: 226.0000 - false_positives_13: 853.0000 - false_negatives_13: 185.0000\n",
      "Epoch 6: saving model to C:/Users/Shounen/Desktop/Ciclo XI/Tesis 2/GPUTesis/Archivos/Modelos\\clasificacion\\TesisDiego\\CLASE_TrainDS_1\\Model_clasificacion_clase_20220424_225214.hdf5\n",
      "68/68 [==============================] - 26s 381ms/step - loss: 0.6675 - acc: 0.5197 - true_positives_13: 897.0000 - true_negatives_13: 226.0000 - false_positives_13: 853.0000 - false_negatives_13: 185.0000 - val_loss: 0.6666 - val_acc: 0.5238 - val_true_positives_13: 929.0000 - val_true_negatives_13: 203.0000 - val_false_positives_13: 876.0000 - val_false_negatives_13: 153.0000\n",
      "Epoch 7/15\n",
      "68/68 [==============================] - ETA: 0s - loss: 0.6665 - acc: 0.5220 - true_positives_13: 906.0000 - true_negatives_13: 222.0000 - false_positives_13: 857.0000 - false_negatives_13: 176.0000\n",
      "Epoch 7: saving model to C:/Users/Shounen/Desktop/Ciclo XI/Tesis 2/GPUTesis/Archivos/Modelos\\clasificacion\\TesisDiego\\CLASE_TrainDS_1\\Model_clasificacion_clase_20220424_225214.hdf5\n",
      "68/68 [==============================] - 26s 380ms/step - loss: 0.6665 - acc: 0.5220 - true_positives_13: 906.0000 - true_negatives_13: 222.0000 - false_positives_13: 857.0000 - false_negatives_13: 176.0000 - val_loss: 0.6657 - val_acc: 0.5220 - val_true_positives_13: 925.0000 - val_true_negatives_13: 203.0000 - val_false_positives_13: 876.0000 - val_false_negatives_13: 157.0000\n",
      "Epoch 8/15\n",
      "68/68 [==============================] - ETA: 0s - loss: 0.6660 - acc: 0.5187 - true_positives_13: 905.0000 - true_negatives_13: 216.0000 - false_positives_13: 863.0000 - false_negatives_13: 177.0000\n",
      "Epoch 8: saving model to C:/Users/Shounen/Desktop/Ciclo XI/Tesis 2/GPUTesis/Archivos/Modelos\\clasificacion\\TesisDiego\\CLASE_TrainDS_1\\Model_clasificacion_clase_20220424_225214.hdf5\n",
      "68/68 [==============================] - 26s 378ms/step - loss: 0.6660 - acc: 0.5187 - true_positives_13: 905.0000 - true_negatives_13: 216.0000 - false_positives_13: 863.0000 - false_negatives_13: 177.0000 - val_loss: 0.6652 - val_acc: 0.5220 - val_true_positives_13: 925.0000 - val_true_negatives_13: 203.0000 - val_false_positives_13: 876.0000 - val_false_negatives_13: 157.0000\n",
      "Epoch 9/15\n",
      "68/68 [==============================] - ETA: 0s - loss: 0.6656 - acc: 0.5169 - true_positives_13: 902.0000 - true_negatives_13: 215.0000 - false_positives_13: 864.0000 - false_negatives_13: 180.0000\n",
      "Epoch 9: saving model to C:/Users/Shounen/Desktop/Ciclo XI/Tesis 2/GPUTesis/Archivos/Modelos\\clasificacion\\TesisDiego\\CLASE_TrainDS_1\\Model_clasificacion_clase_20220424_225214.hdf5\n",
      "68/68 [==============================] - 26s 378ms/step - loss: 0.6656 - acc: 0.5169 - true_positives_13: 902.0000 - true_negatives_13: 215.0000 - false_positives_13: 864.0000 - false_negatives_13: 180.0000 - val_loss: 0.6652 - val_acc: 0.5298 - val_true_positives_13: 957.0000 - val_true_negatives_13: 188.0000 - val_false_positives_13: 891.0000 - val_false_negatives_13: 125.0000\n",
      "\n"
     ]
    },
    {
     "data": {
      "text/html": [
       "Waiting for W&B process to finish... <strong style=\"color:green\">(success).</strong>"
      ],
      "text/plain": [
       "<IPython.core.display.HTML object>"
      ]
     },
     "metadata": {},
     "output_type": "display_data"
    },
    {
     "data": {
      "application/vnd.jupyter.widget-view+json": {
       "model_id": "",
       "version_major": 2,
       "version_minor": 0
      },
      "text/plain": [
       "VBox(children=(Label(value='0.005 MB of 0.005 MB uploaded (0.000 MB deduped)\\r'), FloatProgress(value=1.0, max…"
      ]
     },
     "metadata": {},
     "output_type": "display_data"
    },
    {
     "data": {
      "text/html": [
       "<style>\n",
       "    table.wandb td:nth-child(1) { padding: 0 10px; text-align: right }\n",
       "    .wandb-row { display: flex; flex-direction: row; flex-wrap: wrap; width: 100% }\n",
       "    .wandb-col { display: flex; flex-direction: column; flex-basis: 100%; flex: 1; padding: 10px; }\n",
       "    </style>\n",
       "<div class=\"wandb-row\"><div class=\"wandb-col\"><h3>Run history:</h3><br/><table class=\"wandb\"><tr><td>acc</td><td>▄▇█▆▂▂▃▂▁</td></tr><tr><td>loss</td><td>█▅▄▃▂▂▁▁▁</td></tr><tr><td>val_FN</td><td>▁██▄▄▄▄▄▃</td></tr><tr><td>val_FP</td><td>█▁▁▆▇▇▇▇▇</td></tr><tr><td>val_TN</td><td>▁██▃▂▂▂▂▂</td></tr><tr><td>val_TP</td><td>█▁▁▅▅▅▅▅▆</td></tr><tr><td>val_acc</td><td>▄██▁▁▂▁▁▂</td></tr><tr><td>val_loss</td><td>█▅▄▃▂▂▁▁▁</td></tr></table><br/></div><div class=\"wandb-col\"><h3>Run summary:</h3><br/><table class=\"wandb\"><tr><td>acc</td><td>0.51689</td></tr><tr><td>loss</td><td>0.66561</td></tr><tr><td>val_FN</td><td>125</td></tr><tr><td>val_FP</td><td>891</td></tr><tr><td>val_TN</td><td>188</td></tr><tr><td>val_TP</td><td>957</td></tr><tr><td>val_acc</td><td>0.52985</td></tr><tr><td>val_loss</td><td>0.66523</td></tr></table><br/></div></div>"
      ],
      "text/plain": [
       "<IPython.core.display.HTML object>"
      ]
     },
     "metadata": {},
     "output_type": "display_data"
    },
    {
     "data": {
      "text/html": [
       "Synced <strong style=\"color:#cdcd00\">Ex_CLASE_TrainDS_1_(2-1-20)_20220424_225214</strong>: <a href=\"https://wandb.ai/tesis2/TesisDiego-%28clasificacion-clase-2%29/runs/1n1hbvud\" target=\"_blank\">https://wandb.ai/tesis2/TesisDiego-%28clasificacion-clase-2%29/runs/1n1hbvud</a><br/>Synced 6 W&B file(s), 9 media file(s), 6 artifact file(s) and 0 other file(s)"
      ],
      "text/plain": [
       "<IPython.core.display.HTML object>"
      ]
     },
     "metadata": {},
     "output_type": "display_data"
    },
    {
     "data": {
      "text/html": [
       "Find logs at: <code>.\\wandb\\run-20220424_225214-1n1hbvud\\logs</code>"
      ],
      "text/plain": [
       "<IPython.core.display.HTML object>"
      ]
     },
     "metadata": {},
     "output_type": "display_data"
    },
    {
     "name": "stdout",
     "output_type": "stream",
     "text": [
      "--------------------------------------------------\n",
      "Inicio de la prueba N°: 5/6\n",
      "Dataset: C:/Users/Shounen/Desktop/Ciclo XI/Tesis 2/GPUTesis/Archivos/Dataset/SplittedV2/CLASE_TrainDS_1\n",
      "- Batch size:  32\n",
      "Creando modelo con input (20,20,3)) de tipo (clasificacion)\n",
      "Tamaño del dataset: Train 2161  - Val 541\n"
     ]
    },
    {
     "data": {
      "text/html": [
       "wandb version 0.12.15 is available!  To upgrade, please run:\n",
       " $ pip install wandb --upgrade"
      ],
      "text/plain": [
       "<IPython.core.display.HTML object>"
      ]
     },
     "metadata": {},
     "output_type": "display_data"
    },
    {
     "data": {
      "text/html": [
       "Tracking run with wandb version 0.12.11"
      ],
      "text/plain": [
       "<IPython.core.display.HTML object>"
      ]
     },
     "metadata": {},
     "output_type": "display_data"
    },
    {
     "data": {
      "text/html": [
       "Run data is saved locally in <code>C:\\Users\\Shounen\\Desktop\\Ciclo XI\\Tesis 2\\GPUTesis\\Codigo\\Entrenamiento\\Jupyter\\wandb\\run-20220424_225630-235xl2jx</code>"
      ],
      "text/plain": [
       "<IPython.core.display.HTML object>"
      ]
     },
     "metadata": {},
     "output_type": "display_data"
    },
    {
     "data": {
      "text/html": [
       "Syncing run <strong><a href=\"https://wandb.ai/tesis2/TesisDiego-%28clasificacion-clase-2%29/runs/235xl2jx\" target=\"_blank\">Ex_CLASE_TrainDS_1_(3-6-20)_20220424_225630</a></strong> to <a href=\"https://wandb.ai/tesis2/TesisDiego-%28clasificacion-clase-2%29\" target=\"_blank\">Weights & Biases</a> (<a href=\"https://wandb.me/run\" target=\"_blank\">docs</a>)<br/>"
      ],
      "text/plain": [
       "<IPython.core.display.HTML object>"
      ]
     },
     "metadata": {},
     "output_type": "display_data"
    },
    {
     "name": "stdout",
     "output_type": "stream",
     "text": [
      "Epoch 1/15\n",
      "68/68 [==============================] - ETA: 0s - loss: 0.6825 - acc: 0.5215 - true_positives_14: 845.0000 - true_negatives_14: 282.0000 - false_positives_14: 786.0000 - false_negatives_14: 248.0000\n",
      "Epoch 1: saving model to C:/Users/Shounen/Desktop/Ciclo XI/Tesis 2/GPUTesis/Archivos/Modelos\\clasificacion\\TesisDiego\\CLASE_TrainDS_1\\Model_clasificacion_clase_20220424_225630.hdf5\n",
      "68/68 [==============================] - 153s 2s/step - loss: 0.6825 - acc: 0.5215 - true_positives_14: 845.0000 - true_negatives_14: 282.0000 - false_positives_14: 786.0000 - false_negatives_14: 248.0000 - val_loss: 0.6783 - val_acc: 0.5261 - val_true_positives_14: 822.0000 - val_true_negatives_14: 315.0000 - val_false_positives_14: 753.0000 - val_false_negatives_14: 271.0000\n",
      "Epoch 2/15\n",
      "68/68 [==============================] - ETA: 0s - loss: 0.6769 - acc: 0.5303 - true_positives_14: 887.0000 - true_negatives_14: 259.0000 - false_positives_14: 809.0000 - false_negatives_14: 206.0000\n",
      "Epoch 2: saving model to C:/Users/Shounen/Desktop/Ciclo XI/Tesis 2/GPUTesis/Archivos/Modelos\\clasificacion\\TesisDiego\\CLASE_TrainDS_1\\Model_clasificacion_clase_20220424_225630.hdf5\n",
      "68/68 [==============================] - 240s 4s/step - loss: 0.6769 - acc: 0.5303 - true_positives_14: 887.0000 - true_negatives_14: 259.0000 - false_positives_14: 809.0000 - false_negatives_14: 206.0000 - val_loss: 0.6740 - val_acc: 0.5169 - val_true_positives_14: 928.0000 - val_true_negatives_14: 189.0000 - val_false_positives_14: 879.0000 - val_false_negatives_14: 165.0000\n",
      "Epoch 3/15\n",
      "68/68 [==============================] - ETA: 0s - loss: 0.6735 - acc: 0.5303 - true_positives_14: 985.0000 - true_negatives_14: 161.0000 - false_positives_14: 907.0000 - false_negatives_14: 108.0000\n",
      "Epoch 3: saving model to C:/Users/Shounen/Desktop/Ciclo XI/Tesis 2/GPUTesis/Archivos/Modelos\\clasificacion\\TesisDiego\\CLASE_TrainDS_1\\Model_clasificacion_clase_20220424_225630.hdf5\n",
      "68/68 [==============================] - 275s 4s/step - loss: 0.6735 - acc: 0.5303 - true_positives_14: 985.0000 - true_negatives_14: 161.0000 - false_positives_14: 907.0000 - false_negatives_14: 108.0000 - val_loss: 0.6709 - val_acc: 0.5257 - val_true_positives_14: 974.0000 - val_true_negatives_14: 162.0000 - val_false_positives_14: 906.0000 - val_false_negatives_14: 119.0000\n",
      "Epoch 4/15\n",
      "68/68 [==============================] - ETA: 0s - loss: 0.6699 - acc: 0.5312 - true_positives_14: 1003.0000 - true_negatives_14: 145.0000 - false_positives_14: 923.0000 - false_negatives_14: 90.0000\n",
      "Epoch 4: saving model to C:/Users/Shounen/Desktop/Ciclo XI/Tesis 2/GPUTesis/Archivos/Modelos\\clasificacion\\TesisDiego\\CLASE_TrainDS_1\\Model_clasificacion_clase_20220424_225630.hdf5\n",
      "68/68 [==============================] - 254s 4s/step - loss: 0.6699 - acc: 0.5312 - true_positives_14: 1003.0000 - true_negatives_14: 145.0000 - false_positives_14: 923.0000 - false_negatives_14: 90.0000 - val_loss: 0.6677 - val_acc: 0.5266 - val_true_positives_14: 978.0000 - val_true_negatives_14: 160.0000 - val_false_positives_14: 908.0000 - val_false_negatives_14: 115.0000\n",
      "Epoch 5/15\n",
      "68/68 [==============================] - ETA: 0s - loss: 0.6679 - acc: 0.5308 - true_positives_14: 1004.0000 - true_negatives_14: 143.0000 - false_positives_14: 925.0000 - false_negatives_14: 89.0000\n",
      "Epoch 5: saving model to C:/Users/Shounen/Desktop/Ciclo XI/Tesis 2/GPUTesis/Archivos/Modelos\\clasificacion\\TesisDiego\\CLASE_TrainDS_1\\Model_clasificacion_clase_20220424_225630.hdf5\n",
      "68/68 [==============================] - 152s 2s/step - loss: 0.6679 - acc: 0.5308 - true_positives_14: 1004.0000 - true_negatives_14: 143.0000 - false_positives_14: 925.0000 - false_negatives_14: 89.0000 - val_loss: 0.6664 - val_acc: 0.5271 - val_true_positives_14: 980.0000 - val_true_negatives_14: 159.0000 - val_false_positives_14: 909.0000 - val_false_negatives_14: 113.0000\n",
      "Epoch 6/15\n",
      "68/68 [==============================] - ETA: 0s - loss: 0.6662 - acc: 0.5368 - true_positives_14: 1020.0000 - true_negatives_14: 140.0000 - false_positives_14: 928.0000 - false_negatives_14: 73.0000\n",
      "Epoch 6: saving model to C:/Users/Shounen/Desktop/Ciclo XI/Tesis 2/GPUTesis/Archivos/Modelos\\clasificacion\\TesisDiego\\CLASE_TrainDS_1\\Model_clasificacion_clase_20220424_225630.hdf5\n",
      "68/68 [==============================] - 151s 2s/step - loss: 0.6662 - acc: 0.5368 - true_positives_14: 1020.0000 - true_negatives_14: 140.0000 - false_positives_14: 928.0000 - false_negatives_14: 73.0000 - val_loss: 0.6648 - val_acc: 0.5354 - val_true_positives_14: 1015.0000 - val_true_negatives_14: 142.0000 - val_false_positives_14: 926.0000 - val_false_negatives_14: 78.0000\n",
      "Epoch 7/15\n",
      "68/68 [==============================] - ETA: 0s - loss: 0.6654 - acc: 0.5410 - true_positives_14: 1034.0000 - true_negatives_14: 135.0000 - false_positives_14: 933.0000 - false_negatives_14: 59.0000\n",
      "Epoch 7: saving model to C:/Users/Shounen/Desktop/Ciclo XI/Tesis 2/GPUTesis/Archivos/Modelos\\clasificacion\\TesisDiego\\CLASE_TrainDS_1\\Model_clasificacion_clase_20220424_225630.hdf5\n",
      "68/68 [==============================] - 151s 2s/step - loss: 0.6654 - acc: 0.5410 - true_positives_14: 1034.0000 - true_negatives_14: 135.0000 - false_positives_14: 933.0000 - false_negatives_14: 59.0000 - val_loss: 0.6637 - val_acc: 0.5391 - val_true_positives_14: 1033.0000 - val_true_negatives_14: 132.0000 - val_false_positives_14: 936.0000 - val_false_negatives_14: 60.0000\n",
      "Epoch 8/15\n",
      "68/68 [==============================] - ETA: 0s - loss: 0.6643 - acc: 0.5442 - true_positives_14: 1049.0000 - true_negatives_14: 127.0000 - false_positives_14: 941.0000 - false_negatives_14: 44.0000\n",
      "Epoch 8: saving model to C:/Users/Shounen/Desktop/Ciclo XI/Tesis 2/GPUTesis/Archivos/Modelos\\clasificacion\\TesisDiego\\CLASE_TrainDS_1\\Model_clasificacion_clase_20220424_225630.hdf5\n",
      "68/68 [==============================] - 152s 2s/step - loss: 0.6643 - acc: 0.5442 - true_positives_14: 1049.0000 - true_negatives_14: 127.0000 - false_positives_14: 941.0000 - false_negatives_14: 44.0000 - val_loss: 0.6630 - val_acc: 0.5391 - val_true_positives_14: 1034.0000 - val_true_negatives_14: 131.0000 - val_false_positives_14: 937.0000 - val_false_negatives_14: 59.0000\n",
      "Epoch 9/15\n",
      "68/68 [==============================] - ETA: 0s - loss: 0.6635 - acc: 0.5456 - true_positives_14: 1053.0000 - true_negatives_14: 126.0000 - false_positives_14: 942.0000 - false_negatives_14: 40.0000\n",
      "Epoch 9: saving model to C:/Users/Shounen/Desktop/Ciclo XI/Tesis 2/GPUTesis/Archivos/Modelos\\clasificacion\\TesisDiego\\CLASE_TrainDS_1\\Model_clasificacion_clase_20220424_225630.hdf5\n",
      "68/68 [==============================] - 152s 2s/step - loss: 0.6635 - acc: 0.5456 - true_positives_14: 1053.0000 - true_negatives_14: 126.0000 - false_positives_14: 942.0000 - false_negatives_14: 40.0000 - val_loss: 0.6622 - val_acc: 0.5428 - val_true_positives_14: 1045.0000 - val_true_negatives_14: 128.0000 - val_false_positives_14: 940.0000 - val_false_negatives_14: 48.0000\n",
      "Epoch 10/15\n",
      "68/68 [==============================] - ETA: 0s - loss: 0.6633 - acc: 0.5465 - true_positives_14: 1058.0000 - true_negatives_14: 123.0000 - false_positives_14: 945.0000 - false_negatives_14: 35.0000\n",
      "Epoch 10: saving model to C:/Users/Shounen/Desktop/Ciclo XI/Tesis 2/GPUTesis/Archivos/Modelos\\clasificacion\\TesisDiego\\CLASE_TrainDS_1\\Model_clasificacion_clase_20220424_225630.hdf5\n",
      "68/68 [==============================] - 152s 2s/step - loss: 0.6633 - acc: 0.5465 - true_positives_14: 1058.0000 - true_negatives_14: 123.0000 - false_positives_14: 945.0000 - false_negatives_14: 35.0000 - val_loss: 0.6616 - val_acc: 0.5451 - val_true_positives_14: 1050.0000 - val_true_negatives_14: 128.0000 - val_false_positives_14: 940.0000 - val_false_negatives_14: 43.0000\n",
      "Epoch 11/15\n",
      "68/68 [==============================] - ETA: 0s - loss: 0.6625 - acc: 0.5484 - true_positives_14: 1063.0000 - true_negatives_14: 122.0000 - false_positives_14: 946.0000 - false_negatives_14: 30.0000\n",
      "Epoch 11: saving model to C:/Users/Shounen/Desktop/Ciclo XI/Tesis 2/GPUTesis/Archivos/Modelos\\clasificacion\\TesisDiego\\CLASE_TrainDS_1\\Model_clasificacion_clase_20220424_225630.hdf5\n",
      "68/68 [==============================] - 152s 2s/step - loss: 0.6625 - acc: 0.5484 - true_positives_14: 1063.0000 - true_negatives_14: 122.0000 - false_positives_14: 946.0000 - false_negatives_14: 30.0000 - val_loss: 0.6609 - val_acc: 0.5456 - val_true_positives_14: 1054.0000 - val_true_negatives_14: 125.0000 - val_false_positives_14: 943.0000 - val_false_negatives_14: 39.0000\n"
     ]
    },
    {
     "name": "stdout",
     "output_type": "stream",
     "text": [
      "Epoch 12/15\n",
      "68/68 [==============================] - ETA: 0s - loss: 0.6621 - acc: 0.5502 - true_positives_14: 1065.0000 - true_negatives_14: 124.0000 - false_positives_14: 944.0000 - false_negatives_14: 28.0000\n",
      "Epoch 12: saving model to C:/Users/Shounen/Desktop/Ciclo XI/Tesis 2/GPUTesis/Archivos/Modelos\\clasificacion\\TesisDiego\\CLASE_TrainDS_1\\Model_clasificacion_clase_20220424_225630.hdf5\n",
      "68/68 [==============================] - 152s 2s/step - loss: 0.6621 - acc: 0.5502 - true_positives_14: 1065.0000 - true_negatives_14: 124.0000 - false_positives_14: 944.0000 - false_negatives_14: 28.0000 - val_loss: 0.6602 - val_acc: 0.5470 - val_true_positives_14: 1062.0000 - val_true_negatives_14: 120.0000 - val_false_positives_14: 948.0000 - val_false_negatives_14: 31.0000\n",
      "Epoch 13/15\n",
      "68/68 [==============================] - ETA: 0s - loss: 0.6615 - acc: 0.5488 - true_positives_14: 1065.0000 - true_negatives_14: 121.0000 - false_positives_14: 947.0000 - false_negatives_14: 28.0000\n",
      "Epoch 13: saving model to C:/Users/Shounen/Desktop/Ciclo XI/Tesis 2/GPUTesis/Archivos/Modelos\\clasificacion\\TesisDiego\\CLASE_TrainDS_1\\Model_clasificacion_clase_20220424_225630.hdf5\n",
      "68/68 [==============================] - 152s 2s/step - loss: 0.6615 - acc: 0.5488 - true_positives_14: 1065.0000 - true_negatives_14: 121.0000 - false_positives_14: 947.0000 - false_negatives_14: 28.0000 - val_loss: 0.6592 - val_acc: 0.5497 - val_true_positives_14: 1069.0000 - val_true_negatives_14: 119.0000 - val_false_positives_14: 949.0000 - val_false_negatives_14: 24.0000\n",
      "Epoch 14/15\n",
      "68/68 [==============================] - ETA: 0s - loss: 0.6607 - acc: 0.5507 - true_positives_14: 1070.0000 - true_negatives_14: 120.0000 - false_positives_14: 948.0000 - false_negatives_14: 23.0000\n",
      "Epoch 14: saving model to C:/Users/Shounen/Desktop/Ciclo XI/Tesis 2/GPUTesis/Archivos/Modelos\\clasificacion\\TesisDiego\\CLASE_TrainDS_1\\Model_clasificacion_clase_20220424_225630.hdf5\n",
      "68/68 [==============================] - 152s 2s/step - loss: 0.6607 - acc: 0.5507 - true_positives_14: 1070.0000 - true_negatives_14: 120.0000 - false_positives_14: 948.0000 - false_negatives_14: 23.0000 - val_loss: 0.6582 - val_acc: 0.5525 - val_true_positives_14: 1065.0000 - val_true_negatives_14: 129.0000 - val_false_positives_14: 939.0000 - val_false_negatives_14: 28.0000\n",
      "Epoch 15/15\n",
      "68/68 [==============================] - ETA: 0s - loss: 0.6597 - acc: 0.5585 - true_positives_14: 1054.0000 - true_negatives_14: 153.0000 - false_positives_14: 915.0000 - false_negatives_14: 39.0000\n",
      "Epoch 15: saving model to C:/Users/Shounen/Desktop/Ciclo XI/Tesis 2/GPUTesis/Archivos/Modelos\\clasificacion\\TesisDiego\\CLASE_TrainDS_1\\Model_clasificacion_clase_20220424_225630.hdf5\n",
      "68/68 [==============================] - 152s 2s/step - loss: 0.6597 - acc: 0.5585 - true_positives_14: 1054.0000 - true_negatives_14: 153.0000 - false_positives_14: 915.0000 - false_negatives_14: 39.0000 - val_loss: 0.6579 - val_acc: 0.5919 - val_true_positives_14: 935.0000 - val_true_negatives_14: 344.0000 - val_false_positives_14: 724.0000 - val_false_negatives_14: 158.0000\n",
      "\n"
     ]
    },
    {
     "data": {
      "text/html": [
       "Waiting for W&B process to finish... <strong style=\"color:green\">(success).</strong>"
      ],
      "text/plain": [
       "<IPython.core.display.HTML object>"
      ]
     },
     "metadata": {},
     "output_type": "display_data"
    },
    {
     "data": {
      "application/vnd.jupyter.widget-view+json": {
       "model_id": "",
       "version_major": 2,
       "version_minor": 0
      },
      "text/plain": [
       "VBox(children=(Label(value='0.010 MB of 0.010 MB uploaded (0.000 MB deduped)\\r'), FloatProgress(value=1.0, max…"
      ]
     },
     "metadata": {},
     "output_type": "display_data"
    },
    {
     "data": {
      "text/html": [
       "<style>\n",
       "    table.wandb td:nth-child(1) { padding: 0 10px; text-align: right }\n",
       "    .wandb-row { display: flex; flex-direction: row; flex-wrap: wrap; width: 100% }\n",
       "    .wandb-col { display: flex; flex-direction: column; flex-basis: 100%; flex: 1; padding: 10px; }\n",
       "    </style>\n",
       "<div class=\"wandb-row\"><div class=\"wandb-col\"><h3>Run history:</h3><br/><table class=\"wandb\"><tr><td>acc</td><td>▁▃▃▃▃▄▅▅▆▆▆▆▆▇█</td></tr><tr><td>loss</td><td>█▆▅▄▄▃▃▂▂▂▂▂▂▁▁</td></tr><tr><td>val_FN</td><td>█▅▄▄▄▃▂▂▂▂▁▁▁▁▅</td></tr><tr><td>val_FP</td><td>▂▆▇▇▇▇████████▁</td></tr><tr><td>val_TN</td><td>▇▃▂▂▂▂▁▁▁▁▁▁▁▁█</td></tr><tr><td>val_TP</td><td>▁▄▅▅▅▆▇▇▇▇████▄</td></tr><tr><td>val_acc</td><td>▂▁▂▂▂▃▃▃▃▄▄▄▄▄█</td></tr><tr><td>val_loss</td><td>█▇▅▄▄▃▃▃▂▂▂▂▁▁▁</td></tr></table><br/></div><div class=\"wandb-col\"><h3>Run summary:</h3><br/><table class=\"wandb\"><tr><td>acc</td><td>0.55854</td></tr><tr><td>loss</td><td>0.6597</td></tr><tr><td>val_FN</td><td>158</td></tr><tr><td>val_FP</td><td>724</td></tr><tr><td>val_TN</td><td>344</td></tr><tr><td>val_TP</td><td>935</td></tr><tr><td>val_acc</td><td>0.59186</td></tr><tr><td>val_loss</td><td>0.65793</td></tr></table><br/></div></div>"
      ],
      "text/plain": [
       "<IPython.core.display.HTML object>"
      ]
     },
     "metadata": {},
     "output_type": "display_data"
    },
    {
     "data": {
      "text/html": [
       "Synced <strong style=\"color:#cdcd00\">Ex_CLASE_TrainDS_1_(3-6-20)_20220424_225630</strong>: <a href=\"https://wandb.ai/tesis2/TesisDiego-%28clasificacion-clase-2%29/runs/235xl2jx\" target=\"_blank\">https://wandb.ai/tesis2/TesisDiego-%28clasificacion-clase-2%29/runs/235xl2jx</a><br/>Synced 6 W&B file(s), 15 media file(s), 15 artifact file(s) and 0 other file(s)"
      ],
      "text/plain": [
       "<IPython.core.display.HTML object>"
      ]
     },
     "metadata": {},
     "output_type": "display_data"
    },
    {
     "data": {
      "text/html": [
       "Find logs at: <code>.\\wandb\\run-20220424_225630-235xl2jx\\logs</code>"
      ],
      "text/plain": [
       "<IPython.core.display.HTML object>"
      ]
     },
     "metadata": {},
     "output_type": "display_data"
    },
    {
     "name": "stdout",
     "output_type": "stream",
     "text": [
      "--------------------------------------------------\n",
      "Inicio de la prueba N°: 6/6\n",
      "Dataset: C:/Users/Shounen/Desktop/Ciclo XI/Tesis 2/GPUTesis/Archivos/Dataset/SplittedV2/CLASE_TrainDS_1\n",
      "- Batch size:  32\n",
      "Creando modelo con input (20,20,2)) de tipo (clasificacion)\n",
      "Tamaño del dataset: Train 2161  - Val 541\n"
     ]
    },
    {
     "data": {
      "text/html": [
       "wandb version 0.12.15 is available!  To upgrade, please run:\n",
       " $ pip install wandb --upgrade"
      ],
      "text/plain": [
       "<IPython.core.display.HTML object>"
      ]
     },
     "metadata": {},
     "output_type": "display_data"
    },
    {
     "data": {
      "text/html": [
       "Tracking run with wandb version 0.12.11"
      ],
      "text/plain": [
       "<IPython.core.display.HTML object>"
      ]
     },
     "metadata": {},
     "output_type": "display_data"
    },
    {
     "data": {
      "text/html": [
       "Run data is saved locally in <code>C:\\Users\\Shounen\\Desktop\\Ciclo XI\\Tesis 2\\GPUTesis\\Codigo\\Entrenamiento\\Jupyter\\wandb\\run-20220424_234000-3q5gmlv0</code>"
      ],
      "text/plain": [
       "<IPython.core.display.HTML object>"
      ]
     },
     "metadata": {},
     "output_type": "display_data"
    },
    {
     "data": {
      "text/html": [
       "Syncing run <strong><a href=\"https://wandb.ai/tesis2/TesisDiego-%28clasificacion-clase-2%29/runs/3q5gmlv0\" target=\"_blank\">Ex_CLASE_TrainDS_1_(2-6-20)_20220424_234000</a></strong> to <a href=\"https://wandb.ai/tesis2/TesisDiego-%28clasificacion-clase-2%29\" target=\"_blank\">Weights & Biases</a> (<a href=\"https://wandb.me/run\" target=\"_blank\">docs</a>)<br/>"
      ],
      "text/plain": [
       "<IPython.core.display.HTML object>"
      ]
     },
     "metadata": {},
     "output_type": "display_data"
    },
    {
     "name": "stdout",
     "output_type": "stream",
     "text": [
      "Epoch 1/15\n",
      "68/68 [==============================] - ETA: 0s - loss: 0.6816 - acc: 0.5201 - true_positives_15: 887.0000 - true_negatives_15: 237.0000 - false_positives_15: 830.0000 - false_negatives_15: 207.0000\n",
      "Epoch 1: saving model to C:/Users/Shounen/Desktop/Ciclo XI/Tesis 2/GPUTesis/Archivos/Modelos\\clasificacion\\TesisDiego\\CLASE_TrainDS_1\\Model_clasificacion_clase_20220424_234000.hdf5\n",
      "68/68 [==============================] - 153s 2s/step - loss: 0.6816 - acc: 0.5201 - true_positives_15: 887.0000 - true_negatives_15: 237.0000 - false_positives_15: 830.0000 - false_negatives_15: 207.0000 - val_loss: 0.6788 - val_acc: 0.4938 - val_true_positives_15: 0.0000e+00 - val_true_negatives_15: 1067.0000 - val_false_positives_15: 0.0000e+00 - val_false_negatives_15: 1094.0000\n",
      "Epoch 2/15\n",
      "68/68 [==============================] - ETA: 0s - loss: 0.6766 - acc: 0.5294 - true_positives_15: 843.0000 - true_negatives_15: 301.0000 - false_positives_15: 766.0000 - false_negatives_15: 251.0000\n",
      "Epoch 2: saving model to C:/Users/Shounen/Desktop/Ciclo XI/Tesis 2/GPUTesis/Archivos/Modelos\\clasificacion\\TesisDiego\\CLASE_TrainDS_1\\Model_clasificacion_clase_20220424_234000.hdf5\n",
      "68/68 [==============================] - 152s 2s/step - loss: 0.6766 - acc: 0.5294 - true_positives_15: 843.0000 - true_negatives_15: 301.0000 - false_positives_15: 766.0000 - false_negatives_15: 251.0000 - val_loss: 0.6756 - val_acc: 0.5289 - val_true_positives_15: 825.0000 - val_true_negatives_15: 318.0000 - val_false_positives_15: 749.0000 - val_false_negatives_15: 269.0000\n",
      "Epoch 3/15\n",
      "68/68 [==============================] - ETA: 0s - loss: 0.6736 - acc: 0.5294 - true_positives_15: 910.0000 - true_negatives_15: 234.0000 - false_positives_15: 833.0000 - false_negatives_15: 184.0000\n",
      "Epoch 3: saving model to C:/Users/Shounen/Desktop/Ciclo XI/Tesis 2/GPUTesis/Archivos/Modelos\\clasificacion\\TesisDiego\\CLASE_TrainDS_1\\Model_clasificacion_clase_20220424_234000.hdf5\n",
      "68/68 [==============================] - 152s 2s/step - loss: 0.6736 - acc: 0.5294 - true_positives_15: 910.0000 - true_negatives_15: 234.0000 - false_positives_15: 833.0000 - false_negatives_15: 184.0000 - val_loss: 0.6740 - val_acc: 0.5086 - val_true_positives_15: 885.0000 - val_true_negatives_15: 214.0000 - val_false_positives_15: 853.0000 - val_false_negatives_15: 209.0000\n",
      "Epoch 4/15\n",
      "68/68 [==============================] - ETA: 0s - loss: 0.6712 - acc: 0.5354 - true_positives_15: 999.0000 - true_negatives_15: 158.0000 - false_positives_15: 909.0000 - false_negatives_15: 95.0000\n",
      "Epoch 4: saving model to C:/Users/Shounen/Desktop/Ciclo XI/Tesis 2/GPUTesis/Archivos/Modelos\\clasificacion\\TesisDiego\\CLASE_TrainDS_1\\Model_clasificacion_clase_20220424_234000.hdf5\n",
      "68/68 [==============================] - 152s 2s/step - loss: 0.6712 - acc: 0.5354 - true_positives_15: 999.0000 - true_negatives_15: 158.0000 - false_positives_15: 909.0000 - false_negatives_15: 95.0000 - val_loss: 0.6714 - val_acc: 0.5248 - val_true_positives_15: 960.0000 - val_true_negatives_15: 174.0000 - val_false_positives_15: 893.0000 - val_false_negatives_15: 134.0000\n",
      "Epoch 5/15\n",
      "68/68 [==============================] - ETA: 0s - loss: 0.6699 - acc: 0.5368 - true_positives_15: 1011.0000 - true_negatives_15: 149.0000 - false_positives_15: 918.0000 - false_negatives_15: 83.0000\n",
      "Epoch 5: saving model to C:/Users/Shounen/Desktop/Ciclo XI/Tesis 2/GPUTesis/Archivos/Modelos\\clasificacion\\TesisDiego\\CLASE_TrainDS_1\\Model_clasificacion_clase_20220424_234000.hdf5\n",
      "68/68 [==============================] - 152s 2s/step - loss: 0.6699 - acc: 0.5368 - true_positives_15: 1011.0000 - true_negatives_15: 149.0000 - false_positives_15: 918.0000 - false_negatives_15: 83.0000 - val_loss: 0.6707 - val_acc: 0.5257 - val_true_positives_15: 964.0000 - val_true_negatives_15: 172.0000 - val_false_positives_15: 895.0000 - val_false_negatives_15: 130.0000\n",
      "Epoch 6/15\n",
      "68/68 [==============================] - ETA: 0s - loss: 0.6692 - acc: 0.5396 - true_positives_15: 1022.0000 - true_negatives_15: 144.0000 - false_positives_15: 923.0000 - false_negatives_15: 72.0000\n",
      "Epoch 6: saving model to C:/Users/Shounen/Desktop/Ciclo XI/Tesis 2/GPUTesis/Archivos/Modelos\\clasificacion\\TesisDiego\\CLASE_TrainDS_1\\Model_clasificacion_clase_20220424_234000.hdf5\n",
      "68/68 [==============================] - 152s 2s/step - loss: 0.6692 - acc: 0.5396 - true_positives_15: 1022.0000 - true_negatives_15: 144.0000 - false_positives_15: 923.0000 - false_negatives_15: 72.0000 - val_loss: 0.6680 - val_acc: 0.5326 - val_true_positives_15: 1010.0000 - val_true_negatives_15: 141.0000 - val_false_positives_15: 926.0000 - val_false_negatives_15: 84.0000\n",
      "Epoch 7/15\n",
      "68/68 [==============================] - ETA: 0s - loss: 0.6677 - acc: 0.5419 - true_positives_15: 1031.0000 - true_negatives_15: 140.0000 - false_positives_15: 927.0000 - false_negatives_15: 63.0000\n",
      "Epoch 7: saving model to C:/Users/Shounen/Desktop/Ciclo XI/Tesis 2/GPUTesis/Archivos/Modelos\\clasificacion\\TesisDiego\\CLASE_TrainDS_1\\Model_clasificacion_clase_20220424_234000.hdf5\n",
      "68/68 [==============================] - 152s 2s/step - loss: 0.6677 - acc: 0.5419 - true_positives_15: 1031.0000 - true_negatives_15: 140.0000 - false_positives_15: 927.0000 - false_negatives_15: 63.0000 - val_loss: 0.6677 - val_acc: 0.5317 - val_true_positives_15: 1012.0000 - val_true_negatives_15: 137.0000 - val_false_positives_15: 930.0000 - val_false_negatives_15: 82.0000\n",
      "Epoch 8/15\n",
      "68/68 [==============================] - ETA: 0s - loss: 0.6672 - acc: 0.5410 - true_positives_15: 1044.0000 - true_negatives_15: 125.0000 - false_positives_15: 942.0000 - false_negatives_15: 50.0000\n",
      "Epoch 8: saving model to C:/Users/Shounen/Desktop/Ciclo XI/Tesis 2/GPUTesis/Archivos/Modelos\\clasificacion\\TesisDiego\\CLASE_TrainDS_1\\Model_clasificacion_clase_20220424_234000.hdf5\n",
      "68/68 [==============================] - 160s 2s/step - loss: 0.6672 - acc: 0.5410 - true_positives_15: 1044.0000 - true_negatives_15: 125.0000 - false_positives_15: 942.0000 - false_negatives_15: 50.0000 - val_loss: 0.6667 - val_acc: 0.5308 - val_true_positives_15: 1012.0000 - val_true_negatives_15: 135.0000 - val_false_positives_15: 932.0000 - val_false_negatives_15: 82.0000\n",
      "Epoch 9/15\n",
      "68/68 [==============================] - ETA: 0s - loss: 0.6665 - acc: 0.5419 - true_positives_15: 1049.0000 - true_negatives_15: 122.0000 - false_positives_15: 945.0000 - false_negatives_15: 45.0000\n",
      "Epoch 9: saving model to C:/Users/Shounen/Desktop/Ciclo XI/Tesis 2/GPUTesis/Archivos/Modelos\\clasificacion\\TesisDiego\\CLASE_TrainDS_1\\Model_clasificacion_clase_20220424_234000.hdf5\n",
      "68/68 [==============================] - 277s 4s/step - loss: 0.6665 - acc: 0.5419 - true_positives_15: 1049.0000 - true_negatives_15: 122.0000 - false_positives_15: 945.0000 - false_negatives_15: 45.0000 - val_loss: 0.6663 - val_acc: 0.5312 - val_true_positives_15: 1014.0000 - val_true_negatives_15: 134.0000 - val_false_positives_15: 933.0000 - val_false_negatives_15: 80.0000\n",
      "Epoch 10/15\n",
      "68/68 [==============================] - ETA: 0s - loss: 0.6661 - acc: 0.5428 - true_positives_15: 1054.0000 - true_negatives_15: 119.0000 - false_positives_15: 948.0000 - false_negatives_15: 40.0000\n",
      "Epoch 10: saving model to C:/Users/Shounen/Desktop/Ciclo XI/Tesis 2/GPUTesis/Archivos/Modelos\\clasificacion\\TesisDiego\\CLASE_TrainDS_1\\Model_clasificacion_clase_20220424_234000.hdf5\n",
      "68/68 [==============================] - 196s 3s/step - loss: 0.6661 - acc: 0.5428 - true_positives_15: 1054.0000 - true_negatives_15: 119.0000 - false_positives_15: 948.0000 - false_negatives_15: 40.0000 - val_loss: 0.6652 - val_acc: 0.5368 - val_true_positives_15: 1032.0000 - val_true_negatives_15: 128.0000 - val_false_positives_15: 939.0000 - val_false_negatives_15: 62.0000\n",
      "Epoch 11/15\n",
      "68/68 [==============================] - ETA: 0s - loss: 0.6653 - acc: 0.5433 - true_positives_15: 1057.0000 - true_negatives_15: 117.0000 - false_positives_15: 950.0000 - false_negatives_15: 37.0000\n",
      "Epoch 11: saving model to C:/Users/Shounen/Desktop/Ciclo XI/Tesis 2/GPUTesis/Archivos/Modelos\\clasificacion\\TesisDiego\\CLASE_TrainDS_1\\Model_clasificacion_clase_20220424_234000.hdf5\n",
      "68/68 [==============================] - 253s 4s/step - loss: 0.6653 - acc: 0.5433 - true_positives_15: 1057.0000 - true_negatives_15: 117.0000 - false_positives_15: 950.0000 - false_negatives_15: 37.0000 - val_loss: 0.6648 - val_acc: 0.5368 - val_true_positives_15: 1037.0000 - val_true_negatives_15: 123.0000 - val_false_positives_15: 944.0000 - val_false_negatives_15: 57.0000\n"
     ]
    },
    {
     "name": "stdout",
     "output_type": "stream",
     "text": [
      "Epoch 12/15\n",
      "68/68 [==============================] - ETA: 0s - loss: 0.6650 - acc: 0.5447 - true_positives_15: 1066.0000 - true_negatives_15: 111.0000 - false_positives_15: 956.0000 - false_negatives_15: 28.0000\n",
      "Epoch 12: saving model to C:/Users/Shounen/Desktop/Ciclo XI/Tesis 2/GPUTesis/Archivos/Modelos\\clasificacion\\TesisDiego\\CLASE_TrainDS_1\\Model_clasificacion_clase_20220424_234000.hdf5\n",
      "68/68 [==============================] - 251s 4s/step - loss: 0.6650 - acc: 0.5447 - true_positives_15: 1066.0000 - true_negatives_15: 111.0000 - false_positives_15: 956.0000 - false_negatives_15: 28.0000 - val_loss: 0.6640 - val_acc: 0.5433 - val_true_positives_15: 1054.0000 - val_true_negatives_15: 120.0000 - val_false_positives_15: 947.0000 - val_false_negatives_15: 40.0000\n",
      "Epoch 13/15\n",
      "68/68 [==============================] - ETA: 0s - loss: 0.6644 - acc: 0.5465 - true_positives_15: 1067.0000 - true_negatives_15: 114.0000 - false_positives_15: 953.0000 - false_negatives_15: 27.0000\n",
      "Epoch 13: saving model to C:/Users/Shounen/Desktop/Ciclo XI/Tesis 2/GPUTesis/Archivos/Modelos\\clasificacion\\TesisDiego\\CLASE_TrainDS_1\\Model_clasificacion_clase_20220424_234000.hdf5\n",
      "68/68 [==============================] - 210s 3s/step - loss: 0.6644 - acc: 0.5465 - true_positives_15: 1067.0000 - true_negatives_15: 114.0000 - false_positives_15: 953.0000 - false_negatives_15: 27.0000 - val_loss: 0.6638 - val_acc: 0.5433 - val_true_positives_15: 1054.0000 - val_true_negatives_15: 120.0000 - val_false_positives_15: 947.0000 - val_false_negatives_15: 40.0000\n",
      "Epoch 14/15\n",
      "68/68 [==============================] - ETA: 0s - loss: 0.6645 - acc: 0.5460 - true_positives_15: 1072.0000 - true_negatives_15: 108.0000 - false_positives_15: 959.0000 - false_negatives_15: 22.0000\n",
      "Epoch 14: saving model to C:/Users/Shounen/Desktop/Ciclo XI/Tesis 2/GPUTesis/Archivos/Modelos\\clasificacion\\TesisDiego\\CLASE_TrainDS_1\\Model_clasificacion_clase_20220424_234000.hdf5\n",
      "68/68 [==============================] - 285s 4s/step - loss: 0.6645 - acc: 0.5460 - true_positives_15: 1072.0000 - true_negatives_15: 108.0000 - false_positives_15: 959.0000 - false_negatives_15: 22.0000 - val_loss: 0.6632 - val_acc: 0.5470 - val_true_positives_15: 1068.0000 - val_true_negatives_15: 114.0000 - val_false_positives_15: 953.0000 - val_false_negatives_15: 26.0000\n",
      "Epoch 15/15\n",
      "68/68 [==============================] - ETA: 0s - loss: 0.6636 - acc: 0.5465 - true_positives_15: 1074.0000 - true_negatives_15: 107.0000 - false_positives_15: 960.0000 - false_negatives_15: 20.0000\n",
      "Epoch 15: saving model to C:/Users/Shounen/Desktop/Ciclo XI/Tesis 2/GPUTesis/Archivos/Modelos\\clasificacion\\TesisDiego\\CLASE_TrainDS_1\\Model_clasificacion_clase_20220424_234000.hdf5\n",
      "68/68 [==============================] - 161s 2s/step - loss: 0.6636 - acc: 0.5465 - true_positives_15: 1074.0000 - true_negatives_15: 107.0000 - false_positives_15: 960.0000 - false_negatives_15: 20.0000 - val_loss: 0.6626 - val_acc: 0.5470 - val_true_positives_15: 1071.0000 - val_true_negatives_15: 111.0000 - val_false_positives_15: 956.0000 - val_false_negatives_15: 23.0000\n",
      "\n"
     ]
    },
    {
     "data": {
      "text/html": [
       "Waiting for W&B process to finish... <strong style=\"color:green\">(success).</strong>"
      ],
      "text/plain": [
       "<IPython.core.display.HTML object>"
      ]
     },
     "metadata": {},
     "output_type": "display_data"
    },
    {
     "data": {
      "application/vnd.jupyter.widget-view+json": {
       "model_id": "",
       "version_major": 2,
       "version_minor": 0
      },
      "text/plain": [
       "VBox(children=(Label(value='0.010 MB of 0.010 MB uploaded (0.000 MB deduped)\\r'), FloatProgress(value=1.0, max…"
      ]
     },
     "metadata": {},
     "output_type": "display_data"
    },
    {
     "data": {
      "text/html": [
       "<style>\n",
       "    table.wandb td:nth-child(1) { padding: 0 10px; text-align: right }\n",
       "    .wandb-row { display: flex; flex-direction: row; flex-wrap: wrap; width: 100% }\n",
       "    .wandb-col { display: flex; flex-direction: column; flex-basis: 100%; flex: 1; padding: 10px; }\n",
       "    </style>\n",
       "<div class=\"wandb-row\"><div class=\"wandb-col\"><h3>Run history:</h3><br/><table class=\"wandb\"><tr><td>acc</td><td>▁▃▃▅▅▆▇▇▇▇▇████</td></tr><tr><td>loss</td><td>█▆▅▄▃▃▃▂▂▂▂▂▁▁▁</td></tr><tr><td>val_FN</td><td>█▃▂▂▂▁▁▁▁▁▁▁▁▁▁</td></tr><tr><td>val_FP</td><td>▁▆▇████████████</td></tr><tr><td>val_TN</td><td>█▃▂▁▁▁▁▁▁▁▁▁▁▁▁</td></tr><tr><td>val_TP</td><td>▁▆▇▇▇██████████</td></tr><tr><td>val_acc</td><td>▁▆▃▅▅▆▆▆▆▇▇████</td></tr><tr><td>val_loss</td><td>█▇▆▅▅▃▃▃▃▂▂▂▂▁▁</td></tr></table><br/></div><div class=\"wandb-col\"><h3>Run summary:</h3><br/><table class=\"wandb\"><tr><td>acc</td><td>0.54651</td></tr><tr><td>loss</td><td>0.66356</td></tr><tr><td>val_FN</td><td>23</td></tr><tr><td>val_FP</td><td>956</td></tr><tr><td>val_TN</td><td>111</td></tr><tr><td>val_TP</td><td>1071</td></tr><tr><td>val_acc</td><td>0.54697</td></tr><tr><td>val_loss</td><td>0.66258</td></tr></table><br/></div></div>"
      ],
      "text/plain": [
       "<IPython.core.display.HTML object>"
      ]
     },
     "metadata": {},
     "output_type": "display_data"
    },
    {
     "data": {
      "text/html": [
       "Synced <strong style=\"color:#cdcd00\">Ex_CLASE_TrainDS_1_(2-6-20)_20220424_234000</strong>: <a href=\"https://wandb.ai/tesis2/TesisDiego-%28clasificacion-clase-2%29/runs/3q5gmlv0\" target=\"_blank\">https://wandb.ai/tesis2/TesisDiego-%28clasificacion-clase-2%29/runs/3q5gmlv0</a><br/>Synced 6 W&B file(s), 15 media file(s), 14 artifact file(s) and 0 other file(s)"
      ],
      "text/plain": [
       "<IPython.core.display.HTML object>"
      ]
     },
     "metadata": {},
     "output_type": "display_data"
    },
    {
     "data": {
      "text/html": [
       "Find logs at: <code>.\\wandb\\run-20220424_234000-3q5gmlv0\\logs</code>"
      ],
      "text/plain": [
       "<IPython.core.display.HTML object>"
      ]
     },
     "metadata": {},
     "output_type": "display_data"
    },
    {
     "name": "stdout",
     "output_type": "stream",
     "text": [
      "--------------------------------------------------\n",
      "Inicio de la prueba N°: 1/6\n",
      "Dataset: C:/Users/Shounen/Desktop/Ciclo XI/Tesis 2/GPUTesis/Archivos/Dataset/SplittedV2/CLASE_TrainDS_10\n",
      "- Batch size:  32\n",
      "Creando modelo con input (30,30,3)) de tipo (clasificacion)\n",
      "Tamaño del dataset: Train 2161  - Val 541\n"
     ]
    },
    {
     "data": {
      "text/html": [
       "wandb version 0.12.15 is available!  To upgrade, please run:\n",
       " $ pip install wandb --upgrade"
      ],
      "text/plain": [
       "<IPython.core.display.HTML object>"
      ]
     },
     "metadata": {},
     "output_type": "display_data"
    },
    {
     "data": {
      "text/html": [
       "Tracking run with wandb version 0.12.11"
      ],
      "text/plain": [
       "<IPython.core.display.HTML object>"
      ]
     },
     "metadata": {},
     "output_type": "display_data"
    },
    {
     "data": {
      "text/html": [
       "Run data is saved locally in <code>C:\\Users\\Shounen\\Desktop\\Ciclo XI\\Tesis 2\\GPUTesis\\Codigo\\Entrenamiento\\Jupyter\\wandb\\run-20220425_094958-1esxbac0</code>"
      ],
      "text/plain": [
       "<IPython.core.display.HTML object>"
      ]
     },
     "metadata": {},
     "output_type": "display_data"
    },
    {
     "data": {
      "text/html": [
       "Syncing run <strong><a href=\"https://wandb.ai/tesis2/TesisDiego-%28clasificacion-clase-2%29/runs/1esxbac0\" target=\"_blank\">Ex_CLASE_TrainDS_10_(3-6-30)_20220425_094958</a></strong> to <a href=\"https://wandb.ai/tesis2/TesisDiego-%28clasificacion-clase-2%29\" target=\"_blank\">Weights & Biases</a> (<a href=\"https://wandb.me/run\" target=\"_blank\">docs</a>)<br/>"
      ],
      "text/plain": [
       "<IPython.core.display.HTML object>"
      ]
     },
     "metadata": {},
     "output_type": "display_data"
    },
    {
     "name": "stdout",
     "output_type": "stream",
     "text": [
      "Epoch 1/15\n",
      "68/68 [==============================] - ETA: 0s - loss: 0.6813 - acc: 0.5585 - true_positives_16: 719.0000 - true_negatives_16: 488.0000 - false_positives_16: 602.0000 - false_negatives_16: 352.0000\n",
      "Epoch 1: saving model to C:/Users/Shounen/Desktop/Ciclo XI/Tesis 2/GPUTesis/Archivos/Modelos\\clasificacion\\TesisDiego\\CLASE_TrainDS_10\\Model_clasificacion_clase_20220425_094958.hdf5\n",
      "68/68 [==============================] - 179s 3s/step - loss: 0.6813 - acc: 0.5585 - true_positives_16: 719.0000 - true_negatives_16: 488.0000 - false_positives_16: 602.0000 - false_negatives_16: 352.0000 - val_loss: 0.6753 - val_acc: 0.7163 - val_true_positives_16: 582.0000 - val_true_negatives_16: 966.0000 - val_false_positives_16: 124.0000 - val_false_negatives_16: 489.0000\n",
      "Epoch 2/15\n",
      "68/68 [==============================] - ETA: 0s - loss: 0.6705 - acc: 0.6789 - true_positives_16: 774.0000 - true_negatives_16: 693.0000 - false_positives_16: 397.0000 - false_negatives_16: 297.0000\n",
      "Epoch 2: saving model to C:/Users/Shounen/Desktop/Ciclo XI/Tesis 2/GPUTesis/Archivos/Modelos\\clasificacion\\TesisDiego\\CLASE_TrainDS_10\\Model_clasificacion_clase_20220425_094958.hdf5\n",
      "68/68 [==============================] - 293s 4s/step - loss: 0.6705 - acc: 0.6789 - true_positives_16: 774.0000 - true_negatives_16: 693.0000 - false_positives_16: 397.0000 - false_negatives_16: 297.0000 - val_loss: 0.6636 - val_acc: 0.7173 - val_true_positives_16: 574.0000 - val_true_negatives_16: 976.0000 - val_false_positives_16: 114.0000 - val_false_negatives_16: 497.0000\n",
      "Epoch 3/15\n",
      "68/68 [==============================] - ETA: 0s - loss: 0.6530 - acc: 0.7163 - true_positives_16: 708.0000 - true_negatives_16: 840.0000 - false_positives_16: 250.0000 - false_negatives_16: 363.0000\n",
      "Epoch 3: saving model to C:/Users/Shounen/Desktop/Ciclo XI/Tesis 2/GPUTesis/Archivos/Modelos\\clasificacion\\TesisDiego\\CLASE_TrainDS_10\\Model_clasificacion_clase_20220425_094958.hdf5\n",
      "68/68 [==============================] - 154s 2s/step - loss: 0.6530 - acc: 0.7163 - true_positives_16: 708.0000 - true_negatives_16: 840.0000 - false_positives_16: 250.0000 - false_negatives_16: 363.0000 - val_loss: 0.6390 - val_acc: 0.7552 - val_true_positives_16: 742.0000 - val_true_negatives_16: 890.0000 - val_false_positives_16: 200.0000 - val_false_negatives_16: 329.0000\n",
      "Epoch 4/15\n",
      "68/68 [==============================] - ETA: 0s - loss: 0.6207 - acc: 0.7159 - true_positives_16: 687.0000 - true_negatives_16: 860.0000 - false_positives_16: 230.0000 - false_negatives_16: 384.0000\n",
      "Epoch 4: saving model to C:/Users/Shounen/Desktop/Ciclo XI/Tesis 2/GPUTesis/Archivos/Modelos\\clasificacion\\TesisDiego\\CLASE_TrainDS_10\\Model_clasificacion_clase_20220425_094958.hdf5\n",
      "68/68 [==============================] - 153s 2s/step - loss: 0.6207 - acc: 0.7159 - true_positives_16: 687.0000 - true_negatives_16: 860.0000 - false_positives_16: 230.0000 - false_negatives_16: 384.0000 - val_loss: 0.5971 - val_acc: 0.7631 - val_true_positives_16: 783.0000 - val_true_negatives_16: 866.0000 - val_false_positives_16: 224.0000 - val_false_negatives_16: 288.0000\n",
      "Epoch 5/15\n",
      "68/68 [==============================] - ETA: 0s - loss: 0.5803 - acc: 0.7302 - true_positives_16: 692.0000 - true_negatives_16: 886.0000 - false_positives_16: 204.0000 - false_negatives_16: 379.0000\n",
      "Epoch 5: saving model to C:/Users/Shounen/Desktop/Ciclo XI/Tesis 2/GPUTesis/Archivos/Modelos\\clasificacion\\TesisDiego\\CLASE_TrainDS_10\\Model_clasificacion_clase_20220425_094958.hdf5\n",
      "68/68 [==============================] - 155s 2s/step - loss: 0.5803 - acc: 0.7302 - true_positives_16: 692.0000 - true_negatives_16: 886.0000 - false_positives_16: 204.0000 - false_negatives_16: 379.0000 - val_loss: 0.5561 - val_acc: 0.7645 - val_true_positives_16: 783.0000 - val_true_negatives_16: 869.0000 - val_false_positives_16: 221.0000 - val_false_negatives_16: 288.0000\n",
      "Epoch 6/15\n",
      "68/68 [==============================] - ETA: 0s - loss: 0.5428 - acc: 0.7381 - true_positives_16: 714.0000 - true_negatives_16: 881.0000 - false_positives_16: 209.0000 - false_negatives_16: 357.0000\n",
      "Epoch 6: saving model to C:/Users/Shounen/Desktop/Ciclo XI/Tesis 2/GPUTesis/Archivos/Modelos\\clasificacion\\TesisDiego\\CLASE_TrainDS_10\\Model_clasificacion_clase_20220425_094958.hdf5\n",
      "68/68 [==============================] - 154s 2s/step - loss: 0.5428 - acc: 0.7381 - true_positives_16: 714.0000 - true_negatives_16: 881.0000 - false_positives_16: 209.0000 - false_negatives_16: 357.0000 - val_loss: 0.5233 - val_acc: 0.7645 - val_true_positives_16: 783.0000 - val_true_negatives_16: 869.0000 - val_false_positives_16: 221.0000 - val_false_negatives_16: 288.0000\n",
      "Epoch 7/15\n",
      "68/68 [==============================] - ETA: 0s - loss: 0.5148 - acc: 0.7608 - true_positives_16: 780.0000 - true_negatives_16: 864.0000 - false_positives_16: 226.0000 - false_negatives_16: 291.0000\n",
      "Epoch 7: saving model to C:/Users/Shounen/Desktop/Ciclo XI/Tesis 2/GPUTesis/Archivos/Modelos\\clasificacion\\TesisDiego\\CLASE_TrainDS_10\\Model_clasificacion_clase_20220425_094958.hdf5\n",
      "68/68 [==============================] - 158s 2s/step - loss: 0.5148 - acc: 0.7608 - true_positives_16: 780.0000 - true_negatives_16: 864.0000 - false_positives_16: 226.0000 - false_negatives_16: 291.0000 - val_loss: 0.5005 - val_acc: 0.7654 - val_true_positives_16: 783.0000 - val_true_negatives_16: 871.0000 - val_false_positives_16: 219.0000 - val_false_negatives_16: 288.0000\n",
      "Epoch 8/15\n",
      "68/68 [==============================] - ETA: 0s - loss: 0.4971 - acc: 0.7635 - true_positives_16: 783.0000 - true_negatives_16: 867.0000 - false_positives_16: 223.0000 - false_negatives_16: 288.0000\n",
      "Epoch 8: saving model to C:/Users/Shounen/Desktop/Ciclo XI/Tesis 2/GPUTesis/Archivos/Modelos\\clasificacion\\TesisDiego\\CLASE_TrainDS_10\\Model_clasificacion_clase_20220425_094958.hdf5\n",
      "68/68 [==============================] - 156s 2s/step - loss: 0.4971 - acc: 0.7635 - true_positives_16: 783.0000 - true_negatives_16: 867.0000 - false_positives_16: 223.0000 - false_negatives_16: 288.0000 - val_loss: 0.4845 - val_acc: 0.7654 - val_true_positives_16: 783.0000 - val_true_negatives_16: 871.0000 - val_false_positives_16: 219.0000 - val_false_negatives_16: 288.0000\n",
      "Epoch 9/15\n",
      "68/68 [==============================] - ETA: 0s - loss: 0.4845 - acc: 0.7649 - true_positives_16: 783.0000 - true_negatives_16: 870.0000 - false_positives_16: 220.0000 - false_negatives_16: 288.0000\n",
      "Epoch 9: saving model to C:/Users/Shounen/Desktop/Ciclo XI/Tesis 2/GPUTesis/Archivos/Modelos\\clasificacion\\TesisDiego\\CLASE_TrainDS_10\\Model_clasificacion_clase_20220425_094958.hdf5\n",
      "68/68 [==============================] - 157s 2s/step - loss: 0.4845 - acc: 0.7649 - true_positives_16: 783.0000 - true_negatives_16: 870.0000 - false_positives_16: 220.0000 - false_negatives_16: 288.0000 - val_loss: 0.4748 - val_acc: 0.7654 - val_true_positives_16: 783.0000 - val_true_negatives_16: 871.0000 - val_false_positives_16: 219.0000 - val_false_negatives_16: 288.0000\n",
      "Epoch 10/15\n",
      "68/68 [==============================] - ETA: 0s - loss: 0.4759 - acc: 0.7649 - true_positives_16: 783.0000 - true_negatives_16: 870.0000 - false_positives_16: 220.0000 - false_negatives_16: 288.0000\n",
      "Epoch 10: saving model to C:/Users/Shounen/Desktop/Ciclo XI/Tesis 2/GPUTesis/Archivos/Modelos\\clasificacion\\TesisDiego\\CLASE_TrainDS_10\\Model_clasificacion_clase_20220425_094958.hdf5\n",
      "68/68 [==============================] - 157s 2s/step - loss: 0.4759 - acc: 0.7649 - true_positives_16: 783.0000 - true_negatives_16: 870.0000 - false_positives_16: 220.0000 - false_negatives_16: 288.0000 - val_loss: 0.4683 - val_acc: 0.7668 - val_true_positives_16: 783.0000 - val_true_negatives_16: 874.0000 - val_false_positives_16: 216.0000 - val_false_negatives_16: 288.0000\n",
      "Epoch 11/15\n",
      "68/68 [==============================] - ETA: 0s - loss: 0.4698 - acc: 0.7649 - true_positives_16: 783.0000 - true_negatives_16: 870.0000 - false_positives_16: 220.0000 - false_negatives_16: 288.0000\n",
      "Epoch 11: saving model to C:/Users/Shounen/Desktop/Ciclo XI/Tesis 2/GPUTesis/Archivos/Modelos\\clasificacion\\TesisDiego\\CLASE_TrainDS_10\\Model_clasificacion_clase_20220425_094958.hdf5\n",
      "68/68 [==============================] - 196s 3s/step - loss: 0.4698 - acc: 0.7649 - true_positives_16: 783.0000 - true_negatives_16: 870.0000 - false_positives_16: 220.0000 - false_negatives_16: 288.0000 - val_loss: 0.4633 - val_acc: 0.7668 - val_true_positives_16: 783.0000 - val_true_negatives_16: 874.0000 - val_false_positives_16: 216.0000 - val_false_negatives_16: 288.0000\n"
     ]
    },
    {
     "name": "stdout",
     "output_type": "stream",
     "text": [
      "Epoch 12/15\n",
      "68/68 [==============================] - ETA: 0s - loss: 0.4652 - acc: 0.7658 - true_positives_16: 783.0000 - true_negatives_16: 872.0000 - false_positives_16: 218.0000 - false_negatives_16: 288.0000\n",
      "Epoch 12: saving model to C:/Users/Shounen/Desktop/Ciclo XI/Tesis 2/GPUTesis/Archivos/Modelos\\clasificacion\\TesisDiego\\CLASE_TrainDS_10\\Model_clasificacion_clase_20220425_094958.hdf5\n",
      "68/68 [==============================] - 261s 4s/step - loss: 0.4652 - acc: 0.7658 - true_positives_16: 783.0000 - true_negatives_16: 872.0000 - false_positives_16: 218.0000 - false_negatives_16: 288.0000 - val_loss: 0.4601 - val_acc: 0.7668 - val_true_positives_16: 783.0000 - val_true_negatives_16: 874.0000 - val_false_positives_16: 216.0000 - val_false_negatives_16: 288.0000\n",
      "Epoch 13/15\n",
      "68/68 [==============================] - ETA: 0s - loss: 0.4615 - acc: 0.7658 - true_positives_16: 783.0000 - true_negatives_16: 872.0000 - false_positives_16: 218.0000 - false_negatives_16: 288.0000\n",
      "Epoch 13: saving model to C:/Users/Shounen/Desktop/Ciclo XI/Tesis 2/GPUTesis/Archivos/Modelos\\clasificacion\\TesisDiego\\CLASE_TrainDS_10\\Model_clasificacion_clase_20220425_094958.hdf5\n",
      "68/68 [==============================] - 155s 2s/step - loss: 0.4615 - acc: 0.7658 - true_positives_16: 783.0000 - true_negatives_16: 872.0000 - false_positives_16: 218.0000 - false_negatives_16: 288.0000 - val_loss: 0.4576 - val_acc: 0.7677 - val_true_positives_16: 783.0000 - val_true_negatives_16: 876.0000 - val_false_positives_16: 214.0000 - val_false_negatives_16: 288.0000\n",
      "Epoch 14/15\n",
      "68/68 [==============================] - ETA: 0s - loss: 0.4571 - acc: 0.7658 - true_positives_16: 783.0000 - true_negatives_16: 872.0000 - false_positives_16: 218.0000 - false_negatives_16: 288.0000\n",
      "Epoch 14: saving model to C:/Users/Shounen/Desktop/Ciclo XI/Tesis 2/GPUTesis/Archivos/Modelos\\clasificacion\\TesisDiego\\CLASE_TrainDS_10\\Model_clasificacion_clase_20220425_094958.hdf5\n",
      "68/68 [==============================] - 157s 2s/step - loss: 0.4571 - acc: 0.7658 - true_positives_16: 783.0000 - true_negatives_16: 872.0000 - false_positives_16: 218.0000 - false_negatives_16: 288.0000 - val_loss: 0.4532 - val_acc: 0.7677 - val_true_positives_16: 783.0000 - val_true_negatives_16: 876.0000 - val_false_positives_16: 214.0000 - val_false_negatives_16: 288.0000\n",
      "Epoch 15/15\n",
      "68/68 [==============================] - ETA: 0s - loss: 0.4533 - acc: 0.7668 - true_positives_16: 783.0000 - true_negatives_16: 874.0000 - false_positives_16: 216.0000 - false_negatives_16: 288.0000\n",
      "Epoch 15: saving model to C:/Users/Shounen/Desktop/Ciclo XI/Tesis 2/GPUTesis/Archivos/Modelos\\clasificacion\\TesisDiego\\CLASE_TrainDS_10\\Model_clasificacion_clase_20220425_094958.hdf5\n",
      "68/68 [==============================] - 155s 2s/step - loss: 0.4533 - acc: 0.7668 - true_positives_16: 783.0000 - true_negatives_16: 874.0000 - false_positives_16: 216.0000 - false_negatives_16: 288.0000 - val_loss: 0.4504 - val_acc: 0.7677 - val_true_positives_16: 783.0000 - val_true_negatives_16: 876.0000 - val_false_positives_16: 214.0000 - val_false_negatives_16: 288.0000\n",
      "\n"
     ]
    },
    {
     "data": {
      "text/html": [
       "Waiting for W&B process to finish... <strong style=\"color:green\">(success).</strong>"
      ],
      "text/plain": [
       "<IPython.core.display.HTML object>"
      ]
     },
     "metadata": {},
     "output_type": "display_data"
    },
    {
     "data": {
      "application/vnd.jupyter.widget-view+json": {
       "model_id": "",
       "version_major": 2,
       "version_minor": 0
      },
      "text/plain": [
       "VBox(children=(Label(value='0.007 MB of 0.007 MB uploaded (0.000 MB deduped)\\r'), FloatProgress(value=0.982521…"
      ]
     },
     "metadata": {},
     "output_type": "display_data"
    },
    {
     "data": {
      "text/html": [
       "<style>\n",
       "    table.wandb td:nth-child(1) { padding: 0 10px; text-align: right }\n",
       "    .wandb-row { display: flex; flex-direction: row; flex-wrap: wrap; width: 100% }\n",
       "    .wandb-col { display: flex; flex-direction: column; flex-basis: 100%; flex: 1; padding: 10px; }\n",
       "    </style>\n",
       "<div class=\"wandb-row\"><div class=\"wandb-col\"><h3>Run history:</h3><br/><table class=\"wandb\"><tr><td>acc</td><td>▁▅▆▆▇▇█████████</td></tr><tr><td>loss</td><td>██▇▆▅▄▃▂▂▂▂▁▁▁▁</td></tr><tr><td>val_FN</td><td>██▂▁▁▁▁▁▁▁▁▁▁▁▁</td></tr><tr><td>val_FP</td><td>▂▁▆██████▇▇▇▇▇▇</td></tr><tr><td>val_TN</td><td>▇█▃▁▁▁▁▁▁▂▂▂▂▂▂</td></tr><tr><td>val_TP</td><td>▁▁▇████████████</td></tr><tr><td>val_acc</td><td>▁▁▆▇███████████</td></tr><tr><td>val_loss</td><td>██▇▆▄▃▃▂▂▂▁▁▁▁▁</td></tr></table><br/></div><div class=\"wandb-col\"><h3>Run summary:</h3><br/><table class=\"wandb\"><tr><td>acc</td><td>0.76677</td></tr><tr><td>loss</td><td>0.45326</td></tr><tr><td>val_FN</td><td>288</td></tr><tr><td>val_FP</td><td>214</td></tr><tr><td>val_TN</td><td>876</td></tr><tr><td>val_TP</td><td>783</td></tr><tr><td>val_acc</td><td>0.7677</td></tr><tr><td>val_loss</td><td>0.45036</td></tr></table><br/></div></div>"
      ],
      "text/plain": [
       "<IPython.core.display.HTML object>"
      ]
     },
     "metadata": {},
     "output_type": "display_data"
    },
    {
     "data": {
      "text/html": [
       "Synced <strong style=\"color:#cdcd00\">Ex_CLASE_TrainDS_10_(3-6-30)_20220425_094958</strong>: <a href=\"https://wandb.ai/tesis2/TesisDiego-%28clasificacion-clase-2%29/runs/1esxbac0\" target=\"_blank\">https://wandb.ai/tesis2/TesisDiego-%28clasificacion-clase-2%29/runs/1esxbac0</a><br/>Synced 6 W&B file(s), 15 media file(s), 8 artifact file(s) and 0 other file(s)"
      ],
      "text/plain": [
       "<IPython.core.display.HTML object>"
      ]
     },
     "metadata": {},
     "output_type": "display_data"
    },
    {
     "data": {
      "text/html": [
       "Find logs at: <code>.\\wandb\\run-20220425_094958-1esxbac0\\logs</code>"
      ],
      "text/plain": [
       "<IPython.core.display.HTML object>"
      ]
     },
     "metadata": {},
     "output_type": "display_data"
    },
    {
     "name": "stdout",
     "output_type": "stream",
     "text": [
      "--------------------------------------------------\n",
      "Inicio de la prueba N°: 2/6\n",
      "Dataset: C:/Users/Shounen/Desktop/Ciclo XI/Tesis 2/GPUTesis/Archivos/Dataset/SplittedV2/CLASE_TrainDS_10\n",
      "- Batch size:  32\n",
      "Creando modelo con input (30,30,2)) de tipo (clasificacion)\n",
      "Tamaño del dataset: Train 2161  - Val 541\n"
     ]
    },
    {
     "data": {
      "text/html": [
       "wandb version 0.12.15 is available!  To upgrade, please run:\n",
       " $ pip install wandb --upgrade"
      ],
      "text/plain": [
       "<IPython.core.display.HTML object>"
      ]
     },
     "metadata": {},
     "output_type": "display_data"
    },
    {
     "data": {
      "text/html": [
       "Tracking run with wandb version 0.12.11"
      ],
      "text/plain": [
       "<IPython.core.display.HTML object>"
      ]
     },
     "metadata": {},
     "output_type": "display_data"
    },
    {
     "data": {
      "text/html": [
       "Run data is saved locally in <code>C:\\Users\\Shounen\\Desktop\\Ciclo XI\\Tesis 2\\GPUTesis\\Codigo\\Entrenamiento\\Jupyter\\wandb\\run-20220425_103415-3ix7et27</code>"
      ],
      "text/plain": [
       "<IPython.core.display.HTML object>"
      ]
     },
     "metadata": {},
     "output_type": "display_data"
    },
    {
     "data": {
      "text/html": [
       "Syncing run <strong><a href=\"https://wandb.ai/tesis2/TesisDiego-%28clasificacion-clase-2%29/runs/3ix7et27\" target=\"_blank\">Ex_CLASE_TrainDS_10_(2-6-30)_20220425_103415</a></strong> to <a href=\"https://wandb.ai/tesis2/TesisDiego-%28clasificacion-clase-2%29\" target=\"_blank\">Weights & Biases</a> (<a href=\"https://wandb.me/run\" target=\"_blank\">docs</a>)<br/>"
      ],
      "text/plain": [
       "<IPython.core.display.HTML object>"
      ]
     },
     "metadata": {},
     "output_type": "display_data"
    },
    {
     "name": "stdout",
     "output_type": "stream",
     "text": [
      "Epoch 1/15\n",
      "68/68 [==============================] - ETA: 0s - loss: 0.6837 - acc: 0.5229 - true_positives_17: 900.0000 - true_negatives_17: 230.0000 - false_positives_17: 853.0000 - false_negatives_17: 178.0000\n",
      "Epoch 1: saving model to C:/Users/Shounen/Desktop/Ciclo XI/Tesis 2/GPUTesis/Archivos/Modelos\\clasificacion\\TesisDiego\\CLASE_TrainDS_10\\Model_clasificacion_clase_20220425_103415.hdf5\n",
      "68/68 [==============================] - 270s 4s/step - loss: 0.6837 - acc: 0.5229 - true_positives_17: 900.0000 - true_negatives_17: 230.0000 - false_positives_17: 853.0000 - false_negatives_17: 178.0000 - val_loss: 0.6800 - val_acc: 0.5076 - val_true_positives_17: 967.0000 - val_true_negatives_17: 130.0000 - val_false_positives_17: 953.0000 - val_false_negatives_17: 111.0000\n",
      "Epoch 2/15\n",
      "68/68 [==============================] - ETA: 0s - loss: 0.6731 - acc: 0.6159 - true_positives_17: 841.0000 - true_negatives_17: 490.0000 - false_positives_17: 593.0000 - false_negatives_17: 237.0000\n",
      "Epoch 2: saving model to C:/Users/Shounen/Desktop/Ciclo XI/Tesis 2/GPUTesis/Archivos/Modelos\\clasificacion\\TesisDiego\\CLASE_TrainDS_10\\Model_clasificacion_clase_20220425_103415.hdf5\n",
      "68/68 [==============================] - 199s 3s/step - loss: 0.6731 - acc: 0.6159 - true_positives_17: 841.0000 - true_negatives_17: 490.0000 - false_positives_17: 593.0000 - false_negatives_17: 237.0000 - val_loss: 0.6689 - val_acc: 0.5794 - val_true_positives_17: 197.0000 - val_true_negatives_17: 1055.0000 - val_false_positives_17: 28.0000 - val_false_negatives_17: 881.0000\n",
      "Epoch 3/15\n",
      "68/68 [==============================] - ETA: 0s - loss: 0.6583 - acc: 0.6677 - true_positives_17: 747.0000 - true_negatives_17: 696.0000 - false_positives_17: 387.0000 - false_negatives_17: 331.0000\n",
      "Epoch 3: saving model to C:/Users/Shounen/Desktop/Ciclo XI/Tesis 2/GPUTesis/Archivos/Modelos\\clasificacion\\TesisDiego\\CLASE_TrainDS_10\\Model_clasificacion_clase_20220425_103415.hdf5\n",
      "68/68 [==============================] - 155s 2s/step - loss: 0.6583 - acc: 0.6677 - true_positives_17: 747.0000 - true_negatives_17: 696.0000 - false_positives_17: 387.0000 - false_negatives_17: 331.0000 - val_loss: 0.6492 - val_acc: 0.6293 - val_true_positives_17: 351.0000 - val_true_negatives_17: 1009.0000 - val_false_positives_17: 74.0000 - val_false_negatives_17: 727.0000\n",
      "Epoch 4/15\n",
      "68/68 [==============================] - ETA: 0s - loss: 0.6326 - acc: 0.7182 - true_positives_17: 716.0000 - true_negatives_17: 836.0000 - false_positives_17: 247.0000 - false_negatives_17: 362.0000\n",
      "Epoch 4: saving model to C:/Users/Shounen/Desktop/Ciclo XI/Tesis 2/GPUTesis/Archivos/Modelos\\clasificacion\\TesisDiego\\CLASE_TrainDS_10\\Model_clasificacion_clase_20220425_103415.hdf5\n",
      "68/68 [==============================] - 157s 2s/step - loss: 0.6326 - acc: 0.7182 - true_positives_17: 716.0000 - true_negatives_17: 836.0000 - false_positives_17: 247.0000 - false_negatives_17: 362.0000 - val_loss: 0.6197 - val_acc: 0.6691 - val_true_positives_17: 457.0000 - val_true_negatives_17: 989.0000 - val_false_positives_17: 94.0000 - val_false_negatives_17: 621.0000\n",
      "Epoch 5/15\n",
      "68/68 [==============================] - ETA: 0s - loss: 0.5962 - acc: 0.7390 - true_positives_17: 725.0000 - true_negatives_17: 872.0000 - false_positives_17: 211.0000 - false_negatives_17: 353.0000\n",
      "Epoch 5: saving model to C:/Users/Shounen/Desktop/Ciclo XI/Tesis 2/GPUTesis/Archivos/Modelos\\clasificacion\\TesisDiego\\CLASE_TrainDS_10\\Model_clasificacion_clase_20220425_103415.hdf5\n",
      "68/68 [==============================] - 155s 2s/step - loss: 0.5962 - acc: 0.7390 - true_positives_17: 725.0000 - true_negatives_17: 872.0000 - false_positives_17: 211.0000 - false_negatives_17: 353.0000 - val_loss: 0.5856 - val_acc: 0.6835 - val_true_positives_17: 491.0000 - val_true_negatives_17: 986.0000 - val_false_positives_17: 97.0000 - val_false_negatives_17: 587.0000\n",
      "Epoch 6/15\n",
      "68/68 [==============================] - ETA: 0s - loss: 0.5593 - acc: 0.7460 - true_positives_17: 724.0000 - true_negatives_17: 888.0000 - false_positives_17: 195.0000 - false_negatives_17: 354.0000\n",
      "Epoch 6: saving model to C:/Users/Shounen/Desktop/Ciclo XI/Tesis 2/GPUTesis/Archivos/Modelos\\clasificacion\\TesisDiego\\CLASE_TrainDS_10\\Model_clasificacion_clase_20220425_103415.hdf5\n",
      "68/68 [==============================] - 157s 2s/step - loss: 0.5593 - acc: 0.7460 - true_positives_17: 724.0000 - true_negatives_17: 888.0000 - false_positives_17: 195.0000 - false_negatives_17: 354.0000 - val_loss: 0.5522 - val_acc: 0.7210 - val_true_positives_17: 589.0000 - val_true_negatives_17: 969.0000 - val_false_positives_17: 114.0000 - val_false_negatives_17: 489.0000\n",
      "Epoch 7/15\n",
      "68/68 [==============================] - ETA: 0s - loss: 0.5290 - acc: 0.7552 - true_positives_17: 744.0000 - true_negatives_17: 888.0000 - false_positives_17: 195.0000 - false_negatives_17: 334.0000\n",
      "Epoch 7: saving model to C:/Users/Shounen/Desktop/Ciclo XI/Tesis 2/GPUTesis/Archivos/Modelos\\clasificacion\\TesisDiego\\CLASE_TrainDS_10\\Model_clasificacion_clase_20220425_103415.hdf5\n",
      "68/68 [==============================] - 154s 2s/step - loss: 0.5290 - acc: 0.7552 - true_positives_17: 744.0000 - true_negatives_17: 888.0000 - false_positives_17: 195.0000 - false_negatives_17: 334.0000 - val_loss: 0.5360 - val_acc: 0.7210 - val_true_positives_17: 589.0000 - val_true_negatives_17: 969.0000 - val_false_positives_17: 114.0000 - val_false_negatives_17: 489.0000\n",
      "Epoch 8/15\n",
      "68/68 [==============================] - ETA: 0s - loss: 0.5079 - acc: 0.7580 - true_positives_17: 759.0000 - true_negatives_17: 879.0000 - false_positives_17: 204.0000 - false_negatives_17: 319.0000\n",
      "Epoch 8: saving model to C:/Users/Shounen/Desktop/Ciclo XI/Tesis 2/GPUTesis/Archivos/Modelos\\clasificacion\\TesisDiego\\CLASE_TrainDS_10\\Model_clasificacion_clase_20220425_103415.hdf5\n",
      "68/68 [==============================] - 153s 2s/step - loss: 0.5079 - acc: 0.7580 - true_positives_17: 759.0000 - true_negatives_17: 879.0000 - false_positives_17: 204.0000 - false_negatives_17: 319.0000 - val_loss: 0.5134 - val_acc: 0.7251 - val_true_positives_17: 596.0000 - val_true_negatives_17: 971.0000 - val_false_positives_17: 112.0000 - val_false_negatives_17: 482.0000\n",
      "Epoch 9/15\n",
      "68/68 [==============================] - ETA: 0s - loss: 0.4907 - acc: 0.7617 - true_positives_17: 776.0000 - true_negatives_17: 870.0000 - false_positives_17: 213.0000 - false_negatives_17: 302.0000\n",
      "Epoch 9: saving model to C:/Users/Shounen/Desktop/Ciclo XI/Tesis 2/GPUTesis/Archivos/Modelos\\clasificacion\\TesisDiego\\CLASE_TrainDS_10\\Model_clasificacion_clase_20220425_103415.hdf5\n",
      "68/68 [==============================] - 153s 2s/step - loss: 0.4907 - acc: 0.7617 - true_positives_17: 776.0000 - true_negatives_17: 870.0000 - false_positives_17: 213.0000 - false_negatives_17: 302.0000 - val_loss: 0.5020 - val_acc: 0.7251 - val_true_positives_17: 596.0000 - val_true_negatives_17: 971.0000 - val_false_positives_17: 112.0000 - val_false_negatives_17: 482.0000\n",
      "Epoch 10/15\n",
      "68/68 [==============================] - ETA: 0s - loss: 0.4789 - acc: 0.7654 - true_positives_17: 784.0000 - true_negatives_17: 870.0000 - false_positives_17: 213.0000 - false_negatives_17: 294.0000\n",
      "Epoch 10: saving model to C:/Users/Shounen/Desktop/Ciclo XI/Tesis 2/GPUTesis/Archivos/Modelos\\clasificacion\\TesisDiego\\CLASE_TrainDS_10\\Model_clasificacion_clase_20220425_103415.hdf5\n",
      "68/68 [==============================] - 153s 2s/step - loss: 0.4789 - acc: 0.7654 - true_positives_17: 784.0000 - true_negatives_17: 870.0000 - false_positives_17: 213.0000 - false_negatives_17: 294.0000 - val_loss: 0.4909 - val_acc: 0.7265 - val_true_positives_17: 596.0000 - val_true_negatives_17: 974.0000 - val_false_positives_17: 109.0000 - val_false_negatives_17: 482.0000\n",
      "Epoch 11/15\n",
      "68/68 [==============================] - ETA: 0s - loss: 0.4709 - acc: 0.7668 - true_positives_17: 788.0000 - true_negatives_17: 869.0000 - false_positives_17: 214.0000 - false_negatives_17: 290.0000\n",
      "Epoch 11: saving model to C:/Users/Shounen/Desktop/Ciclo XI/Tesis 2/GPUTesis/Archivos/Modelos\\clasificacion\\TesisDiego\\CLASE_TrainDS_10\\Model_clasificacion_clase_20220425_103415.hdf5\n",
      "68/68 [==============================] - 157s 2s/step - loss: 0.4709 - acc: 0.7668 - true_positives_17: 788.0000 - true_negatives_17: 869.0000 - false_positives_17: 214.0000 - false_negatives_17: 290.0000 - val_loss: 0.4829 - val_acc: 0.7561 - val_true_positives_17: 747.0000 - val_true_negatives_17: 887.0000 - val_false_positives_17: 196.0000 - val_false_negatives_17: 331.0000\n"
     ]
    },
    {
     "name": "stdout",
     "output_type": "stream",
     "text": [
      "Epoch 12/15\n",
      "68/68 [==============================] - ETA: 0s - loss: 0.4665 - acc: 0.7686 - true_positives_17: 795.0000 - true_negatives_17: 866.0000 - false_positives_17: 217.0000 - false_negatives_17: 283.0000\n",
      "Epoch 12: saving model to C:/Users/Shounen/Desktop/Ciclo XI/Tesis 2/GPUTesis/Archivos/Modelos\\clasificacion\\TesisDiego\\CLASE_TrainDS_10\\Model_clasificacion_clase_20220425_103415.hdf5\n",
      "68/68 [==============================] - 159s 2s/step - loss: 0.4665 - acc: 0.7686 - true_positives_17: 795.0000 - true_negatives_17: 866.0000 - false_positives_17: 217.0000 - false_negatives_17: 283.0000 - val_loss: 0.4763 - val_acc: 0.7705 - val_true_positives_17: 797.0000 - val_true_negatives_17: 868.0000 - val_false_positives_17: 215.0000 - val_false_negatives_17: 281.0000\n",
      "Epoch 13/15\n",
      "68/68 [==============================] - ETA: 0s - loss: 0.4617 - acc: 0.7696 - true_positives_17: 797.0000 - true_negatives_17: 866.0000 - false_positives_17: 217.0000 - false_negatives_17: 281.0000\n",
      "Epoch 13: saving model to C:/Users/Shounen/Desktop/Ciclo XI/Tesis 2/GPUTesis/Archivos/Modelos\\clasificacion\\TesisDiego\\CLASE_TrainDS_10\\Model_clasificacion_clase_20220425_103415.hdf5\n",
      "68/68 [==============================] - 156s 2s/step - loss: 0.4617 - acc: 0.7696 - true_positives_17: 797.0000 - true_negatives_17: 866.0000 - false_positives_17: 217.0000 - false_negatives_17: 281.0000 - val_loss: 0.4762 - val_acc: 0.7691 - val_true_positives_17: 797.0000 - val_true_negatives_17: 865.0000 - val_false_positives_17: 218.0000 - val_false_negatives_17: 281.0000\n",
      "Epoch 14/15\n",
      "68/68 [==============================] - ETA: 0s - loss: 0.4577 - acc: 0.7696 - true_positives_17: 797.0000 - true_negatives_17: 866.0000 - false_positives_17: 217.0000 - false_negatives_17: 281.0000\n",
      "Epoch 14: saving model to C:/Users/Shounen/Desktop/Ciclo XI/Tesis 2/GPUTesis/Archivos/Modelos\\clasificacion\\TesisDiego\\CLASE_TrainDS_10\\Model_clasificacion_clase_20220425_103415.hdf5\n",
      "68/68 [==============================] - 154s 2s/step - loss: 0.4577 - acc: 0.7696 - true_positives_17: 797.0000 - true_negatives_17: 866.0000 - false_positives_17: 217.0000 - false_negatives_17: 281.0000 - val_loss: 0.4702 - val_acc: 0.7705 - val_true_positives_17: 797.0000 - val_true_negatives_17: 868.0000 - val_false_positives_17: 215.0000 - val_false_negatives_17: 281.0000\n",
      "Epoch 15/15\n",
      "68/68 [==============================] - ETA: 0s - loss: 0.4553 - acc: 0.7696 - true_positives_17: 797.0000 - true_negatives_17: 866.0000 - false_positives_17: 217.0000 - false_negatives_17: 281.0000\n",
      "Epoch 15: saving model to C:/Users/Shounen/Desktop/Ciclo XI/Tesis 2/GPUTesis/Archivos/Modelos\\clasificacion\\TesisDiego\\CLASE_TrainDS_10\\Model_clasificacion_clase_20220425_103415.hdf5\n",
      "68/68 [==============================] - 154s 2s/step - loss: 0.4553 - acc: 0.7696 - true_positives_17: 797.0000 - true_negatives_17: 866.0000 - false_positives_17: 217.0000 - false_negatives_17: 281.0000 - val_loss: 0.4652 - val_acc: 0.7705 - val_true_positives_17: 797.0000 - val_true_negatives_17: 868.0000 - val_false_positives_17: 215.0000 - val_false_negatives_17: 281.0000\n",
      "\n"
     ]
    },
    {
     "data": {
      "text/html": [
       "Waiting for W&B process to finish... <strong style=\"color:green\">(success).</strong>"
      ],
      "text/plain": [
       "<IPython.core.display.HTML object>"
      ]
     },
     "metadata": {},
     "output_type": "display_data"
    },
    {
     "data": {
      "application/vnd.jupyter.widget-view+json": {
       "model_id": "",
       "version_major": 2,
       "version_minor": 0
      },
      "text/plain": [
       "VBox(children=(Label(value='0.008 MB of 0.008 MB uploaded (0.000 MB deduped)\\r'), FloatProgress(value=1.0, max…"
      ]
     },
     "metadata": {},
     "output_type": "display_data"
    },
    {
     "data": {
      "text/html": [
       "<style>\n",
       "    table.wandb td:nth-child(1) { padding: 0 10px; text-align: right }\n",
       "    .wandb-row { display: flex; flex-direction: row; flex-wrap: wrap; width: 100% }\n",
       "    .wandb-col { display: flex; flex-direction: column; flex-basis: 100%; flex: 1; padding: 10px; }\n",
       "    </style>\n",
       "<div class=\"wandb-row\"><div class=\"wandb-col\"><h3>Run history:</h3><br/><table class=\"wandb\"><tr><td>acc</td><td>▁▄▅▇▇▇█████████</td></tr><tr><td>loss</td><td>██▇▆▅▄▃▃▂▂▁▁▁▁▁</td></tr><tr><td>val_FN</td><td>▁█▇▆▅▄▄▄▄▄▃▃▃▃▃</td></tr><tr><td>val_FP</td><td>█▁▁▁▂▂▂▂▂▂▂▂▂▂▂</td></tr><tr><td>val_TN</td><td>▁███▇▇▇▇▇▇▇▇▇▇▇</td></tr><tr><td>val_TP</td><td>█▁▂▃▄▅▅▅▅▅▆▆▆▆▆</td></tr><tr><td>val_acc</td><td>▁▃▄▅▆▇▇▇▇▇█████</td></tr><tr><td>val_loss</td><td>██▇▆▅▄▃▃▂▂▂▁▁▁▁</td></tr></table><br/></div><div class=\"wandb-col\"><h3>Run summary:</h3><br/><table class=\"wandb\"><tr><td>acc</td><td>0.76955</td></tr><tr><td>loss</td><td>0.45534</td></tr><tr><td>val_FN</td><td>281</td></tr><tr><td>val_FP</td><td>215</td></tr><tr><td>val_TN</td><td>868</td></tr><tr><td>val_TP</td><td>797</td></tr><tr><td>val_acc</td><td>0.77048</td></tr><tr><td>val_loss</td><td>0.46516</td></tr></table><br/></div></div>"
      ],
      "text/plain": [
       "<IPython.core.display.HTML object>"
      ]
     },
     "metadata": {},
     "output_type": "display_data"
    },
    {
     "data": {
      "text/html": [
       "Synced <strong style=\"color:#cdcd00\">Ex_CLASE_TrainDS_10_(2-6-30)_20220425_103415</strong>: <a href=\"https://wandb.ai/tesis2/TesisDiego-%28clasificacion-clase-2%29/runs/3ix7et27\" target=\"_blank\">https://wandb.ai/tesis2/TesisDiego-%28clasificacion-clase-2%29/runs/3ix7et27</a><br/>Synced 6 W&B file(s), 15 media file(s), 11 artifact file(s) and 0 other file(s)"
      ],
      "text/plain": [
       "<IPython.core.display.HTML object>"
      ]
     },
     "metadata": {},
     "output_type": "display_data"
    },
    {
     "data": {
      "text/html": [
       "Find logs at: <code>.\\wandb\\run-20220425_103415-3ix7et27\\logs</code>"
      ],
      "text/plain": [
       "<IPython.core.display.HTML object>"
      ]
     },
     "metadata": {},
     "output_type": "display_data"
    },
    {
     "name": "stdout",
     "output_type": "stream",
     "text": [
      "--------------------------------------------------\n",
      "Inicio de la prueba N°: 3/6\n",
      "Dataset: C:/Users/Shounen/Desktop/Ciclo XI/Tesis 2/GPUTesis/Archivos/Dataset/SplittedV2/CLASE_TrainDS_10\n",
      "- Batch size:  32\n",
      "Creando modelo con input (30,30,3)) de tipo (clasificacion)\n",
      "Tamaño del dataset: Train 2161  - Val 541\n"
     ]
    },
    {
     "data": {
      "text/html": [
       "wandb version 0.12.15 is available!  To upgrade, please run:\n",
       " $ pip install wandb --upgrade"
      ],
      "text/plain": [
       "<IPython.core.display.HTML object>"
      ]
     },
     "metadata": {},
     "output_type": "display_data"
    },
    {
     "data": {
      "text/html": [
       "Tracking run with wandb version 0.12.11"
      ],
      "text/plain": [
       "<IPython.core.display.HTML object>"
      ]
     },
     "metadata": {},
     "output_type": "display_data"
    },
    {
     "data": {
      "text/html": [
       "Run data is saved locally in <code>C:\\Users\\Shounen\\Desktop\\Ciclo XI\\Tesis 2\\GPUTesis\\Codigo\\Entrenamiento\\Jupyter\\wandb\\run-20220425_111558-2o4pvvpd</code>"
      ],
      "text/plain": [
       "<IPython.core.display.HTML object>"
      ]
     },
     "metadata": {},
     "output_type": "display_data"
    },
    {
     "data": {
      "text/html": [
       "Syncing run <strong><a href=\"https://wandb.ai/tesis2/TesisDiego-%28clasificacion-clase-2%29/runs/2o4pvvpd\" target=\"_blank\">Ex_CLASE_TrainDS_10_(3-1-30)_20220425_111558</a></strong> to <a href=\"https://wandb.ai/tesis2/TesisDiego-%28clasificacion-clase-2%29\" target=\"_blank\">Weights & Biases</a> (<a href=\"https://wandb.me/run\" target=\"_blank\">docs</a>)<br/>"
      ],
      "text/plain": [
       "<IPython.core.display.HTML object>"
      ]
     },
     "metadata": {},
     "output_type": "display_data"
    },
    {
     "name": "stdout",
     "output_type": "stream",
     "text": [
      "Epoch 1/15\n",
      "68/68 [==============================] - ETA: 0s - loss: 0.6806 - acc: 0.6094 - true_positives_18: 570.0000 - true_negatives_18: 747.0000 - false_positives_18: 329.0000 - false_negatives_18: 515.0000\n",
      "Epoch 1: saving model to C:/Users/Shounen/Desktop/Ciclo XI/Tesis 2/GPUTesis/Archivos/Modelos\\clasificacion\\TesisDiego\\CLASE_TrainDS_10\\Model_clasificacion_clase_20220425_111558.hdf5\n",
      "68/68 [==============================] - 28s 397ms/step - loss: 0.6806 - acc: 0.6094 - true_positives_18: 570.0000 - true_negatives_18: 747.0000 - false_positives_18: 329.0000 - false_negatives_18: 515.0000 - val_loss: 0.6708 - val_acc: 0.5257 - val_true_positives_18: 1085.0000 - val_true_negatives_18: 51.0000 - val_false_positives_18: 1025.0000 - val_false_negatives_18: 0.0000e+00\n",
      "Epoch 2/15\n",
      "68/68 [==============================] - ETA: 0s - loss: 0.6615 - acc: 0.6571 - true_positives_18: 734.0000 - true_negatives_18: 686.0000 - false_positives_18: 390.0000 - false_negatives_18: 351.0000\n",
      "Epoch 2: saving model to C:/Users/Shounen/Desktop/Ciclo XI/Tesis 2/GPUTesis/Archivos/Modelos\\clasificacion\\TesisDiego\\CLASE_TrainDS_10\\Model_clasificacion_clase_20220425_111558.hdf5\n",
      "68/68 [==============================] - 26s 388ms/step - loss: 0.6615 - acc: 0.6571 - true_positives_18: 734.0000 - true_negatives_18: 686.0000 - false_positives_18: 390.0000 - false_negatives_18: 351.0000 - val_loss: 0.6441 - val_acc: 0.7066 - val_true_positives_18: 594.0000 - val_true_negatives_18: 933.0000 - val_false_positives_18: 143.0000 - val_false_negatives_18: 491.0000\n",
      "Epoch 3/15\n",
      "68/68 [==============================] - ETA: 0s - loss: 0.6259 - acc: 0.7048 - true_positives_18: 697.0000 - true_negatives_18: 826.0000 - false_positives_18: 250.0000 - false_negatives_18: 388.0000\n",
      "Epoch 3: saving model to C:/Users/Shounen/Desktop/Ciclo XI/Tesis 2/GPUTesis/Archivos/Modelos\\clasificacion\\TesisDiego\\CLASE_TrainDS_10\\Model_clasificacion_clase_20220425_111558.hdf5\n",
      "68/68 [==============================] - 26s 391ms/step - loss: 0.6259 - acc: 0.7048 - true_positives_18: 697.0000 - true_negatives_18: 826.0000 - false_positives_18: 250.0000 - false_negatives_18: 388.0000 - val_loss: 0.5986 - val_acc: 0.7099 - val_true_positives_18: 627.0000 - val_true_negatives_18: 907.0000 - val_false_positives_18: 169.0000 - val_false_negatives_18: 458.0000\n",
      "Epoch 4/15\n",
      "68/68 [==============================] - ETA: 0s - loss: 0.5769 - acc: 0.7288 - true_positives_18: 714.0000 - true_negatives_18: 861.0000 - false_positives_18: 215.0000 - false_negatives_18: 371.0000\n",
      "Epoch 4: saving model to C:/Users/Shounen/Desktop/Ciclo XI/Tesis 2/GPUTesis/Archivos/Modelos\\clasificacion\\TesisDiego\\CLASE_TrainDS_10\\Model_clasificacion_clase_20220425_111558.hdf5\n",
      "68/68 [==============================] - 27s 391ms/step - loss: 0.5769 - acc: 0.7288 - true_positives_18: 714.0000 - true_negatives_18: 861.0000 - false_positives_18: 215.0000 - false_negatives_18: 371.0000 - val_loss: 0.5486 - val_acc: 0.7515 - val_true_positives_18: 795.0000 - val_true_negatives_18: 829.0000 - val_false_positives_18: 247.0000 - val_false_negatives_18: 290.0000\n",
      "Epoch 5/15\n",
      "68/68 [==============================] - ETA: 0s - loss: 0.5337 - acc: 0.7446 - true_positives_18: 742.0000 - true_negatives_18: 867.0000 - false_positives_18: 209.0000 - false_negatives_18: 343.0000\n",
      "Epoch 5: saving model to C:/Users/Shounen/Desktop/Ciclo XI/Tesis 2/GPUTesis/Archivos/Modelos\\clasificacion\\TesisDiego\\CLASE_TrainDS_10\\Model_clasificacion_clase_20220425_111558.hdf5\n",
      "68/68 [==============================] - 26s 389ms/step - loss: 0.5337 - acc: 0.7446 - true_positives_18: 742.0000 - true_negatives_18: 867.0000 - false_positives_18: 209.0000 - false_negatives_18: 343.0000 - val_loss: 0.5174 - val_acc: 0.7552 - val_true_positives_18: 795.0000 - val_true_negatives_18: 837.0000 - val_false_positives_18: 239.0000 - val_false_negatives_18: 290.0000\n",
      "Epoch 6/15\n",
      "68/68 [==============================] - ETA: 0s - loss: 0.5049 - acc: 0.7547 - true_positives_18: 792.0000 - true_negatives_18: 839.0000 - false_positives_18: 237.0000 - false_negatives_18: 293.0000\n",
      "Epoch 6: saving model to C:/Users/Shounen/Desktop/Ciclo XI/Tesis 2/GPUTesis/Archivos/Modelos\\clasificacion\\TesisDiego\\CLASE_TrainDS_10\\Model_clasificacion_clase_20220425_111558.hdf5\n",
      "68/68 [==============================] - 26s 391ms/step - loss: 0.5049 - acc: 0.7547 - true_positives_18: 792.0000 - true_negatives_18: 839.0000 - false_positives_18: 237.0000 - false_negatives_18: 293.0000 - val_loss: 0.4918 - val_acc: 0.7557 - val_true_positives_18: 795.0000 - val_true_negatives_18: 838.0000 - val_false_positives_18: 238.0000 - val_false_negatives_18: 290.0000\n",
      "Epoch 7/15\n",
      "68/68 [==============================] - ETA: 0s - loss: 0.4890 - acc: 0.7571 - true_positives_18: 802.0000 - true_negatives_18: 834.0000 - false_positives_18: 242.0000 - false_negatives_18: 283.0000\n",
      "Epoch 7: saving model to C:/Users/Shounen/Desktop/Ciclo XI/Tesis 2/GPUTesis/Archivos/Modelos\\clasificacion\\TesisDiego\\CLASE_TrainDS_10\\Model_clasificacion_clase_20220425_111558.hdf5\n",
      "68/68 [==============================] - 26s 390ms/step - loss: 0.4890 - acc: 0.7571 - true_positives_18: 802.0000 - true_negatives_18: 834.0000 - false_positives_18: 242.0000 - false_negatives_18: 283.0000 - val_loss: 0.4753 - val_acc: 0.7575 - val_true_positives_18: 795.0000 - val_true_negatives_18: 842.0000 - val_false_positives_18: 234.0000 - val_false_negatives_18: 290.0000\n",
      "Epoch 8/15\n",
      "68/68 [==============================] - ETA: 0s - loss: 0.4773 - acc: 0.7612 - true_positives_18: 795.0000 - true_negatives_18: 850.0000 - false_positives_18: 226.0000 - false_negatives_18: 290.0000\n",
      "Epoch 8: saving model to C:/Users/Shounen/Desktop/Ciclo XI/Tesis 2/GPUTesis/Archivos/Modelos\\clasificacion\\TesisDiego\\CLASE_TrainDS_10\\Model_clasificacion_clase_20220425_111558.hdf5\n",
      "68/68 [==============================] - 26s 388ms/step - loss: 0.4773 - acc: 0.7612 - true_positives_18: 795.0000 - true_negatives_18: 850.0000 - false_positives_18: 226.0000 - false_negatives_18: 290.0000 - val_loss: 0.4655 - val_acc: 0.7598 - val_true_positives_18: 795.0000 - val_true_negatives_18: 847.0000 - val_false_positives_18: 229.0000 - val_false_negatives_18: 290.0000\n",
      "Epoch 9/15\n",
      "68/68 [==============================] - ETA: 0s - loss: 0.4681 - acc: 0.7621 - true_positives_18: 795.0000 - true_negatives_18: 852.0000 - false_positives_18: 224.0000 - false_negatives_18: 290.0000\n",
      "Epoch 9: saving model to C:/Users/Shounen/Desktop/Ciclo XI/Tesis 2/GPUTesis/Archivos/Modelos\\clasificacion\\TesisDiego\\CLASE_TrainDS_10\\Model_clasificacion_clase_20220425_111558.hdf5\n",
      "68/68 [==============================] - 26s 389ms/step - loss: 0.4681 - acc: 0.7621 - true_positives_18: 795.0000 - true_negatives_18: 852.0000 - false_positives_18: 224.0000 - false_negatives_18: 290.0000 - val_loss: 0.4589 - val_acc: 0.7626 - val_true_positives_18: 795.0000 - val_true_negatives_18: 853.0000 - val_false_positives_18: 223.0000 - val_false_negatives_18: 290.0000\n",
      "Epoch 10/15\n",
      "68/68 [==============================] - ETA: 0s - loss: 0.4602 - acc: 0.7640 - true_positives_18: 795.0000 - true_negatives_18: 856.0000 - false_positives_18: 220.0000 - false_negatives_18: 290.0000\n",
      "Epoch 10: saving model to C:/Users/Shounen/Desktop/Ciclo XI/Tesis 2/GPUTesis/Archivos/Modelos\\clasificacion\\TesisDiego\\CLASE_TrainDS_10\\Model_clasificacion_clase_20220425_111558.hdf5\n",
      "68/68 [==============================] - 27s 399ms/step - loss: 0.4602 - acc: 0.7640 - true_positives_18: 795.0000 - true_negatives_18: 856.0000 - false_positives_18: 220.0000 - false_negatives_18: 290.0000 - val_loss: 0.4516 - val_acc: 0.7635 - val_true_positives_18: 795.0000 - val_true_negatives_18: 855.0000 - val_false_positives_18: 221.0000 - val_false_negatives_18: 290.0000\n",
      "Epoch 11/15\n",
      "68/68 [==============================] - ETA: 0s - loss: 0.4535 - acc: 0.7640 - true_positives_18: 795.0000 - true_negatives_18: 856.0000 - false_positives_18: 220.0000 - false_negatives_18: 290.0000\n",
      "Epoch 11: saving model to C:/Users/Shounen/Desktop/Ciclo XI/Tesis 2/GPUTesis/Archivos/Modelos\\clasificacion\\TesisDiego\\CLASE_TrainDS_10\\Model_clasificacion_clase_20220425_111558.hdf5\n",
      "68/68 [==============================] - 27s 402ms/step - loss: 0.4535 - acc: 0.7640 - true_positives_18: 795.0000 - true_negatives_18: 856.0000 - false_positives_18: 220.0000 - false_negatives_18: 290.0000 - val_loss: 0.4451 - val_acc: 0.7635 - val_true_positives_18: 795.0000 - val_true_negatives_18: 855.0000 - val_false_positives_18: 221.0000 - val_false_negatives_18: 290.0000\n"
     ]
    },
    {
     "name": "stdout",
     "output_type": "stream",
     "text": [
      "Epoch 12/15\n",
      "68/68 [==============================] - ETA: 0s - loss: 0.4481 - acc: 0.7640 - true_positives_18: 795.0000 - true_negatives_18: 856.0000 - false_positives_18: 220.0000 - false_negatives_18: 290.0000\n",
      "Epoch 12: saving model to C:/Users/Shounen/Desktop/Ciclo XI/Tesis 2/GPUTesis/Archivos/Modelos\\clasificacion\\TesisDiego\\CLASE_TrainDS_10\\Model_clasificacion_clase_20220425_111558.hdf5\n",
      "68/68 [==============================] - 27s 391ms/step - loss: 0.4481 - acc: 0.7640 - true_positives_18: 795.0000 - true_negatives_18: 856.0000 - false_positives_18: 220.0000 - false_negatives_18: 290.0000 - val_loss: 0.4408 - val_acc: 0.7635 - val_true_positives_18: 795.0000 - val_true_negatives_18: 855.0000 - val_false_positives_18: 221.0000 - val_false_negatives_18: 290.0000\n",
      "Epoch 13/15\n",
      "68/68 [==============================] - ETA: 0s - loss: 0.4437 - acc: 0.7640 - true_positives_18: 795.0000 - true_negatives_18: 856.0000 - false_positives_18: 220.0000 - false_negatives_18: 290.0000\n",
      "Epoch 13: saving model to C:/Users/Shounen/Desktop/Ciclo XI/Tesis 2/GPUTesis/Archivos/Modelos\\clasificacion\\TesisDiego\\CLASE_TrainDS_10\\Model_clasificacion_clase_20220425_111558.hdf5\n",
      "68/68 [==============================] - 26s 385ms/step - loss: 0.4437 - acc: 0.7640 - true_positives_18: 795.0000 - true_negatives_18: 856.0000 - false_positives_18: 220.0000 - false_negatives_18: 290.0000 - val_loss: 0.4380 - val_acc: 0.7635 - val_true_positives_18: 795.0000 - val_true_negatives_18: 855.0000 - val_false_positives_18: 221.0000 - val_false_negatives_18: 290.0000\n",
      "Epoch 14/15\n",
      "68/68 [==============================] - ETA: 0s - loss: 0.4398 - acc: 0.7640 - true_positives_18: 795.0000 - true_negatives_18: 856.0000 - false_positives_18: 220.0000 - false_negatives_18: 290.0000\n",
      "Epoch 14: saving model to C:/Users/Shounen/Desktop/Ciclo XI/Tesis 2/GPUTesis/Archivos/Modelos\\clasificacion\\TesisDiego\\CLASE_TrainDS_10\\Model_clasificacion_clase_20220425_111558.hdf5\n",
      "68/68 [==============================] - 26s 388ms/step - loss: 0.4398 - acc: 0.7640 - true_positives_18: 795.0000 - true_negatives_18: 856.0000 - false_positives_18: 220.0000 - false_negatives_18: 290.0000 - val_loss: 0.4349 - val_acc: 0.7635 - val_true_positives_18: 795.0000 - val_true_negatives_18: 855.0000 - val_false_positives_18: 221.0000 - val_false_negatives_18: 290.0000\n",
      "Epoch 15/15\n",
      "68/68 [==============================] - ETA: 0s - loss: 0.4369 - acc: 0.7645 - true_positives_18: 795.0000 - true_negatives_18: 857.0000 - false_positives_18: 219.0000 - false_negatives_18: 290.0000\n",
      "Epoch 15: saving model to C:/Users/Shounen/Desktop/Ciclo XI/Tesis 2/GPUTesis/Archivos/Modelos\\clasificacion\\TesisDiego\\CLASE_TrainDS_10\\Model_clasificacion_clase_20220425_111558.hdf5\n",
      "68/68 [==============================] - 27s 393ms/step - loss: 0.4369 - acc: 0.7645 - true_positives_18: 795.0000 - true_negatives_18: 857.0000 - false_positives_18: 219.0000 - false_negatives_18: 290.0000 - val_loss: 0.4337 - val_acc: 0.7635 - val_true_positives_18: 795.0000 - val_true_negatives_18: 855.0000 - val_false_positives_18: 221.0000 - val_false_negatives_18: 290.0000\n",
      "\n"
     ]
    },
    {
     "data": {
      "text/html": [
       "Waiting for W&B process to finish... <strong style=\"color:green\">(success).</strong>"
      ],
      "text/plain": [
       "<IPython.core.display.HTML object>"
      ]
     },
     "metadata": {},
     "output_type": "display_data"
    },
    {
     "data": {
      "application/vnd.jupyter.widget-view+json": {
       "model_id": "",
       "version_major": 2,
       "version_minor": 0
      },
      "text/plain": [
       "VBox(children=(Label(value='0.008 MB of 0.008 MB uploaded (0.000 MB deduped)\\r'), FloatProgress(value=1.0, max…"
      ]
     },
     "metadata": {},
     "output_type": "display_data"
    },
    {
     "data": {
      "text/html": [
       "<style>\n",
       "    table.wandb td:nth-child(1) { padding: 0 10px; text-align: right }\n",
       "    .wandb-row { display: flex; flex-direction: row; flex-wrap: wrap; width: 100% }\n",
       "    .wandb-col { display: flex; flex-direction: column; flex-basis: 100%; flex: 1; padding: 10px; }\n",
       "    </style>\n",
       "<div class=\"wandb-row\"><div class=\"wandb-col\"><h3>Run history:</h3><br/><table class=\"wandb\"><tr><td>acc</td><td>▁▃▅▆▇██████████</td></tr><tr><td>loss</td><td>█▇▆▅▄▃▂▂▂▂▁▁▁▁▁</td></tr><tr><td>val_FN</td><td>▁██▅▅▅▅▅▅▅▅▅▅▅▅</td></tr><tr><td>val_FP</td><td>█▁▁▂▂▂▂▂▂▂▂▂▂▂▂</td></tr><tr><td>val_TN</td><td>▁██▇▇▇▇▇▇▇▇▇▇▇▇</td></tr><tr><td>val_TP</td><td>█▁▁▄▄▄▄▄▄▄▄▄▄▄▄</td></tr><tr><td>val_acc</td><td>▁▆▆████████████</td></tr><tr><td>val_loss</td><td>█▇▆▄▃▃▂▂▂▂▁▁▁▁▁</td></tr></table><br/></div><div class=\"wandb-col\"><h3>Run summary:</h3><br/><table class=\"wandb\"><tr><td>acc</td><td>0.76446</td></tr><tr><td>loss</td><td>0.43692</td></tr><tr><td>val_FN</td><td>290</td></tr><tr><td>val_FP</td><td>221</td></tr><tr><td>val_TN</td><td>855</td></tr><tr><td>val_TP</td><td>795</td></tr><tr><td>val_acc</td><td>0.76354</td></tr><tr><td>val_loss</td><td>0.4337</td></tr></table><br/></div></div>"
      ],
      "text/plain": [
       "<IPython.core.display.HTML object>"
      ]
     },
     "metadata": {},
     "output_type": "display_data"
    },
    {
     "data": {
      "text/html": [
       "Synced <strong style=\"color:#cdcd00\">Ex_CLASE_TrainDS_10_(3-1-30)_20220425_111558</strong>: <a href=\"https://wandb.ai/tesis2/TesisDiego-%28clasificacion-clase-2%29/runs/2o4pvvpd\" target=\"_blank\">https://wandb.ai/tesis2/TesisDiego-%28clasificacion-clase-2%29/runs/2o4pvvpd</a><br/>Synced 6 W&B file(s), 15 media file(s), 10 artifact file(s) and 0 other file(s)"
      ],
      "text/plain": [
       "<IPython.core.display.HTML object>"
      ]
     },
     "metadata": {},
     "output_type": "display_data"
    },
    {
     "data": {
      "text/html": [
       "Find logs at: <code>.\\wandb\\run-20220425_111558-2o4pvvpd\\logs</code>"
      ],
      "text/plain": [
       "<IPython.core.display.HTML object>"
      ]
     },
     "metadata": {},
     "output_type": "display_data"
    },
    {
     "name": "stdout",
     "output_type": "stream",
     "text": [
      "--------------------------------------------------\n",
      "Inicio de la prueba N°: 4/6\n",
      "Dataset: C:/Users/Shounen/Desktop/Ciclo XI/Tesis 2/GPUTesis/Archivos/Dataset/SplittedV2/CLASE_TrainDS_10\n",
      "- Batch size:  32\n",
      "Creando modelo con input (20,20,2)) de tipo (clasificacion)\n",
      "Tamaño del dataset: Train 2161  - Val 541\n"
     ]
    },
    {
     "data": {
      "text/html": [
       "wandb version 0.12.15 is available!  To upgrade, please run:\n",
       " $ pip install wandb --upgrade"
      ],
      "text/plain": [
       "<IPython.core.display.HTML object>"
      ]
     },
     "metadata": {},
     "output_type": "display_data"
    },
    {
     "data": {
      "text/html": [
       "Tracking run with wandb version 0.12.11"
      ],
      "text/plain": [
       "<IPython.core.display.HTML object>"
      ]
     },
     "metadata": {},
     "output_type": "display_data"
    },
    {
     "data": {
      "text/html": [
       "Run data is saved locally in <code>C:\\Users\\Shounen\\Desktop\\Ciclo XI\\Tesis 2\\GPUTesis\\Codigo\\Entrenamiento\\Jupyter\\wandb\\run-20220425_112250-2f0vf1tq</code>"
      ],
      "text/plain": [
       "<IPython.core.display.HTML object>"
      ]
     },
     "metadata": {},
     "output_type": "display_data"
    },
    {
     "data": {
      "text/html": [
       "Syncing run <strong><a href=\"https://wandb.ai/tesis2/TesisDiego-%28clasificacion-clase-2%29/runs/2f0vf1tq\" target=\"_blank\">Ex_CLASE_TrainDS_10_(2-1-20)_20220425_112250</a></strong> to <a href=\"https://wandb.ai/tesis2/TesisDiego-%28clasificacion-clase-2%29\" target=\"_blank\">Weights & Biases</a> (<a href=\"https://wandb.me/run\" target=\"_blank\">docs</a>)<br/>"
      ],
      "text/plain": [
       "<IPython.core.display.HTML object>"
      ]
     },
     "metadata": {},
     "output_type": "display_data"
    },
    {
     "name": "stdout",
     "output_type": "stream",
     "text": [
      "Epoch 1/15\n",
      "68/68 [==============================] - ETA: 0s - loss: 0.6711 - acc: 0.6321 - true_positives_19: 590.0000 - true_negatives_19: 776.0000 - false_positives_19: 328.0000 - false_negatives_19: 467.0000\n",
      "Epoch 1: saving model to C:/Users/Shounen/Desktop/Ciclo XI/Tesis 2/GPUTesis/Archivos/Modelos\\clasificacion\\TesisDiego\\CLASE_TrainDS_10\\Model_clasificacion_clase_20220425_112250.hdf5\n",
      "68/68 [==============================] - 27s 390ms/step - loss: 0.6711 - acc: 0.6321 - true_positives_19: 590.0000 - true_negatives_19: 776.0000 - false_positives_19: 328.0000 - false_negatives_19: 467.0000 - val_loss: 0.6577 - val_acc: 0.7668 - val_true_positives_19: 782.0000 - val_true_negatives_19: 875.0000 - val_false_positives_19: 229.0000 - val_false_negatives_19: 275.0000\n",
      "Epoch 2/15\n",
      "68/68 [==============================] - ETA: 0s - loss: 0.6428 - acc: 0.7122 - true_positives_19: 704.0000 - true_negatives_19: 835.0000 - false_positives_19: 269.0000 - false_negatives_19: 353.0000\n",
      "Epoch 2: saving model to C:/Users/Shounen/Desktop/Ciclo XI/Tesis 2/GPUTesis/Archivos/Modelos\\clasificacion\\TesisDiego\\CLASE_TrainDS_10\\Model_clasificacion_clase_20220425_112250.hdf5\n",
      "68/68 [==============================] - 26s 389ms/step - loss: 0.6428 - acc: 0.7122 - true_positives_19: 704.0000 - true_negatives_19: 835.0000 - false_positives_19: 269.0000 - false_negatives_19: 353.0000 - val_loss: 0.6186 - val_acc: 0.7608 - val_true_positives_19: 785.0000 - val_true_negatives_19: 859.0000 - val_false_positives_19: 245.0000 - val_false_negatives_19: 272.0000\n",
      "Epoch 3/15\n",
      "68/68 [==============================] - ETA: 0s - loss: 0.5973 - acc: 0.7335 - true_positives_19: 680.0000 - true_negatives_19: 905.0000 - false_positives_19: 199.0000 - false_negatives_19: 377.0000\n",
      "Epoch 3: saving model to C:/Users/Shounen/Desktop/Ciclo XI/Tesis 2/GPUTesis/Archivos/Modelos\\clasificacion\\TesisDiego\\CLASE_TrainDS_10\\Model_clasificacion_clase_20220425_112250.hdf5\n",
      "68/68 [==============================] - 29s 435ms/step - loss: 0.5973 - acc: 0.7335 - true_positives_19: 680.0000 - true_negatives_19: 905.0000 - false_positives_19: 199.0000 - false_negatives_19: 377.0000 - val_loss: 0.5665 - val_acc: 0.7330 - val_true_positives_19: 690.0000 - val_true_negatives_19: 894.0000 - val_false_positives_19: 210.0000 - val_false_negatives_19: 367.0000\n",
      "Epoch 4/15\n",
      "68/68 [==============================] - ETA: 0s - loss: 0.5509 - acc: 0.7404 - true_positives_19: 685.0000 - true_negatives_19: 915.0000 - false_positives_19: 189.0000 - false_negatives_19: 372.0000\n",
      "Epoch 4: saving model to C:/Users/Shounen/Desktop/Ciclo XI/Tesis 2/GPUTesis/Archivos/Modelos\\clasificacion\\TesisDiego\\CLASE_TrainDS_10\\Model_clasificacion_clase_20220425_112250.hdf5\n",
      "68/68 [==============================] - 26s 386ms/step - loss: 0.5509 - acc: 0.7404 - true_positives_19: 685.0000 - true_negatives_19: 915.0000 - false_positives_19: 189.0000 - false_negatives_19: 372.0000 - val_loss: 0.5279 - val_acc: 0.7608 - val_true_positives_19: 785.0000 - val_true_negatives_19: 859.0000 - val_false_positives_19: 245.0000 - val_false_negatives_19: 272.0000\n",
      "Epoch 5/15\n",
      "68/68 [==============================] - ETA: 0s - loss: 0.5162 - acc: 0.7571 - true_positives_19: 745.0000 - true_negatives_19: 891.0000 - false_positives_19: 213.0000 - false_negatives_19: 312.0000\n",
      "Epoch 5: saving model to C:/Users/Shounen/Desktop/Ciclo XI/Tesis 2/GPUTesis/Archivos/Modelos\\clasificacion\\TesisDiego\\CLASE_TrainDS_10\\Model_clasificacion_clase_20220425_112250.hdf5\n",
      "68/68 [==============================] - 26s 389ms/step - loss: 0.5162 - acc: 0.7571 - true_positives_19: 745.0000 - true_negatives_19: 891.0000 - false_positives_19: 213.0000 - false_negatives_19: 312.0000 - val_loss: 0.4983 - val_acc: 0.7658 - val_true_positives_19: 785.0000 - val_true_negatives_19: 870.0000 - val_false_positives_19: 234.0000 - val_false_negatives_19: 272.0000\n",
      "Epoch 6/15\n",
      "68/68 [==============================] - ETA: 0s - loss: 0.4933 - acc: 0.7645 - true_positives_19: 774.0000 - true_negatives_19: 878.0000 - false_positives_19: 226.0000 - false_negatives_19: 283.0000\n",
      "Epoch 6: saving model to C:/Users/Shounen/Desktop/Ciclo XI/Tesis 2/GPUTesis/Archivos/Modelos\\clasificacion\\TesisDiego\\CLASE_TrainDS_10\\Model_clasificacion_clase_20220425_112250.hdf5\n",
      "68/68 [==============================] - 26s 386ms/step - loss: 0.4933 - acc: 0.7645 - true_positives_19: 774.0000 - true_negatives_19: 878.0000 - false_positives_19: 226.0000 - false_negatives_19: 283.0000 - val_loss: 0.4802 - val_acc: 0.7682 - val_true_positives_19: 785.0000 - val_true_negatives_19: 875.0000 - val_false_positives_19: 229.0000 - val_false_negatives_19: 272.0000\n",
      "Epoch 7/15\n",
      "68/68 [==============================] - ETA: 0s - loss: 0.4792 - acc: 0.7696 - true_positives_19: 785.0000 - true_negatives_19: 878.0000 - false_positives_19: 226.0000 - false_negatives_19: 272.0000\n",
      "Epoch 7: saving model to C:/Users/Shounen/Desktop/Ciclo XI/Tesis 2/GPUTesis/Archivos/Modelos\\clasificacion\\TesisDiego\\CLASE_TrainDS_10\\Model_clasificacion_clase_20220425_112250.hdf5\n",
      "68/68 [==============================] - 28s 408ms/step - loss: 0.4792 - acc: 0.7696 - true_positives_19: 785.0000 - true_negatives_19: 878.0000 - false_positives_19: 226.0000 - false_negatives_19: 272.0000 - val_loss: 0.4690 - val_acc: 0.7696 - val_true_positives_19: 785.0000 - val_true_negatives_19: 878.0000 - val_false_positives_19: 226.0000 - val_false_negatives_19: 272.0000\n",
      "Epoch 8/15\n",
      "68/68 [==============================] - ETA: 0s - loss: 0.4697 - acc: 0.7696 - true_positives_19: 785.0000 - true_negatives_19: 878.0000 - false_positives_19: 226.0000 - false_negatives_19: 272.0000\n",
      "Epoch 8: saving model to C:/Users/Shounen/Desktop/Ciclo XI/Tesis 2/GPUTesis/Archivos/Modelos\\clasificacion\\TesisDiego\\CLASE_TrainDS_10\\Model_clasificacion_clase_20220425_112250.hdf5\n",
      "68/68 [==============================] - 26s 377ms/step - loss: 0.4697 - acc: 0.7696 - true_positives_19: 785.0000 - true_negatives_19: 878.0000 - false_positives_19: 226.0000 - false_negatives_19: 272.0000 - val_loss: 0.4643 - val_acc: 0.7682 - val_true_positives_19: 785.0000 - val_true_negatives_19: 875.0000 - val_false_positives_19: 229.0000 - val_false_negatives_19: 272.0000\n",
      "Epoch 9/15\n",
      "68/68 [==============================] - ETA: 0s - loss: 0.4633 - acc: 0.7700 - true_positives_19: 785.0000 - true_negatives_19: 879.0000 - false_positives_19: 225.0000 - false_negatives_19: 272.0000\n",
      "Epoch 9: saving model to C:/Users/Shounen/Desktop/Ciclo XI/Tesis 2/GPUTesis/Archivos/Modelos\\clasificacion\\TesisDiego\\CLASE_TrainDS_10\\Model_clasificacion_clase_20220425_112250.hdf5\n",
      "68/68 [==============================] - 26s 389ms/step - loss: 0.4633 - acc: 0.7700 - true_positives_19: 785.0000 - true_negatives_19: 879.0000 - false_positives_19: 225.0000 - false_negatives_19: 272.0000 - val_loss: 0.4587 - val_acc: 0.7696 - val_true_positives_19: 785.0000 - val_true_negatives_19: 878.0000 - val_false_positives_19: 226.0000 - val_false_negatives_19: 272.0000\n",
      "Epoch 10/15\n",
      "68/68 [==============================] - ETA: 0s - loss: 0.4595 - acc: 0.7696 - true_positives_19: 785.0000 - true_negatives_19: 878.0000 - false_positives_19: 226.0000 - false_negatives_19: 272.0000\n",
      "Epoch 10: saving model to C:/Users/Shounen/Desktop/Ciclo XI/Tesis 2/GPUTesis/Archivos/Modelos\\clasificacion\\TesisDiego\\CLASE_TrainDS_10\\Model_clasificacion_clase_20220425_112250.hdf5\n",
      "68/68 [==============================] - 26s 389ms/step - loss: 0.4595 - acc: 0.7696 - true_positives_19: 785.0000 - true_negatives_19: 878.0000 - false_positives_19: 226.0000 - false_negatives_19: 272.0000 - val_loss: 0.4538 - val_acc: 0.7696 - val_true_positives_19: 785.0000 - val_true_negatives_19: 878.0000 - val_false_positives_19: 226.0000 - val_false_negatives_19: 272.0000\n",
      "Epoch 11/15\n",
      "68/68 [==============================] - ETA: 0s - loss: 0.4542 - acc: 0.7705 - true_positives_19: 785.0000 - true_negatives_19: 880.0000 - false_positives_19: 224.0000 - false_negatives_19: 272.0000\n",
      "Epoch 11: saving model to C:/Users/Shounen/Desktop/Ciclo XI/Tesis 2/GPUTesis/Archivos/Modelos\\clasificacion\\TesisDiego\\CLASE_TrainDS_10\\Model_clasificacion_clase_20220425_112250.hdf5\n",
      "68/68 [==============================] - 26s 388ms/step - loss: 0.4542 - acc: 0.7705 - true_positives_19: 785.0000 - true_negatives_19: 880.0000 - false_positives_19: 224.0000 - false_negatives_19: 272.0000 - val_loss: 0.4492 - val_acc: 0.7696 - val_true_positives_19: 785.0000 - val_true_negatives_19: 878.0000 - val_false_positives_19: 226.0000 - val_false_negatives_19: 272.0000\n"
     ]
    },
    {
     "name": "stdout",
     "output_type": "stream",
     "text": [
      "Epoch 12/15\n",
      "68/68 [==============================] - ETA: 0s - loss: 0.4495 - acc: 0.7705 - true_positives_19: 785.0000 - true_negatives_19: 880.0000 - false_positives_19: 224.0000 - false_negatives_19: 272.0000\n",
      "Epoch 12: saving model to C:/Users/Shounen/Desktop/Ciclo XI/Tesis 2/GPUTesis/Archivos/Modelos\\clasificacion\\TesisDiego\\CLASE_TrainDS_10\\Model_clasificacion_clase_20220425_112250.hdf5\n",
      "68/68 [==============================] - 26s 386ms/step - loss: 0.4495 - acc: 0.7705 - true_positives_19: 785.0000 - true_negatives_19: 880.0000 - false_positives_19: 224.0000 - false_negatives_19: 272.0000 - val_loss: 0.4447 - val_acc: 0.7696 - val_true_positives_19: 785.0000 - val_true_negatives_19: 878.0000 - val_false_positives_19: 226.0000 - val_false_negatives_19: 272.0000\n",
      "Epoch 13/15\n",
      "68/68 [==============================] - ETA: 0s - loss: 0.4457 - acc: 0.7705 - true_positives_19: 785.0000 - true_negatives_19: 880.0000 - false_positives_19: 224.0000 - false_negatives_19: 272.0000\n",
      "Epoch 13: saving model to C:/Users/Shounen/Desktop/Ciclo XI/Tesis 2/GPUTesis/Archivos/Modelos\\clasificacion\\TesisDiego\\CLASE_TrainDS_10\\Model_clasificacion_clase_20220425_112250.hdf5\n",
      "68/68 [==============================] - 26s 387ms/step - loss: 0.4457 - acc: 0.7705 - true_positives_19: 785.0000 - true_negatives_19: 880.0000 - false_positives_19: 224.0000 - false_negatives_19: 272.0000 - val_loss: 0.4413 - val_acc: 0.7700 - val_true_positives_19: 785.0000 - val_true_negatives_19: 879.0000 - val_false_positives_19: 225.0000 - val_false_negatives_19: 272.0000\n",
      "Epoch 14/15\n",
      "68/68 [==============================] - ETA: 0s - loss: 0.4420 - acc: 0.7700 - true_positives_19: 803.0000 - true_negatives_19: 861.0000 - false_positives_19: 243.0000 - false_negatives_19: 254.0000\n",
      "Epoch 14: saving model to C:/Users/Shounen/Desktop/Ciclo XI/Tesis 2/GPUTesis/Archivos/Modelos\\clasificacion\\TesisDiego\\CLASE_TrainDS_10\\Model_clasificacion_clase_20220425_112250.hdf5\n",
      "68/68 [==============================] - 27s 392ms/step - loss: 0.4420 - acc: 0.7700 - true_positives_19: 803.0000 - true_negatives_19: 861.0000 - false_positives_19: 243.0000 - false_negatives_19: 254.0000 - val_loss: 0.4382 - val_acc: 0.7700 - val_true_positives_19: 785.0000 - val_true_negatives_19: 879.0000 - val_false_positives_19: 225.0000 - val_false_negatives_19: 272.0000\n",
      "Epoch 15/15\n",
      "68/68 [==============================] - ETA: 0s - loss: 0.4383 - acc: 0.7705 - true_positives_19: 810.0000 - true_negatives_19: 855.0000 - false_positives_19: 249.0000 - false_negatives_19: 247.0000\n",
      "Epoch 15: saving model to C:/Users/Shounen/Desktop/Ciclo XI/Tesis 2/GPUTesis/Archivos/Modelos\\clasificacion\\TesisDiego\\CLASE_TrainDS_10\\Model_clasificacion_clase_20220425_112250.hdf5\n",
      "68/68 [==============================] - 26s 388ms/step - loss: 0.4383 - acc: 0.7705 - true_positives_19: 810.0000 - true_negatives_19: 855.0000 - false_positives_19: 249.0000 - false_negatives_19: 247.0000 - val_loss: 0.4367 - val_acc: 0.7700 - val_true_positives_19: 785.0000 - val_true_negatives_19: 879.0000 - val_false_positives_19: 225.0000 - val_false_negatives_19: 272.0000\n",
      "\n"
     ]
    },
    {
     "data": {
      "text/html": [
       "Waiting for W&B process to finish... <strong style=\"color:green\">(success).</strong>"
      ],
      "text/plain": [
       "<IPython.core.display.HTML object>"
      ]
     },
     "metadata": {},
     "output_type": "display_data"
    },
    {
     "data": {
      "application/vnd.jupyter.widget-view+json": {
       "model_id": "",
       "version_major": 2,
       "version_minor": 0
      },
      "text/plain": [
       "VBox(children=(Label(value='0.006 MB of 0.006 MB uploaded (0.000 MB deduped)\\r'), FloatProgress(value=1.0, max…"
      ]
     },
     "metadata": {},
     "output_type": "display_data"
    },
    {
     "data": {
      "text/html": [
       "<style>\n",
       "    table.wandb td:nth-child(1) { padding: 0 10px; text-align: right }\n",
       "    .wandb-row { display: flex; flex-direction: row; flex-wrap: wrap; width: 100% }\n",
       "    .wandb-col { display: flex; flex-direction: column; flex-basis: 100%; flex: 1; padding: 10px; }\n",
       "    </style>\n",
       "<div class=\"wandb-row\"><div class=\"wandb-col\"><h3>Run history:</h3><br/><table class=\"wandb\"><tr><td>acc</td><td>▁▅▆▆▇██████████</td></tr><tr><td>loss</td><td>█▇▆▄▃▃▂▂▂▂▁▁▁▁▁</td></tr><tr><td>val_FN</td><td>▁▁█▁▁▁▁▁▁▁▁▁▁▁▁</td></tr><tr><td>val_FP</td><td>▅█▁█▆▅▄▅▄▄▄▄▄▄▄</td></tr><tr><td>val_TN</td><td>▄▁█▁▃▄▅▄▅▅▅▅▅▅▅</td></tr><tr><td>val_TP</td><td>██▁████████████</td></tr><tr><td>val_acc</td><td>▇▆▁▆▇██████████</td></tr><tr><td>val_loss</td><td>█▇▅▄▃▂▂▂▂▂▁▁▁▁▁</td></tr></table><br/></div><div class=\"wandb-col\"><h3>Run summary:</h3><br/><table class=\"wandb\"><tr><td>acc</td><td>0.77048</td></tr><tr><td>loss</td><td>0.43834</td></tr><tr><td>val_FN</td><td>272</td></tr><tr><td>val_FP</td><td>225</td></tr><tr><td>val_TN</td><td>879</td></tr><tr><td>val_TP</td><td>785</td></tr><tr><td>val_acc</td><td>0.77001</td></tr><tr><td>val_loss</td><td>0.43675</td></tr></table><br/></div></div>"
      ],
      "text/plain": [
       "<IPython.core.display.HTML object>"
      ]
     },
     "metadata": {},
     "output_type": "display_data"
    },
    {
     "data": {
      "text/html": [
       "Synced <strong style=\"color:#cdcd00\">Ex_CLASE_TrainDS_10_(2-1-20)_20220425_112250</strong>: <a href=\"https://wandb.ai/tesis2/TesisDiego-%28clasificacion-clase-2%29/runs/2f0vf1tq\" target=\"_blank\">https://wandb.ai/tesis2/TesisDiego-%28clasificacion-clase-2%29/runs/2f0vf1tq</a><br/>Synced 6 W&B file(s), 15 media file(s), 7 artifact file(s) and 0 other file(s)"
      ],
      "text/plain": [
       "<IPython.core.display.HTML object>"
      ]
     },
     "metadata": {},
     "output_type": "display_data"
    },
    {
     "data": {
      "text/html": [
       "Find logs at: <code>.\\wandb\\run-20220425_112250-2f0vf1tq\\logs</code>"
      ],
      "text/plain": [
       "<IPython.core.display.HTML object>"
      ]
     },
     "metadata": {},
     "output_type": "display_data"
    },
    {
     "name": "stdout",
     "output_type": "stream",
     "text": [
      "--------------------------------------------------\n",
      "Inicio de la prueba N°: 5/6\n",
      "Dataset: C:/Users/Shounen/Desktop/Ciclo XI/Tesis 2/GPUTesis/Archivos/Dataset/SplittedV2/CLASE_TrainDS_10\n",
      "- Batch size:  32\n",
      "Creando modelo con input (20,20,3)) de tipo (clasificacion)\n",
      "Tamaño del dataset: Train 2161  - Val 541\n"
     ]
    },
    {
     "data": {
      "text/html": [
       "wandb version 0.12.15 is available!  To upgrade, please run:\n",
       " $ pip install wandb --upgrade"
      ],
      "text/plain": [
       "<IPython.core.display.HTML object>"
      ]
     },
     "metadata": {},
     "output_type": "display_data"
    },
    {
     "data": {
      "text/html": [
       "Tracking run with wandb version 0.12.11"
      ],
      "text/plain": [
       "<IPython.core.display.HTML object>"
      ]
     },
     "metadata": {},
     "output_type": "display_data"
    },
    {
     "data": {
      "text/html": [
       "Run data is saved locally in <code>C:\\Users\\Shounen\\Desktop\\Ciclo XI\\Tesis 2\\GPUTesis\\Codigo\\Entrenamiento\\Jupyter\\wandb\\run-20220425_112942-1uagaum9</code>"
      ],
      "text/plain": [
       "<IPython.core.display.HTML object>"
      ]
     },
     "metadata": {},
     "output_type": "display_data"
    },
    {
     "data": {
      "text/html": [
       "Syncing run <strong><a href=\"https://wandb.ai/tesis2/TesisDiego-%28clasificacion-clase-2%29/runs/1uagaum9\" target=\"_blank\">Ex_CLASE_TrainDS_10_(3-6-20)_20220425_112942</a></strong> to <a href=\"https://wandb.ai/tesis2/TesisDiego-%28clasificacion-clase-2%29\" target=\"_blank\">Weights & Biases</a> (<a href=\"https://wandb.me/run\" target=\"_blank\">docs</a>)<br/>"
      ],
      "text/plain": [
       "<IPython.core.display.HTML object>"
      ]
     },
     "metadata": {},
     "output_type": "display_data"
    },
    {
     "name": "stdout",
     "output_type": "stream",
     "text": [
      "Epoch 1/15\n",
      "68/68 [==============================] - ETA: 0s - loss: 0.6797 - acc: 0.5465 - true_positives_20: 854.0000 - true_negatives_20: 327.0000 - false_positives_20: 756.0000 - false_negatives_20: 224.0000\n",
      "Epoch 1: saving model to C:/Users/Shounen/Desktop/Ciclo XI/Tesis 2/GPUTesis/Archivos/Modelos\\clasificacion\\TesisDiego\\CLASE_TrainDS_10\\Model_clasificacion_clase_20220425_112942.hdf5\n",
      "68/68 [==============================] - 160s 2s/step - loss: 0.6797 - acc: 0.5465 - true_positives_20: 854.0000 - true_negatives_20: 327.0000 - false_positives_20: 756.0000 - false_negatives_20: 224.0000 - val_loss: 0.6724 - val_acc: 0.7705 - val_true_positives_20: 829.0000 - val_true_negatives_20: 836.0000 - val_false_positives_20: 247.0000 - val_false_negatives_20: 249.0000\n",
      "Epoch 2/15\n",
      "68/68 [==============================] - ETA: 0s - loss: 0.6665 - acc: 0.6863 - true_positives_20: 704.0000 - true_negatives_20: 779.0000 - false_positives_20: 304.0000 - false_negatives_20: 374.0000\n",
      "Epoch 2: saving model to C:/Users/Shounen/Desktop/Ciclo XI/Tesis 2/GPUTesis/Archivos/Modelos\\clasificacion\\TesisDiego\\CLASE_TrainDS_10\\Model_clasificacion_clase_20220425_112942.hdf5\n",
      "68/68 [==============================] - 163s 2s/step - loss: 0.6665 - acc: 0.6863 - true_positives_20: 704.0000 - true_negatives_20: 779.0000 - false_positives_20: 304.0000 - false_negatives_20: 374.0000 - val_loss: 0.6564 - val_acc: 0.7691 - val_true_positives_20: 795.0000 - val_true_negatives_20: 867.0000 - val_false_positives_20: 216.0000 - val_false_negatives_20: 283.0000\n",
      "Epoch 3/15\n",
      "68/68 [==============================] - ETA: 0s - loss: 0.6446 - acc: 0.7140 - true_positives_20: 694.0000 - true_negatives_20: 849.0000 - false_positives_20: 234.0000 - false_negatives_20: 384.0000\n",
      "Epoch 3: saving model to C:/Users/Shounen/Desktop/Ciclo XI/Tesis 2/GPUTesis/Archivos/Modelos\\clasificacion\\TesisDiego\\CLASE_TrainDS_10\\Model_clasificacion_clase_20220425_112942.hdf5\n",
      "68/68 [==============================] - 209s 3s/step - loss: 0.6446 - acc: 0.7140 - true_positives_20: 694.0000 - true_negatives_20: 849.0000 - false_positives_20: 234.0000 - false_negatives_20: 384.0000 - val_loss: 0.6289 - val_acc: 0.7691 - val_true_positives_20: 795.0000 - val_true_negatives_20: 867.0000 - val_false_positives_20: 216.0000 - val_false_negatives_20: 283.0000\n",
      "Epoch 4/15\n",
      "68/68 [==============================] - ETA: 0s - loss: 0.6088 - acc: 0.7307 - true_positives_20: 709.0000 - true_negatives_20: 870.0000 - false_positives_20: 213.0000 - false_negatives_20: 369.0000\n",
      "Epoch 4: saving model to C:/Users/Shounen/Desktop/Ciclo XI/Tesis 2/GPUTesis/Archivos/Modelos\\clasificacion\\TesisDiego\\CLASE_TrainDS_10\\Model_clasificacion_clase_20220425_112942.hdf5\n",
      "68/68 [==============================] - 155s 2s/step - loss: 0.6088 - acc: 0.7307 - true_positives_20: 709.0000 - true_negatives_20: 870.0000 - false_positives_20: 213.0000 - false_negatives_20: 369.0000 - val_loss: 0.5839 - val_acc: 0.7228 - val_true_positives_20: 592.0000 - val_true_negatives_20: 970.0000 - val_false_positives_20: 113.0000 - val_false_negatives_20: 486.0000\n",
      "Epoch 5/15\n",
      "68/68 [==============================] - ETA: 0s - loss: 0.5684 - acc: 0.7358 - true_positives_20: 722.0000 - true_negatives_20: 868.0000 - false_positives_20: 215.0000 - false_negatives_20: 356.0000\n",
      "Epoch 5: saving model to C:/Users/Shounen/Desktop/Ciclo XI/Tesis 2/GPUTesis/Archivos/Modelos\\clasificacion\\TesisDiego\\CLASE_TrainDS_10\\Model_clasificacion_clase_20220425_112942.hdf5\n",
      "68/68 [==============================] - 155s 2s/step - loss: 0.5684 - acc: 0.7358 - true_positives_20: 722.0000 - true_negatives_20: 868.0000 - false_positives_20: 215.0000 - false_negatives_20: 356.0000 - val_loss: 0.5442 - val_acc: 0.7214 - val_true_positives_20: 592.0000 - val_true_negatives_20: 967.0000 - val_false_positives_20: 116.0000 - val_false_negatives_20: 486.0000\n",
      "Epoch 6/15\n",
      "68/68 [==============================] - ETA: 0s - loss: 0.5304 - acc: 0.7422 - true_positives_20: 704.0000 - true_negatives_20: 900.0000 - false_positives_20: 183.0000 - false_negatives_20: 374.0000\n",
      "Epoch 6: saving model to C:/Users/Shounen/Desktop/Ciclo XI/Tesis 2/GPUTesis/Archivos/Modelos\\clasificacion\\TesisDiego\\CLASE_TrainDS_10\\Model_clasificacion_clase_20220425_112942.hdf5\n",
      "68/68 [==============================] - 164s 2s/step - loss: 0.5304 - acc: 0.7422 - true_positives_20: 704.0000 - true_negatives_20: 900.0000 - false_positives_20: 183.0000 - false_negatives_20: 374.0000 - val_loss: 0.5154 - val_acc: 0.7677 - val_true_positives_20: 795.0000 - val_true_negatives_20: 864.0000 - val_false_positives_20: 219.0000 - val_false_negatives_20: 283.0000\n",
      "Epoch 7/15\n",
      "68/68 [==============================] - ETA: 0s - loss: 0.5073 - acc: 0.7506 - true_positives_20: 734.0000 - true_negatives_20: 888.0000 - false_positives_20: 195.0000 - false_negatives_20: 344.0000\n",
      "Epoch 7: saving model to C:/Users/Shounen/Desktop/Ciclo XI/Tesis 2/GPUTesis/Archivos/Modelos\\clasificacion\\TesisDiego\\CLASE_TrainDS_10\\Model_clasificacion_clase_20220425_112942.hdf5\n",
      "68/68 [==============================] - 172s 2s/step - loss: 0.5073 - acc: 0.7506 - true_positives_20: 734.0000 - true_negatives_20: 888.0000 - false_positives_20: 195.0000 - false_negatives_20: 344.0000 - val_loss: 0.4942 - val_acc: 0.7677 - val_true_positives_20: 795.0000 - val_true_negatives_20: 864.0000 - val_false_positives_20: 219.0000 - val_false_negatives_20: 283.0000\n",
      "Epoch 8/15\n",
      "68/68 [==============================] - ETA: 0s - loss: 0.4906 - acc: 0.7575 - true_positives_20: 768.0000 - true_negatives_20: 869.0000 - false_positives_20: 214.0000 - false_negatives_20: 310.0000\n",
      "Epoch 8: saving model to C:/Users/Shounen/Desktop/Ciclo XI/Tesis 2/GPUTesis/Archivos/Modelos\\clasificacion\\TesisDiego\\CLASE_TrainDS_10\\Model_clasificacion_clase_20220425_112942.hdf5\n",
      "68/68 [==============================] - 153s 2s/step - loss: 0.4906 - acc: 0.7575 - true_positives_20: 768.0000 - true_negatives_20: 869.0000 - false_positives_20: 214.0000 - false_negatives_20: 310.0000 - val_loss: 0.4796 - val_acc: 0.7677 - val_true_positives_20: 795.0000 - val_true_negatives_20: 864.0000 - val_false_positives_20: 219.0000 - val_false_negatives_20: 283.0000\n",
      "\n"
     ]
    },
    {
     "data": {
      "text/html": [
       "Waiting for W&B process to finish... <strong style=\"color:green\">(success).</strong>"
      ],
      "text/plain": [
       "<IPython.core.display.HTML object>"
      ]
     },
     "metadata": {},
     "output_type": "display_data"
    },
    {
     "data": {
      "application/vnd.jupyter.widget-view+json": {
       "model_id": "",
       "version_major": 2,
       "version_minor": 0
      },
      "text/plain": [
       "VBox(children=(Label(value='0.004 MB of 0.004 MB uploaded (0.000 MB deduped)\\r'), FloatProgress(value=0.972522…"
      ]
     },
     "metadata": {},
     "output_type": "display_data"
    },
    {
     "data": {
      "text/html": [
       "<style>\n",
       "    table.wandb td:nth-child(1) { padding: 0 10px; text-align: right }\n",
       "    .wandb-row { display: flex; flex-direction: row; flex-wrap: wrap; width: 100% }\n",
       "    .wandb-col { display: flex; flex-direction: column; flex-basis: 100%; flex: 1; padding: 10px; }\n",
       "    </style>\n",
       "<div class=\"wandb-row\"><div class=\"wandb-col\"><h3>Run history:</h3><br/><table class=\"wandb\"><tr><td>acc</td><td>▁▆▇▇▇▇██</td></tr><tr><td>loss</td><td>██▇▅▄▂▂▁</td></tr><tr><td>val_FN</td><td>▁▂▂██▂▂▂</td></tr><tr><td>val_FP</td><td>█▆▆▁▁▇▇▇</td></tr><tr><td>val_TN</td><td>▁▃▃██▂▂▂</td></tr><tr><td>val_TP</td><td>█▇▇▁▁▇▇▇</td></tr><tr><td>val_acc</td><td>███▁▁███</td></tr><tr><td>val_loss</td><td>█▇▆▅▃▂▂▁</td></tr></table><br/></div><div class=\"wandb-col\"><h3>Run summary:</h3><br/><table class=\"wandb\"><tr><td>acc</td><td>0.75752</td></tr><tr><td>loss</td><td>0.49058</td></tr><tr><td>val_FN</td><td>283</td></tr><tr><td>val_FP</td><td>219</td></tr><tr><td>val_TN</td><td>864</td></tr><tr><td>val_TP</td><td>795</td></tr><tr><td>val_acc</td><td>0.7677</td></tr><tr><td>val_loss</td><td>0.47958</td></tr></table><br/></div></div>"
      ],
      "text/plain": [
       "<IPython.core.display.HTML object>"
      ]
     },
     "metadata": {},
     "output_type": "display_data"
    },
    {
     "data": {
      "text/html": [
       "Synced <strong style=\"color:#cdcd00\">Ex_CLASE_TrainDS_10_(3-6-20)_20220425_112942</strong>: <a href=\"https://wandb.ai/tesis2/TesisDiego-%28clasificacion-clase-2%29/runs/1uagaum9\" target=\"_blank\">https://wandb.ai/tesis2/TesisDiego-%28clasificacion-clase-2%29/runs/1uagaum9</a><br/>Synced 6 W&B file(s), 8 media file(s), 5 artifact file(s) and 0 other file(s)"
      ],
      "text/plain": [
       "<IPython.core.display.HTML object>"
      ]
     },
     "metadata": {},
     "output_type": "display_data"
    },
    {
     "data": {
      "text/html": [
       "Find logs at: <code>.\\wandb\\run-20220425_112942-1uagaum9\\logs</code>"
      ],
      "text/plain": [
       "<IPython.core.display.HTML object>"
      ]
     },
     "metadata": {},
     "output_type": "display_data"
    },
    {
     "name": "stdout",
     "output_type": "stream",
     "text": [
      "--------------------------------------------------\n",
      "Inicio de la prueba N°: 6/6\n",
      "Dataset: C:/Users/Shounen/Desktop/Ciclo XI/Tesis 2/GPUTesis/Archivos/Dataset/SplittedV2/CLASE_TrainDS_10\n",
      "- Batch size:  32\n",
      "Creando modelo con input (20,20,2)) de tipo (clasificacion)\n",
      "Tamaño del dataset: Train 2161  - Val 541\n"
     ]
    },
    {
     "data": {
      "text/html": [
       "wandb version 0.12.15 is available!  To upgrade, please run:\n",
       " $ pip install wandb --upgrade"
      ],
      "text/plain": [
       "<IPython.core.display.HTML object>"
      ]
     },
     "metadata": {},
     "output_type": "display_data"
    },
    {
     "data": {
      "text/html": [
       "Tracking run with wandb version 0.12.11"
      ],
      "text/plain": [
       "<IPython.core.display.HTML object>"
      ]
     },
     "metadata": {},
     "output_type": "display_data"
    },
    {
     "data": {
      "text/html": [
       "Run data is saved locally in <code>C:\\Users\\Shounen\\Desktop\\Ciclo XI\\Tesis 2\\GPUTesis\\Codigo\\Entrenamiento\\Jupyter\\wandb\\run-20220425_115204-1mpgiojs</code>"
      ],
      "text/plain": [
       "<IPython.core.display.HTML object>"
      ]
     },
     "metadata": {},
     "output_type": "display_data"
    },
    {
     "data": {
      "text/html": [
       "Syncing run <strong><a href=\"https://wandb.ai/tesis2/TesisDiego-%28clasificacion-clase-2%29/runs/1mpgiojs\" target=\"_blank\">Ex_CLASE_TrainDS_10_(2-6-20)_20220425_115204</a></strong> to <a href=\"https://wandb.ai/tesis2/TesisDiego-%28clasificacion-clase-2%29\" target=\"_blank\">Weights & Biases</a> (<a href=\"https://wandb.me/run\" target=\"_blank\">docs</a>)<br/>"
      ],
      "text/plain": [
       "<IPython.core.display.HTML object>"
      ]
     },
     "metadata": {},
     "output_type": "display_data"
    },
    {
     "name": "stdout",
     "output_type": "stream",
     "text": [
      "Epoch 1/15\n",
      "68/68 [==============================] - ETA: 0s - loss: 0.6896 - acc: 0.5211 - true_positives_21: 481.0000 - true_negatives_21: 645.0000 - false_positives_21: 446.0000 - false_negatives_21: 589.0000\n",
      "Epoch 1: saving model to C:/Users/Shounen/Desktop/Ciclo XI/Tesis 2/GPUTesis/Archivos/Modelos\\clasificacion\\TesisDiego\\CLASE_TrainDS_10\\Model_clasificacion_clase_20220425_115204.hdf5\n",
      "68/68 [==============================] - 154s 2s/step - loss: 0.6896 - acc: 0.5211 - true_positives_21: 481.0000 - true_negatives_21: 645.0000 - false_positives_21: 446.0000 - false_negatives_21: 589.0000 - val_loss: 0.6820 - val_acc: 0.5382 - val_true_positives_21: 1070.0000 - val_true_negatives_21: 93.0000 - val_false_positives_21: 998.0000 - val_false_negatives_21: 0.0000e+00\n",
      "Epoch 2/15\n",
      "68/68 [==============================] - ETA: 0s - loss: 0.6807 - acc: 0.5942 - true_positives_21: 781.0000 - true_negatives_21: 503.0000 - false_positives_21: 588.0000 - false_negatives_21: 289.0000\n",
      "Epoch 2: saving model to C:/Users/Shounen/Desktop/Ciclo XI/Tesis 2/GPUTesis/Archivos/Modelos\\clasificacion\\TesisDiego\\CLASE_TrainDS_10\\Model_clasificacion_clase_20220425_115204.hdf5\n",
      "68/68 [==============================] - 153s 2s/step - loss: 0.6807 - acc: 0.5942 - true_positives_21: 781.0000 - true_negatives_21: 503.0000 - false_positives_21: 588.0000 - false_negatives_21: 289.0000 - val_loss: 0.6779 - val_acc: 0.5386 - val_true_positives_21: 1070.0000 - val_true_negatives_21: 94.0000 - val_false_positives_21: 997.0000 - val_false_negatives_21: 0.0000e+00\n",
      "Epoch 3/15\n",
      "68/68 [==============================] - ETA: 0s - loss: 0.6757 - acc: 0.7089 - true_positives_21: 747.0000 - true_negatives_21: 785.0000 - false_positives_21: 306.0000 - false_negatives_21: 323.0000\n",
      "Epoch 3: saving model to C:/Users/Shounen/Desktop/Ciclo XI/Tesis 2/GPUTesis/Archivos/Modelos\\clasificacion\\TesisDiego\\CLASE_TrainDS_10\\Model_clasificacion_clase_20220425_115204.hdf5\n",
      "68/68 [==============================] - 160s 2s/step - loss: 0.6757 - acc: 0.7089 - true_positives_21: 747.0000 - true_negatives_21: 785.0000 - false_positives_21: 306.0000 - false_negatives_21: 323.0000 - val_loss: 0.6716 - val_acc: 0.7617 - val_true_positives_21: 1029.0000 - val_true_negatives_21: 617.0000 - val_false_positives_21: 474.0000 - val_false_negatives_21: 41.0000\n",
      "Epoch 4/15\n",
      "68/68 [==============================] - ETA: 0s - loss: 0.6682 - acc: 0.7210 - true_positives_21: 647.0000 - true_negatives_21: 911.0000 - false_positives_21: 180.0000 - false_negatives_21: 423.0000\n",
      "Epoch 4: saving model to C:/Users/Shounen/Desktop/Ciclo XI/Tesis 2/GPUTesis/Archivos/Modelos\\clasificacion\\TesisDiego\\CLASE_TrainDS_10\\Model_clasificacion_clase_20220425_115204.hdf5\n",
      "68/68 [==============================] - 160s 2s/step - loss: 0.6682 - acc: 0.7210 - true_positives_21: 647.0000 - true_negatives_21: 911.0000 - false_positives_21: 180.0000 - false_negatives_21: 423.0000 - val_loss: 0.6612 - val_acc: 0.7658 - val_true_positives_21: 792.0000 - val_true_negatives_21: 863.0000 - val_false_positives_21: 228.0000 - val_false_negatives_21: 278.0000\n",
      "Epoch 5/15\n",
      "68/68 [==============================] - ETA: 0s - loss: 0.6532 - acc: 0.7247 - true_positives_21: 658.0000 - true_negatives_21: 908.0000 - false_positives_21: 183.0000 - false_negatives_21: 412.0000\n",
      "Epoch 5: saving model to C:/Users/Shounen/Desktop/Ciclo XI/Tesis 2/GPUTesis/Archivos/Modelos\\clasificacion\\TesisDiego\\CLASE_TrainDS_10\\Model_clasificacion_clase_20220425_115204.hdf5\n",
      "68/68 [==============================] - 183s 3s/step - loss: 0.6532 - acc: 0.7247 - true_positives_21: 658.0000 - true_negatives_21: 908.0000 - false_positives_21: 183.0000 - false_negatives_21: 412.0000 - val_loss: 0.6400 - val_acc: 0.7594 - val_true_positives_21: 792.0000 - val_true_negatives_21: 849.0000 - val_false_positives_21: 242.0000 - val_false_negatives_21: 278.0000\n",
      "Epoch 6/15\n",
      "68/68 [==============================] - ETA: 0s - loss: 0.6272 - acc: 0.7182 - true_positives_21: 618.0000 - true_negatives_21: 934.0000 - false_positives_21: 157.0000 - false_negatives_21: 452.0000\n",
      "Epoch 6: saving model to C:/Users/Shounen/Desktop/Ciclo XI/Tesis 2/GPUTesis/Archivos/Modelos\\clasificacion\\TesisDiego\\CLASE_TrainDS_10\\Model_clasificacion_clase_20220425_115204.hdf5\n",
      "68/68 [==============================] - 285s 4s/step - loss: 0.6272 - acc: 0.7182 - true_positives_21: 618.0000 - true_negatives_21: 934.0000 - false_positives_21: 157.0000 - false_negatives_21: 452.0000 - val_loss: 0.6122 - val_acc: 0.7608 - val_true_positives_21: 825.0000 - val_true_negatives_21: 819.0000 - val_false_positives_21: 272.0000 - val_false_negatives_21: 245.0000\n",
      "Epoch 7/15\n",
      "68/68 [==============================] - ETA: 0s - loss: 0.5945 - acc: 0.7353 - true_positives_21: 678.0000 - true_negatives_21: 911.0000 - false_positives_21: 180.0000 - false_negatives_21: 392.0000\n",
      "Epoch 7: saving model to C:/Users/Shounen/Desktop/Ciclo XI/Tesis 2/GPUTesis/Archivos/Modelos\\clasificacion\\TesisDiego\\CLASE_TrainDS_10\\Model_clasificacion_clase_20220425_115204.hdf5\n",
      "68/68 [==============================] - 157s 2s/step - loss: 0.5945 - acc: 0.7353 - true_positives_21: 678.0000 - true_negatives_21: 911.0000 - false_positives_21: 180.0000 - false_negatives_21: 392.0000 - val_loss: 0.5737 - val_acc: 0.7594 - val_true_positives_21: 792.0000 - val_true_negatives_21: 849.0000 - val_false_positives_21: 242.0000 - val_false_negatives_21: 278.0000\n",
      "Epoch 8/15\n",
      "68/68 [==============================] - ETA: 0s - loss: 0.5606 - acc: 0.7446 - true_positives_21: 702.0000 - true_negatives_21: 907.0000 - false_positives_21: 184.0000 - false_negatives_21: 368.0000\n",
      "Epoch 8: saving model to C:/Users/Shounen/Desktop/Ciclo XI/Tesis 2/GPUTesis/Archivos/Modelos\\clasificacion\\TesisDiego\\CLASE_TrainDS_10\\Model_clasificacion_clase_20220425_115204.hdf5\n",
      "68/68 [==============================] - 154s 2s/step - loss: 0.5606 - acc: 0.7446 - true_positives_21: 702.0000 - true_negatives_21: 907.0000 - false_positives_21: 184.0000 - false_negatives_21: 368.0000 - val_loss: 0.5495 - val_acc: 0.7612 - val_true_positives_21: 792.0000 - val_true_negatives_21: 853.0000 - val_false_positives_21: 238.0000 - val_false_negatives_21: 278.0000\n",
      "Epoch 9/15\n",
      "68/68 [==============================] - ETA: 0s - loss: 0.5348 - acc: 0.7455 - true_positives_21: 727.0000 - true_negatives_21: 884.0000 - false_positives_21: 207.0000 - false_negatives_21: 343.0000\n",
      "Epoch 9: saving model to C:/Users/Shounen/Desktop/Ciclo XI/Tesis 2/GPUTesis/Archivos/Modelos\\clasificacion\\TesisDiego\\CLASE_TrainDS_10\\Model_clasificacion_clase_20220425_115204.hdf5\n",
      "68/68 [==============================] - 155s 2s/step - loss: 0.5348 - acc: 0.7455 - true_positives_21: 727.0000 - true_negatives_21: 884.0000 - false_positives_21: 207.0000 - false_negatives_21: 343.0000 - val_loss: 0.5239 - val_acc: 0.7654 - val_true_positives_21: 792.0000 - val_true_negatives_21: 862.0000 - val_false_positives_21: 229.0000 - val_false_negatives_21: 278.0000\n",
      "Epoch 10/15\n",
      "68/68 [==============================] - ETA: 0s - loss: 0.5130 - acc: 0.7584 - true_positives_21: 759.0000 - true_negatives_21: 880.0000 - false_positives_21: 211.0000 - false_negatives_21: 311.0000\n",
      "Epoch 10: saving model to C:/Users/Shounen/Desktop/Ciclo XI/Tesis 2/GPUTesis/Archivos/Modelos\\clasificacion\\TesisDiego\\CLASE_TrainDS_10\\Model_clasificacion_clase_20220425_115204.hdf5\n",
      "68/68 [==============================] - 155s 2s/step - loss: 0.5130 - acc: 0.7584 - true_positives_21: 759.0000 - true_negatives_21: 880.0000 - false_positives_21: 211.0000 - false_negatives_21: 311.0000 - val_loss: 0.5057 - val_acc: 0.7672 - val_true_positives_21: 792.0000 - val_true_negatives_21: 866.0000 - val_false_positives_21: 225.0000 - val_false_negatives_21: 278.0000\n",
      "Epoch 11/15\n",
      "68/68 [==============================] - ETA: 0s - loss: 0.4971 - acc: 0.7626 - true_positives_21: 773.0000 - true_negatives_21: 875.0000 - false_positives_21: 216.0000 - false_negatives_21: 297.0000\n",
      "Epoch 11: saving model to C:/Users/Shounen/Desktop/Ciclo XI/Tesis 2/GPUTesis/Archivos/Modelos\\clasificacion\\TesisDiego\\CLASE_TrainDS_10\\Model_clasificacion_clase_20220425_115204.hdf5\n",
      "68/68 [==============================] - 154s 2s/step - loss: 0.4971 - acc: 0.7626 - true_positives_21: 773.0000 - true_negatives_21: 875.0000 - false_positives_21: 216.0000 - false_negatives_21: 297.0000 - val_loss: 0.4930 - val_acc: 0.7686 - val_true_positives_21: 792.0000 - val_true_negatives_21: 869.0000 - val_false_positives_21: 222.0000 - val_false_negatives_21: 278.0000\n"
     ]
    },
    {
     "name": "stdout",
     "output_type": "stream",
     "text": [
      "Epoch 12/15\n",
      "68/68 [==============================] - ETA: 0s - loss: 0.4865 - acc: 0.7668 - true_positives_21: 782.0000 - true_negatives_21: 875.0000 - false_positives_21: 216.0000 - false_negatives_21: 288.0000\n",
      "Epoch 12: saving model to C:/Users/Shounen/Desktop/Ciclo XI/Tesis 2/GPUTesis/Archivos/Modelos\\clasificacion\\TesisDiego\\CLASE_TrainDS_10\\Model_clasificacion_clase_20220425_115204.hdf5\n",
      "68/68 [==============================] - 286s 4s/step - loss: 0.4865 - acc: 0.7668 - true_positives_21: 782.0000 - true_negatives_21: 875.0000 - false_positives_21: 216.0000 - false_negatives_21: 288.0000 - val_loss: 0.4865 - val_acc: 0.7705 - val_true_positives_21: 792.0000 - val_true_negatives_21: 873.0000 - val_false_positives_21: 218.0000 - val_false_negatives_21: 278.0000\n",
      "Epoch 13/15\n",
      "68/68 [==============================] - ETA: 0s - loss: 0.4778 - acc: 0.7658 - true_positives_21: 789.0000 - true_negatives_21: 866.0000 - false_positives_21: 225.0000 - false_negatives_21: 281.0000\n",
      "Epoch 13: saving model to C:/Users/Shounen/Desktop/Ciclo XI/Tesis 2/GPUTesis/Archivos/Modelos\\clasificacion\\TesisDiego\\CLASE_TrainDS_10\\Model_clasificacion_clase_20220425_115204.hdf5\n",
      "68/68 [==============================] - 171s 3s/step - loss: 0.4778 - acc: 0.7658 - true_positives_21: 789.0000 - true_negatives_21: 866.0000 - false_positives_21: 225.0000 - false_negatives_21: 281.0000 - val_loss: 0.4760 - val_acc: 0.7696 - val_true_positives_21: 792.0000 - val_true_negatives_21: 871.0000 - val_false_positives_21: 220.0000 - val_false_negatives_21: 278.0000\n",
      "Epoch 14/15\n",
      "68/68 [==============================] - ETA: 0s - loss: 0.4730 - acc: 0.7672 - true_positives_21: 791.0000 - true_negatives_21: 867.0000 - false_positives_21: 224.0000 - false_negatives_21: 279.0000\n",
      "Epoch 14: saving model to C:/Users/Shounen/Desktop/Ciclo XI/Tesis 2/GPUTesis/Archivos/Modelos\\clasificacion\\TesisDiego\\CLASE_TrainDS_10\\Model_clasificacion_clase_20220425_115204.hdf5\n",
      "68/68 [==============================] - 154s 2s/step - loss: 0.4730 - acc: 0.7672 - true_positives_21: 791.0000 - true_negatives_21: 867.0000 - false_positives_21: 224.0000 - false_negatives_21: 279.0000 - val_loss: 0.4677 - val_acc: 0.7686 - val_true_positives_21: 792.0000 - val_true_negatives_21: 869.0000 - val_false_positives_21: 222.0000 - val_false_negatives_21: 278.0000\n",
      "Epoch 15/15\n",
      "68/68 [==============================] - ETA: 0s - loss: 0.4679 - acc: 0.7686 - true_positives_21: 792.0000 - true_negatives_21: 869.0000 - false_positives_21: 222.0000 - false_negatives_21: 278.0000\n",
      "Epoch 15: saving model to C:/Users/Shounen/Desktop/Ciclo XI/Tesis 2/GPUTesis/Archivos/Modelos\\clasificacion\\TesisDiego\\CLASE_TrainDS_10\\Model_clasificacion_clase_20220425_115204.hdf5\n",
      "68/68 [==============================] - 275s 4s/step - loss: 0.4679 - acc: 0.7686 - true_positives_21: 792.0000 - true_negatives_21: 869.0000 - false_positives_21: 222.0000 - false_negatives_21: 278.0000 - val_loss: 0.4625 - val_acc: 0.7672 - val_true_positives_21: 792.0000 - val_true_negatives_21: 866.0000 - val_false_positives_21: 225.0000 - val_false_negatives_21: 278.0000\n",
      "\n"
     ]
    },
    {
     "data": {
      "text/html": [
       "Waiting for W&B process to finish... <strong style=\"color:green\">(success).</strong>"
      ],
      "text/plain": [
       "<IPython.core.display.HTML object>"
      ]
     },
     "metadata": {},
     "output_type": "display_data"
    },
    {
     "data": {
      "application/vnd.jupyter.widget-view+json": {
       "model_id": "",
       "version_major": 2,
       "version_minor": 0
      },
      "text/plain": [
       "VBox(children=(Label(value='0.009 MB of 0.009 MB uploaded (0.000 MB deduped)\\r'), FloatProgress(value=0.986767…"
      ]
     },
     "metadata": {},
     "output_type": "display_data"
    },
    {
     "data": {
      "text/html": [
       "<style>\n",
       "    table.wandb td:nth-child(1) { padding: 0 10px; text-align: right }\n",
       "    .wandb-row { display: flex; flex-direction: row; flex-wrap: wrap; width: 100% }\n",
       "    .wandb-col { display: flex; flex-direction: column; flex-basis: 100%; flex: 1; padding: 10px; }\n",
       "    </style>\n",
       "<div class=\"wandb-row\"><div class=\"wandb-col\"><h3>Run history:</h3><br/><table class=\"wandb\"><tr><td>acc</td><td>▁▃▆▇▇▇▇▇▇██████</td></tr><tr><td>loss</td><td>███▇▇▆▅▄▃▂▂▂▁▁▁</td></tr><tr><td>val_FN</td><td>▁▁▂██▇█████████</td></tr><tr><td>val_FP</td><td>██▃▁▁▁▁▁▁▁▁▁▁▁▁</td></tr><tr><td>val_TN</td><td>▁▁▆████████████</td></tr><tr><td>val_TP</td><td>██▇▁▁▂▁▁▁▁▁▁▁▁▁</td></tr><tr><td>val_acc</td><td>▁▁█████████████</td></tr><tr><td>val_loss</td><td>███▇▇▆▅▄▃▂▂▂▁▁▁</td></tr></table><br/></div><div class=\"wandb-col\"><h3>Run summary:</h3><br/><table class=\"wandb\"><tr><td>acc</td><td>0.76863</td></tr><tr><td>loss</td><td>0.46792</td></tr><tr><td>val_FN</td><td>278</td></tr><tr><td>val_FP</td><td>225</td></tr><tr><td>val_TN</td><td>866</td></tr><tr><td>val_TP</td><td>792</td></tr><tr><td>val_acc</td><td>0.76724</td></tr><tr><td>val_loss</td><td>0.46245</td></tr></table><br/></div></div>"
      ],
      "text/plain": [
       "<IPython.core.display.HTML object>"
      ]
     },
     "metadata": {},
     "output_type": "display_data"
    },
    {
     "data": {
      "text/html": [
       "Synced <strong style=\"color:#cdcd00\">Ex_CLASE_TrainDS_10_(2-6-20)_20220425_115204</strong>: <a href=\"https://wandb.ai/tesis2/TesisDiego-%28clasificacion-clase-2%29/runs/1mpgiojs\" target=\"_blank\">https://wandb.ai/tesis2/TesisDiego-%28clasificacion-clase-2%29/runs/1mpgiojs</a><br/>Synced 6 W&B file(s), 15 media file(s), 12 artifact file(s) and 0 other file(s)"
      ],
      "text/plain": [
       "<IPython.core.display.HTML object>"
      ]
     },
     "metadata": {},
     "output_type": "display_data"
    },
    {
     "data": {
      "text/html": [
       "Find logs at: <code>.\\wandb\\run-20220425_115204-1mpgiojs\\logs</code>"
      ],
      "text/plain": [
       "<IPython.core.display.HTML object>"
      ]
     },
     "metadata": {},
     "output_type": "display_data"
    },
    {
     "name": "stdout",
     "output_type": "stream",
     "text": [
      "--------------------------------------------------\n",
      "Inicio de la prueba N°: 1/6\n",
      "Dataset: C:/Users/Shounen/Desktop/Ciclo XI/Tesis 2/GPUTesis/Archivos/Dataset/SplittedV2/CLASE_TrainDS_11\n",
      "- Batch size:  32\n",
      "Creando modelo con input (30,30,3)) de tipo (clasificacion)\n",
      "Tamaño del dataset: Train 2161  - Val 541\n"
     ]
    },
    {
     "data": {
      "text/html": [
       "wandb version 0.12.15 is available!  To upgrade, please run:\n",
       " $ pip install wandb --upgrade"
      ],
      "text/plain": [
       "<IPython.core.display.HTML object>"
      ]
     },
     "metadata": {},
     "output_type": "display_data"
    },
    {
     "data": {
      "text/html": [
       "Tracking run with wandb version 0.12.11"
      ],
      "text/plain": [
       "<IPython.core.display.HTML object>"
      ]
     },
     "metadata": {},
     "output_type": "display_data"
    },
    {
     "data": {
      "text/html": [
       "Run data is saved locally in <code>C:\\Users\\Shounen\\Desktop\\Ciclo XI\\Tesis 2\\GPUTesis\\Codigo\\Entrenamiento\\Jupyter\\wandb\\run-20220425_123819-ztj786wf</code>"
      ],
      "text/plain": [
       "<IPython.core.display.HTML object>"
      ]
     },
     "metadata": {},
     "output_type": "display_data"
    },
    {
     "data": {
      "text/html": [
       "Syncing run <strong><a href=\"https://wandb.ai/tesis2/TesisDiego-%28clasificacion-clase-2%29/runs/ztj786wf\" target=\"_blank\">Ex_CLASE_TrainDS_11_(3-6-30)_20220425_123819</a></strong> to <a href=\"https://wandb.ai/tesis2/TesisDiego-%28clasificacion-clase-2%29\" target=\"_blank\">Weights & Biases</a> (<a href=\"https://wandb.me/run\" target=\"_blank\">docs</a>)<br/>"
      ],
      "text/plain": [
       "<IPython.core.display.HTML object>"
      ]
     },
     "metadata": {},
     "output_type": "display_data"
    },
    {
     "name": "stdout",
     "output_type": "stream",
     "text": [
      "Epoch 1/15\n",
      "68/68 [==============================] - ETA: 0s - loss: 0.6833 - acc: 0.5807 - true_positives_22: 558.0000 - true_negatives_22: 697.0000 - false_positives_22: 385.0000 - false_negatives_22: 521.0000\n",
      "Epoch 1: saving model to C:/Users/Shounen/Desktop/Ciclo XI/Tesis 2/GPUTesis/Archivos/Modelos\\clasificacion\\TesisDiego\\CLASE_TrainDS_11\\Model_clasificacion_clase_20220425_123819.hdf5\n",
      "68/68 [==============================] - 182s 3s/step - loss: 0.6833 - acc: 0.5807 - true_positives_22: 558.0000 - true_negatives_22: 697.0000 - false_positives_22: 385.0000 - false_negatives_22: 521.0000 - val_loss: 0.6759 - val_acc: 0.6974 - val_true_positives_22: 517.0000 - val_true_negatives_22: 990.0000 - val_false_positives_22: 92.0000 - val_false_negatives_22: 562.0000\n",
      "Epoch 2/15\n",
      "68/68 [==============================] - ETA: 0s - loss: 0.6697 - acc: 0.6752 - true_positives_22: 731.0000 - true_negatives_22: 728.0000 - false_positives_22: 354.0000 - false_negatives_22: 348.0000\n",
      "Epoch 2: saving model to C:/Users/Shounen/Desktop/Ciclo XI/Tesis 2/GPUTesis/Archivos/Modelos\\clasificacion\\TesisDiego\\CLASE_TrainDS_11\\Model_clasificacion_clase_20220425_123819.hdf5\n",
      "68/68 [==============================] - 267s 4s/step - loss: 0.6697 - acc: 0.6752 - true_positives_22: 731.0000 - true_negatives_22: 728.0000 - false_positives_22: 354.0000 - false_negatives_22: 348.0000 - val_loss: 0.6632 - val_acc: 0.6150 - val_true_positives_22: 304.0000 - val_true_negatives_22: 1025.0000 - val_false_positives_22: 57.0000 - val_false_negatives_22: 775.0000\n",
      "Epoch 3/15\n",
      "68/68 [==============================] - ETA: 0s - loss: 0.6480 - acc: 0.7126 - true_positives_22: 692.0000 - true_negatives_22: 848.0000 - false_positives_22: 234.0000 - false_negatives_22: 387.0000\n",
      "Epoch 3: saving model to C:/Users/Shounen/Desktop/Ciclo XI/Tesis 2/GPUTesis/Archivos/Modelos\\clasificacion\\TesisDiego\\CLASE_TrainDS_11\\Model_clasificacion_clase_20220425_123819.hdf5\n",
      "68/68 [==============================] - 175s 3s/step - loss: 0.6480 - acc: 0.7126 - true_positives_22: 692.0000 - true_negatives_22: 848.0000 - false_positives_22: 234.0000 - false_negatives_22: 387.0000 - val_loss: 0.6331 - val_acc: 0.6349 - val_true_positives_22: 382.0000 - val_true_negatives_22: 990.0000 - val_false_positives_22: 92.0000 - val_false_negatives_22: 697.0000\n",
      "Epoch 4/15\n",
      "67/68 [============================>.] - ETA: 1s - loss: 0.6103 - acc: 0.7365 - true_positives_22: 697.0000 - true_negatives_22: 882.0000 - false_positives_22: 191.0000 - false_negatives_22: 374.0000\n",
      "Epoch 4: saving model to C:/Users/Shounen/Desktop/Ciclo XI/Tesis 2/GPUTesis/Archivos/Modelos\\clasificacion\\TesisDiego\\CLASE_TrainDS_11\\Model_clasificacion_clase_20220425_123819.hdf5\n",
      "68/68 [==============================] - 155s 2s/step - loss: 0.6109 - acc: 0.7348 - true_positives_22: 700.0000 - true_negatives_22: 888.0000 - false_positives_22: 194.0000 - false_negatives_22: 379.0000 - val_loss: 0.5919 - val_acc: 0.6835 - val_true_positives_22: 503.0000 - val_true_negatives_22: 974.0000 - val_false_positives_22: 108.0000 - val_false_negatives_22: 576.0000\n",
      "Epoch 5/15\n",
      "68/68 [==============================] - ETA: 0s - loss: 0.5678 - acc: 0.7427 - true_positives_22: 716.0000 - true_negatives_22: 889.0000 - false_positives_22: 193.0000 - false_negatives_22: 363.0000\n",
      "Epoch 5: saving model to C:/Users/Shounen/Desktop/Ciclo XI/Tesis 2/GPUTesis/Archivos/Modelos\\clasificacion\\TesisDiego\\CLASE_TrainDS_11\\Model_clasificacion_clase_20220425_123819.hdf5\n",
      "68/68 [==============================] - 161s 2s/step - loss: 0.5678 - acc: 0.7427 - true_positives_22: 716.0000 - true_negatives_22: 889.0000 - false_positives_22: 193.0000 - false_negatives_22: 363.0000 - val_loss: 0.5516 - val_acc: 0.7261 - val_true_positives_22: 618.0000 - val_true_negatives_22: 951.0000 - val_false_positives_22: 131.0000 - val_false_negatives_22: 461.0000\n",
      "Epoch 6/15\n",
      "68/68 [==============================] - ETA: 0s - loss: 0.5315 - acc: 0.7543 - true_positives_22: 745.0000 - true_negatives_22: 885.0000 - false_positives_22: 197.0000 - false_negatives_22: 334.0000\n",
      "Epoch 6: saving model to C:/Users/Shounen/Desktop/Ciclo XI/Tesis 2/GPUTesis/Archivos/Modelos\\clasificacion\\TesisDiego\\CLASE_TrainDS_11\\Model_clasificacion_clase_20220425_123819.hdf5\n",
      "68/68 [==============================] - 154s 2s/step - loss: 0.5315 - acc: 0.7543 - true_positives_22: 745.0000 - true_negatives_22: 885.0000 - false_positives_22: 197.0000 - false_negatives_22: 334.0000 - val_loss: 0.5214 - val_acc: 0.7261 - val_true_positives_22: 618.0000 - val_true_negatives_22: 951.0000 - val_false_positives_22: 131.0000 - val_false_negatives_22: 461.0000\n",
      "Epoch 7/15\n",
      "68/68 [==============================] - ETA: 0s - loss: 0.5043 - acc: 0.7594 - true_positives_22: 759.0000 - true_negatives_22: 882.0000 - false_positives_22: 200.0000 - false_negatives_22: 320.0000\n",
      "Epoch 7: saving model to C:/Users/Shounen/Desktop/Ciclo XI/Tesis 2/GPUTesis/Archivos/Modelos\\clasificacion\\TesisDiego\\CLASE_TrainDS_11\\Model_clasificacion_clase_20220425_123819.hdf5\n",
      "68/68 [==============================] - 155s 2s/step - loss: 0.5043 - acc: 0.7594 - true_positives_22: 759.0000 - true_negatives_22: 882.0000 - false_positives_22: 200.0000 - false_negatives_22: 320.0000 - val_loss: 0.5001 - val_acc: 0.7288 - val_true_positives_22: 621.0000 - val_true_negatives_22: 954.0000 - val_false_positives_22: 128.0000 - val_false_negatives_22: 458.0000\n",
      "Epoch 8/15\n",
      "68/68 [==============================] - ETA: 0s - loss: 0.4856 - acc: 0.7700 - true_positives_22: 800.0000 - true_negatives_22: 864.0000 - false_positives_22: 218.0000 - false_negatives_22: 279.0000\n",
      "Epoch 8: saving model to C:/Users/Shounen/Desktop/Ciclo XI/Tesis 2/GPUTesis/Archivos/Modelos\\clasificacion\\TesisDiego\\CLASE_TrainDS_11\\Model_clasificacion_clase_20220425_123819.hdf5\n",
      "68/68 [==============================] - 159s 2s/step - loss: 0.4856 - acc: 0.7700 - true_positives_22: 800.0000 - true_negatives_22: 864.0000 - false_positives_22: 218.0000 - false_negatives_22: 279.0000 - val_loss: 0.4844 - val_acc: 0.7293 - val_true_positives_22: 621.0000 - val_true_negatives_22: 955.0000 - val_false_positives_22: 127.0000 - val_false_negatives_22: 458.0000\n",
      "Epoch 9/15\n",
      "68/68 [==============================] - ETA: 0s - loss: 0.4736 - acc: 0.7691 - true_positives_22: 806.0000 - true_negatives_22: 856.0000 - false_positives_22: 226.0000 - false_negatives_22: 273.0000\n",
      "Epoch 9: saving model to C:/Users/Shounen/Desktop/Ciclo XI/Tesis 2/GPUTesis/Archivos/Modelos\\clasificacion\\TesisDiego\\CLASE_TrainDS_11\\Model_clasificacion_clase_20220425_123819.hdf5\n",
      "68/68 [==============================] - 168s 2s/step - loss: 0.4736 - acc: 0.7691 - true_positives_22: 806.0000 - true_negatives_22: 856.0000 - false_positives_22: 226.0000 - false_negatives_22: 273.0000 - val_loss: 0.4748 - val_acc: 0.7709 - val_true_positives_22: 810.0000 - val_true_negatives_22: 856.0000 - val_false_positives_22: 226.0000 - val_false_negatives_22: 269.0000\n",
      "Epoch 10/15\n",
      "68/68 [==============================] - ETA: 0s - loss: 0.4652 - acc: 0.7719 - true_positives_22: 810.0000 - true_negatives_22: 858.0000 - false_positives_22: 224.0000 - false_negatives_22: 269.0000\n",
      "Epoch 10: saving model to C:/Users/Shounen/Desktop/Ciclo XI/Tesis 2/GPUTesis/Archivos/Modelos\\clasificacion\\TesisDiego\\CLASE_TrainDS_11\\Model_clasificacion_clase_20220425_123819.hdf5\n",
      "68/68 [==============================] - 294s 4s/step - loss: 0.4652 - acc: 0.7719 - true_positives_22: 810.0000 - true_negatives_22: 858.0000 - false_positives_22: 224.0000 - false_negatives_22: 269.0000 - val_loss: 0.4664 - val_acc: 0.7709 - val_true_positives_22: 810.0000 - val_true_negatives_22: 856.0000 - val_false_positives_22: 226.0000 - val_false_negatives_22: 269.0000\n",
      "Epoch 11/15\n",
      "68/68 [==============================] - ETA: 0s - loss: 0.4600 - acc: 0.7728 - true_positives_22: 810.0000 - true_negatives_22: 860.0000 - false_positives_22: 222.0000 - false_negatives_22: 269.0000\n",
      "Epoch 11: saving model to C:/Users/Shounen/Desktop/Ciclo XI/Tesis 2/GPUTesis/Archivos/Modelos\\clasificacion\\TesisDiego\\CLASE_TrainDS_11\\Model_clasificacion_clase_20220425_123819.hdf5\n",
      "68/68 [==============================] - 214s 3s/step - loss: 0.4600 - acc: 0.7728 - true_positives_22: 810.0000 - true_negatives_22: 860.0000 - false_positives_22: 222.0000 - false_negatives_22: 269.0000 - val_loss: 0.4611 - val_acc: 0.7723 - val_true_positives_22: 810.0000 - val_true_negatives_22: 859.0000 - val_false_positives_22: 223.0000 - val_false_negatives_22: 269.0000\n"
     ]
    },
    {
     "name": "stdout",
     "output_type": "stream",
     "text": [
      "Epoch 12/15\n",
      "68/68 [==============================] - ETA: 0s - loss: 0.4568 - acc: 0.7728 - true_positives_22: 810.0000 - true_negatives_22: 860.0000 - false_positives_22: 222.0000 - false_negatives_22: 269.0000\n",
      "Epoch 12: saving model to C:/Users/Shounen/Desktop/Ciclo XI/Tesis 2/GPUTesis/Archivos/Modelos\\clasificacion\\TesisDiego\\CLASE_TrainDS_11\\Model_clasificacion_clase_20220425_123819.hdf5\n",
      "68/68 [==============================] - 224s 3s/step - loss: 0.4568 - acc: 0.7728 - true_positives_22: 810.0000 - true_negatives_22: 860.0000 - false_positives_22: 222.0000 - false_negatives_22: 269.0000 - val_loss: 0.4568 - val_acc: 0.7723 - val_true_positives_22: 810.0000 - val_true_negatives_22: 859.0000 - val_false_positives_22: 223.0000 - val_false_negatives_22: 269.0000\n",
      "Epoch 13/15\n",
      "68/68 [==============================] - ETA: 0s - loss: 0.4546 - acc: 0.7733 - true_positives_22: 810.0000 - true_negatives_22: 861.0000 - false_positives_22: 221.0000 - false_negatives_22: 269.0000\n",
      "Epoch 13: saving model to C:/Users/Shounen/Desktop/Ciclo XI/Tesis 2/GPUTesis/Archivos/Modelos\\clasificacion\\TesisDiego\\CLASE_TrainDS_11\\Model_clasificacion_clase_20220425_123819.hdf5\n",
      "68/68 [==============================] - 217s 3s/step - loss: 0.4546 - acc: 0.7733 - true_positives_22: 810.0000 - true_negatives_22: 861.0000 - false_positives_22: 221.0000 - false_negatives_22: 269.0000 - val_loss: 0.4528 - val_acc: 0.7723 - val_true_positives_22: 810.0000 - val_true_negatives_22: 859.0000 - val_false_positives_22: 223.0000 - val_false_negatives_22: 269.0000\n",
      "Epoch 14/15\n",
      "68/68 [==============================] - ETA: 0s - loss: 0.4530 - acc: 0.7733 - true_positives_22: 810.0000 - true_negatives_22: 861.0000 - false_positives_22: 221.0000 - false_negatives_22: 269.0000\n",
      "Epoch 14: saving model to C:/Users/Shounen/Desktop/Ciclo XI/Tesis 2/GPUTesis/Archivos/Modelos\\clasificacion\\TesisDiego\\CLASE_TrainDS_11\\Model_clasificacion_clase_20220425_123819.hdf5\n",
      "68/68 [==============================] - 211s 3s/step - loss: 0.4530 - acc: 0.7733 - true_positives_22: 810.0000 - true_negatives_22: 861.0000 - false_positives_22: 221.0000 - false_negatives_22: 269.0000 - val_loss: 0.4506 - val_acc: 0.7723 - val_true_positives_22: 810.0000 - val_true_negatives_22: 859.0000 - val_false_positives_22: 223.0000 - val_false_negatives_22: 269.0000\n",
      "Epoch 15/15\n",
      "68/68 [==============================] - ETA: 0s - loss: 0.4513 - acc: 0.7733 - true_positives_22: 810.0000 - true_negatives_22: 861.0000 - false_positives_22: 221.0000 - false_negatives_22: 269.0000\n",
      "Epoch 15: saving model to C:/Users/Shounen/Desktop/Ciclo XI/Tesis 2/GPUTesis/Archivos/Modelos\\clasificacion\\TesisDiego\\CLASE_TrainDS_11\\Model_clasificacion_clase_20220425_123819.hdf5\n",
      "68/68 [==============================] - 211s 3s/step - loss: 0.4513 - acc: 0.7733 - true_positives_22: 810.0000 - true_negatives_22: 861.0000 - false_positives_22: 221.0000 - false_negatives_22: 269.0000 - val_loss: 0.4475 - val_acc: 0.7723 - val_true_positives_22: 810.0000 - val_true_negatives_22: 859.0000 - val_false_positives_22: 223.0000 - val_false_negatives_22: 269.0000\n",
      "\n"
     ]
    },
    {
     "data": {
      "text/html": [
       "Waiting for W&B process to finish... <strong style=\"color:green\">(success).</strong>"
      ],
      "text/plain": [
       "<IPython.core.display.HTML object>"
      ]
     },
     "metadata": {},
     "output_type": "display_data"
    },
    {
     "data": {
      "application/vnd.jupyter.widget-view+json": {
       "model_id": "",
       "version_major": 2,
       "version_minor": 0
      },
      "text/plain": [
       "VBox(children=(Label(value='0.007 MB of 0.007 MB uploaded (0.000 MB deduped)\\r'), FloatProgress(value=1.0, max…"
      ]
     },
     "metadata": {},
     "output_type": "display_data"
    },
    {
     "data": {
      "text/html": [
       "<style>\n",
       "    table.wandb td:nth-child(1) { padding: 0 10px; text-align: right }\n",
       "    .wandb-row { display: flex; flex-direction: row; flex-wrap: wrap; width: 100% }\n",
       "    .wandb-col { display: flex; flex-direction: column; flex-basis: 100%; flex: 1; padding: 10px; }\n",
       "    </style>\n",
       "<div class=\"wandb-row\"><div class=\"wandb-col\"><h3>Run history:</h3><br/><table class=\"wandb\"><tr><td>acc</td><td>▁▄▆▇▇▇▇████████</td></tr><tr><td>loss</td><td>██▇▆▅▃▃▂▂▁▁▁▁▁▁</td></tr><tr><td>val_FN</td><td>▅█▇▅▄▄▄▄▁▁▁▁▁▁▁</td></tr><tr><td>val_FP</td><td>▂▁▂▃▄▄▄▄███████</td></tr><tr><td>val_TN</td><td>▇█▇▆▅▅▅▅▁▁▁▁▁▁▁</td></tr><tr><td>val_TP</td><td>▄▁▂▄▅▅▅▅███████</td></tr><tr><td>val_acc</td><td>▅▁▂▄▆▆▆▆███████</td></tr><tr><td>val_loss</td><td>██▇▅▄▃▃▂▂▂▁▁▁▁▁</td></tr></table><br/></div><div class=\"wandb-col\"><h3>Run summary:</h3><br/><table class=\"wandb\"><tr><td>acc</td><td>0.77325</td></tr><tr><td>loss</td><td>0.45128</td></tr><tr><td>val_FN</td><td>269</td></tr><tr><td>val_FP</td><td>223</td></tr><tr><td>val_TN</td><td>859</td></tr><tr><td>val_TP</td><td>810</td></tr><tr><td>val_acc</td><td>0.77233</td></tr><tr><td>val_loss</td><td>0.44753</td></tr></table><br/></div></div>"
      ],
      "text/plain": [
       "<IPython.core.display.HTML object>"
      ]
     },
     "metadata": {},
     "output_type": "display_data"
    },
    {
     "data": {
      "text/html": [
       "Synced <strong style=\"color:#cdcd00\">Ex_CLASE_TrainDS_11_(3-6-30)_20220425_123819</strong>: <a href=\"https://wandb.ai/tesis2/TesisDiego-%28clasificacion-clase-2%29/runs/ztj786wf\" target=\"_blank\">https://wandb.ai/tesis2/TesisDiego-%28clasificacion-clase-2%29/runs/ztj786wf</a><br/>Synced 6 W&B file(s), 15 media file(s), 9 artifact file(s) and 0 other file(s)"
      ],
      "text/plain": [
       "<IPython.core.display.HTML object>"
      ]
     },
     "metadata": {},
     "output_type": "display_data"
    },
    {
     "data": {
      "text/html": [
       "Find logs at: <code>.\\wandb\\run-20220425_123819-ztj786wf\\logs</code>"
      ],
      "text/plain": [
       "<IPython.core.display.HTML object>"
      ]
     },
     "metadata": {},
     "output_type": "display_data"
    },
    {
     "name": "stdout",
     "output_type": "stream",
     "text": [
      "--------------------------------------------------\n",
      "Inicio de la prueba N°: 2/6\n",
      "Dataset: C:/Users/Shounen/Desktop/Ciclo XI/Tesis 2/GPUTesis/Archivos/Dataset/SplittedV2/CLASE_TrainDS_11\n",
      "- Batch size:  32\n",
      "Creando modelo con input (30,30,2)) de tipo (clasificacion)\n",
      "Tamaño del dataset: Train 2161  - Val 541\n"
     ]
    },
    {
     "data": {
      "text/html": [
       "wandb version 0.12.15 is available!  To upgrade, please run:\n",
       " $ pip install wandb --upgrade"
      ],
      "text/plain": [
       "<IPython.core.display.HTML object>"
      ]
     },
     "metadata": {},
     "output_type": "display_data"
    },
    {
     "data": {
      "text/html": [
       "Tracking run with wandb version 0.12.11"
      ],
      "text/plain": [
       "<IPython.core.display.HTML object>"
      ]
     },
     "metadata": {},
     "output_type": "display_data"
    },
    {
     "data": {
      "text/html": [
       "Run data is saved locally in <code>C:\\Users\\Shounen\\Desktop\\Ciclo XI\\Tesis 2\\GPUTesis\\Codigo\\Entrenamiento\\Jupyter\\wandb\\run-20220425_132744-2gskhiyh</code>"
      ],
      "text/plain": [
       "<IPython.core.display.HTML object>"
      ]
     },
     "metadata": {},
     "output_type": "display_data"
    },
    {
     "data": {
      "text/html": [
       "Syncing run <strong><a href=\"https://wandb.ai/tesis2/TesisDiego-%28clasificacion-clase-2%29/runs/2gskhiyh\" target=\"_blank\">Ex_CLASE_TrainDS_11_(2-6-30)_20220425_132744</a></strong> to <a href=\"https://wandb.ai/tesis2/TesisDiego-%28clasificacion-clase-2%29\" target=\"_blank\">Weights & Biases</a> (<a href=\"https://wandb.me/run\" target=\"_blank\">docs</a>)<br/>"
      ],
      "text/plain": [
       "<IPython.core.display.HTML object>"
      ]
     },
     "metadata": {},
     "output_type": "display_data"
    },
    {
     "name": "stdout",
     "output_type": "stream",
     "text": [
      "Epoch 1/15\n",
      "68/68 [==============================] - ETA: 0s - loss: 0.6872 - acc: 0.5229 - true_positives_23: 476.0000 - true_negatives_23: 654.0000 - false_positives_23: 423.0000 - false_negatives_23: 608.0000\n",
      "Epoch 1: saving model to C:/Users/Shounen/Desktop/Ciclo XI/Tesis 2/GPUTesis/Archivos/Modelos\\clasificacion\\TesisDiego\\CLASE_TrainDS_11\\Model_clasificacion_clase_20220425_132744.hdf5\n",
      "68/68 [==============================] - 211s 3s/step - loss: 0.6872 - acc: 0.5229 - true_positives_23: 476.0000 - true_negatives_23: 654.0000 - false_positives_23: 423.0000 - false_negatives_23: 608.0000 - val_loss: 0.6814 - val_acc: 0.5451 - val_true_positives_23: 1084.0000 - val_true_negatives_23: 94.0000 - val_false_positives_23: 983.0000 - val_false_negatives_23: 0.0000e+00\n",
      "Epoch 2/15\n",
      "68/68 [==============================] - ETA: 0s - loss: 0.6773 - acc: 0.6590 - true_positives_23: 673.0000 - true_negatives_23: 751.0000 - false_positives_23: 326.0000 - false_negatives_23: 411.0000\n",
      "Epoch 2: saving model to C:/Users/Shounen/Desktop/Ciclo XI/Tesis 2/GPUTesis/Archivos/Modelos\\clasificacion\\TesisDiego\\CLASE_TrainDS_11\\Model_clasificacion_clase_20220425_132744.hdf5\n",
      "68/68 [==============================] - 202s 3s/step - loss: 0.6773 - acc: 0.6590 - true_positives_23: 673.0000 - true_negatives_23: 751.0000 - false_positives_23: 326.0000 - false_negatives_23: 411.0000 - val_loss: 0.6709 - val_acc: 0.7709 - val_true_positives_23: 819.0000 - val_true_negatives_23: 847.0000 - val_false_positives_23: 230.0000 - val_false_negatives_23: 265.0000\n",
      "Epoch 3/15\n",
      "68/68 [==============================] - ETA: 0s - loss: 0.6616 - acc: 0.7015 - true_positives_23: 691.0000 - true_negatives_23: 825.0000 - false_positives_23: 252.0000 - false_negatives_23: 393.0000\n",
      "Epoch 3: saving model to C:/Users/Shounen/Desktop/Ciclo XI/Tesis 2/GPUTesis/Archivos/Modelos\\clasificacion\\TesisDiego\\CLASE_TrainDS_11\\Model_clasificacion_clase_20220425_132744.hdf5\n",
      "68/68 [==============================] - 179s 3s/step - loss: 0.6616 - acc: 0.7015 - true_positives_23: 691.0000 - true_negatives_23: 825.0000 - false_positives_23: 252.0000 - false_negatives_23: 393.0000 - val_loss: 0.6522 - val_acc: 0.7807 - val_true_positives_23: 870.0000 - val_true_negatives_23: 817.0000 - val_false_positives_23: 260.0000 - val_false_negatives_23: 214.0000\n",
      "Epoch 4/15\n",
      "68/68 [==============================] - ETA: 0s - loss: 0.6331 - acc: 0.7062 - true_positives_23: 698.0000 - true_negatives_23: 828.0000 - false_positives_23: 249.0000 - false_negatives_23: 386.0000\n",
      "Epoch 4: saving model to C:/Users/Shounen/Desktop/Ciclo XI/Tesis 2/GPUTesis/Archivos/Modelos\\clasificacion\\TesisDiego\\CLASE_TrainDS_11\\Model_clasificacion_clase_20220425_132744.hdf5\n",
      "68/68 [==============================] - 164s 2s/step - loss: 0.6331 - acc: 0.7062 - true_positives_23: 698.0000 - true_negatives_23: 828.0000 - false_positives_23: 249.0000 - false_negatives_23: 386.0000 - val_loss: 0.6156 - val_acc: 0.7682 - val_true_positives_23: 807.0000 - val_true_negatives_23: 853.0000 - val_false_positives_23: 224.0000 - val_false_negatives_23: 277.0000\n",
      "Epoch 5/15\n",
      "68/68 [==============================] - ETA: 0s - loss: 0.5950 - acc: 0.7284 - true_positives_23: 713.0000 - true_negatives_23: 861.0000 - false_positives_23: 216.0000 - false_negatives_23: 371.0000\n",
      "Epoch 5: saving model to C:/Users/Shounen/Desktop/Ciclo XI/Tesis 2/GPUTesis/Archivos/Modelos\\clasificacion\\TesisDiego\\CLASE_TrainDS_11\\Model_clasificacion_clase_20220425_132744.hdf5\n",
      "68/68 [==============================] - 169s 2s/step - loss: 0.5950 - acc: 0.7284 - true_positives_23: 713.0000 - true_negatives_23: 861.0000 - false_positives_23: 216.0000 - false_negatives_23: 371.0000 - val_loss: 0.5742 - val_acc: 0.7534 - val_true_positives_23: 746.0000 - val_true_negatives_23: 882.0000 - val_false_positives_23: 195.0000 - val_false_negatives_23: 338.0000\n",
      "Epoch 6/15\n",
      "68/68 [==============================] - ETA: 0s - loss: 0.5556 - acc: 0.7399 - true_positives_23: 724.0000 - true_negatives_23: 875.0000 - false_positives_23: 202.0000 - false_negatives_23: 360.0000\n",
      "Epoch 6: saving model to C:/Users/Shounen/Desktop/Ciclo XI/Tesis 2/GPUTesis/Archivos/Modelos\\clasificacion\\TesisDiego\\CLASE_TrainDS_11\\Model_clasificacion_clase_20220425_132744.hdf5\n",
      "68/68 [==============================] - 249s 4s/step - loss: 0.5556 - acc: 0.7399 - true_positives_23: 724.0000 - true_negatives_23: 875.0000 - false_positives_23: 202.0000 - false_negatives_23: 360.0000 - val_loss: 0.5375 - val_acc: 0.7719 - val_true_positives_23: 807.0000 - val_true_negatives_23: 861.0000 - val_false_positives_23: 216.0000 - val_false_negatives_23: 277.0000\n",
      "Epoch 7/15\n",
      "68/68 [==============================] - ETA: 0s - loss: 0.5243 - acc: 0.7538 - true_positives_23: 761.0000 - true_negatives_23: 868.0000 - false_positives_23: 209.0000 - false_negatives_23: 323.0000\n",
      "Epoch 7: saving model to C:/Users/Shounen/Desktop/Ciclo XI/Tesis 2/GPUTesis/Archivos/Modelos\\clasificacion\\TesisDiego\\CLASE_TrainDS_11\\Model_clasificacion_clase_20220425_132744.hdf5\n",
      "68/68 [==============================] - 266s 4s/step - loss: 0.5243 - acc: 0.7538 - true_positives_23: 761.0000 - true_negatives_23: 868.0000 - false_positives_23: 209.0000 - false_negatives_23: 323.0000 - val_loss: 0.5112 - val_acc: 0.7733 - val_true_positives_23: 807.0000 - val_true_negatives_23: 864.0000 - val_false_positives_23: 213.0000 - val_false_negatives_23: 277.0000\n",
      "Epoch 8/15\n",
      "68/68 [==============================] - ETA: 0s - loss: 0.5012 - acc: 0.7649 - true_positives_23: 788.0000 - true_negatives_23: 865.0000 - false_positives_23: 212.0000 - false_negatives_23: 296.0000\n",
      "Epoch 8: saving model to C:/Users/Shounen/Desktop/Ciclo XI/Tesis 2/GPUTesis/Archivos/Modelos\\clasificacion\\TesisDiego\\CLASE_TrainDS_11\\Model_clasificacion_clase_20220425_132744.hdf5\n",
      "68/68 [==============================] - 205s 3s/step - loss: 0.5012 - acc: 0.7649 - true_positives_23: 788.0000 - true_negatives_23: 865.0000 - false_positives_23: 212.0000 - false_negatives_23: 296.0000 - val_loss: 0.4886 - val_acc: 0.7733 - val_true_positives_23: 807.0000 - val_true_negatives_23: 864.0000 - val_false_positives_23: 213.0000 - val_false_negatives_23: 277.0000\n",
      "Epoch 9/15\n",
      "68/68 [==============================] - ETA: 0s - loss: 0.4846 - acc: 0.7658 - true_positives_23: 792.0000 - true_negatives_23: 863.0000 - false_positives_23: 214.0000 - false_negatives_23: 292.0000\n",
      "Epoch 9: saving model to C:/Users/Shounen/Desktop/Ciclo XI/Tesis 2/GPUTesis/Archivos/Modelos\\clasificacion\\TesisDiego\\CLASE_TrainDS_11\\Model_clasificacion_clase_20220425_132744.hdf5\n",
      "68/68 [==============================] - 213s 3s/step - loss: 0.4846 - acc: 0.7658 - true_positives_23: 792.0000 - true_negatives_23: 863.0000 - false_positives_23: 214.0000 - false_negatives_23: 292.0000 - val_loss: 0.4741 - val_acc: 0.7733 - val_true_positives_23: 807.0000 - val_true_negatives_23: 864.0000 - val_false_positives_23: 213.0000 - val_false_negatives_23: 277.0000\n",
      "Epoch 10/15\n",
      "68/68 [==============================] - ETA: 0s - loss: 0.4732 - acc: 0.7686 - true_positives_23: 798.0000 - true_negatives_23: 863.0000 - false_positives_23: 214.0000 - false_negatives_23: 286.0000\n",
      "Epoch 10: saving model to C:/Users/Shounen/Desktop/Ciclo XI/Tesis 2/GPUTesis/Archivos/Modelos\\clasificacion\\TesisDiego\\CLASE_TrainDS_11\\Model_clasificacion_clase_20220425_132744.hdf5\n",
      "68/68 [==============================] - 309s 5s/step - loss: 0.4732 - acc: 0.7686 - true_positives_23: 798.0000 - true_negatives_23: 863.0000 - false_positives_23: 214.0000 - false_negatives_23: 286.0000 - val_loss: 0.4649 - val_acc: 0.7733 - val_true_positives_23: 807.0000 - val_true_negatives_23: 864.0000 - val_false_positives_23: 213.0000 - val_false_negatives_23: 277.0000\n",
      "\n"
     ]
    },
    {
     "data": {
      "text/html": [
       "Waiting for W&B process to finish... <strong style=\"color:green\">(success).</strong>"
      ],
      "text/plain": [
       "<IPython.core.display.HTML object>"
      ]
     },
     "metadata": {},
     "output_type": "display_data"
    },
    {
     "data": {
      "application/vnd.jupyter.widget-view+json": {
       "model_id": "",
       "version_major": 2,
       "version_minor": 0
      },
      "text/plain": [
       "VBox(children=(Label(value='0.006 MB of 0.006 MB uploaded (0.000 MB deduped)\\r'), FloatProgress(value=1.0, max…"
      ]
     },
     "metadata": {},
     "output_type": "display_data"
    },
    {
     "data": {
      "text/html": [
       "<style>\n",
       "    table.wandb td:nth-child(1) { padding: 0 10px; text-align: right }\n",
       "    .wandb-row { display: flex; flex-direction: row; flex-wrap: wrap; width: 100% }\n",
       "    .wandb-col { display: flex; flex-direction: column; flex-basis: 100%; flex: 1; padding: 10px; }\n",
       "    </style>\n",
       "<div class=\"wandb-row\"><div class=\"wandb-col\"><h3>Run history:</h3><br/><table class=\"wandb\"><tr><td>acc</td><td>▁▅▆▆▇▇████</td></tr><tr><td>loss</td><td>██▇▆▅▄▃▂▁▁</td></tr><tr><td>val_FN</td><td>▁▆▅▇█▇▇▇▇▇</td></tr><tr><td>val_FP</td><td>█▁▂▁▁▁▁▁▁▁</td></tr><tr><td>val_TN</td><td>▁█▇███████</td></tr><tr><td>val_TP</td><td>█▃▄▂▁▂▂▂▂▂</td></tr><tr><td>val_acc</td><td>▁███▇█████</td></tr><tr><td>val_loss</td><td>██▇▆▅▃▂▂▁▁</td></tr></table><br/></div><div class=\"wandb-col\"><h3>Run summary:</h3><br/><table class=\"wandb\"><tr><td>acc</td><td>0.76863</td></tr><tr><td>loss</td><td>0.4732</td></tr><tr><td>val_FN</td><td>277</td></tr><tr><td>val_FP</td><td>213</td></tr><tr><td>val_TN</td><td>864</td></tr><tr><td>val_TP</td><td>807</td></tr><tr><td>val_acc</td><td>0.77325</td></tr><tr><td>val_loss</td><td>0.46491</td></tr></table><br/></div></div>"
      ],
      "text/plain": [
       "<IPython.core.display.HTML object>"
      ]
     },
     "metadata": {},
     "output_type": "display_data"
    },
    {
     "data": {
      "text/html": [
       "Synced <strong style=\"color:#cdcd00\">Ex_CLASE_TrainDS_11_(2-6-30)_20220425_132744</strong>: <a href=\"https://wandb.ai/tesis2/TesisDiego-%28clasificacion-clase-2%29/runs/2gskhiyh\" target=\"_blank\">https://wandb.ai/tesis2/TesisDiego-%28clasificacion-clase-2%29/runs/2gskhiyh</a><br/>Synced 6 W&B file(s), 10 media file(s), 7 artifact file(s) and 0 other file(s)"
      ],
      "text/plain": [
       "<IPython.core.display.HTML object>"
      ]
     },
     "metadata": {},
     "output_type": "display_data"
    },
    {
     "data": {
      "text/html": [
       "Find logs at: <code>.\\wandb\\run-20220425_132744-2gskhiyh\\logs</code>"
      ],
      "text/plain": [
       "<IPython.core.display.HTML object>"
      ]
     },
     "metadata": {},
     "output_type": "display_data"
    },
    {
     "name": "stdout",
     "output_type": "stream",
     "text": [
      "--------------------------------------------------\n",
      "Inicio de la prueba N°: 3/6\n",
      "Dataset: C:/Users/Shounen/Desktop/Ciclo XI/Tesis 2/GPUTesis/Archivos/Dataset/SplittedV2/CLASE_TrainDS_11\n",
      "- Batch size:  32\n",
      "Creando modelo con input (30,30,3)) de tipo (clasificacion)\n",
      "Tamaño del dataset: Train 2161  - Val 541\n"
     ]
    },
    {
     "data": {
      "text/html": [
       "wandb version 0.12.15 is available!  To upgrade, please run:\n",
       " $ pip install wandb --upgrade"
      ],
      "text/plain": [
       "<IPython.core.display.HTML object>"
      ]
     },
     "metadata": {},
     "output_type": "display_data"
    },
    {
     "data": {
      "text/html": [
       "Tracking run with wandb version 0.12.11"
      ],
      "text/plain": [
       "<IPython.core.display.HTML object>"
      ]
     },
     "metadata": {},
     "output_type": "display_data"
    },
    {
     "data": {
      "text/html": [
       "Run data is saved locally in <code>C:\\Users\\Shounen\\Desktop\\Ciclo XI\\Tesis 2\\GPUTesis\\Codigo\\Entrenamiento\\Jupyter\\wandb\\run-20220425_140405-3k1y0no4</code>"
      ],
      "text/plain": [
       "<IPython.core.display.HTML object>"
      ]
     },
     "metadata": {},
     "output_type": "display_data"
    },
    {
     "data": {
      "text/html": [
       "Syncing run <strong><a href=\"https://wandb.ai/tesis2/TesisDiego-%28clasificacion-clase-2%29/runs/3k1y0no4\" target=\"_blank\">Ex_CLASE_TrainDS_11_(3-1-30)_20220425_140405</a></strong> to <a href=\"https://wandb.ai/tesis2/TesisDiego-%28clasificacion-clase-2%29\" target=\"_blank\">Weights & Biases</a> (<a href=\"https://wandb.me/run\" target=\"_blank\">docs</a>)<br/>"
      ],
      "text/plain": [
       "<IPython.core.display.HTML object>"
      ]
     },
     "metadata": {},
     "output_type": "display_data"
    },
    {
     "name": "stdout",
     "output_type": "stream",
     "text": [
      "Epoch 1/15\n",
      "67/68 [============================>.] - ETA: 0s - loss: 0.6797 - acc: 0.5294 - true_positives_24: 862.0000 - true_negatives_24: 273.0000 - false_positives_24: 782.0000 - false_negatives_24: 227.0000\n",
      "Epoch 1: saving model to C:/Users/Shounen/Desktop/Ciclo XI/Tesis 2/GPUTesis/Archivos/Modelos\\clasificacion\\TesisDiego\\CLASE_TrainDS_11\\Model_clasificacion_clase_20220425_140405.hdf5\n",
      "68/68 [==============================] - 39s 555ms/step - loss: 0.6798 - acc: 0.5285 - true_positives_24: 869.0000 - true_negatives_24: 273.0000 - false_positives_24: 792.0000 - false_negatives_24: 227.0000 - val_loss: 0.6758 - val_acc: 0.5229 - val_true_positives_24: 1005.0000 - val_true_negatives_24: 125.0000 - val_false_positives_24: 940.0000 - val_false_negatives_24: 91.0000\n",
      "Epoch 2/15\n",
      "68/68 [==============================] - ETA: 0s - loss: 0.6687 - acc: 0.5849 - true_positives_24: 1045.0000 - true_negatives_24: 219.0000 - false_positives_24: 846.0000 - false_negatives_24: 51.0000\n",
      "Epoch 2: saving model to C:/Users/Shounen/Desktop/Ciclo XI/Tesis 2/GPUTesis/Archivos/Modelos\\clasificacion\\TesisDiego\\CLASE_TrainDS_11\\Model_clasificacion_clase_20220425_140405.hdf5\n",
      "68/68 [==============================] - 41s 608ms/step - loss: 0.6687 - acc: 0.5849 - true_positives_24: 1045.0000 - true_negatives_24: 219.0000 - false_positives_24: 846.0000 - false_negatives_24: 51.0000 - val_loss: 0.6594 - val_acc: 0.7742 - val_true_positives_24: 842.0000 - val_true_negatives_24: 831.0000 - val_false_positives_24: 234.0000 - val_false_negatives_24: 254.0000\n",
      "Epoch 3/15\n",
      "68/68 [==============================] - ETA: 0s - loss: 0.6494 - acc: 0.6988 - true_positives_24: 836.0000 - true_negatives_24: 674.0000 - false_positives_24: 391.0000 - false_negatives_24: 260.0000\n",
      "Epoch 3: saving model to C:/Users/Shounen/Desktop/Ciclo XI/Tesis 2/GPUTesis/Archivos/Modelos\\clasificacion\\TesisDiego\\CLASE_TrainDS_11\\Model_clasificacion_clase_20220425_140405.hdf5\n",
      "68/68 [==============================] - 31s 458ms/step - loss: 0.6494 - acc: 0.6988 - true_positives_24: 836.0000 - true_negatives_24: 674.0000 - false_positives_24: 391.0000 - false_negatives_24: 260.0000 - val_loss: 0.6312 - val_acc: 0.7228 - val_true_positives_24: 648.0000 - val_true_negatives_24: 914.0000 - val_false_positives_24: 151.0000 - val_false_negatives_24: 448.0000\n",
      "Epoch 4/15\n",
      "68/68 [==============================] - ETA: 0s - loss: 0.6149 - acc: 0.7302 - true_positives_24: 767.0000 - true_negatives_24: 811.0000 - false_positives_24: 254.0000 - false_negatives_24: 329.0000\n",
      "Epoch 4: saving model to C:/Users/Shounen/Desktop/Ciclo XI/Tesis 2/GPUTesis/Archivos/Modelos\\clasificacion\\TesisDiego\\CLASE_TrainDS_11\\Model_clasificacion_clase_20220425_140405.hdf5\n",
      "68/68 [==============================] - 31s 461ms/step - loss: 0.6149 - acc: 0.7302 - true_positives_24: 767.0000 - true_negatives_24: 811.0000 - false_positives_24: 254.0000 - false_negatives_24: 329.0000 - val_loss: 0.5897 - val_acc: 0.7131 - val_true_positives_24: 609.0000 - val_true_negatives_24: 932.0000 - val_false_positives_24: 133.0000 - val_false_negatives_24: 487.0000\n",
      "Epoch 5/15\n",
      "68/68 [==============================] - ETA: 0s - loss: 0.5737 - acc: 0.7395 - true_positives_24: 738.0000 - true_negatives_24: 860.0000 - false_positives_24: 205.0000 - false_negatives_24: 358.0000\n",
      "Epoch 5: saving model to C:/Users/Shounen/Desktop/Ciclo XI/Tesis 2/GPUTesis/Archivos/Modelos\\clasificacion\\TesisDiego\\CLASE_TrainDS_11\\Model_clasificacion_clase_20220425_140405.hdf5\n",
      "68/68 [==============================] - 35s 516ms/step - loss: 0.5737 - acc: 0.7395 - true_positives_24: 738.0000 - true_negatives_24: 860.0000 - false_positives_24: 205.0000 - false_negatives_24: 358.0000 - val_loss: 0.5486 - val_acc: 0.7649 - val_true_positives_24: 815.0000 - val_true_negatives_24: 838.0000 - val_false_positives_24: 227.0000 - val_false_negatives_24: 281.0000\n",
      "Epoch 6/15\n",
      "68/68 [==============================] - ETA: 0s - loss: 0.5386 - acc: 0.7534 - true_positives_24: 772.0000 - true_negatives_24: 856.0000 - false_positives_24: 209.0000 - false_negatives_24: 324.0000\n",
      "Epoch 6: saving model to C:/Users/Shounen/Desktop/Ciclo XI/Tesis 2/GPUTesis/Archivos/Modelos\\clasificacion\\TesisDiego\\CLASE_TrainDS_11\\Model_clasificacion_clase_20220425_140405.hdf5\n",
      "68/68 [==============================] - 35s 511ms/step - loss: 0.5386 - acc: 0.7534 - true_positives_24: 772.0000 - true_negatives_24: 856.0000 - false_positives_24: 209.0000 - false_negatives_24: 324.0000 - val_loss: 0.5205 - val_acc: 0.7182 - val_true_positives_24: 609.0000 - val_true_negatives_24: 943.0000 - val_false_positives_24: 122.0000 - val_false_negatives_24: 487.0000\n",
      "Epoch 7/15\n",
      "68/68 [==============================] - ETA: 0s - loss: 0.5135 - acc: 0.7696 - true_positives_24: 814.0000 - true_negatives_24: 849.0000 - false_positives_24: 216.0000 - false_negatives_24: 282.0000\n",
      "Epoch 7: saving model to C:/Users/Shounen/Desktop/Ciclo XI/Tesis 2/GPUTesis/Archivos/Modelos\\clasificacion\\TesisDiego\\CLASE_TrainDS_11\\Model_clasificacion_clase_20220425_140405.hdf5\n",
      "68/68 [==============================] - 30s 443ms/step - loss: 0.5135 - acc: 0.7696 - true_positives_24: 814.0000 - true_negatives_24: 849.0000 - false_positives_24: 216.0000 - false_negatives_24: 282.0000 - val_loss: 0.5020 - val_acc: 0.7709 - val_true_positives_24: 815.0000 - val_true_negatives_24: 851.0000 - val_false_positives_24: 214.0000 - val_false_negatives_24: 281.0000\n",
      "Epoch 8/15\n",
      "68/68 [==============================] - ETA: 0s - loss: 0.4957 - acc: 0.7696 - true_positives_24: 815.0000 - true_negatives_24: 848.0000 - false_positives_24: 217.0000 - false_negatives_24: 281.0000\n",
      "Epoch 8: saving model to C:/Users/Shounen/Desktop/Ciclo XI/Tesis 2/GPUTesis/Archivos/Modelos\\clasificacion\\TesisDiego\\CLASE_TrainDS_11\\Model_clasificacion_clase_20220425_140405.hdf5\n",
      "68/68 [==============================] - 37s 544ms/step - loss: 0.4957 - acc: 0.7696 - true_positives_24: 815.0000 - true_negatives_24: 848.0000 - false_positives_24: 217.0000 - false_negatives_24: 281.0000 - val_loss: 0.4872 - val_acc: 0.7709 - val_true_positives_24: 815.0000 - val_true_negatives_24: 851.0000 - val_false_positives_24: 214.0000 - val_false_negatives_24: 281.0000\n",
      "Epoch 9/15\n",
      "68/68 [==============================] - ETA: 0s - loss: 0.4824 - acc: 0.7700 - true_positives_24: 815.0000 - true_negatives_24: 849.0000 - false_positives_24: 216.0000 - false_negatives_24: 281.0000\n",
      "Epoch 9: saving model to C:/Users/Shounen/Desktop/Ciclo XI/Tesis 2/GPUTesis/Archivos/Modelos\\clasificacion\\TesisDiego\\CLASE_TrainDS_11\\Model_clasificacion_clase_20220425_140405.hdf5\n",
      "68/68 [==============================] - 35s 524ms/step - loss: 0.4824 - acc: 0.7700 - true_positives_24: 815.0000 - true_negatives_24: 849.0000 - false_positives_24: 216.0000 - false_negatives_24: 281.0000 - val_loss: 0.4756 - val_acc: 0.7709 - val_true_positives_24: 815.0000 - val_true_negatives_24: 851.0000 - val_false_positives_24: 214.0000 - val_false_negatives_24: 281.0000\n",
      "\n"
     ]
    },
    {
     "data": {
      "text/html": [
       "Waiting for W&B process to finish... <strong style=\"color:green\">(success).</strong>"
      ],
      "text/plain": [
       "<IPython.core.display.HTML object>"
      ]
     },
     "metadata": {},
     "output_type": "display_data"
    },
    {
     "data": {
      "application/vnd.jupyter.widget-view+json": {
       "model_id": "",
       "version_major": 2,
       "version_minor": 0
      },
      "text/plain": [
       "VBox(children=(Label(value='0.005 MB of 0.005 MB uploaded (0.000 MB deduped)\\r'), FloatProgress(value=0.978543…"
      ]
     },
     "metadata": {},
     "output_type": "display_data"
    },
    {
     "data": {
      "text/html": [
       "<style>\n",
       "    table.wandb td:nth-child(1) { padding: 0 10px; text-align: right }\n",
       "    .wandb-row { display: flex; flex-direction: row; flex-wrap: wrap; width: 100% }\n",
       "    .wandb-col { display: flex; flex-direction: column; flex-basis: 100%; flex: 1; padding: 10px; }\n",
       "    </style>\n",
       "<div class=\"wandb-row\"><div class=\"wandb-col\"><h3>Run history:</h3><br/><table class=\"wandb\"><tr><td>acc</td><td>▁▃▆▇▇████</td></tr><tr><td>loss</td><td>██▇▆▄▃▂▁▁</td></tr><tr><td>val_FN</td><td>▁▄▇█▄█▄▄▄</td></tr><tr><td>val_FP</td><td>█▂▁▁▂▁▂▂▂</td></tr><tr><td>val_TN</td><td>▁▇██▇█▇▇▇</td></tr><tr><td>val_TP</td><td>█▅▂▁▅▁▅▅▅</td></tr><tr><td>val_acc</td><td>▁█▇▆█▆███</td></tr><tr><td>val_loss</td><td>█▇▆▅▄▃▂▁▁</td></tr></table><br/></div><div class=\"wandb-col\"><h3>Run summary:</h3><br/><table class=\"wandb\"><tr><td>acc</td><td>0.77001</td></tr><tr><td>loss</td><td>0.48241</td></tr><tr><td>val_FN</td><td>281</td></tr><tr><td>val_FP</td><td>214</td></tr><tr><td>val_TN</td><td>851</td></tr><tr><td>val_TP</td><td>815</td></tr><tr><td>val_acc</td><td>0.77094</td></tr><tr><td>val_loss</td><td>0.47555</td></tr></table><br/></div></div>"
      ],
      "text/plain": [
       "<IPython.core.display.HTML object>"
      ]
     },
     "metadata": {},
     "output_type": "display_data"
    },
    {
     "data": {
      "text/html": [
       "Synced <strong style=\"color:#cdcd00\">Ex_CLASE_TrainDS_11_(3-1-30)_20220425_140405</strong>: <a href=\"https://wandb.ai/tesis2/TesisDiego-%28clasificacion-clase-2%29/runs/3k1y0no4\" target=\"_blank\">https://wandb.ai/tesis2/TesisDiego-%28clasificacion-clase-2%29/runs/3k1y0no4</a><br/>Synced 6 W&B file(s), 9 media file(s), 7 artifact file(s) and 0 other file(s)"
      ],
      "text/plain": [
       "<IPython.core.display.HTML object>"
      ]
     },
     "metadata": {},
     "output_type": "display_data"
    },
    {
     "data": {
      "text/html": [
       "Find logs at: <code>.\\wandb\\run-20220425_140405-3k1y0no4\\logs</code>"
      ],
      "text/plain": [
       "<IPython.core.display.HTML object>"
      ]
     },
     "metadata": {},
     "output_type": "display_data"
    },
    {
     "name": "stdout",
     "output_type": "stream",
     "text": [
      "--------------------------------------------------\n",
      "Inicio de la prueba N°: 4/6\n",
      "Dataset: C:/Users/Shounen/Desktop/Ciclo XI/Tesis 2/GPUTesis/Archivos/Dataset/SplittedV2/CLASE_TrainDS_11\n",
      "- Batch size:  32\n",
      "Creando modelo con input (20,20,2)) de tipo (clasificacion)\n",
      "Tamaño del dataset: Train 2161  - Val 541\n"
     ]
    },
    {
     "data": {
      "text/html": [
       "wandb version 0.12.15 is available!  To upgrade, please run:\n",
       " $ pip install wandb --upgrade"
      ],
      "text/plain": [
       "<IPython.core.display.HTML object>"
      ]
     },
     "metadata": {},
     "output_type": "display_data"
    },
    {
     "data": {
      "text/html": [
       "Tracking run with wandb version 0.12.11"
      ],
      "text/plain": [
       "<IPython.core.display.HTML object>"
      ]
     },
     "metadata": {},
     "output_type": "display_data"
    },
    {
     "data": {
      "text/html": [
       "Run data is saved locally in <code>C:\\Users\\Shounen\\Desktop\\Ciclo XI\\Tesis 2\\GPUTesis\\Codigo\\Entrenamiento\\Jupyter\\wandb\\run-20220425_140933-jt5j4jk9</code>"
      ],
      "text/plain": [
       "<IPython.core.display.HTML object>"
      ]
     },
     "metadata": {},
     "output_type": "display_data"
    },
    {
     "data": {
      "text/html": [
       "Syncing run <strong><a href=\"https://wandb.ai/tesis2/TesisDiego-%28clasificacion-clase-2%29/runs/jt5j4jk9\" target=\"_blank\">Ex_CLASE_TrainDS_11_(2-1-20)_20220425_140933</a></strong> to <a href=\"https://wandb.ai/tesis2/TesisDiego-%28clasificacion-clase-2%29\" target=\"_blank\">Weights & Biases</a> (<a href=\"https://wandb.me/run\" target=\"_blank\">docs</a>)<br/>"
      ],
      "text/plain": [
       "<IPython.core.display.HTML object>"
      ]
     },
     "metadata": {},
     "output_type": "display_data"
    },
    {
     "name": "stdout",
     "output_type": "stream",
     "text": [
      "Epoch 1/15\n",
      "68/68 [==============================] - ETA: 0s - loss: 0.6814 - acc: 0.6131 - true_positives_25: 414.0000 - true_negatives_25: 911.0000 - false_positives_25: 175.0000 - false_negatives_25: 661.0000\n",
      "Epoch 1: saving model to C:/Users/Shounen/Desktop/Ciclo XI/Tesis 2/GPUTesis/Archivos/Modelos\\clasificacion\\TesisDiego\\CLASE_TrainDS_11\\Model_clasificacion_clase_20220425_140933.hdf5\n",
      "68/68 [==============================] - 28s 405ms/step - loss: 0.6814 - acc: 0.6131 - true_positives_25: 414.0000 - true_negatives_25: 911.0000 - false_positives_25: 175.0000 - false_negatives_25: 661.0000 - val_loss: 0.6735 - val_acc: 0.7547 - val_true_positives_25: 802.0000 - val_true_negatives_25: 829.0000 - val_false_positives_25: 257.0000 - val_false_negatives_25: 273.0000\n",
      "Epoch 2/15\n",
      "68/68 [==============================] - ETA: 0s - loss: 0.6657 - acc: 0.6761 - true_positives_25: 540.0000 - true_negatives_25: 921.0000 - false_positives_25: 165.0000 - false_negatives_25: 535.0000\n",
      "Epoch 2: saving model to C:/Users/Shounen/Desktop/Ciclo XI/Tesis 2/GPUTesis/Archivos/Modelos\\clasificacion\\TesisDiego\\CLASE_TrainDS_11\\Model_clasificacion_clase_20220425_140933.hdf5\n",
      "68/68 [==============================] - 25s 376ms/step - loss: 0.6657 - acc: 0.6761 - true_positives_25: 540.0000 - true_negatives_25: 921.0000 - false_positives_25: 165.0000 - false_negatives_25: 535.0000 - val_loss: 0.6543 - val_acc: 0.7460 - val_true_positives_25: 802.0000 - val_true_negatives_25: 810.0000 - val_false_positives_25: 276.0000 - val_false_negatives_25: 273.0000\n",
      "Epoch 3/15\n",
      "68/68 [==============================] - ETA: 0s - loss: 0.6411 - acc: 0.6913 - true_positives_25: 623.0000 - true_negatives_25: 871.0000 - false_positives_25: 215.0000 - false_negatives_25: 452.0000\n",
      "Epoch 3: saving model to C:/Users/Shounen/Desktop/Ciclo XI/Tesis 2/GPUTesis/Archivos/Modelos\\clasificacion\\TesisDiego\\CLASE_TrainDS_11\\Model_clasificacion_clase_20220425_140933.hdf5\n",
      "68/68 [==============================] - 24s 360ms/step - loss: 0.6411 - acc: 0.6913 - true_positives_25: 623.0000 - true_negatives_25: 871.0000 - false_positives_25: 215.0000 - false_negatives_25: 452.0000 - val_loss: 0.6286 - val_acc: 0.7473 - val_true_positives_25: 802.0000 - val_true_negatives_25: 813.0000 - val_false_positives_25: 273.0000 - val_false_negatives_25: 273.0000\n",
      "Epoch 4/15\n",
      "68/68 [==============================] - ETA: 0s - loss: 0.6078 - acc: 0.7112 - true_positives_25: 675.0000 - true_negatives_25: 862.0000 - false_positives_25: 224.0000 - false_negatives_25: 400.0000\n",
      "Epoch 4: saving model to C:/Users/Shounen/Desktop/Ciclo XI/Tesis 2/GPUTesis/Archivos/Modelos\\clasificacion\\TesisDiego\\CLASE_TrainDS_11\\Model_clasificacion_clase_20220425_140933.hdf5\n",
      "68/68 [==============================] - 24s 360ms/step - loss: 0.6078 - acc: 0.7112 - true_positives_25: 675.0000 - true_negatives_25: 862.0000 - false_positives_25: 224.0000 - false_negatives_25: 400.0000 - val_loss: 0.5972 - val_acc: 0.7515 - val_true_positives_25: 803.0000 - val_true_negatives_25: 821.0000 - val_false_positives_25: 265.0000 - val_false_negatives_25: 272.0000\n",
      "Epoch 5/15\n",
      "68/68 [==============================] - ETA: 0s - loss: 0.5738 - acc: 0.7353 - true_positives_25: 731.0000 - true_negatives_25: 858.0000 - false_positives_25: 228.0000 - false_negatives_25: 344.0000\n",
      "Epoch 5: saving model to C:/Users/Shounen/Desktop/Ciclo XI/Tesis 2/GPUTesis/Archivos/Modelos\\clasificacion\\TesisDiego\\CLASE_TrainDS_11\\Model_clasificacion_clase_20220425_140933.hdf5\n",
      "68/68 [==============================] - 24s 361ms/step - loss: 0.5738 - acc: 0.7353 - true_positives_25: 731.0000 - true_negatives_25: 858.0000 - false_positives_25: 228.0000 - false_negatives_25: 344.0000 - val_loss: 0.5572 - val_acc: 0.7547 - val_true_positives_25: 802.0000 - val_true_negatives_25: 829.0000 - val_false_positives_25: 257.0000 - val_false_negatives_25: 273.0000\n",
      "Epoch 6/15\n",
      "68/68 [==============================] - ETA: 0s - loss: 0.5437 - acc: 0.7395 - true_positives_25: 755.0000 - true_negatives_25: 843.0000 - false_positives_25: 243.0000 - false_negatives_25: 320.0000\n",
      "Epoch 6: saving model to C:/Users/Shounen/Desktop/Ciclo XI/Tesis 2/GPUTesis/Archivos/Modelos\\clasificacion\\TesisDiego\\CLASE_TrainDS_11\\Model_clasificacion_clase_20220425_140933.hdf5\n",
      "68/68 [==============================] - 24s 356ms/step - loss: 0.5437 - acc: 0.7395 - true_positives_25: 755.0000 - true_negatives_25: 843.0000 - false_positives_25: 243.0000 - false_negatives_25: 320.0000 - val_loss: 0.5296 - val_acc: 0.7580 - val_true_positives_25: 802.0000 - val_true_negatives_25: 836.0000 - val_false_positives_25: 250.0000 - val_false_negatives_25: 273.0000\n",
      "Epoch 7/15\n",
      "68/68 [==============================] - ETA: 0s - loss: 0.5180 - acc: 0.7441 - true_positives_25: 756.0000 - true_negatives_25: 852.0000 - false_positives_25: 234.0000 - false_negatives_25: 319.0000\n",
      "Epoch 7: saving model to C:/Users/Shounen/Desktop/Ciclo XI/Tesis 2/GPUTesis/Archivos/Modelos\\clasificacion\\TesisDiego\\CLASE_TrainDS_11\\Model_clasificacion_clase_20220425_140933.hdf5\n",
      "68/68 [==============================] - 24s 361ms/step - loss: 0.5180 - acc: 0.7441 - true_positives_25: 756.0000 - true_negatives_25: 852.0000 - false_positives_25: 234.0000 - false_negatives_25: 319.0000 - val_loss: 0.5118 - val_acc: 0.7603 - val_true_positives_25: 802.0000 - val_true_negatives_25: 841.0000 - val_false_positives_25: 245.0000 - val_false_negatives_25: 273.0000\n",
      "Epoch 8/15\n",
      "68/68 [==============================] - ETA: 0s - loss: 0.4999 - acc: 0.7506 - true_positives_25: 779.0000 - true_negatives_25: 843.0000 - false_positives_25: 243.0000 - false_negatives_25: 296.0000\n",
      "Epoch 8: saving model to C:/Users/Shounen/Desktop/Ciclo XI/Tesis 2/GPUTesis/Archivos/Modelos\\clasificacion\\TesisDiego\\CLASE_TrainDS_11\\Model_clasificacion_clase_20220425_140933.hdf5\n",
      "68/68 [==============================] - 24s 360ms/step - loss: 0.4999 - acc: 0.7506 - true_positives_25: 779.0000 - true_negatives_25: 843.0000 - false_positives_25: 243.0000 - false_negatives_25: 296.0000 - val_loss: 0.4946 - val_acc: 0.7617 - val_true_positives_25: 802.0000 - val_true_negatives_25: 844.0000 - val_false_positives_25: 242.0000 - val_false_negatives_25: 273.0000\n",
      "Epoch 9/15\n",
      "68/68 [==============================] - ETA: 0s - loss: 0.4883 - acc: 0.7603 - true_positives_25: 800.0000 - true_negatives_25: 843.0000 - false_positives_25: 243.0000 - false_negatives_25: 275.0000\n",
      "Epoch 9: saving model to C:/Users/Shounen/Desktop/Ciclo XI/Tesis 2/GPUTesis/Archivos/Modelos\\clasificacion\\TesisDiego\\CLASE_TrainDS_11\\Model_clasificacion_clase_20220425_140933.hdf5\n",
      "68/68 [==============================] - 25s 371ms/step - loss: 0.4883 - acc: 0.7603 - true_positives_25: 800.0000 - true_negatives_25: 843.0000 - false_positives_25: 243.0000 - false_negatives_25: 275.0000 - val_loss: 0.4853 - val_acc: 0.7649 - val_true_positives_25: 802.0000 - val_true_negatives_25: 851.0000 - val_false_positives_25: 235.0000 - val_false_negatives_25: 273.0000\n",
      "Epoch 10/15\n",
      "68/68 [==============================] - ETA: 0s - loss: 0.4798 - acc: 0.7631 - true_positives_25: 803.0000 - true_negatives_25: 846.0000 - false_positives_25: 240.0000 - false_negatives_25: 272.0000\n",
      "Epoch 10: saving model to C:/Users/Shounen/Desktop/Ciclo XI/Tesis 2/GPUTesis/Archivos/Modelos\\clasificacion\\TesisDiego\\CLASE_TrainDS_11\\Model_clasificacion_clase_20220425_140933.hdf5\n",
      "68/68 [==============================] - 24s 358ms/step - loss: 0.4798 - acc: 0.7631 - true_positives_25: 803.0000 - true_negatives_25: 846.0000 - false_positives_25: 240.0000 - false_negatives_25: 272.0000 - val_loss: 0.4795 - val_acc: 0.7663 - val_true_positives_25: 802.0000 - val_true_negatives_25: 854.0000 - val_false_positives_25: 232.0000 - val_false_negatives_25: 273.0000\n",
      "Epoch 11/15\n",
      "68/68 [==============================] - ETA: 0s - loss: 0.4748 - acc: 0.7645 - true_positives_25: 803.0000 - true_negatives_25: 849.0000 - false_positives_25: 237.0000 - false_negatives_25: 272.0000\n",
      "Epoch 11: saving model to C:/Users/Shounen/Desktop/Ciclo XI/Tesis 2/GPUTesis/Archivos/Modelos\\clasificacion\\TesisDiego\\CLASE_TrainDS_11\\Model_clasificacion_clase_20220425_140933.hdf5\n",
      "68/68 [==============================] - 24s 361ms/step - loss: 0.4748 - acc: 0.7645 - true_positives_25: 803.0000 - true_negatives_25: 849.0000 - false_positives_25: 237.0000 - false_negatives_25: 272.0000 - val_loss: 0.4758 - val_acc: 0.7663 - val_true_positives_25: 802.0000 - val_true_negatives_25: 854.0000 - val_false_positives_25: 232.0000 - val_false_negatives_25: 273.0000\n"
     ]
    },
    {
     "name": "stdout",
     "output_type": "stream",
     "text": [
      "Epoch 12/15\n",
      "68/68 [==============================] - ETA: 0s - loss: 0.4691 - acc: 0.7640 - true_positives_25: 803.0000 - true_negatives_25: 848.0000 - false_positives_25: 238.0000 - false_negatives_25: 272.0000\n",
      "Epoch 12: saving model to C:/Users/Shounen/Desktop/Ciclo XI/Tesis 2/GPUTesis/Archivos/Modelos\\clasificacion\\TesisDiego\\CLASE_TrainDS_11\\Model_clasificacion_clase_20220425_140933.hdf5\n",
      "68/68 [==============================] - 24s 357ms/step - loss: 0.4691 - acc: 0.7640 - true_positives_25: 803.0000 - true_negatives_25: 848.0000 - false_positives_25: 238.0000 - false_negatives_25: 272.0000 - val_loss: 0.4690 - val_acc: 0.7663 - val_true_positives_25: 802.0000 - val_true_negatives_25: 854.0000 - val_false_positives_25: 232.0000 - val_false_negatives_25: 273.0000\n",
      "Epoch 13/15\n",
      "68/68 [==============================] - ETA: 0s - loss: 0.4638 - acc: 0.7658 - true_positives_25: 802.0000 - true_negatives_25: 853.0000 - false_positives_25: 233.0000 - false_negatives_25: 273.0000\n",
      "Epoch 13: saving model to C:/Users/Shounen/Desktop/Ciclo XI/Tesis 2/GPUTesis/Archivos/Modelos\\clasificacion\\TesisDiego\\CLASE_TrainDS_11\\Model_clasificacion_clase_20220425_140933.hdf5\n",
      "68/68 [==============================] - 24s 358ms/step - loss: 0.4638 - acc: 0.7658 - true_positives_25: 802.0000 - true_negatives_25: 853.0000 - false_positives_25: 233.0000 - false_negatives_25: 273.0000 - val_loss: 0.4650 - val_acc: 0.7672 - val_true_positives_25: 802.0000 - val_true_negatives_25: 856.0000 - val_false_positives_25: 230.0000 - val_false_negatives_25: 273.0000\n",
      "Epoch 14/15\n",
      "68/68 [==============================] - ETA: 0s - loss: 0.4602 - acc: 0.7663 - true_positives_25: 802.0000 - true_negatives_25: 854.0000 - false_positives_25: 232.0000 - false_negatives_25: 273.0000\n",
      "Epoch 14: saving model to C:/Users/Shounen/Desktop/Ciclo XI/Tesis 2/GPUTesis/Archivos/Modelos\\clasificacion\\TesisDiego\\CLASE_TrainDS_11\\Model_clasificacion_clase_20220425_140933.hdf5\n",
      "68/68 [==============================] - 25s 364ms/step - loss: 0.4602 - acc: 0.7663 - true_positives_25: 802.0000 - true_negatives_25: 854.0000 - false_positives_25: 232.0000 - false_negatives_25: 273.0000 - val_loss: 0.4611 - val_acc: 0.7672 - val_true_positives_25: 802.0000 - val_true_negatives_25: 856.0000 - val_false_positives_25: 230.0000 - val_false_negatives_25: 273.0000\n",
      "Epoch 15/15\n",
      "68/68 [==============================] - ETA: 0s - loss: 0.4583 - acc: 0.7663 - true_positives_25: 802.0000 - true_negatives_25: 854.0000 - false_positives_25: 232.0000 - false_negatives_25: 273.0000\n",
      "Epoch 15: saving model to C:/Users/Shounen/Desktop/Ciclo XI/Tesis 2/GPUTesis/Archivos/Modelos\\clasificacion\\TesisDiego\\CLASE_TrainDS_11\\Model_clasificacion_clase_20220425_140933.hdf5\n",
      "68/68 [==============================] - 26s 383ms/step - loss: 0.4583 - acc: 0.7663 - true_positives_25: 802.0000 - true_negatives_25: 854.0000 - false_positives_25: 232.0000 - false_negatives_25: 273.0000 - val_loss: 0.4567 - val_acc: 0.7672 - val_true_positives_25: 802.0000 - val_true_negatives_25: 856.0000 - val_false_positives_25: 230.0000 - val_false_negatives_25: 273.0000\n",
      "\n"
     ]
    },
    {
     "data": {
      "text/html": [
       "Waiting for W&B process to finish... <strong style=\"color:green\">(success).</strong>"
      ],
      "text/plain": [
       "<IPython.core.display.HTML object>"
      ]
     },
     "metadata": {},
     "output_type": "display_data"
    },
    {
     "data": {
      "application/vnd.jupyter.widget-view+json": {
       "model_id": "",
       "version_major": 2,
       "version_minor": 0
      },
      "text/plain": [
       "VBox(children=(Label(value='0.008 MB of 0.008 MB uploaded (0.000 MB deduped)\\r'), FloatProgress(value=1.0, max…"
      ]
     },
     "metadata": {},
     "output_type": "display_data"
    },
    {
     "data": {
      "text/html": [
       "<style>\n",
       "    table.wandb td:nth-child(1) { padding: 0 10px; text-align: right }\n",
       "    .wandb-row { display: flex; flex-direction: row; flex-wrap: wrap; width: 100% }\n",
       "    .wandb-col { display: flex; flex-direction: column; flex-basis: 100%; flex: 1; padding: 10px; }\n",
       "    </style>\n",
       "<div class=\"wandb-row\"><div class=\"wandb-col\"><h3>Run history:</h3><br/><table class=\"wandb\"><tr><td>acc</td><td>▁▄▅▅▇▇▇▇███████</td></tr><tr><td>loss</td><td>██▇▆▅▄▃▂▂▂▂▁▁▁▁</td></tr><tr><td>val_FN</td><td>███▁███████████</td></tr><tr><td>val_FP</td><td>▅██▆▅▄▃▃▂▁▁▁▁▁▁</td></tr><tr><td>val_TN</td><td>▄▁▁▃▄▅▆▆▇██████</td></tr><tr><td>val_TP</td><td>▁▁▁█▁▁▁▁▁▁▁▁▁▁▁</td></tr><tr><td>val_acc</td><td>▄▁▁▃▄▅▆▆▇██████</td></tr><tr><td>val_loss</td><td>█▇▇▆▄▃▃▂▂▂▂▁▁▁▁</td></tr></table><br/></div><div class=\"wandb-col\"><h3>Run summary:</h3><br/><table class=\"wandb\"><tr><td>acc</td><td>0.76631</td></tr><tr><td>loss</td><td>0.45831</td></tr><tr><td>val_FN</td><td>273</td></tr><tr><td>val_FP</td><td>230</td></tr><tr><td>val_TN</td><td>856</td></tr><tr><td>val_TP</td><td>802</td></tr><tr><td>val_acc</td><td>0.76724</td></tr><tr><td>val_loss</td><td>0.45668</td></tr></table><br/></div></div>"
      ],
      "text/plain": [
       "<IPython.core.display.HTML object>"
      ]
     },
     "metadata": {},
     "output_type": "display_data"
    },
    {
     "data": {
      "text/html": [
       "Synced <strong style=\"color:#cdcd00\">Ex_CLASE_TrainDS_11_(2-1-20)_20220425_140933</strong>: <a href=\"https://wandb.ai/tesis2/TesisDiego-%28clasificacion-clase-2%29/runs/jt5j4jk9\" target=\"_blank\">https://wandb.ai/tesis2/TesisDiego-%28clasificacion-clase-2%29/runs/jt5j4jk9</a><br/>Synced 6 W&B file(s), 15 media file(s), 10 artifact file(s) and 0 other file(s)"
      ],
      "text/plain": [
       "<IPython.core.display.HTML object>"
      ]
     },
     "metadata": {},
     "output_type": "display_data"
    },
    {
     "data": {
      "text/html": [
       "Find logs at: <code>.\\wandb\\run-20220425_140933-jt5j4jk9\\logs</code>"
      ],
      "text/plain": [
       "<IPython.core.display.HTML object>"
      ]
     },
     "metadata": {},
     "output_type": "display_data"
    },
    {
     "name": "stdout",
     "output_type": "stream",
     "text": [
      "--------------------------------------------------\n",
      "Inicio de la prueba N°: 5/6\n",
      "Dataset: C:/Users/Shounen/Desktop/Ciclo XI/Tesis 2/GPUTesis/Archivos/Dataset/SplittedV2/CLASE_TrainDS_11\n",
      "- Batch size:  32\n",
      "Creando modelo con input (20,20,3)) de tipo (clasificacion)\n",
      "Tamaño del dataset: Train 2161  - Val 541\n"
     ]
    },
    {
     "data": {
      "text/html": [
       "wandb version 0.12.15 is available!  To upgrade, please run:\n",
       " $ pip install wandb --upgrade"
      ],
      "text/plain": [
       "<IPython.core.display.HTML object>"
      ]
     },
     "metadata": {},
     "output_type": "display_data"
    },
    {
     "data": {
      "text/html": [
       "Tracking run with wandb version 0.12.11"
      ],
      "text/plain": [
       "<IPython.core.display.HTML object>"
      ]
     },
     "metadata": {},
     "output_type": "display_data"
    },
    {
     "data": {
      "text/html": [
       "Run data is saved locally in <code>C:\\Users\\Shounen\\Desktop\\Ciclo XI\\Tesis 2\\GPUTesis\\Codigo\\Entrenamiento\\Jupyter\\wandb\\run-20220425_141600-34jnxy5r</code>"
      ],
      "text/plain": [
       "<IPython.core.display.HTML object>"
      ]
     },
     "metadata": {},
     "output_type": "display_data"
    },
    {
     "data": {
      "text/html": [
       "Syncing run <strong><a href=\"https://wandb.ai/tesis2/TesisDiego-%28clasificacion-clase-2%29/runs/34jnxy5r\" target=\"_blank\">Ex_CLASE_TrainDS_11_(3-6-20)_20220425_141600</a></strong> to <a href=\"https://wandb.ai/tesis2/TesisDiego-%28clasificacion-clase-2%29\" target=\"_blank\">Weights & Biases</a> (<a href=\"https://wandb.me/run\" target=\"_blank\">docs</a>)<br/>"
      ],
      "text/plain": [
       "<IPython.core.display.HTML object>"
      ]
     },
     "metadata": {},
     "output_type": "display_data"
    },
    {
     "name": "stdout",
     "output_type": "stream",
     "text": [
      "Epoch 1/15\n",
      "68/68 [==============================] - ETA: 0s - loss: 0.6824 - acc: 0.5687 - true_positives_26: 807.0000 - true_negatives_26: 422.0000 - false_positives_26: 642.0000 - false_negatives_26: 290.0000\n",
      "Epoch 1: saving model to C:/Users/Shounen/Desktop/Ciclo XI/Tesis 2/GPUTesis/Archivos/Modelos\\clasificacion\\TesisDiego\\CLASE_TrainDS_11\\Model_clasificacion_clase_20220425_141600.hdf5\n",
      "68/68 [==============================] - 155s 2s/step - loss: 0.6824 - acc: 0.5687 - true_positives_26: 807.0000 - true_negatives_26: 422.0000 - false_positives_26: 642.0000 - false_negatives_26: 290.0000 - val_loss: 0.6740 - val_acc: 0.6423 - val_true_positives_26: 423.0000 - val_true_negatives_26: 965.0000 - val_false_positives_26: 99.0000 - val_false_negatives_26: 674.0000\n",
      "Epoch 2/15\n",
      "68/68 [==============================] - ETA: 0s - loss: 0.6659 - acc: 0.6525 - true_positives_26: 822.0000 - true_negatives_26: 588.0000 - false_positives_26: 476.0000 - false_negatives_26: 275.0000\n",
      "Epoch 2: saving model to C:/Users/Shounen/Desktop/Ciclo XI/Tesis 2/GPUTesis/Archivos/Modelos\\clasificacion\\TesisDiego\\CLASE_TrainDS_11\\Model_clasificacion_clase_20220425_141600.hdf5\n",
      "68/68 [==============================] - 153s 2s/step - loss: 0.6659 - acc: 0.6525 - true_positives_26: 822.0000 - true_negatives_26: 588.0000 - false_positives_26: 476.0000 - false_negatives_26: 275.0000 - val_loss: 0.6536 - val_acc: 0.6553 - val_true_positives_26: 452.0000 - val_true_negatives_26: 964.0000 - val_false_positives_26: 100.0000 - val_false_negatives_26: 645.0000\n",
      "Epoch 3/15\n",
      "68/68 [==============================] - ETA: 0s - loss: 0.6405 - acc: 0.6992 - true_positives_26: 738.0000 - true_negatives_26: 773.0000 - false_positives_26: 291.0000 - false_negatives_26: 359.0000\n",
      "Epoch 3: saving model to C:/Users/Shounen/Desktop/Ciclo XI/Tesis 2/GPUTesis/Archivos/Modelos\\clasificacion\\TesisDiego\\CLASE_TrainDS_11\\Model_clasificacion_clase_20220425_141600.hdf5\n",
      "68/68 [==============================] - 150s 2s/step - loss: 0.6405 - acc: 0.6992 - true_positives_26: 738.0000 - true_negatives_26: 773.0000 - false_positives_26: 291.0000 - false_negatives_26: 359.0000 - val_loss: 0.6222 - val_acc: 0.6821 - val_true_positives_26: 512.0000 - val_true_negatives_26: 962.0000 - val_false_positives_26: 102.0000 - val_false_negatives_26: 585.0000\n",
      "Epoch 4/15\n",
      "68/68 [==============================] - ETA: 0s - loss: 0.6035 - acc: 0.7205 - true_positives_26: 729.0000 - true_negatives_26: 828.0000 - false_positives_26: 236.0000 - false_negatives_26: 368.0000\n",
      "Epoch 4: saving model to C:/Users/Shounen/Desktop/Ciclo XI/Tesis 2/GPUTesis/Archivos/Modelos\\clasificacion\\TesisDiego\\CLASE_TrainDS_11\\Model_clasificacion_clase_20220425_141600.hdf5\n",
      "68/68 [==============================] - 150s 2s/step - loss: 0.6035 - acc: 0.7205 - true_positives_26: 729.0000 - true_negatives_26: 828.0000 - false_positives_26: 236.0000 - false_negatives_26: 368.0000 - val_loss: 0.5804 - val_acc: 0.7265 - val_true_positives_26: 629.0000 - val_true_negatives_26: 941.0000 - val_false_positives_26: 123.0000 - val_false_negatives_26: 468.0000\n",
      "Epoch 5/15\n",
      "68/68 [==============================] - ETA: 0s - loss: 0.5614 - acc: 0.7409 - true_positives_26: 732.0000 - true_negatives_26: 869.0000 - false_positives_26: 195.0000 - false_negatives_26: 365.0000\n",
      "Epoch 5: saving model to C:/Users/Shounen/Desktop/Ciclo XI/Tesis 2/GPUTesis/Archivos/Modelos\\clasificacion\\TesisDiego\\CLASE_TrainDS_11\\Model_clasificacion_clase_20220425_141600.hdf5\n",
      "68/68 [==============================] - 151s 2s/step - loss: 0.5614 - acc: 0.7409 - true_positives_26: 732.0000 - true_negatives_26: 869.0000 - false_positives_26: 195.0000 - false_negatives_26: 365.0000 - val_loss: 0.5432 - val_acc: 0.7288 - val_true_positives_26: 630.0000 - val_true_negatives_26: 945.0000 - val_false_positives_26: 119.0000 - val_false_negatives_26: 467.0000\n",
      "Epoch 6/15\n",
      "68/68 [==============================] - ETA: 0s - loss: 0.5287 - acc: 0.7473 - true_positives_26: 751.0000 - true_negatives_26: 864.0000 - false_positives_26: 200.0000 - false_negatives_26: 346.0000\n",
      "Epoch 6: saving model to C:/Users/Shounen/Desktop/Ciclo XI/Tesis 2/GPUTesis/Archivos/Modelos\\clasificacion\\TesisDiego\\CLASE_TrainDS_11\\Model_clasificacion_clase_20220425_141600.hdf5\n",
      "68/68 [==============================] - 241s 4s/step - loss: 0.5287 - acc: 0.7473 - true_positives_26: 751.0000 - true_negatives_26: 864.0000 - false_positives_26: 200.0000 - false_negatives_26: 346.0000 - val_loss: 0.5134 - val_acc: 0.7663 - val_true_positives_26: 821.0000 - val_true_negatives_26: 835.0000 - val_false_positives_26: 229.0000 - val_false_negatives_26: 276.0000\n",
      "Epoch 7/15\n",
      "68/68 [==============================] - ETA: 0s - loss: 0.5040 - acc: 0.7501 - true_positives_26: 776.0000 - true_negatives_26: 845.0000 - false_positives_26: 219.0000 - false_negatives_26: 321.0000\n",
      "Epoch 7: saving model to C:/Users/Shounen/Desktop/Ciclo XI/Tesis 2/GPUTesis/Archivos/Modelos\\clasificacion\\TesisDiego\\CLASE_TrainDS_11\\Model_clasificacion_clase_20220425_141600.hdf5\n",
      "68/68 [==============================] - 241s 4s/step - loss: 0.5040 - acc: 0.7501 - true_positives_26: 776.0000 - true_negatives_26: 845.0000 - false_positives_26: 219.0000 - false_negatives_26: 321.0000 - val_loss: 0.4946 - val_acc: 0.7663 - val_true_positives_26: 821.0000 - val_true_negatives_26: 835.0000 - val_false_positives_26: 229.0000 - val_false_negatives_26: 276.0000\n",
      "Epoch 8/15\n",
      "68/68 [==============================] - ETA: 0s - loss: 0.4892 - acc: 0.7598 - true_positives_26: 811.0000 - true_negatives_26: 831.0000 - false_positives_26: 233.0000 - false_negatives_26: 286.0000\n",
      "Epoch 8: saving model to C:/Users/Shounen/Desktop/Ciclo XI/Tesis 2/GPUTesis/Archivos/Modelos\\clasificacion\\TesisDiego\\CLASE_TrainDS_11\\Model_clasificacion_clase_20220425_141600.hdf5\n",
      "68/68 [==============================] - 232s 3s/step - loss: 0.4892 - acc: 0.7598 - true_positives_26: 811.0000 - true_negatives_26: 831.0000 - false_positives_26: 233.0000 - false_negatives_26: 286.0000 - val_loss: 0.4856 - val_acc: 0.7663 - val_true_positives_26: 821.0000 - val_true_negatives_26: 835.0000 - val_false_positives_26: 229.0000 - val_false_negatives_26: 276.0000\n",
      "Epoch 9/15\n",
      "68/68 [==============================] - ETA: 0s - loss: 0.4794 - acc: 0.7645 - true_positives_26: 821.0000 - true_negatives_26: 831.0000 - false_positives_26: 233.0000 - false_negatives_26: 276.0000\n",
      "Epoch 9: saving model to C:/Users/Shounen/Desktop/Ciclo XI/Tesis 2/GPUTesis/Archivos/Modelos\\clasificacion\\TesisDiego\\CLASE_TrainDS_11\\Model_clasificacion_clase_20220425_141600.hdf5\n",
      "68/68 [==============================] - 251s 4s/step - loss: 0.4794 - acc: 0.7645 - true_positives_26: 821.0000 - true_negatives_26: 831.0000 - false_positives_26: 233.0000 - false_negatives_26: 276.0000 - val_loss: 0.4802 - val_acc: 0.7682 - val_true_positives_26: 821.0000 - val_true_negatives_26: 839.0000 - val_false_positives_26: 225.0000 - val_false_negatives_26: 276.0000\n",
      "Epoch 10/15\n",
      "68/68 [==============================] - ETA: 0s - loss: 0.4726 - acc: 0.7649 - true_positives_26: 821.0000 - true_negatives_26: 832.0000 - false_positives_26: 232.0000 - false_negatives_26: 276.0000\n",
      "Epoch 10: saving model to C:/Users/Shounen/Desktop/Ciclo XI/Tesis 2/GPUTesis/Archivos/Modelos\\clasificacion\\TesisDiego\\CLASE_TrainDS_11\\Model_clasificacion_clase_20220425_141600.hdf5\n",
      "68/68 [==============================] - 179s 3s/step - loss: 0.4726 - acc: 0.7649 - true_positives_26: 821.0000 - true_negatives_26: 832.0000 - false_positives_26: 232.0000 - false_negatives_26: 276.0000 - val_loss: 0.4759 - val_acc: 0.7682 - val_true_positives_26: 821.0000 - val_true_negatives_26: 839.0000 - val_false_positives_26: 225.0000 - val_false_negatives_26: 276.0000\n",
      "Epoch 11/15\n",
      "68/68 [==============================] - ETA: 0s - loss: 0.4671 - acc: 0.7663 - true_positives_26: 821.0000 - true_negatives_26: 835.0000 - false_positives_26: 229.0000 - false_negatives_26: 276.0000\n",
      "Epoch 11: saving model to C:/Users/Shounen/Desktop/Ciclo XI/Tesis 2/GPUTesis/Archivos/Modelos\\clasificacion\\TesisDiego\\CLASE_TrainDS_11\\Model_clasificacion_clase_20220425_141600.hdf5\n",
      "68/68 [==============================] - 235s 3s/step - loss: 0.4671 - acc: 0.7663 - true_positives_26: 821.0000 - true_negatives_26: 835.0000 - false_positives_26: 229.0000 - false_negatives_26: 276.0000 - val_loss: 0.4711 - val_acc: 0.7682 - val_true_positives_26: 821.0000 - val_true_negatives_26: 839.0000 - val_false_positives_26: 225.0000 - val_false_negatives_26: 276.0000\n"
     ]
    },
    {
     "name": "stdout",
     "output_type": "stream",
     "text": [
      "Epoch 12/15\n",
      "68/68 [==============================] - ETA: 0s - loss: 0.4631 - acc: 0.7663 - true_positives_26: 821.0000 - true_negatives_26: 835.0000 - false_positives_26: 229.0000 - false_negatives_26: 276.0000\n",
      "Epoch 12: saving model to C:/Users/Shounen/Desktop/Ciclo XI/Tesis 2/GPUTesis/Archivos/Modelos\\clasificacion\\TesisDiego\\CLASE_TrainDS_11\\Model_clasificacion_clase_20220425_141600.hdf5\n",
      "68/68 [==============================] - 256s 4s/step - loss: 0.4631 - acc: 0.7663 - true_positives_26: 821.0000 - true_negatives_26: 835.0000 - false_positives_26: 229.0000 - false_negatives_26: 276.0000 - val_loss: 0.4678 - val_acc: 0.7682 - val_true_positives_26: 821.0000 - val_true_negatives_26: 839.0000 - val_false_positives_26: 225.0000 - val_false_negatives_26: 276.0000\n",
      "Epoch 13/15\n",
      "68/68 [==============================] - ETA: 0s - loss: 0.4601 - acc: 0.7663 - true_positives_26: 821.0000 - true_negatives_26: 835.0000 - false_positives_26: 229.0000 - false_negatives_26: 276.0000\n",
      "Epoch 13: saving model to C:/Users/Shounen/Desktop/Ciclo XI/Tesis 2/GPUTesis/Archivos/Modelos\\clasificacion\\TesisDiego\\CLASE_TrainDS_11\\Model_clasificacion_clase_20220425_141600.hdf5\n",
      "68/68 [==============================] - 199s 3s/step - loss: 0.4601 - acc: 0.7663 - true_positives_26: 821.0000 - true_negatives_26: 835.0000 - false_positives_26: 229.0000 - false_negatives_26: 276.0000 - val_loss: 0.4658 - val_acc: 0.7682 - val_true_positives_26: 821.0000 - val_true_negatives_26: 839.0000 - val_false_positives_26: 225.0000 - val_false_negatives_26: 276.0000\n",
      "Epoch 14/15\n",
      "68/68 [==============================] - ETA: 0s - loss: 0.4571 - acc: 0.7668 - true_positives_26: 821.0000 - true_negatives_26: 836.0000 - false_positives_26: 228.0000 - false_negatives_26: 276.0000\n",
      "Epoch 14: saving model to C:/Users/Shounen/Desktop/Ciclo XI/Tesis 2/GPUTesis/Archivos/Modelos\\clasificacion\\TesisDiego\\CLASE_TrainDS_11\\Model_clasificacion_clase_20220425_141600.hdf5\n",
      "68/68 [==============================] - 203s 3s/step - loss: 0.4571 - acc: 0.7668 - true_positives_26: 821.0000 - true_negatives_26: 836.0000 - false_positives_26: 228.0000 - false_negatives_26: 276.0000 - val_loss: 0.4623 - val_acc: 0.7682 - val_true_positives_26: 821.0000 - val_true_negatives_26: 839.0000 - val_false_positives_26: 225.0000 - val_false_negatives_26: 276.0000\n",
      "Epoch 15/15\n",
      "68/68 [==============================] - ETA: 0s - loss: 0.4534 - acc: 0.7668 - true_positives_26: 821.0000 - true_negatives_26: 836.0000 - false_positives_26: 228.0000 - false_negatives_26: 276.0000\n",
      "Epoch 15: saving model to C:/Users/Shounen/Desktop/Ciclo XI/Tesis 2/GPUTesis/Archivos/Modelos\\clasificacion\\TesisDiego\\CLASE_TrainDS_11\\Model_clasificacion_clase_20220425_141600.hdf5\n",
      "68/68 [==============================] - 313s 5s/step - loss: 0.4534 - acc: 0.7668 - true_positives_26: 821.0000 - true_negatives_26: 836.0000 - false_positives_26: 228.0000 - false_negatives_26: 276.0000 - val_loss: 0.4595 - val_acc: 0.7682 - val_true_positives_26: 821.0000 - val_true_negatives_26: 839.0000 - val_false_positives_26: 225.0000 - val_false_negatives_26: 276.0000\n",
      "\n"
     ]
    },
    {
     "data": {
      "text/html": [
       "Waiting for W&B process to finish... <strong style=\"color:green\">(success).</strong>"
      ],
      "text/plain": [
       "<IPython.core.display.HTML object>"
      ]
     },
     "metadata": {},
     "output_type": "display_data"
    },
    {
     "data": {
      "application/vnd.jupyter.widget-view+json": {
       "model_id": "",
       "version_major": 2,
       "version_minor": 0
      },
      "text/plain": [
       "VBox(children=(Label(value='0.006 MB of 0.006 MB uploaded (0.000 MB deduped)\\r'), FloatProgress(value=1.0, max…"
      ]
     },
     "metadata": {},
     "output_type": "display_data"
    },
    {
     "data": {
      "text/html": [
       "<style>\n",
       "    table.wandb td:nth-child(1) { padding: 0 10px; text-align: right }\n",
       "    .wandb-row { display: flex; flex-direction: row; flex-wrap: wrap; width: 100% }\n",
       "    .wandb-col { display: flex; flex-direction: column; flex-basis: 100%; flex: 1; padding: 10px; }\n",
       "    </style>\n",
       "<div class=\"wandb-row\"><div class=\"wandb-col\"><h3>Run history:</h3><br/><table class=\"wandb\"><tr><td>acc</td><td>▁▄▆▆▇▇▇████████</td></tr><tr><td>loss</td><td>█▇▇▆▄▃▃▂▂▂▁▁▁▁▁</td></tr><tr><td>val_FN</td><td>█▇▆▄▄▁▁▁▁▁▁▁▁▁▁</td></tr><tr><td>val_FP</td><td>▁▁▁▂▂██████████</td></tr><tr><td>val_TN</td><td>███▇▇▁▁▁▁▁▁▁▁▁▁</td></tr><tr><td>val_TP</td><td>▁▂▃▅▅██████████</td></tr><tr><td>val_acc</td><td>▁▂▃▆▆██████████</td></tr><tr><td>val_loss</td><td>█▇▆▅▄▃▂▂▂▂▁▁▁▁▁</td></tr></table><br/></div><div class=\"wandb-col\"><h3>Run summary:</h3><br/><table class=\"wandb\"><tr><td>acc</td><td>0.76677</td></tr><tr><td>loss</td><td>0.4534</td></tr><tr><td>val_FN</td><td>276</td></tr><tr><td>val_FP</td><td>225</td></tr><tr><td>val_TN</td><td>839</td></tr><tr><td>val_TP</td><td>821</td></tr><tr><td>val_acc</td><td>0.76816</td></tr><tr><td>val_loss</td><td>0.45952</td></tr></table><br/></div></div>"
      ],
      "text/plain": [
       "<IPython.core.display.HTML object>"
      ]
     },
     "metadata": {},
     "output_type": "display_data"
    },
    {
     "data": {
      "text/html": [
       "Synced <strong style=\"color:#cdcd00\">Ex_CLASE_TrainDS_11_(3-6-20)_20220425_141600</strong>: <a href=\"https://wandb.ai/tesis2/TesisDiego-%28clasificacion-clase-2%29/runs/34jnxy5r\" target=\"_blank\">https://wandb.ai/tesis2/TesisDiego-%28clasificacion-clase-2%29/runs/34jnxy5r</a><br/>Synced 6 W&B file(s), 15 media file(s), 7 artifact file(s) and 0 other file(s)"
      ],
      "text/plain": [
       "<IPython.core.display.HTML object>"
      ]
     },
     "metadata": {},
     "output_type": "display_data"
    },
    {
     "data": {
      "text/html": [
       "Find logs at: <code>.\\wandb\\run-20220425_141600-34jnxy5r\\logs</code>"
      ],
      "text/plain": [
       "<IPython.core.display.HTML object>"
      ]
     },
     "metadata": {},
     "output_type": "display_data"
    },
    {
     "name": "stdout",
     "output_type": "stream",
     "text": [
      "--------------------------------------------------\n",
      "Inicio de la prueba N°: 6/6\n",
      "Dataset: C:/Users/Shounen/Desktop/Ciclo XI/Tesis 2/GPUTesis/Archivos/Dataset/SplittedV2/CLASE_TrainDS_11\n",
      "- Batch size:  32\n",
      "Creando modelo con input (20,20,2)) de tipo (clasificacion)\n",
      "Tamaño del dataset: Train 2161  - Val 541\n"
     ]
    },
    {
     "data": {
      "text/html": [
       "wandb version 0.12.15 is available!  To upgrade, please run:\n",
       " $ pip install wandb --upgrade"
      ],
      "text/plain": [
       "<IPython.core.display.HTML object>"
      ]
     },
     "metadata": {},
     "output_type": "display_data"
    },
    {
     "data": {
      "text/html": [
       "Tracking run with wandb version 0.12.11"
      ],
      "text/plain": [
       "<IPython.core.display.HTML object>"
      ]
     },
     "metadata": {},
     "output_type": "display_data"
    },
    {
     "data": {
      "text/html": [
       "Run data is saved locally in <code>C:\\Users\\Shounen\\Desktop\\Ciclo XI\\Tesis 2\\GPUTesis\\Codigo\\Entrenamiento\\Jupyter\\wandb\\run-20220425_150807-7v80j6ge</code>"
      ],
      "text/plain": [
       "<IPython.core.display.HTML object>"
      ]
     },
     "metadata": {},
     "output_type": "display_data"
    },
    {
     "data": {
      "text/html": [
       "Syncing run <strong><a href=\"https://wandb.ai/tesis2/TesisDiego-%28clasificacion-clase-2%29/runs/7v80j6ge\" target=\"_blank\">Ex_CLASE_TrainDS_11_(2-6-20)_20220425_150807</a></strong> to <a href=\"https://wandb.ai/tesis2/TesisDiego-%28clasificacion-clase-2%29\" target=\"_blank\">Weights & Biases</a> (<a href=\"https://wandb.me/run\" target=\"_blank\">docs</a>)<br/>"
      ],
      "text/plain": [
       "<IPython.core.display.HTML object>"
      ]
     },
     "metadata": {},
     "output_type": "display_data"
    },
    {
     "name": "stdout",
     "output_type": "stream",
     "text": [
      "Epoch 1/15\n",
      "68/68 [==============================] - ETA: 0s - loss: 0.6771 - acc: 0.5683 - true_positives_27: 803.0000 - true_negatives_27: 425.0000 - false_positives_27: 639.0000 - false_negatives_27: 294.0000\n",
      "Epoch 1: saving model to C:/Users/Shounen/Desktop/Ciclo XI/Tesis 2/GPUTesis/Archivos/Modelos\\clasificacion\\TesisDiego\\CLASE_TrainDS_11\\Model_clasificacion_clase_20220425_150807.hdf5\n",
      "68/68 [==============================] - 214s 3s/step - loss: 0.6771 - acc: 0.5683 - true_positives_27: 803.0000 - true_negatives_27: 425.0000 - false_positives_27: 639.0000 - false_negatives_27: 294.0000 - val_loss: 0.6677 - val_acc: 0.5562 - val_true_positives_27: 1097.0000 - val_true_negatives_27: 105.0000 - val_false_positives_27: 959.0000 - val_false_negatives_27: 0.0000e+00\n",
      "Epoch 2/15\n",
      "68/68 [==============================] - ETA: 0s - loss: 0.6578 - acc: 0.6798 - true_positives_27: 787.0000 - true_negatives_27: 682.0000 - false_positives_27: 382.0000 - false_negatives_27: 310.0000\n",
      "Epoch 2: saving model to C:/Users/Shounen/Desktop/Ciclo XI/Tesis 2/GPUTesis/Archivos/Modelos\\clasificacion\\TesisDiego\\CLASE_TrainDS_11\\Model_clasificacion_clase_20220425_150807.hdf5\n",
      "68/68 [==============================] - 214s 3s/step - loss: 0.6578 - acc: 0.6798 - true_positives_27: 787.0000 - true_negatives_27: 682.0000 - false_positives_27: 382.0000 - false_negatives_27: 310.0000 - val_loss: 0.6424 - val_acc: 0.7603 - val_true_positives_27: 817.0000 - val_true_negatives_27: 826.0000 - val_false_positives_27: 238.0000 - val_false_negatives_27: 280.0000\n",
      "Epoch 3/15\n",
      "68/68 [==============================] - ETA: 0s - loss: 0.6248 - acc: 0.7228 - true_positives_27: 740.0000 - true_negatives_27: 822.0000 - false_positives_27: 242.0000 - false_negatives_27: 357.0000\n",
      "Epoch 3: saving model to C:/Users/Shounen/Desktop/Ciclo XI/Tesis 2/GPUTesis/Archivos/Modelos\\clasificacion\\TesisDiego\\CLASE_TrainDS_11\\Model_clasificacion_clase_20220425_150807.hdf5\n",
      "68/68 [==============================] - 226s 3s/step - loss: 0.6248 - acc: 0.7228 - true_positives_27: 740.0000 - true_negatives_27: 822.0000 - false_positives_27: 242.0000 - false_negatives_27: 357.0000 - val_loss: 0.5993 - val_acc: 0.7631 - val_true_positives_27: 817.0000 - val_true_negatives_27: 832.0000 - val_false_positives_27: 232.0000 - val_false_negatives_27: 280.0000\n",
      "Epoch 4/15\n",
      "67/68 [============================>.] - ETA: 1s - loss: 0.5798 - acc: 0.7337 - true_positives_27: 741.0000 - true_negatives_27: 832.0000 - false_positives_27: 223.0000 - false_negatives_27: 348.0000\n",
      "Epoch 4: saving model to C:/Users/Shounen/Desktop/Ciclo XI/Tesis 2/GPUTesis/Archivos/Modelos\\clasificacion\\TesisDiego\\CLASE_TrainDS_11\\Model_clasificacion_clase_20220425_150807.hdf5\n",
      "68/68 [==============================] - 219s 3s/step - loss: 0.5796 - acc: 0.7330 - true_positives_27: 746.0000 - true_negatives_27: 838.0000 - false_positives_27: 226.0000 - false_negatives_27: 351.0000 - val_loss: 0.5537 - val_acc: 0.7395 - val_true_positives_27: 712.0000 - val_true_negatives_27: 886.0000 - val_false_positives_27: 178.0000 - val_false_negatives_27: 385.0000\n",
      "Epoch 5/15\n",
      "68/68 [==============================] - ETA: 0s - loss: 0.5387 - acc: 0.7446 - true_positives_27: 757.0000 - true_negatives_27: 852.0000 - false_positives_27: 212.0000 - false_negatives_27: 340.0000\n",
      "Epoch 5: saving model to C:/Users/Shounen/Desktop/Ciclo XI/Tesis 2/GPUTesis/Archivos/Modelos\\clasificacion\\TesisDiego\\CLASE_TrainDS_11\\Model_clasificacion_clase_20220425_150807.hdf5\n",
      "68/68 [==============================] - 195s 3s/step - loss: 0.5387 - acc: 0.7446 - true_positives_27: 757.0000 - true_negatives_27: 852.0000 - false_positives_27: 212.0000 - false_negatives_27: 340.0000 - val_loss: 0.5194 - val_acc: 0.7214 - val_true_positives_27: 626.0000 - val_true_negatives_27: 933.0000 - val_false_positives_27: 131.0000 - val_false_negatives_27: 471.0000\n",
      "Epoch 6/15\n",
      "68/68 [==============================] - ETA: 0s - loss: 0.5109 - acc: 0.7473 - true_positives_27: 784.0000 - true_negatives_27: 831.0000 - false_positives_27: 233.0000 - false_negatives_27: 313.0000\n",
      "Epoch 6: saving model to C:/Users/Shounen/Desktop/Ciclo XI/Tesis 2/GPUTesis/Archivos/Modelos\\clasificacion\\TesisDiego\\CLASE_TrainDS_11\\Model_clasificacion_clase_20220425_150807.hdf5\n",
      "68/68 [==============================] - 174s 3s/step - loss: 0.5109 - acc: 0.7473 - true_positives_27: 784.0000 - true_negatives_27: 831.0000 - false_positives_27: 233.0000 - false_negatives_27: 313.0000 - val_loss: 0.4994 - val_acc: 0.7557 - val_true_positives_27: 783.0000 - val_true_negatives_27: 850.0000 - val_false_positives_27: 214.0000 - val_false_negatives_27: 314.0000\n",
      "Epoch 7/15\n",
      "68/68 [==============================] - ETA: 0s - loss: 0.4937 - acc: 0.7561 - true_positives_27: 791.0000 - true_negatives_27: 843.0000 - false_positives_27: 221.0000 - false_negatives_27: 306.0000\n",
      "Epoch 7: saving model to C:/Users/Shounen/Desktop/Ciclo XI/Tesis 2/GPUTesis/Archivos/Modelos\\clasificacion\\TesisDiego\\CLASE_TrainDS_11\\Model_clasificacion_clase_20220425_150807.hdf5\n",
      "68/68 [==============================] - 199s 3s/step - loss: 0.4937 - acc: 0.7561 - true_positives_27: 791.0000 - true_negatives_27: 843.0000 - false_positives_27: 221.0000 - false_negatives_27: 306.0000 - val_loss: 0.4848 - val_acc: 0.7654 - val_true_positives_27: 817.0000 - val_true_negatives_27: 837.0000 - val_false_positives_27: 227.0000 - val_false_negatives_27: 280.0000\n",
      "Epoch 8/15\n",
      "68/68 [==============================] - ETA: 0s - loss: 0.4821 - acc: 0.7617 - true_positives_27: 804.0000 - true_negatives_27: 842.0000 - false_positives_27: 222.0000 - false_negatives_27: 293.0000\n",
      "Epoch 8: saving model to C:/Users/Shounen/Desktop/Ciclo XI/Tesis 2/GPUTesis/Archivos/Modelos\\clasificacion\\TesisDiego\\CLASE_TrainDS_11\\Model_clasificacion_clase_20220425_150807.hdf5\n",
      "68/68 [==============================] - 208s 3s/step - loss: 0.4821 - acc: 0.7617 - true_positives_27: 804.0000 - true_negatives_27: 842.0000 - false_positives_27: 222.0000 - false_negatives_27: 293.0000 - val_loss: 0.4741 - val_acc: 0.7668 - val_true_positives_27: 817.0000 - val_true_negatives_27: 840.0000 - val_false_positives_27: 224.0000 - val_false_negatives_27: 280.0000\n",
      "Epoch 9/15\n",
      "68/68 [==============================] - ETA: 0s - loss: 0.4738 - acc: 0.7658 - true_positives_27: 817.0000 - true_negatives_27: 838.0000 - false_positives_27: 226.0000 - false_negatives_27: 280.0000\n",
      "Epoch 9: saving model to C:/Users/Shounen/Desktop/Ciclo XI/Tesis 2/GPUTesis/Archivos/Modelos\\clasificacion\\TesisDiego\\CLASE_TrainDS_11\\Model_clasificacion_clase_20220425_150807.hdf5\n",
      "68/68 [==============================] - 298s 4s/step - loss: 0.4738 - acc: 0.7658 - true_positives_27: 817.0000 - true_negatives_27: 838.0000 - false_positives_27: 226.0000 - false_negatives_27: 280.0000 - val_loss: 0.4676 - val_acc: 0.7677 - val_true_positives_27: 817.0000 - val_true_negatives_27: 842.0000 - val_false_positives_27: 222.0000 - val_false_negatives_27: 280.0000\n",
      "Epoch 10/15\n",
      "68/68 [==============================] - ETA: 0s - loss: 0.4710 - acc: 0.7640 - true_positives_27: 817.0000 - true_negatives_27: 834.0000 - false_positives_27: 230.0000 - false_negatives_27: 280.0000\n",
      "Epoch 10: saving model to C:/Users/Shounen/Desktop/Ciclo XI/Tesis 2/GPUTesis/Archivos/Modelos\\clasificacion\\TesisDiego\\CLASE_TrainDS_11\\Model_clasificacion_clase_20220425_150807.hdf5\n",
      "68/68 [==============================] - 208s 3s/step - loss: 0.4710 - acc: 0.7640 - true_positives_27: 817.0000 - true_negatives_27: 834.0000 - false_positives_27: 230.0000 - false_negatives_27: 280.0000 - val_loss: 0.4632 - val_acc: 0.7663 - val_true_positives_27: 817.0000 - val_true_negatives_27: 839.0000 - val_false_positives_27: 225.0000 - val_false_negatives_27: 280.0000\n",
      "Epoch 11/15\n",
      "68/68 [==============================] - ETA: 0s - loss: 0.4644 - acc: 0.7654 - true_positives_27: 817.0000 - true_negatives_27: 837.0000 - false_positives_27: 227.0000 - false_negatives_27: 280.0000\n",
      "Epoch 11: saving model to C:/Users/Shounen/Desktop/Ciclo XI/Tesis 2/GPUTesis/Archivos/Modelos\\clasificacion\\TesisDiego\\CLASE_TrainDS_11\\Model_clasificacion_clase_20220425_150807.hdf5\n",
      "68/68 [==============================] - 215s 3s/step - loss: 0.4644 - acc: 0.7654 - true_positives_27: 817.0000 - true_negatives_27: 837.0000 - false_positives_27: 227.0000 - false_negatives_27: 280.0000 - val_loss: 0.4599 - val_acc: 0.7677 - val_true_positives_27: 817.0000 - val_true_negatives_27: 842.0000 - val_false_positives_27: 222.0000 - val_false_negatives_27: 280.0000\n"
     ]
    },
    {
     "name": "stdout",
     "output_type": "stream",
     "text": [
      "Epoch 12/15\n",
      "68/68 [==============================] - ETA: 0s - loss: 0.4611 - acc: 0.7654 - true_positives_27: 817.0000 - true_negatives_27: 837.0000 - false_positives_27: 227.0000 - false_negatives_27: 280.0000\n",
      "Epoch 12: saving model to C:/Users/Shounen/Desktop/Ciclo XI/Tesis 2/GPUTesis/Archivos/Modelos\\clasificacion\\TesisDiego\\CLASE_TrainDS_11\\Model_clasificacion_clase_20220425_150807.hdf5\n",
      "68/68 [==============================] - 218s 3s/step - loss: 0.4611 - acc: 0.7654 - true_positives_27: 817.0000 - true_negatives_27: 837.0000 - false_positives_27: 227.0000 - false_negatives_27: 280.0000 - val_loss: 0.4561 - val_acc: 0.7677 - val_true_positives_27: 817.0000 - val_true_negatives_27: 842.0000 - val_false_positives_27: 222.0000 - val_false_negatives_27: 280.0000\n",
      "Epoch 13/15\n",
      "68/68 [==============================] - ETA: 0s - loss: 0.4569 - acc: 0.7654 - true_positives_27: 817.0000 - true_negatives_27: 837.0000 - false_positives_27: 227.0000 - false_negatives_27: 280.0000\n",
      "Epoch 13: saving model to C:/Users/Shounen/Desktop/Ciclo XI/Tesis 2/GPUTesis/Archivos/Modelos\\clasificacion\\TesisDiego\\CLASE_TrainDS_11\\Model_clasificacion_clase_20220425_150807.hdf5\n",
      "68/68 [==============================] - 215s 3s/step - loss: 0.4569 - acc: 0.7654 - true_positives_27: 817.0000 - true_negatives_27: 837.0000 - false_positives_27: 227.0000 - false_negatives_27: 280.0000 - val_loss: 0.4509 - val_acc: 0.7677 - val_true_positives_27: 817.0000 - val_true_negatives_27: 842.0000 - val_false_positives_27: 222.0000 - val_false_negatives_27: 280.0000\n",
      "Epoch 14/15\n",
      "68/68 [==============================] - ETA: 0s - loss: 0.4527 - acc: 0.7654 - true_positives_27: 817.0000 - true_negatives_27: 837.0000 - false_positives_27: 227.0000 - false_negatives_27: 280.0000\n",
      "Epoch 14: saving model to C:/Users/Shounen/Desktop/Ciclo XI/Tesis 2/GPUTesis/Archivos/Modelos\\clasificacion\\TesisDiego\\CLASE_TrainDS_11\\Model_clasificacion_clase_20220425_150807.hdf5\n",
      "68/68 [==============================] - 193s 3s/step - loss: 0.4527 - acc: 0.7654 - true_positives_27: 817.0000 - true_negatives_27: 837.0000 - false_positives_27: 227.0000 - false_negatives_27: 280.0000 - val_loss: 0.4472 - val_acc: 0.7677 - val_true_positives_27: 817.0000 - val_true_negatives_27: 842.0000 - val_false_positives_27: 222.0000 - val_false_negatives_27: 280.0000\n",
      "Epoch 15/15\n",
      "68/68 [==============================] - ETA: 0s - loss: 0.4495 - acc: 0.7654 - true_positives_27: 817.0000 - true_negatives_27: 837.0000 - false_positives_27: 227.0000 - false_negatives_27: 280.0000\n",
      "Epoch 15: saving model to C:/Users/Shounen/Desktop/Ciclo XI/Tesis 2/GPUTesis/Archivos/Modelos\\clasificacion\\TesisDiego\\CLASE_TrainDS_11\\Model_clasificacion_clase_20220425_150807.hdf5\n",
      "68/68 [==============================] - 209s 3s/step - loss: 0.4495 - acc: 0.7654 - true_positives_27: 817.0000 - true_negatives_27: 837.0000 - false_positives_27: 227.0000 - false_negatives_27: 280.0000 - val_loss: 0.4439 - val_acc: 0.7677 - val_true_positives_27: 817.0000 - val_true_negatives_27: 842.0000 - val_false_positives_27: 222.0000 - val_false_negatives_27: 280.0000\n",
      "\n"
     ]
    },
    {
     "data": {
      "text/html": [
       "Waiting for W&B process to finish... <strong style=\"color:green\">(success).</strong>"
      ],
      "text/plain": [
       "<IPython.core.display.HTML object>"
      ]
     },
     "metadata": {},
     "output_type": "display_data"
    },
    {
     "data": {
      "application/vnd.jupyter.widget-view+json": {
       "model_id": "",
       "version_major": 2,
       "version_minor": 0
      },
      "text/plain": [
       "VBox(children=(Label(value='0.008 MB of 0.008 MB uploaded (0.000 MB deduped)\\r'), FloatProgress(value=1.0, max…"
      ]
     },
     "metadata": {},
     "output_type": "display_data"
    },
    {
     "data": {
      "text/html": [
       "<style>\n",
       "    table.wandb td:nth-child(1) { padding: 0 10px; text-align: right }\n",
       "    .wandb-row { display: flex; flex-direction: row; flex-wrap: wrap; width: 100% }\n",
       "    .wandb-col { display: flex; flex-direction: column; flex-basis: 100%; flex: 1; padding: 10px; }\n",
       "    </style>\n",
       "<div class=\"wandb-row\"><div class=\"wandb-col\"><h3>Run history:</h3><br/><table class=\"wandb\"><tr><td>acc</td><td>▁▅▆▇▇▇█████████</td></tr><tr><td>loss</td><td>█▇▆▅▄▃▂▂▂▂▁▁▁▁▁</td></tr><tr><td>val_FN</td><td>▁▅▅▇█▆▅▅▅▅▅▅▅▅▅</td></tr><tr><td>val_FP</td><td>█▂▂▁▁▂▂▂▂▂▂▂▂▂▂</td></tr><tr><td>val_TN</td><td>▁▇▇██▇▇▇▇▇▇▇▇▇▇</td></tr><tr><td>val_TP</td><td>█▄▄▂▁▃▄▄▄▄▄▄▄▄▄</td></tr><tr><td>val_acc</td><td>▁██▇▆██████████</td></tr><tr><td>val_loss</td><td>█▇▆▄▃▃▂▂▂▂▂▁▁▁▁</td></tr></table><br/></div><div class=\"wandb-col\"><h3>Run summary:</h3><br/><table class=\"wandb\"><tr><td>acc</td><td>0.76539</td></tr><tr><td>loss</td><td>0.44952</td></tr><tr><td>val_FN</td><td>280</td></tr><tr><td>val_FP</td><td>222</td></tr><tr><td>val_TN</td><td>842</td></tr><tr><td>val_TP</td><td>817</td></tr><tr><td>val_acc</td><td>0.7677</td></tr><tr><td>val_loss</td><td>0.44391</td></tr></table><br/></div></div>"
      ],
      "text/plain": [
       "<IPython.core.display.HTML object>"
      ]
     },
     "metadata": {},
     "output_type": "display_data"
    },
    {
     "data": {
      "text/html": [
       "Synced <strong style=\"color:#cdcd00\">Ex_CLASE_TrainDS_11_(2-6-20)_20220425_150807</strong>: <a href=\"https://wandb.ai/tesis2/TesisDiego-%28clasificacion-clase-2%29/runs/7v80j6ge\" target=\"_blank\">https://wandb.ai/tesis2/TesisDiego-%28clasificacion-clase-2%29/runs/7v80j6ge</a><br/>Synced 6 W&B file(s), 15 media file(s), 10 artifact file(s) and 0 other file(s)"
      ],
      "text/plain": [
       "<IPython.core.display.HTML object>"
      ]
     },
     "metadata": {},
     "output_type": "display_data"
    },
    {
     "data": {
      "text/html": [
       "Find logs at: <code>.\\wandb\\run-20220425_150807-7v80j6ge\\logs</code>"
      ],
      "text/plain": [
       "<IPython.core.display.HTML object>"
      ]
     },
     "metadata": {},
     "output_type": "display_data"
    },
    {
     "name": "stdout",
     "output_type": "stream",
     "text": [
      "--------------------------------------------------\n",
      "Inicio de la prueba N°: 1/6\n",
      "Dataset: C:/Users/Shounen/Desktop/Ciclo XI/Tesis 2/GPUTesis/Archivos/Dataset/SplittedV2/CLASE_TrainDS_12\n",
      "- Batch size:  32\n",
      "Creando modelo con input (30,30,3)) de tipo (clasificacion)\n",
      "Tamaño del dataset: Train 2161  - Val 541\n"
     ]
    },
    {
     "data": {
      "text/html": [
       "wandb version 0.12.15 is available!  To upgrade, please run:\n",
       " $ pip install wandb --upgrade"
      ],
      "text/plain": [
       "<IPython.core.display.HTML object>"
      ]
     },
     "metadata": {},
     "output_type": "display_data"
    },
    {
     "data": {
      "text/html": [
       "Tracking run with wandb version 0.12.11"
      ],
      "text/plain": [
       "<IPython.core.display.HTML object>"
      ]
     },
     "metadata": {},
     "output_type": "display_data"
    },
    {
     "data": {
      "text/html": [
       "Run data is saved locally in <code>C:\\Users\\Shounen\\Desktop\\Ciclo XI\\Tesis 2\\GPUTesis\\Codigo\\Entrenamiento\\Jupyter\\wandb\\run-20220425_160157-3kctjj9u</code>"
      ],
      "text/plain": [
       "<IPython.core.display.HTML object>"
      ]
     },
     "metadata": {},
     "output_type": "display_data"
    },
    {
     "data": {
      "text/html": [
       "Syncing run <strong><a href=\"https://wandb.ai/tesis2/TesisDiego-%28clasificacion-clase-2%29/runs/3kctjj9u\" target=\"_blank\">Ex_CLASE_TrainDS_12_(3-6-30)_20220425_160157</a></strong> to <a href=\"https://wandb.ai/tesis2/TesisDiego-%28clasificacion-clase-2%29\" target=\"_blank\">Weights & Biases</a> (<a href=\"https://wandb.me/run\" target=\"_blank\">docs</a>)<br/>"
      ],
      "text/plain": [
       "<IPython.core.display.HTML object>"
      ]
     },
     "metadata": {},
     "output_type": "display_data"
    },
    {
     "name": "stdout",
     "output_type": "stream",
     "text": [
      "Epoch 1/15\n",
      "67/68 [============================>.] - ETA: 1s - loss: 0.6875 - acc: 0.5247 - true_positives_28: 661.0000 - true_negatives_28: 464.0000 - false_positives_28: 629.0000 - false_negatives_28: 390.0000\n",
      "Epoch 1: saving model to C:/Users/Shounen/Desktop/Ciclo XI/Tesis 2/GPUTesis/Archivos/Modelos\\clasificacion\\TesisDiego\\CLASE_TrainDS_12\\Model_clasificacion_clase_20220425_160157.hdf5\n",
      "68/68 [==============================] - 213s 3s/step - loss: 0.6875 - acc: 0.5252 - true_positives_28: 665.0000 - true_negatives_28: 470.0000 - false_positives_28: 631.0000 - false_negatives_28: 395.0000 - val_loss: 0.6771 - val_acc: 0.7242 - val_true_positives_28: 595.0000 - val_true_negatives_28: 970.0000 - val_false_positives_28: 131.0000 - val_false_negatives_28: 465.0000\n",
      "Epoch 2/15\n",
      "68/68 [==============================] - ETA: 0s - loss: 0.6755 - acc: 0.5965 - true_positives_28: 638.0000 - true_negatives_28: 651.0000 - false_positives_28: 450.0000 - false_negatives_28: 422.0000\n",
      "Epoch 2: saving model to C:/Users/Shounen/Desktop/Ciclo XI/Tesis 2/GPUTesis/Archivos/Modelos\\clasificacion\\TesisDiego\\CLASE_TrainDS_12\\Model_clasificacion_clase_20220425_160157.hdf5\n",
      "68/68 [==============================] - 215s 3s/step - loss: 0.6755 - acc: 0.5965 - true_positives_28: 638.0000 - true_negatives_28: 651.0000 - false_positives_28: 450.0000 - false_negatives_28: 422.0000 - val_loss: 0.6689 - val_acc: 0.6830 - val_true_positives_28: 487.0000 - val_true_negatives_28: 989.0000 - val_false_positives_28: 112.0000 - val_false_negatives_28: 573.0000\n",
      "Epoch 3/15\n",
      "67/68 [============================>.] - ETA: 1s - loss: 0.6651 - acc: 0.6842 - true_positives_28: 551.0000 - true_negatives_28: 916.0000 - false_positives_28: 177.0000 - false_negatives_28: 500.0000\n",
      "Epoch 3: saving model to C:/Users/Shounen/Desktop/Ciclo XI/Tesis 2/GPUTesis/Archivos/Modelos\\clasificacion\\TesisDiego\\CLASE_TrainDS_12\\Model_clasificacion_clase_20220425_160157.hdf5\n",
      "68/68 [==============================] - 212s 3s/step - loss: 0.6651 - acc: 0.6835 - true_positives_28: 555.0000 - true_negatives_28: 922.0000 - false_positives_28: 179.0000 - false_negatives_28: 505.0000 - val_loss: 0.6545 - val_acc: 0.7075 - val_true_positives_28: 597.0000 - val_true_negatives_28: 932.0000 - val_false_positives_28: 169.0000 - val_false_negatives_28: 463.0000\n",
      "Epoch 4/15\n",
      "68/68 [==============================] - ETA: 0s - loss: 0.6450 - acc: 0.6969 - true_positives_28: 623.0000 - true_negatives_28: 883.0000 - false_positives_28: 218.0000 - false_negatives_28: 437.0000\n",
      "Epoch 4: saving model to C:/Users/Shounen/Desktop/Ciclo XI/Tesis 2/GPUTesis/Archivos/Modelos\\clasificacion\\TesisDiego\\CLASE_TrainDS_12\\Model_clasificacion_clase_20220425_160157.hdf5\n",
      "68/68 [==============================] - 186s 3s/step - loss: 0.6450 - acc: 0.6969 - true_positives_28: 623.0000 - true_negatives_28: 883.0000 - false_positives_28: 218.0000 - false_negatives_28: 437.0000 - val_loss: 0.6291 - val_acc: 0.7436 - val_true_positives_28: 771.0000 - val_true_negatives_28: 836.0000 - val_false_positives_28: 265.0000 - val_false_negatives_28: 289.0000\n",
      "Epoch 5/15\n",
      "68/68 [==============================] - ETA: 0s - loss: 0.6109 - acc: 0.7112 - true_positives_28: 637.0000 - true_negatives_28: 900.0000 - false_positives_28: 201.0000 - false_negatives_28: 423.0000\n",
      "Epoch 5: saving model to C:/Users/Shounen/Desktop/Ciclo XI/Tesis 2/GPUTesis/Archivos/Modelos\\clasificacion\\TesisDiego\\CLASE_TrainDS_12\\Model_clasificacion_clase_20220425_160157.hdf5\n",
      "68/68 [==============================] - 196s 3s/step - loss: 0.6109 - acc: 0.7112 - true_positives_28: 637.0000 - true_negatives_28: 900.0000 - false_positives_28: 201.0000 - false_negatives_28: 423.0000 - val_loss: 0.5886 - val_acc: 0.7173 - val_true_positives_28: 597.0000 - val_true_negatives_28: 953.0000 - val_false_positives_28: 148.0000 - val_false_negatives_28: 463.0000\n",
      "Epoch 6/15\n",
      "67/68 [============================>.] - ETA: 1s - loss: 0.5761 - acc: 0.7164 - true_positives_28: 662.0000 - true_negatives_28: 874.0000 - false_positives_28: 219.0000 - false_negatives_28: 389.0000\n",
      "Epoch 6: saving model to C:/Users/Shounen/Desktop/Ciclo XI/Tesis 2/GPUTesis/Archivos/Modelos\\clasificacion\\TesisDiego\\CLASE_TrainDS_12\\Model_clasificacion_clase_20220425_160157.hdf5\n",
      "68/68 [==============================] - 215s 3s/step - loss: 0.5763 - acc: 0.7154 - true_positives_28: 666.0000 - true_negatives_28: 880.0000 - false_positives_28: 221.0000 - false_negatives_28: 394.0000 - val_loss: 0.5545 - val_acc: 0.7191 - val_true_positives_28: 597.0000 - val_true_negatives_28: 957.0000 - val_false_positives_28: 144.0000 - val_false_negatives_28: 463.0000\n",
      "Epoch 7/15\n",
      "68/68 [==============================] - ETA: 0s - loss: 0.5454 - acc: 0.7399 - true_positives_28: 710.0000 - true_negatives_28: 889.0000 - false_positives_28: 212.0000 - false_negatives_28: 350.0000\n",
      "Epoch 7: saving model to C:/Users/Shounen/Desktop/Ciclo XI/Tesis 2/GPUTesis/Archivos/Modelos\\clasificacion\\TesisDiego\\CLASE_TrainDS_12\\Model_clasificacion_clase_20220425_160157.hdf5\n",
      "68/68 [==============================] - 215s 3s/step - loss: 0.5454 - acc: 0.7399 - true_positives_28: 710.0000 - true_negatives_28: 889.0000 - false_positives_28: 212.0000 - false_negatives_28: 350.0000 - val_loss: 0.5252 - val_acc: 0.7492 - val_true_positives_28: 771.0000 - val_true_negatives_28: 848.0000 - val_false_positives_28: 253.0000 - val_false_negatives_28: 289.0000\n",
      "Epoch 8/15\n",
      "68/68 [==============================] - ETA: 0s - loss: 0.5205 - acc: 0.7395 - true_positives_28: 729.0000 - true_negatives_28: 869.0000 - false_positives_28: 232.0000 - false_negatives_28: 331.0000\n",
      "Epoch 8: saving model to C:/Users/Shounen/Desktop/Ciclo XI/Tesis 2/GPUTesis/Archivos/Modelos\\clasificacion\\TesisDiego\\CLASE_TrainDS_12\\Model_clasificacion_clase_20220425_160157.hdf5\n",
      "68/68 [==============================] - 227s 3s/step - loss: 0.5205 - acc: 0.7395 - true_positives_28: 729.0000 - true_negatives_28: 869.0000 - false_positives_28: 232.0000 - false_negatives_28: 331.0000 - val_loss: 0.5059 - val_acc: 0.7497 - val_true_positives_28: 771.0000 - val_true_negatives_28: 849.0000 - val_false_positives_28: 252.0000 - val_false_negatives_28: 289.0000\n",
      "Epoch 9/15\n",
      "68/68 [==============================] - ETA: 0s - loss: 0.5038 - acc: 0.7492 - true_positives_28: 751.0000 - true_negatives_28: 868.0000 - false_positives_28: 233.0000 - false_negatives_28: 309.0000\n",
      "Epoch 9: saving model to C:/Users/Shounen/Desktop/Ciclo XI/Tesis 2/GPUTesis/Archivos/Modelos\\clasificacion\\TesisDiego\\CLASE_TrainDS_12\\Model_clasificacion_clase_20220425_160157.hdf5\n",
      "68/68 [==============================] - 306s 5s/step - loss: 0.5038 - acc: 0.7492 - true_positives_28: 751.0000 - true_negatives_28: 868.0000 - false_positives_28: 233.0000 - false_negatives_28: 309.0000 - val_loss: 0.4916 - val_acc: 0.7520 - val_true_positives_28: 771.0000 - val_true_negatives_28: 854.0000 - val_false_positives_28: 247.0000 - val_false_negatives_28: 289.0000\n",
      "Epoch 10/15\n",
      "68/68 [==============================] - ETA: 0s - loss: 0.4925 - acc: 0.7520 - true_positives_28: 771.0000 - true_negatives_28: 854.0000 - false_positives_28: 247.0000 - false_negatives_28: 289.0000\n",
      "Epoch 10: saving model to C:/Users/Shounen/Desktop/Ciclo XI/Tesis 2/GPUTesis/Archivos/Modelos\\clasificacion\\TesisDiego\\CLASE_TrainDS_12\\Model_clasificacion_clase_20220425_160157.hdf5\n",
      "68/68 [==============================] - 215s 3s/step - loss: 0.4925 - acc: 0.7520 - true_positives_28: 771.0000 - true_negatives_28: 854.0000 - false_positives_28: 247.0000 - false_negatives_28: 289.0000 - val_loss: 0.4834 - val_acc: 0.7566 - val_true_positives_28: 771.0000 - val_true_negatives_28: 864.0000 - val_false_positives_28: 237.0000 - val_false_negatives_28: 289.0000\n",
      "Epoch 11/15\n",
      "68/68 [==============================] - ETA: 0s - loss: 0.4856 - acc: 0.7552 - true_positives_28: 771.0000 - true_negatives_28: 861.0000 - false_positives_28: 240.0000 - false_negatives_28: 289.0000\n",
      "Epoch 11: saving model to C:/Users/Shounen/Desktop/Ciclo XI/Tesis 2/GPUTesis/Archivos/Modelos\\clasificacion\\TesisDiego\\CLASE_TrainDS_12\\Model_clasificacion_clase_20220425_160157.hdf5\n",
      "68/68 [==============================] - 215s 3s/step - loss: 0.4856 - acc: 0.7552 - true_positives_28: 771.0000 - true_negatives_28: 861.0000 - false_positives_28: 240.0000 - false_negatives_28: 289.0000 - val_loss: 0.4774 - val_acc: 0.7566 - val_true_positives_28: 771.0000 - val_true_negatives_28: 864.0000 - val_false_positives_28: 237.0000 - val_false_negatives_28: 289.0000\n"
     ]
    },
    {
     "name": "stdout",
     "output_type": "stream",
     "text": [
      "Epoch 12/15\n",
      "68/68 [==============================] - ETA: 0s - loss: 0.4809 - acc: 0.7566 - true_positives_28: 771.0000 - true_negatives_28: 864.0000 - false_positives_28: 237.0000 - false_negatives_28: 289.0000\n",
      "Epoch 12: saving model to C:/Users/Shounen/Desktop/Ciclo XI/Tesis 2/GPUTesis/Archivos/Modelos\\clasificacion\\TesisDiego\\CLASE_TrainDS_12\\Model_clasificacion_clase_20220425_160157.hdf5\n",
      "68/68 [==============================] - 215s 3s/step - loss: 0.4809 - acc: 0.7566 - true_positives_28: 771.0000 - true_negatives_28: 864.0000 - false_positives_28: 237.0000 - false_negatives_28: 289.0000 - val_loss: 0.4725 - val_acc: 0.7584 - val_true_positives_28: 771.0000 - val_true_negatives_28: 868.0000 - val_false_positives_28: 233.0000 - val_false_negatives_28: 289.0000\n",
      "Epoch 13/15\n",
      "68/68 [==============================] - ETA: 0s - loss: 0.4760 - acc: 0.7566 - true_positives_28: 771.0000 - true_negatives_28: 864.0000 - false_positives_28: 237.0000 - false_negatives_28: 289.0000\n",
      "Epoch 13: saving model to C:/Users/Shounen/Desktop/Ciclo XI/Tesis 2/GPUTesis/Archivos/Modelos\\clasificacion\\TesisDiego\\CLASE_TrainDS_12\\Model_clasificacion_clase_20220425_160157.hdf5\n",
      "68/68 [==============================] - 214s 3s/step - loss: 0.4760 - acc: 0.7566 - true_positives_28: 771.0000 - true_negatives_28: 864.0000 - false_positives_28: 237.0000 - false_negatives_28: 289.0000 - val_loss: 0.4689 - val_acc: 0.7584 - val_true_positives_28: 771.0000 - val_true_negatives_28: 868.0000 - val_false_positives_28: 233.0000 - val_false_negatives_28: 289.0000\n",
      "Epoch 14/15\n",
      "68/68 [==============================] - ETA: 0s - loss: 0.4729 - acc: 0.7571 - true_positives_28: 771.0000 - true_negatives_28: 865.0000 - false_positives_28: 236.0000 - false_negatives_28: 289.0000\n",
      "Epoch 14: saving model to C:/Users/Shounen/Desktop/Ciclo XI/Tesis 2/GPUTesis/Archivos/Modelos\\clasificacion\\TesisDiego\\CLASE_TrainDS_12\\Model_clasificacion_clase_20220425_160157.hdf5\n",
      "68/68 [==============================] - 211s 3s/step - loss: 0.4729 - acc: 0.7571 - true_positives_28: 771.0000 - true_negatives_28: 865.0000 - false_positives_28: 236.0000 - false_negatives_28: 289.0000 - val_loss: 0.4653 - val_acc: 0.7584 - val_true_positives_28: 771.0000 - val_true_negatives_28: 868.0000 - val_false_positives_28: 233.0000 - val_false_negatives_28: 289.0000\n",
      "Epoch 15/15\n",
      "68/68 [==============================] - ETA: 0s - loss: 0.4680 - acc: 0.7575 - true_positives_28: 771.0000 - true_negatives_28: 866.0000 - false_positives_28: 235.0000 - false_negatives_28: 289.0000\n",
      "Epoch 15: saving model to C:/Users/Shounen/Desktop/Ciclo XI/Tesis 2/GPUTesis/Archivos/Modelos\\clasificacion\\TesisDiego\\CLASE_TrainDS_12\\Model_clasificacion_clase_20220425_160157.hdf5\n",
      "68/68 [==============================] - 303s 4s/step - loss: 0.4680 - acc: 0.7575 - true_positives_28: 771.0000 - true_negatives_28: 866.0000 - false_positives_28: 235.0000 - false_negatives_28: 289.0000 - val_loss: 0.4599 - val_acc: 0.7594 - val_true_positives_28: 771.0000 - val_true_negatives_28: 870.0000 - val_false_positives_28: 231.0000 - val_false_negatives_28: 289.0000\n",
      "\n"
     ]
    },
    {
     "data": {
      "text/html": [
       "Waiting for W&B process to finish... <strong style=\"color:green\">(success).</strong>"
      ],
      "text/plain": [
       "<IPython.core.display.HTML object>"
      ]
     },
     "metadata": {},
     "output_type": "display_data"
    },
    {
     "data": {
      "application/vnd.jupyter.widget-view+json": {
       "model_id": "",
       "version_major": 2,
       "version_minor": 0
      },
      "text/plain": [
       "VBox(children=(Label(value='0.009 MB of 0.009 MB uploaded (0.000 MB deduped)\\r'), FloatProgress(value=0.986779…"
      ]
     },
     "metadata": {},
     "output_type": "display_data"
    },
    {
     "data": {
      "text/html": [
       "<style>\n",
       "    table.wandb td:nth-child(1) { padding: 0 10px; text-align: right }\n",
       "    .wandb-row { display: flex; flex-direction: row; flex-wrap: wrap; width: 100% }\n",
       "    .wandb-col { display: flex; flex-direction: column; flex-basis: 100%; flex: 1; padding: 10px; }\n",
       "    </style>\n",
       "<div class=\"wandb-row\"><div class=\"wandb-col\"><h3>Run history:</h3><br/><table class=\"wandb\"><tr><td>acc</td><td>▁▃▆▆▇▇▇▇███████</td></tr><tr><td>loss</td><td>██▇▇▆▄▃▃▂▂▂▁▁▁▁</td></tr><tr><td>val_FN</td><td>▅█▅▁▅▅▁▁▁▁▁▁▁▁▁</td></tr><tr><td>val_FP</td><td>▂▁▄█▃▂▇▇▇▇▇▇▇▇▆</td></tr><tr><td>val_TN</td><td>▇█▅▁▆▇▂▂▂▂▂▂▂▂▃</td></tr><tr><td>val_TP</td><td>▄▁▄█▄▄█████████</td></tr><tr><td>val_acc</td><td>▅▁▃▇▄▄▇▇▇██████</td></tr><tr><td>val_loss</td><td>██▇▆▅▄▃▂▂▂▂▁▁▁▁</td></tr></table><br/></div><div class=\"wandb-col\"><h3>Run summary:</h3><br/><table class=\"wandb\"><tr><td>acc</td><td>0.75752</td></tr><tr><td>loss</td><td>0.46804</td></tr><tr><td>val_FN</td><td>289</td></tr><tr><td>val_FP</td><td>231</td></tr><tr><td>val_TN</td><td>870</td></tr><tr><td>val_TP</td><td>771</td></tr><tr><td>val_acc</td><td>0.75937</td></tr><tr><td>val_loss</td><td>0.45995</td></tr></table><br/></div></div>"
      ],
      "text/plain": [
       "<IPython.core.display.HTML object>"
      ]
     },
     "metadata": {},
     "output_type": "display_data"
    },
    {
     "data": {
      "text/html": [
       "Synced <strong style=\"color:#cdcd00\">Ex_CLASE_TrainDS_12_(3-6-30)_20220425_160157</strong>: <a href=\"https://wandb.ai/tesis2/TesisDiego-%28clasificacion-clase-2%29/runs/3kctjj9u\" target=\"_blank\">https://wandb.ai/tesis2/TesisDiego-%28clasificacion-clase-2%29/runs/3kctjj9u</a><br/>Synced 6 W&B file(s), 15 media file(s), 12 artifact file(s) and 0 other file(s)"
      ],
      "text/plain": [
       "<IPython.core.display.HTML object>"
      ]
     },
     "metadata": {},
     "output_type": "display_data"
    },
    {
     "data": {
      "text/html": [
       "Find logs at: <code>.\\wandb\\run-20220425_160157-3kctjj9u\\logs</code>"
      ],
      "text/plain": [
       "<IPython.core.display.HTML object>"
      ]
     },
     "metadata": {},
     "output_type": "display_data"
    },
    {
     "name": "stdout",
     "output_type": "stream",
     "text": [
      "--------------------------------------------------\n",
      "Inicio de la prueba N°: 2/6\n",
      "Dataset: C:/Users/Shounen/Desktop/Ciclo XI/Tesis 2/GPUTesis/Archivos/Dataset/SplittedV2/CLASE_TrainDS_12\n",
      "- Batch size:  32\n",
      "Creando modelo con input (30,30,2)) de tipo (clasificacion)\n",
      "Tamaño del dataset: Train 2161  - Val 541\n"
     ]
    },
    {
     "data": {
      "text/html": [
       "wandb version 0.12.15 is available!  To upgrade, please run:\n",
       " $ pip install wandb --upgrade"
      ],
      "text/plain": [
       "<IPython.core.display.HTML object>"
      ]
     },
     "metadata": {},
     "output_type": "display_data"
    },
    {
     "data": {
      "text/html": [
       "Tracking run with wandb version 0.12.11"
      ],
      "text/plain": [
       "<IPython.core.display.HTML object>"
      ]
     },
     "metadata": {},
     "output_type": "display_data"
    },
    {
     "data": {
      "text/html": [
       "Run data is saved locally in <code>C:\\Users\\Shounen\\Desktop\\Ciclo XI\\Tesis 2\\GPUTesis\\Codigo\\Entrenamiento\\Jupyter\\wandb\\run-20220425_165815-1drw857u</code>"
      ],
      "text/plain": [
       "<IPython.core.display.HTML object>"
      ]
     },
     "metadata": {},
     "output_type": "display_data"
    },
    {
     "data": {
      "text/html": [
       "Syncing run <strong><a href=\"https://wandb.ai/tesis2/TesisDiego-%28clasificacion-clase-2%29/runs/1drw857u\" target=\"_blank\">Ex_CLASE_TrainDS_12_(2-6-30)_20220425_165815</a></strong> to <a href=\"https://wandb.ai/tesis2/TesisDiego-%28clasificacion-clase-2%29\" target=\"_blank\">Weights & Biases</a> (<a href=\"https://wandb.me/run\" target=\"_blank\">docs</a>)<br/>"
      ],
      "text/plain": [
       "<IPython.core.display.HTML object>"
      ]
     },
     "metadata": {},
     "output_type": "display_data"
    },
    {
     "name": "stdout",
     "output_type": "stream",
     "text": [
      "Epoch 1/15\n",
      "68/68 [==============================] - ETA: 0s - loss: 0.6785 - acc: 0.5664 - true_positives_29: 645.0000 - true_negatives_29: 579.0000 - false_positives_29: 508.0000 - false_negatives_29: 429.0000\n",
      "Epoch 1: saving model to C:/Users/Shounen/Desktop/Ciclo XI/Tesis 2/GPUTesis/Archivos/Modelos\\clasificacion\\TesisDiego\\CLASE_TrainDS_12\\Model_clasificacion_clase_20220425_165815.hdf5\n",
      "68/68 [==============================] - 333s 5s/step - loss: 0.6785 - acc: 0.5664 - true_positives_29: 645.0000 - true_negatives_29: 579.0000 - false_positives_29: 508.0000 - false_negatives_29: 429.0000 - val_loss: 0.6736 - val_acc: 0.5312 - val_true_positives_29: 1074.0000 - val_true_negatives_29: 74.0000 - val_false_positives_29: 1013.0000 - val_false_negatives_29: 0.0000e+00\n",
      "Epoch 2/15\n",
      "68/68 [==============================] - ETA: 0s - loss: 0.6637 - acc: 0.6483 - true_positives_29: 747.0000 - true_negatives_29: 654.0000 - false_positives_29: 433.0000 - false_negatives_29: 327.0000\n",
      "Epoch 2: saving model to C:/Users/Shounen/Desktop/Ciclo XI/Tesis 2/GPUTesis/Archivos/Modelos\\clasificacion\\TesisDiego\\CLASE_TrainDS_12\\Model_clasificacion_clase_20220425_165815.hdf5\n",
      "68/68 [==============================] - 226s 3s/step - loss: 0.6637 - acc: 0.6483 - true_positives_29: 747.0000 - true_negatives_29: 654.0000 - false_positives_29: 433.0000 - false_negatives_29: 327.0000 - val_loss: 0.6521 - val_acc: 0.5331 - val_true_positives_29: 1074.0000 - val_true_negatives_29: 78.0000 - val_false_positives_29: 1009.0000 - val_false_negatives_29: 0.0000e+00\n",
      "Epoch 3/15\n",
      "67/68 [============================>.] - ETA: 1s - loss: 0.6359 - acc: 0.6940 - true_positives_29: 677.0000 - true_negatives_29: 811.0000 - false_positives_29: 269.0000 - false_negatives_29: 387.0000\n",
      "Epoch 3: saving model to C:/Users/Shounen/Desktop/Ciclo XI/Tesis 2/GPUTesis/Archivos/Modelos\\clasificacion\\TesisDiego\\CLASE_TrainDS_12\\Model_clasificacion_clase_20220425_165815.hdf5\n",
      "68/68 [==============================] - 225s 3s/step - loss: 0.6358 - acc: 0.6950 - true_positives_29: 687.0000 - true_negatives_29: 815.0000 - false_positives_29: 272.0000 - false_negatives_29: 387.0000 - val_loss: 0.6180 - val_acc: 0.7580 - val_true_positives_29: 1074.0000 - val_true_negatives_29: 564.0000 - val_false_positives_29: 523.0000 - val_false_negatives_29: 0.0000e+00\n",
      "Epoch 4/15\n",
      "68/68 [==============================] - ETA: 0s - loss: 0.5937 - acc: 0.7311 - true_positives_29: 700.0000 - true_negatives_29: 880.0000 - false_positives_29: 207.0000 - false_negatives_29: 374.0000\n",
      "Epoch 4: saving model to C:/Users/Shounen/Desktop/Ciclo XI/Tesis 2/GPUTesis/Archivos/Modelos\\clasificacion\\TesisDiego\\CLASE_TrainDS_12\\Model_clasificacion_clase_20220425_165815.hdf5\n",
      "68/68 [==============================] - 223s 3s/step - loss: 0.5937 - acc: 0.7311 - true_positives_29: 700.0000 - true_negatives_29: 880.0000 - false_positives_29: 207.0000 - false_negatives_29: 374.0000 - val_loss: 0.5732 - val_acc: 0.7501 - val_true_positives_29: 778.0000 - val_true_negatives_29: 843.0000 - val_false_positives_29: 244.0000 - val_false_negatives_29: 296.0000\n",
      "Epoch 5/15\n",
      "68/68 [==============================] - ETA: 0s - loss: 0.5563 - acc: 0.7436 - true_positives_29: 718.0000 - true_negatives_29: 889.0000 - false_positives_29: 198.0000 - false_negatives_29: 356.0000\n",
      "Epoch 5: saving model to C:/Users/Shounen/Desktop/Ciclo XI/Tesis 2/GPUTesis/Archivos/Modelos\\clasificacion\\TesisDiego\\CLASE_TrainDS_12\\Model_clasificacion_clase_20220425_165815.hdf5\n",
      "68/68 [==============================] - 245s 4s/step - loss: 0.5563 - acc: 0.7436 - true_positives_29: 718.0000 - true_negatives_29: 889.0000 - false_positives_29: 198.0000 - false_negatives_29: 356.0000 - val_loss: 0.5357 - val_acc: 0.7506 - val_true_positives_29: 778.0000 - val_true_negatives_29: 844.0000 - val_false_positives_29: 243.0000 - val_false_negatives_29: 296.0000\n",
      "Epoch 6/15\n",
      "68/68 [==============================] - ETA: 0s - loss: 0.5275 - acc: 0.7441 - true_positives_29: 724.0000 - true_negatives_29: 884.0000 - false_positives_29: 203.0000 - false_negatives_29: 350.0000\n",
      "Epoch 6: saving model to C:/Users/Shounen/Desktop/Ciclo XI/Tesis 2/GPUTesis/Archivos/Modelos\\clasificacion\\TesisDiego\\CLASE_TrainDS_12\\Model_clasificacion_clase_20220425_165815.hdf5\n",
      "68/68 [==============================] - 327s 5s/step - loss: 0.5275 - acc: 0.7441 - true_positives_29: 724.0000 - true_negatives_29: 884.0000 - false_positives_29: 203.0000 - false_negatives_29: 350.0000 - val_loss: 0.5158 - val_acc: 0.7561 - val_true_positives_29: 778.0000 - val_true_negatives_29: 856.0000 - val_false_positives_29: 231.0000 - val_false_negatives_29: 296.0000\n",
      "Epoch 7/15\n",
      "68/68 [==============================] - ETA: 0s - loss: 0.5065 - acc: 0.7473 - true_positives_29: 737.0000 - true_negatives_29: 878.0000 - false_positives_29: 209.0000 - false_negatives_29: 337.0000\n",
      "Epoch 7: saving model to C:/Users/Shounen/Desktop/Ciclo XI/Tesis 2/GPUTesis/Archivos/Modelos\\clasificacion\\TesisDiego\\CLASE_TrainDS_12\\Model_clasificacion_clase_20220425_165815.hdf5\n",
      "68/68 [==============================] - 340s 5s/step - loss: 0.5065 - acc: 0.7473 - true_positives_29: 737.0000 - true_negatives_29: 878.0000 - false_positives_29: 209.0000 - false_negatives_29: 337.0000 - val_loss: 0.4958 - val_acc: 0.7520 - val_true_positives_29: 778.0000 - val_true_negatives_29: 847.0000 - val_false_positives_29: 240.0000 - val_false_negatives_29: 296.0000\n",
      "Epoch 8/15\n",
      "68/68 [==============================] - ETA: 0s - loss: 0.4934 - acc: 0.7557 - true_positives_29: 768.0000 - true_negatives_29: 865.0000 - false_positives_29: 222.0000 - false_negatives_29: 306.0000\n",
      "Epoch 8: saving model to C:/Users/Shounen/Desktop/Ciclo XI/Tesis 2/GPUTesis/Archivos/Modelos\\clasificacion\\TesisDiego\\CLASE_TrainDS_12\\Model_clasificacion_clase_20220425_165815.hdf5\n",
      "68/68 [==============================] - 338s 5s/step - loss: 0.4934 - acc: 0.7557 - true_positives_29: 768.0000 - true_negatives_29: 865.0000 - false_positives_29: 222.0000 - false_negatives_29: 306.0000 - val_loss: 0.4845 - val_acc: 0.7561 - val_true_positives_29: 778.0000 - val_true_negatives_29: 856.0000 - val_false_positives_29: 231.0000 - val_false_negatives_29: 296.0000\n",
      "Epoch 9/15\n",
      "68/68 [==============================] - ETA: 0s - loss: 0.4834 - acc: 0.7566 - true_positives_29: 778.0000 - true_negatives_29: 857.0000 - false_positives_29: 230.0000 - false_negatives_29: 296.0000\n",
      "Epoch 9: saving model to C:/Users/Shounen/Desktop/Ciclo XI/Tesis 2/GPUTesis/Archivos/Modelos\\clasificacion\\TesisDiego\\CLASE_TrainDS_12\\Model_clasificacion_clase_20220425_165815.hdf5\n",
      "68/68 [==============================] - 267s 4s/step - loss: 0.4834 - acc: 0.7566 - true_positives_29: 778.0000 - true_negatives_29: 857.0000 - false_positives_29: 230.0000 - false_negatives_29: 296.0000 - val_loss: 0.4767 - val_acc: 0.7575 - val_true_positives_29: 778.0000 - val_true_negatives_29: 859.0000 - val_false_positives_29: 228.0000 - val_false_negatives_29: 296.0000\n",
      "Epoch 10/15\n",
      "68/68 [==============================] - ETA: 0s - loss: 0.4764 - acc: 0.7571 - true_positives_29: 778.0000 - true_negatives_29: 858.0000 - false_positives_29: 229.0000 - false_negatives_29: 296.0000\n",
      "Epoch 10: saving model to C:/Users/Shounen/Desktop/Ciclo XI/Tesis 2/GPUTesis/Archivos/Modelos\\clasificacion\\TesisDiego\\CLASE_TrainDS_12\\Model_clasificacion_clase_20220425_165815.hdf5\n",
      "68/68 [==============================] - 212s 3s/step - loss: 0.4764 - acc: 0.7571 - true_positives_29: 778.0000 - true_negatives_29: 858.0000 - false_positives_29: 229.0000 - false_negatives_29: 296.0000 - val_loss: 0.4713 - val_acc: 0.7575 - val_true_positives_29: 778.0000 - val_true_negatives_29: 859.0000 - val_false_positives_29: 228.0000 - val_false_negatives_29: 296.0000\n",
      "\n"
     ]
    },
    {
     "data": {
      "text/html": [
       "Waiting for W&B process to finish... <strong style=\"color:green\">(success).</strong>"
      ],
      "text/plain": [
       "<IPython.core.display.HTML object>"
      ]
     },
     "metadata": {},
     "output_type": "display_data"
    },
    {
     "data": {
      "application/vnd.jupyter.widget-view+json": {
       "model_id": "",
       "version_major": 2,
       "version_minor": 0
      },
      "text/plain": [
       "VBox(children=(Label(value='0.006 MB of 0.006 MB uploaded (0.000 MB deduped)\\r'), FloatProgress(value=1.0, max…"
      ]
     },
     "metadata": {},
     "output_type": "display_data"
    },
    {
     "data": {
      "text/html": [
       "<style>\n",
       "    table.wandb td:nth-child(1) { padding: 0 10px; text-align: right }\n",
       "    .wandb-row { display: flex; flex-direction: row; flex-wrap: wrap; width: 100% }\n",
       "    .wandb-col { display: flex; flex-direction: column; flex-basis: 100%; flex: 1; padding: 10px; }\n",
       "    </style>\n",
       "<div class=\"wandb-row\"><div class=\"wandb-col\"><h3>Run history:</h3><br/><table class=\"wandb\"><tr><td>acc</td><td>▁▄▆▇██████</td></tr><tr><td>loss</td><td>█▇▇▅▄▃▂▂▁▁</td></tr><tr><td>val_FN</td><td>▁▁▁███████</td></tr><tr><td>val_FP</td><td>██▄▁▁▁▁▁▁▁</td></tr><tr><td>val_TN</td><td>▁▁▅███████</td></tr><tr><td>val_TP</td><td>███▁▁▁▁▁▁▁</td></tr><tr><td>val_acc</td><td>▁▁████████</td></tr><tr><td>val_loss</td><td>█▇▆▅▃▃▂▁▁▁</td></tr></table><br/></div><div class=\"wandb-col\"><h3>Run summary:</h3><br/><table class=\"wandb\"><tr><td>acc</td><td>0.75706</td></tr><tr><td>loss</td><td>0.47644</td></tr><tr><td>val_FN</td><td>296</td></tr><tr><td>val_FP</td><td>228</td></tr><tr><td>val_TN</td><td>859</td></tr><tr><td>val_TP</td><td>778</td></tr><tr><td>val_acc</td><td>0.75752</td></tr><tr><td>val_loss</td><td>0.47129</td></tr></table><br/></div></div>"
      ],
      "text/plain": [
       "<IPython.core.display.HTML object>"
      ]
     },
     "metadata": {},
     "output_type": "display_data"
    },
    {
     "data": {
      "text/html": [
       "Synced <strong style=\"color:#cdcd00\">Ex_CLASE_TrainDS_12_(2-6-30)_20220425_165815</strong>: <a href=\"https://wandb.ai/tesis2/TesisDiego-%28clasificacion-clase-2%29/runs/1drw857u\" target=\"_blank\">https://wandb.ai/tesis2/TesisDiego-%28clasificacion-clase-2%29/runs/1drw857u</a><br/>Synced 6 W&B file(s), 10 media file(s), 8 artifact file(s) and 0 other file(s)"
      ],
      "text/plain": [
       "<IPython.core.display.HTML object>"
      ]
     },
     "metadata": {},
     "output_type": "display_data"
    },
    {
     "data": {
      "text/html": [
       "Find logs at: <code>.\\wandb\\run-20220425_165815-1drw857u\\logs</code>"
      ],
      "text/plain": [
       "<IPython.core.display.HTML object>"
      ]
     },
     "metadata": {},
     "output_type": "display_data"
    },
    {
     "name": "stdout",
     "output_type": "stream",
     "text": [
      "--------------------------------------------------\n",
      "Inicio de la prueba N°: 3/6\n",
      "Dataset: C:/Users/Shounen/Desktop/Ciclo XI/Tesis 2/GPUTesis/Archivos/Dataset/SplittedV2/CLASE_TrainDS_12\n",
      "- Batch size:  32\n",
      "Creando modelo con input (30,30,3)) de tipo (clasificacion)\n",
      "Tamaño del dataset: Train 2161  - Val 541\n"
     ]
    },
    {
     "data": {
      "text/html": [
       "wandb version 0.12.15 is available!  To upgrade, please run:\n",
       " $ pip install wandb --upgrade"
      ],
      "text/plain": [
       "<IPython.core.display.HTML object>"
      ]
     },
     "metadata": {},
     "output_type": "display_data"
    },
    {
     "data": {
      "text/html": [
       "Tracking run with wandb version 0.12.11"
      ],
      "text/plain": [
       "<IPython.core.display.HTML object>"
      ]
     },
     "metadata": {},
     "output_type": "display_data"
    },
    {
     "data": {
      "text/html": [
       "Run data is saved locally in <code>C:\\Users\\Shounen\\Desktop\\Ciclo XI\\Tesis 2\\GPUTesis\\Codigo\\Entrenamiento\\Jupyter\\wandb\\run-20220425_174404-e9ap80zr</code>"
      ],
      "text/plain": [
       "<IPython.core.display.HTML object>"
      ]
     },
     "metadata": {},
     "output_type": "display_data"
    },
    {
     "data": {
      "text/html": [
       "Syncing run <strong><a href=\"https://wandb.ai/tesis2/TesisDiego-%28clasificacion-clase-2%29/runs/e9ap80zr\" target=\"_blank\">Ex_CLASE_TrainDS_12_(3-1-30)_20220425_174404</a></strong> to <a href=\"https://wandb.ai/tesis2/TesisDiego-%28clasificacion-clase-2%29\" target=\"_blank\">Weights & Biases</a> (<a href=\"https://wandb.me/run\" target=\"_blank\">docs</a>)<br/>"
      ],
      "text/plain": [
       "<IPython.core.display.HTML object>"
      ]
     },
     "metadata": {},
     "output_type": "display_data"
    },
    {
     "name": "stdout",
     "output_type": "stream",
     "text": [
      "Epoch 1/15\n",
      "68/68 [==============================] - ETA: 0s - loss: 0.6853 - acc: 0.5794 - true_positives_30: 830.0000 - true_negatives_30: 422.0000 - false_positives_30: 654.0000 - false_negatives_30: 255.0000\n",
      "Epoch 1: saving model to C:/Users/Shounen/Desktop/Ciclo XI/Tesis 2/GPUTesis/Archivos/Modelos\\clasificacion\\TesisDiego\\CLASE_TrainDS_12\\Model_clasificacion_clase_20220425_174404.hdf5\n",
      "68/68 [==============================] - 40s 579ms/step - loss: 0.6853 - acc: 0.5794 - true_positives_30: 830.0000 - true_negatives_30: 422.0000 - false_positives_30: 654.0000 - false_negatives_30: 255.0000 - val_loss: 0.6774 - val_acc: 0.5275 - val_true_positives_30: 80.0000 - val_true_negatives_30: 1060.0000 - val_false_positives_30: 16.0000 - val_false_negatives_30: 1005.0000\n",
      "Epoch 2/15\n",
      "68/68 [==============================] - ETA: 0s - loss: 0.6743 - acc: 0.6289 - true_positives_30: 713.0000 - true_negatives_30: 646.0000 - false_positives_30: 430.0000 - false_negatives_30: 372.0000\n",
      "Epoch 2: saving model to C:/Users/Shounen/Desktop/Ciclo XI/Tesis 2/GPUTesis/Archivos/Modelos\\clasificacion\\TesisDiego\\CLASE_TrainDS_12\\Model_clasificacion_clase_20220425_174404.hdf5\n",
      "68/68 [==============================] - 37s 548ms/step - loss: 0.6743 - acc: 0.6289 - true_positives_30: 713.0000 - true_negatives_30: 646.0000 - false_positives_30: 430.0000 - false_negatives_30: 372.0000 - val_loss: 0.6659 - val_acc: 0.6747 - val_true_positives_30: 485.0000 - val_true_negatives_30: 973.0000 - val_false_positives_30: 103.0000 - val_false_negatives_30: 600.0000\n",
      "Epoch 3/15\n",
      "68/68 [==============================] - ETA: 0s - loss: 0.6611 - acc: 0.6710 - true_positives_30: 700.0000 - true_negatives_30: 750.0000 - false_positives_30: 326.0000 - false_negatives_30: 385.0000\n",
      "Epoch 3: saving model to C:/Users/Shounen/Desktop/Ciclo XI/Tesis 2/GPUTesis/Archivos/Modelos\\clasificacion\\TesisDiego\\CLASE_TrainDS_12\\Model_clasificacion_clase_20220425_174404.hdf5\n",
      "68/68 [==============================] - 36s 538ms/step - loss: 0.6611 - acc: 0.6710 - true_positives_30: 700.0000 - true_negatives_30: 750.0000 - false_positives_30: 326.0000 - false_negatives_30: 385.0000 - val_loss: 0.6483 - val_acc: 0.6761 - val_true_positives_30: 491.0000 - val_true_negatives_30: 970.0000 - val_false_positives_30: 106.0000 - val_false_negatives_30: 594.0000\n",
      "Epoch 4/15\n",
      "68/68 [==============================] - ETA: 0s - loss: 0.6401 - acc: 0.7062 - true_positives_30: 714.0000 - true_negatives_30: 812.0000 - false_positives_30: 264.0000 - false_negatives_30: 371.0000\n",
      "Epoch 4: saving model to C:/Users/Shounen/Desktop/Ciclo XI/Tesis 2/GPUTesis/Archivos/Modelos\\clasificacion\\TesisDiego\\CLASE_TrainDS_12\\Model_clasificacion_clase_20220425_174404.hdf5\n",
      "68/68 [==============================] - 38s 560ms/step - loss: 0.6401 - acc: 0.7062 - true_positives_30: 714.0000 - true_negatives_30: 812.0000 - false_positives_30: 264.0000 - false_negatives_30: 371.0000 - val_loss: 0.6234 - val_acc: 0.7136 - val_true_positives_30: 595.0000 - val_true_negatives_30: 947.0000 - val_false_positives_30: 129.0000 - val_false_negatives_30: 490.0000\n",
      "Epoch 5/15\n",
      "68/68 [==============================] - ETA: 0s - loss: 0.6121 - acc: 0.7085 - true_positives_30: 691.0000 - true_negatives_30: 840.0000 - false_positives_30: 236.0000 - false_negatives_30: 394.0000\n",
      "Epoch 5: saving model to C:/Users/Shounen/Desktop/Ciclo XI/Tesis 2/GPUTesis/Archivos/Modelos\\clasificacion\\TesisDiego\\CLASE_TrainDS_12\\Model_clasificacion_clase_20220425_174404.hdf5\n",
      "68/68 [==============================] - 36s 532ms/step - loss: 0.6121 - acc: 0.7085 - true_positives_30: 691.0000 - true_negatives_30: 840.0000 - false_positives_30: 236.0000 - false_negatives_30: 394.0000 - val_loss: 0.5961 - val_acc: 0.7182 - val_true_positives_30: 591.0000 - val_true_negatives_30: 961.0000 - val_false_positives_30: 115.0000 - val_false_negatives_30: 494.0000\n",
      "Epoch 6/15\n",
      "68/68 [==============================] - ETA: 0s - loss: 0.5809 - acc: 0.7251 - true_positives_30: 686.0000 - true_negatives_30: 881.0000 - false_positives_30: 195.0000 - false_negatives_30: 399.0000\n",
      "Epoch 6: saving model to C:/Users/Shounen/Desktop/Ciclo XI/Tesis 2/GPUTesis/Archivos/Modelos\\clasificacion\\TesisDiego\\CLASE_TrainDS_12\\Model_clasificacion_clase_20220425_174404.hdf5\n",
      "68/68 [==============================] - 38s 562ms/step - loss: 0.5809 - acc: 0.7251 - true_positives_30: 686.0000 - true_negatives_30: 881.0000 - false_positives_30: 195.0000 - false_negatives_30: 399.0000 - val_loss: 0.5673 - val_acc: 0.7561 - val_true_positives_30: 777.0000 - val_true_negatives_30: 857.0000 - val_false_positives_30: 219.0000 - val_false_negatives_30: 308.0000\n",
      "Epoch 7/15\n",
      "68/68 [==============================] - ETA: 0s - loss: 0.5572 - acc: 0.7311 - true_positives_30: 719.0000 - true_negatives_30: 861.0000 - false_positives_30: 215.0000 - false_negatives_30: 366.0000\n",
      "Epoch 7: saving model to C:/Users/Shounen/Desktop/Ciclo XI/Tesis 2/GPUTesis/Archivos/Modelos\\clasificacion\\TesisDiego\\CLASE_TrainDS_12\\Model_clasificacion_clase_20220425_174404.hdf5\n",
      "68/68 [==============================] - 44s 652ms/step - loss: 0.5572 - acc: 0.7311 - true_positives_30: 719.0000 - true_negatives_30: 861.0000 - false_positives_30: 215.0000 - false_negatives_30: 366.0000 - val_loss: 0.5456 - val_acc: 0.7200 - val_true_positives_30: 595.0000 - val_true_negatives_30: 961.0000 - val_false_positives_30: 115.0000 - val_false_negatives_30: 490.0000\n",
      "Epoch 8/15\n",
      "68/68 [==============================] - ETA: 0s - loss: 0.5323 - acc: 0.7409 - true_positives_30: 722.0000 - true_negatives_30: 879.0000 - false_positives_30: 197.0000 - false_negatives_30: 363.0000\n",
      "Epoch 8: saving model to C:/Users/Shounen/Desktop/Ciclo XI/Tesis 2/GPUTesis/Archivos/Modelos\\clasificacion\\TesisDiego\\CLASE_TrainDS_12\\Model_clasificacion_clase_20220425_174404.hdf5\n",
      "68/68 [==============================] - 36s 533ms/step - loss: 0.5323 - acc: 0.7409 - true_positives_30: 722.0000 - true_negatives_30: 879.0000 - false_positives_30: 197.0000 - false_negatives_30: 363.0000 - val_loss: 0.5273 - val_acc: 0.7584 - val_true_positives_30: 777.0000 - val_true_negatives_30: 862.0000 - val_false_positives_30: 214.0000 - val_false_negatives_30: 308.0000\n",
      "Epoch 9/15\n",
      "68/68 [==============================] - ETA: 0s - loss: 0.5147 - acc: 0.7473 - true_positives_30: 744.0000 - true_negatives_30: 871.0000 - false_positives_30: 205.0000 - false_negatives_30: 341.0000\n",
      "Epoch 9: saving model to C:/Users/Shounen/Desktop/Ciclo XI/Tesis 2/GPUTesis/Archivos/Modelos\\clasificacion\\TesisDiego\\CLASE_TrainDS_12\\Model_clasificacion_clase_20220425_174404.hdf5\n",
      "68/68 [==============================] - 38s 561ms/step - loss: 0.5147 - acc: 0.7473 - true_positives_30: 744.0000 - true_negatives_30: 871.0000 - false_positives_30: 205.0000 - false_negatives_30: 341.0000 - val_loss: 0.5102 - val_acc: 0.7584 - val_true_positives_30: 777.0000 - val_true_negatives_30: 862.0000 - val_false_positives_30: 214.0000 - val_false_negatives_30: 308.0000\n",
      "Epoch 10/15\n",
      "68/68 [==============================] - ETA: 0s - loss: 0.5007 - acc: 0.7515 - true_positives_30: 764.0000 - true_negatives_30: 860.0000 - false_positives_30: 216.0000 - false_negatives_30: 321.0000\n",
      "Epoch 10: saving model to C:/Users/Shounen/Desktop/Ciclo XI/Tesis 2/GPUTesis/Archivos/Modelos\\clasificacion\\TesisDiego\\CLASE_TrainDS_12\\Model_clasificacion_clase_20220425_174404.hdf5\n",
      "68/68 [==============================] - 39s 574ms/step - loss: 0.5007 - acc: 0.7515 - true_positives_30: 764.0000 - true_negatives_30: 860.0000 - false_positives_30: 216.0000 - false_negatives_30: 321.0000 - val_loss: 0.4985 - val_acc: 0.7584 - val_true_positives_30: 777.0000 - val_true_negatives_30: 862.0000 - val_false_positives_30: 214.0000 - val_false_negatives_30: 308.0000\n",
      "Epoch 11/15\n",
      "68/68 [==============================] - ETA: 0s - loss: 0.4907 - acc: 0.7552 - true_positives_30: 777.0000 - true_negatives_30: 855.0000 - false_positives_30: 221.0000 - false_negatives_30: 308.0000\n",
      "Epoch 11: saving model to C:/Users/Shounen/Desktop/Ciclo XI/Tesis 2/GPUTesis/Archivos/Modelos\\clasificacion\\TesisDiego\\CLASE_TrainDS_12\\Model_clasificacion_clase_20220425_174404.hdf5\n",
      "68/68 [==============================] - 37s 551ms/step - loss: 0.4907 - acc: 0.7552 - true_positives_30: 777.0000 - true_negatives_30: 855.0000 - false_positives_30: 221.0000 - false_negatives_30: 308.0000 - val_loss: 0.4898 - val_acc: 0.7584 - val_true_positives_30: 777.0000 - val_true_negatives_30: 862.0000 - val_false_positives_30: 214.0000 - val_false_negatives_30: 308.0000\n"
     ]
    },
    {
     "name": "stdout",
     "output_type": "stream",
     "text": [
      "Epoch 12/15\n",
      "68/68 [==============================] - ETA: 0s - loss: 0.4835 - acc: 0.7561 - true_positives_30: 777.0000 - true_negatives_30: 857.0000 - false_positives_30: 219.0000 - false_negatives_30: 308.0000\n",
      "Epoch 12: saving model to C:/Users/Shounen/Desktop/Ciclo XI/Tesis 2/GPUTesis/Archivos/Modelos\\clasificacion\\TesisDiego\\CLASE_TrainDS_12\\Model_clasificacion_clase_20220425_174404.hdf5\n",
      "68/68 [==============================] - 38s 556ms/step - loss: 0.4835 - acc: 0.7561 - true_positives_30: 777.0000 - true_negatives_30: 857.0000 - false_positives_30: 219.0000 - false_negatives_30: 308.0000 - val_loss: 0.4829 - val_acc: 0.7584 - val_true_positives_30: 777.0000 - val_true_negatives_30: 862.0000 - val_false_positives_30: 214.0000 - val_false_negatives_30: 308.0000\n",
      "Epoch 13/15\n",
      "68/68 [==============================] - ETA: 0s - loss: 0.4786 - acc: 0.7561 - true_positives_30: 777.0000 - true_negatives_30: 857.0000 - false_positives_30: 219.0000 - false_negatives_30: 308.0000\n",
      "Epoch 13: saving model to C:/Users/Shounen/Desktop/Ciclo XI/Tesis 2/GPUTesis/Archivos/Modelos\\clasificacion\\TesisDiego\\CLASE_TrainDS_12\\Model_clasificacion_clase_20220425_174404.hdf5\n",
      "68/68 [==============================] - 38s 565ms/step - loss: 0.4786 - acc: 0.7561 - true_positives_30: 777.0000 - true_negatives_30: 857.0000 - false_positives_30: 219.0000 - false_negatives_30: 308.0000 - val_loss: 0.4782 - val_acc: 0.7584 - val_true_positives_30: 777.0000 - val_true_negatives_30: 862.0000 - val_false_positives_30: 214.0000 - val_false_negatives_30: 308.0000\n",
      "Epoch 14/15\n",
      "68/68 [==============================] - ETA: 0s - loss: 0.4740 - acc: 0.7571 - true_positives_30: 777.0000 - true_negatives_30: 859.0000 - false_positives_30: 217.0000 - false_negatives_30: 308.0000\n",
      "Epoch 14: saving model to C:/Users/Shounen/Desktop/Ciclo XI/Tesis 2/GPUTesis/Archivos/Modelos\\clasificacion\\TesisDiego\\CLASE_TrainDS_12\\Model_clasificacion_clase_20220425_174404.hdf5\n",
      "68/68 [==============================] - 37s 551ms/step - loss: 0.4740 - acc: 0.7571 - true_positives_30: 777.0000 - true_negatives_30: 859.0000 - false_positives_30: 217.0000 - false_negatives_30: 308.0000 - val_loss: 0.4749 - val_acc: 0.7594 - val_true_positives_30: 777.0000 - val_true_negatives_30: 864.0000 - val_false_positives_30: 212.0000 - val_false_negatives_30: 308.0000\n",
      "Epoch 15/15\n",
      "68/68 [==============================] - ETA: 0s - loss: 0.4707 - acc: 0.7575 - true_positives_30: 777.0000 - true_negatives_30: 860.0000 - false_positives_30: 216.0000 - false_negatives_30: 308.0000\n",
      "Epoch 15: saving model to C:/Users/Shounen/Desktop/Ciclo XI/Tesis 2/GPUTesis/Archivos/Modelos\\clasificacion\\TesisDiego\\CLASE_TrainDS_12\\Model_clasificacion_clase_20220425_174404.hdf5\n",
      "68/68 [==============================] - 38s 563ms/step - loss: 0.4707 - acc: 0.7575 - true_positives_30: 777.0000 - true_negatives_30: 860.0000 - false_positives_30: 216.0000 - false_negatives_30: 308.0000 - val_loss: 0.4717 - val_acc: 0.7594 - val_true_positives_30: 777.0000 - val_true_negatives_30: 864.0000 - val_false_positives_30: 212.0000 - val_false_negatives_30: 308.0000\n",
      "\n"
     ]
    },
    {
     "data": {
      "text/html": [
       "Waiting for W&B process to finish... <strong style=\"color:green\">(success).</strong>"
      ],
      "text/plain": [
       "<IPython.core.display.HTML object>"
      ]
     },
     "metadata": {},
     "output_type": "display_data"
    },
    {
     "data": {
      "application/vnd.jupyter.widget-view+json": {
       "model_id": "",
       "version_major": 2,
       "version_minor": 0
      },
      "text/plain": [
       "VBox(children=(Label(value='0.007 MB of 0.007 MB uploaded (0.000 MB deduped)\\r'), FloatProgress(value=1.0, max…"
      ]
     },
     "metadata": {},
     "output_type": "display_data"
    },
    {
     "data": {
      "text/html": [
       "<style>\n",
       "    table.wandb td:nth-child(1) { padding: 0 10px; text-align: right }\n",
       "    .wandb-row { display: flex; flex-direction: row; flex-wrap: wrap; width: 100% }\n",
       "    .wandb-col { display: flex; flex-direction: column; flex-basis: 100%; flex: 1; padding: 10px; }\n",
       "    </style>\n",
       "<div class=\"wandb-row\"><div class=\"wandb-col\"><h3>Run history:</h3><br/><table class=\"wandb\"><tr><td>acc</td><td>▁▃▅▆▆▇▇▇███████</td></tr><tr><td>loss</td><td>██▇▇▆▅▄▃▂▂▂▁▁▁▁</td></tr><tr><td>val_FN</td><td>█▄▄▃▃▁▃▁▁▁▁▁▁▁▁</td></tr><tr><td>val_FP</td><td>▁▄▄▅▄█▄████████</td></tr><tr><td>val_TN</td><td>█▅▅▄▅▁▅▁▁▁▁▁▁▁▁</td></tr><tr><td>val_TP</td><td>▁▅▅▆▆█▆████████</td></tr><tr><td>val_acc</td><td>▁▅▅▇▇█▇████████</td></tr><tr><td>val_loss</td><td>██▇▆▅▄▄▃▂▂▂▁▁▁▁</td></tr></table><br/></div><div class=\"wandb-col\"><h3>Run summary:</h3><br/><table class=\"wandb\"><tr><td>acc</td><td>0.75752</td></tr><tr><td>loss</td><td>0.47071</td></tr><tr><td>val_FN</td><td>308</td></tr><tr><td>val_FP</td><td>212</td></tr><tr><td>val_TN</td><td>864</td></tr><tr><td>val_TP</td><td>777</td></tr><tr><td>val_acc</td><td>0.75937</td></tr><tr><td>val_loss</td><td>0.47166</td></tr></table><br/></div></div>"
      ],
      "text/plain": [
       "<IPython.core.display.HTML object>"
      ]
     },
     "metadata": {},
     "output_type": "display_data"
    },
    {
     "data": {
      "text/html": [
       "Synced <strong style=\"color:#cdcd00\">Ex_CLASE_TrainDS_12_(3-1-30)_20220425_174404</strong>: <a href=\"https://wandb.ai/tesis2/TesisDiego-%28clasificacion-clase-2%29/runs/e9ap80zr\" target=\"_blank\">https://wandb.ai/tesis2/TesisDiego-%28clasificacion-clase-2%29/runs/e9ap80zr</a><br/>Synced 6 W&B file(s), 15 media file(s), 9 artifact file(s) and 0 other file(s)"
      ],
      "text/plain": [
       "<IPython.core.display.HTML object>"
      ]
     },
     "metadata": {},
     "output_type": "display_data"
    },
    {
     "data": {
      "text/html": [
       "Find logs at: <code>.\\wandb\\run-20220425_174404-e9ap80zr\\logs</code>"
      ],
      "text/plain": [
       "<IPython.core.display.HTML object>"
      ]
     },
     "metadata": {},
     "output_type": "display_data"
    },
    {
     "name": "stdout",
     "output_type": "stream",
     "text": [
      "--------------------------------------------------\n",
      "Inicio de la prueba N°: 4/6\n",
      "Dataset: C:/Users/Shounen/Desktop/Ciclo XI/Tesis 2/GPUTesis/Archivos/Dataset/SplittedV2/CLASE_TrainDS_12\n",
      "- Batch size:  32\n",
      "Creando modelo con input (20,20,2)) de tipo (clasificacion)\n",
      "Tamaño del dataset: Train 2161  - Val 541\n"
     ]
    },
    {
     "data": {
      "text/html": [
       "wandb version 0.12.15 is available!  To upgrade, please run:\n",
       " $ pip install wandb --upgrade"
      ],
      "text/plain": [
       "<IPython.core.display.HTML object>"
      ]
     },
     "metadata": {},
     "output_type": "display_data"
    },
    {
     "data": {
      "text/html": [
       "Tracking run with wandb version 0.12.11"
      ],
      "text/plain": [
       "<IPython.core.display.HTML object>"
      ]
     },
     "metadata": {},
     "output_type": "display_data"
    },
    {
     "data": {
      "text/html": [
       "Run data is saved locally in <code>C:\\Users\\Shounen\\Desktop\\Ciclo XI\\Tesis 2\\GPUTesis\\Codigo\\Entrenamiento\\Jupyter\\wandb\\run-20220425_175350-pakwlhbu</code>"
      ],
      "text/plain": [
       "<IPython.core.display.HTML object>"
      ]
     },
     "metadata": {},
     "output_type": "display_data"
    },
    {
     "data": {
      "text/html": [
       "Syncing run <strong><a href=\"https://wandb.ai/tesis2/TesisDiego-%28clasificacion-clase-2%29/runs/pakwlhbu\" target=\"_blank\">Ex_CLASE_TrainDS_12_(2-1-20)_20220425_175350</a></strong> to <a href=\"https://wandb.ai/tesis2/TesisDiego-%28clasificacion-clase-2%29\" target=\"_blank\">Weights & Biases</a> (<a href=\"https://wandb.me/run\" target=\"_blank\">docs</a>)<br/>"
      ],
      "text/plain": [
       "<IPython.core.display.HTML object>"
      ]
     },
     "metadata": {},
     "output_type": "display_data"
    },
    {
     "name": "stdout",
     "output_type": "stream",
     "text": [
      "Epoch 1/15\n",
      "68/68 [==============================] - ETA: 0s - loss: 0.6829 - acc: 0.5544 - true_positives_31: 153.0000 - true_negatives_31: 1045.0000 - false_positives_31: 39.0000 - false_negatives_31: 924.0000\n",
      "Epoch 1: saving model to C:/Users/Shounen/Desktop/Ciclo XI/Tesis 2/GPUTesis/Archivos/Modelos\\clasificacion\\TesisDiego\\CLASE_TrainDS_12\\Model_clasificacion_clase_20220425_175350.hdf5\n",
      "68/68 [==============================] - 39s 565ms/step - loss: 0.6829 - acc: 0.5544 - true_positives_31: 153.0000 - true_negatives_31: 1045.0000 - false_positives_31: 39.0000 - false_negatives_31: 924.0000 - val_loss: 0.6761 - val_acc: 0.7677 - val_true_positives_31: 792.0000 - val_true_negatives_31: 867.0000 - val_false_positives_31: 217.0000 - val_false_negatives_31: 285.0000\n",
      "Epoch 2/15\n",
      " 1/68 [..............................] - ETA: 25s - loss: 0.6663 - acc: 0.8438 - true_positives_31: 9.0000 - true_negatives_31: 18.0000 - false_positives_31: 3.0000 - false_negatives_31: 2.0000"
     ]
    }
   ],
   "source": [
    "%%time\n",
    "resultados = trainModel(p_train,path_imagenes,path_base,products,times)"
   ]
  },
  {
   "cell_type": "code",
   "execution_count": 246,
   "id": "ae2c7160",
   "metadata": {},
   "outputs": [
    {
     "data": {
      "text/plain": [
       "[[{'loss': [0.7779286503791809, 0.7350237965583801, 0.7117816805839539],\n",
       "   'acc': [0.49074074625968933, 0.49074074625968933, 0.49074074625968933],\n",
       "   'val_loss': [0.7439339756965637, 0.7180349826812744, 0.6988417506217957],\n",
       "   'val_acc': [0.49074074625968933, 0.49074074625968933, 0.49074074625968933],\n",
       "   'val_TN': [0, 0, 0],\n",
       "   'val_FP': [110, 110, 110],\n",
       "   'val_FN': [0, 0, 0],\n",
       "   'val_TP': [106, 106, 106]}]]"
      ]
     },
     "execution_count": 246,
     "metadata": {},
     "output_type": "execute_result"
    }
   ],
   "source": [
    "resultados"
   ]
  },
  {
   "cell_type": "code",
   "execution_count": null,
   "id": "78eb8502",
   "metadata": {},
   "outputs": [],
   "source": []
  }
 ],
 "metadata": {
  "kernelspec": {
   "display_name": "Python 3 (ipykernel)",
   "language": "python",
   "name": "python3"
  },
  "language_info": {
   "codemirror_mode": {
    "name": "ipython",
    "version": 3
   },
   "file_extension": ".py",
   "mimetype": "text/x-python",
   "name": "python",
   "nbconvert_exporter": "python",
   "pygments_lexer": "ipython3",
   "version": "3.9.11"
  }
 },
 "nbformat": 4,
 "nbformat_minor": 5
}
