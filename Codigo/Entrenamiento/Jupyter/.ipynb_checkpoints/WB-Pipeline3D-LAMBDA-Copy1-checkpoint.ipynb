{
 "cells": [
  {
   "cell_type": "code",
   "execution_count": 144,
   "id": "4390427c",
   "metadata": {},
   "outputs": [],
   "source": [
    "#!pip uninstall visualkeras"
   ]
  },
  {
   "cell_type": "code",
   "execution_count": 145,
   "id": "0a785bae",
   "metadata": {},
   "outputs": [],
   "source": [
    "#!pip install scikit-learn"
   ]
  },
  {
   "cell_type": "code",
   "execution_count": 146,
   "id": "f61bb80e",
   "metadata": {},
   "outputs": [],
   "source": [
    "#!pip install tensorflow-gpu"
   ]
  },
  {
   "cell_type": "code",
   "execution_count": 147,
   "id": "10d75a45",
   "metadata": {},
   "outputs": [],
   "source": [
    "#!pip install pandas"
   ]
  },
  {
   "cell_type": "code",
   "execution_count": 148,
   "id": "16753280",
   "metadata": {},
   "outputs": [],
   "source": [
    "#!pip install wandb"
   ]
  },
  {
   "cell_type": "code",
   "execution_count": 149,
   "id": "14b53b24",
   "metadata": {},
   "outputs": [],
   "source": [
    "#!pip install numpy"
   ]
  },
  {
   "cell_type": "code",
   "execution_count": 150,
   "id": "4fa034e9",
   "metadata": {},
   "outputs": [],
   "source": [
    "#!pip install openpyxl"
   ]
  },
  {
   "cell_type": "code",
   "execution_count": 151,
   "id": "443f8291",
   "metadata": {},
   "outputs": [],
   "source": [
    "#Manejo de Datos\n",
    "import numpy as np\n",
    "import pandas as pd\n",
    "import matplotlib.pyplot as plt\n",
    "from scipy.stats import boxcox\n",
    "\n",
    "\n",
    "#Machine learning\n",
    "import tensorflow as tf\n",
    "from tensorflow import keras\n",
    "from tensorflow.keras import datasets, layers, models\n",
    "from tensorflow.keras.callbacks import Callback\n",
    "\n",
    "from sklearn.model_selection import train_test_split\n",
    "from sklearn.utils import shuffle\n",
    "\n",
    "#Librerias estandar (Extras)\n",
    "import re\n",
    "import os\n",
    "import time\n",
    "import random\n",
    "from datetime import datetime"
   ]
  },
  {
   "cell_type": "code",
   "execution_count": 152,
   "id": "ca3336ee",
   "metadata": {},
   "outputs": [],
   "source": [
    "\"\"\"\n",
    "DIRECTORIOS DEL PROYECTO\n",
    "\"\"\"\n",
    "path_base = 'C:/Users/Shounen/Desktop/Ciclo XI/Tesis 2/GPUTesis'   # Directorio del proyecto\n",
    "path_imagenes = 'F:/GOES/'                                         # Directorio de las imagenes procesadas\n",
    "listDataset = [f'{path_base}/Archivos/Dataset/datasetMuestra.csv']          # Directorio(s) de los datos de precipitacion"
   ]
  },
  {
   "cell_type": "code",
   "execution_count": 153,
   "id": "d868194e",
   "metadata": {},
   "outputs": [
    {
     "name": "stdout",
     "output_type": "stream",
     "text": [
      "Python 3.9.11\n",
      "2.8.0\n",
      "Num GPUs Available:  1\n"
     ]
    }
   ],
   "source": [
    "!python --version\n",
    "print(tf. __version__)\n",
    "print(\"Num GPUs Available: \", len(tf.config.list_physical_devices('GPU')))\n",
    "\n",
    "#Limitamos el GPU, en caso se necesite\n",
    "gpus = tf.config.list_physical_devices('GPU')\n",
    "tf.config.experimental.set_virtual_device_configuration(gpus[0],\n",
    "                                                        [tf.config.experimental.VirtualDeviceConfiguration(memory_limit=4096)])"
   ]
  },
  {
   "cell_type": "code",
   "execution_count": 154,
   "id": "4728b8d6",
   "metadata": {},
   "outputs": [],
   "source": [
    "#conda list cudnn"
   ]
  },
  {
   "cell_type": "code",
   "execution_count": 155,
   "id": "eabc4c9b",
   "metadata": {},
   "outputs": [],
   "source": [
    "#conda list cudatoolkit"
   ]
  },
  {
   "cell_type": "code",
   "execution_count": 156,
   "id": "cc2ddc8c",
   "metadata": {},
   "outputs": [
    {
     "data": {
      "text/plain": [
       "'\\nMetodos para realizar el entrenamient - evaluacion del modelo\\n'"
      ]
     },
     "execution_count": 156,
     "metadata": {},
     "output_type": "execute_result"
    }
   ],
   "source": [
    "\"\"\"\n",
    "Metodos para realizar el entrenamient - evaluacion del modelo\n",
    "\"\"\""
   ]
  },
  {
   "cell_type": "code",
   "execution_count": 157,
   "id": "830b35d0",
   "metadata": {},
   "outputs": [],
   "source": [
    "\n",
    "#Lee el archivo \"filename\" de datos de precipitacion y\n",
    "#regresa un df que facilite la lectura del dataset para el entrenmaiento\n",
    "def obtenerDatos(filename):\n",
    "    start_time = time.time()\n",
    "    pdata = pd.read_csv(filename)\n",
    "    \n",
    "    # Quitamos los valores NA\n",
    "    pdata = pdata[pdata['dato'].notna()]\n",
    "\n",
    "    # Definimos un solo tipo (str) pora asi poder convertirlo a tensor\n",
    "    pdata = pdata.astype({\"dato\": str, \"XO\": str, \"XA\": str, \"fecha\": str})\n",
    "\n",
    "    #Definimos la nueva columna para guardar el XO, XA y fecha\n",
    "    pdata['imagen'] = pdata.apply(obtenerDir, axis=1)\n",
    "\n",
    "    # Seleccionamos solo las columnas necesarias :\n",
    "    # precipitacion, Estacion (Longitud), Estacion (Latitud), Fecha (año-mes-dia-hora)\n",
    "    #pdataX = pdata.loc[:, ['dato','umbral','altura', 'imagen', 'fecha']]\n",
    "    pdata = pdata.astype({\"dato\": str, \"umbral\": str, \"altura\": str, \"imagen\": str, \"fecha\": str})\n",
    "\n",
    "    # Barajeamos los datos\n",
    "    pdata = shuffle(pdata)\n",
    "\n",
    "    print(f'{len(pdata)} datos leidos')\n",
    "    print(\"Tiempo tomado en leer datos: %.2fs\" % (time.time() - start_time))\n",
    "    return pdata"
   ]
  },
  {
   "cell_type": "code",
   "execution_count": 158,
   "id": "f6bfeeb8",
   "metadata": {},
   "outputs": [],
   "source": [
    "\n",
    "# Devuelve una lista con lo indices que no se encontraron lso archivos y el producto\n",
    "# Servira para ver si se teinen todas los frames de la fecha\n",
    "def comprobarFrames(dfOrignial, path_base, products, times, delete=1):\n",
    "    \n",
    "    #dfOrignial = obtenerDatos(datafile)\n",
    "    \n",
    "    \n",
    "    start_time = time.time()\n",
    "    \n",
    "    dfTotal = pd.unique(dfOrignial['fecha'])\n",
    "    no_fecha = []\n",
    "    for fecha in dfTotal:\n",
    "        year, month, day, hour = fecha.split('-')\n",
    "        existe = True\n",
    "        for p in products:\n",
    "            for t in range(len(times)):             \n",
    "                filename = f'{path_base}PNG/{fecha}/{fecha}_{t}.png'\n",
    "                try:                    \n",
    "                    file_size = os.path.getsize(filename)\n",
    "                    existe = file_size > 4100000\n",
    "                except: \n",
    "                    existe = False\n",
    "                    break\n",
    "                \n",
    "            if not existe:\n",
    "                break\n",
    "        if not existe:\n",
    "            no_fecha.append(fecha)\n",
    "            \n",
    "\n",
    "    if delete:\n",
    "        antes = len(dfOrignial)\n",
    "        df2 = dfOrignial[~dfOrignial['fecha'].isin(no_fecha)]\n",
    "        despues = len(df2)\n",
    "        print(f'{antes - despues}/{antes} datos eliminados: No se encontraron los archivos de imagenes satelitales')\n",
    "    else:\n",
    "        df2 = dfOrignial\n",
    "\n",
    "    print(\"Tiempo tomado en verificar datos: %.2fs\" % (time.time() - start_time))\n",
    "    return df2, no_fecha"
   ]
  },
  {
   "cell_type": "code",
   "execution_count": 159,
   "id": "aeb4b95c",
   "metadata": {},
   "outputs": [],
   "source": [
    "#Del dataset guardamos los datos mas importantes en una columna para facilitar su lectura\n",
    "def obtenerDir(row):\n",
    "    fecha = row['fecha']\n",
    "\n",
    "    year, month, day, hour = fecha.split('-')\n",
    "    # filename = f'{path_base}comprimido/{year}_{month}_{day}/{hour}/'\n",
    "    return f\"{row['XO']}--{row['XA']}--{fecha}\""
   ]
  },
  {
   "cell_type": "code",
   "execution_count": 160,
   "id": "6b17ad44",
   "metadata": {},
   "outputs": [],
   "source": [
    "def limpiarDatos(listNames, path_imagenes, products, times ,ceros = 0.0 ,delete=1):\n",
    "    df = []\n",
    "    start_time = time.time()\n",
    "    print(f'Se leera los archivos de datasets...')\n",
    "    for name in listNames:\n",
    "        try:\n",
    "            df.append(pd.read_csv(name))   \n",
    "        except:\n",
    "            print(f'No se pudo leer el archivo {name} de dataset')\n",
    "            return -1\n",
    "        \n",
    "    if len(df)>2:\n",
    "        dsCompleto =  pd.concat(df, ignore_index=True) \n",
    "    else:\n",
    "        dsCompleto =  df[0]\n",
    "        \n",
    "    print(\"Tiempo tomado: %.2fs\" % (time.time() - start_time))\n",
    "    print(f'+Cantidad de datos leidos {len(dsCompleto)}')\n",
    "    \n",
    "    # Quitamos los NA valores\n",
    "    print(f'\\nSe elimnara los valores nulos y dudosos')\n",
    "    dsCompleto.dropna(subset=['dato'], axis='index', inplace=True)    \n",
    "    dsCompleto = dsCompleto[dsCompleto['flag']!='ND']\n",
    "    dsCompleto = dsCompleto[dsCompleto['flag'].isin(['C0000001','C0000002'])]\n",
    "    print(\"Tiempo tomado: %.2fs\" % (time.time() - start_time))\n",
    "    print(f'+Cantidad de datos luego de elimnar nulos {len(dsCompleto)}')\n",
    "              \n",
    "    \n",
    "    # Buscamos imagenes satelitales para lso archivos\n",
    "    print(f'\\nSe buscara las imagenes satelitales para los datos...')\n",
    "    dfImagenes, no_fecha = comprobarFrames(dsCompleto, path_imagenes, products, times, delete)    \n",
    "    print(\"Tiempo tomado: %.2fs\" % (time.time() - start_time))\n",
    "       \n",
    "        \n",
    "        \n",
    "    #Limitamos la cantidad de ceros\n",
    "    if ceros:\n",
    "        print(f'\\nSe limitara el numero de ceros al {ceros*100:.2f} porciento...')\n",
    "        dsNoNulo = dfImagenes[dfImagenes['dato']!=0]\n",
    "        dsNulo = dfImagenes[dfImagenes['dato']==0]\n",
    "        dsNulo = dsNulo.sample(n=int(ceros*len(dsNoNulo)))        \n",
    "        dfImagenes = pd.concat([dsNoNulo,dsNulo], ignore_index=True) \n",
    "        print(f'+Cantidad de datos luego de limtar ceros {len(dfImagenes)}')\n",
    "    \n",
    "    #Agregamos lso datos de las estaciones al dataset\n",
    "    print(f'\\nSe agregara los datos de las estaciones(cordenadas, umbral)...')\n",
    "    dfImagenes['imagen'] = dfImagenes.apply(obtenerDir, axis=1)        \n",
    "    print(f'-------> CANTIDAD FINAL DE DATOS :  {len(dfImagenes)} <--------------')  \n",
    "    print(\"Tiempo total: %.2fs\" % (time.time() - start_time))\n",
    "    return shuffle(dfImagenes), no_fecha"
   ]
  },
  {
   "cell_type": "code",
   "execution_count": 161,
   "id": "1715a3d6",
   "metadata": {},
   "outputs": [],
   "source": [
    "def crearModelo2D(p,run):    \n",
    "    print(f\"Creadno modelo con input ({p['margen'][run]},{p['margen'][run]},{p['canales'][run]})) tipo ({p['outputs']})\")\n",
    "    # Imagen\n",
    "    input_1 = tf.keras.layers.Input(shape=(p['margen'][run],p['margen'][run],p['canales'][run]))\n",
    "    \n",
    "    # Convulutional layers\n",
    "    rescaling = tf.keras.layers.Rescaling(1./65536)(input_1)\n",
    "    conv2d_1 = tf.keras.layers.Conv2D(128, kernel_size=3,padding='same',activation=tf.keras.activations.relu)(rescaling)\n",
    "    mxPool_1 = tf.keras.layers.MaxPooling2D()(conv2d_1)\n",
    "    dropout_1  = tf.keras.layers.Dropout(0.2)(mxPool_1)\n",
    "    \n",
    "    conv2d_2 = tf.keras.layers.Conv2D(64, kernel_size=3,padding='same',activation=tf.keras.activations.relu)(dropout_1)\n",
    "    mxPool_2 = tf.keras.layers.MaxPooling2D()(conv2d_2)\n",
    "    dropout_2  = tf.keras.layers.Dropout(0.1)(mxPool_2)\n",
    "    \n",
    "    conv2d_3 = tf.keras.layers.Conv2D(32, kernel_size=3,padding='same',activation=tf.keras.activations.relu)(dropout_1)\n",
    "    mxPool_3 = tf.keras.layers.MaxPooling2D()(conv2d_3)\n",
    "    dropout_3  = tf.keras.layers.Dropout(0.2)(mxPool_3)\n",
    "    \n",
    "    conv2d_4 = tf.keras.layers.Conv2D(64, kernel_size=3,padding='same',activation=tf.keras.activations.relu)(dropout_3)\n",
    "    mxPool_4 = tf.keras.layers.MaxPooling2D()(conv2d_4)\n",
    "    dropout_4  = tf.keras.layers.Dropout(0.2)(mxPool_4)\n",
    "    \n",
    "    conv2d_5 = tf.keras.layers.Conv2D(32, kernel_size=3,padding='same',activation=tf.keras.activations.relu)(dropout_4)\n",
    "    \n",
    "    \n",
    "    # Flatten layer :\n",
    "    flatten = tf.keras.layers.Flatten()(conv2d_5)\n",
    "    \n",
    "    final = flatten\n",
    "    listConcat = [flatten]\n",
    "    listInputs = [input_1]\n",
    "    \n",
    "    if len(p['inputs'])>1:\n",
    "        #Agregamos los otros atrbutos        \n",
    "        for attr in p['inputs'][1:]:\n",
    "            # The other input\n",
    "            input_x = tf.keras.layers.Input(shape=(1,))\n",
    "            listConcat.append(input_x)\n",
    "            listInputs.append(input_x)\n",
    "\n",
    "            \n",
    "        # Concatenate\n",
    "        final = tf.keras.layers.Concatenate()(listConcat)\n",
    "        \n",
    "    dense_1 = tf.keras.layers.Dense(units=32, activation=tf.keras.activations.relu)(final)\n",
    "    dense_2 = tf.keras.layers.Dense(units=16, activation=tf.keras.activations.relu)(dense_1)\n",
    "    dense_3 = tf.keras.layers.Dense(units=32, activation=tf.keras.activations.relu)(dense_2)\n",
    "    \n",
    "        \n",
    "    # output\n",
    "    if p['outputs'] in ['dato','lambda']:\n",
    "        output = tf.keras.layers.Dense(units=1)(dense_3)\n",
    "        dimOutput = 1\n",
    "    elif p['outputs'] == 'umbral':\n",
    "        output = tf.keras.layers.Dense(units=1, activation=tf.keras.activations.sigmoid)(dense_3)\n",
    "        dimOutput = 2\n",
    "    else:\n",
    "        print(f\"No se pudo crear el modelo outputs no esta bien definido {p['outputs']}\")\n",
    "        return -1      \n",
    "    \n",
    "\n",
    "    full_model = tf.keras.Model(inputs=listInputs, outputs=[output])\n",
    "    \n",
    "    print('DONE')\n",
    "    \n",
    "    #print(full_model.summary())\n",
    "    return full_model"
   ]
  },
  {
   "cell_type": "code",
   "execution_count": 162,
   "id": "afbb71c9",
   "metadata": {},
   "outputs": [],
   "source": [
    "def crearModelo3D(p,run):    \n",
    "    print(f\"Creando modelo con input ({p['tiempos'][run]},{p['margen'][run]},{p['margen'][run]},{p['canales'][run]})) y ({p['outputs']})...\")\n",
    "    # Imagen\n",
    "    input_1 = tf.keras.layers.Input(shape=(p['tiempos'][run],p['margen'][run],p['margen'][run],p['canales'][run]))\n",
    "    \n",
    "    # first conv layer :\n",
    "    conv3d_1 = tf.keras.layers.Conv3D(64, kernel_size=3,activation=tf.keras.activations.relu)(input_1)\n",
    "\n",
    "    # Second conv layer :\n",
    "    conv3d_2 = tf.keras.layers.Conv3D(32, kernel_size=3,activation=tf.keras.activations.relu)(conv3d_1)\n",
    "    \n",
    "    # Flatten layer :\n",
    "    flatten = tf.keras.layers.Flatten()(conv3d_2)\n",
    "    \n",
    "    final = flatten\n",
    "    listConcat = [flatten]\n",
    "    listInputs = [input_1]\n",
    "    \n",
    "    if len(p['inputs'])>1:\n",
    "        #Agregamos los otros atrbutos        \n",
    "        for attr in p['inputs'][1:]:\n",
    "            # The other input            \n",
    "            input_x = tf.keras.layers.Input(shape=(1,))\n",
    "            listConcat.append(input_x)\n",
    "            listInputs.append(input_x)\n",
    "            \n",
    "        # Concatenate\n",
    "        final = tf.keras.layers.Concatenate()(listConcat)\n",
    "        \n",
    "        \n",
    "    # output\n",
    "    if p['outputs'] in ['dato','lambda']:\n",
    "        output = tf.keras.layers.Dense(units=1, activation=tf.keras.activations.softmax)(final)\n",
    "        dimOutput = 1\n",
    "    elif p['outputs'] == 'umbral':\n",
    "        output = tf.keras.layers.Dense(units=2, activation=tf.keras.activations.sigmoid)(final)\n",
    "        dimOutput = 2\n",
    "    else:\n",
    "        print(f\"No se pudo crear el modelo outputs no esta bien definido {p['outputs']}\")\n",
    "        return -1          \n",
    "\n",
    "    full_model = tf.keras.Model(inputs=listInputs, outputs=[output])\n",
    "    \n",
    "    \n",
    "    print('DONE')\n",
    "    #print(full_model.summary())\n",
    "    return full_model"
   ]
  },
  {
   "cell_type": "code",
   "execution_count": 163,
   "id": "afaa1223",
   "metadata": {},
   "outputs": [],
   "source": [
    "def crearModelo(params,run):     \n",
    "    if params['tiempos'][run] == 1:\n",
    "        #Se crea un modelo conv2D\n",
    "        return crearModelo2D(params,run)         \n",
    "    else:\n",
    "        #Se crea un modelo conv3D\n",
    "        #return crearModelo2D(params,run)       \n",
    "        return crearModelo2D(params,run)       "
   ]
  },
  {
   "cell_type": "code",
   "execution_count": 164,
   "id": "209c22c3",
   "metadata": {},
   "outputs": [],
   "source": [
    "#Transformamos un filename tensor en una imagen\n",
    "def read_png_file(item, value, p,run, path_base, products, times):\n",
    "    # imagenData[0] = XO     # imagenData[1] = XA     # imagenData[2] = Fecha\n",
    "    imagenData = tf.strings.split(item['imagen'], sep='--')\n",
    "    size = int(p['margen'][run] / 2)\n",
    "\n",
    "    timeJoin = []\n",
    "    for j in range(p['tiempos'][run]-1,-1,-1):\n",
    "        filename = path_base + 'PNG/' + imagenData[2] + '/' + imagenData[2] + '_' + str(j) + '.png'\n",
    "        \n",
    "        image_string = tf.io.read_file(filename)\n",
    "\n",
    "        img_decoded = tf.io.decode_png(image_string, dtype=tf.uint16, channels=3)\n",
    "        \n",
    "        \n",
    "                \n",
    "        timeJoin.insert(0,img_decoded[int(imagenData[1]) - size:int(imagenData[1]) + size,\n",
    "                                      int(imagenData[0]) - size:int(imagenData[0]) + size,\n",
    "                                      0:p['canales'][run]])\n",
    " \n",
    "        \n",
    "    if p['tiempos'][run]==1:\n",
    "        imagenData = tf.reshape(timeJoin[0],(p['margen'][run],p['margen'][run],p['canales'][run]))\n",
    "    else:\n",
    "        #img = tf.stack(timeJoin, axis=0)\n",
    "        img = tf.reduce_mean( timeJoin , axis=0 )\n",
    "        imagenData = tf.reshape(img,(p['margen'][run],p['margen'][run],p['canales'][run]))\n",
    "        \n",
    "    \n",
    "    \n",
    "    if len(p['inputs']) == 1:\n",
    "        return imagenData, int(value)\n",
    "    \n",
    "    item['imagen'] = imagenData\n",
    "    itemL = []\n",
    "    for inpL in p['inputs']:\n",
    "        itemL.append(item[inpL])\n",
    "    \n",
    "    return tuple(itemL), int(value)"
   ]
  },
  {
   "cell_type": "code",
   "execution_count": 165,
   "id": "db155bb9",
   "metadata": {},
   "outputs": [],
   "source": [
    "def getMetrics(modelType, lr, paciencia):\n",
    "    \n",
    "    if modelType == 'umbral':    \n",
    "        optimizer = keras.optimizers.Adam(learning_rate=lr) \n",
    "        loss_fn=keras.losses.BinaryCrossentropy()       \n",
    "        train_acc_metric = keras.metrics.BinaryCrossentropy()\n",
    "        val_acc_metric = keras.metrics.BinaryCrossentropy()\n",
    "        early_stopping = tf.keras.callbacks.EarlyStopping(monitor=\"val_acc\", patience=paciencia, mode=\"max\")  \n",
    " \n",
    "        \n",
    "        metrics = ['acc', tf.keras.metrics.TruePositives(),\n",
    "                         tf.keras.metrics.TrueNegatives(),\n",
    "                         tf.keras.metrics.FalsePositives(),\n",
    "                         tf.keras.metrics.FalseNegatives()]\n",
    "        \n",
    "\n",
    "    elif modelType in ['dato','lambda']:\n",
    "        optimizer = keras.optimizers.Adam(learning_rate=lr)\n",
    "        loss_fn=keras.losses.MeanSquaredError()\n",
    "        train_acc_metric = keras.metrics.MeanSquaredError()\n",
    "        val_acc_metric = keras.metrics.MeanSquaredError()\n",
    "        early_stopping = tf.keras.callbacks.EarlyStopping(monitor=\"val_mse\", patience=paciencia, mode=\"max\")                                            \n",
    "        metrics = ['mse']\n",
    "        \n",
    "        \n",
    "    else:\n",
    "        print('No se pudo crear las metricas')\n",
    "        return -1    \n",
    "         \n",
    "        \n",
    "    logs = Callback()\n",
    "    callbacks = [early_stopping, logs]                     \n",
    "        \n",
    "    metrics = {'optimizer': optimizer, 'loss_fn':loss_fn,'train_acc_metric': train_acc_metric,\n",
    "               'val_acc_metric': val_acc_metric, 'metrics': metrics,'callbacks': callbacks}\n",
    "    \n",
    "    return metrics\n",
    "        "
   ]
  },
  {
   "cell_type": "code",
   "execution_count": 166,
   "id": "4ea4508f",
   "metadata": {},
   "outputs": [],
   "source": [
    "def splitDataset(p, run, dataset, path_imagenes, products, times,val_split= 0.2):\n",
    "    #Dataset de etnrenamiento\n",
    "    if p['dataset']:\n",
    "        train, test = train_test_split(dataset.sample(frac=p['dataset']), test_size=val_split, shuffle=True)\n",
    "    else:\n",
    "        train, test = train_test_split(dataset, test_size=val_split, shuffle=True)\n",
    "    print(f'Tamaño del dataset: Train {len(train)}  - Val {len(test)}')\n",
    "    \n",
    "    inputsList = {}\n",
    "    for inp in p['inputs']:\n",
    "        inputsList[inp] = train[inp].tolist()\n",
    "        \n",
    "       \n",
    "        \n",
    "    train_dataset = tf.data.Dataset.from_tensor_slices(((inputsList),train[p['outputs']].tolist()))           \n",
    "    val_dataset = tf.data.Dataset.from_tensor_slices(((inputsList),train[p['outputs']].tolist()))     \n",
    "    \n",
    "    train_dataset = train_dataset.map(lambda x ,y : read_png_file(x,y,p,run,path_imagenes,products,times))\n",
    "    val_dataset = val_dataset.map(lambda x ,y : read_png_file(x,y,p,run,path_imagenes,products,times))\n",
    "    \n",
    "    train_dataset = train_dataset.batch(p['batch'])#.cache().prefetch(tf.data.AUTOTUNE)\n",
    "    val_dataset = val_dataset.batch(p['batch'])#.prefetch(tf.data.AUTOTUNE)  \n",
    "    \n",
    "    return train_dataset, val_dataset"
   ]
  },
  {
   "cell_type": "code",
   "execution_count": 167,
   "id": "86a7caac",
   "metadata": {},
   "outputs": [],
   "source": [
    "def trainModel(params,dataset,path_imagenes, path_base ,products, times, graficos=0,val_split=0.2,):\n",
    "        \n",
    "    config = dict(learning_rate=params['lr'], epochs = params['epocas'],\n",
    "                     batch_size =params['batch'],architecture=\"CNN\",)\n",
    "    resultados = [] \n",
    "    for run in range(params['runs']):       \n",
    "        print('--------------------------------------------------')\n",
    "        print(f'Inicio de la prueba N°: {run+1}/{params[\"runs\"]}') \n",
    "        \n",
    "        #Metricas y parametros de entrenaiento\n",
    "        metricas = getMetrics(params['outputs'], params['lr'], params['paciencia'])         \n",
    "\n",
    "        #Modelo \n",
    "        model = crearModelo(params,run)        \n",
    "        model.compile(optimizer=metricas['optimizer'],loss=metricas['loss_fn'],metrics=metricas['metrics'],)\n",
    "    \n",
    "        #Dataset        \n",
    "        train_dataset, val_dataset = splitDataset(params,run, dataset, path_imagenes, products, times, val_split)\n",
    "                \n",
    "        \n",
    "               \n",
    "        #print(f'- Cantidad de dataset {len(train_dataset) * params[\"batch\"]}')\n",
    "        print(f'- Batch size:  {params[\"batch\"]}')\n",
    "    \n",
    "        \n",
    "        idModel = datetime.today().strftime(\"%Y%m%d_%H%M%S\")\n",
    "        checkpoint_path = f'{path_base}/Archivos/Modelos/Model_{params[\"outputs\"]}_{idModel}.hdf5' \n",
    "\n",
    "        # Create a callback that saves the model's weights\n",
    "        cp_callback = tf.keras.callbacks.ModelCheckpoint(filepath=checkpoint_path,\n",
    "                                                         save_weights_only=True,\n",
    "                                                         verbose=1)\n",
    "\n",
    "        if graficos:\n",
    "            metricas['callbacks'].append(cp_callback)\n",
    "            wandb.init(project=f'TesisDiegoV3({params[\"outputs\"]}-{len(params[\"inputs\"])})',\n",
    "                       config=config,\n",
    "                       name= f'Ex({params[\"canales\"][run]}-{params[\"tiempos\"][run]}-{params[\"margen\"][run]})_{idModel}')             \n",
    "            metricas['callbacks'].append(WandbCallback(save_weights_only=True))\n",
    "        \n",
    "        \n",
    "        #Entrenamos\n",
    "        history = model.fit(train_dataset,batch_size=params['batch'],                            \n",
    "                            epochs=params['epocas'],callbacks=metricas['callbacks'],\n",
    "                            validation_data=val_dataset,\n",
    "                            validation_batch_size=params['batch'],verbose=1)\n",
    "          \n",
    "        resultados.append(history.history)\n",
    "        \n",
    "        if graficos:\n",
    "            stats =  getModelStats(idModel,params,run,len(train_dataset),len(val_dataset))        \n",
    "            fout = f'{path_base}/Archivos/Modelos/Stats_{params[\"outputs\"]}_{idModel}.xlsx'\n",
    "            with pd.ExcelWriter(fout, mode='w') as writer:        \n",
    "                pd.DataFrame(stats, index= [0]).to_excel(writer,startrow=0, sheet_name='Estadisticas')     \n",
    "                pd.DataFrame(history.history).to_excel(writer,startrow=5, sheet_name='Estadisticas')\n",
    "                        \n",
    "            wandb.finish()\n",
    "   \n",
    "    return resultados"
   ]
  },
  {
   "cell_type": "code",
   "execution_count": 168,
   "id": "12ab1f80",
   "metadata": {},
   "outputs": [],
   "source": [
    "def getModelStats(idModel,params,run,trainLen,valLen):\n",
    "    cpParams = {}\n",
    "    cpParams['ModelID'] = idModel\n",
    "    cpParams['canales'] = params['canales'][run]\n",
    "    cpParams['tiempos'] = params['tiempos'][run]\n",
    "    cpParams['margen'] = params['margen'][run]\n",
    "    cpParams['inputs'] = str(params['inputs'])\n",
    "    cpParams['outputs'] = params['outputs']\n",
    "    cpParams['epocas'] = params['epocas']\n",
    "    cpParams['batch'] = params['batch']\n",
    "    cpParams['lr'] = params['lr']\n",
    "    cpParams['TrainLen'] = trainLen\n",
    "    cpParams['ValLen'] = valLen    \n",
    "    cpParams['lambda'] = params['lambda']\n",
    "    return cpParams    "
   ]
  },
  {
   "cell_type": "code",
   "execution_count": 169,
   "id": "7eac6684",
   "metadata": {},
   "outputs": [
    {
     "data": {
      "text/plain": [
       "'\\nVariables generales\\n'"
      ]
     },
     "execution_count": 169,
     "metadata": {},
     "output_type": "execute_result"
    }
   ],
   "source": [
    "\"\"\"\n",
    "Variables generales\n",
    "\"\"\""
   ]
  },
  {
   "cell_type": "code",
   "execution_count": 170,
   "id": "4f05b6c3",
   "metadata": {},
   "outputs": [],
   "source": [
    "#Variables generales\n",
    "products = ['C07','C08','C13']\n",
    "times  = ['10','20','30','40','50','00']\n",
    "porcentajeCeros = 0.20"
   ]
  },
  {
   "cell_type": "code",
   "execution_count": 171,
   "id": "7a8e08a7",
   "metadata": {},
   "outputs": [
    {
     "data": {
      "text/plain": [
       "'\\nLeemos el dataset completo\\n'"
      ]
     },
     "execution_count": 171,
     "metadata": {},
     "output_type": "execute_result"
    }
   ],
   "source": [
    "\"\"\"\n",
    "Leemos el dataset completo\n",
    "\"\"\""
   ]
  },
  {
   "cell_type": "code",
   "execution_count": 172,
   "id": "2b09fe24",
   "metadata": {},
   "outputs": [
    {
     "name": "stdout",
     "output_type": "stream",
     "text": [
      "Se leera los archivos de datasets...\n",
      "Tiempo tomado: 2.41s\n",
      "+Cantidad de datos leidos 2491134\n",
      "\n",
      "Se elimnara los valores nulos y dudosos\n",
      "Tiempo tomado: 2.94s\n",
      "+Cantidad de datos luego de elimnar nulos 2429896\n",
      "\n",
      "Se buscara las imagenes satelitales para los datos...\n",
      "418254/2429896 datos eliminados: No se encontraron los archivos de imagenes satelitales\n",
      "Tiempo tomado en verificar datos: 5.02s\n",
      "Tiempo tomado: 7.96s\n",
      "\n",
      "Se limitara el numero de ceros al 20.00 porciento...\n",
      "+Cantidad de datos luego de limtar ceros 86089\n",
      "\n",
      "Se agregara los datos de las estaciones(cordenadas, umbral)...\n",
      "-------> CANTIDAD FINAL DE DATOS :  86089 <--------------\n",
      "Tiempo total: 9.16s\n",
      "CPU times: total: 9.27 s\n",
      "Wall time: 9.24 s\n"
     ]
    },
    {
     "data": {
      "text/html": [
       "<div>\n",
       "<style scoped>\n",
       "    .dataframe tbody tr th:only-of-type {\n",
       "        vertical-align: middle;\n",
       "    }\n",
       "\n",
       "    .dataframe tbody tr th {\n",
       "        vertical-align: top;\n",
       "    }\n",
       "\n",
       "    .dataframe thead th {\n",
       "        text-align: right;\n",
       "    }\n",
       "</style>\n",
       "<table border=\"1\" class=\"dataframe\">\n",
       "  <thead>\n",
       "    <tr style=\"text-align: right;\">\n",
       "      <th></th>\n",
       "      <th>Unnamed: 0</th>\n",
       "      <th>nombre</th>\n",
       "      <th>codigo</th>\n",
       "      <th>XO</th>\n",
       "      <th>XA</th>\n",
       "      <th>longitud</th>\n",
       "      <th>latitud</th>\n",
       "      <th>altura</th>\n",
       "      <th>dato</th>\n",
       "      <th>90%</th>\n",
       "      <th>99%</th>\n",
       "      <th>75%</th>\n",
       "      <th>fecha</th>\n",
       "      <th>flag</th>\n",
       "      <th>imagen</th>\n",
       "    </tr>\n",
       "  </thead>\n",
       "  <tbody>\n",
       "    <tr>\n",
       "      <th>65104</th>\n",
       "      <td>2480938</td>\n",
       "      <td>TARMA</td>\n",
       "      <td>47257764</td>\n",
       "      <td>436</td>\n",
       "      <td>709</td>\n",
       "      <td>-75.69028</td>\n",
       "      <td>-11.39694</td>\n",
       "      <td>3200.0</td>\n",
       "      <td>3.5</td>\n",
       "      <td>0.0</td>\n",
       "      <td>1.3</td>\n",
       "      <td>0.0</td>\n",
       "      <td>2021-11-30-01</td>\n",
       "      <td>C0000002</td>\n",
       "      <td>436--709--2021-11-30-01</td>\n",
       "    </tr>\n",
       "    <tr>\n",
       "      <th>36220</th>\n",
       "      <td>2434074</td>\n",
       "      <td>INTIHUATANA M</td>\n",
       "      <td>472852EE</td>\n",
       "      <td>610</td>\n",
       "      <td>811</td>\n",
       "      <td>-72.56050</td>\n",
       "      <td>-13.22431</td>\n",
       "      <td>1780.0</td>\n",
       "      <td>0.4</td>\n",
       "      <td>0.2</td>\n",
       "      <td>4.8</td>\n",
       "      <td>0.0</td>\n",
       "      <td>2021-11-24-22</td>\n",
       "      <td>C0000002</td>\n",
       "      <td>610--811--2021-11-24-22</td>\n",
       "    </tr>\n",
       "  </tbody>\n",
       "</table>\n",
       "</div>"
      ],
      "text/plain": [
       "       Unnamed: 0         nombre    codigo   XO   XA  longitud   latitud  \\\n",
       "65104     2480938          TARMA  47257764  436  709 -75.69028 -11.39694   \n",
       "36220     2434074  INTIHUATANA M  472852EE  610  811 -72.56050 -13.22431   \n",
       "\n",
       "       altura  dato  90%  99%  75%          fecha      flag  \\\n",
       "65104  3200.0   3.5  0.0  1.3  0.0  2021-11-30-01  C0000002   \n",
       "36220  1780.0   0.4  0.2  4.8  0.0  2021-11-24-22  C0000002   \n",
       "\n",
       "                        imagen  \n",
       "65104  436--709--2021-11-30-01  \n",
       "36220  610--811--2021-11-24-22  "
      ]
     },
     "execution_count": 172,
     "metadata": {},
     "output_type": "execute_result"
    }
   ],
   "source": [
    "%%time\n",
    "#Vamos a unir los dos datasets y limpiarlos\n",
    "dsCompleto, no_fecha = limpiarDatos(listDataset, path_imagenes, products, times ,porcentajeCeros,1)\n",
    "\n",
    "#Agregamos el umbral al dataset\n",
    "dsCompleto.head(2)"
   ]
  },
  {
   "cell_type": "code",
   "execution_count": 173,
   "id": "04effa47",
   "metadata": {},
   "outputs": [
    {
     "data": {
      "text/plain": [
       "'\\nAnalizamos el dataset\\n'"
      ]
     },
     "execution_count": 173,
     "metadata": {},
     "output_type": "execute_result"
    }
   ],
   "source": [
    "\"\"\"\n",
    "Analizamos el dataset\n",
    "\"\"\""
   ]
  },
  {
   "cell_type": "code",
   "execution_count": 174,
   "id": "91d57682",
   "metadata": {},
   "outputs": [],
   "source": [
    "#Limitamos el dataset\n",
    "dataset = dsCompleto\n",
    "\n",
    "#Equilibramos el dataset con ceros y no ceros\n",
    "ds0 = dataset[dataset['dato']==0]\n",
    "ds_ =  dataset[(dataset['dato']>0) & (dataset['dato'] < 1)]\n",
    "ds1 =  dataset[dataset['dato']>1]"
   ]
  },
  {
   "cell_type": "code",
   "execution_count": 175,
   "id": "d88b028c",
   "metadata": {},
   "outputs": [
    {
     "data": {
      "text/plain": [
       "86089"
      ]
     },
     "execution_count": 175,
     "metadata": {},
     "output_type": "execute_result"
    }
   ],
   "source": [
    "_dataset = dataset#pd.concat([ds0,ds1,ds_.sample(n=int(len(ds0))], ignore_index=True) \n",
    "len(_dataset)"
   ]
  },
  {
   "cell_type": "code",
   "execution_count": 176,
   "id": "4fed57b9",
   "metadata": {},
   "outputs": [
    {
     "data": {
      "text/plain": [
       "<AxesSubplot:>"
      ]
     },
     "execution_count": 176,
     "metadata": {},
     "output_type": "execute_result"
    },
    {
     "data": {
      "image/png": "[encoded data removed]",
      "text/plain": [
       "<Figure size 432x288 with 1 Axes>"
      ]
     },
     "metadata": {
      "needs_background": "light"
     },
     "output_type": "display_data"
    }
   ],
   "source": [
    "_dataset['dato'].hist()"
   ]
  },
  {
   "cell_type": "code",
   "execution_count": 177,
   "id": "6934d5d1",
   "metadata": {},
   "outputs": [
    {
     "name": "stdout",
     "output_type": "stream",
     "text": [
      "  DATOS MENORES A  10  \n"
     ]
    },
    {
     "data": {
      "text/plain": [
       "<AxesSubplot:>"
      ]
     },
     "execution_count": 177,
     "metadata": {},
     "output_type": "execute_result"
    },
    {
     "data": {
      "image/png": "[encoded data removed]",
      "text/plain": [
       "<Figure size 432x288 with 1 Axes>"
      ]
     },
     "metadata": {
      "needs_background": "light"
     },
     "output_type": "display_data"
    }
   ],
   "source": [
    "print('  DATOS MENORES A  10  ')\n",
    "_dataset[_dataset['dato']<10]['dato'].hist()"
   ]
  },
  {
   "cell_type": "code",
   "execution_count": 178,
   "id": "6407db60",
   "metadata": {},
   "outputs": [
    {
     "name": "stdout",
     "output_type": "stream",
     "text": [
      "           ESTADISCIAS\n",
      "\n",
      "Flags:      ['C0000002' 'C0000001']\n",
      "Estaciones: 201\n",
      "Totales:    86089\n",
      "Ceros:      14348\n",
      "Maximo:     66.9\n",
      "Media:      0.8843753557365053\n",
      "STD:        2.253453981986497\n"
     ]
    }
   ],
   "source": [
    "print('           ESTADISCIAS\\n')\n",
    "\n",
    "print(f'Flags:      {_dataset[\"flag\"].unique()}')\n",
    "print(f'Estaciones: {len(_dataset[\"codigo\"].unique())}')\n",
    "print(f'Totales:    {_dataset[\"dato\"].count()}')\n",
    "print(f'Ceros:      {_dataset[_dataset[\"dato\"]==0][\"dato\"].count()}')\n",
    "print(f'Maximo:     {_dataset[\"dato\"].max()}')\n",
    "print(f'Media:      {_dataset[\"dato\"].mean()}')\n",
    "print(f'STD:        {_dataset[\"dato\"].std()}')"
   ]
  },
  {
   "cell_type": "code",
   "execution_count": 179,
   "id": "bbec9860",
   "metadata": {},
   "outputs": [
    {
     "data": {
      "text/plain": [
       "array([[<AxesSubplot:title={'center':'0'}>]], dtype=object)"
      ]
     },
     "execution_count": 179,
     "metadata": {},
     "output_type": "execute_result"
    },
    {
     "data": {
      "image/png": "[encoded data removed]",
      "text/plain": [
       "<Figure size 432x288 with 1 Axes>"
      ]
     },
     "metadata": {
      "needs_background": "light"
     },
     "output_type": "display_data"
    }
   ],
   "source": [
    "\"\"\"\n",
    " Se uniformizan los datos\n",
    "\n",
    "\"\"\"\n",
    "xT_boxcox, bestlamda = boxcox(_dataset['dato']+1, lmbda=None)\n",
    "pd.DataFrame(xT_boxcox).hist()"
   ]
  },
  {
   "cell_type": "code",
   "execution_count": 180,
   "id": "8640d4cb",
   "metadata": {},
   "outputs": [
    {
     "name": "stdout",
     "output_type": "stream",
     "text": [
      "-1.7833131924575238\n"
     ]
    }
   ],
   "source": [
    "print(bestlamda)"
   ]
  },
  {
   "cell_type": "code",
   "execution_count": 181,
   "id": "f16ea1cc",
   "metadata": {},
   "outputs": [
    {
     "data": {
      "text/html": [
       "<div>\n",
       "<style scoped>\n",
       "    .dataframe tbody tr th:only-of-type {\n",
       "        vertical-align: middle;\n",
       "    }\n",
       "\n",
       "    .dataframe tbody tr th {\n",
       "        vertical-align: top;\n",
       "    }\n",
       "\n",
       "    .dataframe thead th {\n",
       "        text-align: right;\n",
       "    }\n",
       "</style>\n",
       "<table border=\"1\" class=\"dataframe\">\n",
       "  <thead>\n",
       "    <tr style=\"text-align: right;\">\n",
       "      <th></th>\n",
       "      <th>Unnamed: 0</th>\n",
       "      <th>nombre</th>\n",
       "      <th>codigo</th>\n",
       "      <th>XO</th>\n",
       "      <th>XA</th>\n",
       "      <th>longitud</th>\n",
       "      <th>latitud</th>\n",
       "      <th>altura</th>\n",
       "      <th>dato</th>\n",
       "      <th>90%</th>\n",
       "      <th>99%</th>\n",
       "      <th>75%</th>\n",
       "      <th>fecha</th>\n",
       "      <th>flag</th>\n",
       "      <th>imagen</th>\n",
       "      <th>lambda</th>\n",
       "    </tr>\n",
       "  </thead>\n",
       "  <tbody>\n",
       "    <tr>\n",
       "      <th>65104</th>\n",
       "      <td>2480938</td>\n",
       "      <td>TARMA</td>\n",
       "      <td>47257764</td>\n",
       "      <td>436</td>\n",
       "      <td>709</td>\n",
       "      <td>-75.69028</td>\n",
       "      <td>-11.39694</td>\n",
       "      <td>3200.0</td>\n",
       "      <td>3.5</td>\n",
       "      <td>0.0</td>\n",
       "      <td>1.3</td>\n",
       "      <td>0.0</td>\n",
       "      <td>2021-11-30-01</td>\n",
       "      <td>C0000002</td>\n",
       "      <td>436--709--2021-11-30-01</td>\n",
       "      <td>0.522393</td>\n",
       "    </tr>\n",
       "    <tr>\n",
       "      <th>36220</th>\n",
       "      <td>2434074</td>\n",
       "      <td>INTIHUATANA M</td>\n",
       "      <td>472852EE</td>\n",
       "      <td>610</td>\n",
       "      <td>811</td>\n",
       "      <td>-72.56050</td>\n",
       "      <td>-13.22431</td>\n",
       "      <td>1780.0</td>\n",
       "      <td>0.4</td>\n",
       "      <td>0.2</td>\n",
       "      <td>4.8</td>\n",
       "      <td>0.0</td>\n",
       "      <td>2021-11-24-22</td>\n",
       "      <td>C0000002</td>\n",
       "      <td>610--811--2021-11-24-22</td>\n",
       "      <td>0.253017</td>\n",
       "    </tr>\n",
       "  </tbody>\n",
       "</table>\n",
       "</div>"
      ],
      "text/plain": [
       "       Unnamed: 0         nombre    codigo   XO   XA  longitud   latitud  \\\n",
       "65104     2480938          TARMA  47257764  436  709 -75.69028 -11.39694   \n",
       "36220     2434074  INTIHUATANA M  472852EE  610  811 -72.56050 -13.22431   \n",
       "\n",
       "       altura  dato  90%  99%  75%          fecha      flag  \\\n",
       "65104  3200.0   3.5  0.0  1.3  0.0  2021-11-30-01  C0000002   \n",
       "36220  1780.0   0.4  0.2  4.8  0.0  2021-11-24-22  C0000002   \n",
       "\n",
       "                        imagen    lambda  \n",
       "65104  436--709--2021-11-30-01  0.522393  \n",
       "36220  610--811--2021-11-24-22  0.253017  "
      ]
     },
     "execution_count": 181,
     "metadata": {},
     "output_type": "execute_result"
    }
   ],
   "source": [
    "_dataset['lambda'] = boxcox(_dataset['dato']+1,lmbda=bestlamda)\n",
    "_dataset.head(2)"
   ]
  },
  {
   "cell_type": "code",
   "execution_count": 182,
   "id": "b9ce9bf5",
   "metadata": {},
   "outputs": [
    {
     "data": {
      "text/plain": [
       "True"
      ]
     },
     "execution_count": 182,
     "metadata": {},
     "output_type": "execute_result"
    }
   ],
   "source": [
    "import wandb\n",
    "from wandb.keras import WandbCallback\n",
    "wandb.login()\n"
   ]
  },
  {
   "cell_type": "code",
   "execution_count": 183,
   "id": "f89085a4",
   "metadata": {},
   "outputs": [],
   "source": [
    "\"\"\"\n",
    "# Definimos las varibles para las iteraciones\n",
    "Los parametros que van a cambiar son:\n",
    "- Canales (products)\n",
    "- Tiempos (Min de las imagenes)\n",
    "- margen\n",
    "\"\"\"\n",
    "params = {'inputs'   : ['imagen'],\n",
    "          'outputs'  : 'lambda',  #umbral o dato/lambda\n",
    "          'lambda'   : bestlamda,\n",
    "          'lr'       : 0.001,\n",
    "          'batch'    : 32,        \n",
    "          'dataset'  : 1,\n",
    "          'epocas'   : 10,          \n",
    "          'paciencia': 4,\n",
    "          'canales'  : [3,3,3,3,3,3],\n",
    "          'tiempos'  : [4,6,4,6,4,6],\n",
    "          'margen'   : [50,50,30,30,70,70],\n",
    "          'runs'     : 6\n",
    "         }"
   ]
  },
  {
   "cell_type": "code",
   "execution_count": null,
   "id": "9e061cd5",
   "metadata": {},
   "outputs": [
    {
     "name": "stdout",
     "output_type": "stream",
     "text": [
      "--------------------------------------------------\n",
      "Inicio de la prueba N°: 1/6\n",
      "Creadno modelo con input (50,50,3)) tipo (lambda)\n",
      "DONE\n",
      "Tamaño del dataset: Train 68871  - Val 17218\n",
      "- Batch size:  32\n"
     ]
    },
    {
     "data": {
      "text/html": [
       "wandb version 0.12.14 is available!  To upgrade, please run:\n",
       " $ pip install wandb --upgrade"
      ],
      "text/plain": [
       "<IPython.core.display.HTML object>"
      ]
     },
     "metadata": {},
     "output_type": "display_data"
    },
    {
     "data": {
      "text/html": [
       "Tracking run with wandb version 0.12.11"
      ],
      "text/plain": [
       "<IPython.core.display.HTML object>"
      ]
     },
     "metadata": {},
     "output_type": "display_data"
    },
    {
     "data": {
      "text/html": [
       "Run data is saved locally in <code>C:\\Users\\Shounen\\Desktop\\Ciclo XI\\Tesis 2\\GPUTesis\\Codigo\\Entrenamiento\\Jupyter\\wandb\\run-20220418_115320-zaj7q7q5</code>"
      ],
      "text/plain": [
       "<IPython.core.display.HTML object>"
      ]
     },
     "metadata": {},
     "output_type": "display_data"
    },
    {
     "data": {
      "text/html": [
       "Syncing run <strong><a href=\"https://wandb.ai/tesis2/TesisDiegoV3%28lambda-1%29/runs/zaj7q7q5\" target=\"_blank\">Ex(3-4-50)_20220418_115320</a></strong> to <a href=\"https://wandb.ai/tesis2/TesisDiegoV3%28lambda-1%29\" target=\"_blank\">Weights & Biases</a> (<a href=\"https://wandb.me/run\" target=\"_blank\">docs</a>)<br/>"
      ],
      "text/plain": [
       "<IPython.core.display.HTML object>"
      ]
     },
     "metadata": {},
     "output_type": "display_data"
    },
    {
     "name": "stdout",
     "output_type": "stream",
     "text": [
      "Epoch 1/10\n",
      "  34/2153 [..............................] - ETA: 26:02 - loss: 7.6593e-05 - mse: 7.6593e-05"
     ]
    }
   ],
   "source": [
    "%%time\n",
    "#Solo imagenes (dato)\n",
    "resultados = trainModel(params,_dataset,path_imagenes,path_base,products,times, graficos=1)"
   ]
  },
  {
   "cell_type": "code",
   "execution_count": null,
   "id": "635f0f49",
   "metadata": {},
   "outputs": [],
   "source": []
  }
 ],
 "metadata": {
  "kernelspec": {
   "display_name": "Python 3 (ipykernel)",
   "language": "python",
   "name": "python3"
  },
  "language_info": {
   "codemirror_mode": {
    "name": "ipython",
    "version": 3
   },
   "file_extension": ".py",
   "mimetype": "text/x-python",
   "name": "python",
   "nbconvert_exporter": "python",
   "pygments_lexer": "ipython3",
   "version": "3.9.11"
  }
 },
 "nbformat": 4,
 "nbformat_minor": 5
}
