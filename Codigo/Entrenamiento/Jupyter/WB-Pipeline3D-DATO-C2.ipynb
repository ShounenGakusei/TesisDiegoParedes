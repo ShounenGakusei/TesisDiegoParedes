{
 "cells": [
  {
   "cell_type": "code",
   "execution_count": 124,
   "id": "4390427c",
   "metadata": {},
   "outputs": [],
   "source": [
    "#!pip uninstall visualkeras"
   ]
  },
  {
   "cell_type": "code",
   "execution_count": 125,
   "id": "0a785bae",
   "metadata": {},
   "outputs": [],
   "source": [
    "#!pip install scikit-learn"
   ]
  },
  {
   "cell_type": "code",
   "execution_count": 126,
   "id": "f61bb80e",
   "metadata": {},
   "outputs": [],
   "source": [
    "#!pip install tensorflow-gpu"
   ]
  },
  {
   "cell_type": "code",
   "execution_count": 127,
   "id": "10d75a45",
   "metadata": {},
   "outputs": [],
   "source": [
    "#!pip install pandas"
   ]
  },
  {
   "cell_type": "code",
   "execution_count": 128,
   "id": "16753280",
   "metadata": {},
   "outputs": [],
   "source": [
    "#!pip install wandb"
   ]
  },
  {
   "cell_type": "code",
   "execution_count": 129,
   "id": "14b53b24",
   "metadata": {},
   "outputs": [],
   "source": [
    "#!pip install numpy"
   ]
  },
  {
   "cell_type": "code",
   "execution_count": 130,
   "id": "4fa034e9",
   "metadata": {},
   "outputs": [],
   "source": [
    "#!pip install openpyxl"
   ]
  },
  {
   "cell_type": "code",
   "execution_count": 131,
   "id": "443f8291",
   "metadata": {},
   "outputs": [],
   "source": [
    "#Manejo de Datos\n",
    "import numpy as np\n",
    "import pandas as pd\n",
    "import matplotlib.pyplot as plt\n",
    "from scipy.stats import boxcox\n",
    "\n",
    "\n",
    "#Machine learning\n",
    "import tensorflow as tf\n",
    "from tensorflow import keras\n",
    "from tensorflow.keras import datasets, layers, models\n",
    "from tensorflow.keras.callbacks import Callback\n",
    "\n",
    "from sklearn.model_selection import train_test_split\n",
    "from sklearn.utils import shuffle\n",
    "\n",
    "#Librerias estandar (Extras)\n",
    "import re\n",
    "import os\n",
    "import time\n",
    "import random\n",
    "from datetime import datetime"
   ]
  },
  {
   "cell_type": "code",
   "execution_count": 132,
   "id": "ca3336ee",
   "metadata": {},
   "outputs": [],
   "source": [
    "\"\"\"\n",
    "DIRECTORIOS DEL PROYECTO\n",
    "\"\"\"\n",
    "path_base = 'C:/Users/Shounen/Desktop/Ciclo XI/Tesis 2/GPUTesis'   # Directorio del proyecto\n",
    "path_imagenes = 'F:/GOES/'                                         # Directorio de las imagenes procesadas\n",
    "#listDataset = [f'{path_base}/Archivos/Dataset/datasetMuestra.csv']          # Directorio(s) de los datos de precipitacion\n",
    "listDataset = [f'{path_base}/Archivos/Dataset/CLASE_TrainDS.csv']          # Directorio(s) de los datos de precipitacion\n",
    "#CLASE_TrainDS"
   ]
  },
  {
   "cell_type": "code",
   "execution_count": 133,
   "id": "d868194e",
   "metadata": {},
   "outputs": [
    {
     "name": "stdout",
     "output_type": "stream",
     "text": [
      "Python 3.9.112.8.0\n",
      "\n",
      "Num GPUs Available:  1\n"
     ]
    }
   ],
   "source": [
    "!python --version\n",
    "print(tf. __version__)\n",
    "print(\"Num GPUs Available: \", len(tf.config.list_physical_devices('GPU')))\n",
    "\n",
    "#Limitamos el GPU, en caso se necesite\n",
    "gpus = tf.config.list_physical_devices('GPU')\n",
    "tf.config.experimental.set_virtual_device_configuration(gpus[0],\n",
    "                                                        [tf.config.experimental.VirtualDeviceConfiguration(memory_limit=4096)])"
   ]
  },
  {
   "cell_type": "code",
   "execution_count": 134,
   "id": "4728b8d6",
   "metadata": {},
   "outputs": [],
   "source": [
    "#conda list cudnn"
   ]
  },
  {
   "cell_type": "code",
   "execution_count": 135,
   "id": "eabc4c9b",
   "metadata": {},
   "outputs": [],
   "source": [
    "#conda list cudatoolkit"
   ]
  },
  {
   "cell_type": "code",
   "execution_count": 136,
   "id": "cc2ddc8c",
   "metadata": {},
   "outputs": [
    {
     "data": {
      "text/plain": [
       "'\\nMetodos para realizar el entrenamient - evaluacion del modelo\\n'"
      ]
     },
     "execution_count": 136,
     "metadata": {},
     "output_type": "execute_result"
    }
   ],
   "source": [
    "\"\"\"\n",
    "Metodos para realizar el entrenamient - evaluacion del modelo\n",
    "\"\"\""
   ]
  },
  {
   "cell_type": "code",
   "execution_count": 137,
   "id": "830b35d0",
   "metadata": {},
   "outputs": [],
   "source": [
    "\n",
    "#Lee el archivo \"filename\" de datos de precipitacion y\n",
    "#regresa un df que facilite la lectura del dataset para el entrenmaiento\n",
    "def obtenerDatos(filename):\n",
    "    start_time = time.time()\n",
    "    pdata = pd.read_csv(filename)\n",
    "    \n",
    "    # Quitamos los valores NA\n",
    "    pdata = pdata[pdata['dato'].notna()]\n",
    "\n",
    "    # Definimos un solo tipo (str) pora asi poder convertirlo a tensor\n",
    "    pdata = pdata.astype({\"dato\": str, \"XO\": str, \"XA\": str, \"fecha\": str})\n",
    "\n",
    "    #Definimos la nueva columna para guardar el XO, XA y fecha\n",
    "    pdata['imagen'] = pdata.apply(obtenerDir, axis=1)\n",
    "\n",
    "    # Seleccionamos solo las columnas necesarias :\n",
    "    # precipitacion, Estacion (Longitud), Estacion (Latitud), Fecha (año-mes-dia-hora)\n",
    "    #pdataX = pdata.loc[:, ['dato','umbral','altura', 'imagen', 'fecha']]\n",
    "    pdata = pdata.astype({\"dato\": str, \"umbral\": str, \"altura\": str, \"imagen\": str, \"fecha\": str})\n",
    "\n",
    "    # Barajeamos los datos\n",
    "    pdata = shuffle(pdata)\n",
    "\n",
    "    print(f'{len(pdata)} datos leidos')\n",
    "    print(\"Tiempo tomado en leer datos: %.2fs\" % (time.time() - start_time))\n",
    "    return pdata"
   ]
  },
  {
   "cell_type": "code",
   "execution_count": 138,
   "id": "f6bfeeb8",
   "metadata": {},
   "outputs": [],
   "source": [
    "\n",
    "# Devuelve una lista con lo indices que no se encontraron lso archivos y el producto\n",
    "# Servira para ver si se teinen todas los frames de la fecha\n",
    "def comprobarFrames(dfOrignial, path_base, products, times, delete=1):\n",
    "    \n",
    "    #dfOrignial = obtenerDatos(datafile)\n",
    "    \n",
    "    \n",
    "    start_time = time.time()\n",
    "    \n",
    "    dfTotal = pd.unique(dfOrignial['fecha'])\n",
    "    no_fecha = []\n",
    "    for fecha in dfTotal:\n",
    "        year, month, day, hour = fecha.split('-')\n",
    "        existe = True\n",
    "        for p in products:\n",
    "            for t in range(len(times)):             \n",
    "                filename = f'{path_base}PNG/{fecha}/{fecha}_{t}.png'\n",
    "                try:                    \n",
    "                    file_size = os.path.getsize(filename)\n",
    "                    existe = file_size > 4100000\n",
    "                except: \n",
    "                    existe = False\n",
    "                    break\n",
    "                \n",
    "            if not existe:\n",
    "                break\n",
    "        if not existe:\n",
    "            no_fecha.append(fecha)\n",
    "            \n",
    "\n",
    "    if delete:\n",
    "        antes = len(dfOrignial)\n",
    "        df2 = dfOrignial[~dfOrignial['fecha'].isin(no_fecha)]\n",
    "        despues = len(df2)\n",
    "        print(f'{antes - despues}/{antes} datos eliminados: No se encontraron los archivos de imagenes satelitales')\n",
    "    else:\n",
    "        df2 = dfOrignial\n",
    "\n",
    "    print(\"Tiempo tomado en verificar datos: %.2fs\" % (time.time() - start_time))\n",
    "    return df2, no_fecha"
   ]
  },
  {
   "cell_type": "code",
   "execution_count": 139,
   "id": "aeb4b95c",
   "metadata": {},
   "outputs": [],
   "source": [
    "#Del dataset guardamos los datos mas importantes en una columna para facilitar su lectura\n",
    "def obtenerDir(row):\n",
    "    fecha = row['fecha']\n",
    "\n",
    "    year, month, day, hour = fecha.split('-')\n",
    "    # filename = f'{path_base}comprimido/{year}_{month}_{day}/{hour}/'\n",
    "    return f\"{row['XO']}--{row['XA']}--{fecha}\""
   ]
  },
  {
   "cell_type": "code",
   "execution_count": 140,
   "id": "6b17ad44",
   "metadata": {},
   "outputs": [],
   "source": [
    "def limpiarDatos(listNames, path_imagenes, products, times ,ceros = 0.0 ,delete=1):\n",
    "    df = []\n",
    "    start_time = time.time()\n",
    "    print(f'Se leera los archivos de datasets...')\n",
    "    for name in listNames:\n",
    "        try:\n",
    "            df.append(pd.read_csv(name))   \n",
    "        except:\n",
    "            print(f'No se pudo leer el archivo {name} de dataset')\n",
    "            return -1\n",
    "        \n",
    "    if len(df)>2:\n",
    "        dsCompleto =  pd.concat(df, ignore_index=True) \n",
    "    else:\n",
    "        dsCompleto =  df[0]\n",
    "        \n",
    "    print(\"Tiempo tomado: %.2fs\" % (time.time() - start_time))\n",
    "    print(f'+Cantidad de datos leidos {len(dsCompleto)}')\n",
    "    \n",
    "    # Quitamos los NA valores\n",
    "    print(f'\\nSe elimnara los valores nulos y dudosos')\n",
    "    dsCompleto.dropna(subset=['dato'], axis='index', inplace=True)    \n",
    "    dsCompleto = dsCompleto[dsCompleto['flag']!='ND']\n",
    "    dsCompleto = dsCompleto[dsCompleto['flag'].isin(['C0000002','M0000002'])]\n",
    "    print(\"Tiempo tomado: %.2fs\" % (time.time() - start_time))\n",
    "    print(f'+Cantidad de datos luego de elimnar nulos {len(dsCompleto)}')\n",
    "              \n",
    "    \n",
    "    # Buscamos imagenes satelitales para lso archivos\n",
    "    print(f'\\nSe buscara las imagenes satelitales para los datos...')\n",
    "    dfImagenes, no_fecha = comprobarFrames(dsCompleto, path_imagenes, products, times, delete)    \n",
    "    print(\"Tiempo tomado: %.2fs\" % (time.time() - start_time))\n",
    "       \n",
    "        \n",
    "        \n",
    "    #Limitamos la cantidad de ceros\n",
    "    if ceros:\n",
    "        print(f'\\nSe limitara el numero de ceros al {ceros*100:.2f} porciento...')\n",
    "        dsNoNulo = dfImagenes[dfImagenes['dato']!=0]\n",
    "        dsNulo = dfImagenes[dfImagenes['dato']==0]\n",
    "        dsNulo = dsNulo.sample(n=int(ceros*len(dsNoNulo)))        \n",
    "        dfImagenes = pd.concat([dsNoNulo,dsNulo], ignore_index=True) \n",
    "        print(f'+Cantidad de datos luego de limtar ceros {len(dfImagenes)}')\n",
    "    \n",
    "    #Agregamos lso datos de las estaciones al dataset\n",
    "    print(f'\\nSe agregara los datos de las estaciones(cordenadas, umbral)...')\n",
    "    dfImagenes['imagen'] = dfImagenes.apply(obtenerDir, axis=1)        \n",
    "    print(f'-------> CANTIDAD FINAL DE DATOS :  {len(dfImagenes)} <--------------')  \n",
    "    print(\"Tiempo total: %.2fs\" % (time.time() - start_time))\n",
    "    return shuffle(dfImagenes), no_fecha"
   ]
  },
  {
   "cell_type": "code",
   "execution_count": 141,
   "id": "1715a3d6",
   "metadata": {},
   "outputs": [],
   "source": [
    "def crearModelo2D(p,run):    \n",
    "    print(f\"Creadno modelo con input ({p['margen'][run]},{p['margen'][run]},{p['canales'][run]})) tipo ({p['outputs']})\")\n",
    "    # Imagen\n",
    "    input_1 = tf.keras.layers.Input(shape=(p['margen'][run],p['margen'][run],p['canales'][run]))\n",
    "    \n",
    "    # Convulutional layers\n",
    "    rescaling = tf.keras.layers.Rescaling(1./65536)(input_1)\n",
    "    conv2d_1 = tf.keras.layers.Conv2D(128, kernel_size=3,padding='same',activation=tf.keras.activations.relu)(rescaling)\n",
    "    mxPool_1 = tf.keras.layers.MaxPooling2D()(conv2d_1)\n",
    "    dropout_1  = tf.keras.layers.Dropout(0.2)(mxPool_1)\n",
    "    \n",
    "    conv2d_2 = tf.keras.layers.Conv2D(64, kernel_size=3,padding='same',activation=tf.keras.activations.relu)(dropout_1)\n",
    "    mxPool_2 = tf.keras.layers.MaxPooling2D()(conv2d_2)\n",
    "    dropout_2  = tf.keras.layers.Dropout(0.1)(mxPool_2)\n",
    "    \n",
    "    conv2d_3 = tf.keras.layers.Conv2D(32, kernel_size=3,padding='same',activation=tf.keras.activations.relu)(dropout_1)\n",
    "    mxPool_3 = tf.keras.layers.MaxPooling2D()(conv2d_3)\n",
    "    dropout_3  = tf.keras.layers.Dropout(0.2)(mxPool_3)\n",
    "    \n",
    "    conv2d_4 = tf.keras.layers.Conv2D(64, kernel_size=3,padding='same',activation=tf.keras.activations.relu)(dropout_3)\n",
    "    mxPool_4 = tf.keras.layers.MaxPooling2D()(conv2d_4)\n",
    "    dropout_4  = tf.keras.layers.Dropout(0.2)(mxPool_4)\n",
    "    \n",
    "    conv2d_5 = tf.keras.layers.Conv2D(32, kernel_size=3,padding='same',activation=tf.keras.activations.relu)(dropout_4)\n",
    "    \n",
    "    \n",
    "    # Flatten layer :\n",
    "    flatten = tf.keras.layers.Flatten()(conv2d_5)\n",
    "    \n",
    "    final = flatten\n",
    "    listConcat = [flatten]\n",
    "    listInputs = [input_1]\n",
    "    \n",
    "    if len(p['inputs'])>1:\n",
    "        #Agregamos los otros atrbutos        \n",
    "        for attr in p['inputs'][1:]:\n",
    "            # The other input\n",
    "            input_x = tf.keras.layers.Input(shape=(1,))\n",
    "            listConcat.append(input_x)\n",
    "            listInputs.append(input_x)\n",
    "\n",
    "            \n",
    "        # Concatenate\n",
    "        final = tf.keras.layers.Concatenate()(listConcat)\n",
    "        \n",
    "    dense_1 = tf.keras.layers.Dense(units=32, activation=tf.keras.activations.relu)(final)\n",
    "    dense_2 = tf.keras.layers.Dense(units=16, activation=tf.keras.activations.relu)(dense_1)\n",
    "    dense_3 = tf.keras.layers.Dense(units=32, activation=tf.keras.activations.relu)(dense_2)\n",
    "    \n",
    "        \n",
    "    # output\n",
    "    if p['outputs'] in ['dato','lambda']:\n",
    "        output = tf.keras.layers.Dense(units=1)(dense_3)\n",
    "        dimOutput = 1\n",
    "    elif p['outputs'] == 'umbral':\n",
    "        output = tf.keras.layers.Dense(units=1, activation=tf.keras.activations.sigmoid)(dense_3)\n",
    "        dimOutput = 2\n",
    "    else:\n",
    "        print(f\"No se pudo crear el modelo outputs no esta bien definido {p['outputs']}\")\n",
    "        return -1      \n",
    "    \n",
    "\n",
    "    full_model = tf.keras.Model(inputs=listInputs, outputs=[output])\n",
    "    \n",
    "    print('DONE')\n",
    "    \n",
    "    #print(full_model.summary())\n",
    "    return full_model"
   ]
  },
  {
   "cell_type": "code",
   "execution_count": 142,
   "id": "afbb71c9",
   "metadata": {},
   "outputs": [],
   "source": [
    "def crearModelo3D(p,run):    \n",
    "    print(f\"Creando modelo con input ({p['tiempos'][run]},{p['margen'][run]},{p['margen'][run]},{p['canales'][run]})) y ({p['outputs']})...\")\n",
    "    # Imagen\n",
    "    input_1 = tf.keras.layers.Input(shape=(p['tiempos'][run],p['margen'][run],p['margen'][run],p['canales'][run]))\n",
    "    \n",
    "    # first conv layer :\n",
    "    conv3d_1 = tf.keras.layers.Conv3D(64, kernel_size=3,activation=tf.keras.activations.relu)(input_1)\n",
    "\n",
    "    # Second conv layer :\n",
    "    conv3d_2 = tf.keras.layers.Conv3D(32, kernel_size=3,activation=tf.keras.activations.relu)(conv3d_1)\n",
    "    \n",
    "    # Flatten layer :\n",
    "    flatten = tf.keras.layers.Flatten()(conv3d_2)\n",
    "    \n",
    "    final = flatten\n",
    "    listConcat = [flatten]\n",
    "    listInputs = [input_1]\n",
    "    \n",
    "    if len(p['inputs'])>1:\n",
    "        #Agregamos los otros atrbutos        \n",
    "        for attr in p['inputs'][1:]:\n",
    "            # The other input            \n",
    "            input_x = tf.keras.layers.Input(shape=(1,))\n",
    "            listConcat.append(input_x)\n",
    "            listInputs.append(input_x)\n",
    "            \n",
    "        # Concatenate\n",
    "        final = tf.keras.layers.Concatenate()(listConcat)\n",
    "        \n",
    "        \n",
    "    # output\n",
    "    if p['outputs'] in ['dato','lambda']:\n",
    "        output = tf.keras.layers.Dense(units=1, activation=tf.keras.activations.softmax)(final)\n",
    "        dimOutput = 1\n",
    "    elif p['outputs'] == 'umbral':\n",
    "        output = tf.keras.layers.Dense(units=2, activation=tf.keras.activations.sigmoid)(final)\n",
    "        dimOutput = 2\n",
    "    else:\n",
    "        print(f\"No se pudo crear el modelo outputs no esta bien definido {p['outputs']}\")\n",
    "        return -1          \n",
    "\n",
    "    full_model = tf.keras.Model(inputs=listInputs, outputs=[output])\n",
    "    \n",
    "    \n",
    "    print('DONE')\n",
    "    #print(full_model.summary())\n",
    "    return full_model"
   ]
  },
  {
   "cell_type": "code",
   "execution_count": 143,
   "id": "afaa1223",
   "metadata": {},
   "outputs": [],
   "source": [
    "def crearModelo(params,run):     \n",
    "    if params['tiempos'][run] == 1:\n",
    "        #Se crea un modelo conv2D\n",
    "        return crearModelo2D(params,run)         \n",
    "    else:\n",
    "        #Se crea un modelo conv3D\n",
    "        #return crearModelo2D(params,run)       \n",
    "        return crearModelo2D(params,run)       "
   ]
  },
  {
   "cell_type": "code",
   "execution_count": 144,
   "id": "209c22c3",
   "metadata": {},
   "outputs": [],
   "source": [
    "#Transformamos un filename tensor en una imagen\n",
    "def read_png_file(item, value, p,run, path_base, products, times):\n",
    "    # imagenData[0] = XO     # imagenData[1] = XA     # imagenData[2] = Fecha\n",
    "    imagenData = tf.strings.split(item['imagen'], sep='--')\n",
    "    size = int(p['margen'][run] / 2)\n",
    "\n",
    "    timeJoin = []\n",
    "    for j in range(p['tiempos'][run]-1,-1,-1):\n",
    "        filename = path_base + 'PNG/' + imagenData[2] + '/' + imagenData[2] + '_' + str(j) + '.png'\n",
    "        \n",
    "        image_string = tf.io.read_file(filename)\n",
    "\n",
    "        img_decoded = tf.io.decode_png(image_string, dtype=tf.uint16, channels=3)\n",
    "        \n",
    "        \n",
    "                \n",
    "        timeJoin.insert(0,img_decoded[int(imagenData[1]) - size:int(imagenData[1]) + size,\n",
    "                                      int(imagenData[0]) - size:int(imagenData[0]) + size,\n",
    "                                      0:p['canales'][run]])\n",
    " \n",
    "        \n",
    "    if p['tiempos'][run]==1:\n",
    "        imagenData = tf.reshape(timeJoin[0],(p['margen'][run],p['margen'][run],p['canales'][run]))\n",
    "    else:\n",
    "        #img = tf.stack(timeJoin, axis=0)\n",
    "        img = tf.reduce_mean( timeJoin , axis=0 )\n",
    "        imagenData = tf.reshape(img,(p['margen'][run],p['margen'][run],p['canales'][run]))\n",
    "        \n",
    "    \n",
    "    \n",
    "    if len(p['inputs']) == 1:\n",
    "        return imagenData, int(value)\n",
    "    \n",
    "    item['imagen'] = imagenData\n",
    "    itemL = []\n",
    "    for inpL in p['inputs']:\n",
    "        itemL.append(item[inpL])\n",
    "    \n",
    "    return tuple(itemL), int(value)"
   ]
  },
  {
   "cell_type": "code",
   "execution_count": 145,
   "id": "db155bb9",
   "metadata": {},
   "outputs": [],
   "source": [
    "def getMetrics(modelType, lr, paciencia):\n",
    "    \n",
    "    if modelType == 'umbral':    \n",
    "        optimizer = keras.optimizers.Adam(learning_rate=lr) \n",
    "        loss_fn=keras.losses.BinaryCrossentropy()       \n",
    "        train_acc_metric = keras.metrics.BinaryCrossentropy()\n",
    "        val_acc_metric = keras.metrics.BinaryCrossentropy()\n",
    "        early_stopping = tf.keras.callbacks.EarlyStopping(monitor=\"val_acc\", patience=paciencia, mode=\"max\")  \n",
    " \n",
    "        \n",
    "        metrics = ['acc', tf.keras.metrics.TruePositives(),\n",
    "                         tf.keras.metrics.TrueNegatives(),\n",
    "                         tf.keras.metrics.FalsePositives(),\n",
    "                         tf.keras.metrics.FalseNegatives()]\n",
    "        \n",
    "\n",
    "    elif modelType in ['dato','lambda']:\n",
    "        optimizer = keras.optimizers.Adam(learning_rate=lr)\n",
    "        loss_fn=keras.losses.MeanSquaredError()\n",
    "        train_acc_metric = keras.metrics.MeanSquaredError()\n",
    "        val_acc_metric = keras.metrics.MeanSquaredError()\n",
    "        early_stopping = tf.keras.callbacks.EarlyStopping(monitor=\"val_mse\", patience=paciencia, mode=\"max\")                                            \n",
    "        metrics = ['mse']\n",
    "        \n",
    "        \n",
    "    else:\n",
    "        print('No se pudo crear las metricas')\n",
    "        return -1    \n",
    "         \n",
    "        \n",
    "    logs = Callback()\n",
    "    callbacks = [early_stopping, logs]                     \n",
    "        \n",
    "    metrics = {'optimizer': optimizer, 'loss_fn':loss_fn,'train_acc_metric': train_acc_metric,\n",
    "               'val_acc_metric': val_acc_metric, 'metrics': metrics,'callbacks': callbacks}\n",
    "    \n",
    "    return metrics\n",
    "        "
   ]
  },
  {
   "cell_type": "code",
   "execution_count": 146,
   "id": "4ea4508f",
   "metadata": {},
   "outputs": [],
   "source": [
    "def splitDataset(p, run, dataset, path_imagenes, products, times,val_split= 0.2):\n",
    "    #Dataset de etnrenamiento\n",
    "    if p['dataset']:\n",
    "        train, test = train_test_split(dataset.sample(frac=p['dataset']), test_size=val_split, shuffle=True)\n",
    "    else:\n",
    "        train, test = train_test_split(dataset, test_size=val_split, shuffle=True)\n",
    "    print(f'Tamaño del dataset: Train {len(train)}  - Val {len(test)}')\n",
    "    \n",
    "    inputsList = {}\n",
    "    for inp in p['inputs']:\n",
    "        inputsList[inp] = train[inp].tolist()\n",
    "        \n",
    "       \n",
    "        \n",
    "    train_dataset = tf.data.Dataset.from_tensor_slices(((inputsList),train[p['outputs']].tolist()))           \n",
    "    val_dataset = tf.data.Dataset.from_tensor_slices(((inputsList),train[p['outputs']].tolist()))     \n",
    "    \n",
    "    train_dataset = train_dataset.map(lambda x ,y : read_png_file(x,y,p,run,path_imagenes,products,times))\n",
    "    val_dataset = val_dataset.map(lambda x ,y : read_png_file(x,y,p,run,path_imagenes,products,times))\n",
    "    \n",
    "    train_dataset = train_dataset.batch(p['batch'])#.cache().prefetch(tf.data.AUTOTUNE)\n",
    "    val_dataset = val_dataset.batch(p['batch'])#.prefetch(tf.data.AUTOTUNE)  \n",
    "    \n",
    "    return train_dataset, val_dataset"
   ]
  },
  {
   "cell_type": "code",
   "execution_count": 147,
   "id": "86a7caac",
   "metadata": {},
   "outputs": [],
   "source": [
    "def trainModel(params,dataset,path_imagenes, path_base ,products, times, graficos=0,val_split=0.2,):\n",
    "        \n",
    "    config = dict(learning_rate=params['lr'], epochs = params['epocas'],\n",
    "                     batch_size =params['batch'],architecture=\"CNN\",)\n",
    "    resultados = [] \n",
    "    for run in range(params['runs']):       \n",
    "        print('--------------------------------------------------')\n",
    "        print(f'Inicio de la prueba N°: {run+1}/{params[\"runs\"]}') \n",
    "        \n",
    "        #Metricas y parametros de entrenaiento\n",
    "        metricas = getMetrics(params['outputs'], params['lr'], params['paciencia'])         \n",
    "\n",
    "        #Modelo \n",
    "        model = crearModelo(params,run)        \n",
    "        model.compile(optimizer=metricas['optimizer'],loss=metricas['loss_fn'],metrics=metricas['metrics'],)\n",
    "    \n",
    "        #Dataset        \n",
    "        train_dataset, val_dataset = splitDataset(params,run, dataset, path_imagenes, products, times, val_split)\n",
    "                \n",
    "        \n",
    "               \n",
    "        #print(f'- Cantidad de dataset {len(train_dataset) * params[\"batch\"]}')\n",
    "        print(f'- Batch size:  {params[\"batch\"]}')\n",
    "    \n",
    "        \n",
    "        idModel = datetime.today().strftime(\"%Y%m%d_%H%M%S\")\n",
    "        checkpoint_path = f'{path_base}/Archivos/Modelos/Model_{params[\"outputs\"]}_{idModel}.hdf5' \n",
    "\n",
    "        # Create a callback that saves the model's weights\n",
    "        cp_callback = tf.keras.callbacks.ModelCheckpoint(filepath=checkpoint_path,\n",
    "                                                         save_weights_only=True,\n",
    "                                                         verbose=1)\n",
    "\n",
    "        if graficos:\n",
    "            metricas['callbacks'].append(cp_callback)\n",
    "            wandb.init(project=f'TesisDiegoV4({params[\"outputs\"]}-{len(params[\"inputs\"])})',\n",
    "                       config=config,\n",
    "                       name= f'Ex({params[\"canales\"][run]}-{params[\"tiempos\"][run]}-{params[\"margen\"][run]})_{idModel}')             \n",
    "            metricas['callbacks'].append(WandbCallback(save_weights_only=True))\n",
    "        \n",
    "        \n",
    "        #Entrenamos\n",
    "        history = model.fit(train_dataset,batch_size=params['batch'],                            \n",
    "                            epochs=params['epocas'],callbacks=metricas['callbacks'],\n",
    "                            validation_data=val_dataset,\n",
    "                            validation_batch_size=params['batch'],verbose=1)\n",
    "          \n",
    "        resultados.append(history.history)\n",
    "        \n",
    "        if graficos:\n",
    "            stats =  getModelStats(idModel,params,run,len(train_dataset),len(val_dataset))        \n",
    "            fout = f'{path_base}/Archivos/Modelos/Stats_{params[\"outputs\"]}_{idModel}.xlsx'\n",
    "            with pd.ExcelWriter(fout, mode='w') as writer:        \n",
    "                pd.DataFrame(stats, index= [0]).to_excel(writer,startrow=0, sheet_name='Estadisticas')     \n",
    "                pd.DataFrame(history.history).to_excel(writer,startrow=5, sheet_name='Estadisticas')\n",
    "                        \n",
    "            wandb.finish()\n",
    "   \n",
    "    return resultados"
   ]
  },
  {
   "cell_type": "code",
   "execution_count": 148,
   "id": "12ab1f80",
   "metadata": {},
   "outputs": [],
   "source": [
    "def getModelStats(idModel,params,run,trainLen,valLen):\n",
    "    cpParams = {}\n",
    "    cpParams['ModelID'] = idModel\n",
    "    cpParams['canales'] = params['canales'][run]\n",
    "    cpParams['tiempos'] = params['tiempos'][run]\n",
    "    cpParams['margen'] = params['margen'][run]\n",
    "    cpParams['inputs'] = str(params['inputs'])\n",
    "    cpParams['outputs'] = params['outputs']\n",
    "    cpParams['epocas'] = params['epocas']\n",
    "    cpParams['batch'] = params['batch']\n",
    "    cpParams['lr'] = params['lr']\n",
    "    cpParams['TrainLen'] = trainLen\n",
    "    cpParams['ValLen'] = valLen    \n",
    "    cpParams['lambda'] = params['lambda']\n",
    "    return cpParams    "
   ]
  },
  {
   "cell_type": "code",
   "execution_count": 149,
   "id": "7eac6684",
   "metadata": {},
   "outputs": [
    {
     "data": {
      "text/plain": [
       "'\\nVariables generales\\n'"
      ]
     },
     "execution_count": 149,
     "metadata": {},
     "output_type": "execute_result"
    }
   ],
   "source": [
    "\"\"\"\n",
    "Variables generales\n",
    "\"\"\""
   ]
  },
  {
   "cell_type": "code",
   "execution_count": 150,
   "id": "4f05b6c3",
   "metadata": {},
   "outputs": [],
   "source": [
    "#Variables generales\n",
    "products = ['C07','C08','C13']\n",
    "times  = ['10','20','30','40','50','00']\n",
    "porcentajeCeros = 0.2"
   ]
  },
  {
   "cell_type": "code",
   "execution_count": 151,
   "id": "7a8e08a7",
   "metadata": {},
   "outputs": [
    {
     "data": {
      "text/plain": [
       "'\\nLeemos el dataset completo\\n'"
      ]
     },
     "execution_count": 151,
     "metadata": {},
     "output_type": "execute_result"
    }
   ],
   "source": [
    "\"\"\"\n",
    "Leemos el dataset completo\n",
    "\"\"\""
   ]
  },
  {
   "cell_type": "code",
   "execution_count": 162,
   "id": "2b09fe24",
   "metadata": {},
   "outputs": [
    {
     "name": "stdout",
     "output_type": "stream",
     "text": [
      "Se leera los archivos de datasets...\n",
      "Tiempo tomado: 0.07s\n",
      "+Cantidad de datos leidos 42838\n",
      "\n",
      "Se elimnara los valores nulos y dudosos\n",
      "Tiempo tomado: 0.09s\n",
      "+Cantidad de datos luego de elimnar nulos 42836\n",
      "\n",
      "Se buscara las imagenes satelitales para los datos...\n",
      "0/42836 datos eliminados: No se encontraron los archivos de imagenes satelitales\n",
      "Tiempo tomado en verificar datos: 3.43s\n",
      "Tiempo tomado: 3.52s\n",
      "\n",
      "Se agregara los datos de las estaciones(cordenadas, umbral)...\n",
      "-------> CANTIDAD FINAL DE DATOS :  42836 <--------------\n",
      "Tiempo total: 4.11s\n",
      "CPU times: total: 4.02 s\n",
      "Wall time: 4.13 s\n"
     ]
    },
    {
     "data": {
      "text/html": [
       "<div>\n",
       "<style scoped>\n",
       "    .dataframe tbody tr th:only-of-type {\n",
       "        vertical-align: middle;\n",
       "    }\n",
       "\n",
       "    .dataframe tbody tr th {\n",
       "        vertical-align: top;\n",
       "    }\n",
       "\n",
       "    .dataframe thead th {\n",
       "        text-align: right;\n",
       "    }\n",
       "</style>\n",
       "<table border=\"1\" class=\"dataframe\">\n",
       "  <thead>\n",
       "    <tr style=\"text-align: right;\">\n",
       "      <th></th>\n",
       "      <th>Unnamed: 0</th>\n",
       "      <th>nombre</th>\n",
       "      <th>codigo</th>\n",
       "      <th>XO</th>\n",
       "      <th>XA</th>\n",
       "      <th>longitud</th>\n",
       "      <th>latitud</th>\n",
       "      <th>altura</th>\n",
       "      <th>dato</th>\n",
       "      <th>90%</th>\n",
       "      <th>99%</th>\n",
       "      <th>75%</th>\n",
       "      <th>fecha</th>\n",
       "      <th>flag</th>\n",
       "      <th>flagV2</th>\n",
       "      <th>imagen</th>\n",
       "      <th>clase</th>\n",
       "    </tr>\n",
       "  </thead>\n",
       "  <tbody>\n",
       "    <tr>\n",
       "      <th>30141</th>\n",
       "      <td>30141</td>\n",
       "      <td>INTIHUATANA M</td>\n",
       "      <td>472852EE</td>\n",
       "      <td>610</td>\n",
       "      <td>811</td>\n",
       "      <td>-72.56050</td>\n",
       "      <td>-13.22431</td>\n",
       "      <td>1780.0</td>\n",
       "      <td>0.8</td>\n",
       "      <td>0.2</td>\n",
       "      <td>4.800</td>\n",
       "      <td>0.0</td>\n",
       "      <td>2021-12-06-13</td>\n",
       "      <td>C0000002</td>\n",
       "      <td>D02</td>\n",
       "      <td>610--811--2021-12-06-13</td>\n",
       "      <td>1</td>\n",
       "    </tr>\n",
       "    <tr>\n",
       "      <th>4653</th>\n",
       "      <td>4653</td>\n",
       "      <td>COSPAN</td>\n",
       "      <td>472D4658</td>\n",
       "      <td>278</td>\n",
       "      <td>489</td>\n",
       "      <td>-78.54106</td>\n",
       "      <td>-7.42856</td>\n",
       "      <td>2423.0</td>\n",
       "      <td>0.0</td>\n",
       "      <td>0.1</td>\n",
       "      <td>2.747</td>\n",
       "      <td>0.0</td>\n",
       "      <td>2021-12-28-00</td>\n",
       "      <td>C0000002</td>\n",
       "      <td>C01</td>\n",
       "      <td>278--489--2021-12-28-00</td>\n",
       "      <td>1</td>\n",
       "    </tr>\n",
       "  </tbody>\n",
       "</table>\n",
       "</div>"
      ],
      "text/plain": [
       "       Unnamed: 0         nombre    codigo   XO   XA  longitud   latitud  \\\n",
       "30141       30141  INTIHUATANA M  472852EE  610  811 -72.56050 -13.22431   \n",
       "4653         4653         COSPAN  472D4658  278  489 -78.54106  -7.42856   \n",
       "\n",
       "       altura  dato  90%    99%  75%          fecha      flag flagV2  \\\n",
       "30141  1780.0   0.8  0.2  4.800  0.0  2021-12-06-13  C0000002    D02   \n",
       "4653   2423.0   0.0  0.1  2.747  0.0  2021-12-28-00  C0000002    C01   \n",
       "\n",
       "                        imagen  clase  \n",
       "30141  610--811--2021-12-06-13      1  \n",
       "4653   278--489--2021-12-28-00      1  "
      ]
     },
     "execution_count": 162,
     "metadata": {},
     "output_type": "execute_result"
    }
   ],
   "source": [
    "%%time\n",
    "#Vamos a unir los dos datasets y limpiarlos\n",
    "dsCompleto, no_fecha = limpiarDatos(listDataset, path_imagenes, products, times ,0,1)\n",
    "\n",
    "#Agregamos el umbral al dataset\n",
    "dsCompleto.head(2)"
   ]
  },
  {
   "cell_type": "code",
   "execution_count": 153,
   "id": "04effa47",
   "metadata": {},
   "outputs": [
    {
     "data": {
      "text/plain": [
       "'\\nAnalizamos el dataset\\n'"
      ]
     },
     "execution_count": 153,
     "metadata": {},
     "output_type": "execute_result"
    }
   ],
   "source": [
    "\"\"\"\n",
    "Analizamos el dataset\n",
    "\"\"\""
   ]
  },
  {
   "cell_type": "code",
   "execution_count": 163,
   "id": "91d57682",
   "metadata": {},
   "outputs": [],
   "source": [
    "#Limitamos el dataset\n",
    "_dataset = dsCompleto\n",
    "\n",
    "#Equilibramos el dataset con ceros y no ceros\n",
    "ds0 = dataset[dataset['dato']==0]\n",
    "ds1 = dataset[dataset['dato']!=0]\n"
   ]
  },
  {
   "cell_type": "code",
   "execution_count": 155,
   "id": "d88b028c",
   "metadata": {},
   "outputs": [
    {
     "data": {
      "text/plain": [
       "33372"
      ]
     },
     "execution_count": 155,
     "metadata": {},
     "output_type": "execute_result"
    }
   ],
   "source": [
    "#_dataset = ds1#pd.concat([ds0,ds1,ds_.sample(n=int(len(ds0))], ignore_index=True) \n",
    "#len(_dataset)"
   ]
  },
  {
   "cell_type": "code",
   "execution_count": 172,
   "id": "6407db60",
   "metadata": {},
   "outputs": [
    {
     "name": "stdout",
     "output_type": "stream",
     "text": [
      "           ESTADISCIAS DEL DS_2 \n",
      "\n",
      "Flags       : ['C0000002' 'M0000002']\n",
      "Estaciones  : 153\n",
      "Totales     : 42836\n",
      "Ceros       : 9464\n",
      "Clase 0(M02): 2773\n",
      "Clase 1(C02): 40063\n",
      "Maximo      : 337.5\n",
      "Media       : 1.4610234382295264\n",
      "STD         : 7.230645935052226\n"
     ]
    },
    {
     "data": {
      "text/plain": [
       "<AxesSubplot:>"
      ]
     },
     "execution_count": 172,
     "metadata": {},
     "output_type": "execute_result"
    },
    {
     "data": {
      "image/png": "[encoded data removed]",
      "text/plain": [
       "<Figure size 432x288 with 1 Axes>"
      ]
     },
     "metadata": {
      "needs_background": "light"
     },
     "output_type": "display_data"
    }
   ],
   "source": [
    "print('           ESTADISCIAS DEL DS_2 \\n')\n",
    "\n",
    "print(f'Flags       : {_dataset[\"flag\"].unique()}')\n",
    "print(f'Estaciones  : {len(_dataset[\"codigo\"].unique())}')\n",
    "print(f'Totales     : {_dataset[\"dato\"].count()}')\n",
    "print(f'Ceros       : {_dataset[_dataset[\"dato\"]==0][\"dato\"].count()}')\n",
    "print(f'Clase 0(M02): {_dataset[_dataset[\"flag\"]==\"M0000002\"][\"dato\"].count()}')\n",
    "print(f'Clase 1(C02): {_dataset[_dataset[\"flag\"]==\"C0000002\"][\"dato\"].count()}')\n",
    "print(f'Maximo      : {_dataset[\"dato\"].max()}')\n",
    "print(f'Media       : {_dataset[\"dato\"].mean()}')\n",
    "print(f'STD         : {_dataset[\"dato\"].std()}')\n",
    "\n",
    "#_dataset[_dataset[\"dato\"]!=0][\"dato\"].hist(legend=True)\n",
    "#_dataset[_dataset[\"dato\"]>1][\"dato\"].hist(legend=True)\n",
    "_dataset['flag'].hist(legend=True)"
   ]
  },
  {
   "cell_type": "code",
   "execution_count": 157,
   "id": "58d3f532",
   "metadata": {},
   "outputs": [
    {
     "name": "stdout",
     "output_type": "stream",
     "text": [
      "\n"
     ]
    },
    {
     "data": {
      "text/plain": [
       "<AxesSubplot:>"
      ]
     },
     "execution_count": 157,
     "metadata": {},
     "output_type": "execute_result"
    },
    {
     "data": {
      "image/png": "[encoded data removed]",
      "text/plain": [
       "<Figure size 432x288 with 1 Axes>"
      ]
     },
     "metadata": {
      "needs_background": "light"
     },
     "output_type": "display_data"
    }
   ],
   "source": [
    "print('')\n",
    "_dataset[_dataset[\"dato\"]!=0][\"dato\"].hist(legend=True)"
   ]
  },
  {
   "cell_type": "code",
   "execution_count": 158,
   "id": "56266153",
   "metadata": {},
   "outputs": [
    {
     "data": {
      "text/plain": [
       "19724"
      ]
     },
     "execution_count": 158,
     "metadata": {},
     "output_type": "execute_result"
    }
   ],
   "source": [
    "_dataset[(_dataset[\"dato\"]>0) & (_dataset[\"dato\"]<1)][\"dato\"].count()"
   ]
  },
  {
   "cell_type": "code",
   "execution_count": 159,
   "id": "b9ce9bf5",
   "metadata": {},
   "outputs": [
    {
     "data": {
      "text/plain": [
       "True"
      ]
     },
     "execution_count": 159,
     "metadata": {},
     "output_type": "execute_result"
    }
   ],
   "source": [
    "import wandb\n",
    "from wandb.keras import WandbCallback\n",
    "wandb.login()\n"
   ]
  },
  {
   "cell_type": "code",
   "execution_count": 160,
   "id": "f89085a4",
   "metadata": {},
   "outputs": [],
   "source": [
    "\"\"\"\n",
    "# Definimos las varibles para las iteraciones\n",
    "Los parametros que van a cambiar son:\n",
    "- Canales (products)\n",
    "- Tiempos (Min de las imagenes)\n",
    "- margen\n",
    "\"\"\"\n",
    "params = {'inputs'   : ['imagen'],\n",
    "          'outputs'  : 'dato',  #umbral o dato/lambda\n",
    "          'lambda'   : 0,\n",
    "          'lr'       : 0.001,\n",
    "          'batch'    : 32,        \n",
    "          'dataset'  : 1,\n",
    "          'epocas'   : 10,          \n",
    "          'paciencia': 4,\n",
    "          'canales'  : [3,2,3,2,3,2],\n",
    "          'tiempos'  : [6,6,1,1,6,6],\n",
    "          'margen'   : [30,30,30,20,20,20],\n",
    "          'runs'     : 6\n",
    "         }"
   ]
  },
  {
   "cell_type": "code",
   "execution_count": 161,
   "id": "9e061cd5",
   "metadata": {},
   "outputs": [
    {
     "name": "stdout",
     "output_type": "stream",
     "text": [
      "CPU times: total: 0 ns\n",
      "Wall time: 0 ns\n"
     ]
    }
   ],
   "source": [
    "%%time\n",
    "#Solo imagenes (dato)\n",
    "#resultados = trainModel(params,_dataset,path_imagenes,path_base,products,times, graficos=1)"
   ]
  },
  {
   "cell_type": "code",
   "execution_count": null,
   "id": "635f0f49",
   "metadata": {},
   "outputs": [],
   "source": []
  }
 ],
 "metadata": {
  "kernelspec": {
   "display_name": "Python 3 (ipykernel)",
   "language": "python",
   "name": "python3"
  },
  "language_info": {
   "codemirror_mode": {
    "name": "ipython",
    "version": 3
   },
   "file_extension": ".py",
   "mimetype": "text/x-python",
   "name": "python",
   "nbconvert_exporter": "python",
   "pygments_lexer": "ipython3",
   "version": "3.9.11"
  }
 },
 "nbformat": 4,
 "nbformat_minor": 5
}
