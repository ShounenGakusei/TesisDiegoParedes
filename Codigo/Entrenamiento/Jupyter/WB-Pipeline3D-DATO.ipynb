{
 "cells": [
  {
   "cell_type": "code",
   "execution_count": 1,
   "id": "4390427c",
   "metadata": {},
   "outputs": [],
   "source": [
    "#!pip uninstall visualkeras"
   ]
  },
  {
   "cell_type": "code",
   "execution_count": 2,
   "id": "0a785bae",
   "metadata": {},
   "outputs": [],
   "source": [
    "#!pip install scikit-learn"
   ]
  },
  {
   "cell_type": "code",
   "execution_count": 3,
   "id": "f61bb80e",
   "metadata": {},
   "outputs": [],
   "source": [
    "#!pip install tensorflow-gpu"
   ]
  },
  {
   "cell_type": "code",
   "execution_count": 4,
   "id": "10d75a45",
   "metadata": {},
   "outputs": [],
   "source": [
    "#!pip install pandas"
   ]
  },
  {
   "cell_type": "code",
   "execution_count": 5,
   "id": "16753280",
   "metadata": {},
   "outputs": [],
   "source": [
    "#!pip install wandb"
   ]
  },
  {
   "cell_type": "code",
   "execution_count": 6,
   "id": "14b53b24",
   "metadata": {},
   "outputs": [],
   "source": [
    "#!pip install numpy"
   ]
  },
  {
   "cell_type": "code",
   "execution_count": 7,
   "id": "4fa034e9",
   "metadata": {},
   "outputs": [],
   "source": [
    "#!pip install openpyxl"
   ]
  },
  {
   "cell_type": "code",
   "execution_count": 1,
   "id": "443f8291",
   "metadata": {},
   "outputs": [],
   "source": [
    "#Manejo de Datos\n",
    "import numpy as np\n",
    "import pandas as pd\n",
    "import matplotlib.pyplot as plt\n",
    "\n",
    "\n",
    "#Machine learning\n",
    "import tensorflow as tf\n",
    "from tensorflow import keras\n",
    "from tensorflow.keras import datasets, layers, models\n",
    "from tensorflow.keras.callbacks import Callback\n",
    "\n",
    "from sklearn.model_selection import train_test_split\n",
    "from sklearn.utils import shuffle\n",
    "\n",
    "#Librerias estandar (Extras)\n",
    "import re\n",
    "import os\n",
    "import time\n",
    "import random\n",
    "from datetime import datetime"
   ]
  },
  {
   "cell_type": "code",
   "execution_count": 2,
   "id": "ca3336ee",
   "metadata": {},
   "outputs": [],
   "source": [
    "\"\"\"\n",
    "DIRECTORIOS DEL PROYECTO\n",
    "\"\"\"\n",
    "path_base = 'C:/Users/Shounen/Desktop/Ciclo XI/Tesis 2/GPUTesis'   # Directorio del proyecto\n",
    "path_imagenes = 'F:/GOES/'                                         # Directorio de las imagenes procesadas\n",
    "listDataset = [f'{path_base}/Archivos/Dataset/datasetMuestra.csv']          # Directorio(s) de los datos de precipitacion"
   ]
  },
  {
   "cell_type": "code",
   "execution_count": 3,
   "id": "d868194e",
   "metadata": {},
   "outputs": [
    {
     "name": "stdout",
     "output_type": "stream",
     "text": [
      "Python 3.9.11\n",
      "2.8.0\n",
      "Num GPUs Available:  1\n"
     ]
    }
   ],
   "source": [
    "!python --version\n",
    "print(tf. __version__)\n",
    "print(\"Num GPUs Available: \", len(tf.config.list_physical_devices('GPU')))\n",
    "\n",
    "#Limitamos el GPU, en caso se necesite\n",
    "gpus = tf.config.list_physical_devices('GPU')\n",
    "tf.config.experimental.set_virtual_device_configuration(gpus[0],\n",
    "                                                        [tf.config.experimental.VirtualDeviceConfiguration(memory_limit=4096)])"
   ]
  },
  {
   "cell_type": "code",
   "execution_count": 4,
   "id": "4728b8d6",
   "metadata": {},
   "outputs": [],
   "source": [
    "#conda list cudnn"
   ]
  },
  {
   "cell_type": "code",
   "execution_count": 5,
   "id": "eabc4c9b",
   "metadata": {},
   "outputs": [],
   "source": [
    "#conda list cudatoolkit"
   ]
  },
  {
   "cell_type": "code",
   "execution_count": 6,
   "id": "cc2ddc8c",
   "metadata": {},
   "outputs": [
    {
     "data": {
      "text/plain": [
       "'\\nMetodos para realizar el entrenamient - evaluacion del modelo\\n'"
      ]
     },
     "execution_count": 6,
     "metadata": {},
     "output_type": "execute_result"
    }
   ],
   "source": [
    "\"\"\"\n",
    "Metodos para realizar el entrenamient - evaluacion del modelo\n",
    "\"\"\""
   ]
  },
  {
   "cell_type": "code",
   "execution_count": 7,
   "id": "830b35d0",
   "metadata": {},
   "outputs": [],
   "source": [
    "\n",
    "#Lee el archivo \"filename\" de datos de precipitacion y\n",
    "#regresa un df que facilite la lectura del dataset para el entrenmaiento\n",
    "def obtenerDatos(filename):\n",
    "    start_time = time.time()\n",
    "    pdata = pd.read_csv(filename)\n",
    "    \n",
    "    # Quitamos los valores NA\n",
    "    pdata = pdata[pdata['dato'].notna()]\n",
    "\n",
    "    # Definimos un solo tipo (str) pora asi poder convertirlo a tensor\n",
    "    pdata = pdata.astype({\"dato\": str, \"XO\": str, \"XA\": str, \"fecha\": str})\n",
    "\n",
    "    #Definimos la nueva columna para guardar el XO, XA y fecha\n",
    "    pdata['imagen'] = pdata.apply(obtenerDir, axis=1)\n",
    "\n",
    "    # Seleccionamos solo las columnas necesarias :\n",
    "    # precipitacion, Estacion (Longitud), Estacion (Latitud), Fecha (año-mes-dia-hora)\n",
    "    #pdataX = pdata.loc[:, ['dato','umbral','altura', 'imagen', 'fecha']]\n",
    "    pdata = pdata.astype({\"dato\": str, \"umbral\": str, \"altura\": str, \"imagen\": str, \"fecha\": str})\n",
    "\n",
    "    # Barajeamos los datos\n",
    "    pdata = shuffle(pdata)\n",
    "\n",
    "    print(f'{len(pdata)} datos leidos')\n",
    "    print(\"Tiempo tomado en leer datos: %.2fs\" % (time.time() - start_time))\n",
    "    return pdata"
   ]
  },
  {
   "cell_type": "code",
   "execution_count": 8,
   "id": "f6bfeeb8",
   "metadata": {},
   "outputs": [],
   "source": [
    "\n",
    "# Devuelve una lista con lo indices que no se encontraron lso archivos y el producto\n",
    "# Servira para ver si se teinen todas los frames de la fecha\n",
    "def comprobarFrames(dfOrignial, path_base, products, times, delete=1):\n",
    "    \n",
    "    #dfOrignial = obtenerDatos(datafile)\n",
    "    \n",
    "    \n",
    "    start_time = time.time()\n",
    "    \n",
    "    dfTotal = pd.unique(dfOrignial['fecha'])\n",
    "    no_fecha = []\n",
    "    for fecha in dfTotal:\n",
    "        year, month, day, hour = fecha.split('-')\n",
    "        existe = True\n",
    "        for p in products:\n",
    "            for t in range(len(times)):             \n",
    "                filename = f'{path_base}PNG/{fecha}/{fecha}_{t}.png'\n",
    "                try:                    \n",
    "                    file_size = os.path.getsize(filename)\n",
    "                    existe = file_size > 4100000\n",
    "                except: \n",
    "                    existe = False\n",
    "                    break\n",
    "                \n",
    "            if not existe:\n",
    "                break\n",
    "        if not existe:\n",
    "            no_fecha.append(fecha)\n",
    "            \n",
    "\n",
    "    if delete:\n",
    "        antes = len(dfOrignial)\n",
    "        df2 = dfOrignial[~dfOrignial['fecha'].isin(no_fecha)]\n",
    "        despues = len(df2)\n",
    "        print(f'{antes - despues}/{antes} datos eliminados: No se encontraron los archivos de imagenes satelitales')\n",
    "    else:\n",
    "        df2 = dfOrignial\n",
    "\n",
    "    print(\"Tiempo tomado en verificar datos: %.2fs\" % (time.time() - start_time))\n",
    "    return df2, no_fecha"
   ]
  },
  {
   "cell_type": "code",
   "execution_count": 9,
   "id": "aeb4b95c",
   "metadata": {},
   "outputs": [],
   "source": [
    "#Del dataset guardamos los datos mas importantes en una columna para facilitar su lectura\n",
    "def obtenerDir(row):\n",
    "    fecha = row['fecha']\n",
    "\n",
    "    year, month, day, hour = fecha.split('-')\n",
    "    # filename = f'{path_base}comprimido/{year}_{month}_{day}/{hour}/'\n",
    "    return f\"{row['XO']}--{row['XA']}--{fecha}\""
   ]
  },
  {
   "cell_type": "code",
   "execution_count": 10,
   "id": "6b17ad44",
   "metadata": {},
   "outputs": [],
   "source": [
    "def limpiarDatos(listNames, path_imagenes, products, times ,ceros = 0.0 ,delete=1):\n",
    "    df = []\n",
    "    start_time = time.time()\n",
    "    print(f'Se leera los archivos de datasets...')\n",
    "    for name in listNames:\n",
    "        try:\n",
    "            df.append(pd.read_csv(name))   \n",
    "        except:\n",
    "            print(f'No se pudo leer el archivo {name} de dataset')\n",
    "            return -1\n",
    "        \n",
    "    if len(df)>2:\n",
    "        dsCompleto =  pd.concat(df, ignore_index=True) \n",
    "    else:\n",
    "        dsCompleto =  df[0]\n",
    "        \n",
    "    print(\"Tiempo tomado: %.2fs\" % (time.time() - start_time))\n",
    "    print(f'+Cantidad de datos leidos {len(dsCompleto)}')\n",
    "    \n",
    "    # Quitamos los NA valores\n",
    "    print(f'\\nSe elimnara los valores nulos y dudosos')\n",
    "    dsCompleto.dropna(subset=['dato'], axis='index', inplace=True)    \n",
    "    dsCompleto = dsCompleto[dsCompleto['flag']!='ND']\n",
    "    dsCompleto = dsCompleto[dsCompleto['flag'].isin(['C0000001','C0000002'])]\n",
    "    print(\"Tiempo tomado: %.2fs\" % (time.time() - start_time))\n",
    "    print(f'+Cantidad de datos luego de elimnar nulos {len(dsCompleto)}')\n",
    "              \n",
    "    \n",
    "    # Buscamos imagenes satelitales para lso archivos\n",
    "    print(f'\\nSe buscara las imagenes satelitales para los datos...')\n",
    "    dfImagenes, no_fecha = comprobarFrames(dsCompleto, path_imagenes, products, times, delete)    \n",
    "    print(\"Tiempo tomado: %.2fs\" % (time.time() - start_time))\n",
    "       \n",
    "        \n",
    "        \n",
    "    #Limitamos la cantidad de ceros\n",
    "    if ceros:\n",
    "        print(f'\\nSe limitara el numero de ceros al {ceros*100:.2f} porciento...')\n",
    "        dsNoNulo = dfImagenes[dfImagenes['dato']!=0]\n",
    "        dsNulo = dfImagenes[dfImagenes['dato']==0]\n",
    "        dsNulo = dsNulo.sample(n=int(ceros*len(dsNoNulo)))        \n",
    "        dfImagenes = pd.concat([dsNoNulo,dsNulo], ignore_index=True) \n",
    "        print(f'+Cantidad de datos luego de limtar ceros {len(dfImagenes)}')\n",
    "    \n",
    "    #Agregamos lso datos de las estaciones al dataset\n",
    "    print(f'\\nSe agregara los datos de las estaciones(cordenadas, umbral)...')\n",
    "    dfImagenes['imagen'] = dfImagenes.apply(obtenerDir, axis=1)        \n",
    "    print(f'-------> CANTIDAD FINAL DE DATOS :  {len(dfImagenes)} <--------------')  \n",
    "    print(\"Tiempo total: %.2fs\" % (time.time() - start_time))\n",
    "    return shuffle(dfImagenes), no_fecha"
   ]
  },
  {
   "cell_type": "code",
   "execution_count": 11,
   "id": "1715a3d6",
   "metadata": {},
   "outputs": [],
   "source": [
    "def crearModelo2D(p,run):    \n",
    "    print(f\"Creadno modelo con input ({p['margen'][run]},{p['margen'][run]},{p['canales'][run]})) tipo ({p['outputs']})\")\n",
    "    # Imagen\n",
    "    input_1 = tf.keras.layers.Input(shape=(p['margen'][run],p['margen'][run],p['canales'][run]))\n",
    "    \n",
    "    # Convulutional layers\n",
    "    rescaling = tf.keras.layers.Rescaling(1./65536)(input_1)\n",
    "    \n",
    "    conv2d_1 = tf.keras.layers.Conv2D(128, kernel_size=3,activation=tf.keras.activations.relu)(rescaling)\n",
    "    mxPool_1 = tf.keras.layers.MaxPooling2D()(conv2d_1)\n",
    "    dropout_1  = tf.keras.layers.Dropout(0.2)(mxPool_1)\n",
    "    \n",
    "    conv2d_2 = tf.keras.layers.Conv2D(64, kernel_size=3,activation=tf.keras.activations.relu)(dropout_1)\n",
    "    mxPool_2 = tf.keras.layers.MaxPooling2D()(conv2d_2)\n",
    "    dropout_2  = tf.keras.layers.Dropout(0.1)(mxPool_2)\n",
    "    \n",
    "    conv2d_3 = tf.keras.layers.Conv2D(32, kernel_size=3,activation=tf.keras.activations.relu)(dropout_1)\n",
    "    mxPool_3 = tf.keras.layers.MaxPooling2D()(conv2d_3)\n",
    "    dropout_3  = tf.keras.layers.Dropout(0.2)(mxPool_3)\n",
    "    \n",
    "    conv2d_4 = tf.keras.layers.Conv2D(64, kernel_size=3,activation=tf.keras.activations.relu)(dropout_3)\n",
    "    mxPool_4 = tf.keras.layers.MaxPooling2D()(conv2d_4)\n",
    "    dropout_4  = tf.keras.layers.Dropout(0.2)(mxPool_4)\n",
    "    \n",
    "    conv2d_5 = tf.keras.layers.Conv2D(32, kernel_size=3,activation=tf.keras.activations.relu)(dropout_4)\n",
    "    \n",
    "    \n",
    "    # Flatten layer :\n",
    "    flatten = tf.keras.layers.Flatten()(conv2d_5)\n",
    "    \n",
    "    final = flatten\n",
    "    listConcat = [flatten]\n",
    "    listInputs = [input_1]\n",
    "    \n",
    "    if len(p['inputs'])>1:\n",
    "        #Agregamos los otros atrbutos        \n",
    "        for attr in p['inputs'][1:]:\n",
    "            # The other input\n",
    "            input_x = tf.keras.layers.Input(shape=(1,))\n",
    "            listConcat.append(input_x)\n",
    "            listInputs.append(input_x)\n",
    "\n",
    "            \n",
    "        # Concatenate\n",
    "        final = tf.keras.layers.Concatenate()(listConcat)\n",
    "        \n",
    "    dense_1 = tf.keras.layers.Dense(units=32, activation=tf.keras.activations.relu)(final)\n",
    "    dense_2 = tf.keras.layers.Dense(units=16, activation=tf.keras.activations.relu)(dense_1)\n",
    "    dense_3 = tf.keras.layers.Dense(units=32, activation=tf.keras.activations.relu)(dense_2)\n",
    "    \n",
    "        \n",
    "    # output\n",
    "    if p['outputs'] == 'dato':\n",
    "        output = tf.keras.layers.Dense(units=1)(dense_3)\n",
    "        dimOutput = 1\n",
    "    elif p['outputs'] == 'umbral':\n",
    "        output = tf.keras.layers.Dense(units=1, activation=tf.keras.activations.sigmoid)(dense_3)\n",
    "        dimOutput = 2\n",
    "    else:\n",
    "        print(f\"No se pudo crear el modelo outputs no esta bien definido {p['outputs']}\")\n",
    "        return -1      \n",
    "    \n",
    "\n",
    "    full_model = tf.keras.Model(inputs=listInputs, outputs=[output])\n",
    "    \n",
    "    print('DONE')\n",
    "    \n",
    "    #print(full_model.summary())\n",
    "    return full_model"
   ]
  },
  {
   "cell_type": "code",
   "execution_count": 12,
   "id": "afbb71c9",
   "metadata": {},
   "outputs": [],
   "source": [
    "def crearModelo3D(p,run):    \n",
    "    print(f\"Creando modelo con input ({p['tiempos'][run]},{p['margen'][run]},{p['margen'][run]},{p['canales'][run]})) y ({p['outputs']})...\")\n",
    "    # Imagen\n",
    "    input_1 = tf.keras.layers.Input(shape=(p['tiempos'][run],p['margen'][run],p['margen'][run],p['canales'][run]))\n",
    "    \n",
    "    # first conv layer :\n",
    "    conv3d_1 = tf.keras.layers.Conv3D(64, kernel_size=3,activation=tf.keras.activations.relu)(input_1)\n",
    "\n",
    "    # Second conv layer :\n",
    "    conv3d_2 = tf.keras.layers.Conv3D(32, kernel_size=3,activation=tf.keras.activations.relu)(conv3d_1)\n",
    "    \n",
    "    # Flatten layer :\n",
    "    flatten = tf.keras.layers.Flatten()(conv3d_2)\n",
    "    \n",
    "    final = flatten\n",
    "    listConcat = [flatten]\n",
    "    listInputs = [input_1]\n",
    "    \n",
    "    if len(p['inputs'])>1:\n",
    "        #Agregamos los otros atrbutos        \n",
    "        for attr in p['inputs'][1:]:\n",
    "            # The other input            \n",
    "            input_x = tf.keras.layers.Input(shape=(1,))\n",
    "            listConcat.append(input_x)\n",
    "            listInputs.append(input_x)\n",
    "            \n",
    "        # Concatenate\n",
    "        final = tf.keras.layers.Concatenate()(listConcat)\n",
    "        \n",
    "        \n",
    "    # output\n",
    "    if p['outputs'] == 'dato':\n",
    "        output = tf.keras.layers.Dense(units=1, activation=tf.keras.activations.softmax)(final)\n",
    "        dimOutput = 1\n",
    "    elif p['outputs'] == 'umbral':\n",
    "        output = tf.keras.layers.Dense(units=2, activation=tf.keras.activations.sigmoid)(final)\n",
    "        dimOutput = 2\n",
    "    else:\n",
    "        print(f\"No se pudo crear el modelo outputs no esta bien definido {p['outputs']}\")\n",
    "        return -1          \n",
    "\n",
    "    full_model = tf.keras.Model(inputs=listInputs, outputs=[output])\n",
    "    \n",
    "    \n",
    "    print('DONE')\n",
    "    #print(full_model.summary())\n",
    "    return full_model"
   ]
  },
  {
   "cell_type": "code",
   "execution_count": 13,
   "id": "afaa1223",
   "metadata": {},
   "outputs": [],
   "source": [
    "def crearModelo(params,run):     \n",
    "    if params['tiempos'][run] == 1:\n",
    "        #Se crea un modelo conv2D\n",
    "        return crearModelo2D(params,run)         \n",
    "    else:\n",
    "        #Se crea un modelo conv3D\n",
    "        #return crearModelo2D(params,run)       \n",
    "        return crearModelo2D(params,run)       "
   ]
  },
  {
   "cell_type": "code",
   "execution_count": 14,
   "id": "209c22c3",
   "metadata": {},
   "outputs": [],
   "source": [
    "#Transformamos un filename tensor en una imagen\n",
    "def read_png_file(item, value, p,run, path_base, products, times):\n",
    "    # imagenData[0] = XO     # imagenData[1] = XA     # imagenData[2] = Fecha\n",
    "    imagenData = tf.strings.split(item['imagen'], sep='--')\n",
    "    size = int(p['margen'][run] / 2)\n",
    "\n",
    "    timeJoin = []\n",
    "    for j in range(p['tiempos'][run]-1,-1,-1):\n",
    "        filename = path_base + 'PNG/' + imagenData[2] + '/' + imagenData[2] + '_' + str(j) + '.png'\n",
    "        \n",
    "        image_string = tf.io.read_file(filename)\n",
    "\n",
    "        img_decoded = tf.io.decode_png(image_string, dtype=tf.uint16, channels=3)\n",
    "        \n",
    "        \n",
    "                \n",
    "        timeJoin.insert(0,img_decoded[int(imagenData[1]) - size:int(imagenData[1]) + size,\n",
    "                                      int(imagenData[0]) - size:int(imagenData[0]) + size,\n",
    "                                      0:p['canales'][run]])\n",
    " \n",
    "        \n",
    "    if p['tiempos'][run]==1:\n",
    "        imagenData = tf.reshape(timeJoin[0],(p['margen'][run],p['margen'][run],p['canales'][run]))\n",
    "    else:\n",
    "        #img = tf.stack(timeJoin, axis=0)\n",
    "        img = tf.reduce_mean( timeJoin , axis=0 )\n",
    "        imagenData = tf.reshape(img,(p['margen'][run],p['margen'][run],p['canales'][run]))\n",
    "        \n",
    "    \n",
    "    \n",
    "    if len(p['inputs']) == 1:\n",
    "        return imagenData, int(value)\n",
    "    \n",
    "    item['imagen'] = imagenData\n",
    "    itemL = []\n",
    "    for inpL in p['inputs']:\n",
    "        itemL.append(item[inpL])\n",
    "    \n",
    "    return tuple(itemL), int(value)"
   ]
  },
  {
   "cell_type": "code",
   "execution_count": 15,
   "id": "db155bb9",
   "metadata": {},
   "outputs": [],
   "source": [
    "def getMetrics(modelType, lr, paciencia):\n",
    "    \n",
    "    if modelType == 'umbral':    \n",
    "        optimizer = keras.optimizers.Adam(learning_rate=lr) \n",
    "        loss_fn=keras.losses.BinaryCrossentropy()       \n",
    "        train_acc_metric = keras.metrics.BinaryCrossentropy()\n",
    "        val_acc_metric = keras.metrics.BinaryCrossentropy()\n",
    "        early_stopping = tf.keras.callbacks.EarlyStopping(monitor=\"val_acc\", patience=paciencia, mode=\"max\")  \n",
    " \n",
    "        \n",
    "        metrics = ['acc', tf.keras.metrics.TruePositives(),\n",
    "                         tf.keras.metrics.TrueNegatives(),\n",
    "                         tf.keras.metrics.FalsePositives(),\n",
    "                         tf.keras.metrics.FalseNegatives()]\n",
    "        \n",
    "\n",
    "    elif modelType == 'dato':\n",
    "        optimizer = keras.optimizers.Adam(learning_rate=lr)\n",
    "        loss_fn=keras.losses.MeanSquaredError()\n",
    "        train_acc_metric = keras.metrics.MeanSquaredError()\n",
    "        val_acc_metric = keras.metrics.MeanSquaredError()\n",
    "        early_stopping = tf.keras.callbacks.EarlyStopping(monitor=\"val_mse\", patience=paciencia, mode=\"max\")                                            \n",
    "        metrics = ['mse']\n",
    "        \n",
    "        \n",
    "    else:\n",
    "        print('No se pudo crear las metricas')\n",
    "        return -1    \n",
    "         \n",
    "        \n",
    "    logs = Callback()\n",
    "    callbacks = [early_stopping, logs]                     \n",
    "        \n",
    "    metrics = {'optimizer': optimizer, 'loss_fn':loss_fn,'train_acc_metric': train_acc_metric,\n",
    "               'val_acc_metric': val_acc_metric, 'metrics': metrics,'callbacks': callbacks}\n",
    "    \n",
    "    return metrics\n",
    "        "
   ]
  },
  {
   "cell_type": "code",
   "execution_count": 16,
   "id": "4ea4508f",
   "metadata": {},
   "outputs": [],
   "source": [
    "def splitDataset(p, run, dataset, path_imagenes, products, times,val_split= 0.2):\n",
    "    #Dataset de etnrenamiento\n",
    "    if p['dataset']:\n",
    "        train, test = train_test_split(dataset.sample(frac=p['dataset']), test_size=val_split, shuffle=True)\n",
    "    else:\n",
    "        train, test = train_test_split(dataset, test_size=val_split, shuffle=True)\n",
    "    print(f'Tamaño del dataset: Train {len(train)}  - Val {len(test)}')\n",
    "    \n",
    "    inputsList = {}\n",
    "    for inp in p['inputs']:\n",
    "        inputsList[inp] = train[inp].tolist()\n",
    "        \n",
    "       \n",
    "        \n",
    "    train_dataset = tf.data.Dataset.from_tensor_slices(((inputsList),train[p['outputs']].tolist()))           \n",
    "    val_dataset = tf.data.Dataset.from_tensor_slices(((inputsList),train[p['outputs']].tolist()))     \n",
    "    \n",
    "    train_dataset = train_dataset.map(lambda x ,y : read_png_file(x,y,p,run,path_imagenes,products,times))\n",
    "    val_dataset = val_dataset.map(lambda x ,y : read_png_file(x,y,p,run,path_imagenes,products,times))\n",
    "    \n",
    "    train_dataset = train_dataset.batch(p['batch'])#.cache().prefetch(tf.data.AUTOTUNE)\n",
    "    val_dataset = val_dataset.batch(p['batch'])#.prefetch(tf.data.AUTOTUNE)  \n",
    "    \n",
    "    return train_dataset, val_dataset"
   ]
  },
  {
   "cell_type": "code",
   "execution_count": 17,
   "id": "86a7caac",
   "metadata": {},
   "outputs": [],
   "source": [
    "def trainModel(params,dataset,path_imagenes, path_base ,products, times, graficos=0,val_split=0.2,):\n",
    "        \n",
    "    config = dict(learning_rate=params['lr'], epochs = params['epocas'],\n",
    "                     batch_size =params['batch'],architecture=\"CNN\",)\n",
    "    resultados = [] \n",
    "    for run in range(params['runs']):       \n",
    "        print('--------------------------------------------------')\n",
    "        print(f'Inicio de la prueba N°: {run+1}/{params[\"runs\"]}') \n",
    "        \n",
    "        #Metricas y parametros de entrenaiento\n",
    "        metricas = getMetrics(params['outputs'], params['lr'], params['paciencia'])         \n",
    "\n",
    "        #Modelo \n",
    "        model = crearModelo(params,run)        \n",
    "        model.compile(optimizer=metricas['optimizer'],loss=metricas['loss_fn'],metrics=metricas['metrics'],)\n",
    "    \n",
    "        #Dataset        \n",
    "        train_dataset, val_dataset = splitDataset(params,run, dataset, path_imagenes, products, times, val_split)\n",
    "                \n",
    "        \n",
    "               \n",
    "        #print(f'- Cantidad de dataset {len(train_dataset) * params[\"batch\"]}')\n",
    "        print(f'- Batch size:  {params[\"batch\"]}')\n",
    "    \n",
    "        \n",
    "        idModel = datetime.today().strftime(\"%Y%m%d_%H%M%S\")\n",
    "        checkpoint_path = f'{path_base}/Archivos/Modelos/Model_{idModel}.hdf5' \n",
    "\n",
    "        # Create a callback that saves the model's weights\n",
    "        cp_callback = tf.keras.callbacks.ModelCheckpoint(filepath=checkpoint_path,\n",
    "                                                         save_weights_only=True,\n",
    "                                                         verbose=1)\n",
    "\n",
    "        if graficos:\n",
    "            metricas['callbacks'].append(cp_callback)\n",
    "            wandb.init(project=f'TesisDiegoV2({params[\"outputs\"]}-{len(params[\"inputs\"])})',\n",
    "                       config=config,\n",
    "                       name= f'Ex-{params[\"dataset\"]}_({params[\"canales\"][run]}-{params[\"tiempos\"][run]}-{params[\"margen\"][run]})_{idModel}')             \n",
    "            metricas['callbacks'].append(WandbCallback(save_weights_only=True))\n",
    "        \n",
    "        \n",
    "        #Entrenamos\n",
    "        history = model.fit(train_dataset,batch_size=params['batch'],                            \n",
    "                            epochs=params['epocas'],callbacks=metricas['callbacks'],\n",
    "                            validation_data=val_dataset,\n",
    "                            validation_batch_size=params['batch'],verbose=1)\n",
    "          \n",
    "        resultados.append(history.history)\n",
    "        \n",
    "        if graficos:\n",
    "            stats =  getModelStats(idModel,params,run,len(train_dataset),len(val_dataset))        \n",
    "            fout = f'{path_base}/Archivos/Modelos/prueba{run}-{params[\"outputs\"]}_{idModel}.xlsx'\n",
    "            with pd.ExcelWriter(fout, mode='w') as writer:        \n",
    "                pd.DataFrame(stats, index= [0]).to_excel(writer,startrow=0, sheet_name='Estadisticas')     \n",
    "                pd.DataFrame(history.history).to_excel(writer,startrow=5, sheet_name='Estadisticas')\n",
    "                        \n",
    "            wandb.finish()\n",
    "   \n",
    "    return resultados"
   ]
  },
  {
   "cell_type": "code",
   "execution_count": 18,
   "id": "12ab1f80",
   "metadata": {},
   "outputs": [],
   "source": [
    "def getModelStats(idModel,params,run,trainLen,valLen):\n",
    "    cpParams = {}\n",
    "    cpParams['ModelID'] = idModel\n",
    "    cpParams['canales'] = params['canales'][run]\n",
    "    cpParams['tiempos'] = params['tiempos'][run]\n",
    "    cpParams['margen'] = params['margen'][run]\n",
    "    cpParams['inputs'] = str(params['inputs'])\n",
    "    cpParams['outputs'] = params['outputs']\n",
    "    cpParams['epocas'] = params['epocas']\n",
    "    cpParams['batch'] = params['batch']\n",
    "    cpParams['lr'] = params['lr']\n",
    "    cpParams['TrainLen'] = trainLen\n",
    "    cpParams['ValLen'] = valLen    \n",
    "    return cpParams    "
   ]
  },
  {
   "cell_type": "code",
   "execution_count": 19,
   "id": "7eac6684",
   "metadata": {},
   "outputs": [
    {
     "data": {
      "text/plain": [
       "'\\nVariables generales\\n'"
      ]
     },
     "execution_count": 19,
     "metadata": {},
     "output_type": "execute_result"
    }
   ],
   "source": [
    "\"\"\"\n",
    "Variables generales\n",
    "\"\"\""
   ]
  },
  {
   "cell_type": "code",
   "execution_count": 20,
   "id": "4f05b6c3",
   "metadata": {},
   "outputs": [],
   "source": [
    "#Variables generales\n",
    "products = ['C07','C08','C13']\n",
    "times  = ['10','20','30','40','50','00']\n",
    "porcentajeCeros = 0.10"
   ]
  },
  {
   "cell_type": "code",
   "execution_count": 21,
   "id": "7a8e08a7",
   "metadata": {},
   "outputs": [
    {
     "data": {
      "text/plain": [
       "'\\nLeemos el dataset completo\\n'"
      ]
     },
     "execution_count": 21,
     "metadata": {},
     "output_type": "execute_result"
    }
   ],
   "source": [
    "\"\"\"\n",
    "Leemos el dataset completo\n",
    "\"\"\""
   ]
  },
  {
   "cell_type": "code",
   "execution_count": 22,
   "id": "2b09fe24",
   "metadata": {},
   "outputs": [
    {
     "name": "stdout",
     "output_type": "stream",
     "text": [
      "Se leera los archivos de datasets...\n",
      "Tiempo tomado: 4.15s\n",
      "+Cantidad de datos leidos 2491134\n",
      "\n",
      "Se elimnara los valores nulos y dudosos\n",
      "Tiempo tomado: 4.98s\n",
      "+Cantidad de datos luego de elimnar nulos 2429896\n",
      "\n",
      "Se buscara las imagenes satelitales para los datos...\n",
      "418254/2429896 datos eliminados: No se encontraron los archivos de imagenes satelitales\n",
      "Tiempo tomado en verificar datos: 28.66s\n",
      "Tiempo tomado: 33.64s\n",
      "\n",
      "Se limitara el numero de ceros al 10.00 porciento...\n",
      "+Cantidad de datos luego de limtar ceros 78915\n",
      "\n",
      "Se agregara los datos de las estaciones(cordenadas, umbral)...\n",
      "-------> CANTIDAD FINAL DE DATOS :  78915 <--------------\n",
      "Tiempo total: 35.54s\n",
      "CPU times: total: 15.5 s\n",
      "Wall time: 35.7 s\n"
     ]
    },
    {
     "data": {
      "text/html": [
       "<div>\n",
       "<style scoped>\n",
       "    .dataframe tbody tr th:only-of-type {\n",
       "        vertical-align: middle;\n",
       "    }\n",
       "\n",
       "    .dataframe tbody tr th {\n",
       "        vertical-align: top;\n",
       "    }\n",
       "\n",
       "    .dataframe thead th {\n",
       "        text-align: right;\n",
       "    }\n",
       "</style>\n",
       "<table border=\"1\" class=\"dataframe\">\n",
       "  <thead>\n",
       "    <tr style=\"text-align: right;\">\n",
       "      <th></th>\n",
       "      <th>Unnamed: 0</th>\n",
       "      <th>nombre</th>\n",
       "      <th>codigo</th>\n",
       "      <th>XO</th>\n",
       "      <th>XA</th>\n",
       "      <th>longitud</th>\n",
       "      <th>latitud</th>\n",
       "      <th>altura</th>\n",
       "      <th>dato</th>\n",
       "      <th>90%</th>\n",
       "      <th>99%</th>\n",
       "      <th>75%</th>\n",
       "      <th>fecha</th>\n",
       "      <th>flag</th>\n",
       "      <th>imagen</th>\n",
       "      <th>umbral</th>\n",
       "    </tr>\n",
       "  </thead>\n",
       "  <tbody>\n",
       "    <tr>\n",
       "      <th>1813</th>\n",
       "      <td>2362853</td>\n",
       "      <td>CHUGUR</td>\n",
       "      <td>4727F484</td>\n",
       "      <td>267</td>\n",
       "      <td>447</td>\n",
       "      <td>-78.73333</td>\n",
       "      <td>-6.66667</td>\n",
       "      <td>2744.0</td>\n",
       "      <td>0.1</td>\n",
       "      <td>0.2</td>\n",
       "      <td>4.512</td>\n",
       "      <td>0.0</td>\n",
       "      <td>2020-10-25-22</td>\n",
       "      <td>C0000001</td>\n",
       "      <td>267--447--2020-10-25-22</td>\n",
       "      <td>0</td>\n",
       "    </tr>\n",
       "    <tr>\n",
       "      <th>48690</th>\n",
       "      <td>2453158</td>\n",
       "      <td>PONGO DE MAINIQUE</td>\n",
       "      <td>112264</td>\n",
       "      <td>595</td>\n",
       "      <td>756</td>\n",
       "      <td>-72.82447</td>\n",
       "      <td>-12.24986</td>\n",
       "      <td>475.0</td>\n",
       "      <td>0.6</td>\n",
       "      <td>0.2</td>\n",
       "      <td>12.120</td>\n",
       "      <td>0.0</td>\n",
       "      <td>2021-06-24-02</td>\n",
       "      <td>C0000002</td>\n",
       "      <td>595--756--2021-06-24-02</td>\n",
       "      <td>0</td>\n",
       "    </tr>\n",
       "  </tbody>\n",
       "</table>\n",
       "</div>"
      ],
      "text/plain": [
       "       Unnamed: 0             nombre    codigo   XO   XA  longitud   latitud  \\\n",
       "1813      2362853             CHUGUR  4727F484  267  447 -78.73333  -6.66667   \n",
       "48690     2453158  PONGO DE MAINIQUE    112264  595  756 -72.82447 -12.24986   \n",
       "\n",
       "       altura  dato  90%     99%  75%          fecha      flag  \\\n",
       "1813   2744.0   0.1  0.2   4.512  0.0  2020-10-25-22  C0000001   \n",
       "48690   475.0   0.6  0.2  12.120  0.0  2021-06-24-02  C0000002   \n",
       "\n",
       "                        imagen  umbral  \n",
       "1813   267--447--2020-10-25-22       0  \n",
       "48690  595--756--2021-06-24-02       0  "
      ]
     },
     "execution_count": 22,
     "metadata": {},
     "output_type": "execute_result"
    }
   ],
   "source": [
    "%%time\n",
    "#Vamos a unir los dos datasets y limpiarlos\n",
    "dsCompleto, no_fecha = limpiarDatos(listDataset, path_imagenes, products, times ,porcentajeCeros,1)\n",
    "\n",
    "#Agregamos el umbral al dataset\n",
    "dsCompleto = dsCompleto[dsCompleto['99%']!=0]\n",
    "dsCompleto['umbral'] = (dsCompleto['dato']>=dsCompleto['99%']).astype(int)\n",
    "dsCompleto.head(2)"
   ]
  },
  {
   "cell_type": "code",
   "execution_count": 23,
   "id": "b9ce9bf5",
   "metadata": {},
   "outputs": [
    {
     "name": "stderr",
     "output_type": "stream",
     "text": [
      "\u001b[34m\u001b[1mwandb\u001b[0m: Currently logged in as: \u001b[33mtesis2\u001b[0m (use `wandb login --relogin` to force relogin)\n"
     ]
    },
    {
     "data": {
      "text/plain": [
       "True"
      ]
     },
     "execution_count": 23,
     "metadata": {},
     "output_type": "execute_result"
    }
   ],
   "source": [
    "import wandb\n",
    "from wandb.keras import WandbCallback\n",
    "wandb.login()\n"
   ]
  },
  {
   "cell_type": "code",
   "execution_count": 24,
   "id": "04effa47",
   "metadata": {},
   "outputs": [
    {
     "data": {
      "text/plain": [
       "'\\nAnalizamos el dataset\\n'"
      ]
     },
     "execution_count": 24,
     "metadata": {},
     "output_type": "execute_result"
    }
   ],
   "source": [
    "\"\"\"\n",
    "Analizamos el dataset\n",
    "\"\"\""
   ]
  },
  {
   "cell_type": "code",
   "execution_count": 25,
   "id": "ecedcdc0",
   "metadata": {},
   "outputs": [],
   "source": [
    "#Limitamos el dataset\n",
    "dataset = dsCompleto#[0:1000]\n",
    "\n",
    "#Equilibramos el dataset con ceros y no ceros\n",
    "ds0 = dataset[dataset['dato']==0]\n",
    "ds_ =  dataset[(dataset['dato']>0) & (dataset['dato'] < 1)]\n",
    "ds1 =  dataset[dataset['dato']>1]"
   ]
  },
  {
   "cell_type": "code",
   "execution_count": 26,
   "id": "d88b028c",
   "metadata": {},
   "outputs": [
    {
     "data": {
      "text/plain": [
       "32074"
      ]
     },
     "execution_count": 26,
     "metadata": {},
     "output_type": "execute_result"
    }
   ],
   "source": [
    "_dataset = pd.concat([ds0,ds1,ds_.sample(n=int(len(ds0)*3/2))], ignore_index=True) \n",
    "len(_dataset)"
   ]
  },
  {
   "cell_type": "code",
   "execution_count": 27,
   "id": "6934d5d1",
   "metadata": {},
   "outputs": [
    {
     "name": "stdout",
     "output_type": "stream",
     "text": [
      "  DATOS MENORES A  10  \n"
     ]
    },
    {
     "data": {
      "text/plain": [
       "<AxesSubplot:>"
      ]
     },
     "execution_count": 27,
     "metadata": {},
     "output_type": "execute_result"
    },
    {
     "data": {
      "image/png": "[encoded data removed]",
      "text/plain": [
       "<Figure size 432x288 with 1 Axes>"
      ]
     },
     "metadata": {
      "needs_background": "light"
     },
     "output_type": "display_data"
    }
   ],
   "source": [
    "print('  DATOS MENORES A  10  ')\n",
    "_dataset[_dataset['dato']<10]['dato'].hist()"
   ]
  },
  {
   "cell_type": "code",
   "execution_count": 28,
   "id": "5b5630f5",
   "metadata": {},
   "outputs": [
    {
     "name": "stdout",
     "output_type": "stream",
     "text": [
      "  DATOS MAYORES A  10  \n"
     ]
    },
    {
     "data": {
      "text/plain": [
       "<AxesSubplot:>"
      ]
     },
     "execution_count": 28,
     "metadata": {},
     "output_type": "execute_result"
    },
    {
     "data": {
      "image/png": "[encoded data removed]",
      "text/plain": [
       "<Figure size 432x288 with 1 Axes>"
      ]
     },
     "metadata": {
      "needs_background": "light"
     },
     "output_type": "display_data"
    }
   ],
   "source": [
    "print('  DATOS MAYORES A  10  ')\n",
    "_dataset[_dataset['dato']>10]['dato'].hist()"
   ]
  },
  {
   "cell_type": "code",
   "execution_count": 29,
   "id": "6407db60",
   "metadata": {},
   "outputs": [
    {
     "name": "stdout",
     "output_type": "stream",
     "text": [
      "           ESTADISCIAS\n",
      "\n",
      "Flags:      ['C0000001' 'C0000002']\n",
      "Estaciones: 171\n",
      "Totales:    32184\n",
      "Atipicos:   6753\n",
      "Ceros:      6114\n"
     ]
    }
   ],
   "source": [
    "print('           ESTADISCIAS\\n')\n",
    "\n",
    "print(f'Flags:      {_dataset[\"flag\"].unique()}')\n",
    "print(f'Estaciones: {len(_dataset[\"codigo\"].unique())}')\n",
    "print(f'Totales:    {_dataset[\"dato\"].count()}')\n",
    "print(f'Atipicos:   {_dataset[_dataset[\"umbral\"]==1][\"dato\"].count()}')\n",
    "print(f'Ceros:      {_dataset[_dataset[\"dato\"]==0][\"dato\"].count()}')"
   ]
  },
  {
   "cell_type": "code",
   "execution_count": 30,
   "id": "f89085a4",
   "metadata": {},
   "outputs": [],
   "source": [
    "\"\"\"\n",
    "# Definimos las varibles para las iteraciones\n",
    "Los parametros que van a cambiar son:\n",
    "- Canales (products)\n",
    "- Tiempos (Min de las imagenes)\n",
    "- margen\n",
    "\"\"\"\n",
    "params = {'inputs'   : ['imagen'],#,'99%', 'altura'],\n",
    "          'outputs'  : 'dato',  #umbral o dato\n",
    "          'lr'       : 0.001,\n",
    "          'batch'    : 32,        \n",
    "          'dataset'  : 1,\n",
    "          'epocas'   : 10,          \n",
    "          'paciencia': 4,\n",
    "          'canales'  : [3,3,3,3,3,3],\n",
    "          'tiempos'  : [1,3,1,3,1,3],\n",
    "          'margen'   : [50,50,110,110,70,70],\n",
    "          'runs'     : 6\n",
    "         }"
   ]
  },
  {
   "cell_type": "code",
   "execution_count": null,
   "id": "ee29c278",
   "metadata": {},
   "outputs": [],
   "source": []
  },
  {
   "cell_type": "code",
   "execution_count": null,
   "id": "028c9780",
   "metadata": {},
   "outputs": [],
   "source": []
  },
  {
   "cell_type": "code",
   "execution_count": null,
   "id": "fa7431dc",
   "metadata": {},
   "outputs": [],
   "source": []
  },
  {
   "cell_type": "code",
   "execution_count": null,
   "id": "7c76d54e",
   "metadata": {},
   "outputs": [],
   "source": []
  },
  {
   "cell_type": "code",
   "execution_count": 38,
   "id": "9e061cd5",
   "metadata": {},
   "outputs": [
    {
     "name": "stdout",
     "output_type": "stream",
     "text": [
      "--------------------------------------------------\n",
      "Inicio de la prueba N°: 1/6\n",
      "Creadno modelo con input (50,50,3)) tipo (dato)\n",
      "DONE\n",
      "Tamaño del dataset: Train 25716  - Val 6430\n",
      "- Batch size:  32\n"
     ]
    },
    {
     "data": {
      "text/html": [
       "wandb version 0.12.14 is available!  To upgrade, please run:\n",
       " $ pip install wandb --upgrade"
      ],
      "text/plain": [
       "<IPython.core.display.HTML object>"
      ]
     },
     "metadata": {},
     "output_type": "display_data"
    },
    {
     "data": {
      "text/html": [
       "Tracking run with wandb version 0.12.11"
      ],
      "text/plain": [
       "<IPython.core.display.HTML object>"
      ]
     },
     "metadata": {},
     "output_type": "display_data"
    },
    {
     "data": {
      "text/html": [
       "Run data is saved locally in <code>C:\\Users\\Shounen\\Desktop\\Ciclo XI\\Tesis 2\\GPUTesis\\Codigo\\Entrenamiento\\Jupyter\\wandb\\run-20220413_221637-kskh1ji1</code>"
      ],
      "text/plain": [
       "<IPython.core.display.HTML object>"
      ]
     },
     "metadata": {},
     "output_type": "display_data"
    },
    {
     "data": {
      "text/html": [
       "Syncing run <strong><a href=\"https://wandb.ai/tesis2/TesisDiegoV2%28dato-1%29/runs/kskh1ji1\" target=\"_blank\">Ex-1_(3-1-50)_20220413_221637</a></strong> to <a href=\"https://wandb.ai/tesis2/TesisDiegoV2%28dato-1%29\" target=\"_blank\">Weights & Biases</a> (<a href=\"https://wandb.me/run\" target=\"_blank\">docs</a>)<br/>"
      ],
      "text/plain": [
       "<IPython.core.display.HTML object>"
      ]
     },
     "metadata": {},
     "output_type": "display_data"
    },
    {
     "name": "stdout",
     "output_type": "stream",
     "text": [
      "Epoch 1/10\n",
      "804/804 [==============================] - ETA: 0s - loss: 11.1770 - mse: 11.1770\n",
      "Epoch 1: saving model to C:/Users/Shounen/Desktop/Ciclo XI/Tesis 2/GPUTesis/Archivos/Modelos\\Model_20220413_221637.hdf5\n",
      "804/804 [==============================] - 417s 510ms/step - loss: 11.1770 - mse: 11.1770 - val_loss: 11.1782 - val_mse: 11.1782 - _timestamp: 1649906624.0000 - _runtime: 427.0000\n",
      "Epoch 2/10\n",
      "804/804 [==============================] - ETA: 0s - loss: 11.0764 - mse: 11.0764\n",
      "Epoch 2: saving model to C:/Users/Shounen/Desktop/Ciclo XI/Tesis 2/GPUTesis/Archivos/Modelos\\Model_20220413_221637.hdf5\n",
      "804/804 [==============================] - 434s 540ms/step - loss: 11.0764 - mse: 11.0764 - val_loss: 11.0365 - val_mse: 11.0365 - _timestamp: 1649907057.0000 - _runtime: 860.0000\n",
      "Epoch 3/10\n",
      "804/804 [==============================] - ETA: 0s - loss: 11.0400 - mse: 11.0400\n",
      "Epoch 3: saving model to C:/Users/Shounen/Desktop/Ciclo XI/Tesis 2/GPUTesis/Archivos/Modelos\\Model_20220413_221637.hdf5\n",
      "804/804 [==============================] - 432s 538ms/step - loss: 11.0400 - mse: 11.0400 - val_loss: 11.0201 - val_mse: 11.0201 - _timestamp: 1649907490.0000 - _runtime: 1293.0000\n",
      "Epoch 4/10\n",
      "804/804 [==============================] - ETA: 0s - loss: 11.0331 - mse: 11.0331\n",
      "Epoch 4: saving model to C:/Users/Shounen/Desktop/Ciclo XI/Tesis 2/GPUTesis/Archivos/Modelos\\Model_20220413_221637.hdf5\n",
      "804/804 [==============================] - 426s 530ms/step - loss: 11.0331 - mse: 11.0331 - val_loss: 11.0192 - val_mse: 11.0192 - _timestamp: 1649907916.0000 - _runtime: 1719.0000\n",
      "Epoch 5/10\n",
      "804/804 [==============================] - ETA: 0s - loss: 11.0302 - mse: 11.0302\n",
      "Epoch 5: saving model to C:/Users/Shounen/Desktop/Ciclo XI/Tesis 2/GPUTesis/Archivos/Modelos\\Model_20220413_221637.hdf5\n",
      "804/804 [==============================] - 425s 529ms/step - loss: 11.0302 - mse: 11.0302 - val_loss: 11.0190 - val_mse: 11.0190 - _timestamp: 1649908341.0000 - _runtime: 2144.0000\n",
      "\n"
     ]
    },
    {
     "data": {
      "text/html": [
       "Waiting for W&B process to finish... <strong style=\"color:green\">(success).</strong>"
      ],
      "text/plain": [
       "<IPython.core.display.HTML object>"
      ]
     },
     "metadata": {},
     "output_type": "display_data"
    },
    {
     "data": {
      "application/vnd.jupyter.widget-view+json": {
       "model_id": "",
       "version_major": 2,
       "version_minor": 0
      },
      "text/plain": [
       "VBox(children=(Label(value='0.355 MB of 0.355 MB uploaded (0.000 MB deduped)\\r'), FloatProgress(value=1.0, max…"
      ]
     },
     "metadata": {},
     "output_type": "display_data"
    },
    {
     "data": {
      "text/html": [
       "<style>\n",
       "    table.wandb td:nth-child(1) { padding: 0 10px; text-align: right }\n",
       "    .wandb-row { display: flex; flex-direction: row; flex-wrap: wrap; width: 100% }\n",
       "    .wandb-col { display: flex; flex-direction: column; flex-basis: 100%; flex: 1; padding: 10px; }\n",
       "    </style>\n",
       "<div class=\"wandb-row\"><div class=\"wandb-col\"><h3>Run history:</h3><br/><table class=\"wandb\"><tr><td>epoch</td><td>▁▃▅▆█</td></tr><tr><td>loss</td><td>█▃▁▁▁</td></tr><tr><td>mse</td><td>█▃▁▁▁</td></tr><tr><td>val_loss</td><td>█▂▁▁▁</td></tr><tr><td>val_mse</td><td>█▂▁▁▁</td></tr></table><br/></div><div class=\"wandb-col\"><h3>Run summary:</h3><br/><table class=\"wandb\"><tr><td>best_epoch</td><td>4</td></tr><tr><td>best_val_loss</td><td>11.01899</td></tr><tr><td>epoch</td><td>4</td></tr><tr><td>loss</td><td>11.03021</td></tr><tr><td>mse</td><td>11.03021</td></tr><tr><td>val_loss</td><td>11.01899</td></tr><tr><td>val_mse</td><td>11.01899</td></tr></table><br/></div></div>"
      ],
      "text/plain": [
       "<IPython.core.display.HTML object>"
      ]
     },
     "metadata": {},
     "output_type": "display_data"
    },
    {
     "data": {
      "text/html": [
       "Synced <strong style=\"color:#cdcd00\">Ex-1_(3-1-50)_20220413_221637</strong>: <a href=\"https://wandb.ai/tesis2/TesisDiegoV2%28dato-1%29/runs/kskh1ji1\" target=\"_blank\">https://wandb.ai/tesis2/TesisDiegoV2%28dato-1%29/runs/kskh1ji1</a><br/>Synced 6 W&B file(s), 1 media file(s), 0 artifact file(s) and 1 other file(s)"
      ],
      "text/plain": [
       "<IPython.core.display.HTML object>"
      ]
     },
     "metadata": {},
     "output_type": "display_data"
    },
    {
     "data": {
      "text/html": [
       "Find logs at: <code>.\\wandb\\run-20220413_221637-kskh1ji1\\logs</code>"
      ],
      "text/plain": [
       "<IPython.core.display.HTML object>"
      ]
     },
     "metadata": {},
     "output_type": "display_data"
    },
    {
     "name": "stdout",
     "output_type": "stream",
     "text": [
      "--------------------------------------------------\n",
      "Inicio de la prueba N°: 2/6\n",
      "Creadno modelo con input (50,50,3)) tipo (dato)\n",
      "DONE\n",
      "Tamaño del dataset: Train 25716  - Val 6430\n",
      "- Batch size:  32\n"
     ]
    },
    {
     "data": {
      "text/html": [
       "wandb version 0.12.14 is available!  To upgrade, please run:\n",
       " $ pip install wandb --upgrade"
      ],
      "text/plain": [
       "<IPython.core.display.HTML object>"
      ]
     },
     "metadata": {},
     "output_type": "display_data"
    },
    {
     "data": {
      "text/html": [
       "Tracking run with wandb version 0.12.11"
      ],
      "text/plain": [
       "<IPython.core.display.HTML object>"
      ]
     },
     "metadata": {},
     "output_type": "display_data"
    },
    {
     "data": {
      "text/html": [
       "Run data is saved locally in <code>C:\\Users\\Shounen\\Desktop\\Ciclo XI\\Tesis 2\\GPUTesis\\Codigo\\Entrenamiento\\Jupyter\\wandb\\run-20220413_225236-1ovs0e2x</code>"
      ],
      "text/plain": [
       "<IPython.core.display.HTML object>"
      ]
     },
     "metadata": {},
     "output_type": "display_data"
    },
    {
     "data": {
      "text/html": [
       "Syncing run <strong><a href=\"https://wandb.ai/tesis2/TesisDiegoV2%28dato-1%29/runs/1ovs0e2x\" target=\"_blank\">Ex-1_(3-3-50)_20220413_225236</a></strong> to <a href=\"https://wandb.ai/tesis2/TesisDiegoV2%28dato-1%29\" target=\"_blank\">Weights & Biases</a> (<a href=\"https://wandb.me/run\" target=\"_blank\">docs</a>)<br/>"
      ],
      "text/plain": [
       "<IPython.core.display.HTML object>"
      ]
     },
     "metadata": {},
     "output_type": "display_data"
    },
    {
     "name": "stdout",
     "output_type": "stream",
     "text": [
      "Epoch 1/10\n",
      "804/804 [==============================] - ETA: 0s - loss: 11.5162 - mse: 11.5162\n",
      "Epoch 1: saving model to C:/Users/Shounen/Desktop/Ciclo XI/Tesis 2/GPUTesis/Archivos/Modelos\\Model_20220413_225236.hdf5\n",
      "804/804 [==============================] - 1269s 2s/step - loss: 11.5162 - mse: 11.5162 - val_loss: 11.4565 - val_mse: 11.4565 - _timestamp: 1649909638.0000 - _runtime: 1281.0000\n",
      "Epoch 2/10\n",
      "804/804 [==============================] - ETA: 0s - loss: 11.4248 - mse: 11.4248\n",
      "Epoch 2: saving model to C:/Users/Shounen/Desktop/Ciclo XI/Tesis 2/GPUTesis/Archivos/Modelos\\Model_20220413_225236.hdf5\n",
      "804/804 [==============================] - 1413s 2s/step - loss: 11.4248 - mse: 11.4248 - val_loss: 11.4428 - val_mse: 11.4428 - _timestamp: 1649911051.0000 - _runtime: 2694.0000\n",
      "Epoch 3/10\n",
      "804/804 [==============================] - ETA: 0s - loss: 11.4188 - mse: 11.4188\n",
      "Epoch 3: saving model to C:/Users/Shounen/Desktop/Ciclo XI/Tesis 2/GPUTesis/Archivos/Modelos\\Model_20220413_225236.hdf5\n",
      "804/804 [==============================] - 1205s 1s/step - loss: 11.4188 - mse: 11.4188 - val_loss: 11.4442 - val_mse: 11.4442 - _timestamp: 1649912256.0000 - _runtime: 3899.0000\n",
      "Epoch 4/10\n",
      "804/804 [==============================] - ETA: 0s - loss: 11.4196 - mse: 11.4196\n",
      "Epoch 4: saving model to C:/Users/Shounen/Desktop/Ciclo XI/Tesis 2/GPUTesis/Archivos/Modelos\\Model_20220413_225236.hdf5\n",
      "804/804 [==============================] - 902s 1s/step - loss: 11.4196 - mse: 11.4196 - val_loss: 11.4424 - val_mse: 11.4424 - _timestamp: 1649913157.0000 - _runtime: 4800.0000\n",
      "Epoch 5/10\n",
      "804/804 [==============================] - ETA: 0s - loss: 11.4129 - mse: 11.4129\n",
      "Epoch 5: saving model to C:/Users/Shounen/Desktop/Ciclo XI/Tesis 2/GPUTesis/Archivos/Modelos\\Model_20220413_225236.hdf5\n",
      "804/804 [==============================] - 921s 1s/step - loss: 11.4129 - mse: 11.4129 - val_loss: 11.4409 - val_mse: 11.4409 - _timestamp: 1649914078.0000 - _runtime: 5721.0000\n",
      "\n"
     ]
    },
    {
     "data": {
      "text/html": [
       "Waiting for W&B process to finish... <strong style=\"color:green\">(success).</strong>"
      ],
      "text/plain": [
       "<IPython.core.display.HTML object>"
      ]
     },
     "metadata": {},
     "output_type": "display_data"
    },
    {
     "data": {
      "application/vnd.jupyter.widget-view+json": {
       "model_id": "",
       "version_major": 2,
       "version_minor": 0
      },
      "text/plain": [
       "VBox(children=(Label(value='0.355 MB of 0.355 MB uploaded (0.000 MB deduped)\\r'), FloatProgress(value=1.0, max…"
      ]
     },
     "metadata": {},
     "output_type": "display_data"
    },
    {
     "data": {
      "text/html": [
       "<style>\n",
       "    table.wandb td:nth-child(1) { padding: 0 10px; text-align: right }\n",
       "    .wandb-row { display: flex; flex-direction: row; flex-wrap: wrap; width: 100% }\n",
       "    .wandb-col { display: flex; flex-direction: column; flex-basis: 100%; flex: 1; padding: 10px; }\n",
       "    </style>\n",
       "<div class=\"wandb-row\"><div class=\"wandb-col\"><h3>Run history:</h3><br/><table class=\"wandb\"><tr><td>epoch</td><td>▁▃▅▆█</td></tr><tr><td>loss</td><td>█▂▁▁▁</td></tr><tr><td>mse</td><td>█▂▁▁▁</td></tr><tr><td>val_loss</td><td>█▂▂▂▁</td></tr><tr><td>val_mse</td><td>█▂▂▂▁</td></tr></table><br/></div><div class=\"wandb-col\"><h3>Run summary:</h3><br/><table class=\"wandb\"><tr><td>best_epoch</td><td>4</td></tr><tr><td>best_val_loss</td><td>11.44086</td></tr><tr><td>epoch</td><td>4</td></tr><tr><td>loss</td><td>11.41285</td></tr><tr><td>mse</td><td>11.41285</td></tr><tr><td>val_loss</td><td>11.44086</td></tr><tr><td>val_mse</td><td>11.44086</td></tr></table><br/></div></div>"
      ],
      "text/plain": [
       "<IPython.core.display.HTML object>"
      ]
     },
     "metadata": {},
     "output_type": "display_data"
    },
    {
     "data": {
      "text/html": [
       "Synced <strong style=\"color:#cdcd00\">Ex-1_(3-3-50)_20220413_225236</strong>: <a href=\"https://wandb.ai/tesis2/TesisDiegoV2%28dato-1%29/runs/1ovs0e2x\" target=\"_blank\">https://wandb.ai/tesis2/TesisDiegoV2%28dato-1%29/runs/1ovs0e2x</a><br/>Synced 6 W&B file(s), 1 media file(s), 0 artifact file(s) and 1 other file(s)"
      ],
      "text/plain": [
       "<IPython.core.display.HTML object>"
      ]
     },
     "metadata": {},
     "output_type": "display_data"
    },
    {
     "data": {
      "text/html": [
       "Find logs at: <code>.\\wandb\\run-20220413_225236-1ovs0e2x\\logs</code>"
      ],
      "text/plain": [
       "<IPython.core.display.HTML object>"
      ]
     },
     "metadata": {},
     "output_type": "display_data"
    },
    {
     "name": "stdout",
     "output_type": "stream",
     "text": [
      "--------------------------------------------------\n",
      "Inicio de la prueba N°: 3/6\n",
      "Creadno modelo con input (110,110,3)) tipo (dato)\n",
      "DONE\n",
      "Tamaño del dataset: Train 25716  - Val 6430\n",
      "- Batch size:  32\n"
     ]
    },
    {
     "data": {
      "text/html": [
       "wandb version 0.12.14 is available!  To upgrade, please run:\n",
       " $ pip install wandb --upgrade"
      ],
      "text/plain": [
       "<IPython.core.display.HTML object>"
      ]
     },
     "metadata": {},
     "output_type": "display_data"
    },
    {
     "data": {
      "text/html": [
       "Tracking run with wandb version 0.12.11"
      ],
      "text/plain": [
       "<IPython.core.display.HTML object>"
      ]
     },
     "metadata": {},
     "output_type": "display_data"
    },
    {
     "data": {
      "text/html": [
       "Run data is saved locally in <code>C:\\Users\\Shounen\\Desktop\\Ciclo XI\\Tesis 2\\GPUTesis\\Codigo\\Entrenamiento\\Jupyter\\wandb\\run-20220414_002806-ip1me32z</code>"
      ],
      "text/plain": [
       "<IPython.core.display.HTML object>"
      ]
     },
     "metadata": {},
     "output_type": "display_data"
    },
    {
     "data": {
      "text/html": [
       "Syncing run <strong><a href=\"https://wandb.ai/tesis2/TesisDiegoV2%28dato-1%29/runs/ip1me32z\" target=\"_blank\">Ex-1_(3-1-110)_20220414_002806</a></strong> to <a href=\"https://wandb.ai/tesis2/TesisDiegoV2%28dato-1%29\" target=\"_blank\">Weights & Biases</a> (<a href=\"https://wandb.me/run\" target=\"_blank\">docs</a>)<br/>"
      ],
      "text/plain": [
       "<IPython.core.display.HTML object>"
      ]
     },
     "metadata": {},
     "output_type": "display_data"
    },
    {
     "name": "stdout",
     "output_type": "stream",
     "text": [
      "Epoch 1/10\n",
      "804/804 [==============================] - ETA: 0s - loss: 11.5810 - mse: 11.5810\n",
      "Epoch 1: saving model to C:/Users/Shounen/Desktop/Ciclo XI/Tesis 2/GPUTesis/Archivos/Modelos\\Model_20220414_002806.hdf5\n",
      "804/804 [==============================] - 366s 451ms/step - loss: 11.5810 - mse: 11.5810 - val_loss: 11.6146 - val_mse: 11.6146 - _timestamp: 1649914469.0000 - _runtime: 383.0000\n",
      "Epoch 2/10\n",
      "804/804 [==============================] - ETA: 0s - loss: 11.4577 - mse: 11.4577\n",
      "Epoch 2: saving model to C:/Users/Shounen/Desktop/Ciclo XI/Tesis 2/GPUTesis/Archivos/Modelos\\Model_20220414_002806.hdf5\n",
      "804/804 [==============================] - 292s 363ms/step - loss: 11.4577 - mse: 11.4577 - val_loss: 11.5318 - val_mse: 11.5318 - _timestamp: 1649914761.0000 - _runtime: 675.0000\n",
      "Epoch 3/10\n",
      "804/804 [==============================] - ETA: 0s - loss: 11.4479 - mse: 11.4479\n",
      "Epoch 3: saving model to C:/Users/Shounen/Desktop/Ciclo XI/Tesis 2/GPUTesis/Archivos/Modelos\\Model_20220414_002806.hdf5\n",
      "804/804 [==============================] - 293s 365ms/step - loss: 11.4479 - mse: 11.4479 - val_loss: 11.4767 - val_mse: 11.4767 - _timestamp: 1649915054.0000 - _runtime: 968.0000\n",
      "Epoch 4/10\n",
      "804/804 [==============================] - ETA: 0s - loss: 11.4413 - mse: 11.4413\n",
      "Epoch 4: saving model to C:/Users/Shounen/Desktop/Ciclo XI/Tesis 2/GPUTesis/Archivos/Modelos\\Model_20220414_002806.hdf5\n",
      "804/804 [==============================] - 292s 363ms/step - loss: 11.4413 - mse: 11.4413 - val_loss: 11.5026 - val_mse: 11.5026 - _timestamp: 1649915347.0000 - _runtime: 1261.0000\n",
      "Epoch 5/10\n",
      "804/804 [==============================] - ETA: 0s - loss: 11.4391 - mse: 11.4391\n",
      "Epoch 5: saving model to C:/Users/Shounen/Desktop/Ciclo XI/Tesis 2/GPUTesis/Archivos/Modelos\\Model_20220414_002806.hdf5\n",
      "804/804 [==============================] - 292s 363ms/step - loss: 11.4391 - mse: 11.4391 - val_loss: 11.4395 - val_mse: 11.4395 - _timestamp: 1649915639.0000 - _runtime: 1553.0000\n",
      "\n"
     ]
    },
    {
     "data": {
      "text/html": [
       "Waiting for W&B process to finish... <strong style=\"color:green\">(success).</strong>"
      ],
      "text/plain": [
       "<IPython.core.display.HTML object>"
      ]
     },
     "metadata": {},
     "output_type": "display_data"
    },
    {
     "data": {
      "application/vnd.jupyter.widget-view+json": {
       "model_id": "",
       "version_major": 2,
       "version_minor": 0
      },
      "text/plain": [
       "VBox(children=(Label(value='0.730 MB of 0.730 MB uploaded (0.000 MB deduped)\\r'), FloatProgress(value=1.0, max…"
      ]
     },
     "metadata": {},
     "output_type": "display_data"
    },
    {
     "data": {
      "text/html": [
       "<style>\n",
       "    table.wandb td:nth-child(1) { padding: 0 10px; text-align: right }\n",
       "    .wandb-row { display: flex; flex-direction: row; flex-wrap: wrap; width: 100% }\n",
       "    .wandb-col { display: flex; flex-direction: column; flex-basis: 100%; flex: 1; padding: 10px; }\n",
       "    </style>\n",
       "<div class=\"wandb-row\"><div class=\"wandb-col\"><h3>Run history:</h3><br/><table class=\"wandb\"><tr><td>epoch</td><td>▁▃▅▆█</td></tr><tr><td>loss</td><td>█▂▁▁▁</td></tr><tr><td>mse</td><td>█▂▁▁▁</td></tr><tr><td>val_loss</td><td>█▅▂▄▁</td></tr><tr><td>val_mse</td><td>█▅▂▄▁</td></tr></table><br/></div><div class=\"wandb-col\"><h3>Run summary:</h3><br/><table class=\"wandb\"><tr><td>best_epoch</td><td>4</td></tr><tr><td>best_val_loss</td><td>11.43953</td></tr><tr><td>epoch</td><td>4</td></tr><tr><td>loss</td><td>11.43909</td></tr><tr><td>mse</td><td>11.43909</td></tr><tr><td>val_loss</td><td>11.43953</td></tr><tr><td>val_mse</td><td>11.43953</td></tr></table><br/></div></div>"
      ],
      "text/plain": [
       "<IPython.core.display.HTML object>"
      ]
     },
     "metadata": {},
     "output_type": "display_data"
    },
    {
     "data": {
      "text/html": [
       "Synced <strong style=\"color:#cdcd00\">Ex-1_(3-1-110)_20220414_002806</strong>: <a href=\"https://wandb.ai/tesis2/TesisDiegoV2%28dato-1%29/runs/ip1me32z\" target=\"_blank\">https://wandb.ai/tesis2/TesisDiegoV2%28dato-1%29/runs/ip1me32z</a><br/>Synced 6 W&B file(s), 1 media file(s), 0 artifact file(s) and 1 other file(s)"
      ],
      "text/plain": [
       "<IPython.core.display.HTML object>"
      ]
     },
     "metadata": {},
     "output_type": "display_data"
    },
    {
     "data": {
      "text/html": [
       "Find logs at: <code>.\\wandb\\run-20220414_002806-ip1me32z\\logs</code>"
      ],
      "text/plain": [
       "<IPython.core.display.HTML object>"
      ]
     },
     "metadata": {},
     "output_type": "display_data"
    },
    {
     "name": "stdout",
     "output_type": "stream",
     "text": [
      "--------------------------------------------------\n",
      "Inicio de la prueba N°: 4/6\n",
      "Creadno modelo con input (110,110,3)) tipo (dato)\n",
      "DONE\n",
      "Tamaño del dataset: Train 25716  - Val 6430\n",
      "- Batch size:  32\n"
     ]
    },
    {
     "data": {
      "text/html": [
       "wandb version 0.12.14 is available!  To upgrade, please run:\n",
       " $ pip install wandb --upgrade"
      ],
      "text/plain": [
       "<IPython.core.display.HTML object>"
      ]
     },
     "metadata": {},
     "output_type": "display_data"
    },
    {
     "data": {
      "text/html": [
       "Tracking run with wandb version 0.12.11"
      ],
      "text/plain": [
       "<IPython.core.display.HTML object>"
      ]
     },
     "metadata": {},
     "output_type": "display_data"
    },
    {
     "data": {
      "text/html": [
       "Run data is saved locally in <code>C:\\Users\\Shounen\\Desktop\\Ciclo XI\\Tesis 2\\GPUTesis\\Codigo\\Entrenamiento\\Jupyter\\wandb\\run-20220414_115840-lxrwu08w</code>"
      ],
      "text/plain": [
       "<IPython.core.display.HTML object>"
      ]
     },
     "metadata": {},
     "output_type": "display_data"
    },
    {
     "data": {
      "text/html": [
       "Syncing run <strong><a href=\"https://wandb.ai/tesis2/TesisDiegoV2%28dato-1%29/runs/lxrwu08w\" target=\"_blank\">Ex-1_(3-3-110)_20220414_115840</a></strong> to <a href=\"https://wandb.ai/tesis2/TesisDiegoV2%28dato-1%29\" target=\"_blank\">Weights & Biases</a> (<a href=\"https://wandb.me/run\" target=\"_blank\">docs</a>)<br/>"
      ],
      "text/plain": [
       "<IPython.core.display.HTML object>"
      ]
     },
     "metadata": {},
     "output_type": "display_data"
    },
    {
     "name": "stdout",
     "output_type": "stream",
     "text": [
      "Epoch 1/10\n",
      "804/804 [==============================] - ETA: 0s - loss: 11.7266 - mse: 11.7266\n",
      "Epoch 1: saving model to C:/Users/Shounen/Desktop/Ciclo XI/Tesis 2/GPUTesis/Archivos/Modelos\\Model_20220414_115840.hdf5\n",
      "804/804 [==============================] - 1395s 2s/step - loss: 11.7266 - mse: 11.7266 - val_loss: 11.6761 - val_mse: 11.6761 - _timestamp: 1649956927.0000 - _runtime: 1406.0000\n",
      "Epoch 2/10\n",
      "804/804 [==============================] - ETA: 0s - loss: 11.5876 - mse: 11.5876\n",
      "Epoch 2: saving model to C:/Users/Shounen/Desktop/Ciclo XI/Tesis 2/GPUTesis/Archivos/Modelos\\Model_20220414_115840.hdf5\n",
      "804/804 [==============================] - 1033s 1s/step - loss: 11.5876 - mse: 11.5876 - val_loss: 11.5738 - val_mse: 11.5738 - _timestamp: 1649957960.0000 - _runtime: 2439.0000\n",
      "Epoch 3/10\n",
      "804/804 [==============================] - ETA: 0s - loss: 11.5804 - mse: 11.5804\n",
      "Epoch 3: saving model to C:/Users/Shounen/Desktop/Ciclo XI/Tesis 2/GPUTesis/Archivos/Modelos\\Model_20220414_115840.hdf5\n",
      "804/804 [==============================] - 1084s 1s/step - loss: 11.5804 - mse: 11.5804 - val_loss: 11.5591 - val_mse: 11.5591 - _timestamp: 1649959044.0000 - _runtime: 3523.0000\n",
      "Epoch 4/10\n",
      "804/804 [==============================] - ETA: 0s - loss: 11.5759 - mse: 11.5759\n",
      "Epoch 4: saving model to C:/Users/Shounen/Desktop/Ciclo XI/Tesis 2/GPUTesis/Archivos/Modelos\\Model_20220414_115840.hdf5\n",
      "804/804 [==============================] - 955s 1s/step - loss: 11.5759 - mse: 11.5759 - val_loss: 11.5549 - val_mse: 11.5549 - _timestamp: 1649959999.0000 - _runtime: 4478.0000\n",
      "Epoch 5/10\n",
      "804/804 [==============================] - ETA: 0s - loss: 11.5722 - mse: 11.5722\n",
      "Epoch 5: saving model to C:/Users/Shounen/Desktop/Ciclo XI/Tesis 2/GPUTesis/Archivos/Modelos\\Model_20220414_115840.hdf5\n",
      "804/804 [==============================] - 1096s 1s/step - loss: 11.5722 - mse: 11.5722 - val_loss: 11.5541 - val_mse: 11.5541 - _timestamp: 1649961095.0000 - _runtime: 5574.0000\n",
      "\n"
     ]
    },
    {
     "data": {
      "text/html": [
       "Waiting for W&B process to finish... <strong style=\"color:green\">(success).</strong>"
      ],
      "text/plain": [
       "<IPython.core.display.HTML object>"
      ]
     },
     "metadata": {},
     "output_type": "display_data"
    },
    {
     "data": {
      "application/vnd.jupyter.widget-view+json": {
       "model_id": "",
       "version_major": 2,
       "version_minor": 0
      },
      "text/plain": [
       "VBox(children=(Label(value='0.730 MB of 0.730 MB uploaded (0.000 MB deduped)\\r'), FloatProgress(value=1.0, max…"
      ]
     },
     "metadata": {},
     "output_type": "display_data"
    },
    {
     "data": {
      "text/html": [
       "<style>\n",
       "    table.wandb td:nth-child(1) { padding: 0 10px; text-align: right }\n",
       "    .wandb-row { display: flex; flex-direction: row; flex-wrap: wrap; width: 100% }\n",
       "    .wandb-col { display: flex; flex-direction: column; flex-basis: 100%; flex: 1; padding: 10px; }\n",
       "    </style>\n",
       "<div class=\"wandb-row\"><div class=\"wandb-col\"><h3>Run history:</h3><br/><table class=\"wandb\"><tr><td>epoch</td><td>▁▃▅▆█</td></tr><tr><td>loss</td><td>█▂▁▁▁</td></tr><tr><td>mse</td><td>█▂▁▁▁</td></tr><tr><td>val_loss</td><td>█▂▁▁▁</td></tr><tr><td>val_mse</td><td>█▂▁▁▁</td></tr></table><br/></div><div class=\"wandb-col\"><h3>Run summary:</h3><br/><table class=\"wandb\"><tr><td>best_epoch</td><td>4</td></tr><tr><td>best_val_loss</td><td>11.55415</td></tr><tr><td>epoch</td><td>4</td></tr><tr><td>loss</td><td>11.57224</td></tr><tr><td>mse</td><td>11.57224</td></tr><tr><td>val_loss</td><td>11.55415</td></tr><tr><td>val_mse</td><td>11.55415</td></tr></table><br/></div></div>"
      ],
      "text/plain": [
       "<IPython.core.display.HTML object>"
      ]
     },
     "metadata": {},
     "output_type": "display_data"
    },
    {
     "data": {
      "text/html": [
       "Synced <strong style=\"color:#cdcd00\">Ex-1_(3-3-110)_20220414_115840</strong>: <a href=\"https://wandb.ai/tesis2/TesisDiegoV2%28dato-1%29/runs/lxrwu08w\" target=\"_blank\">https://wandb.ai/tesis2/TesisDiegoV2%28dato-1%29/runs/lxrwu08w</a><br/>Synced 6 W&B file(s), 1 media file(s), 0 artifact file(s) and 1 other file(s)"
      ],
      "text/plain": [
       "<IPython.core.display.HTML object>"
      ]
     },
     "metadata": {},
     "output_type": "display_data"
    },
    {
     "data": {
      "text/html": [
       "Find logs at: <code>.\\wandb\\run-20220414_115840-lxrwu08w\\logs</code>"
      ],
      "text/plain": [
       "<IPython.core.display.HTML object>"
      ]
     },
     "metadata": {},
     "output_type": "display_data"
    },
    {
     "name": "stdout",
     "output_type": "stream",
     "text": [
      "--------------------------------------------------\n",
      "Inicio de la prueba N°: 5/6\n",
      "Creadno modelo con input (70,70,3)) tipo (dato)\n",
      "DONE\n",
      "Tamaño del dataset: Train 25716  - Val 6430\n",
      "- Batch size:  32\n"
     ]
    },
    {
     "data": {
      "text/html": [
       "wandb version 0.12.14 is available!  To upgrade, please run:\n",
       " $ pip install wandb --upgrade"
      ],
      "text/plain": [
       "<IPython.core.display.HTML object>"
      ]
     },
     "metadata": {},
     "output_type": "display_data"
    },
    {
     "data": {
      "text/html": [
       "Tracking run with wandb version 0.12.11"
      ],
      "text/plain": [
       "<IPython.core.display.HTML object>"
      ]
     },
     "metadata": {},
     "output_type": "display_data"
    },
    {
     "data": {
      "text/html": [
       "Run data is saved locally in <code>C:\\Users\\Shounen\\Desktop\\Ciclo XI\\Tesis 2\\GPUTesis\\Codigo\\Entrenamiento\\Jupyter\\wandb\\run-20220414_133141-37rwpcjn</code>"
      ],
      "text/plain": [
       "<IPython.core.display.HTML object>"
      ]
     },
     "metadata": {},
     "output_type": "display_data"
    },
    {
     "data": {
      "text/html": [
       "Syncing run <strong><a href=\"https://wandb.ai/tesis2/TesisDiegoV2%28dato-1%29/runs/37rwpcjn\" target=\"_blank\">Ex-1_(3-1-70)_20220414_133141</a></strong> to <a href=\"https://wandb.ai/tesis2/TesisDiegoV2%28dato-1%29\" target=\"_blank\">Weights & Biases</a> (<a href=\"https://wandb.me/run\" target=\"_blank\">docs</a>)<br/>"
      ],
      "text/plain": [
       "<IPython.core.display.HTML object>"
      ]
     },
     "metadata": {},
     "output_type": "display_data"
    },
    {
     "name": "stdout",
     "output_type": "stream",
     "text": [
      "Epoch 1/10\n",
      "804/804 [==============================] - ETA: 0s - loss: 11.1659 - mse: 11.1659\n",
      "Epoch 1: saving model to C:/Users/Shounen/Desktop/Ciclo XI/Tesis 2/GPUTesis/Archivos/Modelos\\Model_20220414_133141.hdf5\n",
      "804/804 [==============================] - 482s 600ms/step - loss: 11.1659 - mse: 11.1659 - val_loss: 11.4049 - val_mse: 11.4049 - _timestamp: 1649961601.0000 - _runtime: 499.0000\n",
      "Epoch 2/10\n",
      "804/804 [==============================] - ETA: 0s - loss: 11.0545 - mse: 11.0545\n",
      "Epoch 2: saving model to C:/Users/Shounen/Desktop/Ciclo XI/Tesis 2/GPUTesis/Archivos/Modelos\\Model_20220414_133141.hdf5\n",
      "804/804 [==============================] - 420s 523ms/step - loss: 11.0545 - mse: 11.0545 - val_loss: 11.0362 - val_mse: 11.0362 - _timestamp: 1649962021.0000 - _runtime: 919.0000\n",
      "Epoch 3/10\n",
      "804/804 [==============================] - ETA: 0s - loss: 11.0207 - mse: 11.0207\n",
      "Epoch 3: saving model to C:/Users/Shounen/Desktop/Ciclo XI/Tesis 2/GPUTesis/Archivos/Modelos\\Model_20220414_133141.hdf5\n",
      "804/804 [==============================] - 310s 385ms/step - loss: 11.0207 - mse: 11.0207 - val_loss: 11.0278 - val_mse: 11.0278 - _timestamp: 1649962331.0000 - _runtime: 1229.0000\n",
      "Epoch 4/10\n",
      "804/804 [==============================] - ETA: 0s - loss: 11.0178 - mse: 11.0178\n",
      "Epoch 4: saving model to C:/Users/Shounen/Desktop/Ciclo XI/Tesis 2/GPUTesis/Archivos/Modelos\\Model_20220414_133141.hdf5\n",
      "804/804 [==============================] - 458s 569ms/step - loss: 11.0178 - mse: 11.0178 - val_loss: 11.0054 - val_mse: 11.0054 - _timestamp: 1649962789.0000 - _runtime: 1687.0000\n",
      "Epoch 5/10\n",
      "804/804 [==============================] - ETA: 0s - loss: 11.0172 - mse: 11.0172\n",
      "Epoch 5: saving model to C:/Users/Shounen/Desktop/Ciclo XI/Tesis 2/GPUTesis/Archivos/Modelos\\Model_20220414_133141.hdf5\n",
      "804/804 [==============================] - 310s 385ms/step - loss: 11.0172 - mse: 11.0172 - val_loss: 11.0029 - val_mse: 11.0029 - _timestamp: 1649963099.0000 - _runtime: 1997.0000\n",
      "\n"
     ]
    },
    {
     "data": {
      "text/html": [
       "Waiting for W&B process to finish... <strong style=\"color:green\">(success).</strong>"
      ],
      "text/plain": [
       "<IPython.core.display.HTML object>"
      ]
     },
     "metadata": {},
     "output_type": "display_data"
    },
    {
     "data": {
      "application/vnd.jupyter.widget-view+json": {
       "model_id": "",
       "version_major": 2,
       "version_minor": 0
      },
      "text/plain": [
       "VBox(children=(Label(value='0.437 MB of 0.437 MB uploaded (0.000 MB deduped)\\r'), FloatProgress(value=1.0, max…"
      ]
     },
     "metadata": {},
     "output_type": "display_data"
    },
    {
     "data": {
      "text/html": [
       "<style>\n",
       "    table.wandb td:nth-child(1) { padding: 0 10px; text-align: right }\n",
       "    .wandb-row { display: flex; flex-direction: row; flex-wrap: wrap; width: 100% }\n",
       "    .wandb-col { display: flex; flex-direction: column; flex-basis: 100%; flex: 1; padding: 10px; }\n",
       "    </style>\n",
       "<div class=\"wandb-row\"><div class=\"wandb-col\"><h3>Run history:</h3><br/><table class=\"wandb\"><tr><td>epoch</td><td>▁▃▅▆█</td></tr><tr><td>loss</td><td>█▃▁▁▁</td></tr><tr><td>mse</td><td>█▃▁▁▁</td></tr><tr><td>val_loss</td><td>█▂▁▁▁</td></tr><tr><td>val_mse</td><td>█▂▁▁▁</td></tr></table><br/></div><div class=\"wandb-col\"><h3>Run summary:</h3><br/><table class=\"wandb\"><tr><td>best_epoch</td><td>4</td></tr><tr><td>best_val_loss</td><td>11.00288</td></tr><tr><td>epoch</td><td>4</td></tr><tr><td>loss</td><td>11.01717</td></tr><tr><td>mse</td><td>11.01717</td></tr><tr><td>val_loss</td><td>11.00288</td></tr><tr><td>val_mse</td><td>11.00288</td></tr></table><br/></div></div>"
      ],
      "text/plain": [
       "<IPython.core.display.HTML object>"
      ]
     },
     "metadata": {},
     "output_type": "display_data"
    },
    {
     "data": {
      "text/html": [
       "Synced <strong style=\"color:#cdcd00\">Ex-1_(3-1-70)_20220414_133141</strong>: <a href=\"https://wandb.ai/tesis2/TesisDiegoV2%28dato-1%29/runs/37rwpcjn\" target=\"_blank\">https://wandb.ai/tesis2/TesisDiegoV2%28dato-1%29/runs/37rwpcjn</a><br/>Synced 6 W&B file(s), 1 media file(s), 0 artifact file(s) and 1 other file(s)"
      ],
      "text/plain": [
       "<IPython.core.display.HTML object>"
      ]
     },
     "metadata": {},
     "output_type": "display_data"
    },
    {
     "data": {
      "text/html": [
       "Find logs at: <code>.\\wandb\\run-20220414_133141-37rwpcjn\\logs</code>"
      ],
      "text/plain": [
       "<IPython.core.display.HTML object>"
      ]
     },
     "metadata": {},
     "output_type": "display_data"
    },
    {
     "name": "stdout",
     "output_type": "stream",
     "text": [
      "--------------------------------------------------\n",
      "Inicio de la prueba N°: 6/6\n",
      "Creadno modelo con input (70,70,3)) tipo (dato)\n",
      "DONE\n",
      "Tamaño del dataset: Train 25716  - Val 6430\n",
      "- Batch size:  32\n"
     ]
    },
    {
     "data": {
      "text/html": [
       "wandb version 0.12.14 is available!  To upgrade, please run:\n",
       " $ pip install wandb --upgrade"
      ],
      "text/plain": [
       "<IPython.core.display.HTML object>"
      ]
     },
     "metadata": {},
     "output_type": "display_data"
    },
    {
     "data": {
      "text/html": [
       "Tracking run with wandb version 0.12.11"
      ],
      "text/plain": [
       "<IPython.core.display.HTML object>"
      ]
     },
     "metadata": {},
     "output_type": "display_data"
    },
    {
     "data": {
      "text/html": [
       "Run data is saved locally in <code>C:\\Users\\Shounen\\Desktop\\Ciclo XI\\Tesis 2\\GPUTesis\\Codigo\\Entrenamiento\\Jupyter\\wandb\\run-20220414_144618-3ijdi4ln</code>"
      ],
      "text/plain": [
       "<IPython.core.display.HTML object>"
      ]
     },
     "metadata": {},
     "output_type": "display_data"
    },
    {
     "data": {
      "text/html": [
       "Syncing run <strong><a href=\"https://wandb.ai/tesis2/TesisDiegoV2%28dato-1%29/runs/3ijdi4ln\" target=\"_blank\">Ex-1_(3-3-70)_20220414_144618</a></strong> to <a href=\"https://wandb.ai/tesis2/TesisDiegoV2%28dato-1%29\" target=\"_blank\">Weights & Biases</a> (<a href=\"https://wandb.me/run\" target=\"_blank\">docs</a>)<br/>"
      ],
      "text/plain": [
       "<IPython.core.display.HTML object>"
      ]
     },
     "metadata": {},
     "output_type": "display_data"
    },
    {
     "name": "stdout",
     "output_type": "stream",
     "text": [
      "Epoch 1/10\n",
      "804/804 [==============================] - ETA: 0s - loss: 11.5729 - mse: 11.5729\n",
      "Epoch 1: saving model to C:/Users/Shounen/Desktop/Ciclo XI/Tesis 2/GPUTesis/Archivos/Modelos\\Model_20220414_144618.hdf5\n",
      "804/804 [==============================] - 910s 1s/step - loss: 11.5729 - mse: 11.5729 - val_loss: 11.4863 - val_mse: 11.4863 - _timestamp: 1649966502.0000 - _runtime: 923.0000\n",
      "Epoch 2/10\n",
      "804/804 [==============================] - ETA: 0s - loss: 11.4477 - mse: 11.4477\n",
      "Epoch 2: saving model to C:/Users/Shounen/Desktop/Ciclo XI/Tesis 2/GPUTesis/Archivos/Modelos\\Model_20220414_144618.hdf5\n",
      "804/804 [==============================] - 908s 1s/step - loss: 11.4477 - mse: 11.4477 - val_loss: 11.4842 - val_mse: 11.4842 - _timestamp: 1649967410.0000 - _runtime: 1831.0000\n",
      "Epoch 3/10\n",
      "804/804 [==============================] - ETA: 0s - loss: 11.4371 - mse: 11.4371\n",
      "Epoch 3: saving model to C:/Users/Shounen/Desktop/Ciclo XI/Tesis 2/GPUTesis/Archivos/Modelos\\Model_20220414_144618.hdf5\n",
      "804/804 [==============================] - 1203s 1s/step - loss: 11.4371 - mse: 11.4371 - val_loss: 11.4855 - val_mse: 11.4855 - _timestamp: 1649968613.0000 - _runtime: 3034.0000\n",
      "Epoch 4/10\n",
      "804/804 [==============================] - ETA: 0s - loss: 11.4307 - mse: 11.4307\n",
      "Epoch 4: saving model to C:/Users/Shounen/Desktop/Ciclo XI/Tesis 2/GPUTesis/Archivos/Modelos\\Model_20220414_144618.hdf5\n",
      "804/804 [==============================] - 909s 1s/step - loss: 11.4307 - mse: 11.4307 - val_loss: 11.4717 - val_mse: 11.4717 - _timestamp: 1649969522.0000 - _runtime: 3943.0000\n",
      "Epoch 5/10\n",
      "804/804 [==============================] - ETA: 0s - loss: 11.4264 - mse: 11.4264\n",
      "Epoch 5: saving model to C:/Users/Shounen/Desktop/Ciclo XI/Tesis 2/GPUTesis/Archivos/Modelos\\Model_20220414_144618.hdf5\n",
      "804/804 [==============================] - 1355s 2s/step - loss: 11.4264 - mse: 11.4264 - val_loss: 11.4605 - val_mse: 11.4605 - _timestamp: 1649970876.0000 - _runtime: 5297.0000\n",
      "\n"
     ]
    },
    {
     "data": {
      "text/html": [
       "Waiting for W&B process to finish... <strong style=\"color:green\">(success).</strong>"
      ],
      "text/plain": [
       "<IPython.core.display.HTML object>"
      ]
     },
     "metadata": {},
     "output_type": "display_data"
    },
    {
     "data": {
      "application/vnd.jupyter.widget-view+json": {
       "model_id": "",
       "version_major": 2,
       "version_minor": 0
      },
      "text/plain": [
       "VBox(children=(Label(value='0.437 MB of 0.437 MB uploaded (0.000 MB deduped)\\r'), FloatProgress(value=1.0, max…"
      ]
     },
     "metadata": {},
     "output_type": "display_data"
    },
    {
     "data": {
      "text/html": [
       "<style>\n",
       "    table.wandb td:nth-child(1) { padding: 0 10px; text-align: right }\n",
       "    .wandb-row { display: flex; flex-direction: row; flex-wrap: wrap; width: 100% }\n",
       "    .wandb-col { display: flex; flex-direction: column; flex-basis: 100%; flex: 1; padding: 10px; }\n",
       "    </style>\n",
       "<div class=\"wandb-row\"><div class=\"wandb-col\"><h3>Run history:</h3><br/><table class=\"wandb\"><tr><td>epoch</td><td>▁▃▅▆█</td></tr><tr><td>loss</td><td>█▂▂▁▁</td></tr><tr><td>mse</td><td>█▂▂▁▁</td></tr><tr><td>val_loss</td><td>█▇█▄▁</td></tr><tr><td>val_mse</td><td>█▇█▄▁</td></tr></table><br/></div><div class=\"wandb-col\"><h3>Run summary:</h3><br/><table class=\"wandb\"><tr><td>best_epoch</td><td>4</td></tr><tr><td>best_val_loss</td><td>11.46046</td></tr><tr><td>epoch</td><td>4</td></tr><tr><td>loss</td><td>11.42641</td></tr><tr><td>mse</td><td>11.42641</td></tr><tr><td>val_loss</td><td>11.46046</td></tr><tr><td>val_mse</td><td>11.46046</td></tr></table><br/></div></div>"
      ],
      "text/plain": [
       "<IPython.core.display.HTML object>"
      ]
     },
     "metadata": {},
     "output_type": "display_data"
    },
    {
     "data": {
      "text/html": [
       "Synced <strong style=\"color:#cdcd00\">Ex-1_(3-3-70)_20220414_144618</strong>: <a href=\"https://wandb.ai/tesis2/TesisDiegoV2%28dato-1%29/runs/3ijdi4ln\" target=\"_blank\">https://wandb.ai/tesis2/TesisDiegoV2%28dato-1%29/runs/3ijdi4ln</a><br/>Synced 6 W&B file(s), 1 media file(s), 0 artifact file(s) and 1 other file(s)"
      ],
      "text/plain": [
       "<IPython.core.display.HTML object>"
      ]
     },
     "metadata": {},
     "output_type": "display_data"
    },
    {
     "data": {
      "text/html": [
       "Find logs at: <code>.\\wandb\\run-20220414_144618-3ijdi4ln\\logs</code>"
      ],
      "text/plain": [
       "<IPython.core.display.HTML object>"
      ]
     },
     "metadata": {},
     "output_type": "display_data"
    },
    {
     "name": "stdout",
     "output_type": "stream",
     "text": [
      "CPU times: total: 2d 4h 13min 10s\n",
      "Wall time: 17h 58min 7s\n"
     ]
    }
   ],
   "source": [
    "%%time\n",
    "#Solo imagenes (dato)\n",
    "resultados = trainModel(params,_dataset,path_imagenes,path_base,products,times, graficos=1)"
   ]
  },
  {
   "cell_type": "code",
   "execution_count": 39,
   "id": "4a33fdc8",
   "metadata": {},
   "outputs": [],
   "source": [
    "\"\"\"\n",
    "# Definimos las varibles para las iteraciones\n",
    "Los parametros que van a cambiar son:\n",
    "- Canales (products)\n",
    "- Tiempos (Min de las imagenes)\n",
    "- margen\n",
    "\"\"\"\n",
    "params = {'inputs'   : ['imagen'],#,'99%', 'altura'],\n",
    "          'outputs'  : 'dato',  #umbral o dato\n",
    "          'lr'       : 0.001,\n",
    "          'batch'    : 32,        \n",
    "          'dataset'  : 1,\n",
    "          'epocas'   : 10,          \n",
    "          'paciencia': 4,\n",
    "          'canales'  : [3,3,3,3,3,3],\n",
    "          'tiempos'  : [4,6,4,6,4,6],\n",
    "          'margen'   : [50,50,110,110,70,70],\n",
    "          'runs'     : 6\n",
    "         }"
   ]
  },
  {
   "cell_type": "code",
   "execution_count": 40,
   "id": "0a1f9859",
   "metadata": {},
   "outputs": [
    {
     "name": "stdout",
     "output_type": "stream",
     "text": [
      "--------------------------------------------------\n",
      "Inicio de la prueba N°: 1/6\n",
      "Creadno modelo con input (50,50,3)) tipo (dato)\n",
      "DONE\n",
      "Tamaño del dataset: Train 25716  - Val 6430\n",
      "- Batch size:  32\n"
     ]
    },
    {
     "data": {
      "text/html": [
       "wandb version 0.12.14 is available!  To upgrade, please run:\n",
       " $ pip install wandb --upgrade"
      ],
      "text/plain": [
       "<IPython.core.display.HTML object>"
      ]
     },
     "metadata": {},
     "output_type": "display_data"
    },
    {
     "data": {
      "text/html": [
       "Tracking run with wandb version 0.12.11"
      ],
      "text/plain": [
       "<IPython.core.display.HTML object>"
      ]
     },
     "metadata": {},
     "output_type": "display_data"
    },
    {
     "data": {
      "text/html": [
       "Run data is saved locally in <code>C:\\Users\\Shounen\\Desktop\\Ciclo XI\\Tesis 2\\GPUTesis\\Codigo\\Entrenamiento\\Jupyter\\wandb\\run-20220414_161445-3dwksqnr</code>"
      ],
      "text/plain": [
       "<IPython.core.display.HTML object>"
      ]
     },
     "metadata": {},
     "output_type": "display_data"
    },
    {
     "data": {
      "text/html": [
       "Syncing run <strong><a href=\"https://wandb.ai/tesis2/TesisDiegoV2%28dato-1%29/runs/3dwksqnr\" target=\"_blank\">Ex-1_(3-4-50)_20220414_161445</a></strong> to <a href=\"https://wandb.ai/tesis2/TesisDiegoV2%28dato-1%29\" target=\"_blank\">Weights & Biases</a> (<a href=\"https://wandb.me/run\" target=\"_blank\">docs</a>)<br/>"
      ],
      "text/plain": [
       "<IPython.core.display.HTML object>"
      ]
     },
     "metadata": {},
     "output_type": "display_data"
    },
    {
     "name": "stdout",
     "output_type": "stream",
     "text": [
      "Epoch 1/10\n",
      "804/804 [==============================] - ETA: 0s - loss: 11.5329 - mse: 11.5329\n",
      "Epoch 1: saving model to C:/Users/Shounen/Desktop/Ciclo XI/Tesis 2/GPUTesis/Archivos/Modelos\\Model_20220414_161445.hdf5\n",
      "804/804 [==============================] - 1217s 2s/step - loss: 11.5329 - mse: 11.5329 - val_loss: 11.3075 - val_mse: 11.3075 - _timestamp: 1649972112.0000 - _runtime: 1227.0000\n",
      "Epoch 2/10\n",
      "804/804 [==============================] - ETA: 0s - loss: 11.3417 - mse: 11.3417\n",
      "Epoch 2: saving model to C:/Users/Shounen/Desktop/Ciclo XI/Tesis 2/GPUTesis/Archivos/Modelos\\Model_20220414_161445.hdf5\n",
      "804/804 [==============================] - 1217s 2s/step - loss: 11.3417 - mse: 11.3417 - val_loss: 11.3403 - val_mse: 11.3403 - _timestamp: 1649973329.0000 - _runtime: 2444.0000\n",
      "Epoch 3/10\n",
      "804/804 [==============================] - ETA: 0s - loss: 11.3046 - mse: 11.3046\n",
      "Epoch 3: saving model to C:/Users/Shounen/Desktop/Ciclo XI/Tesis 2/GPUTesis/Archivos/Modelos\\Model_20220414_161445.hdf5\n",
      "804/804 [==============================] - 1532s 2s/step - loss: 11.3046 - mse: 11.3046 - val_loss: 11.3207 - val_mse: 11.3207 - _timestamp: 1649974861.0000 - _runtime: 3976.0000\n",
      "Epoch 4/10\n",
      "804/804 [==============================] - ETA: 0s - loss: 11.3000 - mse: 11.3000\n",
      "Epoch 4: saving model to C:/Users/Shounen/Desktop/Ciclo XI/Tesis 2/GPUTesis/Archivos/Modelos\\Model_20220414_161445.hdf5\n",
      "804/804 [==============================] - 1517s 2s/step - loss: 11.3000 - mse: 11.3000 - val_loss: 11.3119 - val_mse: 11.3119 - _timestamp: 1649976378.0000 - _runtime: 5493.0000\n",
      "Epoch 5/10\n",
      "804/804 [==============================] - ETA: 0s - loss: 11.3000 - mse: 11.3000\n",
      "Epoch 5: saving model to C:/Users/Shounen/Desktop/Ciclo XI/Tesis 2/GPUTesis/Archivos/Modelos\\Model_20220414_161445.hdf5\n",
      "804/804 [==============================] - 1372s 2s/step - loss: 11.3000 - mse: 11.3000 - val_loss: 11.3149 - val_mse: 11.3149 - _timestamp: 1649977750.0000 - _runtime: 6865.0000\n",
      "Epoch 6/10\n",
      "804/804 [==============================] - ETA: 0s - loss: 11.2990 - mse: 11.2990\n",
      "Epoch 6: saving model to C:/Users/Shounen/Desktop/Ciclo XI/Tesis 2/GPUTesis/Archivos/Modelos\\Model_20220414_161445.hdf5\n",
      "804/804 [==============================] - 1533s 2s/step - loss: 11.2990 - mse: 11.2990 - val_loss: 11.3090 - val_mse: 11.3090 - _timestamp: 1649979283.0000 - _runtime: 8398.0000\n",
      "\n"
     ]
    },
    {
     "data": {
      "text/html": [
       "Waiting for W&B process to finish... <strong style=\"color:green\">(success).</strong>"
      ],
      "text/plain": [
       "<IPython.core.display.HTML object>"
      ]
     },
     "metadata": {},
     "output_type": "display_data"
    },
    {
     "data": {
      "application/vnd.jupyter.widget-view+json": {
       "model_id": "",
       "version_major": 2,
       "version_minor": 0
      },
      "text/plain": [
       "VBox(children=(Label(value='0.355 MB of 0.355 MB uploaded (0.000 MB deduped)\\r'), FloatProgress(value=1.0, max…"
      ]
     },
     "metadata": {},
     "output_type": "display_data"
    },
    {
     "data": {
      "text/html": [
       "<style>\n",
       "    table.wandb td:nth-child(1) { padding: 0 10px; text-align: right }\n",
       "    .wandb-row { display: flex; flex-direction: row; flex-wrap: wrap; width: 100% }\n",
       "    .wandb-col { display: flex; flex-direction: column; flex-basis: 100%; flex: 1; padding: 10px; }\n",
       "    </style>\n",
       "<div class=\"wandb-row\"><div class=\"wandb-col\"><h3>Run history:</h3><br/><table class=\"wandb\"><tr><td>epoch</td><td>▁▂▄▅▇█</td></tr><tr><td>loss</td><td>█▂▁▁▁▁</td></tr><tr><td>mse</td><td>█▂▁▁▁▁</td></tr><tr><td>val_loss</td><td>▁█▄▂▃▁</td></tr><tr><td>val_mse</td><td>▁█▄▂▃▁</td></tr></table><br/></div><div class=\"wandb-col\"><h3>Run summary:</h3><br/><table class=\"wandb\"><tr><td>best_epoch</td><td>0</td></tr><tr><td>best_val_loss</td><td>11.30751</td></tr><tr><td>epoch</td><td>5</td></tr><tr><td>loss</td><td>11.29903</td></tr><tr><td>mse</td><td>11.29903</td></tr><tr><td>val_loss</td><td>11.30897</td></tr><tr><td>val_mse</td><td>11.30897</td></tr></table><br/></div></div>"
      ],
      "text/plain": [
       "<IPython.core.display.HTML object>"
      ]
     },
     "metadata": {},
     "output_type": "display_data"
    },
    {
     "data": {
      "text/html": [
       "Synced <strong style=\"color:#cdcd00\">Ex-1_(3-4-50)_20220414_161445</strong>: <a href=\"https://wandb.ai/tesis2/TesisDiegoV2%28dato-1%29/runs/3dwksqnr\" target=\"_blank\">https://wandb.ai/tesis2/TesisDiegoV2%28dato-1%29/runs/3dwksqnr</a><br/>Synced 6 W&B file(s), 1 media file(s), 0 artifact file(s) and 1 other file(s)"
      ],
      "text/plain": [
       "<IPython.core.display.HTML object>"
      ]
     },
     "metadata": {},
     "output_type": "display_data"
    },
    {
     "data": {
      "text/html": [
       "Find logs at: <code>.\\wandb\\run-20220414_161445-3dwksqnr\\logs</code>"
      ],
      "text/plain": [
       "<IPython.core.display.HTML object>"
      ]
     },
     "metadata": {},
     "output_type": "display_data"
    },
    {
     "name": "stdout",
     "output_type": "stream",
     "text": [
      "--------------------------------------------------\n",
      "Inicio de la prueba N°: 2/6\n",
      "Creadno modelo con input (50,50,3)) tipo (dato)\n",
      "DONE\n",
      "Tamaño del dataset: Train 25716  - Val 6430\n",
      "- Batch size:  32\n"
     ]
    },
    {
     "data": {
      "text/html": [
       "wandb version 0.12.14 is available!  To upgrade, please run:\n",
       " $ pip install wandb --upgrade"
      ],
      "text/plain": [
       "<IPython.core.display.HTML object>"
      ]
     },
     "metadata": {},
     "output_type": "display_data"
    },
    {
     "data": {
      "text/html": [
       "Tracking run with wandb version 0.12.11"
      ],
      "text/plain": [
       "<IPython.core.display.HTML object>"
      ]
     },
     "metadata": {},
     "output_type": "display_data"
    },
    {
     "data": {
      "text/html": [
       "Run data is saved locally in <code>C:\\Users\\Shounen\\Desktop\\Ciclo XI\\Tesis 2\\GPUTesis\\Codigo\\Entrenamiento\\Jupyter\\wandb\\run-20220414_183450-2ttckg9t</code>"
      ],
      "text/plain": [
       "<IPython.core.display.HTML object>"
      ]
     },
     "metadata": {},
     "output_type": "display_data"
    },
    {
     "data": {
      "text/html": [
       "Syncing run <strong><a href=\"https://wandb.ai/tesis2/TesisDiegoV2%28dato-1%29/runs/2ttckg9t\" target=\"_blank\">Ex-1_(3-6-50)_20220414_183450</a></strong> to <a href=\"https://wandb.ai/tesis2/TesisDiegoV2%28dato-1%29\" target=\"_blank\">Weights & Biases</a> (<a href=\"https://wandb.me/run\" target=\"_blank\">docs</a>)<br/>"
      ],
      "text/plain": [
       "<IPython.core.display.HTML object>"
      ]
     },
     "metadata": {},
     "output_type": "display_data"
    },
    {
     "name": "stdout",
     "output_type": "stream",
     "text": [
      "Epoch 1/10\n",
      "804/804 [==============================] - ETA: 0s - loss: 11.6859 - mse: 11.6859\n",
      "Epoch 1: saving model to C:/Users/Shounen/Desktop/Ciclo XI/Tesis 2/GPUTesis/Archivos/Modelos\\Model_20220414_183450.hdf5\n",
      "804/804 [==============================] - 1960s 2s/step - loss: 11.6859 - mse: 11.6859 - val_loss: 11.4979 - val_mse: 11.4979 - _timestamp: 1649981270.0000 - _runtime: 1980.0000\n",
      "Epoch 2/10\n",
      "804/804 [==============================] - ETA: 0s - loss: 11.5228 - mse: 11.5228\n",
      "Epoch 2: saving model to C:/Users/Shounen/Desktop/Ciclo XI/Tesis 2/GPUTesis/Archivos/Modelos\\Model_20220414_183450.hdf5\n",
      "804/804 [==============================] - 2091s 3s/step - loss: 11.5228 - mse: 11.5228 - val_loss: 11.4913 - val_mse: 11.4913 - _timestamp: 1649983361.0000 - _runtime: 4071.0000\n",
      "Epoch 3/10\n",
      "804/804 [==============================] - ETA: 0s - loss: 11.5127 - mse: 11.5127\n",
      "Epoch 3: saving model to C:/Users/Shounen/Desktop/Ciclo XI/Tesis 2/GPUTesis/Archivos/Modelos\\Model_20220414_183450.hdf5\n",
      "804/804 [==============================] - 2259s 3s/step - loss: 11.5127 - mse: 11.5127 - val_loss: 11.4912 - val_mse: 11.4912 - _timestamp: 1649985620.0000 - _runtime: 6330.0000\n",
      "Epoch 4/10\n",
      "804/804 [==============================] - ETA: 0s - loss: 11.5093 - mse: 11.5093\n",
      "Epoch 4: saving model to C:/Users/Shounen/Desktop/Ciclo XI/Tesis 2/GPUTesis/Archivos/Modelos\\Model_20220414_183450.hdf5\n",
      "804/804 [==============================] - 2133s 3s/step - loss: 11.5093 - mse: 11.5093 - val_loss: 11.4912 - val_mse: 11.4912 - _timestamp: 1649987753.0000 - _runtime: 8463.0000\n",
      "Epoch 5/10\n",
      "804/804 [==============================] - ETA: 0s - loss: 11.5056 - mse: 11.5056\n",
      "Epoch 5: saving model to C:/Users/Shounen/Desktop/Ciclo XI/Tesis 2/GPUTesis/Archivos/Modelos\\Model_20220414_183450.hdf5\n",
      "804/804 [==============================] - 1822s 2s/step - loss: 11.5056 - mse: 11.5056 - val_loss: 11.4914 - val_mse: 11.4914 - _timestamp: 1649989575.0000 - _runtime: 10285.0000\n",
      "\n"
     ]
    },
    {
     "data": {
      "text/html": [
       "Waiting for W&B process to finish... <strong style=\"color:green\">(success).</strong>"
      ],
      "text/plain": [
       "<IPython.core.display.HTML object>"
      ]
     },
     "metadata": {},
     "output_type": "display_data"
    },
    {
     "data": {
      "application/vnd.jupyter.widget-view+json": {
       "model_id": "",
       "version_major": 2,
       "version_minor": 0
      },
      "text/plain": [
       "VBox(children=(Label(value='0.355 MB of 0.355 MB uploaded (0.000 MB deduped)\\r'), FloatProgress(value=1.0, max…"
      ]
     },
     "metadata": {},
     "output_type": "display_data"
    },
    {
     "data": {
      "text/html": [
       "<style>\n",
       "    table.wandb td:nth-child(1) { padding: 0 10px; text-align: right }\n",
       "    .wandb-row { display: flex; flex-direction: row; flex-wrap: wrap; width: 100% }\n",
       "    .wandb-col { display: flex; flex-direction: column; flex-basis: 100%; flex: 1; padding: 10px; }\n",
       "    </style>\n",
       "<div class=\"wandb-row\"><div class=\"wandb-col\"><h3>Run history:</h3><br/><table class=\"wandb\"><tr><td>epoch</td><td>▁▃▅▆█</td></tr><tr><td>loss</td><td>█▂▁▁▁</td></tr><tr><td>mse</td><td>█▂▁▁▁</td></tr><tr><td>val_loss</td><td>█▁▁▁▁</td></tr><tr><td>val_mse</td><td>█▁▁▁▁</td></tr></table><br/></div><div class=\"wandb-col\"><h3>Run summary:</h3><br/><table class=\"wandb\"><tr><td>best_epoch</td><td>3</td></tr><tr><td>best_val_loss</td><td>11.49116</td></tr><tr><td>epoch</td><td>4</td></tr><tr><td>loss</td><td>11.50559</td></tr><tr><td>mse</td><td>11.50559</td></tr><tr><td>val_loss</td><td>11.49142</td></tr><tr><td>val_mse</td><td>11.49142</td></tr></table><br/></div></div>"
      ],
      "text/plain": [
       "<IPython.core.display.HTML object>"
      ]
     },
     "metadata": {},
     "output_type": "display_data"
    },
    {
     "data": {
      "text/html": [
       "Synced <strong style=\"color:#cdcd00\">Ex-1_(3-6-50)_20220414_183450</strong>: <a href=\"https://wandb.ai/tesis2/TesisDiegoV2%28dato-1%29/runs/2ttckg9t\" target=\"_blank\">https://wandb.ai/tesis2/TesisDiegoV2%28dato-1%29/runs/2ttckg9t</a><br/>Synced 6 W&B file(s), 1 media file(s), 0 artifact file(s) and 1 other file(s)"
      ],
      "text/plain": [
       "<IPython.core.display.HTML object>"
      ]
     },
     "metadata": {},
     "output_type": "display_data"
    },
    {
     "data": {
      "text/html": [
       "Find logs at: <code>.\\wandb\\run-20220414_183450-2ttckg9t\\logs</code>"
      ],
      "text/plain": [
       "<IPython.core.display.HTML object>"
      ]
     },
     "metadata": {},
     "output_type": "display_data"
    },
    {
     "name": "stdout",
     "output_type": "stream",
     "text": [
      "--------------------------------------------------\n",
      "Inicio de la prueba N°: 3/6\n",
      "Creadno modelo con input (110,110,3)) tipo (dato)\n",
      "DONE\n",
      "Tamaño del dataset: Train 25716  - Val 6430\n",
      "- Batch size:  32\n"
     ]
    },
    {
     "data": {
      "text/html": [
       "wandb version 0.12.14 is available!  To upgrade, please run:\n",
       " $ pip install wandb --upgrade"
      ],
      "text/plain": [
       "<IPython.core.display.HTML object>"
      ]
     },
     "metadata": {},
     "output_type": "display_data"
    },
    {
     "data": {
      "text/html": [
       "Tracking run with wandb version 0.12.11"
      ],
      "text/plain": [
       "<IPython.core.display.HTML object>"
      ]
     },
     "metadata": {},
     "output_type": "display_data"
    },
    {
     "data": {
      "text/html": [
       "Run data is saved locally in <code>C:\\Users\\Shounen\\Desktop\\Ciclo XI\\Tesis 2\\GPUTesis\\Codigo\\Entrenamiento\\Jupyter\\wandb\\run-20220414_212623-2g19eg0x</code>"
      ],
      "text/plain": [
       "<IPython.core.display.HTML object>"
      ]
     },
     "metadata": {},
     "output_type": "display_data"
    },
    {
     "data": {
      "text/html": [
       "Syncing run <strong><a href=\"https://wandb.ai/tesis2/TesisDiegoV2%28dato-1%29/runs/2g19eg0x\" target=\"_blank\">Ex-1_(3-4-110)_20220414_212623</a></strong> to <a href=\"https://wandb.ai/tesis2/TesisDiegoV2%28dato-1%29\" target=\"_blank\">Weights & Biases</a> (<a href=\"https://wandb.me/run\" target=\"_blank\">docs</a>)<br/>"
      ],
      "text/plain": [
       "<IPython.core.display.HTML object>"
      ]
     },
     "metadata": {},
     "output_type": "display_data"
    },
    {
     "name": "stdout",
     "output_type": "stream",
     "text": [
      "Epoch 1/10\n",
      "804/804 [==============================] - ETA: 0s - loss: 11.8819 - mse: 11.8819\n",
      "Epoch 1: saving model to C:/Users/Shounen/Desktop/Ciclo XI/Tesis 2/GPUTesis/Archivos/Modelos\\Model_20220414_212623.hdf5\n",
      "804/804 [==============================] - 1366s 2s/step - loss: 11.8819 - mse: 11.8819 - val_loss: 11.8189 - val_mse: 11.8189 - _timestamp: 1649990968.0000 - _runtime: 1385.0000\n",
      "Epoch 2/10\n",
      "804/804 [==============================] - ETA: 0s - loss: 11.7621 - mse: 11.7621\n",
      "Epoch 2: saving model to C:/Users/Shounen/Desktop/Ciclo XI/Tesis 2/GPUTesis/Archivos/Modelos\\Model_20220414_212623.hdf5\n",
      "804/804 [==============================] - 1210s 2s/step - loss: 11.7621 - mse: 11.7621 - val_loss: 11.7588 - val_mse: 11.7588 - _timestamp: 1649992178.0000 - _runtime: 2595.0000\n",
      "Epoch 3/10\n",
      "804/804 [==============================] - ETA: 0s - loss: 11.7537 - mse: 11.7537\n",
      "Epoch 3: saving model to C:/Users/Shounen/Desktop/Ciclo XI/Tesis 2/GPUTesis/Archivos/Modelos\\Model_20220414_212623.hdf5\n",
      "804/804 [==============================] - 1360s 2s/step - loss: 11.7537 - mse: 11.7537 - val_loss: 11.7466 - val_mse: 11.7466 - _timestamp: 1649993538.0000 - _runtime: 3955.0000\n",
      "Epoch 4/10\n",
      "804/804 [==============================] - ETA: 0s - loss: 11.7500 - mse: 11.7500\n",
      "Epoch 4: saving model to C:/Users/Shounen/Desktop/Ciclo XI/Tesis 2/GPUTesis/Archivos/Modelos\\Model_20220414_212623.hdf5\n",
      "804/804 [==============================] - 1210s 2s/step - loss: 11.7500 - mse: 11.7500 - val_loss: 11.7368 - val_mse: 11.7368 - _timestamp: 1649994749.0000 - _runtime: 5166.0000\n",
      "Epoch 5/10\n",
      "804/804 [==============================] - ETA: 0s - loss: 11.7464 - mse: 11.7464\n",
      "Epoch 5: saving model to C:/Users/Shounen/Desktop/Ciclo XI/Tesis 2/GPUTesis/Archivos/Modelos\\Model_20220414_212623.hdf5\n",
      "804/804 [==============================] - 1344s 2s/step - loss: 11.7464 - mse: 11.7464 - val_loss: 11.7332 - val_mse: 11.7332 - _timestamp: 1649996092.0000 - _runtime: 6509.0000\n",
      "\n"
     ]
    },
    {
     "data": {
      "text/html": [
       "Waiting for W&B process to finish... <strong style=\"color:green\">(success).</strong>"
      ],
      "text/plain": [
       "<IPython.core.display.HTML object>"
      ]
     },
     "metadata": {},
     "output_type": "display_data"
    },
    {
     "data": {
      "application/vnd.jupyter.widget-view+json": {
       "model_id": "",
       "version_major": 2,
       "version_minor": 0
      },
      "text/plain": [
       "VBox(children=(Label(value='0.730 MB of 0.730 MB uploaded (0.000 MB deduped)\\r'), FloatProgress(value=1.0, max…"
      ]
     },
     "metadata": {},
     "output_type": "display_data"
    },
    {
     "data": {
      "text/html": [
       "<style>\n",
       "    table.wandb td:nth-child(1) { padding: 0 10px; text-align: right }\n",
       "    .wandb-row { display: flex; flex-direction: row; flex-wrap: wrap; width: 100% }\n",
       "    .wandb-col { display: flex; flex-direction: column; flex-basis: 100%; flex: 1; padding: 10px; }\n",
       "    </style>\n",
       "<div class=\"wandb-row\"><div class=\"wandb-col\"><h3>Run history:</h3><br/><table class=\"wandb\"><tr><td>epoch</td><td>▁▃▅▆█</td></tr><tr><td>loss</td><td>█▂▁▁▁</td></tr><tr><td>mse</td><td>█▂▁▁▁</td></tr><tr><td>val_loss</td><td>█▃▂▁▁</td></tr><tr><td>val_mse</td><td>█▃▂▁▁</td></tr></table><br/></div><div class=\"wandb-col\"><h3>Run summary:</h3><br/><table class=\"wandb\"><tr><td>best_epoch</td><td>4</td></tr><tr><td>best_val_loss</td><td>11.73322</td></tr><tr><td>epoch</td><td>4</td></tr><tr><td>loss</td><td>11.74644</td></tr><tr><td>mse</td><td>11.74644</td></tr><tr><td>val_loss</td><td>11.73322</td></tr><tr><td>val_mse</td><td>11.73322</td></tr></table><br/></div></div>"
      ],
      "text/plain": [
       "<IPython.core.display.HTML object>"
      ]
     },
     "metadata": {},
     "output_type": "display_data"
    },
    {
     "data": {
      "text/html": [
       "Synced <strong style=\"color:#cdcd00\">Ex-1_(3-4-110)_20220414_212623</strong>: <a href=\"https://wandb.ai/tesis2/TesisDiegoV2%28dato-1%29/runs/2g19eg0x\" target=\"_blank\">https://wandb.ai/tesis2/TesisDiegoV2%28dato-1%29/runs/2g19eg0x</a><br/>Synced 6 W&B file(s), 1 media file(s), 0 artifact file(s) and 1 other file(s)"
      ],
      "text/plain": [
       "<IPython.core.display.HTML object>"
      ]
     },
     "metadata": {},
     "output_type": "display_data"
    },
    {
     "data": {
      "text/html": [
       "Find logs at: <code>.\\wandb\\run-20220414_212623-2g19eg0x\\logs</code>"
      ],
      "text/plain": [
       "<IPython.core.display.HTML object>"
      ]
     },
     "metadata": {},
     "output_type": "display_data"
    },
    {
     "name": "stdout",
     "output_type": "stream",
     "text": [
      "--------------------------------------------------\n",
      "Inicio de la prueba N°: 4/6\n",
      "Creadno modelo con input (110,110,3)) tipo (dato)\n",
      "DONE\n",
      "Tamaño del dataset: Train 25716  - Val 6430\n",
      "- Batch size:  32\n"
     ]
    },
    {
     "data": {
      "text/html": [
       "wandb version 0.12.14 is available!  To upgrade, please run:\n",
       " $ pip install wandb --upgrade"
      ],
      "text/plain": [
       "<IPython.core.display.HTML object>"
      ]
     },
     "metadata": {},
     "output_type": "display_data"
    },
    {
     "data": {
      "text/html": [
       "Tracking run with wandb version 0.12.11"
      ],
      "text/plain": [
       "<IPython.core.display.HTML object>"
      ]
     },
     "metadata": {},
     "output_type": "display_data"
    },
    {
     "data": {
      "text/html": [
       "Run data is saved locally in <code>C:\\Users\\Shounen\\Desktop\\Ciclo XI\\Tesis 2\\GPUTesis\\Codigo\\Entrenamiento\\Jupyter\\wandb\\run-20220415_094229-5chhct3g</code>"
      ],
      "text/plain": [
       "<IPython.core.display.HTML object>"
      ]
     },
     "metadata": {},
     "output_type": "display_data"
    },
    {
     "data": {
      "text/html": [
       "Syncing run <strong><a href=\"https://wandb.ai/tesis2/TesisDiegoV2%28dato-1%29/runs/5chhct3g\" target=\"_blank\">Ex-1_(3-6-110)_20220415_094229</a></strong> to <a href=\"https://wandb.ai/tesis2/TesisDiegoV2%28dato-1%29\" target=\"_blank\">Weights & Biases</a> (<a href=\"https://wandb.me/run\" target=\"_blank\">docs</a>)<br/>"
      ],
      "text/plain": [
       "<IPython.core.display.HTML object>"
      ]
     },
     "metadata": {},
     "output_type": "display_data"
    },
    {
     "name": "stdout",
     "output_type": "stream",
     "text": [
      "Epoch 1/10\n",
      "804/804 [==============================] - ETA: 0s - loss: 11.6637 - mse: 11.6637\n",
      "Epoch 1: saving model to C:/Users/Shounen/Desktop/Ciclo XI/Tesis 2/GPUTesis/Archivos/Modelos\\Model_20220415_094229.hdf5\n",
      "804/804 [==============================] - 2404s 3s/step - loss: 11.6637 - mse: 11.6637 - val_loss: 11.5602 - val_mse: 11.5602 - _timestamp: 1650036171.0000 - _runtime: 2422.0000\n",
      "Epoch 2/10\n",
      "804/804 [==============================] - ETA: 0s - loss: 11.5347 - mse: 11.5347\n",
      "Epoch 2: saving model to C:/Users/Shounen/Desktop/Ciclo XI/Tesis 2/GPUTesis/Archivos/Modelos\\Model_20220415_094229.hdf5\n",
      "804/804 [==============================] - 1997s 2s/step - loss: 11.5347 - mse: 11.5347 - val_loss: 11.5165 - val_mse: 11.5165 - _timestamp: 1650038169.0000 - _runtime: 4420.0000\n",
      "Epoch 3/10\n",
      "804/804 [==============================] - ETA: 0s - loss: 11.5286 - mse: 11.5286\n",
      "Epoch 3: saving model to C:/Users/Shounen/Desktop/Ciclo XI/Tesis 2/GPUTesis/Archivos/Modelos\\Model_20220415_094229.hdf5\n",
      "804/804 [==============================] - 2245s 3s/step - loss: 11.5286 - mse: 11.5286 - val_loss: 11.5116 - val_mse: 11.5116 - _timestamp: 1650040413.0000 - _runtime: 6664.0000\n",
      "Epoch 4/10\n",
      "804/804 [==============================] - ETA: 0s - loss: 11.5248 - mse: 11.5248\n",
      "Epoch 4: saving model to C:/Users/Shounen/Desktop/Ciclo XI/Tesis 2/GPUTesis/Archivos/Modelos\\Model_20220415_094229.hdf5\n",
      "804/804 [==============================] - 3108s 4s/step - loss: 11.5248 - mse: 11.5248 - val_loss: 11.5090 - val_mse: 11.5090 - _timestamp: 1650043522.0000 - _runtime: 9773.0000\n",
      "Epoch 5/10\n",
      "804/804 [==============================] - ETA: 0s - loss: 11.5229 - mse: 11.5229\n",
      "Epoch 5: saving model to C:/Users/Shounen/Desktop/Ciclo XI/Tesis 2/GPUTesis/Archivos/Modelos\\Model_20220415_094229.hdf5\n",
      "804/804 [==============================] - 2642s 3s/step - loss: 11.5229 - mse: 11.5229 - val_loss: 11.5084 - val_mse: 11.5084 - _timestamp: 1650046164.0000 - _runtime: 12415.0000\n",
      "\n"
     ]
    },
    {
     "data": {
      "text/html": [
       "Waiting for W&B process to finish... <strong style=\"color:green\">(success).</strong>"
      ],
      "text/plain": [
       "<IPython.core.display.HTML object>"
      ]
     },
     "metadata": {},
     "output_type": "display_data"
    },
    {
     "data": {
      "application/vnd.jupyter.widget-view+json": {
       "model_id": "",
       "version_major": 2,
       "version_minor": 0
      },
      "text/plain": [
       "VBox(children=(Label(value='0.730 MB of 0.730 MB uploaded (0.000 MB deduped)\\r'), FloatProgress(value=1.0, max…"
      ]
     },
     "metadata": {},
     "output_type": "display_data"
    },
    {
     "data": {
      "text/html": [
       "<style>\n",
       "    table.wandb td:nth-child(1) { padding: 0 10px; text-align: right }\n",
       "    .wandb-row { display: flex; flex-direction: row; flex-wrap: wrap; width: 100% }\n",
       "    .wandb-col { display: flex; flex-direction: column; flex-basis: 100%; flex: 1; padding: 10px; }\n",
       "    </style>\n",
       "<div class=\"wandb-row\"><div class=\"wandb-col\"><h3>Run history:</h3><br/><table class=\"wandb\"><tr><td>epoch</td><td>▁▃▅▆█</td></tr><tr><td>loss</td><td>█▂▁▁▁</td></tr><tr><td>mse</td><td>█▂▁▁▁</td></tr><tr><td>val_loss</td><td>█▂▁▁▁</td></tr><tr><td>val_mse</td><td>█▂▁▁▁</td></tr></table><br/></div><div class=\"wandb-col\"><h3>Run summary:</h3><br/><table class=\"wandb\"><tr><td>best_epoch</td><td>4</td></tr><tr><td>best_val_loss</td><td>11.50844</td></tr><tr><td>epoch</td><td>4</td></tr><tr><td>loss</td><td>11.52286</td></tr><tr><td>mse</td><td>11.52286</td></tr><tr><td>val_loss</td><td>11.50844</td></tr><tr><td>val_mse</td><td>11.50844</td></tr></table><br/></div></div>"
      ],
      "text/plain": [
       "<IPython.core.display.HTML object>"
      ]
     },
     "metadata": {},
     "output_type": "display_data"
    },
    {
     "data": {
      "text/html": [
       "Synced <strong style=\"color:#cdcd00\">Ex-1_(3-6-110)_20220415_094229</strong>: <a href=\"https://wandb.ai/tesis2/TesisDiegoV2%28dato-1%29/runs/5chhct3g\" target=\"_blank\">https://wandb.ai/tesis2/TesisDiegoV2%28dato-1%29/runs/5chhct3g</a><br/>Synced 6 W&B file(s), 1 media file(s), 0 artifact file(s) and 1 other file(s)"
      ],
      "text/plain": [
       "<IPython.core.display.HTML object>"
      ]
     },
     "metadata": {},
     "output_type": "display_data"
    },
    {
     "data": {
      "text/html": [
       "Find logs at: <code>.\\wandb\\run-20220415_094229-5chhct3g\\logs</code>"
      ],
      "text/plain": [
       "<IPython.core.display.HTML object>"
      ]
     },
     "metadata": {},
     "output_type": "display_data"
    },
    {
     "name": "stdout",
     "output_type": "stream",
     "text": [
      "--------------------------------------------------\n",
      "Inicio de la prueba N°: 5/6\n",
      "Creadno modelo con input (70,70,3)) tipo (dato)\n",
      "DONE\n",
      "Tamaño del dataset: Train 25716  - Val 6430\n",
      "- Batch size:  32\n"
     ]
    },
    {
     "data": {
      "text/html": [
       "wandb version 0.12.14 is available!  To upgrade, please run:\n",
       " $ pip install wandb --upgrade"
      ],
      "text/plain": [
       "<IPython.core.display.HTML object>"
      ]
     },
     "metadata": {},
     "output_type": "display_data"
    },
    {
     "data": {
      "text/html": [
       "Tracking run with wandb version 0.12.11"
      ],
      "text/plain": [
       "<IPython.core.display.HTML object>"
      ]
     },
     "metadata": {},
     "output_type": "display_data"
    },
    {
     "data": {
      "text/html": [
       "Run data is saved locally in <code>C:\\Users\\Shounen\\Desktop\\Ciclo XI\\Tesis 2\\GPUTesis\\Codigo\\Entrenamiento\\Jupyter\\wandb\\run-20220415_130931-6by0kncq</code>"
      ],
      "text/plain": [
       "<IPython.core.display.HTML object>"
      ]
     },
     "metadata": {},
     "output_type": "display_data"
    },
    {
     "data": {
      "text/html": [
       "Syncing run <strong><a href=\"https://wandb.ai/tesis2/TesisDiegoV2%28dato-1%29/runs/6by0kncq\" target=\"_blank\">Ex-1_(3-4-70)_20220415_130931</a></strong> to <a href=\"https://wandb.ai/tesis2/TesisDiegoV2%28dato-1%29\" target=\"_blank\">Weights & Biases</a> (<a href=\"https://wandb.me/run\" target=\"_blank\">docs</a>)<br/>"
      ],
      "text/plain": [
       "<IPython.core.display.HTML object>"
      ]
     },
     "metadata": {},
     "output_type": "display_data"
    },
    {
     "name": "stdout",
     "output_type": "stream",
     "text": [
      "Epoch 1/10\n",
      "804/804 [==============================] - ETA: 0s - loss: 12.0984 - mse: 12.0984\n",
      "Epoch 1: saving model to C:/Users/Shounen/Desktop/Ciclo XI/Tesis 2/GPUTesis/Archivos/Modelos\\Model_20220415_130931.hdf5\n",
      "804/804 [==============================] - 2009s 2s/step - loss: 12.0984 - mse: 12.0984 - val_loss: 11.9842 - val_mse: 11.9842 - _timestamp: 1650048196.0000 - _runtime: 2024.0000\n",
      "Epoch 2/10\n",
      "804/804 [==============================] - ETA: 0s - loss: 11.9836 - mse: 11.9836\n",
      "Epoch 2: saving model to C:/Users/Shounen/Desktop/Ciclo XI/Tesis 2/GPUTesis/Archivos/Modelos\\Model_20220415_130931.hdf5\n",
      "804/804 [==============================] - 1868s 2s/step - loss: 11.9836 - mse: 11.9836 - val_loss: 11.9609 - val_mse: 11.9609 - _timestamp: 1650050064.0000 - _runtime: 3892.0000\n",
      "Epoch 3/10\n",
      "804/804 [==============================] - ETA: 0s - loss: 11.9784 - mse: 11.9784\n",
      "Epoch 3: saving model to C:/Users/Shounen/Desktop/Ciclo XI/Tesis 2/GPUTesis/Archivos/Modelos\\Model_20220415_130931.hdf5\n",
      "804/804 [==============================] - 1632s 2s/step - loss: 11.9784 - mse: 11.9784 - val_loss: 11.9596 - val_mse: 11.9596 - _timestamp: 1650051696.0000 - _runtime: 5524.0000\n",
      "Epoch 4/10\n",
      "804/804 [==============================] - ETA: 0s - loss: 11.9745 - mse: 11.9745\n",
      "Epoch 4: saving model to C:/Users/Shounen/Desktop/Ciclo XI/Tesis 2/GPUTesis/Archivos/Modelos\\Model_20220415_130931.hdf5\n",
      "804/804 [==============================] - 1927s 2s/step - loss: 11.9745 - mse: 11.9745 - val_loss: 11.9597 - val_mse: 11.9597 - _timestamp: 1650053623.0000 - _runtime: 7451.0000\n",
      "Epoch 5/10\n",
      "804/804 [==============================] - ETA: 0s - loss: 11.9722 - mse: 11.9722\n",
      "Epoch 5: saving model to C:/Users/Shounen/Desktop/Ciclo XI/Tesis 2/GPUTesis/Archivos/Modelos\\Model_20220415_130931.hdf5\n",
      "804/804 [==============================] - 1201s 1s/step - loss: 11.9722 - mse: 11.9722 - val_loss: 11.9627 - val_mse: 11.9627 - _timestamp: 1650054824.0000 - _runtime: 8652.0000\n",
      "\n"
     ]
    },
    {
     "data": {
      "text/html": [
       "Waiting for W&B process to finish... <strong style=\"color:green\">(success).</strong>"
      ],
      "text/plain": [
       "<IPython.core.display.HTML object>"
      ]
     },
     "metadata": {},
     "output_type": "display_data"
    },
    {
     "data": {
      "application/vnd.jupyter.widget-view+json": {
       "model_id": "",
       "version_major": 2,
       "version_minor": 0
      },
      "text/plain": [
       "VBox(children=(Label(value='0.437 MB of 0.437 MB uploaded (0.000 MB deduped)\\r'), FloatProgress(value=1.0, max…"
      ]
     },
     "metadata": {},
     "output_type": "display_data"
    },
    {
     "data": {
      "text/html": [
       "<style>\n",
       "    table.wandb td:nth-child(1) { padding: 0 10px; text-align: right }\n",
       "    .wandb-row { display: flex; flex-direction: row; flex-wrap: wrap; width: 100% }\n",
       "    .wandb-col { display: flex; flex-direction: column; flex-basis: 100%; flex: 1; padding: 10px; }\n",
       "    </style>\n",
       "<div class=\"wandb-row\"><div class=\"wandb-col\"><h3>Run history:</h3><br/><table class=\"wandb\"><tr><td>epoch</td><td>▁▃▅▆█</td></tr><tr><td>loss</td><td>█▂▁▁▁</td></tr><tr><td>mse</td><td>█▂▁▁▁</td></tr><tr><td>val_loss</td><td>█▁▁▁▂</td></tr><tr><td>val_mse</td><td>█▁▁▁▂</td></tr></table><br/></div><div class=\"wandb-col\"><h3>Run summary:</h3><br/><table class=\"wandb\"><tr><td>best_epoch</td><td>2</td></tr><tr><td>best_val_loss</td><td>11.95962</td></tr><tr><td>epoch</td><td>4</td></tr><tr><td>loss</td><td>11.97225</td></tr><tr><td>mse</td><td>11.97225</td></tr><tr><td>val_loss</td><td>11.96268</td></tr><tr><td>val_mse</td><td>11.96268</td></tr></table><br/></div></div>"
      ],
      "text/plain": [
       "<IPython.core.display.HTML object>"
      ]
     },
     "metadata": {},
     "output_type": "display_data"
    },
    {
     "data": {
      "text/html": [
       "Synced <strong style=\"color:#cdcd00\">Ex-1_(3-4-70)_20220415_130931</strong>: <a href=\"https://wandb.ai/tesis2/TesisDiegoV2%28dato-1%29/runs/6by0kncq\" target=\"_blank\">https://wandb.ai/tesis2/TesisDiegoV2%28dato-1%29/runs/6by0kncq</a><br/>Synced 6 W&B file(s), 1 media file(s), 0 artifact file(s) and 1 other file(s)"
      ],
      "text/plain": [
       "<IPython.core.display.HTML object>"
      ]
     },
     "metadata": {},
     "output_type": "display_data"
    },
    {
     "data": {
      "text/html": [
       "Find logs at: <code>.\\wandb\\run-20220415_130931-6by0kncq\\logs</code>"
      ],
      "text/plain": [
       "<IPython.core.display.HTML object>"
      ]
     },
     "metadata": {},
     "output_type": "display_data"
    },
    {
     "name": "stdout",
     "output_type": "stream",
     "text": [
      "--------------------------------------------------\n",
      "Inicio de la prueba N°: 6/6\n",
      "Creadno modelo con input (70,70,3)) tipo (dato)\n",
      "DONE\n",
      "Tamaño del dataset: Train 25716  - Val 6430\n",
      "- Batch size:  32\n"
     ]
    },
    {
     "data": {
      "text/html": [
       "wandb version 0.12.14 is available!  To upgrade, please run:\n",
       " $ pip install wandb --upgrade"
      ],
      "text/plain": [
       "<IPython.core.display.HTML object>"
      ]
     },
     "metadata": {},
     "output_type": "display_data"
    },
    {
     "data": {
      "text/html": [
       "Tracking run with wandb version 0.12.11"
      ],
      "text/plain": [
       "<IPython.core.display.HTML object>"
      ]
     },
     "metadata": {},
     "output_type": "display_data"
    },
    {
     "data": {
      "text/html": [
       "Run data is saved locally in <code>C:\\Users\\Shounen\\Desktop\\Ciclo XI\\Tesis 2\\GPUTesis\\Codigo\\Entrenamiento\\Jupyter\\wandb\\run-20220415_153352-31mvvg93</code>"
      ],
      "text/plain": [
       "<IPython.core.display.HTML object>"
      ]
     },
     "metadata": {},
     "output_type": "display_data"
    },
    {
     "data": {
      "text/html": [
       "Syncing run <strong><a href=\"https://wandb.ai/tesis2/TesisDiegoV2%28dato-1%29/runs/31mvvg93\" target=\"_blank\">Ex-1_(3-6-70)_20220415_153352</a></strong> to <a href=\"https://wandb.ai/tesis2/TesisDiegoV2%28dato-1%29\" target=\"_blank\">Weights & Biases</a> (<a href=\"https://wandb.me/run\" target=\"_blank\">docs</a>)<br/>"
      ],
      "text/plain": [
       "<IPython.core.display.HTML object>"
      ]
     },
     "metadata": {},
     "output_type": "display_data"
    },
    {
     "name": "stdout",
     "output_type": "stream",
     "text": [
      "Epoch 1/10\n",
      "804/804 [==============================] - ETA: 0s - loss: 11.3143 - mse: 11.3143\n",
      "Epoch 1: saving model to C:/Users/Shounen/Desktop/Ciclo XI/Tesis 2/GPUTesis/Archivos/Modelos\\Model_20220415_153352.hdf5\n",
      "804/804 [==============================] - 2163s 3s/step - loss: 11.3143 - mse: 11.3143 - val_loss: 11.4147 - val_mse: 11.4147 - _timestamp: 1650057013.0000 - _runtime: 2181.0000\n",
      "Epoch 2/10\n",
      "804/804 [==============================] - ETA: 0s - loss: 11.1840 - mse: 11.1840\n",
      "Epoch 2: saving model to C:/Users/Shounen/Desktop/Ciclo XI/Tesis 2/GPUTesis/Archivos/Modelos\\Model_20220415_153352.hdf5\n",
      "804/804 [==============================] - 2316s 3s/step - loss: 11.1840 - mse: 11.1840 - val_loss: 11.2352 - val_mse: 11.2352 - _timestamp: 1650059329.0000 - _runtime: 4497.0000\n",
      "Epoch 3/10\n",
      "804/804 [==============================] - ETA: 0s - loss: 11.1662 - mse: 11.1662\n",
      "Epoch 3: saving model to C:/Users/Shounen/Desktop/Ciclo XI/Tesis 2/GPUTesis/Archivos/Modelos\\Model_20220415_153352.hdf5\n",
      "804/804 [==============================] - 2199s 3s/step - loss: 11.1662 - mse: 11.1662 - val_loss: 11.2261 - val_mse: 11.2261 - _timestamp: 1650061528.0000 - _runtime: 6696.0000\n",
      "Epoch 4/10\n",
      "804/804 [==============================] - ETA: 0s - loss: 11.1653 - mse: 11.1653\n",
      "Epoch 4: saving model to C:/Users/Shounen/Desktop/Ciclo XI/Tesis 2/GPUTesis/Archivos/Modelos\\Model_20220415_153352.hdf5\n",
      "804/804 [==============================] - 2528s 3s/step - loss: 11.1653 - mse: 11.1653 - val_loss: 11.2259 - val_mse: 11.2259 - _timestamp: 1650064056.0000 - _runtime: 9224.0000\n",
      "Epoch 5/10\n",
      "804/804 [==============================] - ETA: 0s - loss: 11.1619 - mse: 11.1619\n",
      "Epoch 5: saving model to C:/Users/Shounen/Desktop/Ciclo XI/Tesis 2/GPUTesis/Archivos/Modelos\\Model_20220415_153352.hdf5\n",
      "804/804 [==============================] - 2219s 3s/step - loss: 11.1619 - mse: 11.1619 - val_loss: 11.2109 - val_mse: 11.2109 - _timestamp: 1650066275.0000 - _runtime: 11443.0000\n",
      "\n"
     ]
    },
    {
     "data": {
      "text/html": [
       "Waiting for W&B process to finish... <strong style=\"color:green\">(success).</strong>"
      ],
      "text/plain": [
       "<IPython.core.display.HTML object>"
      ]
     },
     "metadata": {},
     "output_type": "display_data"
    },
    {
     "data": {
      "application/vnd.jupyter.widget-view+json": {
       "model_id": "",
       "version_major": 2,
       "version_minor": 0
      },
      "text/plain": [
       "VBox(children=(Label(value='0.437 MB of 0.437 MB uploaded (0.000 MB deduped)\\r'), FloatProgress(value=1.0, max…"
      ]
     },
     "metadata": {},
     "output_type": "display_data"
    },
    {
     "data": {
      "text/html": [
       "<style>\n",
       "    table.wandb td:nth-child(1) { padding: 0 10px; text-align: right }\n",
       "    .wandb-row { display: flex; flex-direction: row; flex-wrap: wrap; width: 100% }\n",
       "    .wandb-col { display: flex; flex-direction: column; flex-basis: 100%; flex: 1; padding: 10px; }\n",
       "    </style>\n",
       "<div class=\"wandb-row\"><div class=\"wandb-col\"><h3>Run history:</h3><br/><table class=\"wandb\"><tr><td>epoch</td><td>▁▃▅▆█</td></tr><tr><td>loss</td><td>█▂▁▁▁</td></tr><tr><td>mse</td><td>█▂▁▁▁</td></tr><tr><td>val_loss</td><td>█▂▂▂▁</td></tr><tr><td>val_mse</td><td>█▂▂▂▁</td></tr></table><br/></div><div class=\"wandb-col\"><h3>Run summary:</h3><br/><table class=\"wandb\"><tr><td>best_epoch</td><td>4</td></tr><tr><td>best_val_loss</td><td>11.21093</td></tr><tr><td>epoch</td><td>4</td></tr><tr><td>loss</td><td>11.16194</td></tr><tr><td>mse</td><td>11.16194</td></tr><tr><td>val_loss</td><td>11.21093</td></tr><tr><td>val_mse</td><td>11.21093</td></tr></table><br/></div></div>"
      ],
      "text/plain": [
       "<IPython.core.display.HTML object>"
      ]
     },
     "metadata": {},
     "output_type": "display_data"
    },
    {
     "data": {
      "text/html": [
       "Synced <strong style=\"color:#cdcd00\">Ex-1_(3-6-70)_20220415_153352</strong>: <a href=\"https://wandb.ai/tesis2/TesisDiegoV2%28dato-1%29/runs/31mvvg93\" target=\"_blank\">https://wandb.ai/tesis2/TesisDiegoV2%28dato-1%29/runs/31mvvg93</a><br/>Synced 6 W&B file(s), 1 media file(s), 0 artifact file(s) and 1 other file(s)"
      ],
      "text/plain": [
       "<IPython.core.display.HTML object>"
      ]
     },
     "metadata": {},
     "output_type": "display_data"
    },
    {
     "data": {
      "text/html": [
       "Find logs at: <code>.\\wandb\\run-20220415_153352-31mvvg93\\logs</code>"
      ],
      "text/plain": [
       "<IPython.core.display.HTML object>"
      ]
     },
     "metadata": {},
     "output_type": "display_data"
    },
    {
     "name": "stdout",
     "output_type": "stream",
     "text": [
      "CPU times: total: 5d 11h 46min 4s\n",
      "Wall time: 1d 2h 29min 57s\n"
     ]
    }
   ],
   "source": [
    "%%time\n",
    "#Solo imagenes (dato)\n",
    "resultados = trainModel(params,_dataset,path_imagenes,path_base,products,times, graficos=1)"
   ]
  },
  {
   "cell_type": "code",
   "execution_count": null,
   "id": "a7bdeb85",
   "metadata": {},
   "outputs": [],
   "source": []
  }
 ],
 "metadata": {
  "kernelspec": {
   "display_name": "Python 3 (ipykernel)",
   "language": "python",
   "name": "python3"
  },
  "language_info": {
   "codemirror_mode": {
    "name": "ipython",
    "version": 3
   },
   "file_extension": ".py",
   "mimetype": "text/x-python",
   "name": "python",
   "nbconvert_exporter": "python",
   "pygments_lexer": "ipython3",
   "version": "3.9.11"
  }
 },
 "nbformat": 4,
 "nbformat_minor": 5
}
